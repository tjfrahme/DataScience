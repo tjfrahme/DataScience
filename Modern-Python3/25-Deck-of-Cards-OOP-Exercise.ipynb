{
 "cells": [
  {
   "cell_type": "code",
   "execution_count": null,
   "metadata": {},
   "outputs": [],
   "source": [
    "#Deck of Cards Exercise Introduction Text\n",
    "# Card Class\n",
    "\n",
    "# Each instance of Card  should have a suit \n",
    "# (\"Hearts\", \"Diamonds\", \"Clubs\", or \"Spades\").\n",
    "\n",
    "# Each instance of Card  should have a value \n",
    "# (\"A\", \"2\", \"3\", \"4\", \"5\", \"6\", \"7\", \"8\", \"9\", \"10\", \"J\", \"Q\", \"K\").\n",
    "\n",
    "# Card 's __repr__  method should return the card's value and suit (e.g. \"A of Clubs\", \"J of Diamonds\", etc.)"
   ]
  },
  {
   "cell_type": "code",
   "execution_count": 386,
   "metadata": {},
   "outputs": [],
   "source": [
    "class Card:\n",
    "    \n",
    "    allowed_suit = [\"Hearts\", \"Diamonds\", \"Clubs\", \"Spades\"]\n",
    "    allowed_value = [\"A\", \"2\", \"3\", \"4\", \"5\", \"6\", \"7\", \"8\", \"9\", \"10\", \"J\", \"Q\", \"K\"]\n",
    "    \n",
    "    def __init__(self, suit, value):\n",
    "        if suit not in Card.allowed_suit:\n",
    "            raise ValueError(\"You can't have a {} suit\".format(suit))\n",
    "        if value not in Card.allowed_value:\n",
    "            raise ValueError(\"You can't have a {} value\".format(value))\n",
    "        self.suit = suit\n",
    "        self.value = value\n",
    "        \n",
    "    def __repr__(self):\n",
    "        return (\"{} of {}\".format(self.value, self.suit))"
   ]
  },
  {
   "cell_type": "code",
   "execution_count": 55,
   "metadata": {},
   "outputs": [],
   "source": [
    "card1 = Card(\"Hearts\", \"A\")"
   ]
  },
  {
   "cell_type": "code",
   "execution_count": 56,
   "metadata": {},
   "outputs": [
    {
     "data": {
      "text/plain": [
       "A of Hearts"
      ]
     },
     "execution_count": 56,
     "metadata": {},
     "output_type": "execute_result"
    }
   ],
   "source": [
    "card1"
   ]
  },
  {
   "cell_type": "code",
   "execution_count": 22,
   "metadata": {},
   "outputs": [
    {
     "ename": "ValueError",
     "evalue": "You can't have a Black suit",
     "output_type": "error",
     "traceback": [
      "\u001b[1;31m---------------------------------------------------------------------------\u001b[0m",
      "\u001b[1;31mValueError\u001b[0m                                Traceback (most recent call last)",
      "\u001b[1;32m<ipython-input-22-e0bc403f837e>\u001b[0m in \u001b[0;36m<module>\u001b[1;34m()\u001b[0m\n\u001b[1;32m----> 1\u001b[1;33m \u001b[0mcard2\u001b[0m \u001b[1;33m=\u001b[0m \u001b[0mCard\u001b[0m\u001b[1;33m(\u001b[0m\u001b[1;34m\"Black\"\u001b[0m\u001b[1;33m,\u001b[0m \u001b[1;34m\"2\"\u001b[0m\u001b[1;33m)\u001b[0m\u001b[1;33m\u001b[0m\u001b[0m\n\u001b[0m",
      "\u001b[1;32m<ipython-input-18-9d435a16a65c>\u001b[0m in \u001b[0;36m__init__\u001b[1;34m(self, suit, value)\u001b[0m\n\u001b[0;32m      6\u001b[0m     \u001b[1;32mdef\u001b[0m \u001b[0m__init__\u001b[0m\u001b[1;33m(\u001b[0m\u001b[0mself\u001b[0m\u001b[1;33m,\u001b[0m \u001b[0msuit\u001b[0m\u001b[1;33m,\u001b[0m \u001b[0mvalue\u001b[0m\u001b[1;33m)\u001b[0m\u001b[1;33m:\u001b[0m\u001b[1;33m\u001b[0m\u001b[0m\n\u001b[0;32m      7\u001b[0m         \u001b[1;32mif\u001b[0m \u001b[0msuit\u001b[0m \u001b[1;32mnot\u001b[0m \u001b[1;32min\u001b[0m \u001b[0mCard\u001b[0m\u001b[1;33m.\u001b[0m\u001b[0mallowed_suit\u001b[0m\u001b[1;33m:\u001b[0m\u001b[1;33m\u001b[0m\u001b[0m\n\u001b[1;32m----> 8\u001b[1;33m             \u001b[1;32mraise\u001b[0m \u001b[0mValueError\u001b[0m\u001b[1;33m(\u001b[0m\u001b[1;34m\"You can't have a {} suit\"\u001b[0m\u001b[1;33m.\u001b[0m\u001b[0mformat\u001b[0m\u001b[1;33m(\u001b[0m\u001b[0msuit\u001b[0m\u001b[1;33m)\u001b[0m\u001b[1;33m)\u001b[0m\u001b[1;33m\u001b[0m\u001b[0m\n\u001b[0m\u001b[0;32m      9\u001b[0m         \u001b[1;32mif\u001b[0m \u001b[0mvalue\u001b[0m \u001b[1;32mnot\u001b[0m \u001b[1;32min\u001b[0m \u001b[0mCard\u001b[0m\u001b[1;33m.\u001b[0m\u001b[0mallowed_value\u001b[0m\u001b[1;33m:\u001b[0m\u001b[1;33m\u001b[0m\u001b[0m\n\u001b[0;32m     10\u001b[0m             \u001b[1;32mraise\u001b[0m \u001b[0mValueError\u001b[0m\u001b[1;33m(\u001b[0m\u001b[1;34m\"You can't have a {} value\"\u001b[0m\u001b[1;33m.\u001b[0m\u001b[0mformat\u001b[0m\u001b[1;33m(\u001b[0m\u001b[0mvalue\u001b[0m\u001b[1;33m)\u001b[0m\u001b[1;33m)\u001b[0m\u001b[1;33m\u001b[0m\u001b[0m\n",
      "\u001b[1;31mValueError\u001b[0m: You can't have a Black suit"
     ]
    }
   ],
   "source": [
    "card2 = Card(\"Black\", \"2\")"
   ]
  },
  {
   "cell_type": "code",
   "execution_count": 24,
   "metadata": {},
   "outputs": [],
   "source": [
    "# Deck Class \n",
    "\n",
    "# Each instance of Deck  should have a cards attribute with all 52 \n",
    "# possible instances of Card .\n",
    "\n",
    "# Deck  should have an instance method called count  which returns \n",
    "# a count of how many cards remain in the deck.\n",
    "\n",
    "# Deck 's __repr__  method should return information on how many cards \n",
    "# are in the deck (e.g. \"Deck of 52 cards\", \"Deck of 12 cards\", etc.)\n",
    "\n",
    "# Deck  should have an instance method called _deal  which accepts a \n",
    "# number and removes at most that many cards from the deck (it may need \n",
    "# to remove fewer if you request more cards than are currently in the deck!). \n",
    "# If there are no cards left, this method should return a ValueError  \n",
    "# with the message \"All cards have been dealt\".\n",
    "\n",
    "# Deck  should have an instance method called shuffle  which will shuffle \n",
    "# a full deck of cards. If there are cards missing from the deck, this \n",
    "# method should return a ValueError  with the message \"Only full decks can \n",
    "# be shuffled\".  shuffle should return the shuffled deck.\n",
    "\n",
    "# Deck  should have an instance method called deal_card  which uses \n",
    "# the _deal  method to deal a single card from the deck and return that \n",
    "# single card.\n",
    "\n",
    "# Deck  should have an instance method called deal_hand  which accepts a\n",
    "# number and uses the _deal  method to deal a list of cards from the deck \n",
    "# and return that list of cards."
   ]
  },
  {
   "cell_type": "code",
   "execution_count": 439,
   "metadata": {},
   "outputs": [],
   "source": [
    "class Deck:\n",
    "    \n",
    "    def __init__(self):\n",
    "        suits = [\"Hearts\", \"Diamonds\", \"Clubs\", \"Spades\"]\n",
    "        values = [\"A\", \"2\", \"3\", \"4\", \"5\", \"6\", \"7\", \"8\", \"9\", \"10\", \"J\", \"Q\", \"K\"]\n",
    "        self.cards = [Card(s, v) for s in suits for v in values]\n",
    "        self.qty_in_deck = len(self.cards)\n",
    "    \n",
    "    \n",
    "    def __repr__(self):\n",
    "        return (\"Deck of {}\".format(self.qty_in_deck))\n",
    "    \n",
    "    # Instance Methods\n",
    "    def count(self):\n",
    "        return len(self.cards)\n",
    "    \n",
    "    def _deal(self, qty):\n",
    "        special_list = []\n",
    "        deal_cards = qty\n",
    "        if self.count() == 0:\n",
    "            raise ValueError ('All cards have been dealt')\n",
    "        \n",
    "        if qty > self.qty_in_deck:\n",
    "            deal_cards = self.qty_in_deck\n",
    "        \n",
    "        counter = 0\n",
    "        while counter < deal_cards:\n",
    "            counter += 1\n",
    "            self.qty_in_deck -= 1\n",
    "            special_list.append(self.cards.pop())\n",
    "        return special_list\n",
    "    \n",
    "    def shuffle(self):\n",
    "        if self.qty_in_deck != 52:\n",
    "            raise ValueError ('Only full decks can be shuffled')\n",
    "        else:\n",
    "            random.shuffle(self.cards)\n",
    "\n",
    "    def deal_card(self):\n",
    "        return Deck._deal(self,1)\n",
    "    \n",
    "    def deal_hand(self,qty):\n",
    "        return Deck._deal(self,qty)"
   ]
  },
  {
   "cell_type": "code",
   "execution_count": 440,
   "metadata": {},
   "outputs": [],
   "source": [
    "deck1 = Deck()"
   ]
  },
  {
   "cell_type": "code",
   "execution_count": 441,
   "metadata": {},
   "outputs": [
    {
     "data": {
      "text/plain": [
       "Deck of 52"
      ]
     },
     "execution_count": 441,
     "metadata": {},
     "output_type": "execute_result"
    }
   ],
   "source": [
    "deck1"
   ]
  },
  {
   "cell_type": "code",
   "execution_count": 442,
   "metadata": {},
   "outputs": [
    {
     "data": {
      "text/plain": [
       "52"
      ]
     },
     "execution_count": 442,
     "metadata": {},
     "output_type": "execute_result"
    }
   ],
   "source": [
    "deck1.count()"
   ]
  },
  {
   "cell_type": "code",
   "execution_count": 443,
   "metadata": {},
   "outputs": [
    {
     "data": {
      "text/plain": [
       "[K of Spades, Q of Spades]"
      ]
     },
     "execution_count": 443,
     "metadata": {},
     "output_type": "execute_result"
    }
   ],
   "source": [
    "deck1._deal(2)"
   ]
  },
  {
   "cell_type": "code",
   "execution_count": 444,
   "metadata": {},
   "outputs": [
    {
     "data": {
      "text/plain": [
       "[J of Spades]"
      ]
     },
     "execution_count": 444,
     "metadata": {},
     "output_type": "execute_result"
    }
   ],
   "source": [
    "deck1.deal_card()"
   ]
  },
  {
   "cell_type": "code",
   "execution_count": 445,
   "metadata": {},
   "outputs": [
    {
     "data": {
      "text/plain": [
       "[10 of Spades, 9 of Spades, 8 of Spades, 7 of Spades, 6 of Spades]"
      ]
     },
     "execution_count": 445,
     "metadata": {},
     "output_type": "execute_result"
    }
   ],
   "source": [
    "deck1.deal_hand(5)"
   ]
  },
  {
   "cell_type": "code",
   "execution_count": 446,
   "metadata": {},
   "outputs": [
    {
     "data": {
      "text/plain": [
       "K of Spades"
      ]
     },
     "execution_count": 446,
     "metadata": {},
     "output_type": "execute_result"
    }
   ],
   "source": [
    "Card(\"Spades\", \"K\")"
   ]
  },
  {
   "cell_type": "code",
   "execution_count": null,
   "metadata": {},
   "outputs": [],
   "source": []
  },
  {
   "cell_type": "code",
   "execution_count": null,
   "metadata": {},
   "outputs": [],
   "source": [
    "#Alt Way"
   ]
  },
  {
   "cell_type": "code",
   "execution_count": 59,
   "metadata": {},
   "outputs": [],
   "source": [
    "allowed_suit = [\"Hearts\", \"Diamonds\", \"Clubs\", \"Spades\"]\n",
    "allowed_value = [\"A\", \"2\", \"3\", \"4\", \"5\", \"6\", \"7\", \"8\", \"9\", \"10\", \"J\", \"Q\", \"K\"]\n",
    "   \n",
    "my_deck = []\n",
    "for suit in allowed_suit:\n",
    "    for value in allowed_value:\n",
    "        my_deck.append([suit, value])\n"
   ]
  },
  {
   "cell_type": "code",
   "execution_count": 432,
   "metadata": {},
   "outputs": [],
   "source": [
    "import random\n",
    "\n",
    "class Deck:\n",
    "    \n",
    "    my_deck = [['Hearts', 'A'],\n",
    " ['Hearts', '2'],\n",
    " ['Hearts', '3'],\n",
    " ['Hearts', '4'],\n",
    " ['Hearts', '5'],\n",
    " ['Hearts', '6'],\n",
    " ['Hearts', '7'],\n",
    " ['Hearts', '8'],\n",
    " ['Hearts', '9'],\n",
    " ['Hearts', '10'],\n",
    " ['Hearts', 'J'],\n",
    " ['Hearts', 'Q'],\n",
    " ['Hearts', 'K'],\n",
    " ['Diamonds', 'A'],\n",
    " ['Diamonds', '2'],\n",
    " ['Diamonds', '3'],\n",
    " ['Diamonds', '4'],\n",
    " ['Diamonds', '5'],\n",
    " ['Diamonds', '6'],\n",
    " ['Diamonds', '7'],\n",
    " ['Diamonds', '8'],\n",
    " ['Diamonds', '9'],\n",
    " ['Diamonds', '10'],\n",
    " ['Diamonds', 'J'],\n",
    " ['Diamonds', 'Q'],\n",
    " ['Diamonds', 'K'],\n",
    " ['Clubs', 'A'],\n",
    " ['Clubs', '2'],\n",
    " ['Clubs', '3'],\n",
    " ['Clubs', '4'],\n",
    " ['Clubs', '5'],\n",
    " ['Clubs', '6'],\n",
    " ['Clubs', '7'],\n",
    " ['Clubs', '8'],\n",
    " ['Clubs', '9'],\n",
    " ['Clubs', '10'],\n",
    " ['Clubs', 'J'],\n",
    " ['Clubs', 'Q'],\n",
    " ['Clubs', 'K'],\n",
    " ['Spades', 'A'],\n",
    " ['Spades', '2'],\n",
    " ['Spades', '3'],\n",
    " ['Spades', '4'],\n",
    " ['Spades', '5'],\n",
    " ['Spades', '6'],\n",
    " ['Spades', '7'],\n",
    " ['Spades', '8'],\n",
    " ['Spades', '9'],\n",
    " ['Spades', '10'],\n",
    " ['Spades', 'J'],\n",
    " ['Spades', 'Q'],\n",
    " ['Spades', 'K']]\n",
    "    qty_in_deck = len(my_deck)\n",
    "    \n",
    "    def __init__(self):\n",
    "        pass\n",
    "        \n",
    "    def __repr__(self):\n",
    "        return (\"Deck of {}\".format(self.qty_in_deck))\n",
    "    \n",
    "    # Instance Method\n",
    "    def count(self):\n",
    "        return self.qty_in_deck\n",
    "    \n",
    "    def _deal(self, qty):\n",
    "        special_list = []\n",
    "        deal_cards = qty\n",
    "        if self.qty_in_deck  == 0:\n",
    "            raise ValueError ('All cards have been dealt')\n",
    "        \n",
    "        if qty > self.qty_in_deck:\n",
    "            deal_cards = self.qty_in_deck\n",
    "        \n",
    "        counter = 0\n",
    "        while counter < deal_cards:\n",
    "            counter += 1\n",
    "            self.qty_in_deck -= 1\n",
    "            special_list.append(self.my_deck.pop())\n",
    "        return special_list\n",
    "    \n",
    "    def shuffle(self):\n",
    "        if self.qty_in_deck != 52:\n",
    "            raise ValueError ('Only full decks can be shuffled')\n",
    "        else:\n",
    "            random.shuffle(self.my_deck)\n",
    "\n",
    "    def deal_card(self):\n",
    "        return Deck._deal(self,1)\n",
    "    \n",
    "    def deal_hand(self,qty):\n",
    "        return Deck._deal(self,qty)"
   ]
  },
  {
   "cell_type": "code",
   "execution_count": null,
   "metadata": {},
   "outputs": [],
   "source": []
  }
 ],
 "metadata": {
  "kernelspec": {
   "display_name": "Python 3",
   "language": "python",
   "name": "python3"
  },
  "language_info": {
   "codemirror_mode": {
    "name": "ipython",
    "version": 3
   },
   "file_extension": ".py",
   "mimetype": "text/x-python",
   "name": "python",
   "nbconvert_exporter": "python",
   "pygments_lexer": "ipython3",
   "version": "3.7.0"
  }
 },
 "nbformat": 4,
 "nbformat_minor": 2
}
