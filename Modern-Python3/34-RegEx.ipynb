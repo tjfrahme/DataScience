{
 "cells": [
  {
   "cell_type": "code",
   "execution_count": 1,
   "metadata": {},
   "outputs": [],
   "source": [
    "#  https://pythex.org/  to check your regex expressions\n",
    "\n",
    "#  \\   is escape to a character\n",
    "# \\d   any digit 0 - 9\n",
    "# \\w   letter, digit or underscore\n",
    "# \\s   whitespace character\n",
    "# \\D   not a digit\n",
    "# \\W   not a word character\n",
    "# \\S   not a whitespace character\n",
    "#  .   any character except line break"
   ]
  },
  {
   "cell_type": "code",
   "execution_count": 2,
   "metadata": {},
   "outputs": [],
   "source": [
    "# Quantifiers\n",
    "\n",
    "#  +     one or more times\n",
    "# {3}    exactly x times {3} -3 times\n",
    "# {3,5}  3 to 5 times\n",
    "# {4,}   4 or more times\n",
    "#  *     zero or more times\n",
    "#  ?     once or none (optional)"
   ]
  },
  {
   "cell_type": "code",
   "execution_count": 4,
   "metadata": {},
   "outputs": [],
   "source": [
    "#  Classes and sets\n",
    "\n",
    "# [aeiou]   anything inside is a vowel\n",
    "# [a-f]     range between a - f\n",
    "# [A-Z]     all upercase letters\n",
    "# [^]       inside square brackets ^ means not"
   ]
  },
  {
   "cell_type": "code",
   "execution_count": 5,
   "metadata": {},
   "outputs": [],
   "source": [
    "# Anchors and Boundaries\n",
    "\n",
    "#  ^   start of string or line\n",
    "#  $   end of string or line\n",
    "# \\b   word boundry"
   ]
  },
  {
   "cell_type": "code",
   "execution_count": 6,
   "metadata": {},
   "outputs": [],
   "source": [
    "# Logical OR  |"
   ]
  },
  {
   "cell_type": "code",
   "execution_count": 1,
   "metadata": {},
   "outputs": [],
   "source": [
    "import re"
   ]
  },
  {
   "cell_type": "code",
   "execution_count": 12,
   "metadata": {},
   "outputs": [],
   "source": [
    "#define our phone number regex\n",
    "# r lets us use a rawstring, so a backslash is a backslash\n",
    "# compile creates the regex expression                               \n",
    "pattern = re.compile(r'\\d{3} \\d{3}-\\d{4}')  "
   ]
  },
  {
   "cell_type": "code",
   "execution_count": 15,
   "metadata": {},
   "outputs": [],
   "source": [
    "#search a string with our regex\n",
    "res = pattern.search('Call me at 415 555-4242!')   # gives us a match object"
   ]
  },
  {
   "cell_type": "code",
   "execution_count": 16,
   "metadata": {},
   "outputs": [
    {
     "data": {
      "text/plain": [
       "<re.Match object; span=(11, 23), match='415 555-4242'>"
      ]
     },
     "execution_count": 16,
     "metadata": {},
     "output_type": "execute_result"
    }
   ],
   "source": [
    "res"
   ]
  },
  {
   "cell_type": "code",
   "execution_count": 17,
   "metadata": {},
   "outputs": [
    {
     "data": {
      "text/plain": [
       "'415 555-4242'"
      ]
     },
     "execution_count": 17,
     "metadata": {},
     "output_type": "execute_result"
    }
   ],
   "source": [
    "res.group()"
   ]
  },
  {
   "cell_type": "code",
   "execution_count": 24,
   "metadata": {},
   "outputs": [],
   "source": [
    "# findall looks for all of them\n",
    "res = pattern.findall('Call me at 415 555-4242! or 321 323-2344') "
   ]
  },
  {
   "cell_type": "code",
   "execution_count": 25,
   "metadata": {},
   "outputs": [
    {
     "data": {
      "text/plain": [
       "['415 555-4242', '321 323-2344']"
      ]
     },
     "execution_count": 25,
     "metadata": {},
     "output_type": "execute_result"
    }
   ],
   "source": [
    "res"
   ]
  },
  {
   "cell_type": "code",
   "execution_count": 26,
   "metadata": {},
   "outputs": [
    {
     "data": {
      "text/plain": [
       "'415 555-4242'"
      ]
     },
     "execution_count": 26,
     "metadata": {},
     "output_type": "execute_result"
    }
   ],
   "source": [
    "# not necessary to compile separately\n",
    "re.search(r'\\d{3} \\d{3}-\\d{4}', 'Call me at 415 555-4242!').group()"
   ]
  },
  {
   "cell_type": "code",
   "execution_count": 27,
   "metadata": {},
   "outputs": [],
   "source": [
    "# Validating phone nums"
   ]
  },
  {
   "cell_type": "code",
   "execution_count": 50,
   "metadata": {},
   "outputs": [],
   "source": [
    "import re\n",
    "\n",
    "def extract_phone(input):\n",
    "    phone_regex = re.compile(r'\\b\\d{3} \\d{3}-\\d{4}\\b')\n",
    "    match = phone_regex.search(input)\n",
    "    if match:\n",
    "        return match.group()\n",
    "    return None \n",
    "    \n",
    "    \n",
    "def extract_all_phones(input):\n",
    "    phone_regex = re.compile(r'\\b\\d{3} \\d{3}-\\d{4}\\b')\n",
    "    return phone_regex.findall(input)\n",
    "    \n",
    "\n",
    " def is_valid_phone(input):\n",
    "    "
   ]
  },
  {
   "cell_type": "code",
   "execution_count": 48,
   "metadata": {},
   "outputs": [
    {
     "data": {
      "text/plain": [
       "'432 532-2343'"
      ]
     },
     "execution_count": 48,
     "metadata": {},
     "output_type": "execute_result"
    }
   ],
   "source": [
    "extract_phone('my number is 432 532-2343')"
   ]
  },
  {
   "cell_type": "code",
   "execution_count": 49,
   "metadata": {},
   "outputs": [],
   "source": [
    "extract_phone('my number is 432 532-2343342')"
   ]
  },
  {
   "cell_type": "code",
   "execution_count": 53,
   "metadata": {},
   "outputs": [
    {
     "data": {
      "text/plain": [
       "['432 532-2343', '332 233-9999']"
      ]
     },
     "execution_count": 53,
     "metadata": {},
     "output_type": "execute_result"
    }
   ],
   "source": [
    "extract_all_phones('my number is 432 532-2343 or 332 233-9999')"
   ]
  },
  {
   "cell_type": "code",
   "execution_count": 54,
   "metadata": {},
   "outputs": [
    {
     "data": {
      "text/plain": [
       "[]"
      ]
     },
     "execution_count": 54,
     "metadata": {},
     "output_type": "execute_result"
    }
   ],
   "source": [
    "extract_all_phones('my number is 432 532-2343ds or 332 233-9999sd')"
   ]
  },
  {
   "cell_type": "code",
   "execution_count": null,
   "metadata": {},
   "outputs": [],
   "source": []
  }
 ],
 "metadata": {
  "kernelspec": {
   "display_name": "Python 3",
   "language": "python",
   "name": "python3"
  },
  "language_info": {
   "codemirror_mode": {
    "name": "ipython",
    "version": 3
   },
   "file_extension": ".py",
   "mimetype": "text/x-python",
   "name": "python",
   "nbconvert_exporter": "python",
   "pygments_lexer": "ipython3",
   "version": "3.7.0"
  }
 },
 "nbformat": 4,
 "nbformat_minor": 2
}
