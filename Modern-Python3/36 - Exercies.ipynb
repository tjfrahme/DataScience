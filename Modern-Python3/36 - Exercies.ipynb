{
 "cells": [
  {
   "cell_type": "code",
   "execution_count": 38,
   "metadata": {},
   "outputs": [],
   "source": [
    "# Write function to reverse a string\n",
    "'''\n",
    "reverse_string('awesome') # 'emosewa'\n",
    "reverse_string('Colt') # 'tloC'\n",
    "reverse_string('Elie') # 'eilE'\n",
    "'''\n",
    "\n",
    "# add whatever parameters you deem necessary - good luck!\n",
    "def reverse_string(user_string):\n",
    "    new_string = \"\"\n",
    "    for letter in user_string:\n",
    "        new_string = letter + new_string\n",
    "    return new_string"
   ]
  },
  {
   "cell_type": "code",
   "execution_count": 39,
   "metadata": {},
   "outputs": [
    {
     "data": {
      "text/plain": [
       "'eilE'"
      ]
     },
     "execution_count": 39,
     "metadata": {},
     "output_type": "execute_result"
    }
   ],
   "source": [
    "reverse_string('Elie')"
   ]
  },
  {
   "cell_type": "code",
   "execution_count": 53,
   "metadata": {},
   "outputs": [],
   "source": [
    "# write function that accepts if list and checks if each element in the list is a list\n",
    "'''\n",
    "list_check([[],[1],[2,3], (1,2)]) # False\n",
    "list_check([1, True, [],[1],[2,3]]) # False\n",
    "list_check([[],[1],[2,3]]) # True\n",
    "'''\n",
    "\n",
    "def list_check(user_list):\n",
    "    check = True\n",
    "    for element in user_list:\n",
    "        if type(element) != list:\n",
    "            check = False\n",
    "    return check"
   ]
  },
  {
   "cell_type": "code",
   "execution_count": 54,
   "metadata": {},
   "outputs": [
    {
     "data": {
      "text/plain": [
       "True"
      ]
     },
     "execution_count": 54,
     "metadata": {},
     "output_type": "execute_result"
    }
   ],
   "source": [
    "list_check([[],[1],[2,3]])"
   ]
  },
  {
   "cell_type": "code",
   "execution_count": 55,
   "metadata": {},
   "outputs": [
    {
     "data": {
      "text/plain": [
       "False"
      ]
     },
     "execution_count": 55,
     "metadata": {},
     "output_type": "execute_result"
    }
   ],
   "source": [
    "list_check([1, True, [],[1],[2,3]])"
   ]
  },
  {
   "cell_type": "code",
   "execution_count": null,
   "metadata": {},
   "outputs": [],
   "source": []
  }
 ],
 "metadata": {
  "kernelspec": {
   "display_name": "Python 3",
   "language": "python",
   "name": "python3"
  },
  "language_info": {
   "codemirror_mode": {
    "name": "ipython",
    "version": 3
   },
   "file_extension": ".py",
   "mimetype": "text/x-python",
   "name": "python",
   "nbconvert_exporter": "python",
   "pygments_lexer": "ipython3",
   "version": "3.7.0"
  }
 },
 "nbformat": 4,
 "nbformat_minor": 2
}
