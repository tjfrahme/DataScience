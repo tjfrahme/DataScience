{
 "cells": [
  {
   "cell_type": "code",
   "execution_count": 38,
   "metadata": {},
   "outputs": [],
   "source": [
    "# Write function to reverse a string\n",
    "'''\n",
    "reverse_string('awesome') # 'emosewa'\n",
    "reverse_string('Colt') # 'tloC'\n",
    "reverse_string('Elie') # 'eilE'\n",
    "'''\n",
    "\n",
    "# add whatever parameters you deem necessary - good luck!\n",
    "def reverse_string(user_string):\n",
    "    new_string = \"\"\n",
    "    for letter in user_string:\n",
    "        new_string = letter + new_string\n",
    "    return new_string"
   ]
  },
  {
   "cell_type": "code",
   "execution_count": 39,
   "metadata": {},
   "outputs": [
    {
     "data": {
      "text/plain": [
       "'eilE'"
      ]
     },
     "execution_count": 39,
     "metadata": {},
     "output_type": "execute_result"
    }
   ],
   "source": [
    "reverse_string('Elie')"
   ]
  },
  {
   "cell_type": "code",
   "execution_count": 53,
   "metadata": {},
   "outputs": [],
   "source": [
    "# write function that accepts if list and checks if each element in the list is a list\n",
    "'''\n",
    "list_check([[],[1],[2,3], (1,2)]) # False\n",
    "list_check([1, True, [],[1],[2,3]]) # False\n",
    "list_check([[],[1],[2,3]]) # True\n",
    "'''\n",
    "\n",
    "def list_check(user_list):\n",
    "    check = True\n",
    "    for element in user_list:\n",
    "        if type(element) != list:\n",
    "            check = False\n",
    "    return check"
   ]
  },
  {
   "cell_type": "code",
   "execution_count": 54,
   "metadata": {},
   "outputs": [
    {
     "data": {
      "text/plain": [
       "True"
      ]
     },
     "execution_count": 54,
     "metadata": {},
     "output_type": "execute_result"
    }
   ],
   "source": [
    "list_check([[],[1],[2,3]])"
   ]
  },
  {
   "cell_type": "code",
   "execution_count": 55,
   "metadata": {},
   "outputs": [
    {
     "data": {
      "text/plain": [
       "False"
      ]
     },
     "execution_count": 55,
     "metadata": {},
     "output_type": "execute_result"
    }
   ],
   "source": [
    "list_check([1, True, [],[1],[2,3]])"
   ]
  },
  {
   "cell_type": "code",
   "execution_count": null,
   "metadata": {},
   "outputs": [],
   "source": []
  },
  {
   "cell_type": "code",
   "execution_count": 1,
   "metadata": {},
   "outputs": [],
   "source": [
    "#remove_every_other\n",
    "#Write a function called remove_every_other that accepts a list and \n",
    "#returns a new list with every second value removed.\n",
    "'''\n",
    "remove_every_other([1,2,3,4,5]) # [1,3,5] \n",
    "remove_every_other([5,1,2,4,1]) # [5,2,1]\n",
    "remove_every_other([1]) # [1] \n",
    "'''"
   ]
  },
  {
   "cell_type": "code",
   "execution_count": 26,
   "metadata": {},
   "outputs": [],
   "source": [
    "def remove_every_other(user_list):\n",
    "    final_list = []\n",
    "    counter = 1\n",
    "    for element in user_list:\n",
    "        if counter % 2 == 1:\n",
    "            final_list.append(element)\n",
    "            counter += 1\n",
    "        else:\n",
    "            counter += 1\n",
    "    return final_list\n",
    "        "
   ]
  },
  {
   "cell_type": "code",
   "execution_count": 29,
   "metadata": {},
   "outputs": [
    {
     "data": {
      "text/plain": [
       "[1]"
      ]
     },
     "execution_count": 29,
     "metadata": {},
     "output_type": "execute_result"
    }
   ],
   "source": [
    "remove_every_other([1]) # [1] "
   ]
  },
  {
   "cell_type": "code",
   "execution_count": null,
   "metadata": {},
   "outputs": [],
   "source": []
  },
  {
   "cell_type": "code",
   "execution_count": 30,
   "metadata": {},
   "outputs": [],
   "source": [
    "# Write a function called sum_pairs which accepts a list and a number \n",
    "# and returns the first pair of numbers that sum to the number passed to the function.\n",
    "\n",
    "'''\n",
    "sum_pairs([4,2,10,5,1], 6) # [4,2]\n",
    "sum_pairs([11,20,4,2,1,5], 100) # []\n",
    "'''"
   ]
  },
  {
   "cell_type": "code",
   "execution_count": 33,
   "metadata": {},
   "outputs": [],
   "source": [
    "# take first number, add second then loop \n",
    "\n",
    "def sum_pairs (my_list, sum_number):\n",
    "    \n",
    "    output_list = []\n",
    "    index_position = 0\n",
    "    while index_position < len(my_list)-1:\n",
    "        while index_postion + 1 < len (my_list-1):\n",
    "            i\n",
    "        \n",
    "    \n"
   ]
  },
  {
   "cell_type": "code",
   "execution_count": 34,
   "metadata": {},
   "outputs": [
    {
     "name": "stdout",
     "output_type": "stream",
     "text": [
      "0\n",
      "1\n",
      "2\n"
     ]
    }
   ],
   "source": [
    "# def sum_pairs(ints, s):\n",
    "#     already_visited = set()\n",
    "#     for i in ints:\n",
    "#         difference = s - i\n",
    "#         if difference in already_visited:\n",
    "#             return [difference, i]\n",
    "#         already_visited.add(i)\n",
    "#     return []"
   ]
  },
  {
   "cell_type": "code",
   "execution_count": 31,
   "metadata": {},
   "outputs": [
    {
     "data": {
      "text/plain": [
       "2"
      ]
     },
     "execution_count": 31,
     "metadata": {},
     "output_type": "execute_result"
    }
   ],
   "source": [
    "test_list = [2, 5, 7]\n",
    "test_list[0]"
   ]
  },
  {
   "cell_type": "code",
   "execution_count": null,
   "metadata": {},
   "outputs": [],
   "source": []
  },
  {
   "cell_type": "code",
   "execution_count": 36,
   "metadata": {},
   "outputs": [
    {
     "data": {
      "text/plain": [
       "\"\\nvowel_count('awesome') # {'a': 1, 'e': 2, 'o': 1}\\nvowel_count('Elie') # {'e': 2, 'i': 1}\\nvowel_count('Colt') # {'o': 1}\\n\""
      ]
     },
     "execution_count": 36,
     "metadata": {},
     "output_type": "execute_result"
    }
   ],
   "source": [
    "# vowel_count\n",
    "# Write a function called vowel_count that accepts a string and returns a dictionary with the keys \n",
    "# as the vowels and values as the count of times that vowel appears in the string.\n",
    "\n",
    "'''\n",
    "vowel_count('awesome') # {'a': 1, 'e': 2, 'o': 1}\n",
    "vowel_count('Elie') # {'e': 2, 'i': 1}\n",
    "vowel_count('Colt') # {'o': 1}\n",
    "'''"
   ]
  },
  {
   "cell_type": "code",
   "execution_count": 49,
   "metadata": {},
   "outputs": [],
   "source": [
    "def vowel_count(s):\n",
    "    \n",
    "    vowels = ['a', 'e', 'i', 'o', 'u']\n",
    "    my_dict = dict.fromkeys (['a', 'e', 'i', 'o', 'u'], 0)   # creates dictionary, with 0 initial value\n",
    "    \n",
    "    for letter in vowels:\n",
    "        my_dict[letter] = s.count(letter)\n",
    "        \n",
    "    return my_dict"
   ]
  },
  {
   "cell_type": "code",
   "execution_count": 51,
   "metadata": {},
   "outputs": [
    {
     "data": {
      "text/plain": [
       "{'a': 0, 'e': 1, 'i': 0, 'o': 2, 'u': 0}"
      ]
     },
     "execution_count": 51,
     "metadata": {},
     "output_type": "execute_result"
    }
   ],
   "source": [
    "vowel_count('helloo')"
   ]
  },
  {
   "cell_type": "code",
   "execution_count": 11,
   "metadata": {},
   "outputs": [],
   "source": [
    "def vowel_count(s):\n",
    "    \n",
    "    vowels = ['a', 'e', 'i', 'o', 'u']\n",
    "    vowels_in_string = []\n",
    "    s = s.lower()\n",
    "    for letter in s:\n",
    "        if letter in vowels and letter not in vowels_in_string:\n",
    "            vowels_in_string.append(letter)\n",
    "        else:\n",
    "            pass\n",
    "    \n",
    "    my_dict = dict.fromkeys (vowels_in_string)\n",
    "    \n",
    "    for letter in vowels_in_string:\n",
    "        my_dict[letter] = s.count(letter)\n",
    "    \n",
    "    return my_dict"
   ]
  },
  {
   "cell_type": "code",
   "execution_count": 12,
   "metadata": {},
   "outputs": [
    {
     "data": {
      "text/plain": [
       "{'e': 2, 'i': 1}"
      ]
     },
     "execution_count": 12,
     "metadata": {},
     "output_type": "execute_result"
    }
   ],
   "source": [
    "vowel_count('Elie')"
   ]
  },
  {
   "cell_type": "code",
   "execution_count": null,
   "metadata": {},
   "outputs": [],
   "source": []
  },
  {
   "cell_type": "code",
   "execution_count": null,
   "metadata": {},
   "outputs": [],
   "source": [
    "# Titleize\n",
    "# Write a function called titleize which accepts a string of words and returns a new \n",
    "# string with the first letter of every word in the string capitalized.\n",
    "'''\n",
    "titleize('this is awesome') # \"This Is Awesome\"\n",
    "titleize('oNLy cAPITALIZe fIRSt') # \"ONLy CAPITALIZe FIRSt\"\n",
    "'''\n",
    "\n"
   ]
  },
  {
   "cell_type": "code",
   "execution_count": 39,
   "metadata": {},
   "outputs": [
    {
     "ename": "SyntaxError",
     "evalue": "invalid syntax (881137641.py, line 7)",
     "output_type": "error",
     "traceback": [
      "\u001b[0;36m  Cell \u001b[0;32mIn[39], line 7\u001b[0;36m\u001b[0m\n\u001b[0;31m    s= s[index_position + 1].upper() +\u001b[0m\n\u001b[0m                                       ^\u001b[0m\n\u001b[0;31mSyntaxError\u001b[0m\u001b[0;31m:\u001b[0m invalid syntax\n"
     ]
    }
   ],
   "source": [
    "def titleize(s):\n",
    "    \n",
    "    s = s[0].upper() + s[1:]\n",
    "    index_position = 0\n",
    "    for letter in s:\n",
    "        if letter == \" \":\n",
    "            s= s[index_position + 1].upper() + s[]\n",
    "            index_position += 1\n",
    "        else:\n",
    "            index_position += 1\n",
    "            pass\n",
    "    return s\n",
    "            "
   ]
  },
  {
   "cell_type": "code",
   "execution_count": 38,
   "metadata": {},
   "outputs": [
    {
     "data": {
      "text/plain": [
       "'Hel lo'"
      ]
     },
     "execution_count": 38,
     "metadata": {},
     "output_type": "execute_result"
    }
   ],
   "source": [
    "titleize('hel lo')"
   ]
  },
  {
   "cell_type": "code",
   "execution_count": 32,
   "metadata": {},
   "outputs": [],
   "source": [
    "my_string = 'yElp is'"
   ]
  },
  {
   "cell_type": "code",
   "execution_count": 33,
   "metadata": {},
   "outputs": [
    {
     "data": {
      "text/plain": [
       "'Yelp Is'"
      ]
     },
     "execution_count": 33,
     "metadata": {},
     "output_type": "execute_result"
    }
   ],
   "source": [
    "my_string.title()"
   ]
  },
  {
   "cell_type": "code",
   "execution_count": 43,
   "metadata": {},
   "outputs": [
    {
     "data": {
      "text/plain": [
       "'s'"
      ]
     },
     "execution_count": 43,
     "metadata": {},
     "output_type": "execute_result"
    }
   ],
   "source": [
    "my_string[6:]"
   ]
  }
 ],
 "metadata": {
  "kernelspec": {
   "display_name": "Python 3 (ipykernel)",
   "language": "python",
   "name": "python3"
  },
  "language_info": {
   "codemirror_mode": {
    "name": "ipython",
    "version": 3
   },
   "file_extension": ".py",
   "mimetype": "text/x-python",
   "name": "python",
   "nbconvert_exporter": "python",
   "pygments_lexer": "ipython3",
   "version": "3.10.9"
  }
 },
 "nbformat": 4,
 "nbformat_minor": 2
}
