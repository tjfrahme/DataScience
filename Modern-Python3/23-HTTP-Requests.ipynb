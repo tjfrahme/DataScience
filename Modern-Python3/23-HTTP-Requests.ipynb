{
 "cells": [
  {
   "cell_type": "code",
   "execution_count": null,
   "metadata": {},
   "outputs": [],
   "source": [
    "# What happens when you look up a website\n",
    "# 1) DNS lookup \n",
    "#     - DNS server converts it to an ip address 172.323.982\n",
    "# 2) Computer make a REQUEST to a server\n",
    "# 3) Server processes the REQUEST\n",
    "# 4) Server issues a RESPONSE\n",
    "\n",
    "# 2-4 is the Request/Response cycle"
   ]
  },
  {
   "cell_type": "code",
   "execution_count": null,
   "metadata": {},
   "outputs": [],
   "source": [
    "#  client ------------------> Server\n",
    "#          Get 172.217.892\n",
    "\n",
    "#  client <------------------ Server\n",
    "#               200 OK\n",
    "#           <!doctype html>\n",
    "#           <html lang='en'\n",
    "#               <!--\n",
    "#                html for google.com\n",
    "#               -->\n",
    "#            </html>"
   ]
  },
  {
   "cell_type": "code",
   "execution_count": 1,
   "metadata": {},
   "outputs": [],
   "source": [
    "# HTTP Headers\n",
    "#  Sent w/ both requests an responses, provide additional info about\n",
    "#  Request Headers\n",
    "#      Accept - acceptable content types html, json, xml\n",
    "#       User Aggent\n",
    "#  Response Headers\n",
    "#       Status code - 2xx success, 3xx-redirect, 4xx-client error, 5xx-server error"
   ]
  },
  {
   "cell_type": "code",
   "execution_count": 2,
   "metadata": {},
   "outputs": [],
   "source": [
    "# HTTP Verbs, GET/POST \n",
    "# GET - retrieving data, data passed in query string, can be cached\n",
    "# POST - writing data, Data passed in request body, not cached"
   ]
  },
  {
   "cell_type": "code",
   "execution_count": 4,
   "metadata": {},
   "outputs": [],
   "source": [
    "# API - application programming interface\n",
    "# Allows us to get data from application w/o needing to understand how it works"
   ]
  },
  {
   "cell_type": "code",
   "execution_count": null,
   "metadata": {},
   "outputs": [],
   "source": []
  }
 ],
 "metadata": {
  "kernelspec": {
   "display_name": "Python 3",
   "language": "python",
   "name": "python3"
  },
  "language_info": {
   "codemirror_mode": {
    "name": "ipython",
    "version": 3
   },
   "file_extension": ".py",
   "mimetype": "text/x-python",
   "name": "python",
   "nbconvert_exporter": "python",
   "pygments_lexer": "ipython3",
   "version": "3.7.0"
  }
 },
 "nbformat": 4,
 "nbformat_minor": 2
}
