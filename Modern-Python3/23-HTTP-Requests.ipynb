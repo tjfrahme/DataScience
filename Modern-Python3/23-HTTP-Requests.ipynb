{
 "cells": [
  {
   "cell_type": "code",
   "execution_count": null,
   "metadata": {},
   "outputs": [],
   "source": [
    "# What happens when you look up a website\n",
    "# 1) DNS lookup \n",
    "#     - DNS server converts it to an ip address 172.323.982\n",
    "# 2) Computer make a REQUEST to a server\n",
    "# 3) Server processes the REQUEST\n",
    "# 4) Server issues a RESPONSE\n",
    "\n",
    "# 2-4 is the Request/Response cycle"
   ]
  },
  {
   "cell_type": "code",
   "execution_count": null,
   "metadata": {},
   "outputs": [],
   "source": [
    "#  client ------------------> Server\n",
    "#          Get 172.217.892\n",
    "\n",
    "#  client <------------------ Server\n",
    "#               200 OK\n",
    "#           <!doctype html>\n",
    "#           <html lang='en'\n",
    "#               <!--\n",
    "#                html for google.com\n",
    "#               -->\n",
    "#            </html>"
   ]
  },
  {
   "cell_type": "code",
   "execution_count": 1,
   "metadata": {},
   "outputs": [],
   "source": [
    "# HTTP Headers\n",
    "#  Sent w/ both requests an responses, provide additional info about\n",
    "#  Request Headers\n",
    "#      Accept - acceptable content types html, json, xml\n",
    "#       User Aggent\n",
    "#  Response Headers\n",
    "#       Status code - 2xx success, 3xx-redirect, 4xx-client error, 5xx-server error"
   ]
  },
  {
   "cell_type": "code",
   "execution_count": 2,
   "metadata": {},
   "outputs": [],
   "source": [
    "# HTTP Verbs, GET/POST \n",
    "# GET - retrieving data, data passed in query string, can be cached\n",
    "# POST - writing data, Data passed in request body, not cached"
   ]
  },
  {
   "cell_type": "code",
   "execution_count": 4,
   "metadata": {},
   "outputs": [],
   "source": [
    "# API - application programming interface\n",
    "# Allows us to get data from application w/o needing to understand how it works"
   ]
  },
  {
   "cell_type": "markdown",
   "metadata": {},
   "source": [
    "# Making First REQUEST"
   ]
  },
  {
   "cell_type": "code",
   "execution_count": 1,
   "metadata": {},
   "outputs": [],
   "source": [
    "import requests"
   ]
  },
  {
   "cell_type": "code",
   "execution_count": 6,
   "metadata": {},
   "outputs": [
    {
     "data": {
      "text/plain": [
       "<Response [200]>"
      ]
     },
     "execution_count": 6,
     "metadata": {},
     "output_type": "execute_result"
    }
   ],
   "source": [
    "res = requests.get('https://news.ycombinator.com/')\n",
    "res"
   ]
  },
  {
   "cell_type": "code",
   "execution_count": 7,
   "metadata": {},
   "outputs": [
    {
     "data": {
      "text/plain": [
       "True"
      ]
     },
     "execution_count": 7,
     "metadata": {},
     "output_type": "execute_result"
    }
   ],
   "source": [
    "res.ok"
   ]
  },
  {
   "cell_type": "code",
   "execution_count": 8,
   "metadata": {},
   "outputs": [
    {
     "data": {
      "text/plain": [
       "{'Server': 'nginx', 'Date': 'Thu, 03 Jan 2019 19:15:24 GMT', 'Content-Type': 'text/html; charset=utf-8', 'Transfer-Encoding': 'chunked', 'Connection': 'keep-alive', 'Vary': 'Accept-Encoding', 'Cache-Control': 'private; max-age=0', 'X-Frame-Options': 'DENY', 'X-Content-Type-Options': 'nosniff', 'X-XSS-Protection': '1; mode=block', 'Referrer-Policy': 'origin', 'Strict-Transport-Security': 'max-age=31556900', 'Content-Security-Policy': \"default-src 'self'; script-src 'self' 'unsafe-inline' https://www.google.com/recaptcha/ https://www.gstatic.com/recaptcha/ https://cdnjs.cloudflare.com/; frame-src 'self' https://www.google.com/recaptcha/; style-src 'self' 'unsafe-inline'\", 'Content-Encoding': 'gzip'}"
      ]
     },
     "execution_count": 8,
     "metadata": {},
     "output_type": "execute_result"
    }
   ],
   "source": [
    "res.headers"
   ]
  },
  {
   "cell_type": "code",
   "execution_count": 10,
   "metadata": {},
   "outputs": [
    {
     "data": {
      "text/plain": [
       "'<html op=\"news\"><head><meta name=\"referrer\" content=\"origin\"><meta name=\"viewport\" content=\"width=device-width, initial-scale=1.0\"><link rel=\"stylesheet\" type=\"text/css\" href=\"news.css?jauFNMe4dhmllqVDfcow\">\\n            <link rel=\"shortcut icon\" href=\"favicon.ico\">\\n          <link rel=\"alternate\" type=\"application/rss+xml\" title=\"RSS\" href=\"rss\">\\n        <title>Hacker News</title></head><body><center><table id=\"hnmain\" border=\"0\" cellpadding=\"0\" cellspacing=\"0\" width=\"85%\" bgcolor=\"#f6f6ef\">\\n        <tr><td bgcolor=\"#ff6600\"><table border=\"0\" cellpadding=\"0\" cellspacing=\"0\" width=\"100%\" style=\"padding:2px\"><tr><td style=\"width:18px;padding-right:4px\"><a href=\"https://news.ycombinator.com\"><img src=\"y18.gif\" width=\"18\" height=\"18\" style=\"border:1px white solid;\"></a></td>\\n                  <td style=\"line-height:12pt; height:10px;\"><span class=\"pagetop\"><b class=\"hnname\"><a href=\"news\">Hacker News</a></b>\\n              <a href=\"newest\">new</a> | <a href=\"newcomments\">comments</a> | <a href=\"show\">show</a> | <a href=\"ask\">ask</a> | <a href=\"jobs\">jobs</a> | <a href=\"submit\">submit</a>            </span></td><td style=\"text-align:right;padding-right:4px;\"><span class=\"pagetop\">\\n                              <a href=\"login?goto=news\">login</a>\\n                          </span></td>\\n              </tr></table></td></tr>\\n<tr id=\"pagespace\" title=\"\" style=\"height:10px\"></tr><tr><td><table border=\"0\" cellpadding=\"0\" cellspacing=\"0\" class=\"itemlist\">\\n              <tr class=\\'athing\\' id=\\'18817410\\'>\\n      <td align=\"right\" valign=\"top\" class=\"title\"><span class=\"rank\">1.</span></td>      <td valign=\"top\" class=\"votelinks\"><center><a id=\\'up_18817410\\' href=\\'vote?id=18817410&amp;how=up&amp;goto=news\\'><div class=\\'votearrow\\' title=\\'upvote\\'></div></a></center></td><td class=\"title\"><a href=\"https://www.quantamagazine.org/how-space-and-time-could-be-a-quantum-error-correcting-code-20190103/\" class=\"storylink\">How Space and Time Could Be a Quantum Error-Correcting Code</a><span class=\"sitebit comhead\"> (<a href=\"from?site=quantamagazine.org\"><span class=\"sitestr\">quantamagazine.org</span></a>)</span></td></tr><tr><td colspan=\"2\"></td><td class=\"subtext\">\\n        <span class=\"score\" id=\"score_18817410\">36 points</span> by <a href=\"user?id=_Microft\" class=\"hnuser\">_Microft</a> <span class=\"age\"><a href=\"item?id=18817410\">1 hour ago</a></span> <span id=\"unv_18817410\"></span> | <a href=\"hide?id=18817410&amp;goto=news\">hide</a> | <a href=\"item?id=18817410\">1&nbsp;comment</a>              </td></tr>\\n      <tr class=\"spacer\" style=\"height:5px\"></tr>\\n                <tr class=\\'athing\\' id=\\'18815125\\'>\\n      <td align=\"right\" valign=\"top\" class=\"title\"><span class=\"rank\">2.</span></td>      <td valign=\"top\" class=\"votelinks\"><center><a id=\\'up_18815125\\' href=\\'vote?id=18815125&amp;how=up&amp;goto=news\\'><div class=\\'votearrow\\' title=\\'upvote\\'></div></a></center></td><td class=\"title\"><a href=\"http://coconut-lang.org/\" class=\"storylink\">Coconut: Pythonic functional programming</a><span class=\"sitebit comhead\"> (<a href=\"from?site=coconut-lang.org\"><span class=\"sitestr\">coconut-lang.org</span></a>)</span></td></tr><tr><td colspan=\"2\"></td><td class=\"subtext\">\\n        <span class=\"score\" id=\"score_18815125\">277 points</span> by <a href=\"user?id=andybak\" class=\"hnuser\">andybak</a> <span class=\"age\"><a href=\"item?id=18815125\">5 hours ago</a></span> <span id=\"unv_18815125\"></span> | <a href=\"hide?id=18815125&amp;goto=news\">hide</a> | <a href=\"item?id=18815125\">91&nbsp;comments</a>              </td></tr>\\n      <tr class=\"spacer\" style=\"height:5px\"></tr>\\n                <tr class=\\'athing\\' id=\\'18817145\\'>\\n      <td align=\"right\" valign=\"top\" class=\"title\"><span class=\"rank\">3.</span></td>      <td valign=\"top\" class=\"votelinks\"><center><a id=\\'up_18817145\\' href=\\'vote?id=18817145&amp;how=up&amp;goto=news\\'><div class=\\'votearrow\\' title=\\'upvote\\'></div></a></center></td><td class=\"title\"><a href=\"https://morepypy.blogspot.com/2019/01/pypy-for-low-latency-systems.html\" class=\"storylink\">PyPy for low-latency systems</a><span class=\"sitebit comhead\"> (<a href=\"from?site=morepypy.blogspot.com\"><span class=\"sitestr\">morepypy.blogspot.com</span></a>)</span></td></tr><tr><td colspan=\"2\"></td><td class=\"subtext\">\\n        <span class=\"score\" id=\"score_18817145\">33 points</span> by <a href=\"user?id=shocks\" class=\"hnuser\">shocks</a> <span class=\"age\"><a href=\"item?id=18817145\">1 hour ago</a></span> <span id=\"unv_18817145\"></span> | <a href=\"hide?id=18817145&amp;goto=news\">hide</a> | <a href=\"item?id=18817145\">2&nbsp;comments</a>              </td></tr>\\n      <tr class=\"spacer\" style=\"height:5px\"></tr>\\n                <tr class=\\'athing\\' id=\\'18816418\\'>\\n      <td align=\"right\" valign=\"top\" class=\"title\"><span class=\"rank\">4.</span></td>      <td valign=\"top\" class=\"votelinks\"><center><a id=\\'up_18816418\\' href=\\'vote?id=18816418&amp;how=up&amp;goto=news\\'><div class=\\'votearrow\\' title=\\'upvote\\'></div></a></center></td><td class=\"title\"><a href=\"https://hn.academy\" class=\"storylink\">Show HN: HN.Academy – Top online courses recommended by Hacker News users</a><span class=\"sitebit comhead\"> (<a href=\"from?site=hn.academy\"><span class=\"sitestr\">hn.academy</span></a>)</span></td></tr><tr><td colspan=\"2\"></td><td class=\"subtext\">\\n        <span class=\"score\" id=\"score_18816418\">58 points</span> by <a href=\"user?id=yaj54\" class=\"hnuser\">yaj54</a> <span class=\"age\"><a href=\"item?id=18816418\">2 hours ago</a></span> <span id=\"unv_18816418\"></span> | <a href=\"hide?id=18816418&amp;goto=news\">hide</a> | <a href=\"item?id=18816418\">5&nbsp;comments</a>              </td></tr>\\n      <tr class=\"spacer\" style=\"height:5px\"></tr>\\n                <tr class=\\'athing\\' id=\\'18817333\\'>\\n      <td align=\"right\" valign=\"top\" class=\"title\"><span class=\"rank\">5.</span></td>      <td valign=\"top\" class=\"votelinks\"><center><a id=\\'up_18817333\\' href=\\'vote?id=18817333&amp;how=up&amp;goto=news\\'><div class=\\'votearrow\\' title=\\'upvote\\'></div></a></center></td><td class=\"title\"><a href=\"https://www.reuters.com/article/us-usa-china-travel-idUSKCN1OX1DJ\" class=\"storylink\">U.S. issues China travel advisory amid increased tensions</a><span class=\"sitebit comhead\"> (<a href=\"from?site=reuters.com\"><span class=\"sitestr\">reuters.com</span></a>)</span></td></tr><tr><td colspan=\"2\"></td><td class=\"subtext\">\\n        <span class=\"score\" id=\"score_18817333\">16 points</span> by <a href=\"user?id=h-\" class=\"hnuser\">h-</a> <span class=\"age\"><a href=\"item?id=18817333\">1 hour ago</a></span> <span id=\"unv_18817333\"></span> | <a href=\"hide?id=18817333&amp;goto=news\">hide</a> | <a href=\"item?id=18817333\">discuss</a>              </td></tr>\\n      <tr class=\"spacer\" style=\"height:5px\"></tr>\\n                <tr class=\\'athing\\' id=\\'18817705\\'>\\n      <td align=\"right\" valign=\"top\" class=\"title\"><span class=\"rank\">6.</span></td>      <td valign=\"top\" class=\"votelinks\"><center><a id=\\'up_18817705\\' href=\\'vote?id=18817705&amp;how=up&amp;goto=news\\'><div class=\\'votearrow\\' title=\\'upvote\\'></div></a></center></td><td class=\"title\"><a href=\"https://backreaction.blogspot.com/2019/01/electrons-dont-think.html?spref=tw\" class=\"storylink\">Electrons don’t think</a><span class=\"sitebit comhead\"> (<a href=\"from?site=backreaction.blogspot.com\"><span class=\"sitestr\">backreaction.blogspot.com</span></a>)</span></td></tr><tr><td colspan=\"2\"></td><td class=\"subtext\">\\n        <span class=\"score\" id=\"score_18817705\">10 points</span> by <a href=\"user?id=mathgenius\" class=\"hnuser\">mathgenius</a> <span class=\"age\"><a href=\"item?id=18817705\">39 minutes ago</a></span> <span id=\"unv_18817705\"></span> | <a href=\"hide?id=18817705&amp;goto=news\">hide</a> | <a href=\"item?id=18817705\">3&nbsp;comments</a>              </td></tr>\\n      <tr class=\"spacer\" style=\"height:5px\"></tr>\\n                <tr class=\\'athing\\' id=\\'18812875\\'>\\n      <td align=\"right\" valign=\"top\" class=\"title\"><span class=\"rank\">7.</span></td>      <td valign=\"top\" class=\"votelinks\"><center><a id=\\'up_18812875\\' href=\\'vote?id=18812875&amp;how=up&amp;goto=news\\'><div class=\\'votearrow\\' title=\\'upvote\\'></div></a></center></td><td class=\"title\"><a href=\"http://www.planetary.org/blogs/jason-davis/change4-success.html\" class=\"storylink\">China lands Chang\\'e-4 on far side of Moon</a><span class=\"sitebit comhead\"> (<a href=\"from?site=planetary.org\"><span class=\"sitestr\">planetary.org</span></a>)</span></td></tr><tr><td colspan=\"2\"></td><td class=\"subtext\">\\n        <span class=\"score\" id=\"score_18812875\">844 points</span> by <a href=\"user?id=docbrown\" class=\"hnuser\">docbrown</a> <span class=\"age\"><a href=\"item?id=18812875\">14 hours ago</a></span> <span id=\"unv_18812875\"></span> | <a href=\"hide?id=18812875&amp;goto=news\">hide</a> | <a href=\"item?id=18812875\">160&nbsp;comments</a>              </td></tr>\\n      <tr class=\"spacer\" style=\"height:5px\"></tr>\\n                <tr class=\\'athing\\' id=\\'18817278\\'>\\n      <td align=\"right\" valign=\"top\" class=\"title\"><span class=\"rank\">8.</span></td>      <td valign=\"top\" class=\"votelinks\"><center><a id=\\'up_18817278\\' href=\\'vote?id=18817278&amp;how=up&amp;goto=news\\'><div class=\\'votearrow\\' title=\\'upvote\\'></div></a></center></td><td class=\"title\"><a href=\"http://continuation-labs.com/d3wasm/\" class=\"storylink\">Doom 3 in WebAssembly</a><span class=\"sitebit comhead\"> (<a href=\"from?site=continuation-labs.com\"><span class=\"sitestr\">continuation-labs.com</span></a>)</span></td></tr><tr><td colspan=\"2\"></td><td class=\"subtext\">\\n        <span class=\"score\" id=\"score_18817278\">20 points</span> by <a href=\"user?id=jsheard\" class=\"hnuser\">jsheard</a> <span class=\"age\"><a href=\"item?id=18817278\">1 hour ago</a></span> <span id=\"unv_18817278\"></span> | <a href=\"hide?id=18817278&amp;goto=news\">hide</a> | <a href=\"item?id=18817278\">5&nbsp;comments</a>              </td></tr>\\n      <tr class=\"spacer\" style=\"height:5px\"></tr>\\n                <tr class=\\'athing\\' id=\\'18816897\\'>\\n      <td align=\"right\" valign=\"top\" class=\"title\"><span class=\"rank\">9.</span></td>      <td valign=\"top\" class=\"votelinks\"><center><a id=\\'up_18816897\\' href=\\'vote?id=18816897&amp;how=up&amp;goto=news\\'><div class=\\'votearrow\\' title=\\'upvote\\'></div></a></center></td><td class=\"title\"><a href=\"https://blog.magnum.graphics/meta/improved-doxygen-documentation-and-search/\" class=\"storylink\">Improved Doxygen documentation and search for C++ projects</a><span class=\"sitebit comhead\"> (<a href=\"from?site=magnum.graphics\"><span class=\"sitestr\">magnum.graphics</span></a>)</span></td></tr><tr><td colspan=\"2\"></td><td class=\"subtext\">\\n        <span class=\"score\" id=\"score_18816897\">22 points</span> by <a href=\"user?id=mosra\" class=\"hnuser\">mosra</a> <span class=\"age\"><a href=\"item?id=18816897\">1 hour ago</a></span> <span id=\"unv_18816897\"></span> | <a href=\"hide?id=18816897&amp;goto=news\">hide</a> | <a href=\"item?id=18816897\">12&nbsp;comments</a>              </td></tr>\\n      <tr class=\"spacer\" style=\"height:5px\"></tr>\\n                <tr class=\\'athing\\' id=\\'18814084\\'>\\n      <td align=\"right\" valign=\"top\" class=\"title\"><span class=\"rank\">10.</span></td>      <td valign=\"top\" class=\"votelinks\"><center><a id=\\'up_18814084\\' href=\\'vote?id=18814084&amp;how=up&amp;goto=news\\'><div class=\\'votearrow\\' title=\\'upvote\\'></div></a></center></td><td class=\"title\"><a href=\"https://hal.inria.fr/hal-01935898/document\" class=\"storylink\">A Survey of the First 20 Years of Research on Semantic Web and Linked Data [pdf]</a><span class=\"sitebit comhead\"> (<a href=\"from?site=inria.fr\"><span class=\"sitestr\">inria.fr</span></a>)</span></td></tr><tr><td colspan=\"2\"></td><td class=\"subtext\">\\n        <span class=\"score\" id=\"score_18814084\">56 points</span> by <a href=\"user?id=kkdw\" class=\"hnuser\">kkdw</a> <span class=\"age\"><a href=\"item?id=18814084\">4 hours ago</a></span> <span id=\"unv_18814084\"></span> | <a href=\"hide?id=18814084&amp;goto=news\">hide</a> | <a href=\"item?id=18814084\">1&nbsp;comment</a>              </td></tr>\\n      <tr class=\"spacer\" style=\"height:5px\"></tr>\\n                <tr class=\\'athing\\' id=\\'18817203\\'>\\n      <td align=\"right\" valign=\"top\" class=\"title\"><span class=\"rank\">11.</span></td>      <td valign=\"top\" class=\"votelinks\"><center><a id=\\'up_18817203\\' href=\\'vote?id=18817203&amp;how=up&amp;goto=news\\'><div class=\\'votearrow\\' title=\\'upvote\\'></div></a></center></td><td class=\"title\"><a href=\"https://www.nytimes.com/2019/01/03/nyregion/l-train-shutdown.html\" class=\"storylink\">Full Shutdown of L Train to Be Halted by Cuomo</a><span class=\"sitebit comhead\"> (<a href=\"from?site=nytimes.com\"><span class=\"sitestr\">nytimes.com</span></a>)</span></td></tr><tr><td colspan=\"2\"></td><td class=\"subtext\">\\n        <span class=\"score\" id=\"score_18817203\">55 points</span> by <a href=\"user?id=cribbles\" class=\"hnuser\">cribbles</a> <span class=\"age\"><a href=\"item?id=18817203\">1 hour ago</a></span> <span id=\"unv_18817203\"></span> | <a href=\"hide?id=18817203&amp;goto=news\">hide</a> | <a href=\"item?id=18817203\">48&nbsp;comments</a>              </td></tr>\\n      <tr class=\"spacer\" style=\"height:5px\"></tr>\\n                <tr class=\\'athing\\' id=\\'18816040\\'>\\n      <td align=\"right\" valign=\"top\" class=\"title\"><span class=\"rank\">12.</span></td>      <td valign=\"top\" class=\"votelinks\"><center><a id=\\'up_18816040\\' href=\\'vote?id=18816040&amp;how=up&amp;goto=news\\'><div class=\\'votearrow\\' title=\\'upvote\\'></div></a></center></td><td class=\"title\"><a href=\"https://theintercept.com/2018/01/03/my-life-as-a-new-york-times-reporter-in-the-shadow-of-the-war-on-terror/\" class=\"storylink\">My Life as a New York Times Reporter in the Shadow of the War on Terror (2018)</a><span class=\"sitebit comhead\"> (<a href=\"from?site=theintercept.com\"><span class=\"sitestr\">theintercept.com</span></a>)</span></td></tr><tr><td colspan=\"2\"></td><td class=\"subtext\">\\n        <span class=\"score\" id=\"score_18816040\">229 points</span> by <a href=\"user?id=spof84\" class=\"hnuser\">spof84</a> <span class=\"age\"><a href=\"item?id=18816040\">3 hours ago</a></span> <span id=\"unv_18816040\"></span> | <a href=\"hide?id=18816040&amp;goto=news\">hide</a> | <a href=\"item?id=18816040\">67&nbsp;comments</a>              </td></tr>\\n      <tr class=\"spacer\" style=\"height:5px\"></tr>\\n                <tr class=\\'athing\\' id=\\'18815091\\'>\\n      <td align=\"right\" valign=\"top\" class=\"title\"><span class=\"rank\">13.</span></td>      <td valign=\"top\" class=\"votelinks\"><center><a id=\\'up_18815091\\' href=\\'vote?id=18815091&amp;how=up&amp;goto=news\\'><div class=\\'votearrow\\' title=\\'upvote\\'></div></a></center></td><td class=\"title\"><a href=\"https://www.wired.com/story/googles-ai-guru-computers-think-more-like-brains/\" class=\"storylink\">Geoff Hinton Wants Computers to Think More Like Brains</a><span class=\"sitebit comhead\"> (<a href=\"from?site=wired.com\"><span class=\"sitestr\">wired.com</span></a>)</span></td></tr><tr><td colspan=\"2\"></td><td class=\"subtext\">\\n        <span class=\"score\" id=\"score_18815091\">67 points</span> by <a href=\"user?id=Osiris30\" class=\"hnuser\">Osiris30</a> <span class=\"age\"><a href=\"item?id=18815091\">5 hours ago</a></span> <span id=\"unv_18815091\"></span> | <a href=\"hide?id=18815091&amp;goto=news\">hide</a> | <a href=\"item?id=18815091\">48&nbsp;comments</a>              </td></tr>\\n      <tr class=\"spacer\" style=\"height:5px\"></tr>\\n                <tr class=\\'athing\\' id=\\'18816834\\'>\\n      <td align=\"right\" valign=\"top\" class=\"title\"><span class=\"rank\">14.</span></td>      <td valign=\"top\" class=\"votelinks\"><center><a id=\\'up_18816834\\' href=\\'vote?id=18816834&amp;how=up&amp;goto=news\\'><div class=\\'votearrow\\' title=\\'upvote\\'></div></a></center></td><td class=\"title\"><a href=\"https://i.lookingglassfactory.com/\" class=\"storylink\">The Looking Glass – Holographic Display</a><span class=\"sitebit comhead\"> (<a href=\"from?site=lookingglassfactory.com\"><span class=\"sitestr\">lookingglassfactory.com</span></a>)</span></td></tr><tr><td colspan=\"2\"></td><td class=\"subtext\">\\n        <span class=\"score\" id=\"score_18816834\">21 points</span> by <a href=\"user?id=kgwxd\" class=\"hnuser\">kgwxd</a> <span class=\"age\"><a href=\"item?id=18816834\">1 hour ago</a></span> <span id=\"unv_18816834\"></span> | <a href=\"hide?id=18816834&amp;goto=news\">hide</a> | <a href=\"item?id=18816834\">8&nbsp;comments</a>              </td></tr>\\n      <tr class=\"spacer\" style=\"height:5px\"></tr>\\n                <tr class=\\'athing\\' id=\\'18814520\\'>\\n      <td align=\"right\" valign=\"top\" class=\"title\"><span class=\"rank\">15.</span></td>      <td valign=\"top\" class=\"votelinks\"><center><a id=\\'up_18814520\\' href=\\'vote?id=18814520&amp;how=up&amp;goto=news\\'><div class=\\'votearrow\\' title=\\'upvote\\'></div></a></center></td><td class=\"title\"><a href=\"http://www.bbc.com/travel/story/20190102-pamir-highway-a-wild-ride-across-central-asia\" class=\"storylink\">Pamir Highway: An epic drive on the roof of the world</a><span class=\"sitebit comhead\"> (<a href=\"from?site=bbc.com\"><span class=\"sitestr\">bbc.com</span></a>)</span></td></tr><tr><td colspan=\"2\"></td><td class=\"subtext\">\\n        <span class=\"score\" id=\"score_18814520\">14 points</span> by <a href=\"user?id=MiriamWeiner\" class=\"hnuser\">MiriamWeiner</a> <span class=\"age\"><a href=\"item?id=18814520\">2 hours ago</a></span> <span id=\"unv_18814520\"></span> | <a href=\"hide?id=18814520&amp;goto=news\">hide</a> | <a href=\"item?id=18814520\">2&nbsp;comments</a>              </td></tr>\\n      <tr class=\"spacer\" style=\"height:5px\"></tr>\\n                <tr class=\\'athing\\' id=\\'18816204\\'>\\n      <td align=\"right\" valign=\"top\" class=\"title\"><span class=\"rank\">16.</span></td>      <td valign=\"top\" class=\"votelinks\"><center><a id=\\'up_18816204\\' href=\\'vote?id=18816204&amp;how=up&amp;goto=news\\'><div class=\\'votearrow\\' title=\\'upvote\\'></div></a></center></td><td class=\"title\"><a href=\"https://twitter.com/jakevdp/status/1080583192803823616\" class=\"storylink\">Pandas dropping Python 2 support</a><span class=\"sitebit comhead\"> (<a href=\"from?site=twitter.com\"><span class=\"sitestr\">twitter.com</span></a>)</span></td></tr><tr><td colspan=\"2\"></td><td class=\"subtext\">\\n        <span class=\"score\" id=\"score_18816204\">90 points</span> by <a href=\"user?id=ptype\" class=\"hnuser\">ptype</a> <span class=\"age\"><a href=\"item?id=18816204\">2 hours ago</a></span> <span id=\"unv_18816204\"></span> | <a href=\"hide?id=18816204&amp;goto=news\">hide</a> | <a href=\"item?id=18816204\">12&nbsp;comments</a>              </td></tr>\\n      <tr class=\"spacer\" style=\"height:5px\"></tr>\\n                <tr class=\\'athing\\' id=\\'18815995\\'>\\n      <td align=\"right\" valign=\"top\" class=\"title\"><span class=\"rank\">17.</span></td>      <td valign=\"top\" class=\"votelinks\"><center><a id=\\'up_18815995\\' href=\\'vote?id=18815995&amp;how=up&amp;goto=news\\'><div class=\\'votearrow\\' title=\\'upvote\\'></div></a></center></td><td class=\"title\"><a href=\"https://www.houstonchronicle.com/business/energy/article/Texas-has-enough-sun-and-wind-to-quit-coal-Rice-13501700.php\" class=\"storylink\">Texas has enough sun and wind to quit coal, Rice researchers say</a><span class=\"sitebit comhead\"> (<a href=\"from?site=houstonchronicle.com\"><span class=\"sitestr\">houstonchronicle.com</span></a>)</span></td></tr><tr><td colspan=\"2\"></td><td class=\"subtext\">\\n        <span class=\"score\" id=\"score_18815995\">108 points</span> by <a href=\"user?id=myinnerbanjo\" class=\"hnuser\">myinnerbanjo</a> <span class=\"age\"><a href=\"item?id=18815995\">3 hours ago</a></span> <span id=\"unv_18815995\"></span> | <a href=\"hide?id=18815995&amp;goto=news\">hide</a> | <a href=\"item?id=18815995\">36&nbsp;comments</a>              </td></tr>\\n      <tr class=\"spacer\" style=\"height:5px\"></tr>\\n                <tr class=\\'athing\\' id=\\'18811554\\'>\\n      <td align=\"right\" valign=\"top\" class=\"title\"><span class=\"rank\">18.</span></td>      <td valign=\"top\" class=\"votelinks\"><center><a id=\\'up_18811554\\' href=\\'vote?id=18811554&amp;how=up&amp;goto=news\\'><div class=\\'votearrow\\' title=\\'upvote\\'></div></a></center></td><td class=\"title\"><a href=\"https://www.ucsf.edu/news/2018/12/412946/artificial-intelligence-can-detect-alzheimers-disease-brain-scans-six-years\" class=\"storylink\">AI Can Detect Alzheimer’s Disease Six Years Before a Diagnosis</a><span class=\"sitebit comhead\"> (<a href=\"from?site=ucsf.edu\"><span class=\"sitestr\">ucsf.edu</span></a>)</span></td></tr><tr><td colspan=\"2\"></td><td class=\"subtext\">\\n        <span class=\"score\" id=\"score_18811554\">178 points</span> by <a href=\"user?id=laurex\" class=\"hnuser\">laurex</a> <span class=\"age\"><a href=\"item?id=18811554\">12 hours ago</a></span> <span id=\"unv_18811554\"></span> | <a href=\"hide?id=18811554&amp;goto=news\">hide</a> | <a href=\"item?id=18811554\">83&nbsp;comments</a>              </td></tr>\\n      <tr class=\"spacer\" style=\"height:5px\"></tr>\\n                <tr class=\\'athing\\' id=\\'18815037\\'>\\n      <td align=\"right\" valign=\"top\" class=\"title\"><span class=\"rank\">19.</span></td>      <td valign=\"top\" class=\"votelinks\"><center><a id=\\'up_18815037\\' href=\\'vote?id=18815037&amp;how=up&amp;goto=news\\'><div class=\\'votearrow\\' title=\\'upvote\\'></div></a></center></td><td class=\"title\"><a href=\"https://www.newsweek.com/astronaut-accidentally-calls-911-space-1276892\" class=\"storylink\">An Astronaut Accidentally Called 911 from Space</a><span class=\"sitebit comhead\"> (<a href=\"from?site=newsweek.com\"><span class=\"sitestr\">newsweek.com</span></a>)</span></td></tr><tr><td colspan=\"2\"></td><td class=\"subtext\">\\n        <span class=\"score\" id=\"score_18815037\">170 points</span> by <a href=\"user?id=sanqui\" class=\"hnuser\">sanqui</a> <span class=\"age\"><a href=\"item?id=18815037\">5 hours ago</a></span> <span id=\"unv_18815037\"></span> | <a href=\"hide?id=18815037&amp;goto=news\">hide</a> | <a href=\"item?id=18815037\">88&nbsp;comments</a>              </td></tr>\\n      <tr class=\"spacer\" style=\"height:5px\"></tr>\\n                <tr class=\\'athing\\' id=\\'18817558\\'>\\n      <td align=\"right\" valign=\"top\" class=\"title\"><span class=\"rank\">20.</span></td>      <td valign=\"top\" class=\"votelinks\"><center><a id=\\'up_18817558\\' href=\\'vote?id=18817558&amp;how=up&amp;goto=news\\'><div class=\\'votearrow\\' title=\\'upvote\\'></div></a></center></td><td class=\"title\"><a href=\"https://www.theatlantic.com/health/archive/2019/01/skin-care-secret-wealth/579337/\" class=\"storylink\">The Best Skin-Care Trick: Be Rich</a><span class=\"sitebit comhead\"> (<a href=\"from?site=theatlantic.com\"><span class=\"sitestr\">theatlantic.com</span></a>)</span></td></tr><tr><td colspan=\"2\"></td><td class=\"subtext\">\\n        <span class=\"score\" id=\"score_18817558\">24 points</span> by <a href=\"user?id=coloneltcb\" class=\"hnuser\">coloneltcb</a> <span class=\"age\"><a href=\"item?id=18817558\">51 minutes ago</a></span> <span id=\"unv_18817558\"></span> | <a href=\"hide?id=18817558&amp;goto=news\">hide</a> | <a href=\"item?id=18817558\">4&nbsp;comments</a>              </td></tr>\\n      <tr class=\"spacer\" style=\"height:5px\"></tr>\\n                <tr class=\\'athing\\' id=\\'18815856\\'>\\n      <td align=\"right\" valign=\"top\" class=\"title\"><span class=\"rank\">21.</span></td>      <td valign=\"top\" class=\"votelinks\"><center><a id=\\'up_18815856\\' href=\\'vote?id=18815856&amp;how=up&amp;goto=news\\'><div class=\\'votearrow\\' title=\\'upvote\\'></div></a></center></td><td class=\"title\"><a href=\"https://www.bbc.co.uk/news/technology-46746593\" class=\"storylink\">Gaming worth more than video and music combined</a><span class=\"sitebit comhead\"> (<a href=\"from?site=bbc.co.uk\"><span class=\"sitestr\">bbc.co.uk</span></a>)</span></td></tr><tr><td colspan=\"2\"></td><td class=\"subtext\">\\n        <span class=\"score\" id=\"score_18815856\">68 points</span> by <a href=\"user?id=adzicg\" class=\"hnuser\">adzicg</a> <span class=\"age\"><a href=\"item?id=18815856\">3 hours ago</a></span> <span id=\"unv_18815856\"></span> | <a href=\"hide?id=18815856&amp;goto=news\">hide</a> | <a href=\"item?id=18815856\">88&nbsp;comments</a>              </td></tr>\\n      <tr class=\"spacer\" style=\"height:5px\"></tr>\\n                <tr class=\\'athing\\' id=\\'18814743\\'>\\n      <td align=\"right\" valign=\"top\" class=\"title\"><span class=\"rank\">22.</span></td>      <td valign=\"top\" class=\"votelinks\"><center><a id=\\'up_18814743\\' href=\\'vote?id=18814743&amp;how=up&amp;goto=news\\'><div class=\\'votearrow\\' title=\\'upvote\\'></div></a></center></td><td class=\"title\"><a href=\"http://nautil.us/issue/68/context/how-alan-turing-deciphered-shark-skin\" class=\"storylink\">How Alan Turing Deciphered Shark Skin</a><span class=\"sitebit comhead\"> (<a href=\"from?site=nautil.us\"><span class=\"sitestr\">nautil.us</span></a>)</span></td></tr><tr><td colspan=\"2\"></td><td class=\"subtext\">\\n        <span class=\"score\" id=\"score_18814743\">50 points</span> by <a href=\"user?id=dnetesn\" class=\"hnuser\">dnetesn</a> <span class=\"age\"><a href=\"item?id=18814743\">5 hours ago</a></span> <span id=\"unv_18814743\"></span> | <a href=\"hide?id=18814743&amp;goto=news\">hide</a> | <a href=\"item?id=18814743\">discuss</a>              </td></tr>\\n      <tr class=\"spacer\" style=\"height:5px\"></tr>\\n                <tr class=\\'athing\\' id=\\'18816129\\'>\\n      <td align=\"right\" valign=\"top\" class=\"title\"><span class=\"rank\">23.</span></td>      <td valign=\"top\" class=\"votelinks\"><center><a id=\\'up_18816129\\' href=\\'vote?id=18816129&amp;how=up&amp;goto=news\\'><div class=\\'votearrow\\' title=\\'upvote\\'></div></a></center></td><td class=\"title\"><a href=\"https://necunos.com/news/necunos-nc_1-and_ne_1-press-release/\" class=\"storylink\">Necunos NC_1 and NE_1 open-source smart phone press release</a><span class=\"sitebit comhead\"> (<a href=\"from?site=necunos.com\"><span class=\"sitestr\">necunos.com</span></a>)</span></td></tr><tr><td colspan=\"2\"></td><td class=\"subtext\">\\n        <span class=\"score\" id=\"score_18816129\">9 points</span> by <a href=\"user?id=lisper\" class=\"hnuser\">lisper</a> <span class=\"age\"><a href=\"item?id=18816129\">3 hours ago</a></span> <span id=\"unv_18816129\"></span> | <a href=\"hide?id=18816129&amp;goto=news\">hide</a> | <a href=\"item?id=18816129\">2&nbsp;comments</a>              </td></tr>\\n      <tr class=\"spacer\" style=\"height:5px\"></tr>\\n                <tr class=\\'athing\\' id=\\'18814703\\'>\\n      <td align=\"right\" valign=\"top\" class=\"title\"><span class=\"rank\">24.</span></td>      <td valign=\"top\" class=\"votelinks\"><center><a id=\\'up_18814703\\' href=\\'vote?id=18814703&amp;how=up&amp;goto=news\\'><div class=\\'votearrow\\' title=\\'upvote\\'></div></a></center></td><td class=\"title\"><a href=\"https://www.solipsys.co.uk/new/LatitudeCorrection.html?sa03h\" class=\"storylink\">Measuring the size of the Earth by watching a shadow on a wall</a><span class=\"sitebit comhead\"> (<a href=\"from?site=solipsys.co.uk\"><span class=\"sitestr\">solipsys.co.uk</span></a>)</span></td></tr><tr><td colspan=\"2\"></td><td class=\"subtext\">\\n        <span class=\"score\" id=\"score_18814703\">66 points</span> by <a href=\"user?id=ColinWright\" class=\"hnuser\">ColinWright</a> <span class=\"age\"><a href=\"item?id=18814703\">6 hours ago</a></span> <span id=\"unv_18814703\"></span> | <a href=\"hide?id=18814703&amp;goto=news\">hide</a> | <a href=\"item?id=18814703\">2&nbsp;comments</a>              </td></tr>\\n      <tr class=\"spacer\" style=\"height:5px\"></tr>\\n                <tr class=\\'athing\\' id=\\'18814416\\'>\\n      <td align=\"right\" valign=\"top\" class=\"title\"><span class=\"rank\">25.</span></td>      <td valign=\"top\" class=\"votelinks\"><center><a id=\\'up_18814416\\' href=\\'vote?id=18814416&amp;how=up&amp;goto=news\\'><div class=\\'votearrow\\' title=\\'upvote\\'></div></a></center></td><td class=\"title\"><a href=\"https://learnjavascript.online/\" class=\"storylink\">Show HN: Learn and practice modern JavaScript</a><span class=\"sitebit comhead\"> (<a href=\"from?site=learnjavascript.online\"><span class=\"sitestr\">learnjavascript.online</span></a>)</span></td></tr><tr><td colspan=\"2\"></td><td class=\"subtext\">\\n        <span class=\"score\" id=\"score_18814416\">196 points</span> by <a href=\"user?id=jadjoubran\" class=\"hnuser\">jadjoubran</a> <span class=\"age\"><a href=\"item?id=18814416\">7 hours ago</a></span> <span id=\"unv_18814416\"></span> | <a href=\"hide?id=18814416&amp;goto=news\">hide</a> | <a href=\"item?id=18814416\">67&nbsp;comments</a>              </td></tr>\\n      <tr class=\"spacer\" style=\"height:5px\"></tr>\\n                <tr class=\\'athing\\' id=\\'18812850\\'>\\n      <td align=\"right\" valign=\"top\" class=\"title\"><span class=\"rank\">26.</span></td>      <td valign=\"top\" class=\"votelinks\"><center><a id=\\'up_18812850\\' href=\\'vote?id=18812850&amp;how=up&amp;goto=news\\'><div class=\\'votearrow\\' title=\\'upvote\\'></div></a></center></td><td class=\"title\"><a href=\"https://www.the-tls.co.uk/articles/public/ludwig-wittgenstein-honesty-ground/\" class=\"storylink\">The relentless honesty of Ludwig Wittgenstein (2017)</a><span class=\"sitebit comhead\"> (<a href=\"from?site=the-tls.co.uk\"><span class=\"sitestr\">the-tls.co.uk</span></a>)</span></td></tr><tr><td colspan=\"2\"></td><td class=\"subtext\">\\n        <span class=\"score\" id=\"score_18812850\">114 points</span> by <a href=\"user?id=neonate\" class=\"hnuser\">neonate</a> <span class=\"age\"><a href=\"item?id=18812850\">10 hours ago</a></span> <span id=\"unv_18812850\"></span> | <a href=\"hide?id=18812850&amp;goto=news\">hide</a> | <a href=\"item?id=18812850\">42&nbsp;comments</a>              </td></tr>\\n      <tr class=\"spacer\" style=\"height:5px\"></tr>\\n                <tr class=\\'athing\\' id=\\'18815105\\'>\\n      <td align=\"right\" valign=\"top\" class=\"title\"><span class=\"rank\">27.</span></td>      <td valign=\"top\" class=\"votelinks\"><center><a id=\\'up_18815105\\' href=\\'vote?id=18815105&amp;how=up&amp;goto=news\\'><div class=\\'votearrow\\' title=\\'upvote\\'></div></a></center></td><td class=\"title\"><a href=\"https://9to5google.com/2019/01/02/android-runtime-app-support-fuchsia/?xyz\" class=\"storylink\">Google’s Fuchsia OS Confirmed to Have Android App Support via Android Runtime</a><span class=\"sitebit comhead\"> (<a href=\"from?site=9to5google.com\"><span class=\"sitestr\">9to5google.com</span></a>)</span></td></tr><tr><td colspan=\"2\"></td><td class=\"subtext\">\\n        <span class=\"score\" id=\"score_18815105\">129 points</span> by <a href=\"user?id=AlexeyBrin\" class=\"hnuser\">AlexeyBrin</a> <span class=\"age\"><a href=\"item?id=18815105\">5 hours ago</a></span> <span id=\"unv_18815105\"></span> | <a href=\"hide?id=18815105&amp;goto=news\">hide</a> | <a href=\"item?id=18815105\">96&nbsp;comments</a>              </td></tr>\\n      <tr class=\"spacer\" style=\"height:5px\"></tr>\\n                <tr class=\\'athing\\' id=\\'18812823\\'>\\n      <td align=\"right\" valign=\"top\" class=\"title\"><span class=\"rank\">28.</span></td>      <td valign=\"top\" class=\"votelinks\"><center><a id=\\'up_18812823\\' href=\\'vote?id=18812823&amp;how=up&amp;goto=news\\'><div class=\\'votearrow\\' title=\\'upvote\\'></div></a></center></td><td class=\"title\"><a href=\"https://www.theatlantic.com/science/archive/2019/01/cancer-culture-media-plasmax/579283/\" class=\"storylink\">By growing cells in unrealistic liquids, scientists may have skewed results</a><span class=\"sitebit comhead\"> (<a href=\"from?site=theatlantic.com\"><span class=\"sitestr\">theatlantic.com</span></a>)</span></td></tr><tr><td colspan=\"2\"></td><td class=\"subtext\">\\n        <span class=\"score\" id=\"score_18812823\">139 points</span> by <a href=\"user?id=lnguyen\" class=\"hnuser\">lnguyen</a> <span class=\"age\"><a href=\"item?id=18812823\">14 hours ago</a></span> <span id=\"unv_18812823\"></span> | <a href=\"hide?id=18812823&amp;goto=news\">hide</a> | <a href=\"item?id=18812823\">45&nbsp;comments</a>              </td></tr>\\n      <tr class=\"spacer\" style=\"height:5px\"></tr>\\n                <tr class=\\'athing\\' id=\\'18816984\\'>\\n      <td align=\"right\" valign=\"top\" class=\"title\"><span class=\"rank\">29.</span></td>      <td valign=\"top\" class=\"votelinks\"><center><a id=\\'up_18816984\\' href=\\'vote?id=18816984&amp;how=up&amp;goto=news\\'><div class=\\'votearrow\\' title=\\'upvote\\'></div></a></center></td><td class=\"title\"><a href=\"https://www.reuters.com/article/us-google-taxes-netherlands/google-shifted-23-billion-to-tax-haven-bermuda-in-2017-filing-idUSKCN1OX1G9\" class=\"storylink\">Google shifted $23B to tax haven Bermuda in 2017</a><span class=\"sitebit comhead\"> (<a href=\"from?site=reuters.com\"><span class=\"sitestr\">reuters.com</span></a>)</span></td></tr><tr><td colspan=\"2\"></td><td class=\"subtext\">\\n        <span class=\"score\" id=\"score_18816984\">133 points</span> by <a href=\"user?id=spking\" class=\"hnuser\">spking</a> <span class=\"age\"><a href=\"item?id=18816984\">1 hour ago</a></span> <span id=\"unv_18816984\"></span> | <a href=\"hide?id=18816984&amp;goto=news\">hide</a> | <a href=\"item?id=18816984\">138&nbsp;comments</a>              </td></tr>\\n      <tr class=\"spacer\" style=\"height:5px\"></tr>\\n                <tr class=\\'athing\\' id=\\'18816385\\'>\\n      <td align=\"right\" valign=\"top\" class=\"title\"><span class=\"rank\">30.</span></td>      <td valign=\"top\" class=\"votelinks\"><center><a id=\\'up_18816385\\' href=\\'vote?id=18816385&amp;how=up&amp;goto=news\\'><div class=\\'votearrow\\' title=\\'upvote\\'></div></a></center></td><td class=\"title\"><a href=\"https://evertpot.com/a-look-back-at-sf/\" class=\"storylink\">One Year in San Francisco as a Software Engineer</a><span class=\"sitebit comhead\"> (<a href=\"from?site=evertpot.com\"><span class=\"sitestr\">evertpot.com</span></a>)</span></td></tr><tr><td colspan=\"2\"></td><td class=\"subtext\">\\n        <span class=\"score\" id=\"score_18816385\">151 points</span> by <a href=\"user?id=treve\" class=\"hnuser\">treve</a> <span class=\"age\"><a href=\"item?id=18816385\">2 hours ago</a></span> <span id=\"unv_18816385\"></span> | <a href=\"hide?id=18816385&amp;goto=news\">hide</a> | <a href=\"item?id=18816385\">129&nbsp;comments</a>              </td></tr>\\n      <tr class=\"spacer\" style=\"height:5px\"></tr>\\n            <tr class=\"morespace\" style=\"height:10px\"></tr><tr><td colspan=\"2\"></td><td class=\"title\"><a href=\"news?p=2\" class=\"morelink\" rel=\"nofollow\">More</a></td></tr>\\n  </table>\\n</td></tr>\\n<tr><td><img src=\"s.gif\" height=\"10\" width=\"0\"><table width=\"100%\" cellspacing=\"0\" cellpadding=\"1\"><tr><td bgcolor=\"#ff6600\"></td></tr></table><br><center><span class=\"yclinks\"><a href=\"newsguidelines.html\">Guidelines</a>\\n        | <a href=\"newsfaq.html\">FAQ</a>\\n        | <a href=\"mailto:hn@ycombinator.com\">Support</a>\\n        | <a href=\"https://github.com/HackerNews/API\">API</a>\\n        | <a href=\"security.html\">Security</a>\\n        | <a href=\"lists\">Lists</a>\\n        | <a href=\"bookmarklet.html\" rel=\"nofollow\">Bookmarklet</a>\\n        | <a href=\"http://www.ycombinator.com/legal/\">Legal</a>\\n        | <a href=\"http://www.ycombinator.com/apply/\">Apply to YC</a>\\n        | <a href=\"mailto:hn@ycombinator.com\">Contact</a></span><br><br><form method=\"get\" action=\"//hn.algolia.com/\">Search:\\n          <input type=\"text\" name=\"q\" value=\"\" size=\"17\" autocorrect=\"off\" spellcheck=\"false\" autocapitalize=\"off\" autocomplete=\"false\"></form>\\n            </center></td></tr>\\n      </table></center></body><script type=\\'text/javascript\\' src=\\'hn.js?jauFNMe4dhmllqVDfcow\\'></script>\\n  </html>\\n'"
      ]
     },
     "execution_count": 10,
     "metadata": {},
     "output_type": "execute_result"
    }
   ],
   "source": [
    "res.text"
   ]
  },
  {
   "cell_type": "code",
   "execution_count": 11,
   "metadata": {},
   "outputs": [],
   "source": [
    "url = 'http://www.google.com'"
   ]
  },
  {
   "cell_type": "code",
   "execution_count": 12,
   "metadata": {},
   "outputs": [],
   "source": [
    "response = requests.get(url)"
   ]
  },
  {
   "cell_type": "code",
   "execution_count": 16,
   "metadata": {},
   "outputs": [
    {
     "name": "stdout",
     "output_type": "stream",
     "text": [
      "your request to http://www.google.com came back w/ code 200\n"
     ]
    }
   ],
   "source": [
    "print(f'your request to {url} came back w/ code {response.status_code}')"
   ]
  },
  {
   "cell_type": "markdown",
   "metadata": {},
   "source": [
    "# Requesting w/ JSON"
   ]
  },
  {
   "cell_type": "code",
   "execution_count": 17,
   "metadata": {},
   "outputs": [],
   "source": [
    "url = 'https://icanhazdadjoke.com/'"
   ]
  },
  {
   "cell_type": "code",
   "execution_count": 18,
   "metadata": {},
   "outputs": [],
   "source": [
    "response = requests.get(url)"
   ]
  },
  {
   "cell_type": "code",
   "execution_count": 19,
   "metadata": {},
   "outputs": [
    {
     "name": "stdout",
     "output_type": "stream",
     "text": [
      "<!DOCTYPE html>\n",
      "<html lang=\"en\">\n",
      "<head>\n",
      "<meta charset=\"utf-8\">\n",
      "<meta http-equiv=\"X-UA-Compatible\" content=\"IE=edge\">\n",
      "<meta name=\"viewport\" content=\"width=device-width, initial-scale=1, minimum-scale=1\">\n",
      "<meta name=\"description\" content=\"The largest collection of dad jokes on the internet\" />\n",
      "<meta name=\"author\" content=\"C653 Labs\" />\n",
      "<meta name=\"keywords\" content=\"dad,joke,funny,slack,alexa\" />\n",
      "<meta property=\"og:site_name\" content=\"icanhazdadjoke\" />\n",
      "<meta property=\"og:title\" content=\"icanhazdadjoke\" />\n",
      "<meta property=\"og:type\" content=\"website\" />\n",
      "<meta property=\"og:url\" content=\"https://icanhazdadjoke.com/j/eVKRZTKeiib\" />\n",
      "<meta property=\"og:description\" content=\"A man is washing the car with his son. The son asks...... \" Dad, can’t you just use a sponge?\"\" />\n",
      "<meta property=\"og:image:url\" content=\"https://icanhazdadjoke.com/j/eVKRZTKeiib.png\" />\n",
      "<meta property=\"og:image:secure_url\" content=\"https://icanhazdadjoke.com/j/eVKRZTKeiib.png\" />\n",
      "<meta property=\"og:image:secure_url\" content=\"https://icanhazdadjoke.com/static/smile.png\" />\n",
      "<meta property=\"og:image:type\" content=\"image/png\" />\n",
      "<meta name=\"twitter:card\" content=\"summary\">\n",
      "<meta name=\"twitter:site\" content=\"@icanhazdadjoke\">\n",
      "<meta name=\"twitter:title\" content=\"icanhzdadjoke\">\n",
      "<meta name=\"twitter:description\" content=\"A man is washing the car with his son. The son asks...... \" Dad, can’t you just use a sponge?\"\">\n",
      "<meta name=\"twitter:image\" content=\"https://icanhazdadjoke.com/static/smile.png\">\n",
      "<meta name=\"twitter:url\" content=\"https://icanhazdadjoke.com/j/eVKRZTKeiib\" />\n",
      "<link rel=\"canonical\" href=\"https://icanhazdadjoke.com/j/eVKRZTKeiib\">\n",
      "<link rel=\"amphtml\" href=\"https://icanhazdadjoke.com/j/eVKRZTKeiib/amp\">\n",
      "<title>icanhazdadjoke</title>\n",
      "<link rel=\"apple-touch-icon\" sizes=\"180x180\" href=\"/static/apple-touch-icon.png\">\n",
      "<link rel=\"icon\" type=\"image/png\" href=\"/static/favicon-32x32.png\" sizes=\"32x32\">\n",
      "<link rel=\"icon\" type=\"image/png\" href=\"/static/favicon-16x16.png\" sizes=\"16x16\">\n",
      "<link rel=\"manifest\" href=\"/static/manifest.json\">\n",
      "<link rel=\"mask-icon\" href=\"/static/safari-pinned-tab.svg\" color=\"#1fc8db\">\n",
      "<link rel=\"shortcut icon\" href=\"/static/favicon.ico\">\n",
      "<meta name=\"msapplication-config\" content=\"/static/browserconfig.xml\">\n",
      "<meta name=\"theme-color\" content=\"#ffffff\">\n",
      "<link rel=\"stylesheet\" href=\"/static/dist/style.css?55f4ea12\">\n",
      "<script type=\"application/ld+json\">\n",
      "      {\n",
      "        \"@context\": \"http://schema.org\",\n",
      "        \"@type\": \"WebSite\",\n",
      "        \"url\": \"https://icanhazdadjoke.com/\",\n",
      "        \"name\": \"icanhazdadjoke\",\n",
      "        \"description\": \"The largest collection of dad jokes on the internet\",\n",
      "        \"potentialAction\": {\n",
      "          \"@type\": \"SearchAction\",\n",
      "          \"target\": \"https://icanhazdadjoke.com/search?term={search_term_string}\",\n",
      "          \"query-input\": \"required name=search_term_string\"\n",
      "        }\n",
      "      }\n",
      "    </script>\n",
      "<script type=\"application/ld+json\">\n",
      "      {\n",
      "        \"@context\": \"http://schema.org\",\n",
      "        \"@type\": \"Organization\",\n",
      "        \"url\": \"https://icanhazdadjoke.com/\",\n",
      "        \"logo\": \"https://icanhazdadjoke.com/static/smile.png\",\n",
      "        \"name\": \"icanhazdadjoke\",\n",
      "        \"description\": \"The largest collection of dad jokes on the internet\",\n",
      "        \"email\": \"support@icanhazdadjoke.com\"\n",
      "      }\n",
      "    </script>\n",
      "<script async src=\"//pagead2.googlesyndication.com/pagead/js/adsbygoogle.js\"></script>\n",
      "<script>\n",
      "      (adsbygoogle = window.adsbygoogle || []).push({google_ad_client: \"ca-pub-3200991035275362\", enable_page_level_ads: true});\n",
      "    </script>\n",
      "</head>\n",
      "<body>\n",
      "<nav class=\"nav has-shadow\">\n",
      "<div class=\"container\">\n",
      "<div class=\"nav-left\">\n",
      "<a class=\"nav-item is-brand\" href=\"/\">\n",
      "<img src=\"/static/smile.svg\" alt=\"icanhazdadjoke logo\" />\n",
      "<span class=\"subtitle pushhalf--left\">\n",
      "icanhazdadjoke\n",
      "</span>\n",
      "</a>\n",
      "</div>\n",
      "<span id=\"nav-toggle\" class=\"nav-toggle\">\n",
      "<span></span>\n",
      "<span></span>\n",
      "<span></span>\n",
      "</span>\n",
      "<div id=\"nav-menu\" class=\"nav-right nav-menu\">\n",
      "<a class=\"nav-item is-tab\" href=\"/\">\n",
      "<span class=\"icon is-small\">\n",
      "<i class=\"fa fa-random\"></i>\n",
      "</span>\n",
      "<span class=\"pushquarter--left\">\n",
      "Random joke\n",
      "</span>\n",
      "</a>\n",
      "<a class=\"nav-item is-tab\" href=\"/search\">\n",
      "<span class=\"icon is-small\">\n",
      "<i class=\"fa fa-search\"></i>\n",
      "</span>\n",
      "<span class=\"pushquarter--left\">\n",
      "Search jokes\n",
      "</span>\n",
      "</a>\n",
      "<a class=\"nav-item is-tab\" href=\"/submit\">\n",
      "<span class=\"icon is-small\">\n",
      "<i class=\"fa fa-pencil-square-o\"></i>\n",
      "</span>\n",
      "<span class=\"pushquarter--left\">\n",
      "Submit new joke\n",
      "</span>\n",
      "</a>\n",
      "<div class=\"nav-item\">\n",
      "<a href=\"/slack-add\" style=\"height:40px; max-width:139px\">\n",
      "<img alt=\"Add to Slack\" height=\"40\" width=\"139\" src=\"https://platform.slack-edge.com/img/add_to_slack.png\" style=\"width:139px; height:40px; max-height: 40px\" srcset=\"https://platform.slack-edge.com/img/add_to_slack.png 1x, https://platform.slack-edge.com/img/add_to_slack@2x.png 2x\" />\n",
      "</a>\n",
      "</div>\n",
      "<div class=\"nav-item\">\n",
      "<a class=\"button\" target=\"_blank\" href=\"https://www.amazon.com/Brett-Langdon-icanhazdadjoke/dp/B01N6CQ3NZ/\" style=\"background-color: #ffffff; color: #5ebfe4; border-radius: 6px; font-weight: 500; height:40px; width:139px; max-width:139px\">\n",
      "<img src=\"/static/alexa-logo.png\" style=\"margin-left: -0.5em;\">\n",
      "Add to <strong style=\"margin-left: 0.25em\">Alexa</strong>\n",
      "</a>\n",
      "</div>\n",
      "</div>\n",
      "</div>\n",
      "</nav>\n",
      "<section class=\"section\">\n",
      "<div class=\"container\">\n",
      "<div class=\"level\">\n",
      "<div class=\"level-left\">\n",
      "<div class=\"content level-item\">\n",
      "<h1>Random dad joke:</h1>\n",
      "</div>\n",
      "</div>\n",
      "<div class=\"level-right\">\n",
      "<a class=\"button is-primary level-item\" href=\"/\">\n",
      "<span class=\"icon is-small\">\n",
      "<i class=\"fa fa-random\"></i>\n",
      "</span>\n",
      "<span>\n",
      "New joke\n",
      "</span>\n",
      "</a>\n",
      "</div>\n",
      "</div>\n",
      "<div class=\"content\">\n",
      "<div class=\"card\">\n",
      "<div class=\"card-content\">\n",
      "<p class=\"subtitle\">A man is washing the car with his son. The son asks...... \"Dad, can’t you just use a sponge?\"</p>\n",
      "</div>\n",
      "<footer class=\"card-footer\">\n",
      "<a class=\"card-footer-item\" href=\"/j/eVKRZTKeiib\">\n",
      "<span class=\"icon is-small\">\n",
      "<i class=\"fa fa-chain\"></i>\n",
      "</span>\n",
      "<span class=\"pushquarter--left\">\n",
      "Permalink\n",
      "</span>\n",
      "</a>\n",
      "<a class=\"card-footer-item\" target=\"_blank\" href=\"https://twitter.com/intent/tweet?url=https://icanhazdadjoke.com%2Fj%2FeVKRZTKeiib%2Famp&text=Check+out+this+%23dadjoke&via=icanhazdadjoke\">\n",
      "<span class=\"icon is-small\">\n",
      "<i class=\"fa fa-twitter\"></i>\n",
      "</span>\n",
      "<span class=\"pushquarter--left\">\n",
      "Share on Twitter\n",
      "</span>\n",
      "</a>\n",
      "</footer>\n",
      "</div>\n",
      "</div>\n",
      "<div class=\"content pushwhole--top\">\n",
      "<ins class=\"adsbygoogle\" style=\"display:block\" data-ad-client=\"ca-pub-3200991035275362\" data-ad-slot=\"5324903139\" data-ad-format=\"auto\"></ins>\n",
      "</div>\n",
      "<script>\n",
      "          (adsbygoogle = window.adsbygoogle || []).push({});\n",
      "        </script>\n",
      "</div>\n",
      "</section>\n",
      "<footer class=\"footer\">\n",
      "<div class=\"container\">\n",
      "<div class=\"columns\">\n",
      "<div class=\"column is-5\">\n",
      "<div class=\"content\">\n",
      "<p>\n",
      "<strong>icanhazdadjoke.com</strong> by <a href=\"https://c653labs.com/\">C653 Labs</a>.\n",
      "</p>\n",
      "<p>\n",
      "<i>icanhazdadjoke.com</i> is the largest selection of dad jokes on the internet.\n",
      "Now supporting many different integrations to ensure you can access the dad jokes that you need wherever you are.\n",
      "</p>\n",
      "</div>\n",
      "</div>\n",
      "<div class=\"column is-3\"></div>\n",
      "<div class=\"column is-2\">\n",
      "<aside class=\"menu\">\n",
      "<ul class=\"menu-list\">\n",
      "<li><a href=\"/cdn-cgi/l/email-protection#72010702021d0006321b11131c1a1308161316181d19175c111d1f\" target=\"_blank\">Contact</a></li>\n",
      "<li><a href=\"https://twitter.com/icanhazdadjoke\" target=\"_blank\">Twitter</a></li>\n",
      "<li><a href=\"https://slack.com/apps/A214NCJF2-icanhazdadjoke\" target=\"_blank\">Slack app</a></li>\n",
      "<li><a href=\"https://www.amazon.com/Brett-Langdon-icanhazdadjoke/dp/B01N6CQ3NZ/\" target=\"_blank\">Alexa skill</a></li>\n",
      "<li><a href=\"https://discordapp.com/api/oauth2/authorize?client_id=467365247921946626&permissions=0&scope=bot\" target=\"_blank\">Discord bot</a></li>\n",
      "<li><a href=\"https://marketplace.atlassian.com/plugins/com.icanhazdadjoke/cloud/overview\" target=\"_blank\">HipChat plugin</a></li>\n",
      "<li><a href=\"https://twistapp.com/integrations/install/20_901fa9d3df5b8784d3ddc56e\" target=\"_blank\">Twist integration</a></li>\n",
      "</ul>\n",
      "</aside>\n",
      "</div>\n",
      "<div class=\"column is-2\">\n",
      "<aside class=\"menu\">\n",
      "<ul class=\"menu-list\">\n",
      "<li><a href=\"/about\">About</a></li>\n",
      "<li><a href=\"/api\">API</a></li>\n",
      "<li><a href=\"/\">Random joke</a></li>\n",
      "<li><a href=\"/search\">Search jokes</a></li>\n",
      "<li><a href=\"/submit\">Submit new joke</a></li>\n",
      "</ul>\n",
      "</aside>\n",
      "</div>\n",
      "</div>\n",
      "</div>\n",
      "</footer>\n",
      "<script data-cfasync=\"false\" src=\"/cdn-cgi/scripts/5c5dd728/cloudflare-static/email-decode.min.js\"></script><script>\n",
      "        (function(i,s,o,g,r,a,m){i['GoogleAnalyticsObject']=r;i[r]=i[r]||function(){\n",
      "        (i[r].q=i[r].q||[]).push(arguments)},i[r].l=1*new Date();a=s.createElement(o),\n",
      "        m=s.getElementsByTagName(o)[0];a.async=1;a.src=g;m.parentNode.insertBefore(a,m)\n",
      "        })(window,document,'script','https://www.google-analytics.com/analytics.js','ga');\n",
      "\n",
      "        ga('create', 'UA-82372853-1', 'auto');\n",
      "        ga('send', 'pageview');\n",
      "        </script>\n",
      "<script>\n",
      "      document.addEventListener('click', function (evt) {\n",
      "        if (evt.target.id === 'nav-toggle' || evt.target.parent.id === 'nav-toggle') {\n",
      "          document.getElementById('nav-menu').classList.toggle('is-active');\n",
      "        }\n",
      "      });\n",
      "    </script>\n",
      "\n",
      "<script type=\"text/javascript\">\n",
      "      /* <![CDATA[ */\n",
      "      var google_conversion_id = 855658655;\n",
      "      var google_conversion_language = \"en\";\n",
      "      var google_conversion_format = \"3\";\n",
      "      var google_conversion_color = \"ffffff\";\n",
      "      var google_conversion_label = \"gdOKCMjzmHAQn6GBmAM\";\n",
      "      var google_remarketing_only = false;\n",
      "      /* ]]> */\n",
      "    </script>\n",
      "<script type=\"text/javascript\" src=\"//www.googleadservices.com/pagead/conversion.js\"></script>\n",
      "<noscript>\n",
      "      <div style=\"display:inline;\">\n",
      "        <img height=\"1\" width=\"1\" style=\"border-style:none;\" alt=\"\" src=\"//www.googleadservices.com/pagead/conversion/855658655/?label=gdOKCMjzmHAQn6GBmAM&amp;guid=ON&amp;script=0\"/>\n",
      "      </div>\n",
      "    </noscript>\n",
      "</body>\n",
      "</html>\n"
     ]
    }
   ],
   "source": [
    "print(response.text)"
   ]
  },
  {
   "cell_type": "code",
   "execution_count": 20,
   "metadata": {},
   "outputs": [],
   "source": [
    "response = requests.get(url, headers={'Accept': 'text/plain'})"
   ]
  },
  {
   "cell_type": "code",
   "execution_count": 21,
   "metadata": {},
   "outputs": [
    {
     "name": "stdout",
     "output_type": "stream",
     "text": [
      "Why did Dracula lie in the wrong coffin? He made a grave mistake.\n"
     ]
    }
   ],
   "source": [
    "print(response.text)"
   ]
  },
  {
   "cell_type": "code",
   "execution_count": 22,
   "metadata": {},
   "outputs": [],
   "source": [
    "response = requests.get(url, headers={'Accept': 'application/json'})"
   ]
  },
  {
   "cell_type": "code",
   "execution_count": 23,
   "metadata": {},
   "outputs": [
    {
     "name": "stdout",
     "output_type": "stream",
     "text": [
      "{\"id\":\"ljqzkVKJtrc\",\"joke\":\"How do you get two whales in a car? Start in England and drive West.\",\"status\":200}\n",
      "\n"
     ]
    }
   ],
   "source": [
    "print(response.text)"
   ]
  },
  {
   "cell_type": "code",
   "execution_count": 26,
   "metadata": {},
   "outputs": [
    {
     "name": "stdout",
     "output_type": "stream",
     "text": [
      "<class 'str'>\n"
     ]
    }
   ],
   "source": [
    "print(type(response.text))"
   ]
  },
  {
   "cell_type": "code",
   "execution_count": 25,
   "metadata": {},
   "outputs": [
    {
     "name": "stdout",
     "output_type": "stream",
     "text": [
      "{'id': 'ljqzkVKJtrc', 'joke': 'How do you get two whales in a car? Start in England and drive West.', 'status': 200}\n"
     ]
    }
   ],
   "source": [
    "print(response.json())"
   ]
  },
  {
   "cell_type": "code",
   "execution_count": 27,
   "metadata": {},
   "outputs": [
    {
     "name": "stdout",
     "output_type": "stream",
     "text": [
      "<class 'dict'>\n"
     ]
    }
   ],
   "source": [
    "print(type(response.json()))"
   ]
  },
  {
   "cell_type": "code",
   "execution_count": 28,
   "metadata": {},
   "outputs": [],
   "source": [
    "data = response.json()"
   ]
  },
  {
   "cell_type": "code",
   "execution_count": 29,
   "metadata": {},
   "outputs": [
    {
     "data": {
      "text/plain": [
       "'How do you get two whales in a car? Start in England and drive West.'"
      ]
     },
     "execution_count": 29,
     "metadata": {},
     "output_type": "execute_result"
    }
   ],
   "source": [
    "data['joke']"
   ]
  },
  {
   "cell_type": "markdown",
   "metadata": {},
   "source": [
    "# Sending Requests w/ Params"
   ]
  },
  {
   "cell_type": "code",
   "execution_count": 30,
   "metadata": {},
   "outputs": [],
   "source": [
    "# Way to pass data to a server to get additional information\n",
    "# Query String www.example.com/?key1=value1&key2=value2"
   ]
  },
  {
   "cell_type": "code",
   "execution_count": 35,
   "metadata": {},
   "outputs": [],
   "source": [
    "url = 'https://icanhazdadjoke.com/search'"
   ]
  },
  {
   "cell_type": "code",
   "execution_count": 43,
   "metadata": {},
   "outputs": [],
   "source": [
    "response = requests.get(\n",
    "    url, \n",
    "    headers={'Accept': 'application/json'},\n",
    "    params={'term': 'cat', 'limit': 2}\n",
    ")"
   ]
  },
  {
   "cell_type": "code",
   "execution_count": 44,
   "metadata": {},
   "outputs": [
    {
     "data": {
      "text/plain": [
       "{'current_page': 1,\n",
       " 'limit': 2,\n",
       " 'next_page': 2,\n",
       " 'previous_page': 1,\n",
       " 'results': [{'id': 'daaUfibh',\n",
       "   'joke': 'Why was the big cat disqualified from the race? Because it was a cheetah.'},\n",
       "  {'id': '8UnrHe2T0g',\n",
       "   'joke': '‘Put the cat out’ … ‘I didn’t realize it was on fire'}],\n",
       " 'search_term': 'cat',\n",
       " 'status': 200,\n",
       " 'total_jokes': 7,\n",
       " 'total_pages': 3}"
      ]
     },
     "execution_count": 44,
     "metadata": {},
     "output_type": "execute_result"
    }
   ],
   "source": [
    "data = response.json()\n",
    "data"
   ]
  },
  {
   "cell_type": "code",
   "execution_count": 45,
   "metadata": {},
   "outputs": [
    {
     "data": {
      "text/plain": [
       "[{'id': 'daaUfibh',\n",
       "  'joke': 'Why was the big cat disqualified from the race? Because it was a cheetah.'},\n",
       " {'id': '8UnrHe2T0g',\n",
       "  'joke': '‘Put the cat out’ … ‘I didn’t realize it was on fire'}]"
      ]
     },
     "execution_count": 45,
     "metadata": {},
     "output_type": "execute_result"
    }
   ],
   "source": [
    "data['results']"
   ]
  },
  {
   "cell_type": "code",
   "execution_count": null,
   "metadata": {},
   "outputs": [],
   "source": [
    "# API Project,\n",
    "# 1) ask user for a topic\n",
    "# 2) send a request to dad jokes\n",
    "# 3) If there is a joke, choose 1 to display at random. If none say so"
   ]
  },
  {
   "cell_type": "code",
   "execution_count": 49,
   "metadata": {},
   "outputs": [
    {
     "name": "stdout",
     "output_type": "stream",
     "text": [
      "what is your age12\n"
     ]
    },
    {
     "data": {
      "text/plain": [
       "'12that is cool'"
      ]
     },
     "execution_count": 49,
     "metadata": {},
     "output_type": "execute_result"
    }
   ],
   "source": [
    "input('what is your age') + 'that is cool'"
   ]
  },
  {
   "cell_type": "code",
   "execution_count": 114,
   "metadata": {},
   "outputs": [
    {
     "data": {
      "text/plain": [
       "0"
      ]
     },
     "execution_count": 114,
     "metadata": {},
     "output_type": "execute_result"
    }
   ],
   "source": [
    "random.randrange(0,2)"
   ]
  },
  {
   "cell_type": "code",
   "execution_count": null,
   "metadata": {},
   "outputs": [],
   "source": []
  },
  {
   "cell_type": "code",
   "execution_count": 117,
   "metadata": {},
   "outputs": [],
   "source": [
    "import random\n",
    "import requests\n",
    "\n",
    "def dad_joke():\n",
    "    url = 'https://icanhazdadjoke.com/search'\n",
    "    topic = input('What joke topic: ') # get's input\n",
    "    \n",
    "    response = requests.get(\n",
    "    url, \n",
    "    headers={'Accept': 'application/json'},\n",
    "    params={'term': topic}\n",
    "    ).json()                    # sends requests and converts to json object\n",
    "    \n",
    "    jokes_in_set = response['total_jokes']  #checks to see if empty\n",
    "    \n",
    "    if jokes_in_set == 0:\n",
    "        return ('sorry no jokes on this topic')\n",
    "    else:\n",
    "        return response['results'][random.randrange(0,jokes_in_set)]['joke']"
   ]
  },
  {
   "cell_type": "code",
   "execution_count": 118,
   "metadata": {},
   "outputs": [
    {
     "name": "stdout",
     "output_type": "stream",
     "text": [
      "What joke topic: fish\n"
     ]
    },
    {
     "data": {
      "text/plain": [
       "'What do you call two barracuda fish?  A Pairacuda!'"
      ]
     },
     "execution_count": 118,
     "metadata": {},
     "output_type": "execute_result"
    }
   ],
   "source": [
    "dad_joke()"
   ]
  },
  {
   "cell_type": "code",
   "execution_count": null,
   "metadata": {},
   "outputs": [],
   "source": []
  }
 ],
 "metadata": {
  "kernelspec": {
   "display_name": "Python 3",
   "language": "python",
   "name": "python3"
  },
  "language_info": {
   "codemirror_mode": {
    "name": "ipython",
    "version": 3
   },
   "file_extension": ".py",
   "mimetype": "text/x-python",
   "name": "python",
   "nbconvert_exporter": "python",
   "pygments_lexer": "ipython3",
   "version": "3.7.0"
  }
 },
 "nbformat": 4,
 "nbformat_minor": 2
}
