{
 "cells": [
  {
   "cell_type": "code",
   "execution_count": 3,
   "metadata": {},
   "outputs": [
    {
     "name": "stdout",
     "output_type": "stream",
     "text": [
      " Volume in drive C is Windows\n",
      " Volume Serial Number is 220E-965B\n",
      "\n",
      " Directory of C:\\Users\\Tim\\Anaconda3\\GithubRepos\\DataScience\\Modern-Python3\n",
      "\n",
      "01/31/2019  02:57 PM    <DIR>          .\n",
      "01/31/2019  02:57 PM    <DIR>          ..\n",
      "01/31/2019  01:59 PM    <DIR>          .ipynb_checkpoints\n",
      "01/29/2019  02:53 PM    <DIR>          __pycache__\n",
      "12/11/2018  12:20 AM             8,025 12-Lists.ipynb\n",
      "01/25/2019  03:41 PM            25,817 15-Dictionaries.ipynb\n",
      "12/21/2018  06:13 PM            12,425 16-Tuples and Sets.ipynb\n",
      "12/28/2018  12:32 PM            25,470 17-Functions.ipynb\n",
      "01/26/2019  05:17 PM            12,465 19-Function2.ipynb\n",
      "01/21/2019  11:49 AM             9,744 20-Lambdas-and-Built-In-Functions.ipynb\n",
      "12/31/2018  08:16 PM            10,837 21-Debugging-and-Error-Handling.ipynb\n",
      "01/02/2019  10:42 PM             6,101 22-Modules.ipynb\n",
      "01/03/2019  04:34 PM            63,510 23-HTTP-Requests.ipynb\n",
      "01/05/2019  06:23 PM            25,276 24-ObjectOrientedProgramming.ipynb\n",
      "01/06/2019  06:47 PM            14,368 25-Deck-of-Cards-OOP-Exercise.ipynb\n",
      "01/19/2019  03:02 PM            35,159 26-OOP2.ipynb\n",
      "01/21/2019  05:34 PM            27,827 27-Iterators-Generators.ipynb\n",
      "01/26/2019  06:38 PM            38,782 28-Decorators.ipynb\n",
      "01/30/2019  01:50 PM    <DIR>          29-Testing\n",
      "01/29/2019  02:08 PM             8,834 29-Testing.ipynb\n",
      "01/31/2019  02:57 PM             1,021 30-File-IO.ipynb\n",
      "01/31/2019  02:55 PM                21 story.txt\n",
      "              17 File(s)        325,682 bytes\n",
      "               5 Dir(s)  36,590,075,904 bytes free\n"
     ]
    }
   ],
   "source": [
    "ls"
   ]
  },
  {
   "cell_type": "code",
   "execution_count": 1,
   "metadata": {},
   "outputs": [],
   "source": [
    "file = open('story.txt')"
   ]
  },
  {
   "cell_type": "code",
   "execution_count": 6,
   "metadata": {},
   "outputs": [
    {
     "data": {
      "text/plain": [
       "<_io.TextIOWrapper name='story.txt' mode='r' encoding='cp1252'>"
      ]
     },
     "execution_count": 6,
     "metadata": {},
     "output_type": "execute_result"
    }
   ],
   "source": [
    "file"
   ]
  },
  {
   "cell_type": "code",
   "execution_count": 2,
   "metadata": {},
   "outputs": [
    {
     "data": {
      "text/plain": [
       "'This is a short story'"
      ]
     },
     "execution_count": 2,
     "metadata": {},
     "output_type": "execute_result"
    }
   ],
   "source": [
    "file.read()"
   ]
  },
  {
   "cell_type": "code",
   "execution_count": 7,
   "metadata": {},
   "outputs": [
    {
     "data": {
      "text/plain": [
       "''"
      ]
     },
     "execution_count": 7,
     "metadata": {},
     "output_type": "execute_result"
    }
   ],
   "source": [
    "# Python reads files by using a cursor.  After a file is read the cursor is at\n",
    "# the end.  so you get an empty file when you try it again\n",
    "file.read()"
   ]
  },
  {
   "cell_type": "code",
   "execution_count": 8,
   "metadata": {},
   "outputs": [
    {
     "data": {
      "text/plain": [
       "'. I added some more'"
      ]
     },
     "execution_count": 8,
     "metadata": {},
     "output_type": "execute_result"
    }
   ],
   "source": [
    "# added some more text, . I added some more\n",
    "file.read()"
   ]
  },
  {
   "cell_type": "code",
   "execution_count": 9,
   "metadata": {},
   "outputs": [
    {
     "data": {
      "text/plain": [
       "0"
      ]
     },
     "execution_count": 9,
     "metadata": {},
     "output_type": "execute_result"
    }
   ],
   "source": [
    "# resets the cursor to the 0 index\n",
    "file.seek(0)"
   ]
  },
  {
   "cell_type": "code",
   "execution_count": 10,
   "metadata": {},
   "outputs": [
    {
     "data": {
      "text/plain": [
       "'This is a short story. I added some more'"
      ]
     },
     "execution_count": 10,
     "metadata": {},
     "output_type": "execute_result"
    }
   ],
   "source": [
    "file.read()"
   ]
  },
  {
   "cell_type": "code",
   "execution_count": 12,
   "metadata": {},
   "outputs": [
    {
     "data": {
      "text/plain": [
       "'This is a short story. I added some more\\n'"
      ]
     },
     "execution_count": 12,
     "metadata": {},
     "output_type": "execute_result"
    }
   ],
   "source": [
    "# readline will read in a line at a time\n",
    "file.seek(0)\n",
    "file.readline()"
   ]
  },
  {
   "cell_type": "code",
   "execution_count": 13,
   "metadata": {},
   "outputs": [
    {
     "data": {
      "text/plain": [
       "\"Now it's longer\""
      ]
     },
     "execution_count": 13,
     "metadata": {},
     "output_type": "execute_result"
    }
   ],
   "source": [
    "# second line, added a second line to the file\n",
    "file.readline()"
   ]
  },
  {
   "cell_type": "code",
   "execution_count": 15,
   "metadata": {},
   "outputs": [
    {
     "data": {
      "text/plain": [
       "['This is a short story. I added some more\\n', \"Now it's longer\"]"
      ]
     },
     "execution_count": 15,
     "metadata": {},
     "output_type": "execute_result"
    }
   ],
   "source": [
    "# file.readlines will put different lines in a list\n",
    "file.seek(0)\n",
    "file.readlines()"
   ]
  },
  {
   "cell_type": "code",
   "execution_count": 17,
   "metadata": {},
   "outputs": [],
   "source": [
    "# Closing a file. call file.close()\n",
    "file.close()"
   ]
  },
  {
   "cell_type": "code",
   "execution_count": 18,
   "metadata": {},
   "outputs": [
    {
     "data": {
      "text/plain": [
       "True"
      ]
     },
     "execution_count": 18,
     "metadata": {},
     "output_type": "execute_result"
    }
   ],
   "source": [
    "file.closed"
   ]
  },
  {
   "cell_type": "markdown",
   "metadata": {},
   "source": [
    "# Writing to files - Different Modes"
   ]
  },
  {
   "cell_type": "code",
   "execution_count": 19,
   "metadata": {},
   "outputs": [],
   "source": [
    "# writing to files\n",
    "# need to add a w to specify"
   ]
  },
  {
   "cell_type": "code",
   "execution_count": 20,
   "metadata": {},
   "outputs": [],
   "source": [
    "# will overwrite exisitng data\n",
    "# the with mode doesn't require us to close the file\n",
    "with open('haiku.txt', 'w') as file:\n",
    "    file.write('writing to a file is great\\n')\n",
    "    file.write('Here is another line\\n')"
   ]
  },
  {
   "cell_type": "code",
   "execution_count": 21,
   "metadata": {},
   "outputs": [],
   "source": [
    "# do not necessarily need to have an existing file. this creates a new file\n",
    "with open('newfile.txt', 'w') as file:\n",
    "    file.write('writing to a file is great\\n')\n",
    "    file.write('Here is another line\\n')"
   ]
  },
  {
   "cell_type": "code",
   "execution_count": 22,
   "metadata": {},
   "outputs": [],
   "source": [
    "# Modes for opening files\n",
    "# r - read a file, no writing (default)\n",
    "# w - write to a file (previous contents removed)\n",
    "# a - append to a file (previous contents not removed)\n",
    "# r+ - read and write to a file (writing based on a cursor), file must exist"
   ]
  },
  {
   "cell_type": "code",
   "execution_count": 23,
   "metadata": {},
   "outputs": [],
   "source": [
    "with open('haiku.txt', 'a') as file:\n",
    "    file.write('Appending latter\\n')"
   ]
  },
  {
   "cell_type": "code",
   "execution_count": 25,
   "metadata": {},
   "outputs": [
    {
     "data": {
      "text/plain": [
       "'writing to a file is great\\nHere is another line\\nAppending latter\\n'"
      ]
     },
     "execution_count": 25,
     "metadata": {},
     "output_type": "execute_result"
    }
   ],
   "source": [
    "file = open('haiku.txt')\n",
    "file.read()"
   ]
  },
  {
   "cell_type": "code",
   "execution_count": 1,
   "metadata": {},
   "outputs": [],
   "source": [
    "# write a function called copy which takes in a file name and a new\n",
    "# file name and copies the contents of the first file to the second file"
   ]
  },
  {
   "cell_type": "code",
   "execution_count": 2,
   "metadata": {},
   "outputs": [],
   "source": [
    "def copy(original, new):\n",
    "    \n",
    "    original_text = open(original)\n",
    "    \n",
    "    with open(new, w)) as file:\n",
    "        file.write(original_text)\n",
    "        \n",
    "    original_text.close()\n",
    "        "
   ]
  },
  {
   "cell_type": "code",
   "execution_count": null,
   "metadata": {},
   "outputs": [],
   "source": [
    "copy('')"
   ]
  }
 ],
 "metadata": {
  "kernelspec": {
   "display_name": "Python 3",
   "language": "python",
   "name": "python3"
  },
  "language_info": {
   "codemirror_mode": {
    "name": "ipython",
    "version": 3
   },
   "file_extension": ".py",
   "mimetype": "text/x-python",
   "name": "python",
   "nbconvert_exporter": "python",
   "pygments_lexer": "ipython3",
   "version": "3.7.0"
  }
 },
 "nbformat": 4,
 "nbformat_minor": 2
}
