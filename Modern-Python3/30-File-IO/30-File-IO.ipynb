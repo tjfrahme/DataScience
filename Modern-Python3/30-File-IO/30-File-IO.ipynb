{
 "cells": [
  {
   "cell_type": "code",
   "execution_count": 3,
   "metadata": {},
   "outputs": [
    {
     "name": "stdout",
     "output_type": "stream",
     "text": [
      " Volume in drive C is Windows\n",
      " Volume Serial Number is 220E-965B\n",
      "\n",
      " Directory of C:\\Users\\Tim\\Anaconda3\\GithubRepos\\DataScience\\Modern-Python3\n",
      "\n",
      "01/31/2019  02:57 PM    <DIR>          .\n",
      "01/31/2019  02:57 PM    <DIR>          ..\n",
      "01/31/2019  01:59 PM    <DIR>          .ipynb_checkpoints\n",
      "01/29/2019  02:53 PM    <DIR>          __pycache__\n",
      "12/11/2018  12:20 AM             8,025 12-Lists.ipynb\n",
      "01/25/2019  03:41 PM            25,817 15-Dictionaries.ipynb\n",
      "12/21/2018  06:13 PM            12,425 16-Tuples and Sets.ipynb\n",
      "12/28/2018  12:32 PM            25,470 17-Functions.ipynb\n",
      "01/26/2019  05:17 PM            12,465 19-Function2.ipynb\n",
      "01/21/2019  11:49 AM             9,744 20-Lambdas-and-Built-In-Functions.ipynb\n",
      "12/31/2018  08:16 PM            10,837 21-Debugging-and-Error-Handling.ipynb\n",
      "01/02/2019  10:42 PM             6,101 22-Modules.ipynb\n",
      "01/03/2019  04:34 PM            63,510 23-HTTP-Requests.ipynb\n",
      "01/05/2019  06:23 PM            25,276 24-ObjectOrientedProgramming.ipynb\n",
      "01/06/2019  06:47 PM            14,368 25-Deck-of-Cards-OOP-Exercise.ipynb\n",
      "01/19/2019  03:02 PM            35,159 26-OOP2.ipynb\n",
      "01/21/2019  05:34 PM            27,827 27-Iterators-Generators.ipynb\n",
      "01/26/2019  06:38 PM            38,782 28-Decorators.ipynb\n",
      "01/30/2019  01:50 PM    <DIR>          29-Testing\n",
      "01/29/2019  02:08 PM             8,834 29-Testing.ipynb\n",
      "01/31/2019  02:57 PM             1,021 30-File-IO.ipynb\n",
      "01/31/2019  02:55 PM                21 story.txt\n",
      "              17 File(s)        325,682 bytes\n",
      "               5 Dir(s)  36,590,075,904 bytes free\n"
     ]
    }
   ],
   "source": [
    "ls"
   ]
  },
  {
   "cell_type": "code",
   "execution_count": 1,
   "metadata": {},
   "outputs": [],
   "source": [
    "file = open('story.txt')"
   ]
  },
  {
   "cell_type": "code",
   "execution_count": 6,
   "metadata": {},
   "outputs": [
    {
     "data": {
      "text/plain": [
       "<_io.TextIOWrapper name='story.txt' mode='r' encoding='cp1252'>"
      ]
     },
     "execution_count": 6,
     "metadata": {},
     "output_type": "execute_result"
    }
   ],
   "source": [
    "file"
   ]
  },
  {
   "cell_type": "code",
   "execution_count": 2,
   "metadata": {},
   "outputs": [
    {
     "data": {
      "text/plain": [
       "'This is a short story'"
      ]
     },
     "execution_count": 2,
     "metadata": {},
     "output_type": "execute_result"
    }
   ],
   "source": [
    "file.read()"
   ]
  },
  {
   "cell_type": "code",
   "execution_count": 7,
   "metadata": {},
   "outputs": [
    {
     "data": {
      "text/plain": [
       "''"
      ]
     },
     "execution_count": 7,
     "metadata": {},
     "output_type": "execute_result"
    }
   ],
   "source": [
    "# Python reads files by using a cursor.  After a file is read the cursor is at\n",
    "# the end.  so you get an empty file when you try it again\n",
    "file.read()"
   ]
  },
  {
   "cell_type": "code",
   "execution_count": 8,
   "metadata": {},
   "outputs": [
    {
     "data": {
      "text/plain": [
       "'. I added some more'"
      ]
     },
     "execution_count": 8,
     "metadata": {},
     "output_type": "execute_result"
    }
   ],
   "source": [
    "# added some more text, . I added some more\n",
    "file.read()"
   ]
  },
  {
   "cell_type": "code",
   "execution_count": 9,
   "metadata": {},
   "outputs": [
    {
     "data": {
      "text/plain": [
       "0"
      ]
     },
     "execution_count": 9,
     "metadata": {},
     "output_type": "execute_result"
    }
   ],
   "source": [
    "# resets the cursor to the 0 index\n",
    "file.seek(0)"
   ]
  },
  {
   "cell_type": "code",
   "execution_count": 10,
   "metadata": {},
   "outputs": [
    {
     "data": {
      "text/plain": [
       "'This is a short story. I added some more'"
      ]
     },
     "execution_count": 10,
     "metadata": {},
     "output_type": "execute_result"
    }
   ],
   "source": [
    "file.read()"
   ]
  },
  {
   "cell_type": "code",
   "execution_count": 12,
   "metadata": {},
   "outputs": [
    {
     "data": {
      "text/plain": [
       "'This is a short story. I added some more\\n'"
      ]
     },
     "execution_count": 12,
     "metadata": {},
     "output_type": "execute_result"
    }
   ],
   "source": [
    "# readline will read in a line at a time\n",
    "file.seek(0)\n",
    "file.readline()"
   ]
  },
  {
   "cell_type": "code",
   "execution_count": 13,
   "metadata": {},
   "outputs": [
    {
     "data": {
      "text/plain": [
       "\"Now it's longer\""
      ]
     },
     "execution_count": 13,
     "metadata": {},
     "output_type": "execute_result"
    }
   ],
   "source": [
    "# second line, added a second line to the file\n",
    "file.readline()"
   ]
  },
  {
   "cell_type": "code",
   "execution_count": 15,
   "metadata": {},
   "outputs": [
    {
     "data": {
      "text/plain": [
       "['This is a short story. I added some more\\n', \"Now it's longer\"]"
      ]
     },
     "execution_count": 15,
     "metadata": {},
     "output_type": "execute_result"
    }
   ],
   "source": [
    "# file.readlines will put different lines in a list\n",
    "file.seek(0)\n",
    "file.readlines()"
   ]
  },
  {
   "cell_type": "code",
   "execution_count": 17,
   "metadata": {},
   "outputs": [],
   "source": [
    "# Closing a file. call file.close()\n",
    "file.close()"
   ]
  },
  {
   "cell_type": "code",
   "execution_count": 18,
   "metadata": {},
   "outputs": [
    {
     "data": {
      "text/plain": [
       "True"
      ]
     },
     "execution_count": 18,
     "metadata": {},
     "output_type": "execute_result"
    }
   ],
   "source": [
    "file.closed"
   ]
  },
  {
   "cell_type": "markdown",
   "metadata": {},
   "source": [
    "# Writing to files - Different Modes"
   ]
  },
  {
   "cell_type": "code",
   "execution_count": 19,
   "metadata": {},
   "outputs": [],
   "source": [
    "# writing to files\n",
    "# need to add a w to specify"
   ]
  },
  {
   "cell_type": "code",
   "execution_count": 20,
   "metadata": {},
   "outputs": [],
   "source": [
    "# will overwrite exisitng data\n",
    "# the with mode doesn't require us to close the file\n",
    "with open('haiku.txt', 'w') as file:\n",
    "    file.write('writing to a file is great\\n')\n",
    "    file.write('Here is another line\\n')"
   ]
  },
  {
   "cell_type": "code",
   "execution_count": 21,
   "metadata": {},
   "outputs": [],
   "source": [
    "# do not necessarily need to have an existing file. this creates a new file\n",
    "with open('newfile.txt', 'w') as file:\n",
    "    file.write('writing to a file is great\\n')\n",
    "    file.write('Here is another line\\n')"
   ]
  },
  {
   "cell_type": "code",
   "execution_count": 22,
   "metadata": {},
   "outputs": [],
   "source": [
    "# Modes for opening files\n",
    "# r - read a file, no writing (default)\n",
    "# w - write to a file (previous contents removed)\n",
    "# a - append to a file (previous contents not removed)\n",
    "# r+ - read and write to a file (writing based on a cursor), file must exist"
   ]
  },
  {
   "cell_type": "code",
   "execution_count": 23,
   "metadata": {},
   "outputs": [],
   "source": [
    "with open('haiku.txt', 'a') as file:\n",
    "    file.write('Appending latter\\n')"
   ]
  },
  {
   "cell_type": "code",
   "execution_count": 25,
   "metadata": {},
   "outputs": [
    {
     "data": {
      "text/plain": [
       "'writing to a file is great\\nHere is another line\\nAppending latter\\n'"
      ]
     },
     "execution_count": 25,
     "metadata": {},
     "output_type": "execute_result"
    }
   ],
   "source": [
    "file = open('haiku.txt')\n",
    "file.read()"
   ]
  },
  {
   "cell_type": "code",
   "execution_count": 1,
   "metadata": {},
   "outputs": [],
   "source": [
    "# write a function called copy which takes in a file name and a new\n",
    "# file name and copies the contents of the first file to the second file"
   ]
  },
  {
   "cell_type": "code",
   "execution_count": 34,
   "metadata": {},
   "outputs": [],
   "source": [
    "def copy(original, new):\n",
    "    \n",
    "    # reads in original\n",
    "    original_text = open(original)\n",
    "    # converts to string, as orignal text is a_io.TextIOWrapper\n",
    "    to_string = original_text.read()  \n",
    "    \n",
    "    \n",
    "    with open(new, 'w') as file:\n",
    "        file.write(to_string)\n",
    "        \n",
    "    original_text.close()\n",
    "        "
   ]
  },
  {
   "cell_type": "code",
   "execution_count": 35,
   "metadata": {},
   "outputs": [],
   "source": [
    "copy('alice.txt', 'alice_copy.txt')"
   ]
  },
  {
   "cell_type": "code",
   "execution_count": 37,
   "metadata": {},
   "outputs": [],
   "source": [
    "with open('alice_copy.txt') as file:\n",
    "    text = file.read()"
   ]
  },
  {
   "cell_type": "code",
   "execution_count": 38,
   "metadata": {},
   "outputs": [
    {
     "data": {
      "text/plain": [
       "'CHAPTER I. Down the Rabbit-Hole\\nAlice was beginning to get very tired of sitting by her sister on the\\nbank, and of having nothing to do: once or twice she had peeped into the\\nbook her sister was reading, but it had no pictures or conversations in\\nit, ‘and what is the use of a book,’ thought Alice ‘without pictures or\\nconversations?’\\nSo she was considering in her own mind (as well as she could, for the\\nhot day made her feel very sleepy and stupid), whether the pleasure\\nof making a daisy-chain would be worth the trouble of getting up and\\npicking the daisies, when suddenly a White Rabbit with pink eyes ran\\nclose by her.\\nThere was nothing so VERY remarkable in that; nor did Alice think it so\\nVERY much out of the way to hear the Rabbit say to itself, ‘Oh dear!\\nOh dear! I shall be late!’ (when she thought it over afterwards, it\\noccurred to her that she ought to have wondered at this, but at the time\\nit all seemed quite natural); but when the Rabbit actually TOOK A WATCH\\nOUT OF ITS WAISTCOAT-POCKET, and looked at it, and then hurried on,\\nAlice started to her feet, for it flashed across her mind that she had\\nnever before seen a rabbit with either a waistcoat-pocket, or a watch\\nto take out of it, and burning with curiosity, she ran across the field\\nafter it, and fortunately was just in time to see it pop down a large\\nrabbit-hole under the hedge.\\nIn another moment down went Alice after it, never once considering how\\nin the world she was to get out again.\\nThe rabbit-hole went straight on like a tunnel for some way, and then\\ndipped suddenly down, so suddenly that Alice had not a moment to think\\nabout stopping herself before she found herself falling down a very deep\\nwell.\\nEither the well was very deep, or she fell very slowly, for she had\\nplenty of time as she went down to look about her and to wonder what was\\ngoing to happen next. First, she tried to look down and make out what\\nshe was coming to, but it was too dark to see anything; then she\\nlooked at the sides of the well, and noticed that they were filled with\\ncupboards and book-shelves; here and there she saw maps and pictures\\nhung upon pegs. She took down a jar from one of the shelves as\\nshe passed; it was labelled ‘ORANGE MARMALADE’, but to her great\\ndisappointment it was empty: she did not like to drop the jar for fear\\nof killing somebody, so managed to put it into one of the cupboards as\\nshe fell past it.\\n‘Well!’ thought Alice to herself, ‘after such a fall as this, I shall\\nthink nothing of tumbling down stairs! How brave they’ll all think me at\\nhome! Why, I wouldn’t say anything about it, even if I fell off the top\\nof the house!’ (Which was very likely true.)\\nDown, down, down. Would the fall NEVER come to an end! ‘I wonder how\\nmany miles I’ve fallen by this time?’ she said aloud. ‘I must be getting\\nsomewhere near the centre of the earth. Let me see: that would be four\\nthousand miles down, I think--’ (for, you see, Alice had learnt several\\nthings of this sort in her lessons in the schoolroom, and though this\\nwas not a VERY good opportunity for showing off her knowledge, as there\\nwas no one to listen to her, still it was good practice to say it over)\\n‘--yes, that’s about the right distance--but then I wonder what Latitude\\nor Longitude I’ve got to?’ (Alice had no idea what Latitude was, or\\nLongitude either, but thought they were nice grand words to say.)\\nPresently she began again. ‘I wonder if I shall fall right THROUGH the\\nearth! How funny it’ll seem to come out among the people that walk with\\ntheir heads downward! The Antipathies, I think--’ (she was rather glad\\nthere WAS no one listening, this time, as it didn’t sound at all the\\nright word) ‘--but I shall have to ask them what the name of the country\\nis, you know. Please, Ma’am, is this New Zealand or Australia?’ (and\\nshe tried to curtsey as she spoke--fancy CURTSEYING as you’re falling\\nthrough the air! Do you think you could manage it?) ‘And what an\\nignorant little girl she’ll think me for asking! No, it’ll never do to\\nask: perhaps I shall see it written up somewhere.’\\nDown, down, down. There was nothing else to do, so Alice soon began\\ntalking again. ‘Dinah’ll miss me very much to-night, I should think!’\\n(Dinah was the cat.) ‘I hope they’ll remember her saucer of milk at\\ntea-time. Dinah my dear! I wish you were down here with me! There are no\\nmice in the air, I’m afraid, but you might catch a bat, and that’s very\\nlike a mouse, you know. But do cats eat bats, I wonder?’ And here Alice\\nbegan to get rather sleepy, and went on saying to herself, in a dreamy\\nsort of way, ‘Do cats eat bats? Do cats eat bats?’ and sometimes, ‘Do\\nbats eat cats?’ for, you see, as she couldn’t answer either question,\\nit didn’t much matter which way she put it. She felt that she was dozing\\noff, and had just begun to dream that she was walking hand in hand with\\nDinah, and saying to her very earnestly, ‘Now, Dinah, tell me the truth:\\ndid you ever eat a bat?’ when suddenly, thump! thump! down she came upon\\na heap of sticks and dry leaves, and the fall was over.\\nAlice was not a bit hurt, and she jumped up on to her feet in a moment:\\nshe looked up, but it was all dark overhead; before her was another\\nlong passage, and the White Rabbit was still in sight, hurrying down it.\\nThere was not a moment to be lost: away went Alice like the wind, and\\nwas just in time to hear it say, as it turned a corner, ‘Oh my ears\\nand whiskers, how late it’s getting!’ She was close behind it when she\\nturned the corner, but the Rabbit was no longer to be seen: she found\\nherself in a long, low hall, which was lit up by a row of lamps hanging\\nfrom the roof.\\nThere were doors all round the hall, but they were all locked; and when\\nAlice had been all the way down one side and up the other, trying every\\ndoor, she walked sadly down the middle, wondering how she was ever to\\nget out again.\\nSuddenly she came upon a little three-legged table, all made of solid\\nglass; there was nothing on it except a tiny golden key, and Alice’s\\nfirst thought was that it might belong to one of the doors of the hall;\\nbut, alas! either the locks were too large, or the key was too small,\\nbut at any rate it would not open any of them. However, on the second\\ntime round, she came upon a low curtain she had not noticed before, and\\nbehind it was a little door about fifteen inches high: she tried the\\nlittle golden key in the lock, and to her great delight it fitted!\\nAlice opened the door and found that it led into a small passage, not\\nmuch larger than a rat-hole: she knelt down and looked along the passage\\ninto the loveliest garden you ever saw. How she longed to get out of\\nthat dark hall, and wander about among those beds of bright flowers and\\nthose cool fountains, but she could not even get her head through the\\ndoorway; ‘and even if my head would go through,’ thought poor Alice, ‘it\\nwould be of very little use without my shoulders. Oh, how I wish I could\\nshut up like a telescope! I think I could, if I only knew how to begin.’\\nFor, you see, so many out-of-the-way things had happened lately,\\nthat Alice had begun to think that very few things indeed were really\\nimpossible.\\nThere seemed to be no use in waiting by the little door, so she went\\nback to the table, half hoping she might find another key on it, or at\\nany rate a book of rules for shutting people up like telescopes: this\\ntime she found a little bottle on it, [‘which certainly was not here\\nbefore,’ said Alice,) and round the neck of the bottle was a paper\\nlabel, with the words ‘DRINK ME’ beautifully printed on it in large\\nletters.\\nIt was all very well to say ‘Drink me,’ but the wise little Alice was\\nnot going to do THAT in a hurry. ‘No, I’ll look first,’ she said, ‘and\\nsee whether it’s marked “poison” or not’; for she had read several nice\\nlittle histories about children who had got burnt, and eaten up by wild\\nbeasts and other unpleasant things, all because they WOULD not remember\\nthe simple rules their friends had taught them: such as, that a red-hot\\npoker will burn you if you hold it too long; and that if you cut your\\nfinger VERY deeply with a knife, it usually bleeds; and she had never\\nforgotten that, if you drink much from a bottle marked ‘poison,’ it is\\nalmost certain to disagree with you, sooner or later.\\nHowever, this bottle was NOT marked ‘poison,’ so Alice ventured to taste\\nit, and finding it very nice, (it had, in fact, a sort of mixed flavour\\nof cherry-tart, custard, pine-apple, roast turkey, toffee, and hot\\nbuttered toast,) she very soon finished it off.\\n‘What a curious feeling!’ said Alice; ‘I must be shutting up like a\\ntelescope.’\\nAnd so it was indeed: she was now only ten inches high, and her face\\nbrightened up at the thought that she was now the right size for going\\nthrough the little door into that lovely garden. First, however, she\\nwaited for a few minutes to see if she was going to shrink any further:\\nshe felt a little nervous about this; ‘for it might end, you know,’ said\\nAlice to herself, ‘in my going out altogether, like a candle. I wonder\\nwhat I should be like then?’ And she tried to fancy what the flame of a\\ncandle is like after the candle is blown out, for she could not remember\\never having seen such a thing.\\nAfter a while, finding that nothing more happened, she decided on going\\ninto the garden at once; but, alas for poor Alice! when she got to the\\ndoor, she found she had forgotten the little golden key, and when she\\nwent back to the table for it, she found she could not possibly reach\\nit: she could see it quite plainly through the glass, and she tried her\\nbest to climb up one of the legs of the table, but it was too slippery;\\nand when she had tired herself out with trying, the poor little thing\\nsat down and cried.\\n‘Come, there’s no use in crying like that!’ said Alice to herself,\\nrather sharply; ‘I advise you to leave off this minute!’ She generally\\ngave herself very good advice, (though she very seldom followed it),\\nand sometimes she scolded herself so severely as to bring tears into\\nher eyes; and once she remembered trying to box her own ears for having\\ncheated herself in a game of croquet she was playing against herself,\\nfor this curious child was very fond of pretending to be two people.\\n‘But it’s no use now,’ thought poor Alice, ‘to pretend to be two people!\\nWhy, there’s hardly enough of me left to make ONE respectable person!’\\nSoon her eye fell on a little glass box that was lying under the table:\\nshe opened it, and found in it a very small cake, on which the words\\n‘EAT ME’ were beautifully marked in currants. ‘Well, I’ll eat it,’ said\\nAlice, ‘and if it makes me grow larger, I can reach the key; and if it\\nmakes me grow smaller, I can creep under the door; so either way I’ll\\nget into the garden, and I don’t care which happens!’\\nShe ate a little bit, and said anxiously to herself, ‘Which way? Which\\nway?’, holding her hand on the top of her head to feel which way it was\\ngrowing, and she was quite surprised to find that she remained the same\\nsize: to be sure, this generally happens when one eats cake, but Alice\\nhad got so much into the way of expecting nothing but out-of-the-way\\nthings to happen, that it seemed quite dull and stupid for life to go on\\nin the common way.\\nSo she set to work, and very soon finished off the cake.'"
      ]
     },
     "execution_count": 38,
     "metadata": {},
     "output_type": "execute_result"
    }
   ],
   "source": [
    "text"
   ]
  },
  {
   "cell_type": "code",
   "execution_count": 39,
   "metadata": {},
   "outputs": [],
   "source": [
    "# write a function called copy_and_reverse which take a file name and\n",
    "# a new file name and copies the reversed contents of the first file to the \n",
    "# second file"
   ]
  },
  {
   "cell_type": "code",
   "execution_count": 40,
   "metadata": {},
   "outputs": [],
   "source": [
    "my_string = \"hello\""
   ]
  },
  {
   "cell_type": "code",
   "execution_count": 41,
   "metadata": {},
   "outputs": [
    {
     "data": {
      "text/plain": [
       "'olleh'"
      ]
     },
     "execution_count": 41,
     "metadata": {},
     "output_type": "execute_result"
    }
   ],
   "source": [
    "reversed = my_string[::-1]\n",
    "reversed"
   ]
  },
  {
   "cell_type": "code",
   "execution_count": 46,
   "metadata": {},
   "outputs": [],
   "source": [
    "def copy_and_reverse(original, new):\n",
    "\n",
    "    with open(original, 'r') as file:\n",
    "        text = file.read()\n",
    "        reversed = text[::-1]\n",
    "    \n",
    "    with open(new, 'w') as file:\n",
    "        file.write(reversed)"
   ]
  },
  {
   "cell_type": "code",
   "execution_count": 47,
   "metadata": {},
   "outputs": [],
   "source": [
    "copy_and_reverse('wonderful.txt', 'wonderful_reversed.txt')"
   ]
  },
  {
   "cell_type": "code",
   "execution_count": 48,
   "metadata": {},
   "outputs": [
    {
     "data": {
      "text/plain": [
       "'.ekac eht ffo dehsinif noos yrev dna ,krow ot tes ehs oS\\n.yaw nommoc eht ni\\nno og ot efil rof diputs dna llud etiuq demees ti taht ,neppah ot sgniht\\nyaw-eht-fo-tuo tub gnihton gnitcepxe fo yaw eht otni hcum os tog dah\\necilA tub ,ekac stae eno nehw sneppah yllareneg siht ,erus eb ot :ezis\\nemas eht deniamer ehs taht dnif ot desirprus etiuq saw ehs dna ,gniworg\\nsaw ti yaw hcihw leef ot daeh reh fo pot eht no dnah reh gnidloh ,’?yaw\\nhcihW ?yaw hcihW‘ ,flesreh ot ylsuoixna dias dna ,tib elttil a eta ehS\\n’!sneppah hcihw erac t’nod I dna ,nedrag eht otni teg\\nll’I yaw rehtie os ;rood eht rednu peerc nac I ,rellams worg em sekam\\nti fi dna ;yek eht hcaer nac I ,regral worg em sekam ti fi dna‘ ,ecilA\\ndias ’,ti tae ll’I ,lleW‘ .stnarruc ni dekram yllufituaeb erew ’EM TAE‘\\nsdrow eht hcihw no ,ekac llams yrev a ti ni dnuof dna ,ti denepo ehs\\n:elbat eht rednu gniyl saw taht xob ssalg elttil a no llef eye reh nooS\\n’!nosrep elbatcepser ENO ekam ot tfel em fo hguone yldrah s’ereht ,yhW\\n!elpoep owt eb ot dneterp ot‘ ,ecilA roop thguoht ’,won esu on s’ti tuB‘\\n.elpoep owt eb ot gnidneterp fo dnof yrev saw dlihc suoiruc siht rof\\n,flesreh tsniaga gniyalp saw ehs teuqorc fo emag a ni flesreh detaehc\\ngnivah rof srae nwo reh xob ot gniyrt derebmemer ehs ecno dna ;seye reh\\notni sraet gnirb ot sa ylereves os flesreh dedlocs ehs semitemos dna\\n,)ti dewollof modles yrev ehs hguoht( ,ecivda doog yrev flesreh evag\\nyllareneg ehS ’!etunim siht ffo evael ot uoy esivda I‘ ;ylprahs rehtar\\n,flesreh ot ecilA dias ’!taht ekil gniyrc ni esu on s’ereht ,emoC‘\\n.deirc dna nwod tas\\ngniht elttil roop eht ,gniyrt htiw tuo flesreh derit dah ehs nehw dna\\n;yreppils oot saw ti tub ,elbat eht fo sgel eht fo eno pu bmilc ot tseb\\nreh deirt ehs dna ,ssalg eht hguorht ylnialp etiuq ti ees dluoc ehs :ti\\nhcaer ylbissop ton dluoc ehs dnuof ehs ,ti rof elbat eht ot kcab tnew\\nehs nehw dna ,yek nedlog elttil eht nettogrof dah ehs dnuof ehs ,rood\\neht ot tog ehs nehw !ecilA roop rof sala ,tub ;ecno ta nedrag eht otni\\ngniog no dediced ehs ,deneppah erom gnihton taht gnidnif ,elihw a retfA\\n.gniht a hcus nees gnivah reve\\nrebmemer ton dluoc ehs rof ,tuo nwolb si eldnac eht retfa ekil si eldnac\\na fo emalf eht tahw ycnaf ot deirt ehs dnA ’?neht ekil eb dluohs I tahw\\nrednow I .eldnac a ekil ,rehtegotla tuo gniog ym ni‘ ,flesreh ot ecilA\\ndias ’,wonk uoy ,dne thgim ti rof‘ ;siht tuoba suovren elttil a tlef ehs\\n:rehtruf yna knirhs ot gniog saw ehs fi ees ot setunim wef a rof detiaw\\nehs ,revewoh ,tsriF .nedrag ylevol taht otni rood elttil eht hguorht\\ngniog rof ezis thgir eht won saw ehs taht thguoht eht ta pu denethgirb\\necaf reh dna ,hgih sehcni net ylno won saw ehs :deedni saw ti os dnA\\n’.epocselet\\na ekil pu gnittuhs eb tsum I‘ ;ecilA dias ’!gnileef suoiruc a tahW‘\\n.ffo ti dehsinif noos yrev ehs ),tsaot derettub\\ntoh dna ,eeffot ,yekrut tsaor ,elppa-enip ,dratsuc ,trat-yrrehc fo\\nruovalf dexim fo tros a ,tcaf ni ,dah ti( ,ecin yrev ti gnidnif dna ,ti\\netsat ot derutnev ecilA os ’,nosiop‘ dekram TON saw elttob siht ,revewoH\\n.retal ro renoos ,uoy htiw eergasid ot niatrec tsomla\\nsi ti ’,nosiop‘ dekram elttob a morf hcum knird uoy fi ,taht nettogrof\\nreven dah ehs dna ;sdeelb yllausu ti ,efink a htiw ylpeed YREV regnif\\nruoy tuc uoy fi taht dna ;gnol oot ti dloh uoy fi uoy nrub lliw rekop\\ntoh-der a taht ,sa hcus :meht thguat dah sdneirf rieht selur elpmis eht\\nrebmemer ton DLUOW yeht esuaceb lla ,sgniht tnasaelpnu rehto dna stsaeb\\ndliw yb pu netae dna ,tnrub tog dah ohw nerdlihc tuoba seirotsih elttil\\necin lareves daer dah ehs rof ;’ton ro ”nosiop“ dekram s’ti rehtehw ees\\ndna‘ ,dias ehs ’,tsrif kool ll’I ,oN‘ .yrruh a ni TAHT od ot gniog ton\\nsaw ecilA elttil esiw eht tub ’,em knirD‘ yas ot llew yrev lla saw tI\\n.srettel\\negral ni ti no detnirp yllufituaeb ’EM KNIRD‘ sdrow eht htiw ,lebal\\nrepap a saw elttob eht fo kcen eht dnuor dna ),ecilA dias ’,erofeb\\nereh ton saw ylniatrec hcihw‘[ ,ti no elttob elttil a dnuof ehs emit\\nsiht :sepocselet ekil pu elpoep gnittuhs rof selur fo koob a etar yna\\nta ro ,ti no yek rehtona dnif thgim ehs gnipoh flah ,elbat eht ot kcab\\ntnew ehs os ,rood elttil eht yb gnitiaw ni esu on eb ot demees erehT\\n.elbissopmi\\nyllaer erew deedni sgniht wef yrev taht kniht ot nugeb dah ecilA taht\\n,yletal deneppah dah sgniht yaw-eht-fo-tuo ynam os ,ees uoy ,roF\\n’.nigeb ot woh wenk ylno I fi ,dluoc I kniht I !epocselet a ekil pu tuhs\\ndluoc I hsiw I woh ,hO .sredluohs ym tuohtiw esu elttil yrev fo eb dluow\\nti‘ ,ecilA roop thguoht ’,hguorht og dluow daeh ym fi neve dna‘ ;yawrood\\neht hguorht daeh reh teg neve ton dluoc ehs tub ,sniatnuof looc esoht\\ndna srewolf thgirb fo sdeb esoht gnoma tuoba rednaw dna ,llah krad taht\\nfo tuo teg ot degnol ehs woH .was reve uoy nedrag tseilevol eht otni\\negassap eht gnola dekool dna nwod tlenk ehs :eloh-tar a naht regral hcum\\nton ,egassap llams a otni del ti taht dnuof dna rood eht denepo ecilA\\n!dettif ti thgiled taerg reh ot dna ,kcol eht ni yek nedlog elttil\\neht deirt ehs :hgih sehcni neetfif tuoba rood elttil a saw ti dniheb\\ndna ,erofeb deciton ton dah ehs niatruc wol a nopu emac ehs ,dnuor emit\\ndnoces eht no ,revewoH .meht fo yna nepo ton dluow ti etar yna ta tub\\n,llams oot saw yek eht ro ,egral oot erew skcol eht rehtie !sala ,tub\\n;llah eht fo srood eht fo eno ot gnoleb thgim ti taht saw thguoht tsrif\\ns’ecilA dna ,yek nedlog ynit a tpecxe ti no gnihton saw ereht ;ssalg\\ndilos fo edam lla ,elbat deggel-eerht elttil a nopu emac ehs ylnedduS\\n.niaga tuo teg\\not reve saw ehs woh gnirednow ,elddim eht nwod yldas deklaw ehs ,rood\\nyreve gniyrt ,rehto eht pu dna edis eno nwod yaw eht lla neeb dah ecilA\\nnehw dna ;dekcol lla erew yeht tub ,llah eht dnuor lla srood erew erehT\\n.foor eht morf\\ngnignah spmal fo wor a yb pu til saw hcihw ,llah wol ,gnol a ni flesreh\\ndnuof ehs :nees eb ot regnol on saw tibbaR eht tub ,renroc eht denrut\\nehs nehw ti dniheb esolc saw ehS ’!gnitteg s’ti etal woh ,sreksihw dna\\nsrae ym hO‘ ,renroc a denrut ti sa ,yas ti raeh ot emit ni tsuj saw\\ndna ,dniw eht ekil ecilA tnew yawa :tsol eb ot tnemom a ton saw erehT\\n.ti nwod gniyrruh ,thgis ni llits saw tibbaR etihW eht dna ,egassap gnol\\nrehtona saw reh erofeb ;daehrevo krad lla saw ti tub ,pu dekool ehs\\n:tnemom a ni teef reh ot no pu depmuj ehs dna ,truh tib a ton saw ecilA\\n.revo saw llaf eht dna ,sevael yrd dna skcits fo paeh a\\nnopu emac ehs nwod !pmuht !pmuht ,ylneddus nehw ’?tab a tae reve uoy did\\n:hturt eht em llet ,haniD ,woN‘ ,yltsenrae yrev reh ot gniyas dna ,haniD\\nhtiw dnah ni dnah gniklaw saw ehs taht maerd ot nugeb tsuj dah dna ,ffo\\ngnizod saw ehs taht tlef ehS .ti tup ehs yaw hcihw rettam hcum t’ndid ti\\n,noitseuq rehtie rewsna t’ndluoc ehs sa ,ees uoy ,rof ’?stac tae stab\\noD‘ ,semitemos dna ’?stab tae stac oD ?stab tae stac oD‘ ,yaw fo tros\\nymaerd a ni ,flesreh ot gniyas no tnew dna ,ypeels rehtar teg ot nageb\\necilA ereh dnA ’?rednow I ,stab tae stac od tuB .wonk uoy ,esuom a ekil\\nyrev s’taht dna ,tab a hctac thgim uoy tub ,diarfa m’I ,ria eht ni ecim\\non era erehT !em htiw ereh nwod erew uoy hsiw I !raed ym haniD .emit-aet\\nta klim fo recuas reh rebmemer ll’yeht epoh I‘ ).tac eht saw haniD(\\n’!kniht dluohs I ,thgin-ot hcum yrev em ssim ll’haniD‘ .niaga gniklat\\nnageb noos ecilA os ,od ot esle gnihton saw erehT .nwod ,nwod ,nwoD\\n’.erehwemos pu nettirw ti ees llahs I spahrep :ksa\\not od reven ll’ti ,oN !gniksa rof em kniht ll’ehs lrig elttil tnarongi\\nna tahw dnA‘ )?ti eganam dluoc uoy kniht uoy oD !ria eht hguorht\\ngnillaf er’uoy sa GNIYESTRUC ycnaf--ekops ehs sa yestruc ot deirt ehs\\ndna( ’?ailartsuA ro dnalaeZ weN siht si ,ma’aM ,esaelP .wonk uoy ,si\\nyrtnuoc eht fo eman eht tahw meht ksa ot evah llahs I tub--‘ )drow thgir\\neht lla ta dnuos t’ndid ti sa ,emit siht ,gninetsil eno on SAW ereht\\ndalg rehtar saw ehs( ’--kniht I ,seihtapitnA ehT !drawnwod sdaeh rieht\\nhtiw klaw taht elpoep eht gnoma tuo emoc ot mees ll’ti ynnuf woH !htrae\\neht HGUORHT thgir llaf llahs I fi rednow I‘ .niaga nageb ehs yltneserP\\n).yas ot sdrow dnarg ecin erew yeht thguoht tub ,rehtie edutignoL\\nro ,saw edutitaL tahw aedi on dah ecilA( ’?ot tog ev’I edutignoL ro\\nedutitaL tahw rednow I neht tub--ecnatsid thgir eht tuoba s’taht ,sey--‘\\n)revo ti yas ot ecitcarp doog saw ti llits ,reh ot netsil ot eno on saw\\nereht sa ,egdelwonk reh ffo gniwohs rof ytinutroppo doog YREV a ton saw\\nsiht hguoht dna ,moorloohcs eht ni snossel reh ni tros siht fo sgniht\\nlareves tnrael dah ecilA ,ees uoy ,rof( ’--kniht I ,nwod selim dnasuoht\\nruof eb dluow taht :ees em teL .htrae eht fo ertnec eht raen erehwemos\\ngnitteg eb tsum I‘ .duola dias ehs ’?emit siht yb nellaf ev’I selim ynam\\nwoh rednow I‘ !dne na ot emoc REVEN llaf eht dluoW .nwod ,nwod ,nwoD\\n).eurt ylekil yrev saw hcihW( ’!esuoh eht fo\\npot eht ffo llef I fi neve ,ti tuoba gnihtyna yas t’ndluow I ,yhW !emoh\\nta em kniht lla ll’yeht evarb woH !sriats nwod gnilbmut fo gnihton kniht\\nllahs I ,siht sa llaf a hcus retfa‘ ,flesreh ot ecilA thguoht ’!lleW‘\\n.ti tsap llef ehs\\nsa sdraobpuc eht fo eno otni ti tup ot deganam os ,ydobemos gnillik fo\\nraef rof raj eht pord ot ekil ton did ehs :ytpme saw ti tnemtnioppasid\\ntaerg reh ot tub ,’EDALAMRAM EGNARO‘ dellebal saw ti ;dessap ehs\\nsa sevlehs eht fo eno morf raj a nwod koot ehS .sgep nopu gnuh\\nserutcip dna spam was ehs ereht dna ereh ;sevlehs-koob dna sdraobpuc\\nhtiw dellif erew yeht taht deciton dna ,llew eht fo sedis eht ta dekool\\nehs neht ;gnihtyna ees ot krad oot saw ti tub ,ot gnimoc saw ehs\\ntahw tuo ekam dna nwod kool ot deirt ehs ,tsriF .txen neppah ot gniog\\nsaw tahw rednow ot dna reh tuoba kool ot nwod tnew ehs sa emit fo ytnelp\\ndah ehs rof ,ylwols yrev llef ehs ro ,peed yrev saw llew eht rehtiE\\n.llew\\npeed yrev a nwod gnillaf flesreh dnuof ehs erofeb flesreh gnippots tuoba\\nkniht ot tnemom a ton dah ecilA taht ylneddus os ,nwod ylneddus deppid\\nneht dna ,yaw emos rof lennut a ekil no thgiarts tnew eloh-tibbar ehT\\n.niaga tuo teg ot saw ehs dlrow eht ni\\nwoh gniredisnoc ecno reven ,ti retfa ecilA tnew nwod tnemom rehtona nI\\n.egdeh eht rednu eloh-tibbar\\negral a nwod pop ti ees ot emit ni tsuj saw yletanutrof dna ,ti retfa\\ndleif eht ssorca nar ehs ,ytisoiruc htiw gninrub dna ,ti fo tuo ekat ot\\nhctaw a ro ,tekcop-taoctsiaw a rehtie htiw tibbar a nees erofeb reven\\ndah ehs taht dnim reh ssorca dehsalf ti rof ,teef reh ot detrats ecilA\\n,no deirruh neht dna ,ti ta dekool dna ,TEKCOP-TAOCTSIAW STI FO TUO\\nHCTAW A KOOT yllautca tibbaR eht nehw tub ;)larutan etiuq demees lla ti\\nemit eht ta tub ,siht ta derednow evah ot thguo ehs taht reh ot derrucco\\nti ,sdrawretfa revo ti thguoht ehs nehw( ’!etal eb llahs I !raed hO\\n!raed hO‘ ,flesti ot yas tibbaR eht raeh ot yaw eht fo tuo hcum YREV\\nos ti kniht ecilA did ron ;taht ni elbakramer YREV os gnihton saw erehT\\n.reh yb esolc\\nnar seye knip htiw tibbaR etihW a ylneddus nehw ,seisiad eht gnikcip\\ndna pu gnitteg fo elbuort eht htrow eb dluow niahc-ysiad a gnikam fo\\nerusaelp eht rehtehw ,)diputs dna ypeels yrev leef reh edam yad toh\\neht rof ,dluoc ehs sa llew sa( dnim nwo reh ni gniredisnoc saw ehs oS\\n’?snoitasrevnoc\\nro serutcip tuohtiw‘ ecilA thguoht ’,koob a fo esu eht si tahw dna‘ ,ti\\nni snoitasrevnoc ro serutcip on dah ti tub ,gnidaer saw retsis reh koob\\neht otni depeep dah ehs eciwt ro ecno :od ot gnihton gnivah fo dna ,knab\\neht no retsis reh yb gnittis fo derit yrev teg ot gninnigeb saw ecilA\\neloH-tibbaR eht nwoD .I RETPAHC'"
      ]
     },
     "execution_count": 48,
     "metadata": {},
     "output_type": "execute_result"
    }
   ],
   "source": [
    "with open('wonderful_reversed.txt') as file:\n",
    "    my_text = file.read()\n",
    "    \n",
    "my_text"
   ]
  },
  {
   "cell_type": "code",
   "execution_count": 49,
   "metadata": {},
   "outputs": [],
   "source": [
    "# write a function called statistics which takes in a file name and returns\n",
    "# a dictionary with the number of lines, words, and characters"
   ]
  },
  {
   "cell_type": "code",
   "execution_count": 50,
   "metadata": {},
   "outputs": [],
   "source": [
    "my_string = 'hello how'"
   ]
  },
  {
   "cell_type": "code",
   "execution_count": 51,
   "metadata": {},
   "outputs": [
    {
     "data": {
      "text/plain": [
       "9"
      ]
     },
     "execution_count": 51,
     "metadata": {},
     "output_type": "execute_result"
    }
   ],
   "source": [
    "len(my_string) # characters"
   ]
  },
  {
   "cell_type": "code",
   "execution_count": 53,
   "metadata": {},
   "outputs": [
    {
     "data": {
      "text/plain": [
       "2"
      ]
     },
     "execution_count": 53,
     "metadata": {},
     "output_type": "execute_result"
    }
   ],
   "source": [
    "len(my_string.split()) # words"
   ]
  },
  {
   "cell_type": "code",
   "execution_count": null,
   "metadata": {},
   "outputs": [],
   "source": [
    "# len(OBJECT.readlines()) # readlines puts it into a list"
   ]
  },
  {
   "cell_type": "code",
   "execution_count": 64,
   "metadata": {},
   "outputs": [],
   "source": [
    "def statistics(original):\n",
    "    \n",
    "    with open(original, 'r') as file:\n",
    "        text = file.readlines()\n",
    "\n",
    "    count_lines = len(text)\n",
    "    \n",
    "    # need to have separate open, because can't reset seek \n",
    "    with open(original, 'r') as file:\n",
    "        string_file = file.read()\n",
    "       \n",
    "    count_characters = len(string_file)\n",
    "    count_words = len(string_file.split())\n",
    "    \n",
    "    my_dict = dict(lines = count_lines, \n",
    "               characters = count_characters, \n",
    "               words = count_words)\n",
    "    \n",
    "    return my_dict"
   ]
  },
  {
   "cell_type": "code",
   "execution_count": 65,
   "metadata": {},
   "outputs": [
    {
     "data": {
      "text/plain": [
       "{'lines': 172, 'characters': 11227, 'words': 2145}"
      ]
     },
     "execution_count": 65,
     "metadata": {},
     "output_type": "execute_result"
    }
   ],
   "source": [
    "statistics('alice.txt')"
   ]
  },
  {
   "cell_type": "code",
   "execution_count": 66,
   "metadata": {},
   "outputs": [],
   "source": [
    "# find_and_replace, takes in a file name, a word to search for, and a \n",
    "# replacement word.  Replaces all instances of the word in the file\n",
    "# with the replacement word"
   ]
  },
  {
   "cell_type": "code",
   "execution_count": 67,
   "metadata": {},
   "outputs": [],
   "source": [
    "my_string = \"hello my precious\""
   ]
  },
  {
   "cell_type": "code",
   "execution_count": 68,
   "metadata": {},
   "outputs": [
    {
     "data": {
      "text/plain": [
       "'YOLO my precious'"
      ]
     },
     "execution_count": 68,
     "metadata": {},
     "output_type": "execute_result"
    }
   ],
   "source": [
    "r_string = my_string.replace('hello', 'YOLO')\n",
    "r_string"
   ]
  },
  {
   "cell_type": "code",
   "execution_count": 78,
   "metadata": {},
   "outputs": [],
   "source": [
    "def find_and_replace(original, search_word, replace_word):\n",
    "    \n",
    "    with open(original, 'r') as file:\n",
    "        text = file.read()\n",
    "        new_text = text.replace(search_word, replace_word)\n",
    "    \n",
    "    with open(original, 'w') as file:\n",
    "        file.write(new_text)"
   ]
  },
  {
   "cell_type": "code",
   "execution_count": 79,
   "metadata": {},
   "outputs": [],
   "source": [
    "find_and_replace('replace_example.txt', 'hello', 'YOLO')"
   ]
  },
  {
   "cell_type": "code",
   "execution_count": 82,
   "metadata": {},
   "outputs": [
    {
     "data": {
      "text/plain": [
       "'YOLO my precious'"
      ]
     },
     "execution_count": 82,
     "metadata": {},
     "output_type": "execute_result"
    }
   ],
   "source": [
    "with open('replace_example.txt', 'r') as file:\n",
    "    my_file = file.read()\n",
    "\n",
    "my_file"
   ]
  },
  {
   "cell_type": "code",
   "execution_count": null,
   "metadata": {},
   "outputs": [],
   "source": []
  }
 ],
 "metadata": {
  "kernelspec": {
   "display_name": "Python 3",
   "language": "python",
   "name": "python3"
  },
  "language_info": {
   "codemirror_mode": {
    "name": "ipython",
    "version": 3
   },
   "file_extension": ".py",
   "mimetype": "text/x-python",
   "name": "python",
   "nbconvert_exporter": "python",
   "pygments_lexer": "ipython3",
   "version": "3.7.0"
  }
 },
 "nbformat": 4,
 "nbformat_minor": 2
}
