{
 "cells": [
  {
   "cell_type": "markdown",
   "metadata": {},
   "source": [
    "# Inheritance"
   ]
  },
  {
   "cell_type": "code",
   "execution_count": 2,
   "metadata": {},
   "outputs": [],
   "source": [
    "# The ability to define a class which inherits from another class"
   ]
  },
  {
   "cell_type": "code",
   "execution_count": 3,
   "metadata": {},
   "outputs": [],
   "source": [
    "class Animal:\n",
    "    \n",
    "    def make_sound(self, sound):\n",
    "        print (sound)\n",
    "    \n",
    "    cool = True\n",
    "\n",
    "class Cat(Animal):\n",
    "    pass\n",
    "    "
   ]
  },
  {
   "cell_type": "code",
   "execution_count": 4,
   "metadata": {},
   "outputs": [],
   "source": [
    "gandalf = Cat()"
   ]
  },
  {
   "cell_type": "code",
   "execution_count": 5,
   "metadata": {},
   "outputs": [
    {
     "name": "stdout",
     "output_type": "stream",
     "text": [
      "meow\n"
     ]
    }
   ],
   "source": [
    "gandalf.make_sound('meow')"
   ]
  },
  {
   "cell_type": "code",
   "execution_count": 7,
   "metadata": {},
   "outputs": [
    {
     "data": {
      "text/plain": [
       "True"
      ]
     },
     "execution_count": 7,
     "metadata": {},
     "output_type": "execute_result"
    }
   ],
   "source": [
    "gandalf.cool"
   ]
  },
  {
   "cell_type": "code",
   "execution_count": 9,
   "metadata": {},
   "outputs": [
    {
     "data": {
      "text/plain": [
       "True"
      ]
     },
     "execution_count": 9,
     "metadata": {},
     "output_type": "execute_result"
    }
   ],
   "source": [
    "isinstance(gandalf, Cat)"
   ]
  },
  {
   "cell_type": "code",
   "execution_count": 10,
   "metadata": {},
   "outputs": [
    {
     "data": {
      "text/plain": [
       "True"
      ]
     },
     "execution_count": 10,
     "metadata": {},
     "output_type": "execute_result"
    }
   ],
   "source": [
    "isinstance(gandalf, Animal)"
   ]
  },
  {
   "cell_type": "markdown",
   "metadata": {},
   "source": [
    "# Properties"
   ]
  },
  {
   "cell_type": "code",
   "execution_count": 64,
   "metadata": {},
   "outputs": [],
   "source": [
    "class Human:\n",
    "    \n",
    "    def __init__(self, first, last, age):\n",
    "        self.first = first\n",
    "        self.last = last\n",
    "        if age>= 0:\n",
    "            self._age = age\n",
    "        else:\n",
    "            self._age = 0\n",
    "        \n",
    "#    def get_age(self):\n",
    "#        return self._age\n",
    "    \n",
    "#    def set_age(self, new_age):\n",
    "#        if new_age >= 0:\n",
    "#            self._age = new_age\n",
    "#        else:\n",
    "#            self._age = 0\n",
    "        \n",
    "    @property\n",
    "    def age(self):\n",
    "        return self._age\n",
    "    \n",
    "    @age.setter\n",
    "    def age(self, value):\n",
    "        if value >= 0:\n",
    "            self._age = value\n",
    "        else:\n",
    "            raise ValueError('age can not be negative')\n",
    "        \n",
    "    @property\n",
    "    def full_name(self):\n",
    "        return f'{self.first} {self.last}'\n",
    "    \n",
    "    @full_name.setter\n",
    "    def full_name(self, name):\n",
    "        self.first, self.last = name.split(' ')"
   ]
  },
  {
   "cell_type": "code",
   "execution_count": 65,
   "metadata": {},
   "outputs": [],
   "source": [
    "jane = Human('Jane', 'Goodall', -9)"
   ]
  },
  {
   "cell_type": "code",
   "execution_count": 66,
   "metadata": {},
   "outputs": [
    {
     "data": {
      "text/plain": [
       "0"
      ]
     },
     "execution_count": 66,
     "metadata": {},
     "output_type": "execute_result"
    }
   ],
   "source": [
    "jane.age"
   ]
  },
  {
   "cell_type": "code",
   "execution_count": 67,
   "metadata": {},
   "outputs": [],
   "source": [
    "jane.age = 20"
   ]
  },
  {
   "cell_type": "code",
   "execution_count": 68,
   "metadata": {},
   "outputs": [
    {
     "data": {
      "text/plain": [
       "20"
      ]
     },
     "execution_count": 68,
     "metadata": {},
     "output_type": "execute_result"
    }
   ],
   "source": [
    "jane.age"
   ]
  },
  {
   "cell_type": "code",
   "execution_count": 69,
   "metadata": {},
   "outputs": [
    {
     "ename": "ValueError",
     "evalue": "age can not be negative",
     "output_type": "error",
     "traceback": [
      "\u001b[1;31m---------------------------------------------------------------------------\u001b[0m",
      "\u001b[1;31mValueError\u001b[0m                                Traceback (most recent call last)",
      "\u001b[1;32m<ipython-input-69-d3f16656afab>\u001b[0m in \u001b[0;36m<module>\u001b[1;34m()\u001b[0m\n\u001b[1;32m----> 1\u001b[1;33m \u001b[0mjane\u001b[0m\u001b[1;33m.\u001b[0m\u001b[0mage\u001b[0m \u001b[1;33m=\u001b[0m \u001b[1;33m-\u001b[0m\u001b[1;36m9\u001b[0m\u001b[1;33m\u001b[0m\u001b[0m\n\u001b[0m",
      "\u001b[1;32m<ipython-input-64-cce2a48e89b1>\u001b[0m in \u001b[0;36mage\u001b[1;34m(self, value)\u001b[0m\n\u001b[0;32m     27\u001b[0m             \u001b[0mself\u001b[0m\u001b[1;33m.\u001b[0m\u001b[0m_age\u001b[0m \u001b[1;33m=\u001b[0m \u001b[0mvalue\u001b[0m\u001b[1;33m\u001b[0m\u001b[0m\n\u001b[0;32m     28\u001b[0m         \u001b[1;32melse\u001b[0m\u001b[1;33m:\u001b[0m\u001b[1;33m\u001b[0m\u001b[0m\n\u001b[1;32m---> 29\u001b[1;33m             \u001b[1;32mraise\u001b[0m \u001b[0mValueError\u001b[0m\u001b[1;33m(\u001b[0m\u001b[1;34m'age can not be negative'\u001b[0m\u001b[1;33m)\u001b[0m\u001b[1;33m\u001b[0m\u001b[0m\n\u001b[0m\u001b[0;32m     30\u001b[0m \u001b[1;33m\u001b[0m\u001b[0m\n\u001b[0;32m     31\u001b[0m     \u001b[1;33m@\u001b[0m\u001b[0mproperty\u001b[0m\u001b[1;33m\u001b[0m\u001b[0m\n",
      "\u001b[1;31mValueError\u001b[0m: age can not be negative"
     ]
    }
   ],
   "source": [
    "jane.age = -9"
   ]
  },
  {
   "cell_type": "code",
   "execution_count": 70,
   "metadata": {},
   "outputs": [
    {
     "data": {
      "text/plain": [
       "'Jane Goodall'"
      ]
     },
     "execution_count": 70,
     "metadata": {},
     "output_type": "execute_result"
    }
   ],
   "source": [
    "jane.full_name"
   ]
  },
  {
   "cell_type": "code",
   "execution_count": 71,
   "metadata": {},
   "outputs": [],
   "source": [
    "jane.full_name = 'Tim Millhouse'"
   ]
  },
  {
   "cell_type": "code",
   "execution_count": 72,
   "metadata": {},
   "outputs": [
    {
     "data": {
      "text/plain": [
       "'Tim Millhouse'"
      ]
     },
     "execution_count": 72,
     "metadata": {},
     "output_type": "execute_result"
    }
   ],
   "source": [
    "jane.full_name"
   ]
  },
  {
   "cell_type": "code",
   "execution_count": 75,
   "metadata": {},
   "outputs": [
    {
     "data": {
      "text/plain": [
       "{'first': 'Tim', 'last': 'Millhouse', '_age': 20}"
      ]
     },
     "execution_count": 75,
     "metadata": {},
     "output_type": "execute_result"
    }
   ],
   "source": [
    "jane.__dict__"
   ]
  },
  {
   "cell_type": "code",
   "execution_count": 76,
   "metadata": {},
   "outputs": [
    {
     "data": {
      "text/plain": [
       "'Tim'"
      ]
     },
     "execution_count": 76,
     "metadata": {},
     "output_type": "execute_result"
    }
   ],
   "source": [
    "jane.first"
   ]
  },
  {
   "cell_type": "markdown",
   "metadata": {},
   "source": [
    "# Super()"
   ]
  },
  {
   "cell_type": "code",
   "execution_count": null,
   "metadata": {},
   "outputs": [],
   "source": [
    "# super() allows you to refer to the parent class"
   ]
  },
  {
   "cell_type": "code",
   "execution_count": 84,
   "metadata": {},
   "outputs": [],
   "source": [
    "\n",
    "\n",
    "class Animal:\n",
    "  \n",
    "    def __init__(self, name, species):\n",
    "        self.name = name\n",
    "        self.species = species\n",
    "\n",
    "    def __repr__(self):\n",
    "        return f'{self.name} is a {self.species}'\n",
    "    \n",
    "    def make_sound(self, sound):\n",
    "        print (f'this animal says {sound}')\n",
    "    \n",
    "\n",
    "    \n",
    "class Cat(Animal):\n",
    "        \n",
    "    def __init__(self, name, breed, toy):\n",
    "        super().__init__(name, species='Cat')\n",
    "        self.breed = breed\n",
    "        self.toy = toy\n",
    "        \n",
    "    def play(self):\n",
    "        print (f'{self.name} plays with {self.toy}')\n",
    "    \n",
    "    "
   ]
  },
  {
   "cell_type": "code",
   "execution_count": 85,
   "metadata": {},
   "outputs": [],
   "source": [
    "blue = Cat('Blue', 'Scottish Fold', 'String')"
   ]
  },
  {
   "cell_type": "code",
   "execution_count": 86,
   "metadata": {},
   "outputs": [
    {
     "data": {
      "text/plain": [
       "'Cat'"
      ]
     },
     "execution_count": 86,
     "metadata": {},
     "output_type": "execute_result"
    }
   ],
   "source": [
    "blue.species"
   ]
  },
  {
   "cell_type": "code",
   "execution_count": 87,
   "metadata": {},
   "outputs": [
    {
     "data": {
      "text/plain": [
       "Blue is a Cat"
      ]
     },
     "execution_count": 87,
     "metadata": {},
     "output_type": "execute_result"
    }
   ],
   "source": [
    "blue"
   ]
  },
  {
   "cell_type": "code",
   "execution_count": 88,
   "metadata": {},
   "outputs": [
    {
     "name": "stdout",
     "output_type": "stream",
     "text": [
      "Blue plays with String\n"
     ]
    }
   ],
   "source": [
    "blue.play()"
   ]
  },
  {
   "cell_type": "code",
   "execution_count": 90,
   "metadata": {},
   "outputs": [
    {
     "name": "stdout",
     "output_type": "stream",
     "text": [
      "this animal says meow\n"
     ]
    }
   ],
   "source": [
    "blue.make_sound('meow')"
   ]
  },
  {
   "cell_type": "markdown",
   "metadata": {},
   "source": []
  },
  {
   "cell_type": "code",
   "execution_count": 110,
   "metadata": {},
   "outputs": [],
   "source": [
    "class User:\n",
    "    \n",
    "    #Class Attribute\n",
    "    active_users = 0\n",
    "    \n",
    "    def __init__(self, first, last, age):\n",
    "        self.first = first\n",
    "        self.last = last\n",
    "        self.age = age\n",
    "        User.active_users += 1\n",
    "    \n",
    "    # Class Method\n",
    "    @classmethod\n",
    "    def display_active_users(cls):\n",
    "        return f'There are {cls.active_users} active users'\n",
    "    \n",
    "    @classmethod\n",
    "    def from_string(cls, data_str):\n",
    "        first,last,age = data_str.split(\",\")\n",
    "        return cls(first, last, int(age))\n",
    "    \n",
    "    # __repr__ Method\n",
    "    def __repr__(self):\n",
    "        return f'{self.first} is {self.age}'\n",
    "        \n",
    "    # Instance Methods, methods that can be called on the class object\n",
    "    def logout(self):\n",
    "        User.active_users -= 1\n",
    "        return f'{self.first} has logged out'\n",
    "    \n",
    "    def full_name(self):\n",
    "        return f'{self.first} {self.last}'\n",
    "    \n",
    "    def initials(self):\n",
    "        return f'{self.first[0]}.{self.last[0]}'\n",
    "    \n",
    "    def likes(self, thing):\n",
    "        return f'{self.first} likes {thing}'\n",
    "    \n",
    "    def is_senior(self):\n",
    "        return self.age >= 65\n",
    "    \n",
    "    # can change the orignal\n",
    "    def birthday(self):\n",
    "        self.age +=1\n",
    "        return f'Happy {self.age}th, {self.first}'\n",
    "\n",
    "    \n",
    "class Moderator(User):\n",
    "    \n",
    "    total_mods = 0\n",
    "    \n",
    "    def __init__(self, first, last, age, community):\n",
    "        super().__init__(first, last, age)\n",
    "        self.community = community\n",
    "        Moderator.total_mods += 1\n",
    "        \n",
    "    # Class Method\n",
    "    @classmethod\n",
    "    def display_active_mods(cls):\n",
    "        return f'There are {cls.total_mods} active mods'\n",
    "        \n",
    "    def remove_post(self):\n",
    "        return f'{self.full_name()} removed a post from {self.community} community'\n"
   ]
  },
  {
   "cell_type": "code",
   "execution_count": 111,
   "metadata": {},
   "outputs": [],
   "source": [
    "jasmine = Moderator('Jasmine', \"O'connoer\", 61, 'Piano' )"
   ]
  },
  {
   "cell_type": "code",
   "execution_count": 112,
   "metadata": {},
   "outputs": [
    {
     "data": {
      "text/plain": [
       "1"
      ]
     },
     "execution_count": 112,
     "metadata": {},
     "output_type": "execute_result"
    }
   ],
   "source": [
    "User.active_users"
   ]
  },
  {
   "cell_type": "code",
   "execution_count": 113,
   "metadata": {},
   "outputs": [
    {
     "data": {
      "text/plain": [
       "'Piano'"
      ]
     },
     "execution_count": 113,
     "metadata": {},
     "output_type": "execute_result"
    }
   ],
   "source": [
    "jasmine.community"
   ]
  },
  {
   "cell_type": "code",
   "execution_count": 114,
   "metadata": {},
   "outputs": [],
   "source": [
    "user1 = User('Tom', 'Garcia', 35)"
   ]
  },
  {
   "cell_type": "code",
   "execution_count": 115,
   "metadata": {},
   "outputs": [
    {
     "data": {
      "text/plain": [
       "2"
      ]
     },
     "execution_count": 115,
     "metadata": {},
     "output_type": "execute_result"
    }
   ],
   "source": [
    "User.active_users"
   ]
  },
  {
   "cell_type": "code",
   "execution_count": 117,
   "metadata": {},
   "outputs": [
    {
     "data": {
      "text/plain": [
       "'There are 1 active mods'"
      ]
     },
     "execution_count": 117,
     "metadata": {},
     "output_type": "execute_result"
    }
   ],
   "source": [
    "Moderator.display_active_mods()"
   ]
  },
  {
   "cell_type": "code",
   "execution_count": 118,
   "metadata": {},
   "outputs": [],
   "source": [
    "# Define a base class \"Character\" that has Name(String), hp (integer-hit points), level (integer)\n",
    "\n",
    "# Define a subclass \"NPC\" (nonplayable character) that inherits from \"Character\" class\n",
    "# also has an instance method \"speak\" that prints some text when a player interacts with it"
   ]
  },
  {
   "cell_type": "code",
   "execution_count": 126,
   "metadata": {},
   "outputs": [],
   "source": [
    "class Character:\n",
    "    \n",
    "    def __init__ (self, name, hp, level):\n",
    "        self.name = name\n",
    "        self.hp = hp\n",
    "        self.level = level\n",
    "        \n",
    "\n",
    "class NPC(Character):\n",
    "    \n",
    "    def __init__ (self, name, hp, level):\n",
    "        super().__init__(name, hp, level)\n",
    "        \n",
    "    def speak(self):\n",
    "        return ('{} says: I heard there were monsters'.format(self.name))"
   ]
  },
  {
   "cell_type": "code",
   "execution_count": 127,
   "metadata": {},
   "outputs": [],
   "source": [
    "villager = NPC('Bob', 100, 12)"
   ]
  },
  {
   "cell_type": "code",
   "execution_count": 128,
   "metadata": {},
   "outputs": [
    {
     "data": {
      "text/plain": [
       "'Bob'"
      ]
     },
     "execution_count": 128,
     "metadata": {},
     "output_type": "execute_result"
    }
   ],
   "source": [
    "villager.name"
   ]
  },
  {
   "cell_type": "code",
   "execution_count": 129,
   "metadata": {},
   "outputs": [
    {
     "data": {
      "text/plain": [
       "12"
      ]
     },
     "execution_count": 129,
     "metadata": {},
     "output_type": "execute_result"
    }
   ],
   "source": [
    "villager.level"
   ]
  },
  {
   "cell_type": "code",
   "execution_count": 130,
   "metadata": {},
   "outputs": [
    {
     "data": {
      "text/plain": [
       "'Bob says: I heard there were monsters'"
      ]
     },
     "execution_count": 130,
     "metadata": {},
     "output_type": "execute_result"
    }
   ],
   "source": [
    "villager.speak()"
   ]
  },
  {
   "cell_type": "markdown",
   "metadata": {},
   "source": [
    "# Multiple Inheritance"
   ]
  },
  {
   "cell_type": "code",
   "execution_count": 24,
   "metadata": {},
   "outputs": [],
   "source": [
    "class Aquatic:\n",
    "    def __init__(self, name):\n",
    "        print('Aquatic INIT')\n",
    "        self.name = name\n",
    "        \n",
    "    def swim(self):\n",
    "        return f'{self.name} is swimming'\n",
    "    \n",
    "    def greet(self):                           #same method name\n",
    "        return f'I am {self.name} of the sea!'\n",
    "\n",
    "class Ambulatory:\n",
    "    def __init__(self,name):\n",
    "        print('Ambulatory INIT')\n",
    "        self.name = name\n",
    "        \n",
    "    def walk(self):\n",
    "        return f'{self.name} is walking'\n",
    "    \n",
    "    def greet(self):                            #same method name\n",
    "        return f'I am {self.name} of the land'\n",
    "    \n",
    "class Penguin(Ambulatory, Aquatic):      #inherits from both, but if there is duplicte\n",
    "    def __init__(self,name):             # will use the first in this case Ambulatory\n",
    "        print('Penguin INIT')\n",
    "        super().__init__(name=name)"
   ]
  },
  {
   "cell_type": "code",
   "execution_count": 25,
   "metadata": {},
   "outputs": [
    {
     "name": "stdout",
     "output_type": "stream",
     "text": [
      "Aquatic INIT\n"
     ]
    }
   ],
   "source": [
    "jaws = Aquatic('Jaws')"
   ]
  },
  {
   "cell_type": "code",
   "execution_count": 26,
   "metadata": {},
   "outputs": [
    {
     "name": "stdout",
     "output_type": "stream",
     "text": [
      "Ambulatory INIT\n"
     ]
    }
   ],
   "source": [
    "lassie = Ambulatory('Lassie')"
   ]
  },
  {
   "cell_type": "code",
   "execution_count": 27,
   "metadata": {},
   "outputs": [
    {
     "name": "stdout",
     "output_type": "stream",
     "text": [
      "Penguin INIT\n",
      "Ambulatory INIT\n"
     ]
    }
   ],
   "source": [
    "captain_cook = Penguin('Captain Cook')"
   ]
  },
  {
   "cell_type": "code",
   "execution_count": 28,
   "metadata": {},
   "outputs": [
    {
     "data": {
      "text/plain": [
       "'Lassie is walking'"
      ]
     },
     "execution_count": 28,
     "metadata": {},
     "output_type": "execute_result"
    }
   ],
   "source": [
    "lassie.walk()"
   ]
  },
  {
   "cell_type": "code",
   "execution_count": 29,
   "metadata": {},
   "outputs": [
    {
     "data": {
      "text/plain": [
       "'Captain Cook is swimming'"
      ]
     },
     "execution_count": 29,
     "metadata": {},
     "output_type": "execute_result"
    }
   ],
   "source": [
    "captain_cook.swim()"
   ]
  },
  {
   "cell_type": "code",
   "execution_count": 31,
   "metadata": {},
   "outputs": [
    {
     "data": {
      "text/plain": [
       "'Captain Cook is walking'"
      ]
     },
     "execution_count": 31,
     "metadata": {},
     "output_type": "execute_result"
    }
   ],
   "source": [
    "captain_cook.walk()"
   ]
  },
  {
   "cell_type": "code",
   "execution_count": 30,
   "metadata": {},
   "outputs": [
    {
     "data": {
      "text/plain": [
       "'I am Captain Cook of the land'"
      ]
     },
     "execution_count": 30,
     "metadata": {},
     "output_type": "execute_result"
    }
   ],
   "source": [
    "captain_cook.greet()"
   ]
  },
  {
   "cell_type": "code",
   "execution_count": 32,
   "metadata": {},
   "outputs": [],
   "source": [
    "# Method Resolution Order - order in which python will look for methods on that\n",
    "# class\n",
    "# Reference MRO in three ways\n",
    "# 1) __mro__ attribute on the class\n",
    "# 2) use the mro() method on the class\n",
    "# 3) use the builtin help(cls) method"
   ]
  },
  {
   "cell_type": "code",
   "execution_count": 33,
   "metadata": {},
   "outputs": [
    {
     "data": {
      "text/plain": [
       "(__main__.Penguin, __main__.Ambulatory, __main__.Aquatic, object)"
      ]
     },
     "execution_count": 33,
     "metadata": {},
     "output_type": "execute_result"
    }
   ],
   "source": [
    "Penguin.__mro__"
   ]
  },
  {
   "cell_type": "code",
   "execution_count": 35,
   "metadata": {},
   "outputs": [
    {
     "data": {
      "text/plain": [
       "[__main__.Penguin, __main__.Ambulatory, __main__.Aquatic, object]"
      ]
     },
     "execution_count": 35,
     "metadata": {},
     "output_type": "execute_result"
    }
   ],
   "source": [
    "Penguin.mro()"
   ]
  },
  {
   "cell_type": "code",
   "execution_count": 36,
   "metadata": {},
   "outputs": [
    {
     "name": "stdout",
     "output_type": "stream",
     "text": [
      "Help on class Penguin in module __main__:\n",
      "\n",
      "class Penguin(Ambulatory, Aquatic)\n",
      " |  Penguin(name)\n",
      " |  \n",
      " |  Method resolution order:\n",
      " |      Penguin\n",
      " |      Ambulatory\n",
      " |      Aquatic\n",
      " |      builtins.object\n",
      " |  \n",
      " |  Methods defined here:\n",
      " |  \n",
      " |  __init__(self, name)\n",
      " |      Initialize self.  See help(type(self)) for accurate signature.\n",
      " |  \n",
      " |  ----------------------------------------------------------------------\n",
      " |  Methods inherited from Ambulatory:\n",
      " |  \n",
      " |  greet(self)\n",
      " |  \n",
      " |  walk(self)\n",
      " |  \n",
      " |  ----------------------------------------------------------------------\n",
      " |  Data descriptors inherited from Ambulatory:\n",
      " |  \n",
      " |  __dict__\n",
      " |      dictionary for instance variables (if defined)\n",
      " |  \n",
      " |  __weakref__\n",
      " |      list of weak references to the object (if defined)\n",
      " |  \n",
      " |  ----------------------------------------------------------------------\n",
      " |  Methods inherited from Aquatic:\n",
      " |  \n",
      " |  swim(self)\n",
      "\n"
     ]
    }
   ],
   "source": [
    "help(Penguin)"
   ]
  },
  {
   "cell_type": "code",
   "execution_count": 40,
   "metadata": {},
   "outputs": [],
   "source": [
    "class A:\n",
    "    def do_something(self):\n",
    "        print ('Method Defined In: A')\n",
    "\n",
    "class B(A):\n",
    "    def do_something(self):\n",
    "        print ('Method Defined In: B')\n",
    "\n",
    "class C(A):\n",
    "    def do_something(self):\n",
    "        print ('Method Defined In: C')\n",
    "\n",
    "class D(B,C):\n",
    "    pass\n",
    "#    def do_something(self):\n",
    "#        print ('Method Defined In: D')\n",
    "\n",
    "#     A\n",
    "#    / \\\n",
    "#   B   C\n",
    "#   \\   /\n",
    "#     D"
   ]
  },
  {
   "cell_type": "code",
   "execution_count": 41,
   "metadata": {},
   "outputs": [],
   "source": [
    "thing = D()"
   ]
  },
  {
   "cell_type": "code",
   "execution_count": 42,
   "metadata": {},
   "outputs": [
    {
     "name": "stdout",
     "output_type": "stream",
     "text": [
      "Method Defined In: B\n"
     ]
    }
   ],
   "source": [
    "thing.do_something()"
   ]
  },
  {
   "cell_type": "code",
   "execution_count": 45,
   "metadata": {},
   "outputs": [
    {
     "name": "stdout",
     "output_type": "stream",
     "text": [
      "Help on D in module __main__ object:\n",
      "\n",
      "class D(B, C)\n",
      " |  Method resolution order:\n",
      " |      D\n",
      " |      B\n",
      " |      C\n",
      " |      A\n",
      " |      builtins.object\n",
      " |  \n",
      " |  Methods inherited from B:\n",
      " |  \n",
      " |  do_something(self)\n",
      " |  \n",
      " |  ----------------------------------------------------------------------\n",
      " |  Data descriptors inherited from A:\n",
      " |  \n",
      " |  __dict__\n",
      " |      dictionary for instance variables (if defined)\n",
      " |  \n",
      " |  __weakref__\n",
      " |      list of weak references to the object (if defined)\n",
      "\n"
     ]
    }
   ],
   "source": [
    "help(thing)"
   ]
  },
  {
   "cell_type": "code",
   "execution_count": 46,
   "metadata": {},
   "outputs": [
    {
     "ename": "AttributeError",
     "evalue": "'D' object has no attribute 'mro'",
     "output_type": "error",
     "traceback": [
      "\u001b[1;31m---------------------------------------------------------------------------\u001b[0m",
      "\u001b[1;31mAttributeError\u001b[0m                            Traceback (most recent call last)",
      "\u001b[1;32m<ipython-input-46-b16ceeaa323a>\u001b[0m in \u001b[0;36m<module>\u001b[1;34m()\u001b[0m\n\u001b[1;32m----> 1\u001b[1;33m \u001b[0mprint\u001b[0m\u001b[1;33m(\u001b[0m\u001b[0mthing\u001b[0m\u001b[1;33m.\u001b[0m\u001b[0mmro\u001b[0m\u001b[1;33m(\u001b[0m\u001b[1;33m)\u001b[0m\u001b[1;33m)\u001b[0m\u001b[1;33m\u001b[0m\u001b[0m\n\u001b[0m",
      "\u001b[1;31mAttributeError\u001b[0m: 'D' object has no attribute 'mro'"
     ]
    }
   ],
   "source": [
    "print(thing.mro())"
   ]
  },
  {
   "cell_type": "code",
   "execution_count": 54,
   "metadata": {},
   "outputs": [],
   "source": [
    "# Create a Child class that inherits from the Mother and Father.  Mother class\n",
    "# is the dominate"
   ]
  },
  {
   "cell_type": "code",
   "execution_count": 62,
   "metadata": {},
   "outputs": [],
   "source": [
    "class Mother:\n",
    "   \n",
    "    # Class attributes\n",
    "    eye_color = 'brown'\n",
    "    hair_color = 'dark brown'\n",
    "    hair_type = 'curly'\n",
    "\n",
    "\n",
    "class Father:\n",
    "    \n",
    "    eye_color = 'blue'\n",
    "    hair_color = 'blond'\n",
    "    hair_type = 'straight'\n",
    "\n",
    "class Child(Mother, Father):\n",
    "    def __init__(self):            \n",
    "        super().__init__()\n",
    "    "
   ]
  },
  {
   "cell_type": "code",
   "execution_count": 63,
   "metadata": {},
   "outputs": [],
   "source": [
    "kid = Child()"
   ]
  },
  {
   "cell_type": "code",
   "execution_count": 64,
   "metadata": {},
   "outputs": [
    {
     "data": {
      "text/plain": [
       "'brown'"
      ]
     },
     "execution_count": 64,
     "metadata": {},
     "output_type": "execute_result"
    }
   ],
   "source": [
    "kid.eye_color"
   ]
  },
  {
   "cell_type": "code",
   "execution_count": 65,
   "metadata": {},
   "outputs": [
    {
     "data": {
      "text/plain": [
       "'curly'"
      ]
     },
     "execution_count": 65,
     "metadata": {},
     "output_type": "execute_result"
    }
   ],
   "source": [
    "kid.hair_type"
   ]
  },
  {
   "cell_type": "markdown",
   "metadata": {},
   "source": [
    "# Polymorphism"
   ]
  },
  {
   "cell_type": "code",
   "execution_count": 66,
   "metadata": {},
   "outputs": [],
   "source": [
    "# An object can take many (poly) forms (morph)\n",
    "# The same class method works in a similar way for different classes\n",
    "     # Have a method in a Parent class that is overidden by a subclass\n",
    "    \n",
    "# Special Methods\n",
    "     # The same operation works for different kinds of objects"
   ]
  },
  {
   "cell_type": "code",
   "execution_count": 67,
   "metadata": {},
   "outputs": [],
   "source": [
    "# 8 + 2 = 10\n",
    "# '8' + '2' = '82'\n",
    "\n",
    "# + operator is a special method __add__() that gets called on the first operand\n",
    "# when it is a integer it does mathmatical addition.  If a string, concactination"
   ]
  },
  {
   "cell_type": "code",
   "execution_count": 130,
   "metadata": {},
   "outputs": [],
   "source": [
    "from copy import copy\n",
    "\n",
    "class Human:\n",
    "    def __init__(self, first, last, age):\n",
    "        self.first = first\n",
    "        self.last = last\n",
    "        self.age = age\n",
    "    \n",
    "    def __repr__(self):\n",
    "        return f'Human named {self.first} {self.last}'\n",
    "    \n",
    "    def __len__(self):\n",
    "        return self.age\n",
    "    \n",
    "    def __add__(self, other):\n",
    "        if isinstance(other, Human):\n",
    "            return Human(first='Newborn', last=self.last, age=0)\n",
    "        return 'You can not add that'\n",
    "    \n",
    "    def __mul__(self, other):\n",
    "        if isinstance(other, int):\n",
    "            return [copy(self) for i in range(other)]\n",
    "        return 'can not multiply'"
   ]
  },
  {
   "cell_type": "code",
   "execution_count": 131,
   "metadata": {},
   "outputs": [],
   "source": [
    "j = Human('Jenny', 'Larsen', 47)\n",
    "k = Human('Kevin', 'Jones', 49)"
   ]
  },
  {
   "cell_type": "code",
   "execution_count": 132,
   "metadata": {},
   "outputs": [
    {
     "data": {
      "text/plain": [
       "Human named Jenny Larsen"
      ]
     },
     "execution_count": 132,
     "metadata": {},
     "output_type": "execute_result"
    }
   ],
   "source": [
    "j"
   ]
  },
  {
   "cell_type": "code",
   "execution_count": 133,
   "metadata": {},
   "outputs": [
    {
     "data": {
      "text/plain": [
       "47"
      ]
     },
     "execution_count": 133,
     "metadata": {},
     "output_type": "execute_result"
    }
   ],
   "source": [
    "len(j)"
   ]
  },
  {
   "cell_type": "code",
   "execution_count": 134,
   "metadata": {},
   "outputs": [
    {
     "data": {
      "text/plain": [
       "Human named Newborn Larsen"
      ]
     },
     "execution_count": 134,
     "metadata": {},
     "output_type": "execute_result"
    }
   ],
   "source": [
    "j + k"
   ]
  },
  {
   "cell_type": "code",
   "execution_count": 138,
   "metadata": {},
   "outputs": [
    {
     "data": {
      "text/plain": [
       "[Human named Jenny Larsen, Human named Jenny Larsen]"
      ]
     },
     "execution_count": 138,
     "metadata": {},
     "output_type": "execute_result"
    }
   ],
   "source": [
    "j * 2"
   ]
  },
  {
   "cell_type": "code",
   "execution_count": 139,
   "metadata": {},
   "outputs": [
    {
     "data": {
      "text/plain": [
       "[Human named Jenny Larsen, Human named Jenny Larsen, Human named Jenny Larsen]"
      ]
     },
     "execution_count": 139,
     "metadata": {},
     "output_type": "execute_result"
    }
   ],
   "source": [
    "j * 3"
   ]
  },
  {
   "cell_type": "code",
   "execution_count": 140,
   "metadata": {},
   "outputs": [
    {
     "data": {
      "text/plain": [
       "[Human named Newborn Jones,\n",
       " Human named Newborn Jones,\n",
       " Human named Newborn Jones]"
      ]
     },
     "execution_count": 140,
     "metadata": {},
     "output_type": "execute_result"
    }
   ],
   "source": [
    "(k + j) * 3"
   ]
  },
  {
   "cell_type": "code",
   "execution_count": 176,
   "metadata": {},
   "outputs": [],
   "source": [
    "# You can inherit from any class even pre-built classes such as Dictionary\n",
    "\n",
    "class GrumpyDict(dict):\n",
    "    \n",
    "    # we don't need to define our own __init__ we are using the exisitng\n",
    "    # dict __init__()\n",
    "    \n",
    "    def __repr__(self):\n",
    "        print ('None of your Business')\n",
    "        return super().__repr__()\n",
    "    \n",
    "    def __missing__(self, key):\n",
    "        print(f'You want {key} well it is not here')\n",
    "        \n",
    "    def __setitem__(self, key, value):\n",
    "        print('You want to change the dictionary')\n",
    "        return super().__setitem__(key, value)"
   ]
  },
  {
   "cell_type": "code",
   "execution_count": 177,
   "metadata": {},
   "outputs": [],
   "source": [
    "d = GrumpyDict({'name': 'Yoko', 'city': 'New York'})"
   ]
  },
  {
   "cell_type": "code",
   "execution_count": 178,
   "metadata": {},
   "outputs": [
    {
     "name": "stdout",
     "output_type": "stream",
     "text": [
      "None of your Business\n",
      "{'name': 'Yoko', 'city': 'New York'}\n"
     ]
    }
   ],
   "source": [
    "print(d)"
   ]
  },
  {
   "cell_type": "code",
   "execution_count": 179,
   "metadata": {},
   "outputs": [
    {
     "name": "stdout",
     "output_type": "stream",
     "text": [
      "You want animal well it is not here\n"
     ]
    }
   ],
   "source": [
    "d['animal']"
   ]
  },
  {
   "cell_type": "code",
   "execution_count": 180,
   "metadata": {},
   "outputs": [
    {
     "name": "stdout",
     "output_type": "stream",
     "text": [
      "You want to change the dictionary\n"
     ]
    }
   ],
   "source": [
    "d['city'] = 'Tokyo'"
   ]
  },
  {
   "cell_type": "code",
   "execution_count": 181,
   "metadata": {},
   "outputs": [
    {
     "name": "stdout",
     "output_type": "stream",
     "text": [
      "None of your Business\n"
     ]
    },
    {
     "data": {
      "text/plain": [
       "{'name': 'Yoko', 'city': 'Tokyo'}"
      ]
     },
     "execution_count": 181,
     "metadata": {},
     "output_type": "execute_result"
    }
   ],
   "source": [
    "d"
   ]
  },
  {
   "cell_type": "code",
   "execution_count": 182,
   "metadata": {},
   "outputs": [],
   "source": [
    "# create a class Train that has one attribute num_cars which is specified\n",
    "# when the train is instantiated\n",
    "# special method that describes the train when we call print 'x car train'\n",
    "# on method that denotes the length of the train when we call len on it"
   ]
  },
  {
   "cell_type": "code",
   "execution_count": 232,
   "metadata": {},
   "outputs": [],
   "source": [
    "class Train:\n",
    "    \n",
    "    def __init__(self, num_cars):\n",
    "        self.num_cars = num_cars\n",
    "    \n",
    "    def __repr__(self):\n",
    "        return '{} car train'.format(self.num_cars)\n",
    "        \n",
    "    def __len__(self):\n",
    "        return self.num_cars\n",
    "    "
   ]
  },
  {
   "cell_type": "code",
   "execution_count": 233,
   "metadata": {},
   "outputs": [],
   "source": [
    "a_train = Train(4)"
   ]
  },
  {
   "cell_type": "code",
   "execution_count": 234,
   "metadata": {},
   "outputs": [
    {
     "name": "stdout",
     "output_type": "stream",
     "text": [
      "4 car train\n"
     ]
    }
   ],
   "source": [
    "print(a_train)"
   ]
  },
  {
   "cell_type": "code",
   "execution_count": 235,
   "metadata": {},
   "outputs": [
    {
     "data": {
      "text/plain": [
       "4"
      ]
     },
     "execution_count": 235,
     "metadata": {},
     "output_type": "execute_result"
    }
   ],
   "source": [
    "len(a_train)"
   ]
  },
  {
   "cell_type": "code",
   "execution_count": null,
   "metadata": {},
   "outputs": [],
   "source": []
  }
 ],
 "metadata": {
  "kernelspec": {
   "display_name": "Python 3",
   "language": "python",
   "name": "python3"
  },
  "language_info": {
   "codemirror_mode": {
    "name": "ipython",
    "version": 3
   },
   "file_extension": ".py",
   "mimetype": "text/x-python",
   "name": "python",
   "nbconvert_exporter": "python",
   "pygments_lexer": "ipython3",
   "version": "3.7.0"
  }
 },
 "nbformat": 4,
 "nbformat_minor": 2
}
