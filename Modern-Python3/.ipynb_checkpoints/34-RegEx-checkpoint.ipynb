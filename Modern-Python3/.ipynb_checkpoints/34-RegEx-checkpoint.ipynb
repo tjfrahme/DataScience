{
 "cells": [
  {
   "cell_type": "code",
   "execution_count": 1,
   "metadata": {},
   "outputs": [],
   "source": [
    "#  https://pythex.org/  to check your regex expressions\n",
    "\n",
    "#  \\   is escape to a character\n",
    "# \\d   any digit 0 - 9\n",
    "# \\w   letter, digit or underscore\n",
    "# \\s   whitespace character\n",
    "# \\D   not a digit\n",
    "# \\W   not a word character\n",
    "# \\S   not a whitespace character\n",
    "#  .   any character except line break"
   ]
  },
  {
   "cell_type": "code",
   "execution_count": 2,
   "metadata": {},
   "outputs": [],
   "source": [
    "# Quantifiers\n",
    "\n",
    "#  +     one or more times\n",
    "# {3}    exactly x times {3} -3 times\n",
    "# {3,5}  3 to 5 times\n",
    "# {4,}   4 or more times\n",
    "#  *     zero or more times\n",
    "#  ?     once or none (optional)"
   ]
  },
  {
   "cell_type": "code",
   "execution_count": 4,
   "metadata": {},
   "outputs": [],
   "source": [
    "#  Classes and sets\n",
    "\n",
    "# [aeiou]   anything inside is a vowel\n",
    "# [a-f]     range between a - f\n",
    "# [A-Z]     all upercase letters\n",
    "# [^]       inside square brackets ^ means not"
   ]
  },
  {
   "cell_type": "code",
   "execution_count": 5,
   "metadata": {},
   "outputs": [],
   "source": [
    "# Anchors and Boundaries\n",
    "\n",
    "#  ^   start of string or line\n",
    "#  $   end of string or line\n",
    "# \\b   word boundry"
   ]
  },
  {
   "cell_type": "code",
   "execution_count": 6,
   "metadata": {},
   "outputs": [],
   "source": [
    "# Logical OR  |"
   ]
  },
  {
   "cell_type": "code",
   "execution_count": 7,
   "metadata": {},
   "outputs": [],
   "source": [
    "import re"
   ]
  },
  {
   "cell_type": "code",
   "execution_count": 16,
   "metadata": {},
   "outputs": [],
   "source": [
    "#define our phone number regex\n",
    "# r lets us use a rawstring, so a backslash is a backslash\n",
    "pattern = re.compile(r'\\d{3} \\d{3}-\\{4}')  # compile creates the regex expression                               "
   ]
  },
  {
   "cell_type": "code",
   "execution_count": 19,
   "metadata": {},
   "outputs": [],
   "source": [
    "#search a string with our regex\n",
    "res = pattern.search('Call me at 415 555-4242')   # gives us a match object"
   ]
  },
  {
   "cell_type": "code",
   "execution_count": 20,
   "metadata": {},
   "outputs": [
    {
     "ename": "AttributeError",
     "evalue": "'NoneType' object has no attribute 'group'",
     "output_type": "error",
     "traceback": [
      "\u001b[1;31m---------------------------------------------------------------------------\u001b[0m",
      "\u001b[1;31mAttributeError\u001b[0m                            Traceback (most recent call last)",
      "\u001b[1;32m<ipython-input-20-7fdea6f03075>\u001b[0m in \u001b[0;36m<module>\u001b[1;34m()\u001b[0m\n\u001b[1;32m----> 1\u001b[1;33m \u001b[0mres\u001b[0m\u001b[1;33m.\u001b[0m\u001b[0mgroup\u001b[0m\u001b[1;33m(\u001b[0m\u001b[1;33m)\u001b[0m\u001b[1;33m\u001b[0m\u001b[0m\n\u001b[0m",
      "\u001b[1;31mAttributeError\u001b[0m: 'NoneType' object has no attribute 'group'"
     ]
    }
   ],
   "source": [
    "res.group()"
   ]
  },
  {
   "cell_type": "code",
   "execution_count": null,
   "metadata": {},
   "outputs": [],
   "source": []
  }
 ],
 "metadata": {
  "kernelspec": {
   "display_name": "Python 3",
   "language": "python",
   "name": "python3"
  },
  "language_info": {
   "codemirror_mode": {
    "name": "ipython",
    "version": 3
   },
   "file_extension": ".py",
   "mimetype": "text/x-python",
   "name": "python",
   "nbconvert_exporter": "python",
   "pygments_lexer": "ipython3",
   "version": "3.7.0"
  }
 },
 "nbformat": 4,
 "nbformat_minor": 2
}
