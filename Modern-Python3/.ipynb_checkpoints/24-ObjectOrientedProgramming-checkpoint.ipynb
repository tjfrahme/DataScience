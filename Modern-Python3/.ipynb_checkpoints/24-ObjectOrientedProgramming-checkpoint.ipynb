{
 "cells": [
  {
   "cell_type": "code",
   "execution_count": null,
   "metadata": {},
   "outputs": [],
   "source": [
    "# class - a blueprint for objects, can contain methods(functions) and attributes\n",
    "\n",
    "# instance - objects that are constructed from a class blueprint that contain\n",
    "# their class's methods and properties\n",
    "\n",
    "# encapsulation - the grouping of public and private attributes and methods\n",
    "# into programmatic class, making abstraction possible\n",
    "\n",
    "# abstraction - esposing only relevent data to the user.  Hiding private\n",
    "# attributes and methods from users\n"
   ]
  },
  {
   "cell_type": "code",
   "execution_count": 2,
   "metadata": {},
   "outputs": [],
   "source": [
    "class User:\n",
    "    def __init(self, first):\n",
    "        self.name = first"
   ]
  },
  {
   "cell_type": "code",
   "execution_count": null,
   "metadata": {},
   "outputs": [],
   "source": []
  }
 ],
 "metadata": {
  "kernelspec": {
   "display_name": "Python 3",
   "language": "python",
   "name": "python3"
  },
  "language_info": {
   "codemirror_mode": {
    "name": "ipython",
    "version": 3
   },
   "file_extension": ".py",
   "mimetype": "text/x-python",
   "name": "python",
   "nbconvert_exporter": "python",
   "pygments_lexer": "ipython3",
   "version": "3.7.0"
  }
 },
 "nbformat": 4,
 "nbformat_minor": 2
}
