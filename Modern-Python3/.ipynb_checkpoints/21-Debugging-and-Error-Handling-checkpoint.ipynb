{
 "cells": [
  {
   "cell_type": "markdown",
   "metadata": {},
   "source": [
    "# Types of errors"
   ]
  },
  {
   "cell_type": "markdown",
   "metadata": {},
   "source": [
    "Syntax error, usually due to typos\n",
    "\n",
    "Name error, when a variable is not defined or it hasn't been assigned\n",
    "\n",
    "Type error, when a operation or function is applied to the wrong type\n",
    "\n",
    "Index Error, when you try to access an element in a list outside the range\n",
    "\n",
    "Value error, when an operation or function recieves an argument of the right type but wrong value\n",
    "\n",
    "Key error, when a dictionary doesn't have a specific key\n",
    "\n",
    "Attribute error, when a variable doesn't have an attribute"
   ]
  },
  {
   "cell_type": "markdown",
   "metadata": {},
   "source": [
    "# Raise your own Exceptions"
   ]
  },
  {
   "cell_type": "code",
   "execution_count": 17,
   "metadata": {},
   "outputs": [
    {
     "ename": "ValueError",
     "evalue": "invalid value",
     "output_type": "error",
     "traceback": [
      "\u001b[1;31m---------------------------------------------------------------------------\u001b[0m",
      "\u001b[1;31mValueError\u001b[0m                                Traceback (most recent call last)",
      "\u001b[1;32m<ipython-input-17-9e829cde592c>\u001b[0m in \u001b[0;36m<module>\u001b[1;34m()\u001b[0m\n\u001b[1;32m----> 1\u001b[1;33m \u001b[1;32mraise\u001b[0m \u001b[0mValueError\u001b[0m\u001b[1;33m(\u001b[0m\u001b[1;34m'invalid value'\u001b[0m\u001b[1;33m)\u001b[0m\u001b[1;33m\u001b[0m\u001b[0m\n\u001b[0m",
      "\u001b[1;31mValueError\u001b[0m: invalid value"
     ]
    }
   ],
   "source": [
    "raise ValueError('invalid value')"
   ]
  },
  {
   "cell_type": "markdown",
   "metadata": {},
   "source": [
    "# Try and Except"
   ]
  },
  {
   "cell_type": "code",
   "execution_count": 3,
   "metadata": {},
   "outputs": [
    {
     "name": "stdout",
     "output_type": "stream",
     "text": [
      "Problem\n",
      "after the try\n"
     ]
    }
   ],
   "source": [
    "try:\n",
    "    foobar\n",
    "except:\n",
    "    print('Problem')\n",
    "print('after the try')"
   ]
  },
  {
   "cell_type": "code",
   "execution_count": 9,
   "metadata": {},
   "outputs": [],
   "source": [
    "d = {'name': 'ricky'}"
   ]
  },
  {
   "cell_type": "code",
   "execution_count": 5,
   "metadata": {},
   "outputs": [
    {
     "ename": "KeyError",
     "evalue": "'city'",
     "output_type": "error",
     "traceback": [
      "\u001b[1;31m---------------------------------------------------------------------------\u001b[0m",
      "\u001b[1;31mKeyError\u001b[0m                                  Traceback (most recent call last)",
      "\u001b[1;32m<ipython-input-5-4c4e4f38764e>\u001b[0m in \u001b[0;36m<module>\u001b[1;34m()\u001b[0m\n\u001b[1;32m----> 1\u001b[1;33m \u001b[0md\u001b[0m\u001b[1;33m[\u001b[0m\u001b[1;34m'city'\u001b[0m\u001b[1;33m]\u001b[0m\u001b[1;33m\u001b[0m\u001b[0m\n\u001b[0m",
      "\u001b[1;31mKeyError\u001b[0m: 'city'"
     ]
    }
   ],
   "source": [
    "d['city']"
   ]
  },
  {
   "cell_type": "code",
   "execution_count": 10,
   "metadata": {},
   "outputs": [],
   "source": [
    "def get(d,key):\n",
    "    try:\n",
    "        return d[key]\n",
    "    except KeyError:\n",
    "        return None"
   ]
  },
  {
   "cell_type": "code",
   "execution_count": 11,
   "metadata": {},
   "outputs": [
    {
     "data": {
      "text/plain": [
       "'ricky'"
      ]
     },
     "execution_count": 11,
     "metadata": {},
     "output_type": "execute_result"
    }
   ],
   "source": [
    "get(d,'name')"
   ]
  },
  {
   "cell_type": "code",
   "execution_count": 14,
   "metadata": {},
   "outputs": [],
   "source": [
    "get(d,'city')"
   ]
  },
  {
   "cell_type": "code",
   "execution_count": 1,
   "metadata": {},
   "outputs": [
    {
     "name": "stdout",
     "output_type": "stream",
     "text": [
      "please enter a number: asfd\n",
      "That is not a number\n",
      "Runs no matter what\n",
      "please enter a number: 2\n",
      "Good job, you entered a number\n",
      "Runs no matter what\n",
      "rest of game logic runs\n"
     ]
    }
   ],
   "source": [
    "while True:\n",
    "    try:\n",
    "        num = int(input('please enter a number: '))\n",
    "    except:\n",
    "        print('That is not a number')\n",
    "    else:\n",
    "        print('Good job, you entered a number')\n",
    "        break\n",
    "    finally:\n",
    "        print('Runs no matter what')\n",
    "print('rest of game logic runs')"
   ]
  },
  {
   "cell_type": "code",
   "execution_count": 14,
   "metadata": {},
   "outputs": [],
   "source": [
    "def divide(a,b):\n",
    "    try:\n",
    "        result = a/b\n",
    "    except ZeroDivisionError:\n",
    "        print('Do not divide by zero')\n",
    "    except TypeError:\n",
    "        print('a and be must be ints or floats')\n",
    "    else:\n",
    "        print(f'{a} divided by {b} is {result}')"
   ]
  },
  {
   "cell_type": "code",
   "execution_count": 8,
   "metadata": {},
   "outputs": [
    {
     "name": "stdout",
     "output_type": "stream",
     "text": [
      "Do not divide by zero\n"
     ]
    }
   ],
   "source": [
    "divide(1,0)"
   ]
  },
  {
   "cell_type": "code",
   "execution_count": 12,
   "metadata": {},
   "outputs": [
    {
     "name": "stdout",
     "output_type": "stream",
     "text": [
      "a and be must be ints or floats\n"
     ]
    }
   ],
   "source": [
    "divide(1,'a')"
   ]
  },
  {
   "cell_type": "code",
   "execution_count": 15,
   "metadata": {},
   "outputs": [
    {
     "name": "stdout",
     "output_type": "stream",
     "text": [
      "1 divided by 2 is 0.5\n"
     ]
    }
   ],
   "source": [
    "divide(1,2)"
   ]
  },
  {
   "cell_type": "markdown",
   "metadata": {},
   "source": [
    "# Debugging with pdb"
   ]
  },
  {
   "cell_type": "code",
   "execution_count": 2,
   "metadata": {},
   "outputs": [],
   "source": [
    "# import pdb; pdb.set_trace()\n",
    "\n",
    "# Common PDB Commands:\n",
    "# l (list)\n",
    "# n (next line)\n",
    "# p (print)\n",
    "# c (continue - finishes debugging)"
   ]
  },
  {
   "cell_type": "code",
   "execution_count": 1,
   "metadata": {},
   "outputs": [],
   "source": [
    "import pdb"
   ]
  },
  {
   "cell_type": "code",
   "execution_count": 2,
   "metadata": {},
   "outputs": [
    {
     "name": "stdout",
     "output_type": "stream",
     "text": [
      "--Return--\n",
      "> <ipython-input-2-784dea2643be>(3)<module>()->None\n",
      "-> pdb.set_trace()\n",
      "(Pdb) first\n",
      "'First'\n",
      "(Pdb) second\n",
      "'Second'\n",
      "(Pdb) result\n",
      "*** NameError: name 'result' is not defined\n",
      "(Pdb) n\n",
      "> c:\\users\\tim\\anaconda3\\envs\\datascience\\lib\\site-packages\\ipython\\core\\interactiveshell.py(2964)run_code()\n",
      "-> sys.excepthook = old_excepthook\n",
      "(Pdb) l\n",
      "2959 \t                self.hooks.pre_run_code_hook()\n",
      "2960 \t                #rprint('Running code', repr(code_obj)) # dbg\n",
      "2961 \t                exec(code_obj, self.user_global_ns, self.user_ns)\n",
      "2962 \t            finally:\n",
      "2963 \t                # Reset our crash handler in place\n",
      "2964 ->\t                sys.excepthook = old_excepthook\n",
      "2965 \t        except SystemExit as e:\n",
      "2966 \t            if result is not None:\n",
      "2967 \t                result.error_in_exec = e\n",
      "2968 \t            self.showtraceback(exception_only=True)\n",
      "2969 \t            warn(\"To exit: use 'exit', 'quit', or Ctrl-D.\", stacklevel=1)\n",
      "(Pdb) c\n",
      "FirstSecondThird\n"
     ]
    }
   ],
   "source": [
    "first = 'First'\n",
    "second = 'Second'\n",
    "pdb.set_trace()\n",
    "result = first + second\n",
    "third = 'Third'\n",
    "result += third\n",
    "print (result)"
   ]
  },
  {
   "cell_type": "code",
   "execution_count": 3,
   "metadata": {},
   "outputs": [],
   "source": [
    "# Write a function called divide, which accepts two parameters (you can call them num1 and num2). \n",
    "# The function should return the result of num1 divided by num2. If you do not pass the correct \n",
    "# amount of arguments to the function, it should return the string \"Please provide two integers \n",
    "# or floats\". If you pass as the second argument a 0, Python will raise a ZeroDivisionError, so \n",
    "# if this function is invoked with a 0 as the value of num2, return the string \"Please do not divide by zero\"\n",
    "\n",
    "    # Examples\n",
    "    \n",
    "    # divide(4,2)  2\n",
    "    # divide([],\"1\")  \"Please provide two integers or floats\"\n",
    "    # divide(1,0)  \"Please do not divide by zero\""
   ]
  },
  {
   "cell_type": "code",
   "execution_count": 8,
   "metadata": {},
   "outputs": [],
   "source": [
    "def divide(a,b):\n",
    "    try:\n",
    "        return a/b\n",
    "    except ZeroDivisionError:\n",
    "        return 'Please do not divide by zero'\n",
    "    except TypeError:\n",
    "        return 'Please provide two integers'      \n",
    "    "
   ]
  },
  {
   "cell_type": "code",
   "execution_count": 9,
   "metadata": {},
   "outputs": [
    {
     "data": {
      "text/plain": [
       "'Please do not divide by zero'"
      ]
     },
     "execution_count": 9,
     "metadata": {},
     "output_type": "execute_result"
    }
   ],
   "source": [
    "divide (1,0)"
   ]
  },
  {
   "cell_type": "code",
   "execution_count": 10,
   "metadata": {},
   "outputs": [
    {
     "data": {
      "text/plain": [
       "'Please provide two integers'"
      ]
     },
     "execution_count": 10,
     "metadata": {},
     "output_type": "execute_result"
    }
   ],
   "source": [
    "divide(1,'s')"
   ]
  },
  {
   "cell_type": "code",
   "execution_count": 11,
   "metadata": {},
   "outputs": [
    {
     "data": {
      "text/plain": [
       "0.5"
      ]
     },
     "execution_count": 11,
     "metadata": {},
     "output_type": "execute_result"
    }
   ],
   "source": [
    "divide(1,2)"
   ]
  },
  {
   "cell_type": "code",
   "execution_count": null,
   "metadata": {},
   "outputs": [],
   "source": []
  }
 ],
 "metadata": {
  "kernelspec": {
   "display_name": "Python 3",
   "language": "python",
   "name": "python3"
  },
  "language_info": {
   "codemirror_mode": {
    "name": "ipython",
    "version": 3
   },
   "file_extension": ".py",
   "mimetype": "text/x-python",
   "name": "python",
   "nbconvert_exporter": "python",
   "pygments_lexer": "ipython3",
   "version": "3.7.0"
  }
 },
 "nbformat": 4,
 "nbformat_minor": 2
}
