{
 "cells": [
  {
   "cell_type": "markdown",
   "metadata": {},
   "source": [
    "# Higher Order Functions"
   ]
  },
  {
   "cell_type": "code",
   "execution_count": 1,
   "metadata": {},
   "outputs": [],
   "source": [
    "# Higher Order Functions\n",
    "# We can pass functions as args to other functions"
   ]
  },
  {
   "cell_type": "code",
   "execution_count": 10,
   "metadata": {},
   "outputs": [],
   "source": [
    "def sum(n, func):\n",
    "    total = 0\n",
    "    for num in range(n):\n",
    "        total += func(num)\n",
    "    return total\n",
    "    \n",
    "def square(x):\n",
    "    return x*x\n",
    "\n",
    "def cube(x):\n",
    "    return x*x*x\n"
   ]
  },
  {
   "cell_type": "code",
   "execution_count": 9,
   "metadata": {},
   "outputs": [
    {
     "data": {
      "text/plain": [
       "14"
      ]
     },
     "execution_count": 9,
     "metadata": {},
     "output_type": "execute_result"
    }
   ],
   "source": [
    "sum(4, square)\n",
    "# 0, 1, 4, 9"
   ]
  },
  {
   "cell_type": "code",
   "execution_count": 11,
   "metadata": {},
   "outputs": [
    {
     "data": {
      "text/plain": [
       "36"
      ]
     },
     "execution_count": 11,
     "metadata": {},
     "output_type": "execute_result"
    }
   ],
   "source": [
    "sum(4, cube)\n",
    "# 0, 1, 8, 27"
   ]
  },
  {
   "cell_type": "code",
   "execution_count": 12,
   "metadata": {},
   "outputs": [],
   "source": [
    "# Alt example - we can nest functions "
   ]
  },
  {
   "cell_type": "code",
   "execution_count": 15,
   "metadata": {},
   "outputs": [],
   "source": [
    "from random import choice\n",
    "    \n",
    "def greet(person):\n",
    "    def get_mood():\n",
    "        msg = choice(('Hello there ', 'Go away ', 'I love you '))\n",
    "        return msg\n",
    "    \n",
    "    result = get_mood() + person\n",
    "    return result"
   ]
  },
  {
   "cell_type": "code",
   "execution_count": 16,
   "metadata": {},
   "outputs": [
    {
     "data": {
      "text/plain": [
       "'Hello there Toby'"
      ]
     },
     "execution_count": 16,
     "metadata": {},
     "output_type": "execute_result"
    }
   ],
   "source": [
    "greet('Toby')"
   ]
  },
  {
   "cell_type": "code",
   "execution_count": 17,
   "metadata": {},
   "outputs": [],
   "source": [
    "# Alt example - we can return functions from other functions"
   ]
  },
  {
   "cell_type": "code",
   "execution_count": 18,
   "metadata": {},
   "outputs": [],
   "source": [
    "def make_laugh_func():\n",
    "    def get_laugh():\n",
    "        l = choice(('Hahah', 'lol', 'jajaja'))\n",
    "        return l\n",
    "    \n",
    "    return get_laugh"
   ]
  },
  {
   "cell_type": "code",
   "execution_count": 19,
   "metadata": {},
   "outputs": [],
   "source": [
    "laugh = make_laugh_func()"
   ]
  },
  {
   "cell_type": "code",
   "execution_count": 20,
   "metadata": {},
   "outputs": [
    {
     "data": {
      "text/plain": [
       "'lol'"
      ]
     },
     "execution_count": 20,
     "metadata": {},
     "output_type": "execute_result"
    }
   ],
   "source": [
    "laugh()"
   ]
  },
  {
   "cell_type": "code",
   "execution_count": 21,
   "metadata": {},
   "outputs": [
    {
     "data": {
      "text/plain": [
       "<function __main__.make_laugh_func.<locals>.get_laugh()>"
      ]
     },
     "execution_count": 21,
     "metadata": {},
     "output_type": "execute_result"
    }
   ],
   "source": [
    "laugh"
   ]
  },
  {
   "cell_type": "code",
   "execution_count": 22,
   "metadata": {},
   "outputs": [],
   "source": [
    "# Alt example - Inner functions can access outer function scope"
   ]
  },
  {
   "cell_type": "code",
   "execution_count": 34,
   "metadata": {},
   "outputs": [],
   "source": [
    "def make_laugh_at_func(person):\n",
    "    def get_laugh():\n",
    "        laugh = choice(('Hahah', 'lol', 'jajaja'))\n",
    "        return f'{laugh} {person}'\n",
    "    \n",
    "    return get_laugh"
   ]
  },
  {
   "cell_type": "code",
   "execution_count": 35,
   "metadata": {},
   "outputs": [],
   "source": [
    "laugh_at = make_laugh_at_func('Sam')"
   ]
  },
  {
   "cell_type": "code",
   "execution_count": 36,
   "metadata": {},
   "outputs": [
    {
     "data": {
      "text/plain": [
       "'jajaja Sam'"
      ]
     },
     "execution_count": 36,
     "metadata": {},
     "output_type": "execute_result"
    }
   ],
   "source": [
    "laugh_at()"
   ]
  },
  {
   "cell_type": "markdown",
   "metadata": {},
   "source": [
    "# Decorators"
   ]
  },
  {
   "cell_type": "code",
   "execution_count": 39,
   "metadata": {},
   "outputs": [],
   "source": [
    "# Decorators are functions.  Wrap other functions and enchance their behavior\n",
    "# They are examples of higher order functions\n",
    "# Have their own syntax using \"@\""
   ]
  },
  {
   "cell_type": "code",
   "execution_count": 58,
   "metadata": {},
   "outputs": [],
   "source": [
    "# Example without using Decorator syntax\n",
    "def be_polite(fn):\n",
    "    def wrapper():\n",
    "        print('What a pleasure to meet you')\n",
    "        fn()\n",
    "        print('Have a great day')\n",
    "    return wrapper\n",
    "\n",
    "def greet():\n",
    "    print('My name is Colt')\n",
    "    \n",
    "def rage():\n",
    "    print('I hate you')"
   ]
  },
  {
   "cell_type": "code",
   "execution_count": 59,
   "metadata": {},
   "outputs": [],
   "source": [
    "# note how you have to call the parent function\n",
    "greeting = be_polite(greet)"
   ]
  },
  {
   "cell_type": "code",
   "execution_count": 60,
   "metadata": {},
   "outputs": [
    {
     "name": "stdout",
     "output_type": "stream",
     "text": [
      "What a pleasure to meet you\n",
      "My name is Colt\n",
      "Have a great day\n"
     ]
    }
   ],
   "source": [
    "greeting()"
   ]
  },
  {
   "cell_type": "code",
   "execution_count": 61,
   "metadata": {},
   "outputs": [],
   "source": [
    "polite_rage = be_polite(rage)"
   ]
  },
  {
   "cell_type": "code",
   "execution_count": 62,
   "metadata": {},
   "outputs": [
    {
     "name": "stdout",
     "output_type": "stream",
     "text": [
      "What a pleasure to meet you\n",
      "I hate you\n",
      "Have a great day\n"
     ]
    }
   ],
   "source": [
    "polite_rage()"
   ]
  },
  {
   "cell_type": "code",
   "execution_count": 63,
   "metadata": {},
   "outputs": [],
   "source": [
    "# Decorator Syntax"
   ]
  },
  {
   "cell_type": "code",
   "execution_count": 64,
   "metadata": {},
   "outputs": [],
   "source": [
    "def be_polite(fn):\n",
    "    def wrapper():\n",
    "        print('What a pleasure to meet you')\n",
    "        fn()\n",
    "        print('Have a great day')\n",
    "    return wrapper\n",
    "\n",
    "@be_polite\n",
    "def greet():\n",
    "    print('My name is Colt')"
   ]
  },
  {
   "cell_type": "code",
   "execution_count": 65,
   "metadata": {},
   "outputs": [
    {
     "name": "stdout",
     "output_type": "stream",
     "text": [
      "What a pleasure to meet you\n",
      "My name is Colt\n",
      "Have a great day\n"
     ]
    }
   ],
   "source": [
    "greet()"
   ]
  },
  {
   "cell_type": "code",
   "execution_count": 66,
   "metadata": {},
   "outputs": [],
   "source": [
    "# Functions w/ different signatures"
   ]
  },
  {
   "cell_type": "code",
   "execution_count": 71,
   "metadata": {},
   "outputs": [],
   "source": [
    "def shout(fn):\n",
    "    def wrapper(name):\n",
    "        return fn(name).upper()\n",
    "    return wrapper\n",
    "\n",
    "@shout\n",
    "def greet(their_name):\n",
    "    return f'Hi, I am {their_name}'\n",
    "\n",
    "@shout \n",
    "def order(main, side):\n",
    "    return f'Hi, I would like {main}, w/ a side of {side}'"
   ]
  },
  {
   "cell_type": "code",
   "execution_count": 72,
   "metadata": {},
   "outputs": [
    {
     "data": {
      "text/plain": [
       "'HI, I AM TODD'"
      ]
     },
     "execution_count": 72,
     "metadata": {},
     "output_type": "execute_result"
    }
   ],
   "source": [
    "greet('todd')"
   ]
  },
  {
   "cell_type": "code",
   "execution_count": 70,
   "metadata": {},
   "outputs": [
    {
     "ename": "TypeError",
     "evalue": "wrapper() takes 1 positional argument but 2 were given",
     "output_type": "error",
     "traceback": [
      "\u001b[1;31m---------------------------------------------------------------------------\u001b[0m",
      "\u001b[1;31mTypeError\u001b[0m                                 Traceback (most recent call last)",
      "\u001b[1;32m<ipython-input-70-bee57082fd48>\u001b[0m in \u001b[0;36m<module>\u001b[1;34m()\u001b[0m\n\u001b[1;32m----> 1\u001b[1;33m \u001b[0morder\u001b[0m\u001b[1;33m(\u001b[0m\u001b[1;34m'burger'\u001b[0m\u001b[1;33m,\u001b[0m \u001b[1;34m'fries'\u001b[0m\u001b[1;33m)\u001b[0m\u001b[1;33m\u001b[0m\u001b[0m\n\u001b[0m",
      "\u001b[1;31mTypeError\u001b[0m: wrapper() takes 1 positional argument but 2 were given"
     ]
    }
   ],
   "source": [
    "# creates error because wrapper expects one argument and order provides 2\n",
    "order('burger', 'fries')"
   ]
  },
  {
   "cell_type": "code",
   "execution_count": 74,
   "metadata": {},
   "outputs": [],
   "source": [
    "# to fix the above error use *args and **kwargs"
   ]
  },
  {
   "cell_type": "code",
   "execution_count": 75,
   "metadata": {},
   "outputs": [],
   "source": [
    "#Decorator pattern\n",
    "def my_decorator(fn):\n",
    "    def wrapper(*args, **kwargs):\n",
    "        # do some stuff with fn(*args, **kwargs)\n",
    "        pass\n",
    "    return wrapper"
   ]
  },
  {
   "cell_type": "code",
   "execution_count": 76,
   "metadata": {},
   "outputs": [],
   "source": [
    "def shout(fn):\n",
    "    def wrapper(*args, **kwargs):\n",
    "        return fn(*args, **kwargs).upper()\n",
    "    return wrapper\n",
    "\n",
    "@shout\n",
    "def greet(their_name):\n",
    "    return f'Hi, I am {their_name}'\n",
    "\n",
    "@shout \n",
    "def order(main, side):\n",
    "    return f'Hi, I would like {main}, w/ a side of {side}'\n",
    "\n"
   ]
  },
  {
   "cell_type": "code",
   "execution_count": 78,
   "metadata": {},
   "outputs": [
    {
     "data": {
      "text/plain": [
       "'HI, I WOULD LIKE BURGER, W/ A SIDE OF FRIES'"
      ]
     },
     "execution_count": 78,
     "metadata": {},
     "output_type": "execute_result"
    }
   ],
   "source": [
    "# Now it works \n",
    "order('burger', 'fries')"
   ]
  },
  {
   "cell_type": "code",
   "execution_count": 79,
   "metadata": {},
   "outputs": [
    {
     "data": {
      "text/plain": [
       "'HI, I WOULD LIKE BURGER, W/ A SIDE OF FRIES'"
      ]
     },
     "execution_count": 79,
     "metadata": {},
     "output_type": "execute_result"
    }
   ],
   "source": [
    "order(main = 'burger', side = 'fries')"
   ]
  },
  {
   "cell_type": "markdown",
   "metadata": {},
   "source": [
    "# Using Wraps to preserve Metadata"
   ]
  },
  {
   "cell_type": "code",
   "execution_count": 17,
   "metadata": {},
   "outputs": [],
   "source": [
    "# problem because it doesn't preserve metadata\n",
    "def log_function_data(fn):\n",
    "    def wrapper(*args, **kwargs):\n",
    "        \"\"\"I am a wrapper function\"\"\"\n",
    "        print(f'You are about to call {fn.__name__}')\n",
    "        print(f'Here is the documentation: {fn.__doc__}')\n",
    "        return fn(*args, **kwargs)\n",
    "    return wrapper\n",
    "\n",
    "@log_function_data\n",
    "def add (x, y):\n",
    "    \"\"\"Adds two numbers together\"\"\"\n",
    "    return x + y"
   ]
  },
  {
   "cell_type": "code",
   "execution_count": 18,
   "metadata": {},
   "outputs": [
    {
     "name": "stdout",
     "output_type": "stream",
     "text": [
      "You are about to call add\n",
      "Here is the documentation: Adds two numbers together\n"
     ]
    },
    {
     "data": {
      "text/plain": [
       "40"
      ]
     },
     "execution_count": 18,
     "metadata": {},
     "output_type": "execute_result"
    }
   ],
   "source": [
    "add(10,30)"
   ]
  },
  {
   "cell_type": "code",
   "execution_count": 19,
   "metadata": {},
   "outputs": [
    {
     "name": "stdout",
     "output_type": "stream",
     "text": [
      "I am a wrapper function\n"
     ]
    }
   ],
   "source": [
    "# right now it is giving you the documentation for the wrapper function, not add\n",
    "print(add.__doc__)"
   ]
  },
  {
   "cell_type": "code",
   "execution_count": 20,
   "metadata": {},
   "outputs": [
    {
     "name": "stdout",
     "output_type": "stream",
     "text": [
      "Help on function wrapper in module __main__:\n",
      "\n",
      "wrapper(*args, **kwargs)\n",
      "    I am a wrapper function\n",
      "\n"
     ]
    }
   ],
   "source": [
    "help(add)"
   ]
  },
  {
   "cell_type": "code",
   "execution_count": 11,
   "metadata": {},
   "outputs": [],
   "source": [
    "# Decorator Pattern"
   ]
  },
  {
   "cell_type": "code",
   "execution_count": 21,
   "metadata": {},
   "outputs": [],
   "source": [
    "# Decorator Pattern\n",
    "from functools import wraps\n",
    "# wraps preserves a function's metadata\n",
    "# when it is decorated\n",
    "\n",
    "def my_decorator(fn):\n",
    "    @wraps(fn)\n",
    "    def wrapper(*args, **kwargs):\n",
    "        #do some stuff with fn(*args, **kwargs)\n",
    "        pass\n",
    "    return wrapper"
   ]
  },
  {
   "cell_type": "code",
   "execution_count": 22,
   "metadata": {},
   "outputs": [],
   "source": [
    "# revised code\n",
    "\n",
    "from functools import wraps\n",
    "\n",
    "def log_function_data(fn):\n",
    "    @wraps(fn)\n",
    "    def wrapper(*args, **kwargs):\n",
    "        \"\"\"I am a wrapper function\"\"\"\n",
    "        print(f'You are about to call {fn.__name__}')\n",
    "        print(f'Here is the documentation: {fn.__doc__}')\n",
    "        return fn(*args, **kwargs)\n",
    "    return wrapper\n",
    "\n",
    "@log_function_data\n",
    "def add (x, y):\n",
    "    \"\"\"Adds two numbers together\"\"\"\n",
    "    return x + y"
   ]
  },
  {
   "cell_type": "code",
   "execution_count": 23,
   "metadata": {},
   "outputs": [
    {
     "name": "stdout",
     "output_type": "stream",
     "text": [
      "Adds two numbers together\n"
     ]
    }
   ],
   "source": [
    "print(add.__doc__)"
   ]
  },
  {
   "cell_type": "code",
   "execution_count": 24,
   "metadata": {},
   "outputs": [
    {
     "name": "stdout",
     "output_type": "stream",
     "text": [
      "Help on function add in module __main__:\n",
      "\n",
      "add(x, y)\n",
      "    Adds two numbers together\n",
      "\n"
     ]
    }
   ],
   "source": [
    "help(add)"
   ]
  },
  {
   "cell_type": "markdown",
   "metadata": {},
   "source": [
    "# Decorator Examples and Exercises"
   ]
  },
  {
   "cell_type": "code",
   "execution_count": null,
   "metadata": {},
   "outputs": [],
   "source": [
    "# speed test example of a decorator"
   ]
  },
  {
   "cell_type": "code",
   "execution_count": 43,
   "metadata": {},
   "outputs": [],
   "source": [
    "from functools import wraps\n",
    "from time import time\n",
    "\n",
    "def speed_test(fn):\n",
    "    @wraps(fn)\n",
    "    def wrapper(*args, **kwargs):\n",
    "        start_time = time()\n",
    "        result = fn(*args, **kwargs)\n",
    "        end_time = time()\n",
    "        print(f'Time Elapsed: {end_time - start_time}')\n",
    "        return result\n",
    "    return wrapper \n",
    "\n",
    "@speed_test\n",
    "def sum_nums_gen():\n",
    "    return sum(x for x in range(5000000))\n",
    "\n",
    "@speed_test\n",
    "def sum_nums_list():\n",
    "    return sum([x for x in range(5000000)])"
   ]
  },
  {
   "cell_type": "code",
   "execution_count": 44,
   "metadata": {},
   "outputs": [
    {
     "name": "stdout",
     "output_type": "stream",
     "text": [
      "Time Elapsed: 0.8233931064605713\n"
     ]
    },
    {
     "data": {
      "text/plain": [
       "12499997500000"
      ]
     },
     "execution_count": 44,
     "metadata": {},
     "output_type": "execute_result"
    }
   ],
   "source": [
    "sum_nums_gen()"
   ]
  },
  {
   "cell_type": "code",
   "execution_count": 45,
   "metadata": {},
   "outputs": [
    {
     "name": "stdout",
     "output_type": "stream",
     "text": [
      "Time Elapsed: 1.0554530620574951\n"
     ]
    },
    {
     "data": {
      "text/plain": [
       "12499997500000"
      ]
     },
     "execution_count": 45,
     "metadata": {},
     "output_type": "execute_result"
    }
   ],
   "source": [
    "sum_nums_list()"
   ]
  },
  {
   "cell_type": "code",
   "execution_count": 46,
   "metadata": {},
   "outputs": [],
   "source": [
    "# write a function called show_args which accepts a function and returns a\n",
    "# function.  Before invoking the function passed to it, show_args should\n",
    "# print a tuple of the positional arguments and a dictionary of the\n",
    "# keyword argmunets"
   ]
  },
  {
   "cell_type": "code",
   "execution_count": 203,
   "metadata": {},
   "outputs": [],
   "source": [
    "from functools import wraps\n",
    "\n",
    "def show_args(fn):\n",
    "    @wraps(fn)\n",
    "    def my_wrapper(*args, **kwargs):\n",
    "        print('Here are the args: {}'.format(args))\n",
    "        print('Here are the kwargs: {}'.format(kwargs))\n",
    "        return fn(*args, **kwargs) \n",
    "    return my_wrapper\n",
    "\n",
    "@show_args\n",
    "def adder(num1, num2):\n",
    "        total =  num1 + num2\n",
    "        return total\n",
    "    \n",
    "@show_args\n",
    "def dictexample(**kwargs):\n",
    "    total = (kwargs.values())\n",
    "    return total\n",
    "\n",
    "@show_args\n",
    "def combine_words(string, **kwargs):\n",
    "    new_word = string\n",
    "    if 'suffix' in kwargs.keys():\n",
    "        new_word = new_word + kwargs['suffix']\n",
    "    if 'prefix' in kwargs.keys():\n",
    "        new_word = kwargs['prefix'] + new_word \n",
    "    return new_word"
   ]
  },
  {
   "cell_type": "code",
   "execution_count": 197,
   "metadata": {},
   "outputs": [
    {
     "name": "stdout",
     "output_type": "stream",
     "text": [
      "Here are the args: (2, 3)\n",
      "Here are the kwargs: {}\n"
     ]
    },
    {
     "data": {
      "text/plain": [
       "5"
      ]
     },
     "execution_count": 197,
     "metadata": {},
     "output_type": "execute_result"
    }
   ],
   "source": [
    "adder(2,3)"
   ]
  },
  {
   "cell_type": "code",
   "execution_count": 198,
   "metadata": {},
   "outputs": [
    {
     "name": "stdout",
     "output_type": "stream",
     "text": [
      "Here are the args: ()\n",
      "Here are the kwargs: {'bird': 'eagle', 'animal': ['bear', 'lion']}\n"
     ]
    },
    {
     "data": {
      "text/plain": [
       "dict_values(['eagle', ['bear', 'lion']])"
      ]
     },
     "execution_count": 198,
     "metadata": {},
     "output_type": "execute_result"
    }
   ],
   "source": [
    "dictexample(bird = 'eagle', animal = ['bear', 'lion'])"
   ]
  },
  {
   "cell_type": "code",
   "execution_count": 205,
   "metadata": {},
   "outputs": [
    {
     "name": "stdout",
     "output_type": "stream",
     "text": [
      "Here are the args: ('human',)\n",
      "Here are the kwargs: {'prefix': 'sub', 'suffix': 'ly'}\n"
     ]
    },
    {
     "data": {
      "text/plain": [
       "'subhumanly'"
      ]
     },
     "execution_count": 205,
     "metadata": {},
     "output_type": "execute_result"
    }
   ],
   "source": [
    "combine_words('human', prefix='sub', suffix = 'ly')"
   ]
  },
  {
   "cell_type": "code",
   "execution_count": null,
   "metadata": {},
   "outputs": [],
   "source": [
    "# Ensuring Args with a decorator and no Kwargs"
   ]
  },
  {
   "cell_type": "code",
   "execution_count": 206,
   "metadata": {},
   "outputs": [],
   "source": [
    "from functools import wraps\n",
    "\n",
    "def ensure_no_kwargs(fn):\n",
    "    @wraps(fn)\n",
    "    def wrapper(*args, **kwargs):\n",
    "        if kwargs:\n",
    "            raise ValueError('No kwargs allowed')\n",
    "        else:\n",
    "            return fn(*args, **kwargs)\n",
    "    return wrapper\n",
    "    \n",
    "@ensure_no_kwargs\n",
    "def greet(name):\n",
    "    print(f'hi there {name}')"
   ]
  },
  {
   "cell_type": "code",
   "execution_count": 207,
   "metadata": {},
   "outputs": [
    {
     "name": "stdout",
     "output_type": "stream",
     "text": [
      "hi there Tony\n"
     ]
    }
   ],
   "source": [
    "greet('Tony')"
   ]
  },
  {
   "cell_type": "code",
   "execution_count": 208,
   "metadata": {},
   "outputs": [
    {
     "ename": "ValueError",
     "evalue": "No kwargs allowed",
     "output_type": "error",
     "traceback": [
      "\u001b[1;31m---------------------------------------------------------------------------\u001b[0m",
      "\u001b[1;31mValueError\u001b[0m                                Traceback (most recent call last)",
      "\u001b[1;32m<ipython-input-208-91d0a3a40a8a>\u001b[0m in \u001b[0;36m<module>\u001b[1;34m()\u001b[0m\n\u001b[1;32m----> 1\u001b[1;33m \u001b[0mgreet\u001b[0m\u001b[1;33m(\u001b[0m\u001b[0mbird\u001b[0m \u001b[1;33m=\u001b[0m \u001b[1;34m'eagle'\u001b[0m\u001b[1;33m)\u001b[0m\u001b[1;33m\u001b[0m\u001b[0m\n\u001b[0m",
      "\u001b[1;32m<ipython-input-206-1622ad610be7>\u001b[0m in \u001b[0;36mwrapper\u001b[1;34m(*args, **kwargs)\u001b[0m\n\u001b[0;32m      5\u001b[0m     \u001b[1;32mdef\u001b[0m \u001b[0mwrapper\u001b[0m\u001b[1;33m(\u001b[0m\u001b[1;33m*\u001b[0m\u001b[0margs\u001b[0m\u001b[1;33m,\u001b[0m \u001b[1;33m**\u001b[0m\u001b[0mkwargs\u001b[0m\u001b[1;33m)\u001b[0m\u001b[1;33m:\u001b[0m\u001b[1;33m\u001b[0m\u001b[0m\n\u001b[0;32m      6\u001b[0m         \u001b[1;32mif\u001b[0m \u001b[0mkwargs\u001b[0m\u001b[1;33m:\u001b[0m\u001b[1;33m\u001b[0m\u001b[0m\n\u001b[1;32m----> 7\u001b[1;33m             \u001b[1;32mraise\u001b[0m \u001b[0mValueError\u001b[0m\u001b[1;33m(\u001b[0m\u001b[1;34m'No kwargs allowed'\u001b[0m\u001b[1;33m)\u001b[0m\u001b[1;33m\u001b[0m\u001b[0m\n\u001b[0m\u001b[0;32m      8\u001b[0m         \u001b[1;32melse\u001b[0m\u001b[1;33m:\u001b[0m\u001b[1;33m\u001b[0m\u001b[0m\n\u001b[0;32m      9\u001b[0m             \u001b[1;32mreturn\u001b[0m \u001b[0mfn\u001b[0m\u001b[1;33m(\u001b[0m\u001b[1;33m*\u001b[0m\u001b[0margs\u001b[0m\u001b[1;33m,\u001b[0m \u001b[1;33m**\u001b[0m\u001b[0mkwargs\u001b[0m\u001b[1;33m)\u001b[0m\u001b[1;33m\u001b[0m\u001b[0m\n",
      "\u001b[1;31mValueError\u001b[0m: No kwargs allowed"
     ]
    }
   ],
   "source": [
    "greet(bird = 'eagle')"
   ]
  },
  {
   "cell_type": "code",
   "execution_count": 209,
   "metadata": {},
   "outputs": [],
   "source": [
    "# function called double_return, accepts a function and returns another.  \n",
    "# It decorate a function by returning 2 copies of the inner functions return\n",
    "# value inside a list"
   ]
  },
  {
   "cell_type": "code",
   "execution_count": 229,
   "metadata": {},
   "outputs": [],
   "source": [
    "from functools import wraps\n",
    "\n",
    "def double_return(fn):\n",
    "    @wraps(fn)\n",
    "    def my_wrapper(*args, **kwargs):\n",
    "        my_list = []\n",
    "        my_list.append(fn(*args, **kwargs))\n",
    "        my_list.append(fn(*args, **kwargs))\n",
    "        return my_list\n",
    "    return my_wrapper\n",
    "\n",
    "@double_return\n",
    "def adder(num1, num2):\n",
    "        total =  num1 + num2\n",
    "        return total\n",
    "\n",
    "@double_return\n",
    "def combine_words(string, **kwargs):\n",
    "    new_word = string\n",
    "    if 'suffix' in kwargs.keys():\n",
    "        new_word = new_word + kwargs['suffix']\n",
    "    if 'prefix' in kwargs.keys():\n",
    "        new_word = kwargs['prefix'] + new_word \n",
    "    return new_word"
   ]
  },
  {
   "cell_type": "code",
   "execution_count": 230,
   "metadata": {},
   "outputs": [
    {
     "data": {
      "text/plain": [
       "[8, 8]"
      ]
     },
     "execution_count": 230,
     "metadata": {},
     "output_type": "execute_result"
    }
   ],
   "source": [
    "adder(3, 5)"
   ]
  },
  {
   "cell_type": "code",
   "execution_count": 231,
   "metadata": {},
   "outputs": [
    {
     "data": {
      "text/plain": [
       "['subhumanly', 'subhumanly']"
      ]
     },
     "execution_count": 231,
     "metadata": {},
     "output_type": "execute_result"
    }
   ],
   "source": [
    "combine_words('human', prefix='sub', suffix = 'ly')"
   ]
  },
  {
   "cell_type": "code",
   "execution_count": 232,
   "metadata": {},
   "outputs": [],
   "source": [
    "# write a function ensure_fewer_than_three_args that accepts a function and\n",
    "# returns another function.  Only invoke the passed function if there \n",
    "# are fewer then 3 arguments passed to it.  Otherwise return \n",
    "#'Too many arguments'"
   ]
  },
  {
   "cell_type": "code",
   "execution_count": 214,
   "metadata": {},
   "outputs": [],
   "source": [
    "from functools import wraps\n",
    "\n",
    "def ensure_fewer_than_three_args(fn):\n",
    "    @wraps(fn)\n",
    "    def my_wrapper(*args, **kwargs):\n",
    "        if len(args) >= 3:\n",
    "            return ('Too many arguments!')\n",
    "        if len(kwargs) >= 3:\n",
    "            return ('Too many arguments!')\n",
    "        return fn(*args, **kwargs)\n",
    "    return my_wrapper\n",
    "\n",
    "@ensure_fewer_than_three_args\n",
    "def adder(*args):\n",
    "        total =  0\n",
    "        for num in args:\n",
    "            total += num\n",
    "        return total\n",
    "\n",
    "@ensure_fewer_than_three_args\n",
    "def kadd(**kwargs):\n",
    "    total = 0\n",
    "    for num in kwargs['population']:\n",
    "        total += num\n",
    "    return total"
   ]
  },
  {
   "cell_type": "code",
   "execution_count": 215,
   "metadata": {},
   "outputs": [
    {
     "data": {
      "text/plain": [
       "'Too many arguments!'"
      ]
     },
     "execution_count": 215,
     "metadata": {},
     "output_type": "execute_result"
    }
   ],
   "source": [
    "adder(1,2,3)"
   ]
  },
  {
   "cell_type": "code",
   "execution_count": 216,
   "metadata": {},
   "outputs": [
    {
     "data": {
      "text/plain": [
       "3"
      ]
     },
     "execution_count": 216,
     "metadata": {},
     "output_type": "execute_result"
    }
   ],
   "source": [
    "adder(*[1,2])"
   ]
  },
  {
   "cell_type": "code",
   "execution_count": 217,
   "metadata": {},
   "outputs": [
    {
     "data": {
      "text/plain": [
       "'Too many arguments!'"
      ]
     },
     "execution_count": 217,
     "metadata": {},
     "output_type": "execute_result"
    }
   ],
   "source": [
    "kadd(population = [25, 50], town = 'Little Rock', animal = 'Lion')"
   ]
  },
  {
   "cell_type": "code",
   "execution_count": 221,
   "metadata": {},
   "outputs": [
    {
     "data": {
      "text/plain": [
       "75"
      ]
     },
     "execution_count": 221,
     "metadata": {},
     "output_type": "execute_result"
    }
   ],
   "source": [
    "kadd(population = [25, 50], town = 'Little Rock')"
   ]
  },
  {
   "cell_type": "code",
   "execution_count": 39,
   "metadata": {},
   "outputs": [],
   "source": [
    "# only_ints accepts a function and returns another function.  The function passed\n",
    "# should only be invoked if all the arguments passed to it are integers.\n",
    "# Otherwise return 'Please only invoke with integers'"
   ]
  },
  {
   "cell_type": "code",
   "execution_count": 240,
   "metadata": {},
   "outputs": [],
   "source": [
    "from functools import wraps\n",
    "\n",
    "def only_ints(fn):\n",
    "    @wraps(fn)\n",
    "    def my_wrapper(*args, **kwargs):\n",
    "        is_int = True\n",
    "        for item in args:\n",
    "            if type(item) is int:\n",
    "                pass\n",
    "            else:\n",
    "                is_int = False\n",
    "        if is_int == False:\n",
    "            return 'Please only invoke with integers.'\n",
    "        else:\n",
    "            return fn(*args, **kwargs)\n",
    "    return my_wrapper\n",
    "\n",
    "@only_ints\n",
    "def adder(*args):\n",
    "        total =  0\n",
    "        for num in args:\n",
    "            total += num\n",
    "        return total"
   ]
  },
  {
   "cell_type": "code",
   "execution_count": 241,
   "metadata": {},
   "outputs": [
    {
     "data": {
      "text/plain": [
       "3"
      ]
     },
     "execution_count": 241,
     "metadata": {},
     "output_type": "execute_result"
    }
   ],
   "source": [
    "adder(1,2)"
   ]
  },
  {
   "cell_type": "code",
   "execution_count": 243,
   "metadata": {},
   "outputs": [
    {
     "data": {
      "text/plain": [
       "'Please only invoke with integers.'"
      ]
     },
     "execution_count": 243,
     "metadata": {},
     "output_type": "execute_result"
    }
   ],
   "source": [
    "adder(1,2, 'hello')"
   ]
  },
  {
   "cell_type": "code",
   "execution_count": 244,
   "metadata": {},
   "outputs": [],
   "source": [
    "# enusre_authorized accepts a function and returns another function. The function\n",
    "# passed should only be invoked if there exists a keyword argmuent \"role\" and \n",
    "# a value of \"admin\""
   ]
  },
  {
   "cell_type": "code",
   "execution_count": 254,
   "metadata": {},
   "outputs": [],
   "source": [
    "from functools import wraps\n",
    "\n",
    "def ensure_authorized(fn):\n",
    "    @wraps(fn)\n",
    "    def my_wrapper(*args, **kwargs):\n",
    "        if ('role' in kwargs) and ('admin' in kwargs.values()):\n",
    "            return fn(*args, **kwargs)\n",
    "        else:\n",
    "            return 'Unauthorized'\n",
    "    return my_wrapper\n",
    "\n",
    "@ensure_authorized\n",
    "def user(*args, **kwargs):\n",
    "    return \"Shh! Don't tell anybody!\""
   ]
  },
  {
   "cell_type": "code",
   "execution_count": 256,
   "metadata": {},
   "outputs": [
    {
     "data": {
      "text/plain": [
       "\"Shh! Don't tell anybody!\""
      ]
     },
     "execution_count": 256,
     "metadata": {},
     "output_type": "execute_result"
    }
   ],
   "source": [
    "user(role = 'admin', salary = '1000')"
   ]
  },
  {
   "cell_type": "code",
   "execution_count": 257,
   "metadata": {},
   "outputs": [
    {
     "data": {
      "text/plain": [
       "'Unauthorized'"
      ]
     },
     "execution_count": 257,
     "metadata": {},
     "output_type": "execute_result"
    }
   ],
   "source": [
    "user(role = 'teacher', salary = '1000')"
   ]
  },
  {
   "cell_type": "markdown",
   "metadata": {},
   "source": [
    "# Ensure the first arg is a decorator"
   ]
  },
  {
   "cell_type": "code",
   "execution_count": null,
   "metadata": {},
   "outputs": [],
   "source": [
    "# when we write:\n",
    "@decorator\n",
    "def fun(*args, **kwargs):\n",
    "    pass\n",
    "# We're really doing:\n",
    "func = decorator(func)\n",
    "\n",
    "# When we write\n",
    "@decorator_with_args(arg)\n",
    "def func(*args, **kwargs):\n",
    "    pass\n",
    "#We're really doing:\n",
    "func = decorator_with_args(arg)(func)"
   ]
  },
  {
   "cell_type": "code",
   "execution_count": 259,
   "metadata": {},
   "outputs": [],
   "source": [
    "from functools import wraps\n",
    "\n",
    "def ensure_first_arg_is(val):\n",
    "    def inner(fn):\n",
    "        @wraps(fn)\n",
    "        def wrapper(*args, **kwargs):\n",
    "            if args and args[0] != val:\n",
    "                return f'First arg needs to be {val}'\n",
    "            return fn(*args, **kwargs)\n",
    "        return wrapper\n",
    "    return inner\n",
    "            \n",
    "\n",
    "\n",
    "@ensure_first_arg_is('burrito')\n",
    "def fav_foods(*foods):\n",
    "    print(foods)\n",
    "    "
   ]
  },
  {
   "cell_type": "code",
   "execution_count": 261,
   "metadata": {},
   "outputs": [
    {
     "name": "stdout",
     "output_type": "stream",
     "text": [
      "('burrito', 'ice cream')\n",
      "None\n"
     ]
    }
   ],
   "source": [
    "print(fav_foods('burrito', 'ice cream'))\n"
   ]
  },
  {
   "cell_type": "code",
   "execution_count": 262,
   "metadata": {},
   "outputs": [
    {
     "name": "stdout",
     "output_type": "stream",
     "text": [
      "First arg needs to be burrito\n"
     ]
    }
   ],
   "source": [
    "print(fav_foods('ice cream', 'burrito'))"
   ]
  },
  {
   "cell_type": "code",
   "execution_count": null,
   "metadata": {},
   "outputs": [],
   "source": []
  },
  {
   "cell_type": "code",
   "execution_count": 290,
   "metadata": {},
   "outputs": [],
   "source": [
    "# tries to convert strings to numbers\n",
    "def enforce(*types):\n",
    "    def decorator(f):\n",
    "        @wraps(f)\n",
    "        def new_func(*args, **kwargs):\n",
    "            #convert args into something mutable\n",
    "            newargs = []\n",
    "            for (a, t) in zip(args, types):\n",
    "                newargs.append( t(a))\n",
    "            return f(*newargs, **kwargs)\n",
    "        return new_func\n",
    "    return decorator\n",
    "\n",
    "@enforce(str, int)\n",
    "def repeat_msg(msg, times):\n",
    "    for time in range(times):\n",
    "        print(msg)\n",
    "        \n",
    "@enforce(float, float)\n",
    "def divide(a, b):\n",
    "    print (a/b)"
   ]
  },
  {
   "cell_type": "code",
   "execution_count": 291,
   "metadata": {},
   "outputs": [
    {
     "name": "stdout",
     "output_type": "stream",
     "text": [
      "hello\n",
      "hello\n",
      "hello\n"
     ]
    }
   ],
   "source": [
    "repeat_msg('hello', 3)"
   ]
  },
  {
   "cell_type": "code",
   "execution_count": 292,
   "metadata": {},
   "outputs": [
    {
     "ename": "ValueError",
     "evalue": "invalid literal for int() with base 10: 'smalls'",
     "output_type": "error",
     "traceback": [
      "\u001b[1;31m---------------------------------------------------------------------------\u001b[0m",
      "\u001b[1;31mValueError\u001b[0m                                Traceback (most recent call last)",
      "\u001b[1;32m<ipython-input-292-67b9586db21d>\u001b[0m in \u001b[0;36m<module>\u001b[1;34m()\u001b[0m\n\u001b[1;32m----> 1\u001b[1;33m \u001b[0mrepeat_msg\u001b[0m\u001b[1;33m(\u001b[0m\u001b[1;34m'jack'\u001b[0m\u001b[1;33m,\u001b[0m \u001b[1;34m'smalls'\u001b[0m\u001b[1;33m)\u001b[0m\u001b[1;33m\u001b[0m\u001b[0m\n\u001b[0m",
      "\u001b[1;32m<ipython-input-290-1acc0fe7437f>\u001b[0m in \u001b[0;36mnew_func\u001b[1;34m(*args, **kwargs)\u001b[0m\n\u001b[0;32m      7\u001b[0m             \u001b[0mnewargs\u001b[0m \u001b[1;33m=\u001b[0m \u001b[1;33m[\u001b[0m\u001b[1;33m]\u001b[0m\u001b[1;33m\u001b[0m\u001b[0m\n\u001b[0;32m      8\u001b[0m             \u001b[1;32mfor\u001b[0m \u001b[1;33m(\u001b[0m\u001b[0ma\u001b[0m\u001b[1;33m,\u001b[0m \u001b[0mt\u001b[0m\u001b[1;33m)\u001b[0m \u001b[1;32min\u001b[0m \u001b[0mzip\u001b[0m\u001b[1;33m(\u001b[0m\u001b[0margs\u001b[0m\u001b[1;33m,\u001b[0m \u001b[0mtypes\u001b[0m\u001b[1;33m)\u001b[0m\u001b[1;33m:\u001b[0m\u001b[1;33m\u001b[0m\u001b[0m\n\u001b[1;32m----> 9\u001b[1;33m                 \u001b[0mnewargs\u001b[0m\u001b[1;33m.\u001b[0m\u001b[0mappend\u001b[0m\u001b[1;33m(\u001b[0m \u001b[0mt\u001b[0m\u001b[1;33m(\u001b[0m\u001b[0ma\u001b[0m\u001b[1;33m)\u001b[0m\u001b[1;33m)\u001b[0m\u001b[1;33m\u001b[0m\u001b[0m\n\u001b[0m\u001b[0;32m     10\u001b[0m             \u001b[1;32mreturn\u001b[0m \u001b[0mf\u001b[0m\u001b[1;33m(\u001b[0m\u001b[1;33m*\u001b[0m\u001b[0mnewargs\u001b[0m\u001b[1;33m,\u001b[0m \u001b[1;33m**\u001b[0m\u001b[0mkwargs\u001b[0m\u001b[1;33m)\u001b[0m\u001b[1;33m\u001b[0m\u001b[0m\n\u001b[0;32m     11\u001b[0m         \u001b[1;32mreturn\u001b[0m \u001b[0mnew_func\u001b[0m\u001b[1;33m\u001b[0m\u001b[0m\n",
      "\u001b[1;31mValueError\u001b[0m: invalid literal for int() with base 10: 'smalls'"
     ]
    }
   ],
   "source": [
    "repeat_msg('jack', 'smalls')"
   ]
  },
  {
   "cell_type": "code",
   "execution_count": 293,
   "metadata": {},
   "outputs": [
    {
     "name": "stdout",
     "output_type": "stream",
     "text": [
      "0.25\n"
     ]
    }
   ],
   "source": [
    "divide('1', 4)"
   ]
  },
  {
   "cell_type": "code",
   "execution_count": null,
   "metadata": {},
   "outputs": [],
   "source": [
    "# delay function accepts and returns and inner function that accepts a function\n",
    "# When used as a decorator, delay will wait to execute the function being\n",
    "# decorated by the amount of time passed into it.  Before starting the timer\n",
    "# delay will print a message saying there will be a delay before the decorator\n",
    "# function gets run"
   ]
  },
  {
   "cell_type": "code",
   "execution_count": 296,
   "metadata": {},
   "outputs": [],
   "source": [
    "from functools import wraps\n",
    "from time import sleep\n",
    "\n",
    "def delay(time):\n",
    "    def inner(fn):\n",
    "        @wraps(fn)\n",
    "        def my_wrapper(*args, **kwargs):\n",
    "            print('Waiting {}s before running {}'.format(time, fn.__name__))\n",
    "            sleep(time)\n",
    "            return fn(*args, **kwargs)\n",
    "        return my_wrapper\n",
    "    return inner\n",
    "\n",
    "\n",
    "\n",
    "@delay(3)\n",
    "def say_hi():\n",
    "    return \"hi\"\n"
   ]
  },
  {
   "cell_type": "code",
   "execution_count": 297,
   "metadata": {},
   "outputs": [
    {
     "name": "stdout",
     "output_type": "stream",
     "text": [
      "Waiting 3s before running say_hi\n"
     ]
    },
    {
     "data": {
      "text/plain": [
       "'hi'"
      ]
     },
     "execution_count": 297,
     "metadata": {},
     "output_type": "execute_result"
    }
   ],
   "source": [
    "say_hi()"
   ]
  },
  {
   "cell_type": "code",
   "execution_count": null,
   "metadata": {},
   "outputs": [],
   "source": []
  }
 ],
 "metadata": {
  "kernelspec": {
   "display_name": "Python 3",
   "language": "python",
   "name": "python3"
  },
  "language_info": {
   "codemirror_mode": {
    "name": "ipython",
    "version": 3
   },
   "file_extension": ".py",
   "mimetype": "text/x-python",
   "name": "python",
   "nbconvert_exporter": "python",
   "pygments_lexer": "ipython3",
   "version": "3.7.0"
  }
 },
 "nbformat": 4,
 "nbformat_minor": 2
}
