{
 "cells": [
  {
   "cell_type": "code",
   "execution_count": 1,
   "metadata": {},
   "outputs": [],
   "source": [
    "import sqlite3"
   ]
  },
  {
   "cell_type": "code",
   "execution_count": 8,
   "metadata": {},
   "outputs": [],
   "source": [
    "# creates connection, also will create db instance if it doesn't exist\n",
    "conn = sqlite3.connect('my_friends.db')"
   ]
  },
  {
   "cell_type": "markdown",
   "metadata": {},
   "source": [
    "# Create Table in Python for SQL"
   ]
  },
  {
   "cell_type": "code",
   "execution_count": null,
   "metadata": {},
   "outputs": [],
   "source": [
    "# create cursor object"
   ]
  },
  {
   "cell_type": "code",
   "execution_count": 3,
   "metadata": {},
   "outputs": [],
   "source": [
    "c = conn.cursor()"
   ]
  },
  {
   "cell_type": "code",
   "execution_count": null,
   "metadata": {},
   "outputs": [],
   "source": [
    "# execute some sql"
   ]
  },
  {
   "cell_type": "code",
   "execution_count": 4,
   "metadata": {},
   "outputs": [
    {
     "data": {
      "text/plain": [
       "<sqlite3.Cursor at 0x2793a386d50>"
      ]
     },
     "execution_count": 4,
     "metadata": {},
     "output_type": "execute_result"
    }
   ],
   "source": [
    "c.execute(\"CREATE TABLE friends (first_name TEXT, last_name TEXT, closeness INTEGER)\")"
   ]
  },
  {
   "cell_type": "code",
   "execution_count": null,
   "metadata": {},
   "outputs": [],
   "source": [
    "#commit changes"
   ]
  },
  {
   "cell_type": "code",
   "execution_count": 5,
   "metadata": {},
   "outputs": [],
   "source": [
    "conn.commit()"
   ]
  },
  {
   "cell_type": "code",
   "execution_count": 6,
   "metadata": {},
   "outputs": [],
   "source": [
    "conn.close()"
   ]
  },
  {
   "cell_type": "markdown",
   "metadata": {},
   "source": [
    "# Insert into SQL"
   ]
  },
  {
   "cell_type": "code",
   "execution_count": 10,
   "metadata": {},
   "outputs": [],
   "source": [
    "conn = sqlite3.connect('my_friends.db')\n",
    "c = conn.cursor()"
   ]
  },
  {
   "cell_type": "code",
   "execution_count": 12,
   "metadata": {},
   "outputs": [],
   "source": [
    "insert_query = \"INSERT INTO friends VALUES('Merriwether', 'Lewis', 7)\""
   ]
  },
  {
   "cell_type": "code",
   "execution_count": 13,
   "metadata": {},
   "outputs": [
    {
     "data": {
      "text/plain": [
       "<sqlite3.Cursor at 0x2793a462260>"
      ]
     },
     "execution_count": 13,
     "metadata": {},
     "output_type": "execute_result"
    }
   ],
   "source": [
    "c.execute(insert_query)"
   ]
  },
  {
   "cell_type": "code",
   "execution_count": 14,
   "metadata": {},
   "outputs": [],
   "source": [
    "conn.commit()\n",
    "conn.close()"
   ]
  },
  {
   "cell_type": "markdown",
   "metadata": {},
   "source": [
    "# Insert multiple Values\n",
    "# Not the Best but works "
   ]
  },
  {
   "cell_type": "code",
   "execution_count": 17,
   "metadata": {},
   "outputs": [],
   "source": [
    "conn = sqlite3.connect('my_friends.db')\n",
    "c = conn.cursor()"
   ]
  },
  {
   "cell_type": "code",
   "execution_count": 18,
   "metadata": {},
   "outputs": [],
   "source": [
    "form_first = 'Dana'"
   ]
  },
  {
   "cell_type": "code",
   "execution_count": 19,
   "metadata": {},
   "outputs": [],
   "source": [
    "query =  f\"INSERT INTO friends (first_name) VALUES ('{form_first}')\""
   ]
  },
  {
   "cell_type": "code",
   "execution_count": 20,
   "metadata": {},
   "outputs": [
    {
     "data": {
      "text/plain": [
       "<sqlite3.Cursor at 0x2793a4623b0>"
      ]
     },
     "execution_count": 20,
     "metadata": {},
     "output_type": "execute_result"
    }
   ],
   "source": [
    "c.execute(query)"
   ]
  },
  {
   "cell_type": "code",
   "execution_count": 21,
   "metadata": {},
   "outputs": [],
   "source": [
    "conn.commit()\n",
    "conn.close()"
   ]
  },
  {
   "cell_type": "markdown",
   "metadata": {},
   "source": [
    "# Insert Multiple Values"
   ]
  },
  {
   "cell_type": "code",
   "execution_count": 22,
   "metadata": {},
   "outputs": [],
   "source": [
    "conn = sqlite3.connect('my_friends.db')\n",
    "c = conn.cursor()"
   ]
  },
  {
   "cell_type": "code",
   "execution_count": 23,
   "metadata": {},
   "outputs": [],
   "source": [
    "form_first = 'Mary-Todd'"
   ]
  },
  {
   "cell_type": "code",
   "execution_count": 24,
   "metadata": {},
   "outputs": [],
   "source": [
    "query =  f\"INSERT INTO friends (first_name) VALUES (?)\""
   ]
  },
  {
   "cell_type": "code",
   "execution_count": 25,
   "metadata": {},
   "outputs": [
    {
     "data": {
      "text/plain": [
       "<sqlite3.Cursor at 0x2793a462500>"
      ]
     },
     "execution_count": 25,
     "metadata": {},
     "output_type": "execute_result"
    }
   ],
   "source": [
    "c.execute(query, (form_first,))"
   ]
  },
  {
   "cell_type": "code",
   "execution_count": 26,
   "metadata": {},
   "outputs": [],
   "source": [
    "conn.commit()\n",
    "conn.close()"
   ]
  },
  {
   "cell_type": "code",
   "execution_count": 27,
   "metadata": {},
   "outputs": [],
   "source": [
    "# other example"
   ]
  },
  {
   "cell_type": "code",
   "execution_count": 28,
   "metadata": {},
   "outputs": [],
   "source": [
    "conn = sqlite3.connect('my_friends.db')\n",
    "c = conn.cursor()"
   ]
  },
  {
   "cell_type": "code",
   "execution_count": 29,
   "metadata": {},
   "outputs": [],
   "source": [
    "data = ('Steve', 'Irwin', 9)"
   ]
  },
  {
   "cell_type": "code",
   "execution_count": 32,
   "metadata": {},
   "outputs": [],
   "source": [
    "query =  f\"INSERT INTO friends VALUES (?, ?, ?)\""
   ]
  },
  {
   "cell_type": "code",
   "execution_count": 33,
   "metadata": {},
   "outputs": [
    {
     "data": {
      "text/plain": [
       "<sqlite3.Cursor at 0x2793a4626c0>"
      ]
     },
     "execution_count": 33,
     "metadata": {},
     "output_type": "execute_result"
    }
   ],
   "source": [
    "c.execute(query, data)"
   ]
  },
  {
   "cell_type": "code",
   "execution_count": 34,
   "metadata": {},
   "outputs": [],
   "source": [
    "conn.commit()\n",
    "conn.close()"
   ]
  },
  {
   "cell_type": "code",
   "execution_count": 35,
   "metadata": {},
   "outputs": [],
   "source": [
    "# Bulk Inserts"
   ]
  },
  {
   "cell_type": "code",
   "execution_count": 36,
   "metadata": {},
   "outputs": [],
   "source": [
    "conn = sqlite3.connect('my_friends.db')\n",
    "c = conn.cursor()"
   ]
  },
  {
   "cell_type": "code",
   "execution_count": 37,
   "metadata": {},
   "outputs": [],
   "source": [
    "people = [\n",
    "    ('Roald', 'Amundsen', 5),\n",
    "    ('Rosa', 'Parks', 8),\n",
    "    ('Henry', 'Hudson', 7),\n",
    "    ('Neil', 'Armstrong', 7),\n",
    "    ('Daniel', 'Boone', 3)\n",
    "]"
   ]
  },
  {
   "cell_type": "code",
   "execution_count": 38,
   "metadata": {},
   "outputs": [
    {
     "data": {
      "text/plain": [
       "<sqlite3.Cursor at 0x2793a462960>"
      ]
     },
     "execution_count": 38,
     "metadata": {},
     "output_type": "execute_result"
    }
   ],
   "source": [
    "c.executemany(\"INSERT INTO friends VALUES (?,?,?)\", people)"
   ]
  },
  {
   "cell_type": "code",
   "execution_count": null,
   "metadata": {},
   "outputs": [],
   "source": [
    "# alt way using a through loop\n",
    "# for person in people:\n",
    "#     c.execute(\"INSERT INTO friends VALUES (?,?,?)\", person)"
   ]
  },
  {
   "cell_type": "code",
   "execution_count": 39,
   "metadata": {},
   "outputs": [],
   "source": [
    "conn.commit()\n",
    "conn.close()"
   ]
  },
  {
   "cell_type": "markdown",
   "metadata": {},
   "source": [
    "# Selecting with Python"
   ]
  },
  {
   "cell_type": "code",
   "execution_count": 40,
   "metadata": {},
   "outputs": [],
   "source": [
    "conn = sqlite3.connect('my_friends.db')\n",
    "c = conn.cursor()"
   ]
  },
  {
   "cell_type": "code",
   "execution_count": 44,
   "metadata": {},
   "outputs": [
    {
     "data": {
      "text/plain": [
       "<sqlite3.Cursor at 0x2793a462c70>"
      ]
     },
     "execution_count": 44,
     "metadata": {},
     "output_type": "execute_result"
    }
   ],
   "source": [
    "c.execute(\"SELECT * FROM friends\")"
   ]
  },
  {
   "cell_type": "code",
   "execution_count": 42,
   "metadata": {},
   "outputs": [
    {
     "name": "stdout",
     "output_type": "stream",
     "text": [
      "('Merriwether', 'Lewis', 7)\n",
      "('Dana', None, None)\n",
      "('Mary-Todd', None, None)\n",
      "('Steve', 'Irwin', 9)\n",
      "('Roald', 'Amundsen', 5)\n",
      "('Rosa', 'Parks', 8)\n",
      "('Henry', 'Hudson', 7)\n",
      "('Neil', 'Armstrong', 7)\n",
      "('Daniel', 'Boone', 3)\n"
     ]
    }
   ],
   "source": [
    "# can iterate over\n",
    "for result in c:\n",
    "    print (result)"
   ]
  },
  {
   "cell_type": "code",
   "execution_count": 47,
   "metadata": {},
   "outputs": [
    {
     "name": "stdout",
     "output_type": "stream",
     "text": [
      "[('Merriwether', 'Lewis', 7), ('Dana', None, None), ('Mary-Todd', None, None), ('Steve', 'Irwin', 9), ('Roald', 'Amundsen', 5), ('Rosa', 'Parks', 8), ('Henry', 'Hudson', 7), ('Neil', 'Armstrong', 7), ('Daniel', 'Boone', 3)]\n"
     ]
    }
   ],
   "source": [
    "c.execute(\"SELECT * FROM friends\")\n",
    "print (c.fetchall())   # makes a list"
   ]
  },
  {
   "cell_type": "code",
   "execution_count": 49,
   "metadata": {},
   "outputs": [
    {
     "name": "stdout",
     "output_type": "stream",
     "text": [
      "[('Rosa', 'Parks', 8)]\n"
     ]
    }
   ],
   "source": [
    "c.execute(\"SELECT * FROM friends WHERE first_name IS 'Rosa'\")\n",
    "print (c.fetchall()) "
   ]
  },
  {
   "cell_type": "code",
   "execution_count": 52,
   "metadata": {},
   "outputs": [],
   "source": [
    "conn.commit()\n",
    "conn.close()"
   ]
  },
  {
   "cell_type": "markdown",
   "metadata": {},
   "source": [
    "# Scraping to a Database"
   ]
  },
  {
   "cell_type": "code",
   "execution_count": 1,
   "metadata": {},
   "outputs": [],
   "source": [
    "import sqlite3\n",
    "import requests\n",
    "from bs4 import BeautifulSoup"
   ]
  },
  {
   "cell_type": "code",
   "execution_count": null,
   "metadata": {},
   "outputs": [],
   "source": [
    "# Request URL\n",
    "# Initialze BS\n",
    "# Extract Data we want\n",
    "# Save data to database"
   ]
  },
  {
   "cell_type": "code",
   "execution_count": 3,
   "metadata": {},
   "outputs": [],
   "source": [
    "response = requests.get('http://books.toscrape.com/catalogue/category/books/history_32/index.html')\n",
    "soup = BeautifulSoup(response.text, 'html.parser')"
   ]
  },
  {
   "cell_type": "code",
   "execution_count": 4,
   "metadata": {},
   "outputs": [
    {
     "name": "stdout",
     "output_type": "stream",
     "text": [
      "[<article class=\"product_pod\">\n",
      "<div class=\"image_container\">\n",
      "<a href=\"../../../sapiens-a-brief-history-of-humankind_996/index.html\"><img alt=\"Sapiens: A Brief History of Humankind\" class=\"thumbnail\" src=\"../../../../media/cache/be/a5/bea5697f2534a2f86a3ef27b5a8c12a6.jpg\"/></a>\n",
      "</div>\n",
      "<p class=\"star-rating Five\">\n",
      "<i class=\"icon-star\"></i>\n",
      "<i class=\"icon-star\"></i>\n",
      "<i class=\"icon-star\"></i>\n",
      "<i class=\"icon-star\"></i>\n",
      "<i class=\"icon-star\"></i>\n",
      "</p>\n",
      "<h3><a href=\"../../../sapiens-a-brief-history-of-humankind_996/index.html\" title=\"Sapiens: A Brief History of Humankind\">Sapiens: A Brief History ...</a></h3>\n",
      "<div class=\"product_price\">\n",
      "<p class=\"price_color\">Â£54.23</p>\n",
      "<p class=\"instock availability\">\n",
      "<i class=\"icon-ok\"></i>\n",
      "    \n",
      "        In stock\n",
      "    \n",
      "</p>\n",
      "<form>\n",
      "<button class=\"btn btn-primary btn-block\" data-loading-text=\"Adding...\" type=\"submit\">Add to basket</button>\n",
      "</form>\n",
      "</div>\n",
      "</article>, <article class=\"product_pod\">\n",
      "<div class=\"image_container\">\n",
      "<a href=\"../../../unbound-how-eight-technologies-made-us-human-transformed-society-and-brought-our-world-to-the-brink_950/index.html\"><img alt=\"Unbound: How Eight Technologies Made Us Human, Transformed Society, and Brought Our World to the Brink\" class=\"thumbnail\" src=\"../../../../media/cache/4a/3b/4a3b055f9e378a95fedbef55e7bab7ce.jpg\"/></a>\n",
      "</div>\n",
      "<p class=\"star-rating One\">\n",
      "<i class=\"icon-star\"></i>\n",
      "<i class=\"icon-star\"></i>\n",
      "<i class=\"icon-star\"></i>\n",
      "<i class=\"icon-star\"></i>\n",
      "<i class=\"icon-star\"></i>\n",
      "</p>\n",
      "<h3><a href=\"../../../unbound-how-eight-technologies-made-us-human-transformed-society-and-brought-our-world-to-the-brink_950/index.html\" title=\"Unbound: How Eight Technologies Made Us Human, Transformed Society, and Brought Our World to the Brink\">Unbound: How Eight Technologies ...</a></h3>\n",
      "<div class=\"product_price\">\n",
      "<p class=\"price_color\">Â£25.52</p>\n",
      "<p class=\"instock availability\">\n",
      "<i class=\"icon-ok\"></i>\n",
      "    \n",
      "        In stock\n",
      "    \n",
      "</p>\n",
      "<form>\n",
      "<button class=\"btn btn-primary btn-block\" data-loading-text=\"Adding...\" type=\"submit\">Add to basket</button>\n",
      "</form>\n",
      "</div>\n",
      "</article>, <article class=\"product_pod\">\n",
      "<div class=\"image_container\">\n",
      "<a href=\"../../../the-age-of-genius-the-seventeenth-century-and-the-birth-of-the-modern-mind_929/index.html\"><img alt=\"The Age of Genius: The Seventeenth Century and the Birth of the Modern Mind\" class=\"thumbnail\" src=\"../../../../media/cache/2d/4e/2d4e358712e6c9f1d3bdd78d1a16e5a8.jpg\"/></a>\n",
      "</div>\n",
      "<p class=\"star-rating One\">\n",
      "<i class=\"icon-star\"></i>\n",
      "<i class=\"icon-star\"></i>\n",
      "<i class=\"icon-star\"></i>\n",
      "<i class=\"icon-star\"></i>\n",
      "<i class=\"icon-star\"></i>\n",
      "</p>\n",
      "<h3><a href=\"../../../the-age-of-genius-the-seventeenth-century-and-the-birth-of-the-modern-mind_929/index.html\" title=\"The Age of Genius: The Seventeenth Century and the Birth of the Modern Mind\">The Age of Genius: ...</a></h3>\n",
      "<div class=\"product_price\">\n",
      "<p class=\"price_color\">Â£19.73</p>\n",
      "<p class=\"instock availability\">\n",
      "<i class=\"icon-ok\"></i>\n",
      "    \n",
      "        In stock\n",
      "    \n",
      "</p>\n",
      "<form>\n",
      "<button class=\"btn btn-primary btn-block\" data-loading-text=\"Adding...\" type=\"submit\">Add to basket</button>\n",
      "</form>\n",
      "</div>\n",
      "</article>, <article class=\"product_pod\">\n",
      "<div class=\"image_container\">\n",
      "<a href=\"../../../political-suicide-missteps-peccadilloes-bad-calls-backroom-hijinx-sordid-pasts-rotten-breaks-and-just-plain-dumb-mistakes-in-the-annals-of-american-politics_917/index.html\"><img alt=\"Political Suicide: Missteps, Peccadilloes, Bad Calls, Backroom Hijinx, Sordid Pasts, Rotten Breaks, and Just Plain Dumb Mistakes in the Annals of American Politics\" class=\"thumbnail\" src=\"../../../../media/cache/64/44/6444dacdcb9edaadbbd691524622aeb8.jpg\"/></a>\n",
      "</div>\n",
      "<p class=\"star-rating Two\">\n",
      "<i class=\"icon-star\"></i>\n",
      "<i class=\"icon-star\"></i>\n",
      "<i class=\"icon-star\"></i>\n",
      "<i class=\"icon-star\"></i>\n",
      "<i class=\"icon-star\"></i>\n",
      "</p>\n",
      "<h3><a href=\"../../../political-suicide-missteps-peccadilloes-bad-calls-backroom-hijinx-sordid-pasts-rotten-breaks-and-just-plain-dumb-mistakes-in-the-annals-of-american-politics_917/index.html\" title=\"Political Suicide: Missteps, Peccadilloes, Bad Calls, Backroom Hijinx, Sordid Pasts, Rotten Breaks, and Just Plain Dumb Mistakes in the Annals of American Politics\">Political Suicide: Missteps, Peccadilloes, ...</a></h3>\n",
      "<div class=\"product_price\">\n",
      "<p class=\"price_color\">Â£36.28</p>\n",
      "<p class=\"instock availability\">\n",
      "<i class=\"icon-ok\"></i>\n",
      "    \n",
      "        In stock\n",
      "    \n",
      "</p>\n",
      "<form>\n",
      "<button class=\"btn btn-primary btn-block\" data-loading-text=\"Adding...\" type=\"submit\">Add to basket</button>\n",
      "</form>\n",
      "</div>\n",
      "</article>, <article class=\"product_pod\">\n",
      "<div class=\"image_container\">\n",
      "<a href=\"../../../thomas-jefferson-and-the-tripoli-pirates-the-forgotten-war-that-changed-american-history_867/index.html\"><img alt=\"Thomas Jefferson and the Tripoli Pirates: The Forgotten War That Changed American History\" class=\"thumbnail\" src=\"../../../../media/cache/97/47/974709d437b08e74649b5744471bf472.jpg\"/></a>\n",
      "</div>\n",
      "<p class=\"star-rating One\">\n",
      "<i class=\"icon-star\"></i>\n",
      "<i class=\"icon-star\"></i>\n",
      "<i class=\"icon-star\"></i>\n",
      "<i class=\"icon-star\"></i>\n",
      "<i class=\"icon-star\"></i>\n",
      "</p>\n",
      "<h3><a href=\"../../../thomas-jefferson-and-the-tripoli-pirates-the-forgotten-war-that-changed-american-history_867/index.html\" title=\"Thomas Jefferson and the Tripoli Pirates: The Forgotten War That Changed American History\">Thomas Jefferson and the ...</a></h3>\n",
      "<div class=\"product_price\">\n",
      "<p class=\"price_color\">Â£59.64</p>\n",
      "<p class=\"instock availability\">\n",
      "<i class=\"icon-ok\"></i>\n",
      "    \n",
      "        In stock\n",
      "    \n",
      "</p>\n",
      "<form>\n",
      "<button class=\"btn btn-primary btn-block\" data-loading-text=\"Adding...\" type=\"submit\">Add to basket</button>\n",
      "</form>\n",
      "</div>\n",
      "</article>, <article class=\"product_pod\">\n",
      "<div class=\"image_container\">\n",
      "<a href=\"../../../zealot-the-life-and-times-of-jesus-of-nazareth_785/index.html\"><img alt=\"Zealot: The Life and Times of Jesus of Nazareth\" class=\"thumbnail\" src=\"../../../../media/cache/3d/60/3d6003fc37b842a07c2dbe28e47448e1.jpg\"/></a>\n",
      "</div>\n",
      "<p class=\"star-rating Three\">\n",
      "<i class=\"icon-star\"></i>\n",
      "<i class=\"icon-star\"></i>\n",
      "<i class=\"icon-star\"></i>\n",
      "<i class=\"icon-star\"></i>\n",
      "<i class=\"icon-star\"></i>\n",
      "</p>\n",
      "<h3><a href=\"../../../zealot-the-life-and-times-of-jesus-of-nazareth_785/index.html\" title=\"Zealot: The Life and Times of Jesus of Nazareth\">Zealot: The Life and ...</a></h3>\n",
      "<div class=\"product_price\">\n",
      "<p class=\"price_color\">Â£24.70</p>\n",
      "<p class=\"instock availability\">\n",
      "<i class=\"icon-ok\"></i>\n",
      "    \n",
      "        In stock\n",
      "    \n",
      "</p>\n",
      "<form>\n",
      "<button class=\"btn btn-primary btn-block\" data-loading-text=\"Adding...\" type=\"submit\">Add to basket</button>\n",
      "</form>\n",
      "</div>\n",
      "</article>, <article class=\"product_pod\">\n",
      "<div class=\"image_container\">\n",
      "<a href=\"../../../a-distant-mirror-the-calamitous-14th-century_652/index.html\"><img alt=\"A Distant Mirror: The Calamitous 14th Century\" class=\"thumbnail\" src=\"../../../../media/cache/41/d5/41d5fa6a81cdbcbe6b0b15757a4c9144.jpg\"/></a>\n",
      "</div>\n",
      "<p class=\"star-rating Three\">\n",
      "<i class=\"icon-star\"></i>\n",
      "<i class=\"icon-star\"></i>\n",
      "<i class=\"icon-star\"></i>\n",
      "<i class=\"icon-star\"></i>\n",
      "<i class=\"icon-star\"></i>\n",
      "</p>\n",
      "<h3><a href=\"../../../a-distant-mirror-the-calamitous-14th-century_652/index.html\" title=\"A Distant Mirror: The Calamitous 14th Century\">A Distant Mirror: The ...</a></h3>\n",
      "<div class=\"product_price\">\n",
      "<p class=\"price_color\">Â£14.58</p>\n",
      "<p class=\"instock availability\">\n",
      "<i class=\"icon-ok\"></i>\n",
      "    \n",
      "        In stock\n",
      "    \n",
      "</p>\n",
      "<form>\n",
      "<button class=\"btn btn-primary btn-block\" data-loading-text=\"Adding...\" type=\"submit\">Add to basket</button>\n",
      "</form>\n",
      "</div>\n",
      "</article>, <article class=\"product_pod\">\n",
      "<div class=\"image_container\">\n",
      "<a href=\"../../../1491-new-revelations-of-the-americas-before-columbus_650/index.html\"><img alt=\"1491: New Revelations of the Americas Before Columbus\" class=\"thumbnail\" src=\"../../../../media/cache/88/75/8875f384ce9103281b7f6e86a2b8204d.jpg\"/></a>\n",
      "</div>\n",
      "<p class=\"star-rating Three\">\n",
      "<i class=\"icon-star\"></i>\n",
      "<i class=\"icon-star\"></i>\n",
      "<i class=\"icon-star\"></i>\n",
      "<i class=\"icon-star\"></i>\n",
      "<i class=\"icon-star\"></i>\n",
      "</p>\n",
      "<h3><a href=\"../../../1491-new-revelations-of-the-americas-before-columbus_650/index.html\" title=\"1491: New Revelations of the Americas Before Columbus\">1491: New Revelations of ...</a></h3>\n",
      "<div class=\"product_price\">\n",
      "<p class=\"price_color\">Â£21.80</p>\n",
      "<p class=\"instock availability\">\n",
      "<i class=\"icon-ok\"></i>\n",
      "    \n",
      "        In stock\n",
      "    \n",
      "</p>\n",
      "<form>\n",
      "<button class=\"btn btn-primary btn-block\" data-loading-text=\"Adding...\" type=\"submit\">Add to basket</button>\n",
      "</form>\n",
      "</div>\n",
      "</article>, <article class=\"product_pod\">\n",
      "<div class=\"image_container\">\n",
      "<a href=\"../../../brilliant-beacons-a-history-of-the-american-lighthouse_515/index.html\"><img alt=\"Brilliant Beacons: A History of the American Lighthouse\" class=\"thumbnail\" src=\"../../../../media/cache/56/cb/56cb66d73fb438d64af14dce8bd8b22b.jpg\"/></a>\n",
      "</div>\n",
      "<p class=\"star-rating Three\">\n",
      "<i class=\"icon-star\"></i>\n",
      "<i class=\"icon-star\"></i>\n",
      "<i class=\"icon-star\"></i>\n",
      "<i class=\"icon-star\"></i>\n",
      "<i class=\"icon-star\"></i>\n",
      "</p>\n",
      "<h3><a href=\"../../../brilliant-beacons-a-history-of-the-american-lighthouse_515/index.html\" title=\"Brilliant Beacons: A History of the American Lighthouse\">Brilliant Beacons: A History ...</a></h3>\n",
      "<div class=\"product_price\">\n",
      "<p class=\"price_color\">Â£11.45</p>\n",
      "<p class=\"instock availability\">\n",
      "<i class=\"icon-ok\"></i>\n",
      "    \n",
      "        In stock\n",
      "    \n",
      "</p>\n",
      "<form>\n",
      "<button class=\"btn btn-primary btn-block\" data-loading-text=\"Adding...\" type=\"submit\">Add to basket</button>\n",
      "</form>\n",
      "</div>\n",
      "</article>, <article class=\"product_pod\">\n",
      "<div class=\"image_container\">\n",
      "<a href=\"../../../most-blessed-of-the-patriarchs-thomas-jefferson-and-the-empire-of-the-imagination_509/index.html\"><img alt='\"Most Blessed of the Patriarchs\": Thomas Jefferson and the Empire of the Imagination' class=\"thumbnail\" src=\"../../../../media/cache/11/af/11af7fbd6aec06a75fe207fae92b17e0.jpg\"/></a>\n",
      "</div>\n",
      "<p class=\"star-rating Five\">\n",
      "<i class=\"icon-star\"></i>\n",
      "<i class=\"icon-star\"></i>\n",
      "<i class=\"icon-star\"></i>\n",
      "<i class=\"icon-star\"></i>\n",
      "<i class=\"icon-star\"></i>\n",
      "</p>\n",
      "<h3><a href=\"../../../most-blessed-of-the-patriarchs-thomas-jefferson-and-the-empire-of-the-imagination_509/index.html\" title='\"Most Blessed of the Patriarchs\": Thomas Jefferson and the Empire of the Imagination'>\"Most Blessed of the ...</a></h3>\n",
      "<div class=\"product_price\">\n",
      "<p class=\"price_color\">Â£44.48</p>\n",
      "<p class=\"instock availability\">\n",
      "<i class=\"icon-ok\"></i>\n",
      "    \n",
      "        In stock\n",
      "    \n",
      "</p>\n",
      "<form>\n",
      "<button class=\"btn btn-primary btn-block\" data-loading-text=\"Adding...\" type=\"submit\">Add to basket</button>\n",
      "</form>\n",
      "</div>\n",
      "</article>, <article class=\"product_pod\">\n",
      "<div class=\"image_container\">\n",
      "<a href=\"../../../a-short-history-of-nearly-everything_457/index.html\"><img alt=\"A Short History of Nearly Everything\" class=\"thumbnail\" src=\"../../../../media/cache/3c/f6/3cf646523ff7fb8647c500d6325cfcaf.jpg\"/></a>\n",
      "</div>\n",
      "<p class=\"star-rating Five\">\n",
      "<i class=\"icon-star\"></i>\n",
      "<i class=\"icon-star\"></i>\n",
      "<i class=\"icon-star\"></i>\n",
      "<i class=\"icon-star\"></i>\n",
      "<i class=\"icon-star\"></i>\n",
      "</p>\n",
      "<h3><a href=\"../../../a-short-history-of-nearly-everything_457/index.html\" title=\"A Short History of Nearly Everything\">A Short History of ...</a></h3>\n",
      "<div class=\"product_price\">\n",
      "<p class=\"price_color\">Â£52.40</p>\n",
      "<p class=\"instock availability\">\n",
      "<i class=\"icon-ok\"></i>\n",
      "    \n",
      "        In stock\n",
      "    \n",
      "</p>\n",
      "<form>\n",
      "<button class=\"btn btn-primary btn-block\" data-loading-text=\"Adding...\" type=\"submit\">Add to basket</button>\n",
      "</form>\n",
      "</div>\n",
      "</article>, <article class=\"product_pod\">\n",
      "<div class=\"image_container\">\n",
      "<a href=\"../../../the-rise-and-fall-of-the-third-reich-a-history-of-nazi-germany_454/index.html\"><img alt=\"The Rise and Fall of the Third Reich: A History of Nazi Germany\" class=\"thumbnail\" src=\"../../../../media/cache/e1/02/e102cefae5bb523bc67eb6b49bc18b5d.jpg\"/></a>\n",
      "</div>\n",
      "<p class=\"star-rating Two\">\n",
      "<i class=\"icon-star\"></i>\n",
      "<i class=\"icon-star\"></i>\n",
      "<i class=\"icon-star\"></i>\n",
      "<i class=\"icon-star\"></i>\n",
      "<i class=\"icon-star\"></i>\n",
      "</p>\n",
      "<h3><a href=\"../../../the-rise-and-fall-of-the-third-reich-a-history-of-nazi-germany_454/index.html\" title=\"The Rise and Fall of the Third Reich: A History of Nazi Germany\">The Rise and Fall ...</a></h3>\n",
      "<div class=\"product_price\">\n",
      "<p class=\"price_color\">Â£39.67</p>\n",
      "<p class=\"instock availability\">\n",
      "<i class=\"icon-ok\"></i>\n",
      "    \n",
      "        In stock\n",
      "    \n",
      "</p>\n",
      "<form>\n",
      "<button class=\"btn btn-primary btn-block\" data-loading-text=\"Adding...\" type=\"submit\">Add to basket</button>\n",
      "</form>\n",
      "</div>\n",
      "</article>, <article class=\"product_pod\">\n",
      "<div class=\"image_container\">\n",
      "<a href=\"../../../catherine-the-great-portrait-of-a-woman_424/index.html\"><img alt=\"Catherine the Great: Portrait of a Woman\" class=\"thumbnail\" src=\"../../../../media/cache/72/f1/72f13b8f069d3a018d2c378be5a1de20.jpg\"/></a>\n",
      "</div>\n",
      "<p class=\"star-rating Four\">\n",
      "<i class=\"icon-star\"></i>\n",
      "<i class=\"icon-star\"></i>\n",
      "<i class=\"icon-star\"></i>\n",
      "<i class=\"icon-star\"></i>\n",
      "<i class=\"icon-star\"></i>\n",
      "</p>\n",
      "<h3><a href=\"../../../catherine-the-great-portrait-of-a-woman_424/index.html\" title=\"Catherine the Great: Portrait of a Woman\">Catherine the Great: Portrait ...</a></h3>\n",
      "<div class=\"product_price\">\n",
      "<p class=\"price_color\">Â£58.55</p>\n",
      "<p class=\"instock availability\">\n",
      "<i class=\"icon-ok\"></i>\n",
      "    \n",
      "        In stock\n",
      "    \n",
      "</p>\n",
      "<form>\n",
      "<button class=\"btn btn-primary btn-block\" data-loading-text=\"Adding...\" type=\"submit\">Add to basket</button>\n",
      "</form>\n",
      "</div>\n",
      "</article>, <article class=\"product_pod\">\n",
      "<div class=\"image_container\">\n",
      "<a href=\"../../../the-mathews-men-seven-brothers-and-the-war-against-hitlers-u-boats_408/index.html\"><img alt=\"The Mathews Men: Seven Brothers and the War Against Hitler's U-boats\" class=\"thumbnail\" src=\"../../../../media/cache/f2/64/f26457d65a03b2636c4bcc7c318f7346.jpg\"/></a>\n",
      "</div>\n",
      "<p class=\"star-rating Five\">\n",
      "<i class=\"icon-star\"></i>\n",
      "<i class=\"icon-star\"></i>\n",
      "<i class=\"icon-star\"></i>\n",
      "<i class=\"icon-star\"></i>\n",
      "<i class=\"icon-star\"></i>\n",
      "</p>\n",
      "<h3><a href=\"../../../the-mathews-men-seven-brothers-and-the-war-against-hitlers-u-boats_408/index.html\" title=\"The Mathews Men: Seven Brothers and the War Against Hitler's U-boats\">The Mathews Men: Seven ...</a></h3>\n",
      "<div class=\"product_price\">\n",
      "<p class=\"price_color\">Â£42.91</p>\n",
      "<p class=\"instock availability\">\n",
      "<i class=\"icon-ok\"></i>\n",
      "    \n",
      "        In stock\n",
      "    \n",
      "</p>\n",
      "<form>\n",
      "<button class=\"btn btn-primary btn-block\" data-loading-text=\"Adding...\" type=\"submit\">Add to basket</button>\n",
      "</form>\n",
      "</div>\n",
      "</article>, <article class=\"product_pod\">\n",
      "<div class=\"image_container\">\n",
      "<a href=\"../../../the-hiding-place_406/index.html\"><img alt=\"The Hiding Place\" class=\"thumbnail\" src=\"../../../../media/cache/cf/18/cf187c1dc5575fcbbf49c58024146c4b.jpg\"/></a>\n",
      "</div>\n",
      "<p class=\"star-rating Four\">\n",
      "<i class=\"icon-star\"></i>\n",
      "<i class=\"icon-star\"></i>\n",
      "<i class=\"icon-star\"></i>\n",
      "<i class=\"icon-star\"></i>\n",
      "<i class=\"icon-star\"></i>\n",
      "</p>\n",
      "<h3><a href=\"../../../the-hiding-place_406/index.html\" title=\"The Hiding Place\">The Hiding Place</a></h3>\n",
      "<div class=\"product_price\">\n",
      "<p class=\"price_color\">Â£55.91</p>\n",
      "<p class=\"instock availability\">\n",
      "<i class=\"icon-ok\"></i>\n",
      "    \n",
      "        In stock\n",
      "    \n",
      "</p>\n",
      "<form>\n",
      "<button class=\"btn btn-primary btn-block\" data-loading-text=\"Adding...\" type=\"submit\">Add to basket</button>\n",
      "</form>\n",
      "</div>\n",
      "</article>, <article class=\"product_pod\">\n",
      "<div class=\"image_container\">\n",
      "<a href=\"../../../americas-war-for-the-greater-middle-east-a-military-history_361/index.html\"><img alt=\"America's War for the Greater Middle East: A Military History\" class=\"thumbnail\" src=\"../../../../media/cache/eb/17/eb178eceef1e9290591cabd5155571a3.jpg\"/></a>\n",
      "</div>\n",
      "<p class=\"star-rating Two\">\n",
      "<i class=\"icon-star\"></i>\n",
      "<i class=\"icon-star\"></i>\n",
      "<i class=\"icon-star\"></i>\n",
      "<i class=\"icon-star\"></i>\n",
      "<i class=\"icon-star\"></i>\n",
      "</p>\n",
      "<h3><a href=\"../../../americas-war-for-the-greater-middle-east-a-military-history_361/index.html\" title=\"America's War for the Greater Middle East: A Military History\">America's War for the ...</a></h3>\n",
      "<div class=\"product_price\">\n",
      "<p class=\"price_color\">Â£51.22</p>\n",
      "<p class=\"instock availability\">\n",
      "<i class=\"icon-ok\"></i>\n",
      "    \n",
      "        In stock\n",
      "    \n",
      "</p>\n",
      "<form>\n",
      "<button class=\"btn btn-primary btn-block\" data-loading-text=\"Adding...\" type=\"submit\">Add to basket</button>\n",
      "</form>\n",
      "</div>\n",
      "</article>, <article class=\"product_pod\">\n",
      "<div class=\"image_container\">\n",
      "<a href=\"../../../the-guns-of-august_254/index.html\"><img alt=\"The Guns of August\" class=\"thumbnail\" src=\"../../../../media/cache/06/c8/06c897070611b78b80a37333cbb7851c.jpg\"/></a>\n",
      "</div>\n",
      "<p class=\"star-rating Two\">\n",
      "<i class=\"icon-star\"></i>\n",
      "<i class=\"icon-star\"></i>\n",
      "<i class=\"icon-star\"></i>\n",
      "<i class=\"icon-star\"></i>\n",
      "<i class=\"icon-star\"></i>\n",
      "</p>\n",
      "<h3><a href=\"../../../the-guns-of-august_254/index.html\" title=\"The Guns of August\">The Guns of August</a></h3>\n",
      "<div class=\"product_price\">\n",
      "<p class=\"price_color\">Â£14.54</p>\n",
      "<p class=\"instock availability\">\n",
      "<i class=\"icon-ok\"></i>\n",
      "    \n",
      "        In stock\n",
      "    \n",
      "</p>\n",
      "<form>\n",
      "<button class=\"btn btn-primary btn-block\" data-loading-text=\"Adding...\" type=\"submit\">Add to basket</button>\n",
      "</form>\n",
      "</div>\n",
      "</article>, <article class=\"product_pod\">\n",
      "<div class=\"image_container\">\n",
      "<a href=\"../../../house-of-lost-worlds-dinosaurs-dynasties-and-the-story-of-life-on-earth_170/index.html\"><img alt=\"House of Lost Worlds: Dinosaurs, Dynasties, and the Story of Life on Earth\" class=\"thumbnail\" src=\"../../../../media/cache/43/fd/43fda1db93163d67705264dcfa98aaa5.jpg\"/></a>\n",
      "</div>\n",
      "<p class=\"star-rating Two\">\n",
      "<i class=\"icon-star\"></i>\n",
      "<i class=\"icon-star\"></i>\n",
      "<i class=\"icon-star\"></i>\n",
      "<i class=\"icon-star\"></i>\n",
      "<i class=\"icon-star\"></i>\n",
      "</p>\n",
      "<h3><a href=\"../../../house-of-lost-worlds-dinosaurs-dynasties-and-the-story-of-life-on-earth_170/index.html\" title=\"House of Lost Worlds: Dinosaurs, Dynasties, and the Story of Life on Earth\">House of Lost Worlds: ...</a></h3>\n",
      "<div class=\"product_price\">\n",
      "<p class=\"price_color\">Â£43.70</p>\n",
      "<p class=\"instock availability\">\n",
      "<i class=\"icon-ok\"></i>\n",
      "    \n",
      "        In stock\n",
      "    \n",
      "</p>\n",
      "<form>\n",
      "<button class=\"btn btn-primary btn-block\" data-loading-text=\"Adding...\" type=\"submit\">Add to basket</button>\n",
      "</form>\n",
      "</div>\n",
      "</article>]\n"
     ]
    }
   ],
   "source": [
    "books = soup.find_all('article')\n",
    "print(books)"
   ]
  },
  {
   "cell_type": "code",
   "execution_count": 14,
   "metadata": {},
   "outputs": [
    {
     "name": "stdout",
     "output_type": "stream",
     "text": [
      "5\n",
      "1\n",
      "1\n",
      "2\n",
      "1\n",
      "3\n",
      "3\n",
      "3\n",
      "3\n",
      "5\n",
      "5\n",
      "2\n",
      "4\n",
      "5\n",
      "4\n",
      "2\n",
      "2\n",
      "2\n"
     ]
    }
   ],
   "source": [
    "for book in books:\n",
    "    title = (book.find('h3').find('a')['title'])\n",
    "    price = (book.select('.price_color')[0].get_text())\n",
    "    price = float(price.replace('£','').replace('Â',''))\n",
    "    ratings = {'Zero': 0, 'One': 1, 'Two': 2, 'Three': 3, 'Four': 4, 'Five': 5}\n",
    "    paragraph = book.select('.star-rating')[0]\n",
    "    rating = paragraph.get_attribute_list('class')[-1]\n",
    "    int_rating = ratings[rating]\n",
    "    print(int_rating)\n",
    "    "
   ]
  },
  {
   "cell_type": "code",
   "execution_count": 17,
   "metadata": {},
   "outputs": [
    {
     "name": "stdout",
     "output_type": "stream",
     "text": [
      "[('Sapiens: A Brief History of Humankind', 54.23, 5), ('Unbound: How Eight Technologies Made Us Human, Transformed Society, and Brought Our World to the Brink', 25.52, 1), ('The Age of Genius: The Seventeenth Century and the Birth of the Modern Mind', 19.73, 1), ('Political Suicide: Missteps, Peccadilloes, Bad Calls, Backroom Hijinx, Sordid Pasts, Rotten Breaks, and Just Plain Dumb Mistakes in the Annals of American Politics', 36.28, 2), ('Thomas Jefferson and the Tripoli Pirates: The Forgotten War That Changed American History', 59.64, 1), ('Zealot: The Life and Times of Jesus of Nazareth', 24.7, 3), ('A Distant Mirror: The Calamitous 14th Century', 14.58, 3), ('1491: New Revelations of the Americas Before Columbus', 21.8, 3), ('Brilliant Beacons: A History of the American Lighthouse', 11.45, 3), ('\"Most Blessed of the Patriarchs\": Thomas Jefferson and the Empire of the Imagination', 44.48, 5), ('A Short History of Nearly Everything', 52.4, 5), ('The Rise and Fall of the Third Reich: A History of Nazi Germany', 39.67, 2), ('Catherine the Great: Portrait of a Woman', 58.55, 4), (\"The Mathews Men: Seven Brothers and the War Against Hitler's U-boats\", 42.91, 5), ('The Hiding Place', 55.91, 4), (\"America's War for the Greater Middle East: A Military History\", 51.22, 2), ('The Guns of August', 14.54, 2), ('House of Lost Worlds: Dinosaurs, Dynasties, and the Story of Life on Earth', 43.7, 2)]\n"
     ]
    }
   ],
   "source": [
    "def scrape_books(url):\n",
    "    response = requests.get(url)\n",
    "    soup = BeautifulSoup(response.text, 'html.parser')\n",
    "    books = soup.find_all('article')\n",
    "    all_books = []\n",
    "    for book in books:\n",
    "        book_data = (get_title(book), get_price(book), get_rating(book))\n",
    "        all_books.append(book_data) \n",
    "    print(all_books)\n",
    "\n",
    "def get_title(book):\n",
    "    return book.find('h3').find('a')['title']\n",
    "\n",
    "def get_price(book):\n",
    "    price = (book.select('.price_color')[0].get_text())\n",
    "    return float(price.replace('£','').replace('Â',''))\n",
    "\n",
    "def get_rating(book):\n",
    "    ratings = {'Zero': 0, 'One': 1, 'Two': 2, 'Three': 3, 'Four': 4, 'Five': 5}\n",
    "    paragraph = book.select('.star-rating')[0]\n",
    "    word = paragraph.get_attribute_list('class')[-1]\n",
    "    return ratings[word]\n",
    "\n",
    "scrape_books('http://books.toscrape.com/catalogue/category/books/history_32/index.html')"
   ]
  },
  {
   "cell_type": "code",
   "execution_count": 19,
   "metadata": {},
   "outputs": [],
   "source": [
    "def scrape_books(url):\n",
    "    response = requests.get(url)\n",
    "    soup = BeautifulSoup(response.text, 'html.parser')\n",
    "    books = soup.find_all('article')\n",
    "    all_books = []\n",
    "    for book in books:\n",
    "        book_data = (get_title(book), get_price(book), get_rating(book))\n",
    "        all_books.append(book_data) \n",
    "    save_books(all_books)\n",
    "\n",
    "def save_books(all_books):\n",
    "    connection = sqlite3.connect(\"books.db\")\n",
    "    c = connection.cursor()\n",
    "#    c.execute(\"CREATE TABLE books (title TEXT, price REAL, rating INTEGER)\")\n",
    "#     no need to create table after running the first time \n",
    "    c.executemany(\"INSERT INTO books VALUES (?, ?, ?)\", all_books)\n",
    "    connection.commit()\n",
    "    connection.close()\n",
    "    \n",
    "def get_title(book):\n",
    "    return book.find('h3').find('a')['title']\n",
    "\n",
    "def get_price(book):\n",
    "    price = (book.select('.price_color')[0].get_text())\n",
    "    return float(price.replace('£','').replace('Â',''))\n",
    "\n",
    "def get_rating(book):\n",
    "    ratings = {'Zero': 0, 'One': 1, 'Two': 2, 'Three': 3, 'Four': 4, 'Five': 5}\n",
    "    paragraph = book.select('.star-rating')[0]\n",
    "    word = paragraph.get_attribute_list('class')[-1]\n",
    "    return ratings[word]\n",
    "\n",
    "scrape_books('http://books.toscrape.com/catalogue/category/books/history_32/index.html')"
   ]
  },
  {
   "cell_type": "code",
   "execution_count": null,
   "metadata": {},
   "outputs": [],
   "source": []
  }
 ],
 "metadata": {
  "kernelspec": {
   "display_name": "Python 3",
   "language": "python",
   "name": "python3"
  },
  "language_info": {
   "codemirror_mode": {
    "name": "ipython",
    "version": 3
   },
   "file_extension": ".py",
   "mimetype": "text/x-python",
   "name": "python",
   "nbconvert_exporter": "python",
   "pygments_lexer": "ipython3",
   "version": "3.7.0"
  }
 },
 "nbformat": 4,
 "nbformat_minor": 2
}
