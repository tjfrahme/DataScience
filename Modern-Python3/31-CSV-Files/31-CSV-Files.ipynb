{
 "cells": [
  {
   "cell_type": "code",
   "execution_count": 1,
   "metadata": {},
   "outputs": [],
   "source": [
    "# CSV Module\n",
    "# reader - lets you iterate over rows of the CSV as lists\n",
    "# DictReader - lets you iterate over rows as OrderedDicts\n"
   ]
  },
  {
   "cell_type": "code",
   "execution_count": 14,
   "metadata": {},
   "outputs": [
    {
     "name": "stdout",
     "output_type": "stream",
     "text": [
      "['Name', 'Country', 'Height (in cm)']\n",
      "['Ryu', 'Japan', '175']\n",
      "['Ken', 'USA', '175']\n",
      "['Chun-Li', 'China', '165']\n",
      "['Guile', 'USA', '182']\n",
      "['E. Honda', 'Japan', '185']\n",
      "['Dhalsim', 'India', '176']\n",
      "['Blanka', 'Brazil', '192']\n",
      "['Zangief', 'Russia', '214']\n"
     ]
    }
   ],
   "source": [
    "# reader\n",
    "from csv import reader\n",
    "\n",
    "with open('fighters.csv') as file:\n",
    "    csv_reader = reader(file)\n",
    "    for row in csv_reader:         #csv_reader is an iterator\n",
    "        # each row is a list\n",
    "        print (row)"
   ]
  },
  {
   "cell_type": "code",
   "execution_count": 13,
   "metadata": {},
   "outputs": [
    {
     "name": "stdout",
     "output_type": "stream",
     "text": [
      "Ryu is from Japan\n",
      "Ken is from USA\n",
      "Chun-Li is from China\n",
      "Guile is from USA\n",
      "E. Honda is from Japan\n",
      "Dhalsim is from India\n",
      "Blanka is from Brazil\n",
      "Zangief is from Russia\n"
     ]
    }
   ],
   "source": [
    "from csv import reader\n",
    "\n",
    "with open('fighters.csv') as file:\n",
    "    csv_reader = reader(file)\n",
    "    next(csv_reader)        # this starts from the 2nd line, skipping the header\n",
    "    for fighter in csv_reader:\n",
    "        print(f'{fighter[0]} is from {fighter[1]}')"
   ]
  },
  {
   "cell_type": "code",
   "execution_count": 15,
   "metadata": {},
   "outputs": [
    {
     "name": "stdout",
     "output_type": "stream",
     "text": [
      "[['Name', 'Country', 'Height (in cm)'], ['Ryu', 'Japan', '175'], ['Ken', 'USA', '175'], ['Chun-Li', 'China', '165'], ['Guile', 'USA', '182'], ['E. Honda', 'Japan', '185'], ['Dhalsim', 'India', '176'], ['Blanka', 'Brazil', '192'], ['Zangief', 'Russia', '214']]\n"
     ]
    }
   ],
   "source": [
    "# can make a list of lists\n",
    "from csv import reader\n",
    "\n",
    "with open('fighters.csv') as file:\n",
    "    csv_reader = reader(file)\n",
    "    data = list(csv_reader)\n",
    "    print (data)"
   ]
  },
  {
   "cell_type": "code",
   "execution_count": 4,
   "metadata": {},
   "outputs": [
    {
     "name": "stdout",
     "output_type": "stream",
     "text": [
      "OrderedDict([('Name', 'Ryu'), ('Country', 'Japan'), ('Height (in cm)', '175')])\n",
      "OrderedDict([('Name', 'Ken'), ('Country', 'USA'), ('Height (in cm)', '175')])\n",
      "OrderedDict([('Name', 'Chun-Li'), ('Country', 'China'), ('Height (in cm)', '165')])\n",
      "OrderedDict([('Name', 'Guile'), ('Country', 'USA'), ('Height (in cm)', '182')])\n",
      "OrderedDict([('Name', 'E. Honda'), ('Country', 'Japan'), ('Height (in cm)', '185')])\n",
      "OrderedDict([('Name', 'Dhalsim'), ('Country', 'India'), ('Height (in cm)', '176')])\n",
      "OrderedDict([('Name', 'Blanka'), ('Country', 'Brazil'), ('Height (in cm)', '192')])\n",
      "OrderedDict([('Name', 'Zangief'), ('Country', 'Russia'), ('Height (in cm)', '214')])\n"
     ]
    }
   ],
   "source": [
    "# DictReader - an dictionary with a specific order\n",
    "from csv import DictReader\n",
    "\n",
    "with open('fighters.csv') as file:\n",
    "    csv_reader = DictReader(file)       # This is a iterator\n",
    "    for row in csv_reader:\n",
    "        # each row is an OrderedDict\n",
    "        print(row)"
   ]
  },
  {
   "cell_type": "code",
   "execution_count": 19,
   "metadata": {},
   "outputs": [
    {
     "name": "stdout",
     "output_type": "stream",
     "text": [
      "Ryu\n",
      "Ken\n",
      "Chun-Li\n",
      "Guile\n",
      "E. Honda\n",
      "Dhalsim\n",
      "Blanka\n",
      "Zangief\n"
     ]
    }
   ],
   "source": [
    "# Can print out all of the Names or headers\n",
    "from csv import DictReader\n",
    "\n",
    "with open('fighters.csv') as file:\n",
    "    csv_reader = DictReader(file)\n",
    "    for row in csv_reader:\n",
    "        # each row is an OrderedDict\n",
    "        print(row['Name'])"
   ]
  },
  {
   "cell_type": "code",
   "execution_count": null,
   "metadata": {},
   "outputs": [],
   "source": [
    "# Other Deliminators - don't necessarly have to be ',' can be '|' or others\n",
    "\n",
    "from csv import DictReader\n",
    "\n",
    "with open('example.csv') as file:\n",
    "    csv_reader = reader(file, deliminator='|')  # can specifiy | or other \n",
    "    for row in csv_reader:\n",
    "        print(row)"
   ]
  },
  {
   "cell_type": "markdown",
   "metadata": {},
   "source": [
    "# Writing to CSV Files"
   ]
  },
  {
   "cell_type": "code",
   "execution_count": 21,
   "metadata": {},
   "outputs": [],
   "source": [
    "# writer - creates a writer object for writing to CSV\n",
    "# writerow - method on a writer to write a row to the CSV"
   ]
  },
  {
   "cell_type": "code",
   "execution_count": 23,
   "metadata": {},
   "outputs": [],
   "source": [
    "from csv import writer\n",
    "\n",
    "with open('cats.csv', 'w') as file:\n",
    "    csv_writer = writer(file)\n",
    "    csv_writer.writerow(['Name', 'Age'])\n",
    "    csv_writer.writerow(['Blue', '3'])\n",
    "    csv_writer.writerow(['Kitty', '1'])"
   ]
  },
  {
   "cell_type": "code",
   "execution_count": 26,
   "metadata": {},
   "outputs": [
    {
     "name": "stdout",
     "output_type": "stream",
     "text": [
      "['Name', 'Age']\n",
      "[]\n",
      "['Blue', '3']\n",
      "[]\n",
      "['Kitty', '1']\n",
      "[]\n"
     ]
    }
   ],
   "source": [
    "with open('cats.csv', 'r') as file:\n",
    "    csv_reader = reader(file)\n",
    "    for row in csv_reader:\n",
    "        print (row)"
   ]
  },
  {
   "cell_type": "code",
   "execution_count": 33,
   "metadata": {},
   "outputs": [
    {
     "name": "stdout",
     "output_type": "stream",
     "text": [
      "['NAME', 'COUNTRY', 'HEIGHT (IN CM)']\n",
      "['RYU', 'JAPAN', '175']\n",
      "['KEN', 'USA', '175']\n",
      "['CHUN-LI', 'CHINA', '165']\n",
      "['GUILE', 'USA', '182']\n",
      "['E. HONDA', 'JAPAN', '185']\n",
      "['DHALSIM', 'INDIA', '176']\n",
      "['BLANKA', 'BRAZIL', '192']\n",
      "['ZANGIEF', 'RUSSIA', '214']\n"
     ]
    }
   ],
   "source": [
    "# capitalize and write to a new file\n",
    "from csv import reader, writer\n",
    "\n",
    "with open('fighters.csv') as file:\n",
    "    csv_reader = reader(file)\n",
    "    fighters = [[s.upper() for s in row] for row in csv_reader]\n",
    "    for row in fighters:\n",
    "        print(row)\n",
    "        \n",
    "with open('screaming_fighters.csv', 'w') as file:\n",
    "    csv_writer = writer(file)\n",
    "    for fighter in fighters:\n",
    "        csv_writer.writerow(fighter)"
   ]
  },
  {
   "cell_type": "code",
   "execution_count": 34,
   "metadata": {},
   "outputs": [],
   "source": [
    "# Writing to CSV using Dictionaries\n",
    "# DictWriter - creates a writer object for writing using dictionaries\n",
    "# fieldnames - kwarg for the DictWriter specifying headers\n",
    "# writeheader - method on a writer to write header row\n",
    "# writerow - method on a writer to write a row based on a dictionary"
   ]
  },
  {
   "cell_type": "code",
   "execution_count": 36,
   "metadata": {},
   "outputs": [],
   "source": [
    "from csv import DictWriter\n",
    "\n",
    "with open('cats.csv', 'w') as file:\n",
    "    headers = ['Name', 'Breed', 'Age']\n",
    "    csv_writer = DictWriter(file, fieldnames = headers)\n",
    "    csv_writer.writeheader()\n",
    "    csv_writer.writerow({\n",
    "        'Name': 'Garfield',\n",
    "        'Breed': 'Orange Tabby',\n",
    "        'Age': 10\n",
    "    })"
   ]
  },
  {
   "cell_type": "code",
   "execution_count": 43,
   "metadata": {},
   "outputs": [],
   "source": [
    "# Convert cm to inches in the fighters.csv file and write to new file\n",
    "def cm_to_in(cm):\n",
    "    return float(cm) * 0.393701"
   ]
  },
  {
   "cell_type": "code",
   "execution_count": 48,
   "metadata": {},
   "outputs": [],
   "source": [
    "from csv import DictWriter, DictReader\n",
    "\n",
    "with open('fighters.csv') as file:\n",
    "    csv_reader = DictReader(file)\n",
    "    fighters = list(csv_reader)\n",
    "\n",
    "with open('inches_fighters.csv', 'w') as file:\n",
    "    headers = ('Name', 'Country', 'Height')\n",
    "    csv_writer = DictWriter(file, fieldnames = headers)\n",
    "    csv_writer.writeheader()\n",
    "    for f in fighters:\n",
    "        csv_writer.writerow({\n",
    "            'Name': f['Name'],\n",
    "            'Country': f['Country'],\n",
    "            'Height': cm_to_in(f['Height (in cm)'])\n",
    "        })"
   ]
  },
  {
   "cell_type": "code",
   "execution_count": 52,
   "metadata": {},
   "outputs": [
    {
     "name": "stdout",
     "output_type": "stream",
     "text": [
      "OrderedDict([('Name', 'Ryu'), ('Country', 'Japan'), ('Height', '68.897675')])\n",
      "OrderedDict([('Name', 'Ken'), ('Country', 'USA'), ('Height', '68.897675')])\n",
      "OrderedDict([('Name', 'Chun-Li'), ('Country', 'China'), ('Height', '64.960665')])\n",
      "OrderedDict([('Name', 'Guile'), ('Country', 'USA'), ('Height', '71.653582')])\n",
      "OrderedDict([('Name', 'E. Honda'), ('Country', 'Japan'), ('Height', '72.83468500000001')])\n",
      "OrderedDict([('Name', 'Dhalsim'), ('Country', 'India'), ('Height', '69.291376')])\n",
      "OrderedDict([('Name', 'Blanka'), ('Country', 'Brazil'), ('Height', '75.590592')])\n",
      "OrderedDict([('Name', 'Zangief'), ('Country', 'Russia'), ('Height', '84.252014')])\n"
     ]
    }
   ],
   "source": [
    "with open('inches_fighters.csv', 'r') as file:\n",
    "    my_file = DictReader(file)\n",
    "    for row in my_file:\n",
    "        print(row)"
   ]
  },
  {
   "cell_type": "code",
   "execution_count": 53,
   "metadata": {},
   "outputs": [],
   "source": [
    "# add_user function takes in a first name and a last name and adds a new\n",
    "# user to the users.csv file"
   ]
  },
  {
   "cell_type": "code",
   "execution_count": 58,
   "metadata": {},
   "outputs": [],
   "source": [
    "from csv import reader, writer\n",
    "\n",
    "def add_user(first, last):\n",
    "    \n",
    "    with open('users.csv', 'a') as file:\n",
    "        csv_writer = writer(file)\n",
    "        csv_writer.writerow([first, last])"
   ]
  },
  {
   "cell_type": "code",
   "execution_count": 59,
   "metadata": {},
   "outputs": [],
   "source": [
    "add_user('Tim', 'Frahme')"
   ]
  },
  {
   "cell_type": "code",
   "execution_count": 60,
   "metadata": {},
   "outputs": [
    {
     "name": "stdout",
     "output_type": "stream",
     "text": [
      "['First Name', 'Last Name']\n",
      "['Colt', 'Steele']\n",
      "['Tim', 'Frahme']\n",
      "[]\n"
     ]
    }
   ],
   "source": [
    "with open('users.csv', 'r') as file:\n",
    "    csv_reader = reader(file)\n",
    "    for row in csv_reader:\n",
    "        print (row)"
   ]
  },
  {
   "cell_type": "code",
   "execution_count": 61,
   "metadata": {},
   "outputs": [],
   "source": [
    "# print_users prints out all of the first and last names in the users.csv file"
   ]
  },
  {
   "cell_type": "code",
   "execution_count": 88,
   "metadata": {},
   "outputs": [],
   "source": [
    "from csv import reader, writer\n",
    "\n",
    "def print_users():\n",
    "    \n",
    "    with open('users.csv', 'r') as file:\n",
    "        my_reader = reader(file)\n",
    "        for row in my_reader:\n",
    "            print('{} {}'.format(row[0], row[1]))"
   ]
  },
  {
   "cell_type": "code",
   "execution_count": 89,
   "metadata": {},
   "outputs": [
    {
     "name": "stdout",
     "output_type": "stream",
     "text": [
      "First Name Last Name\n",
      "Colt Steele\n",
      "Tim Frahme\n"
     ]
    }
   ],
   "source": [
    "print_users()"
   ]
  },
  {
   "cell_type": "code",
   "execution_count": 90,
   "metadata": {},
   "outputs": [],
   "source": [
    "# find_user takes in first name and a last name and searches for a user with\n",
    "# that name.  If the user is found, it returns the index where the user is \n",
    "# found.  Otherwise it returns a message stating that the user wasn't found"
   ]
  },
  {
   "cell_type": "code",
   "execution_count": 113,
   "metadata": {},
   "outputs": [],
   "source": [
    "from csv import reader, writer\n",
    "\n",
    "def find_user(first, last):\n",
    "    \n",
    "    with open('users.csv', 'r') as file:\n",
    "        my_reader = reader(file)\n",
    "        index = 0 \n",
    "        for row in my_reader:\n",
    "            if (first in row) and (last in row):\n",
    "                return index\n",
    "            else:\n",
    "                index += 1\n",
    "        return ('{} {} not found.'.format(first, last))"
   ]
  },
  {
   "cell_type": "code",
   "execution_count": 114,
   "metadata": {},
   "outputs": [
    {
     "data": {
      "text/plain": [
       "1"
      ]
     },
     "execution_count": 114,
     "metadata": {},
     "output_type": "execute_result"
    }
   ],
   "source": [
    "find_user('Colt', 'Steele')"
   ]
  },
  {
   "cell_type": "code",
   "execution_count": 115,
   "metadata": {},
   "outputs": [
    {
     "data": {
      "text/plain": [
       "'Bruce Banner not found.'"
      ]
     },
     "execution_count": 115,
     "metadata": {},
     "output_type": "execute_result"
    }
   ],
   "source": [
    "find_user('Bruce', 'Banner')"
   ]
  },
  {
   "cell_type": "markdown",
   "metadata": {},
   "source": [
    "# Pickling"
   ]
  },
  {
   "cell_type": "code",
   "execution_count": 117,
   "metadata": {},
   "outputs": [],
   "source": [
    "import pickle\n",
    "\n",
    "class Animal:\n",
    "    def __init__(self, name, species):\n",
    "        self.name = name\n",
    "        self.species = species\n",
    "        \n",
    "    def __repr__(self):\n",
    "        return (f'{self.name} is a {self.species}')\n",
    "    \n",
    "    def make_sound(self, sound):\n",
    "        print (f'this animal says {sound}')\n",
    "\n",
    "class Cat(Animal):\n",
    "    def __init__(self, name, breed, toy):\n",
    "        super().__init__(name, species= 'Cat')\n",
    "        self.breed = breed\n",
    "        self.toy = toy\n",
    "    \n",
    "    def play(self):\n",
    "        print(f'{self.name} plays with {self.toy}')"
   ]
  },
  {
   "cell_type": "code",
   "execution_count": 119,
   "metadata": {},
   "outputs": [],
   "source": [
    "blue = Cat('Blue', 'Scottish Fold', 'String')"
   ]
  },
  {
   "cell_type": "code",
   "execution_count": 120,
   "metadata": {},
   "outputs": [],
   "source": [
    "with open('pets.pickle', 'wb') as file: # need to add be wb since it is binary\n",
    "    pickle.dump(blue, file)"
   ]
  },
  {
   "cell_type": "code",
   "execution_count": 123,
   "metadata": {},
   "outputs": [
    {
     "name": "stdout",
     "output_type": "stream",
     "text": [
      "Blue is a Cat\n",
      "Blue plays with String\n",
      "None\n"
     ]
    }
   ],
   "source": [
    "with open('pets.pickle', 'rb') as file:\n",
    "    zombie_blue = pickle.load(file)\n",
    "    print(zombie_blue)\n",
    "    print(zombie_blue.play())"
   ]
  },
  {
   "cell_type": "code",
   "execution_count": null,
   "metadata": {},
   "outputs": [],
   "source": []
  }
 ],
 "metadata": {
  "kernelspec": {
   "display_name": "Python 3",
   "language": "python",
   "name": "python3"
  },
  "language_info": {
   "codemirror_mode": {
    "name": "ipython",
    "version": 3
   },
   "file_extension": ".py",
   "mimetype": "text/x-python",
   "name": "python",
   "nbconvert_exporter": "python",
   "pygments_lexer": "ipython3",
   "version": "3.7.0"
  }
 },
 "nbformat": 4,
 "nbformat_minor": 2
}
