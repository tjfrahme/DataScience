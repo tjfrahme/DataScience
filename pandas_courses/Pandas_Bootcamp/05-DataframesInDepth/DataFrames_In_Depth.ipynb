{
 "cells": [
  {
   "cell_type": "code",
   "execution_count": 1,
   "metadata": {
    "colab": {},
    "colab_type": "code",
    "id": "KCVwkteGFvwL"
   },
   "outputs": [],
   "source": [
    "import numpy as np\n",
    "import pandas as pd"
   ]
  },
  {
   "cell_type": "code",
   "execution_count": 2,
   "metadata": {
    "colab": {
     "base_uri": "https://localhost:8080/",
     "height": 34
    },
    "colab_type": "code",
    "id": "uZql6sT6Nokn",
    "outputId": "0200bdb0-6b14-4dc0-b307-189186a4e18e"
   },
   "outputs": [
    {
     "data": {
      "text/plain": [
       "'1.0.3'"
      ]
     },
     "execution_count": 2,
     "metadata": {
      "tags": []
     },
     "output_type": "execute_result"
    }
   ],
   "source": [
    "pd.__version__"
   ]
  },
  {
   "cell_type": "markdown",
   "metadata": {
    "colab_type": "text",
    "id": "kNS1MVY4UZGb"
   },
   "source": [
    "#### Introducing A New Dataset"
   ]
  },
  {
   "cell_type": "code",
   "execution_count": 0,
   "metadata": {
    "colab": {},
    "colab_type": "code",
    "id": "VZOwldYJUb5A"
   },
   "outputs": [],
   "source": [
    "\n",
    "# NEW DATA!\n",
    "# - English Premier League soccer players\n",
    "# - 400+ players x 17 attributes\n"
   ]
  },
  {
   "cell_type": "code",
   "execution_count": 3,
   "metadata": {
    "colab": {},
    "colab_type": "code",
    "id": "l6EFMSXpdwpK"
   },
   "outputs": [],
   "source": [
    "data_url = 'https://andybek.com/pandas-soccer' # as always, this will be attached too!"
   ]
  },
  {
   "cell_type": "code",
   "execution_count": 4,
   "metadata": {
    "colab": {},
    "colab_type": "code",
    "id": "XaTqc2b6gbrV"
   },
   "outputs": [],
   "source": [
    "players = pd.read_csv(data_url)"
   ]
  },
  {
   "cell_type": "code",
   "execution_count": 5,
   "metadata": {
    "colab": {
     "base_uri": "https://localhost:8080/",
     "height": 0
    },
    "colab_type": "code",
    "id": "Ye-zarAqhJzu",
    "outputId": "e9ceda71-2ded-40e0-d11e-a267bc733623"
   },
   "outputs": [
    {
     "name": "stdout",
     "output_type": "stream",
     "text": [
      "<class 'pandas.core.frame.DataFrame'>\n",
      "RangeIndex: 465 entries, 0 to 464\n",
      "Columns: 17 entries, name to new_signing\n",
      "dtypes: float64(2), int64(10), object(5)\n",
      "memory usage: 190.7 KB\n"
     ]
    }
   ],
   "source": [
    "players.info(verbose=False, memory_usage='deep')"
   ]
  },
  {
   "cell_type": "code",
   "execution_count": 7,
   "metadata": {
    "colab": {
     "base_uri": "https://localhost:8080/",
     "height": 0
    },
    "colab_type": "code",
    "id": "1TYqejtXhVlz",
    "outputId": "480706dd-b4fc-424c-cbfb-9a8269611329"
   },
   "outputs": [
    {
     "data": {
      "text/plain": [
       "int64      10\n",
       "object      5\n",
       "float64     2\n",
       "dtype: int64"
      ]
     },
     "execution_count": 7,
     "metadata": {},
     "output_type": "execute_result"
    }
   ],
   "source": [
    "players.dtypes.value_counts()"
   ]
  },
  {
   "cell_type": "code",
   "execution_count": 6,
   "metadata": {
    "colab": {
     "base_uri": "https://localhost:8080/",
     "height": 0
    },
    "colab_type": "code",
    "id": "9V5zTc-Khd4y",
    "outputId": "001db6a5-117c-4703-ab57-d040e738b25c"
   },
   "outputs": [
    {
     "data": {
      "text/html": [
       "<div>\n",
       "<style scoped>\n",
       "    .dataframe tbody tr th:only-of-type {\n",
       "        vertical-align: middle;\n",
       "    }\n",
       "\n",
       "    .dataframe tbody tr th {\n",
       "        vertical-align: top;\n",
       "    }\n",
       "\n",
       "    .dataframe thead th {\n",
       "        text-align: right;\n",
       "    }\n",
       "</style>\n",
       "<table border=\"1\" class=\"dataframe\">\n",
       "  <thead>\n",
       "    <tr style=\"text-align: right;\">\n",
       "      <th></th>\n",
       "      <th>name</th>\n",
       "      <th>club</th>\n",
       "      <th>age</th>\n",
       "      <th>position</th>\n",
       "      <th>position_cat</th>\n",
       "      <th>market_value</th>\n",
       "      <th>page_views</th>\n",
       "      <th>fpl_value</th>\n",
       "      <th>fpl_sel</th>\n",
       "      <th>fpl_points</th>\n",
       "      <th>region</th>\n",
       "      <th>nationality</th>\n",
       "      <th>new_foreign</th>\n",
       "      <th>age_cat</th>\n",
       "      <th>club_id</th>\n",
       "      <th>big_club</th>\n",
       "      <th>new_signing</th>\n",
       "    </tr>\n",
       "  </thead>\n",
       "  <tbody>\n",
       "    <tr>\n",
       "      <th>0</th>\n",
       "      <td>Alexis Sanchez</td>\n",
       "      <td>Arsenal</td>\n",
       "      <td>28</td>\n",
       "      <td>LW</td>\n",
       "      <td>1</td>\n",
       "      <td>65.0</td>\n",
       "      <td>4329</td>\n",
       "      <td>12.0</td>\n",
       "      <td>17.10%</td>\n",
       "      <td>264</td>\n",
       "      <td>3</td>\n",
       "      <td>Chile</td>\n",
       "      <td>0</td>\n",
       "      <td>4</td>\n",
       "      <td>1</td>\n",
       "      <td>1</td>\n",
       "      <td>0</td>\n",
       "    </tr>\n",
       "    <tr>\n",
       "      <th>1</th>\n",
       "      <td>Mesut Ozil</td>\n",
       "      <td>Arsenal</td>\n",
       "      <td>28</td>\n",
       "      <td>AM</td>\n",
       "      <td>1</td>\n",
       "      <td>50.0</td>\n",
       "      <td>4395</td>\n",
       "      <td>9.5</td>\n",
       "      <td>5.60%</td>\n",
       "      <td>167</td>\n",
       "      <td>2</td>\n",
       "      <td>Germany</td>\n",
       "      <td>0</td>\n",
       "      <td>4</td>\n",
       "      <td>1</td>\n",
       "      <td>1</td>\n",
       "      <td>0</td>\n",
       "    </tr>\n",
       "    <tr>\n",
       "      <th>2</th>\n",
       "      <td>Petr Cech</td>\n",
       "      <td>Arsenal</td>\n",
       "      <td>35</td>\n",
       "      <td>GK</td>\n",
       "      <td>4</td>\n",
       "      <td>7.0</td>\n",
       "      <td>1529</td>\n",
       "      <td>5.5</td>\n",
       "      <td>5.90%</td>\n",
       "      <td>134</td>\n",
       "      <td>2</td>\n",
       "      <td>Czech Republic</td>\n",
       "      <td>0</td>\n",
       "      <td>6</td>\n",
       "      <td>1</td>\n",
       "      <td>1</td>\n",
       "      <td>0</td>\n",
       "    </tr>\n",
       "    <tr>\n",
       "      <th>3</th>\n",
       "      <td>Theo Walcott</td>\n",
       "      <td>Arsenal</td>\n",
       "      <td>28</td>\n",
       "      <td>RW</td>\n",
       "      <td>1</td>\n",
       "      <td>20.0</td>\n",
       "      <td>2393</td>\n",
       "      <td>7.5</td>\n",
       "      <td>1.50%</td>\n",
       "      <td>122</td>\n",
       "      <td>1</td>\n",
       "      <td>England</td>\n",
       "      <td>0</td>\n",
       "      <td>4</td>\n",
       "      <td>1</td>\n",
       "      <td>1</td>\n",
       "      <td>0</td>\n",
       "    </tr>\n",
       "    <tr>\n",
       "      <th>4</th>\n",
       "      <td>Laurent Koscielny</td>\n",
       "      <td>Arsenal</td>\n",
       "      <td>31</td>\n",
       "      <td>CB</td>\n",
       "      <td>3</td>\n",
       "      <td>22.0</td>\n",
       "      <td>912</td>\n",
       "      <td>6.0</td>\n",
       "      <td>0.70%</td>\n",
       "      <td>121</td>\n",
       "      <td>2</td>\n",
       "      <td>France</td>\n",
       "      <td>0</td>\n",
       "      <td>4</td>\n",
       "      <td>1</td>\n",
       "      <td>1</td>\n",
       "      <td>0</td>\n",
       "    </tr>\n",
       "  </tbody>\n",
       "</table>\n",
       "</div>"
      ],
      "text/plain": [
       "                name     club  age position  position_cat  market_value  \\\n",
       "0     Alexis Sanchez  Arsenal   28       LW             1          65.0   \n",
       "1         Mesut Ozil  Arsenal   28       AM             1          50.0   \n",
       "2          Petr Cech  Arsenal   35       GK             4           7.0   \n",
       "3       Theo Walcott  Arsenal   28       RW             1          20.0   \n",
       "4  Laurent Koscielny  Arsenal   31       CB             3          22.0   \n",
       "\n",
       "   page_views  fpl_value fpl_sel  fpl_points  region     nationality  \\\n",
       "0        4329       12.0  17.10%         264       3           Chile   \n",
       "1        4395        9.5   5.60%         167       2         Germany   \n",
       "2        1529        5.5   5.90%         134       2  Czech Republic   \n",
       "3        2393        7.5   1.50%         122       1         England   \n",
       "4         912        6.0   0.70%         121       2          France   \n",
       "\n",
       "   new_foreign  age_cat  club_id  big_club  new_signing  \n",
       "0            0        4        1         1            0  \n",
       "1            0        4        1         1            0  \n",
       "2            0        6        1         1            0  \n",
       "3            0        4        1         1            0  \n",
       "4            0        4        1         1            0  "
      ]
     },
     "execution_count": 6,
     "metadata": {},
     "output_type": "execute_result"
    }
   ],
   "source": [
    "players.head()"
   ]
  },
  {
   "cell_type": "markdown",
   "metadata": {
    "colab_type": "text",
    "id": "A-wHK16ahqY2"
   },
   "source": [
    "#### Quick Review: Indexing With Boolean Masks"
   ]
  },
  {
   "cell_type": "code",
   "execution_count": 0,
   "metadata": {
    "colab": {},
    "colab_type": "code",
    "id": "unqD_ORWObLt"
   },
   "outputs": [],
   "source": [
    "# boolean indexing:\n",
    "#   step 1: generate sequence of booleans\n",
    "#   step 2: use boolean sequence in [] or .loc[]"
   ]
  },
  {
   "cell_type": "code",
   "execution_count": 9,
   "metadata": {
    "colab": {
     "base_uri": "https://localhost:8080/",
     "height": 0
    },
    "colab_type": "code",
    "id": "2ct5nVbZP7dP",
    "outputId": "74149e6d-2364-4ce1-a058-53465aad0e2c"
   },
   "outputs": [
    {
     "data": {
      "text/html": [
       "<div>\n",
       "<style scoped>\n",
       "    .dataframe tbody tr th:only-of-type {\n",
       "        vertical-align: middle;\n",
       "    }\n",
       "\n",
       "    .dataframe tbody tr th {\n",
       "        vertical-align: top;\n",
       "    }\n",
       "\n",
       "    .dataframe thead th {\n",
       "        text-align: right;\n",
       "    }\n",
       "</style>\n",
       "<table border=\"1\" class=\"dataframe\">\n",
       "  <thead>\n",
       "    <tr style=\"text-align: right;\">\n",
       "      <th></th>\n",
       "      <th>name</th>\n",
       "      <th>club</th>\n",
       "      <th>age</th>\n",
       "      <th>position</th>\n",
       "      <th>position_cat</th>\n",
       "      <th>market_value</th>\n",
       "      <th>page_views</th>\n",
       "      <th>fpl_value</th>\n",
       "      <th>fpl_sel</th>\n",
       "      <th>fpl_points</th>\n",
       "      <th>region</th>\n",
       "      <th>nationality</th>\n",
       "      <th>new_foreign</th>\n",
       "      <th>age_cat</th>\n",
       "      <th>club_id</th>\n",
       "      <th>big_club</th>\n",
       "      <th>new_signing</th>\n",
       "    </tr>\n",
       "  </thead>\n",
       "  <tbody>\n",
       "    <tr>\n",
       "      <th>0</th>\n",
       "      <td>Alexis Sanchez</td>\n",
       "      <td>Arsenal</td>\n",
       "      <td>28</td>\n",
       "      <td>LW</td>\n",
       "      <td>1</td>\n",
       "      <td>65.0</td>\n",
       "      <td>4329</td>\n",
       "      <td>12.0</td>\n",
       "      <td>17.10%</td>\n",
       "      <td>264</td>\n",
       "      <td>3</td>\n",
       "      <td>Chile</td>\n",
       "      <td>0</td>\n",
       "      <td>4</td>\n",
       "      <td>1</td>\n",
       "      <td>1</td>\n",
       "      <td>0</td>\n",
       "    </tr>\n",
       "    <tr>\n",
       "      <th>1</th>\n",
       "      <td>Mesut Ozil</td>\n",
       "      <td>Arsenal</td>\n",
       "      <td>28</td>\n",
       "      <td>AM</td>\n",
       "      <td>1</td>\n",
       "      <td>50.0</td>\n",
       "      <td>4395</td>\n",
       "      <td>9.5</td>\n",
       "      <td>5.60%</td>\n",
       "      <td>167</td>\n",
       "      <td>2</td>\n",
       "      <td>Germany</td>\n",
       "      <td>0</td>\n",
       "      <td>4</td>\n",
       "      <td>1</td>\n",
       "      <td>1</td>\n",
       "      <td>0</td>\n",
       "    </tr>\n",
       "    <tr>\n",
       "      <th>2</th>\n",
       "      <td>Petr Cech</td>\n",
       "      <td>Arsenal</td>\n",
       "      <td>35</td>\n",
       "      <td>GK</td>\n",
       "      <td>4</td>\n",
       "      <td>7.0</td>\n",
       "      <td>1529</td>\n",
       "      <td>5.5</td>\n",
       "      <td>5.90%</td>\n",
       "      <td>134</td>\n",
       "      <td>2</td>\n",
       "      <td>Czech Republic</td>\n",
       "      <td>0</td>\n",
       "      <td>6</td>\n",
       "      <td>1</td>\n",
       "      <td>1</td>\n",
       "      <td>0</td>\n",
       "    </tr>\n",
       "    <tr>\n",
       "      <th>3</th>\n",
       "      <td>Theo Walcott</td>\n",
       "      <td>Arsenal</td>\n",
       "      <td>28</td>\n",
       "      <td>RW</td>\n",
       "      <td>1</td>\n",
       "      <td>20.0</td>\n",
       "      <td>2393</td>\n",
       "      <td>7.5</td>\n",
       "      <td>1.50%</td>\n",
       "      <td>122</td>\n",
       "      <td>1</td>\n",
       "      <td>England</td>\n",
       "      <td>0</td>\n",
       "      <td>4</td>\n",
       "      <td>1</td>\n",
       "      <td>1</td>\n",
       "      <td>0</td>\n",
       "    </tr>\n",
       "    <tr>\n",
       "      <th>4</th>\n",
       "      <td>Laurent Koscielny</td>\n",
       "      <td>Arsenal</td>\n",
       "      <td>31</td>\n",
       "      <td>CB</td>\n",
       "      <td>3</td>\n",
       "      <td>22.0</td>\n",
       "      <td>912</td>\n",
       "      <td>6.0</td>\n",
       "      <td>0.70%</td>\n",
       "      <td>121</td>\n",
       "      <td>2</td>\n",
       "      <td>France</td>\n",
       "      <td>0</td>\n",
       "      <td>4</td>\n",
       "      <td>1</td>\n",
       "      <td>1</td>\n",
       "      <td>0</td>\n",
       "    </tr>\n",
       "  </tbody>\n",
       "</table>\n",
       "</div>"
      ],
      "text/plain": [
       "                name     club  age  ... club_id  big_club  new_signing\n",
       "0     Alexis Sanchez  Arsenal   28  ...       1         1            0\n",
       "1         Mesut Ozil  Arsenal   28  ...       1         1            0\n",
       "2          Petr Cech  Arsenal   35  ...       1         1            0\n",
       "3       Theo Walcott  Arsenal   28  ...       1         1            0\n",
       "4  Laurent Koscielny  Arsenal   31  ...       1         1            0\n",
       "\n",
       "[5 rows x 17 columns]"
      ]
     },
     "execution_count": 9,
     "metadata": {
      "tags": []
     },
     "output_type": "execute_result"
    }
   ],
   "source": [
    "players.head()"
   ]
  },
  {
   "cell_type": "code",
   "execution_count": 0,
   "metadata": {
    "colab": {},
    "colab_type": "code",
    "id": "3Am1XAJSQbHR"
   },
   "outputs": [],
   "source": [
    "# Q: what are the players that have a market value exceeding 40M?"
   ]
  },
  {
   "cell_type": "code",
   "execution_count": 11,
   "metadata": {
    "colab": {
     "base_uri": "https://localhost:8080/",
     "height": 0
    },
    "colab_type": "code",
    "id": "CsKmFq3vQh1p",
    "outputId": "e0e04320-0ec8-458c-9b55-b4f072264565"
   },
   "outputs": [
    {
     "data": {
      "text/plain": [
       "0       True\n",
       "1       True\n",
       "2      False\n",
       "3      False\n",
       "4      False\n",
       "       ...  \n",
       "460    False\n",
       "461    False\n",
       "462    False\n",
       "463    False\n",
       "464    False\n",
       "Name: market_value, Length: 465, dtype: bool"
      ]
     },
     "execution_count": 11,
     "metadata": {
      "tags": []
     },
     "output_type": "execute_result"
    }
   ],
   "source": [
    "players.market_value > 40"
   ]
  },
  {
   "cell_type": "code",
   "execution_count": 12,
   "metadata": {
    "colab": {
     "base_uri": "https://localhost:8080/",
     "height": 0
    },
    "colab_type": "code",
    "id": "1nV1GyR-QmB2",
    "outputId": "bc097c30-88e8-452e-e183-138d7d6f0388"
   },
   "outputs": [
    {
     "data": {
      "text/html": [
       "<div>\n",
       "<style scoped>\n",
       "    .dataframe tbody tr th:only-of-type {\n",
       "        vertical-align: middle;\n",
       "    }\n",
       "\n",
       "    .dataframe tbody tr th {\n",
       "        vertical-align: top;\n",
       "    }\n",
       "\n",
       "    .dataframe thead th {\n",
       "        text-align: right;\n",
       "    }\n",
       "</style>\n",
       "<table border=\"1\" class=\"dataframe\">\n",
       "  <thead>\n",
       "    <tr style=\"text-align: right;\">\n",
       "      <th></th>\n",
       "      <th>name</th>\n",
       "      <th>club</th>\n",
       "      <th>age</th>\n",
       "      <th>position</th>\n",
       "      <th>position_cat</th>\n",
       "      <th>market_value</th>\n",
       "      <th>page_views</th>\n",
       "      <th>fpl_value</th>\n",
       "      <th>fpl_sel</th>\n",
       "      <th>fpl_points</th>\n",
       "      <th>region</th>\n",
       "      <th>nationality</th>\n",
       "      <th>new_foreign</th>\n",
       "      <th>age_cat</th>\n",
       "      <th>club_id</th>\n",
       "      <th>big_club</th>\n",
       "      <th>new_signing</th>\n",
       "    </tr>\n",
       "  </thead>\n",
       "  <tbody>\n",
       "    <tr>\n",
       "      <th>0</th>\n",
       "      <td>Alexis Sanchez</td>\n",
       "      <td>Arsenal</td>\n",
       "      <td>28</td>\n",
       "      <td>LW</td>\n",
       "      <td>1</td>\n",
       "      <td>65.0</td>\n",
       "      <td>4329</td>\n",
       "      <td>12.0</td>\n",
       "      <td>17.10%</td>\n",
       "      <td>264</td>\n",
       "      <td>3</td>\n",
       "      <td>Chile</td>\n",
       "      <td>0</td>\n",
       "      <td>4</td>\n",
       "      <td>1</td>\n",
       "      <td>1</td>\n",
       "      <td>0</td>\n",
       "    </tr>\n",
       "    <tr>\n",
       "      <th>1</th>\n",
       "      <td>Mesut Ozil</td>\n",
       "      <td>Arsenal</td>\n",
       "      <td>28</td>\n",
       "      <td>AM</td>\n",
       "      <td>1</td>\n",
       "      <td>50.0</td>\n",
       "      <td>4395</td>\n",
       "      <td>9.5</td>\n",
       "      <td>5.60%</td>\n",
       "      <td>167</td>\n",
       "      <td>2</td>\n",
       "      <td>Germany</td>\n",
       "      <td>0</td>\n",
       "      <td>4</td>\n",
       "      <td>1</td>\n",
       "      <td>1</td>\n",
       "      <td>0</td>\n",
       "    </tr>\n",
       "    <tr>\n",
       "      <th>96</th>\n",
       "      <td>Eden Hazard</td>\n",
       "      <td>Chelsea</td>\n",
       "      <td>26</td>\n",
       "      <td>LW</td>\n",
       "      <td>1</td>\n",
       "      <td>75.0</td>\n",
       "      <td>4220</td>\n",
       "      <td>10.5</td>\n",
       "      <td>2.30%</td>\n",
       "      <td>224</td>\n",
       "      <td>2</td>\n",
       "      <td>Belgium</td>\n",
       "      <td>0</td>\n",
       "      <td>3</td>\n",
       "      <td>5</td>\n",
       "      <td>1</td>\n",
       "      <td>0</td>\n",
       "    </tr>\n",
       "    <tr>\n",
       "      <th>97</th>\n",
       "      <td>Diego Costa</td>\n",
       "      <td>Chelsea</td>\n",
       "      <td>28</td>\n",
       "      <td>CF</td>\n",
       "      <td>1</td>\n",
       "      <td>50.0</td>\n",
       "      <td>4454</td>\n",
       "      <td>10.0</td>\n",
       "      <td>3.00%</td>\n",
       "      <td>196</td>\n",
       "      <td>2</td>\n",
       "      <td>Spain</td>\n",
       "      <td>0</td>\n",
       "      <td>4</td>\n",
       "      <td>5</td>\n",
       "      <td>1</td>\n",
       "      <td>0</td>\n",
       "    </tr>\n",
       "    <tr>\n",
       "      <th>108</th>\n",
       "      <td>N%27Golo Kante</td>\n",
       "      <td>Chelsea</td>\n",
       "      <td>26</td>\n",
       "      <td>DM</td>\n",
       "      <td>2</td>\n",
       "      <td>50.0</td>\n",
       "      <td>4042</td>\n",
       "      <td>5.0</td>\n",
       "      <td>13.80%</td>\n",
       "      <td>83</td>\n",
       "      <td>2</td>\n",
       "      <td>France</td>\n",
       "      <td>0</td>\n",
       "      <td>3</td>\n",
       "      <td>5</td>\n",
       "      <td>1</td>\n",
       "      <td>1</td>\n",
       "    </tr>\n",
       "    <tr>\n",
       "      <th>218</th>\n",
       "      <td>Philippe Coutinho</td>\n",
       "      <td>Liverpool</td>\n",
       "      <td>25</td>\n",
       "      <td>AM</td>\n",
       "      <td>1</td>\n",
       "      <td>45.0</td>\n",
       "      <td>2958</td>\n",
       "      <td>9.0</td>\n",
       "      <td>30.80%</td>\n",
       "      <td>171</td>\n",
       "      <td>3</td>\n",
       "      <td>Brazil</td>\n",
       "      <td>0</td>\n",
       "      <td>3</td>\n",
       "      <td>10</td>\n",
       "      <td>1</td>\n",
       "      <td>0</td>\n",
       "    </tr>\n",
       "    <tr>\n",
       "      <th>244</th>\n",
       "      <td>Kevin De Bruyne</td>\n",
       "      <td>Manchester+City</td>\n",
       "      <td>26</td>\n",
       "      <td>AM</td>\n",
       "      <td>1</td>\n",
       "      <td>65.0</td>\n",
       "      <td>2252</td>\n",
       "      <td>10.0</td>\n",
       "      <td>17.50%</td>\n",
       "      <td>199</td>\n",
       "      <td>2</td>\n",
       "      <td>Belgium</td>\n",
       "      <td>0</td>\n",
       "      <td>3</td>\n",
       "      <td>11</td>\n",
       "      <td>1</td>\n",
       "      <td>0</td>\n",
       "    </tr>\n",
       "    <tr>\n",
       "      <th>245</th>\n",
       "      <td>Sergio Aguero</td>\n",
       "      <td>Manchester+City</td>\n",
       "      <td>29</td>\n",
       "      <td>CF</td>\n",
       "      <td>1</td>\n",
       "      <td>65.0</td>\n",
       "      <td>4046</td>\n",
       "      <td>11.5</td>\n",
       "      <td>9.70%</td>\n",
       "      <td>175</td>\n",
       "      <td>3</td>\n",
       "      <td>Argentina</td>\n",
       "      <td>0</td>\n",
       "      <td>4</td>\n",
       "      <td>11</td>\n",
       "      <td>1</td>\n",
       "      <td>0</td>\n",
       "    </tr>\n",
       "    <tr>\n",
       "      <th>246</th>\n",
       "      <td>Raheem Sterling</td>\n",
       "      <td>Manchester+City</td>\n",
       "      <td>22</td>\n",
       "      <td>LW</td>\n",
       "      <td>1</td>\n",
       "      <td>45.0</td>\n",
       "      <td>2074</td>\n",
       "      <td>8.0</td>\n",
       "      <td>3.80%</td>\n",
       "      <td>149</td>\n",
       "      <td>1</td>\n",
       "      <td>England</td>\n",
       "      <td>0</td>\n",
       "      <td>2</td>\n",
       "      <td>11</td>\n",
       "      <td>1</td>\n",
       "      <td>0</td>\n",
       "    </tr>\n",
       "    <tr>\n",
       "      <th>264</th>\n",
       "      <td>Romelu Lukaku</td>\n",
       "      <td>Manchester+United</td>\n",
       "      <td>24</td>\n",
       "      <td>CF</td>\n",
       "      <td>1</td>\n",
       "      <td>50.0</td>\n",
       "      <td>3727</td>\n",
       "      <td>11.5</td>\n",
       "      <td>45.00%</td>\n",
       "      <td>221</td>\n",
       "      <td>2</td>\n",
       "      <td>Belgium</td>\n",
       "      <td>0</td>\n",
       "      <td>2</td>\n",
       "      <td>12</td>\n",
       "      <td>1</td>\n",
       "      <td>0</td>\n",
       "    </tr>\n",
       "    <tr>\n",
       "      <th>267</th>\n",
       "      <td>Paul Pogba</td>\n",
       "      <td>Manchester+United</td>\n",
       "      <td>24</td>\n",
       "      <td>CM</td>\n",
       "      <td>2</td>\n",
       "      <td>75.0</td>\n",
       "      <td>7435</td>\n",
       "      <td>8.0</td>\n",
       "      <td>19.50%</td>\n",
       "      <td>115</td>\n",
       "      <td>2</td>\n",
       "      <td>France</td>\n",
       "      <td>0</td>\n",
       "      <td>2</td>\n",
       "      <td>12</td>\n",
       "      <td>1</td>\n",
       "      <td>1</td>\n",
       "    </tr>\n",
       "    <tr>\n",
       "      <th>380</th>\n",
       "      <td>Dele Alli</td>\n",
       "      <td>Tottenham</td>\n",
       "      <td>21</td>\n",
       "      <td>CM</td>\n",
       "      <td>2</td>\n",
       "      <td>45.0</td>\n",
       "      <td>4626</td>\n",
       "      <td>9.5</td>\n",
       "      <td>38.60%</td>\n",
       "      <td>225</td>\n",
       "      <td>1</td>\n",
       "      <td>England</td>\n",
       "      <td>0</td>\n",
       "      <td>1</td>\n",
       "      <td>17</td>\n",
       "      <td>1</td>\n",
       "      <td>0</td>\n",
       "    </tr>\n",
       "    <tr>\n",
       "      <th>381</th>\n",
       "      <td>Harry Kane</td>\n",
       "      <td>Tottenham</td>\n",
       "      <td>23</td>\n",
       "      <td>CF</td>\n",
       "      <td>1</td>\n",
       "      <td>60.0</td>\n",
       "      <td>4161</td>\n",
       "      <td>12.5</td>\n",
       "      <td>35.10%</td>\n",
       "      <td>224</td>\n",
       "      <td>1</td>\n",
       "      <td>England</td>\n",
       "      <td>0</td>\n",
       "      <td>2</td>\n",
       "      <td>17</td>\n",
       "      <td>1</td>\n",
       "      <td>0</td>\n",
       "    </tr>\n",
       "  </tbody>\n",
       "</table>\n",
       "</div>"
      ],
      "text/plain": [
       "                  name               club  age  ... club_id  big_club  new_signing\n",
       "0       Alexis Sanchez            Arsenal   28  ...       1         1            0\n",
       "1           Mesut Ozil            Arsenal   28  ...       1         1            0\n",
       "96         Eden Hazard            Chelsea   26  ...       5         1            0\n",
       "97         Diego Costa            Chelsea   28  ...       5         1            0\n",
       "108     N%27Golo Kante            Chelsea   26  ...       5         1            1\n",
       "218  Philippe Coutinho          Liverpool   25  ...      10         1            0\n",
       "244    Kevin De Bruyne    Manchester+City   26  ...      11         1            0\n",
       "245      Sergio Aguero    Manchester+City   29  ...      11         1            0\n",
       "246    Raheem Sterling    Manchester+City   22  ...      11         1            0\n",
       "264      Romelu Lukaku  Manchester+United   24  ...      12         1            0\n",
       "267         Paul Pogba  Manchester+United   24  ...      12         1            1\n",
       "380          Dele Alli          Tottenham   21  ...      17         1            0\n",
       "381         Harry Kane          Tottenham   23  ...      17         1            0\n",
       "\n",
       "[13 rows x 17 columns]"
      ]
     },
     "execution_count": 12,
     "metadata": {
      "tags": []
     },
     "output_type": "execute_result"
    }
   ],
   "source": [
    "players[players.market_value > 40]"
   ]
  },
  {
   "cell_type": "code",
   "execution_count": 13,
   "metadata": {
    "colab": {
     "base_uri": "https://localhost:8080/",
     "height": 0
    },
    "colab_type": "code",
    "id": "kl20O-CvQzcO",
    "outputId": "6bb9948d-5328-4de5-bfec-9f32383acb53"
   },
   "outputs": [
    {
     "data": {
      "text/plain": [
       "(13, 17)"
      ]
     },
     "execution_count": 13,
     "metadata": {
      "tags": []
     },
     "output_type": "execute_result"
    }
   ],
   "source": [
    "players[players.market_value > 40].shape"
   ]
  },
  {
   "cell_type": "markdown",
   "metadata": {
    "colab_type": "text",
    "id": "GzTO9Y3fQ4DF"
   },
   "source": [
    "#### More Approaches To Boolean Masking"
   ]
  },
  {
   "cell_type": "code",
   "execution_count": 14,
   "metadata": {
    "colab": {
     "base_uri": "https://localhost:8080/",
     "height": 0
    },
    "colab_type": "code",
    "id": "SKv-RAX5X7bE",
    "outputId": "690fdef7-f1a1-4d3b-d518-e881ec686562"
   },
   "outputs": [
    {
     "data": {
      "text/html": [
       "<div>\n",
       "<style scoped>\n",
       "    .dataframe tbody tr th:only-of-type {\n",
       "        vertical-align: middle;\n",
       "    }\n",
       "\n",
       "    .dataframe tbody tr th {\n",
       "        vertical-align: top;\n",
       "    }\n",
       "\n",
       "    .dataframe thead th {\n",
       "        text-align: right;\n",
       "    }\n",
       "</style>\n",
       "<table border=\"1\" class=\"dataframe\">\n",
       "  <thead>\n",
       "    <tr style=\"text-align: right;\">\n",
       "      <th></th>\n",
       "      <th>name</th>\n",
       "      <th>club</th>\n",
       "      <th>age</th>\n",
       "      <th>position</th>\n",
       "      <th>position_cat</th>\n",
       "      <th>market_value</th>\n",
       "      <th>page_views</th>\n",
       "      <th>fpl_value</th>\n",
       "      <th>fpl_sel</th>\n",
       "      <th>fpl_points</th>\n",
       "      <th>region</th>\n",
       "      <th>nationality</th>\n",
       "      <th>new_foreign</th>\n",
       "      <th>age_cat</th>\n",
       "      <th>club_id</th>\n",
       "      <th>big_club</th>\n",
       "      <th>new_signing</th>\n",
       "    </tr>\n",
       "  </thead>\n",
       "  <tbody>\n",
       "    <tr>\n",
       "      <th>0</th>\n",
       "      <td>Alexis Sanchez</td>\n",
       "      <td>Arsenal</td>\n",
       "      <td>28</td>\n",
       "      <td>LW</td>\n",
       "      <td>1</td>\n",
       "      <td>65.0</td>\n",
       "      <td>4329</td>\n",
       "      <td>12.0</td>\n",
       "      <td>17.10%</td>\n",
       "      <td>264</td>\n",
       "      <td>3</td>\n",
       "      <td>Chile</td>\n",
       "      <td>0</td>\n",
       "      <td>4</td>\n",
       "      <td>1</td>\n",
       "      <td>1</td>\n",
       "      <td>0</td>\n",
       "    </tr>\n",
       "    <tr>\n",
       "      <th>1</th>\n",
       "      <td>Mesut Ozil</td>\n",
       "      <td>Arsenal</td>\n",
       "      <td>28</td>\n",
       "      <td>AM</td>\n",
       "      <td>1</td>\n",
       "      <td>50.0</td>\n",
       "      <td>4395</td>\n",
       "      <td>9.5</td>\n",
       "      <td>5.60%</td>\n",
       "      <td>167</td>\n",
       "      <td>2</td>\n",
       "      <td>Germany</td>\n",
       "      <td>0</td>\n",
       "      <td>4</td>\n",
       "      <td>1</td>\n",
       "      <td>1</td>\n",
       "      <td>0</td>\n",
       "    </tr>\n",
       "    <tr>\n",
       "      <th>2</th>\n",
       "      <td>Petr Cech</td>\n",
       "      <td>Arsenal</td>\n",
       "      <td>35</td>\n",
       "      <td>GK</td>\n",
       "      <td>4</td>\n",
       "      <td>7.0</td>\n",
       "      <td>1529</td>\n",
       "      <td>5.5</td>\n",
       "      <td>5.90%</td>\n",
       "      <td>134</td>\n",
       "      <td>2</td>\n",
       "      <td>Czech Republic</td>\n",
       "      <td>0</td>\n",
       "      <td>6</td>\n",
       "      <td>1</td>\n",
       "      <td>1</td>\n",
       "      <td>0</td>\n",
       "    </tr>\n",
       "    <tr>\n",
       "      <th>3</th>\n",
       "      <td>Theo Walcott</td>\n",
       "      <td>Arsenal</td>\n",
       "      <td>28</td>\n",
       "      <td>RW</td>\n",
       "      <td>1</td>\n",
       "      <td>20.0</td>\n",
       "      <td>2393</td>\n",
       "      <td>7.5</td>\n",
       "      <td>1.50%</td>\n",
       "      <td>122</td>\n",
       "      <td>1</td>\n",
       "      <td>England</td>\n",
       "      <td>0</td>\n",
       "      <td>4</td>\n",
       "      <td>1</td>\n",
       "      <td>1</td>\n",
       "      <td>0</td>\n",
       "    </tr>\n",
       "    <tr>\n",
       "      <th>4</th>\n",
       "      <td>Laurent Koscielny</td>\n",
       "      <td>Arsenal</td>\n",
       "      <td>31</td>\n",
       "      <td>CB</td>\n",
       "      <td>3</td>\n",
       "      <td>22.0</td>\n",
       "      <td>912</td>\n",
       "      <td>6.0</td>\n",
       "      <td>0.70%</td>\n",
       "      <td>121</td>\n",
       "      <td>2</td>\n",
       "      <td>France</td>\n",
       "      <td>0</td>\n",
       "      <td>4</td>\n",
       "      <td>1</td>\n",
       "      <td>1</td>\n",
       "      <td>0</td>\n",
       "    </tr>\n",
       "  </tbody>\n",
       "</table>\n",
       "</div>"
      ],
      "text/plain": [
       "                name     club  age  ... club_id  big_club  new_signing\n",
       "0     Alexis Sanchez  Arsenal   28  ...       1         1            0\n",
       "1         Mesut Ozil  Arsenal   28  ...       1         1            0\n",
       "2          Petr Cech  Arsenal   35  ...       1         1            0\n",
       "3       Theo Walcott  Arsenal   28  ...       1         1            0\n",
       "4  Laurent Koscielny  Arsenal   31  ...       1         1            0\n",
       "\n",
       "[5 rows x 17 columns]"
      ]
     },
     "execution_count": 14,
     "metadata": {
      "tags": []
     },
     "output_type": "execute_result"
    }
   ],
   "source": [
    "players.head()"
   ]
  },
  {
   "cell_type": "code",
   "execution_count": 15,
   "metadata": {
    "colab": {
     "base_uri": "https://localhost:8080/",
     "height": 0
    },
    "colab_type": "code",
    "id": "Pj0EGUDkX7fA",
    "outputId": "a8f722d7-8fe5-4f19-d2a0-cc2c629a811c"
   },
   "outputs": [
    {
     "data": {
      "text/plain": [
       "array(['LW', 'AM', 'GK', 'RW', 'CB', 'RB', 'CF', 'LB', 'DM', 'RM', 'CM',\n",
       "       nan, 'SS', 'LM'], dtype=object)"
      ]
     },
     "execution_count": 15,
     "metadata": {
      "tags": []
     },
     "output_type": "execute_result"
    }
   ],
   "source": [
    "players.position.unique()"
   ]
  },
  {
   "cell_type": "code",
   "execution_count": 16,
   "metadata": {
    "colab": {
     "base_uri": "https://localhost:8080/",
     "height": 0
    },
    "colab_type": "code",
    "id": "WhrVTymOiKfs",
    "outputId": "d4f9cae2-7556-4b7e-c12c-7fcdf1c78b94"
   },
   "outputs": [
    {
     "data": {
      "text/plain": [
       "14"
      ]
     },
     "execution_count": 16,
     "metadata": {
      "tags": []
     },
     "output_type": "execute_result"
    }
   ],
   "source": [
    "players.position.unique().size"
   ]
  },
  {
   "cell_type": "code",
   "execution_count": 0,
   "metadata": {
    "colab": {},
    "colab_type": "code",
    "id": "354baM58iPfx"
   },
   "outputs": [],
   "source": [
    "# defender codes: LB, CB, RB"
   ]
  },
  {
   "cell_type": "code",
   "execution_count": 18,
   "metadata": {
    "colab": {
     "base_uri": "https://localhost:8080/",
     "height": 0
    },
    "colab_type": "code",
    "id": "OLXycbnMiUkh",
    "outputId": "0072a310-2ef2-4544-b82a-72a27e4fa720"
   },
   "outputs": [
    {
     "data": {
      "text/plain": [
       "0      False\n",
       "1      False\n",
       "2      False\n",
       "3      False\n",
       "4       True\n",
       "       ...  \n",
       "460    False\n",
       "461     True\n",
       "462     True\n",
       "463    False\n",
       "464    False\n",
       "Name: position, Length: 465, dtype: bool"
      ]
     },
     "execution_count": 18,
     "metadata": {
      "tags": []
     },
     "output_type": "execute_result"
    }
   ],
   "source": [
    "players.position.isin(['LB', 'CB', 'RB'])"
   ]
  },
  {
   "cell_type": "code",
   "execution_count": 19,
   "metadata": {
    "colab": {
     "base_uri": "https://localhost:8080/",
     "height": 0
    },
    "colab_type": "code",
    "id": "N0RX5hMPiduc",
    "outputId": "b9a6218b-ebe4-4b67-c315-689e224c969f"
   },
   "outputs": [
    {
     "data": {
      "text/html": [
       "<div>\n",
       "<style scoped>\n",
       "    .dataframe tbody tr th:only-of-type {\n",
       "        vertical-align: middle;\n",
       "    }\n",
       "\n",
       "    .dataframe tbody tr th {\n",
       "        vertical-align: top;\n",
       "    }\n",
       "\n",
       "    .dataframe thead th {\n",
       "        text-align: right;\n",
       "    }\n",
       "</style>\n",
       "<table border=\"1\" class=\"dataframe\">\n",
       "  <thead>\n",
       "    <tr style=\"text-align: right;\">\n",
       "      <th></th>\n",
       "      <th>name</th>\n",
       "      <th>club</th>\n",
       "      <th>age</th>\n",
       "      <th>position</th>\n",
       "      <th>position_cat</th>\n",
       "      <th>market_value</th>\n",
       "      <th>page_views</th>\n",
       "      <th>fpl_value</th>\n",
       "      <th>fpl_sel</th>\n",
       "      <th>fpl_points</th>\n",
       "      <th>region</th>\n",
       "      <th>nationality</th>\n",
       "      <th>new_foreign</th>\n",
       "      <th>age_cat</th>\n",
       "      <th>club_id</th>\n",
       "      <th>big_club</th>\n",
       "      <th>new_signing</th>\n",
       "    </tr>\n",
       "  </thead>\n",
       "  <tbody>\n",
       "    <tr>\n",
       "      <th>4</th>\n",
       "      <td>Laurent Koscielny</td>\n",
       "      <td>Arsenal</td>\n",
       "      <td>31</td>\n",
       "      <td>CB</td>\n",
       "      <td>3</td>\n",
       "      <td>22.0</td>\n",
       "      <td>912</td>\n",
       "      <td>6.0</td>\n",
       "      <td>0.70%</td>\n",
       "      <td>121</td>\n",
       "      <td>2</td>\n",
       "      <td>France</td>\n",
       "      <td>0</td>\n",
       "      <td>4</td>\n",
       "      <td>1</td>\n",
       "      <td>1</td>\n",
       "      <td>0</td>\n",
       "    </tr>\n",
       "    <tr>\n",
       "      <th>5</th>\n",
       "      <td>Hector Bellerin</td>\n",
       "      <td>Arsenal</td>\n",
       "      <td>22</td>\n",
       "      <td>RB</td>\n",
       "      <td>3</td>\n",
       "      <td>30.0</td>\n",
       "      <td>1675</td>\n",
       "      <td>6.0</td>\n",
       "      <td>13.70%</td>\n",
       "      <td>119</td>\n",
       "      <td>2</td>\n",
       "      <td>Spain</td>\n",
       "      <td>0</td>\n",
       "      <td>2</td>\n",
       "      <td>1</td>\n",
       "      <td>1</td>\n",
       "      <td>0</td>\n",
       "    </tr>\n",
       "    <tr>\n",
       "      <th>7</th>\n",
       "      <td>Nacho Monreal</td>\n",
       "      <td>Arsenal</td>\n",
       "      <td>31</td>\n",
       "      <td>LB</td>\n",
       "      <td>3</td>\n",
       "      <td>13.0</td>\n",
       "      <td>555</td>\n",
       "      <td>5.5</td>\n",
       "      <td>4.70%</td>\n",
       "      <td>115</td>\n",
       "      <td>2</td>\n",
       "      <td>Spain</td>\n",
       "      <td>0</td>\n",
       "      <td>4</td>\n",
       "      <td>1</td>\n",
       "      <td>1</td>\n",
       "      <td>0</td>\n",
       "    </tr>\n",
       "    <tr>\n",
       "      <th>8</th>\n",
       "      <td>Shkodran Mustafi</td>\n",
       "      <td>Arsenal</td>\n",
       "      <td>25</td>\n",
       "      <td>CB</td>\n",
       "      <td>3</td>\n",
       "      <td>30.0</td>\n",
       "      <td>1877</td>\n",
       "      <td>5.5</td>\n",
       "      <td>4.00%</td>\n",
       "      <td>90</td>\n",
       "      <td>2</td>\n",
       "      <td>Germany</td>\n",
       "      <td>0</td>\n",
       "      <td>3</td>\n",
       "      <td>1</td>\n",
       "      <td>1</td>\n",
       "      <td>1</td>\n",
       "    </tr>\n",
       "    <tr>\n",
       "      <th>17</th>\n",
       "      <td>Gabriel Paulista</td>\n",
       "      <td>Arsenal</td>\n",
       "      <td>26</td>\n",
       "      <td>CB</td>\n",
       "      <td>3</td>\n",
       "      <td>13.0</td>\n",
       "      <td>552</td>\n",
       "      <td>5.0</td>\n",
       "      <td>0.10%</td>\n",
       "      <td>45</td>\n",
       "      <td>3</td>\n",
       "      <td>Brazil</td>\n",
       "      <td>0</td>\n",
       "      <td>3</td>\n",
       "      <td>1</td>\n",
       "      <td>1</td>\n",
       "      <td>0</td>\n",
       "    </tr>\n",
       "    <tr>\n",
       "      <th>...</th>\n",
       "      <td>...</td>\n",
       "      <td>...</td>\n",
       "      <td>...</td>\n",
       "      <td>...</td>\n",
       "      <td>...</td>\n",
       "      <td>...</td>\n",
       "      <td>...</td>\n",
       "      <td>...</td>\n",
       "      <td>...</td>\n",
       "      <td>...</td>\n",
       "      <td>...</td>\n",
       "      <td>...</td>\n",
       "      <td>...</td>\n",
       "      <td>...</td>\n",
       "      <td>...</td>\n",
       "      <td>...</td>\n",
       "      <td>...</td>\n",
       "    </tr>\n",
       "    <tr>\n",
       "      <th>455</th>\n",
       "      <td>Aaron Cresswell</td>\n",
       "      <td>West+Ham</td>\n",
       "      <td>27</td>\n",
       "      <td>LB</td>\n",
       "      <td>3</td>\n",
       "      <td>12.0</td>\n",
       "      <td>380</td>\n",
       "      <td>5.0</td>\n",
       "      <td>1.30%</td>\n",
       "      <td>60</td>\n",
       "      <td>1</td>\n",
       "      <td>England</td>\n",
       "      <td>0</td>\n",
       "      <td>3</td>\n",
       "      <td>20</td>\n",
       "      <td>0</td>\n",
       "      <td>0</td>\n",
       "    </tr>\n",
       "    <tr>\n",
       "      <th>458</th>\n",
       "      <td>Angelo Ogbonna</td>\n",
       "      <td>West+Ham</td>\n",
       "      <td>29</td>\n",
       "      <td>CB</td>\n",
       "      <td>3</td>\n",
       "      <td>9.0</td>\n",
       "      <td>247</td>\n",
       "      <td>4.5</td>\n",
       "      <td>1.10%</td>\n",
       "      <td>45</td>\n",
       "      <td>2</td>\n",
       "      <td>Italy</td>\n",
       "      <td>0</td>\n",
       "      <td>4</td>\n",
       "      <td>20</td>\n",
       "      <td>0</td>\n",
       "      <td>0</td>\n",
       "    </tr>\n",
       "    <tr>\n",
       "      <th>459</th>\n",
       "      <td>Pablo Zabaleta</td>\n",
       "      <td>West+Ham</td>\n",
       "      <td>32</td>\n",
       "      <td>RB</td>\n",
       "      <td>3</td>\n",
       "      <td>7.0</td>\n",
       "      <td>698</td>\n",
       "      <td>5.0</td>\n",
       "      <td>2.70%</td>\n",
       "      <td>45</td>\n",
       "      <td>3</td>\n",
       "      <td>Argentina</td>\n",
       "      <td>0</td>\n",
       "      <td>5</td>\n",
       "      <td>20</td>\n",
       "      <td>0</td>\n",
       "      <td>0</td>\n",
       "    </tr>\n",
       "    <tr>\n",
       "      <th>461</th>\n",
       "      <td>Arthur Masuaku</td>\n",
       "      <td>West+Ham</td>\n",
       "      <td>23</td>\n",
       "      <td>LB</td>\n",
       "      <td>3</td>\n",
       "      <td>7.0</td>\n",
       "      <td>199</td>\n",
       "      <td>4.5</td>\n",
       "      <td>0.20%</td>\n",
       "      <td>34</td>\n",
       "      <td>4</td>\n",
       "      <td>Congo DR</td>\n",
       "      <td>0</td>\n",
       "      <td>2</td>\n",
       "      <td>20</td>\n",
       "      <td>0</td>\n",
       "      <td>1</td>\n",
       "    </tr>\n",
       "    <tr>\n",
       "      <th>462</th>\n",
       "      <td>Sam Byram</td>\n",
       "      <td>West+Ham</td>\n",
       "      <td>23</td>\n",
       "      <td>RB</td>\n",
       "      <td>3</td>\n",
       "      <td>4.5</td>\n",
       "      <td>198</td>\n",
       "      <td>4.5</td>\n",
       "      <td>0.30%</td>\n",
       "      <td>29</td>\n",
       "      <td>1</td>\n",
       "      <td>England</td>\n",
       "      <td>0</td>\n",
       "      <td>2</td>\n",
       "      <td>20</td>\n",
       "      <td>0</td>\n",
       "      <td>0</td>\n",
       "    </tr>\n",
       "  </tbody>\n",
       "</table>\n",
       "<p>154 rows × 17 columns</p>\n",
       "</div>"
      ],
      "text/plain": [
       "                  name      club  age  ... club_id  big_club  new_signing\n",
       "4    Laurent Koscielny   Arsenal   31  ...       1         1            0\n",
       "5      Hector Bellerin   Arsenal   22  ...       1         1            0\n",
       "7        Nacho Monreal   Arsenal   31  ...       1         1            0\n",
       "8     Shkodran Mustafi   Arsenal   25  ...       1         1            1\n",
       "17    Gabriel Paulista   Arsenal   26  ...       1         1            0\n",
       "..                 ...       ...  ...  ...     ...       ...          ...\n",
       "455    Aaron Cresswell  West+Ham   27  ...      20         0            0\n",
       "458     Angelo Ogbonna  West+Ham   29  ...      20         0            0\n",
       "459     Pablo Zabaleta  West+Ham   32  ...      20         0            0\n",
       "461     Arthur Masuaku  West+Ham   23  ...      20         0            1\n",
       "462          Sam Byram  West+Ham   23  ...      20         0            0\n",
       "\n",
       "[154 rows x 17 columns]"
      ]
     },
     "execution_count": 19,
     "metadata": {
      "tags": []
     },
     "output_type": "execute_result"
    }
   ],
   "source": [
    "players.loc[players.position.isin(['LB', 'CB', 'RB'])]"
   ]
  },
  {
   "cell_type": "code",
   "execution_count": 20,
   "metadata": {
    "colab": {
     "base_uri": "https://localhost:8080/",
     "height": 0
    },
    "colab_type": "code",
    "id": "G2vIsV9gikw4",
    "outputId": "90c4d03b-8514-4dd1-ca77-660cc6345b0c"
   },
   "outputs": [
    {
     "data": {
      "text/plain": [
       "0      False\n",
       "1      False\n",
       "2      False\n",
       "3      False\n",
       "4      False\n",
       "       ...  \n",
       "460    False\n",
       "461    False\n",
       "462    False\n",
       "463    False\n",
       "464    False\n",
       "Name: market_value, Length: 465, dtype: bool"
      ]
     },
     "execution_count": 20,
     "metadata": {
      "tags": []
     },
     "output_type": "execute_result"
    }
   ],
   "source": [
    "players.market_value.between(40,50, inclusive=False)"
   ]
  },
  {
   "cell_type": "code",
   "execution_count": 21,
   "metadata": {
    "colab": {
     "base_uri": "https://localhost:8080/",
     "height": 0
    },
    "colab_type": "code",
    "id": "dCJben5Ai5fp",
    "outputId": "9d023f33-b048-44e6-fc18-f15eebc17306"
   },
   "outputs": [
    {
     "data": {
      "text/html": [
       "<div>\n",
       "<style scoped>\n",
       "    .dataframe tbody tr th:only-of-type {\n",
       "        vertical-align: middle;\n",
       "    }\n",
       "\n",
       "    .dataframe tbody tr th {\n",
       "        vertical-align: top;\n",
       "    }\n",
       "\n",
       "    .dataframe thead th {\n",
       "        text-align: right;\n",
       "    }\n",
       "</style>\n",
       "<table border=\"1\" class=\"dataframe\">\n",
       "  <thead>\n",
       "    <tr style=\"text-align: right;\">\n",
       "      <th></th>\n",
       "      <th>name</th>\n",
       "      <th>club</th>\n",
       "      <th>age</th>\n",
       "      <th>position</th>\n",
       "      <th>position_cat</th>\n",
       "      <th>market_value</th>\n",
       "      <th>page_views</th>\n",
       "      <th>fpl_value</th>\n",
       "      <th>fpl_sel</th>\n",
       "      <th>fpl_points</th>\n",
       "      <th>region</th>\n",
       "      <th>nationality</th>\n",
       "      <th>new_foreign</th>\n",
       "      <th>age_cat</th>\n",
       "      <th>club_id</th>\n",
       "      <th>big_club</th>\n",
       "      <th>new_signing</th>\n",
       "    </tr>\n",
       "  </thead>\n",
       "  <tbody>\n",
       "    <tr>\n",
       "      <th>1</th>\n",
       "      <td>Mesut Ozil</td>\n",
       "      <td>Arsenal</td>\n",
       "      <td>28</td>\n",
       "      <td>AM</td>\n",
       "      <td>1</td>\n",
       "      <td>50.0</td>\n",
       "      <td>4395</td>\n",
       "      <td>9.5</td>\n",
       "      <td>5.60%</td>\n",
       "      <td>167</td>\n",
       "      <td>2</td>\n",
       "      <td>Germany</td>\n",
       "      <td>0</td>\n",
       "      <td>4</td>\n",
       "      <td>1</td>\n",
       "      <td>1</td>\n",
       "      <td>0</td>\n",
       "    </tr>\n",
       "    <tr>\n",
       "      <th>31</th>\n",
       "      <td>Alexandre Lacazette</td>\n",
       "      <td>Arsenal</td>\n",
       "      <td>26</td>\n",
       "      <td>CF</td>\n",
       "      <td>1</td>\n",
       "      <td>40.0</td>\n",
       "      <td>1183</td>\n",
       "      <td>10.5</td>\n",
       "      <td>26.50%</td>\n",
       "      <td>0</td>\n",
       "      <td>2</td>\n",
       "      <td>France</td>\n",
       "      <td>1</td>\n",
       "      <td>3</td>\n",
       "      <td>1</td>\n",
       "      <td>1</td>\n",
       "      <td>0</td>\n",
       "    </tr>\n",
       "    <tr>\n",
       "      <th>97</th>\n",
       "      <td>Diego Costa</td>\n",
       "      <td>Chelsea</td>\n",
       "      <td>28</td>\n",
       "      <td>CF</td>\n",
       "      <td>1</td>\n",
       "      <td>50.0</td>\n",
       "      <td>4454</td>\n",
       "      <td>10.0</td>\n",
       "      <td>3.00%</td>\n",
       "      <td>196</td>\n",
       "      <td>2</td>\n",
       "      <td>Spain</td>\n",
       "      <td>0</td>\n",
       "      <td>4</td>\n",
       "      <td>5</td>\n",
       "      <td>1</td>\n",
       "      <td>0</td>\n",
       "    </tr>\n",
       "    <tr>\n",
       "      <th>102</th>\n",
       "      <td>Thibaut Courtois</td>\n",
       "      <td>Chelsea</td>\n",
       "      <td>25</td>\n",
       "      <td>GK</td>\n",
       "      <td>4</td>\n",
       "      <td>40.0</td>\n",
       "      <td>1260</td>\n",
       "      <td>5.5</td>\n",
       "      <td>18.50%</td>\n",
       "      <td>141</td>\n",
       "      <td>2</td>\n",
       "      <td>Belgium</td>\n",
       "      <td>0</td>\n",
       "      <td>3</td>\n",
       "      <td>5</td>\n",
       "      <td>1</td>\n",
       "      <td>0</td>\n",
       "    </tr>\n",
       "    <tr>\n",
       "      <th>108</th>\n",
       "      <td>N%27Golo Kante</td>\n",
       "      <td>Chelsea</td>\n",
       "      <td>26</td>\n",
       "      <td>DM</td>\n",
       "      <td>2</td>\n",
       "      <td>50.0</td>\n",
       "      <td>4042</td>\n",
       "      <td>5.0</td>\n",
       "      <td>13.80%</td>\n",
       "      <td>83</td>\n",
       "      <td>2</td>\n",
       "      <td>France</td>\n",
       "      <td>0</td>\n",
       "      <td>3</td>\n",
       "      <td>5</td>\n",
       "      <td>1</td>\n",
       "      <td>1</td>\n",
       "    </tr>\n",
       "    <tr>\n",
       "      <th>218</th>\n",
       "      <td>Philippe Coutinho</td>\n",
       "      <td>Liverpool</td>\n",
       "      <td>25</td>\n",
       "      <td>AM</td>\n",
       "      <td>1</td>\n",
       "      <td>45.0</td>\n",
       "      <td>2958</td>\n",
       "      <td>9.0</td>\n",
       "      <td>30.80%</td>\n",
       "      <td>171</td>\n",
       "      <td>3</td>\n",
       "      <td>Brazil</td>\n",
       "      <td>0</td>\n",
       "      <td>3</td>\n",
       "      <td>10</td>\n",
       "      <td>1</td>\n",
       "      <td>0</td>\n",
       "    </tr>\n",
       "    <tr>\n",
       "      <th>219</th>\n",
       "      <td>Sadio Mane</td>\n",
       "      <td>Liverpool</td>\n",
       "      <td>25</td>\n",
       "      <td>LW</td>\n",
       "      <td>1</td>\n",
       "      <td>40.0</td>\n",
       "      <td>3219</td>\n",
       "      <td>9.5</td>\n",
       "      <td>5.30%</td>\n",
       "      <td>156</td>\n",
       "      <td>4</td>\n",
       "      <td>Senegal</td>\n",
       "      <td>0</td>\n",
       "      <td>3</td>\n",
       "      <td>10</td>\n",
       "      <td>1</td>\n",
       "      <td>1</td>\n",
       "    </tr>\n",
       "    <tr>\n",
       "      <th>246</th>\n",
       "      <td>Raheem Sterling</td>\n",
       "      <td>Manchester+City</td>\n",
       "      <td>22</td>\n",
       "      <td>LW</td>\n",
       "      <td>1</td>\n",
       "      <td>45.0</td>\n",
       "      <td>2074</td>\n",
       "      <td>8.0</td>\n",
       "      <td>3.80%</td>\n",
       "      <td>149</td>\n",
       "      <td>1</td>\n",
       "      <td>England</td>\n",
       "      <td>0</td>\n",
       "      <td>2</td>\n",
       "      <td>11</td>\n",
       "      <td>1</td>\n",
       "      <td>0</td>\n",
       "    </tr>\n",
       "    <tr>\n",
       "      <th>263</th>\n",
       "      <td>Bernardo Silva</td>\n",
       "      <td>Manchester+City</td>\n",
       "      <td>22</td>\n",
       "      <td>RW</td>\n",
       "      <td>1</td>\n",
       "      <td>40.0</td>\n",
       "      <td>1098</td>\n",
       "      <td>8.0</td>\n",
       "      <td>4.60%</td>\n",
       "      <td>0</td>\n",
       "      <td>2</td>\n",
       "      <td>Portugal</td>\n",
       "      <td>1</td>\n",
       "      <td>2</td>\n",
       "      <td>11</td>\n",
       "      <td>1</td>\n",
       "      <td>0</td>\n",
       "    </tr>\n",
       "    <tr>\n",
       "      <th>264</th>\n",
       "      <td>Romelu Lukaku</td>\n",
       "      <td>Manchester+United</td>\n",
       "      <td>24</td>\n",
       "      <td>CF</td>\n",
       "      <td>1</td>\n",
       "      <td>50.0</td>\n",
       "      <td>3727</td>\n",
       "      <td>11.5</td>\n",
       "      <td>45.00%</td>\n",
       "      <td>221</td>\n",
       "      <td>2</td>\n",
       "      <td>Belgium</td>\n",
       "      <td>0</td>\n",
       "      <td>2</td>\n",
       "      <td>12</td>\n",
       "      <td>1</td>\n",
       "      <td>0</td>\n",
       "    </tr>\n",
       "    <tr>\n",
       "      <th>265</th>\n",
       "      <td>David de Gea</td>\n",
       "      <td>Manchester+United</td>\n",
       "      <td>26</td>\n",
       "      <td>GK</td>\n",
       "      <td>4</td>\n",
       "      <td>40.0</td>\n",
       "      <td>2126</td>\n",
       "      <td>5.5</td>\n",
       "      <td>26.10%</td>\n",
       "      <td>136</td>\n",
       "      <td>2</td>\n",
       "      <td>Spain</td>\n",
       "      <td>0</td>\n",
       "      <td>3</td>\n",
       "      <td>12</td>\n",
       "      <td>1</td>\n",
       "      <td>0</td>\n",
       "    </tr>\n",
       "    <tr>\n",
       "      <th>380</th>\n",
       "      <td>Dele Alli</td>\n",
       "      <td>Tottenham</td>\n",
       "      <td>21</td>\n",
       "      <td>CM</td>\n",
       "      <td>2</td>\n",
       "      <td>45.0</td>\n",
       "      <td>4626</td>\n",
       "      <td>9.5</td>\n",
       "      <td>38.60%</td>\n",
       "      <td>225</td>\n",
       "      <td>1</td>\n",
       "      <td>England</td>\n",
       "      <td>0</td>\n",
       "      <td>1</td>\n",
       "      <td>17</td>\n",
       "      <td>1</td>\n",
       "      <td>0</td>\n",
       "    </tr>\n",
       "    <tr>\n",
       "      <th>382</th>\n",
       "      <td>Christian Eriksen</td>\n",
       "      <td>Tottenham</td>\n",
       "      <td>25</td>\n",
       "      <td>AM</td>\n",
       "      <td>1</td>\n",
       "      <td>40.0</td>\n",
       "      <td>1130</td>\n",
       "      <td>9.5</td>\n",
       "      <td>12.00%</td>\n",
       "      <td>218</td>\n",
       "      <td>2</td>\n",
       "      <td>Denmark</td>\n",
       "      <td>0</td>\n",
       "      <td>3</td>\n",
       "      <td>17</td>\n",
       "      <td>1</td>\n",
       "      <td>0</td>\n",
       "    </tr>\n",
       "  </tbody>\n",
       "</table>\n",
       "</div>"
      ],
      "text/plain": [
       "                    name               club  ...  big_club new_signing\n",
       "1             Mesut Ozil            Arsenal  ...         1           0\n",
       "31   Alexandre Lacazette            Arsenal  ...         1           0\n",
       "97           Diego Costa            Chelsea  ...         1           0\n",
       "102     Thibaut Courtois            Chelsea  ...         1           0\n",
       "108       N%27Golo Kante            Chelsea  ...         1           1\n",
       "218    Philippe Coutinho          Liverpool  ...         1           0\n",
       "219           Sadio Mane          Liverpool  ...         1           1\n",
       "246      Raheem Sterling    Manchester+City  ...         1           0\n",
       "263       Bernardo Silva    Manchester+City  ...         1           0\n",
       "264        Romelu Lukaku  Manchester+United  ...         1           0\n",
       "265         David de Gea  Manchester+United  ...         1           0\n",
       "380            Dele Alli          Tottenham  ...         1           0\n",
       "382    Christian Eriksen          Tottenham  ...         1           0\n",
       "\n",
       "[13 rows x 17 columns]"
      ]
     },
     "execution_count": 21,
     "metadata": {
      "tags": []
     },
     "output_type": "execute_result"
    }
   ],
   "source": [
    "players[players.market_value.between(40,50, inclusive=True)]"
   ]
  },
  {
   "cell_type": "code",
   "execution_count": 22,
   "metadata": {
    "colab": {
     "base_uri": "https://localhost:8080/",
     "height": 0
    },
    "colab_type": "code",
    "id": "5ZYz7Y_YjA79",
    "outputId": "0b6f63c2-f9c2-4639-a7d4-ca4d50c47459"
   },
   "outputs": [
    {
     "data": {
      "text/plain": [
       "0      False\n",
       "1      False\n",
       "2      False\n",
       "3      False\n",
       "4      False\n",
       "       ...  \n",
       "460     True\n",
       "461     True\n",
       "462     True\n",
       "463     True\n",
       "464    False\n",
       "Name: age, Length: 465, dtype: bool"
      ]
     },
     "execution_count": 22,
     "metadata": {
      "tags": []
     },
     "output_type": "execute_result"
    }
   ],
   "source": [
    "players.age <= 25"
   ]
  },
  {
   "cell_type": "code",
   "execution_count": 23,
   "metadata": {
    "colab": {
     "base_uri": "https://localhost:8080/",
     "height": 0
    },
    "colab_type": "code",
    "id": "zbHRgV2ujS1H",
    "outputId": "57141889-688c-4a27-d7de-1e44fc431e84"
   },
   "outputs": [
    {
     "data": {
      "text/html": [
       "<div>\n",
       "<style scoped>\n",
       "    .dataframe tbody tr th:only-of-type {\n",
       "        vertical-align: middle;\n",
       "    }\n",
       "\n",
       "    .dataframe tbody tr th {\n",
       "        vertical-align: top;\n",
       "    }\n",
       "\n",
       "    .dataframe thead th {\n",
       "        text-align: right;\n",
       "    }\n",
       "</style>\n",
       "<table border=\"1\" class=\"dataframe\">\n",
       "  <thead>\n",
       "    <tr style=\"text-align: right;\">\n",
       "      <th></th>\n",
       "      <th>name</th>\n",
       "      <th>club</th>\n",
       "      <th>age</th>\n",
       "      <th>position</th>\n",
       "      <th>position_cat</th>\n",
       "      <th>market_value</th>\n",
       "      <th>page_views</th>\n",
       "      <th>fpl_value</th>\n",
       "      <th>fpl_sel</th>\n",
       "      <th>fpl_points</th>\n",
       "      <th>region</th>\n",
       "      <th>nationality</th>\n",
       "      <th>new_foreign</th>\n",
       "      <th>age_cat</th>\n",
       "      <th>club_id</th>\n",
       "      <th>big_club</th>\n",
       "      <th>new_signing</th>\n",
       "    </tr>\n",
       "  </thead>\n",
       "  <tbody>\n",
       "    <tr>\n",
       "      <th>5</th>\n",
       "      <td>Hector Bellerin</td>\n",
       "      <td>Arsenal</td>\n",
       "      <td>22</td>\n",
       "      <td>RB</td>\n",
       "      <td>3</td>\n",
       "      <td>30.0</td>\n",
       "      <td>1675</td>\n",
       "      <td>6.0</td>\n",
       "      <td>13.70%</td>\n",
       "      <td>119</td>\n",
       "      <td>2</td>\n",
       "      <td>Spain</td>\n",
       "      <td>0</td>\n",
       "      <td>2</td>\n",
       "      <td>1</td>\n",
       "      <td>1</td>\n",
       "      <td>0</td>\n",
       "    </tr>\n",
       "    <tr>\n",
       "      <th>8</th>\n",
       "      <td>Shkodran Mustafi</td>\n",
       "      <td>Arsenal</td>\n",
       "      <td>25</td>\n",
       "      <td>CB</td>\n",
       "      <td>3</td>\n",
       "      <td>30.0</td>\n",
       "      <td>1877</td>\n",
       "      <td>5.5</td>\n",
       "      <td>4.00%</td>\n",
       "      <td>90</td>\n",
       "      <td>2</td>\n",
       "      <td>Germany</td>\n",
       "      <td>0</td>\n",
       "      <td>3</td>\n",
       "      <td>1</td>\n",
       "      <td>1</td>\n",
       "      <td>1</td>\n",
       "    </tr>\n",
       "    <tr>\n",
       "      <th>9</th>\n",
       "      <td>Alex Iwobi</td>\n",
       "      <td>Arsenal</td>\n",
       "      <td>21</td>\n",
       "      <td>LW</td>\n",
       "      <td>1</td>\n",
       "      <td>10.0</td>\n",
       "      <td>1812</td>\n",
       "      <td>5.5</td>\n",
       "      <td>1.00%</td>\n",
       "      <td>89</td>\n",
       "      <td>4</td>\n",
       "      <td>Nigeria</td>\n",
       "      <td>0</td>\n",
       "      <td>1</td>\n",
       "      <td>1</td>\n",
       "      <td>1</td>\n",
       "      <td>0</td>\n",
       "    </tr>\n",
       "    <tr>\n",
       "      <th>10</th>\n",
       "      <td>Granit Xhaka</td>\n",
       "      <td>Arsenal</td>\n",
       "      <td>24</td>\n",
       "      <td>DM</td>\n",
       "      <td>2</td>\n",
       "      <td>35.0</td>\n",
       "      <td>1815</td>\n",
       "      <td>5.5</td>\n",
       "      <td>2.00%</td>\n",
       "      <td>85</td>\n",
       "      <td>2</td>\n",
       "      <td>Switzerland</td>\n",
       "      <td>0</td>\n",
       "      <td>2</td>\n",
       "      <td>1</td>\n",
       "      <td>1</td>\n",
       "      <td>0</td>\n",
       "    </tr>\n",
       "    <tr>\n",
       "      <th>11</th>\n",
       "      <td>Granit Xhaka</td>\n",
       "      <td>Arsenal</td>\n",
       "      <td>24</td>\n",
       "      <td>DM</td>\n",
       "      <td>2</td>\n",
       "      <td>35.0</td>\n",
       "      <td>1815</td>\n",
       "      <td>5.5</td>\n",
       "      <td>2.00%</td>\n",
       "      <td>85</td>\n",
       "      <td>2</td>\n",
       "      <td>Switzerland</td>\n",
       "      <td>0</td>\n",
       "      <td>2</td>\n",
       "      <td>1</td>\n",
       "      <td>1</td>\n",
       "      <td>0</td>\n",
       "    </tr>\n",
       "    <tr>\n",
       "      <th>...</th>\n",
       "      <td>...</td>\n",
       "      <td>...</td>\n",
       "      <td>...</td>\n",
       "      <td>...</td>\n",
       "      <td>...</td>\n",
       "      <td>...</td>\n",
       "      <td>...</td>\n",
       "      <td>...</td>\n",
       "      <td>...</td>\n",
       "      <td>...</td>\n",
       "      <td>...</td>\n",
       "      <td>...</td>\n",
       "      <td>...</td>\n",
       "      <td>...</td>\n",
       "      <td>...</td>\n",
       "      <td>...</td>\n",
       "      <td>...</td>\n",
       "    </tr>\n",
       "    <tr>\n",
       "      <th>456</th>\n",
       "      <td>Pedro Obiang</td>\n",
       "      <td>West+Ham</td>\n",
       "      <td>25</td>\n",
       "      <td>CM</td>\n",
       "      <td>2</td>\n",
       "      <td>9.0</td>\n",
       "      <td>286</td>\n",
       "      <td>4.5</td>\n",
       "      <td>0.30%</td>\n",
       "      <td>55</td>\n",
       "      <td>2</td>\n",
       "      <td>Spain</td>\n",
       "      <td>0</td>\n",
       "      <td>3</td>\n",
       "      <td>20</td>\n",
       "      <td>0</td>\n",
       "      <td>0</td>\n",
       "    </tr>\n",
       "    <tr>\n",
       "      <th>460</th>\n",
       "      <td>Edimilson Fernandes</td>\n",
       "      <td>West+Ham</td>\n",
       "      <td>21</td>\n",
       "      <td>CM</td>\n",
       "      <td>2</td>\n",
       "      <td>5.0</td>\n",
       "      <td>288</td>\n",
       "      <td>4.5</td>\n",
       "      <td>0.40%</td>\n",
       "      <td>38</td>\n",
       "      <td>2</td>\n",
       "      <td>Switzerland</td>\n",
       "      <td>0</td>\n",
       "      <td>1</td>\n",
       "      <td>20</td>\n",
       "      <td>0</td>\n",
       "      <td>1</td>\n",
       "    </tr>\n",
       "    <tr>\n",
       "      <th>461</th>\n",
       "      <td>Arthur Masuaku</td>\n",
       "      <td>West+Ham</td>\n",
       "      <td>23</td>\n",
       "      <td>LB</td>\n",
       "      <td>3</td>\n",
       "      <td>7.0</td>\n",
       "      <td>199</td>\n",
       "      <td>4.5</td>\n",
       "      <td>0.20%</td>\n",
       "      <td>34</td>\n",
       "      <td>4</td>\n",
       "      <td>Congo DR</td>\n",
       "      <td>0</td>\n",
       "      <td>2</td>\n",
       "      <td>20</td>\n",
       "      <td>0</td>\n",
       "      <td>1</td>\n",
       "    </tr>\n",
       "    <tr>\n",
       "      <th>462</th>\n",
       "      <td>Sam Byram</td>\n",
       "      <td>West+Ham</td>\n",
       "      <td>23</td>\n",
       "      <td>RB</td>\n",
       "      <td>3</td>\n",
       "      <td>4.5</td>\n",
       "      <td>198</td>\n",
       "      <td>4.5</td>\n",
       "      <td>0.30%</td>\n",
       "      <td>29</td>\n",
       "      <td>1</td>\n",
       "      <td>England</td>\n",
       "      <td>0</td>\n",
       "      <td>2</td>\n",
       "      <td>20</td>\n",
       "      <td>0</td>\n",
       "      <td>0</td>\n",
       "    </tr>\n",
       "    <tr>\n",
       "      <th>463</th>\n",
       "      <td>Ashley Fletcher</td>\n",
       "      <td>West+Ham</td>\n",
       "      <td>21</td>\n",
       "      <td>CF</td>\n",
       "      <td>1</td>\n",
       "      <td>1.0</td>\n",
       "      <td>412</td>\n",
       "      <td>4.5</td>\n",
       "      <td>5.90%</td>\n",
       "      <td>16</td>\n",
       "      <td>1</td>\n",
       "      <td>England</td>\n",
       "      <td>0</td>\n",
       "      <td>1</td>\n",
       "      <td>20</td>\n",
       "      <td>0</td>\n",
       "      <td>1</td>\n",
       "    </tr>\n",
       "  </tbody>\n",
       "</table>\n",
       "<p>172 rows × 17 columns</p>\n",
       "</div>"
      ],
      "text/plain": [
       "                    name      club  age  ... club_id  big_club  new_signing\n",
       "5        Hector Bellerin   Arsenal   22  ...       1         1            0\n",
       "8       Shkodran Mustafi   Arsenal   25  ...       1         1            1\n",
       "9             Alex Iwobi   Arsenal   21  ...       1         1            0\n",
       "10          Granit Xhaka   Arsenal   24  ...       1         1            0\n",
       "11          Granit Xhaka   Arsenal   24  ...       1         1            0\n",
       "..                   ...       ...  ...  ...     ...       ...          ...\n",
       "456         Pedro Obiang  West+Ham   25  ...      20         0            0\n",
       "460  Edimilson Fernandes  West+Ham   21  ...      20         0            1\n",
       "461       Arthur Masuaku  West+Ham   23  ...      20         0            1\n",
       "462            Sam Byram  West+Ham   23  ...      20         0            0\n",
       "463      Ashley Fletcher  West+Ham   21  ...      20         0            1\n",
       "\n",
       "[172 rows x 17 columns]"
      ]
     },
     "execution_count": 23,
     "metadata": {
      "tags": []
     },
     "output_type": "execute_result"
    }
   ],
   "source": [
    "players.loc[players.age <= 25]"
   ]
  },
  {
   "cell_type": "code",
   "execution_count": 24,
   "metadata": {
    "colab": {
     "base_uri": "https://localhost:8080/",
     "height": 0
    },
    "colab_type": "code",
    "id": "rt5WOzByjV2O",
    "outputId": "ce1aaca1-5fa9-4108-d8f9-4b445e3afca1"
   },
   "outputs": [
    {
     "data": {
      "text/html": [
       "<div>\n",
       "<style scoped>\n",
       "    .dataframe tbody tr th:only-of-type {\n",
       "        vertical-align: middle;\n",
       "    }\n",
       "\n",
       "    .dataframe tbody tr th {\n",
       "        vertical-align: top;\n",
       "    }\n",
       "\n",
       "    .dataframe thead th {\n",
       "        text-align: right;\n",
       "    }\n",
       "</style>\n",
       "<table border=\"1\" class=\"dataframe\">\n",
       "  <thead>\n",
       "    <tr style=\"text-align: right;\">\n",
       "      <th></th>\n",
       "      <th>name</th>\n",
       "      <th>club</th>\n",
       "      <th>age</th>\n",
       "      <th>position</th>\n",
       "      <th>position_cat</th>\n",
       "      <th>market_value</th>\n",
       "      <th>page_views</th>\n",
       "      <th>fpl_value</th>\n",
       "      <th>fpl_sel</th>\n",
       "      <th>fpl_points</th>\n",
       "      <th>region</th>\n",
       "      <th>nationality</th>\n",
       "      <th>new_foreign</th>\n",
       "      <th>age_cat</th>\n",
       "      <th>club_id</th>\n",
       "      <th>big_club</th>\n",
       "      <th>new_signing</th>\n",
       "    </tr>\n",
       "  </thead>\n",
       "  <tbody>\n",
       "    <tr>\n",
       "      <th>5</th>\n",
       "      <td>Hector Bellerin</td>\n",
       "      <td>Arsenal</td>\n",
       "      <td>22</td>\n",
       "      <td>RB</td>\n",
       "      <td>3</td>\n",
       "      <td>30.0</td>\n",
       "      <td>1675</td>\n",
       "      <td>6.0</td>\n",
       "      <td>13.70%</td>\n",
       "      <td>119</td>\n",
       "      <td>2</td>\n",
       "      <td>Spain</td>\n",
       "      <td>0</td>\n",
       "      <td>2</td>\n",
       "      <td>1</td>\n",
       "      <td>1</td>\n",
       "      <td>0</td>\n",
       "    </tr>\n",
       "    <tr>\n",
       "      <th>8</th>\n",
       "      <td>Shkodran Mustafi</td>\n",
       "      <td>Arsenal</td>\n",
       "      <td>25</td>\n",
       "      <td>CB</td>\n",
       "      <td>3</td>\n",
       "      <td>30.0</td>\n",
       "      <td>1877</td>\n",
       "      <td>5.5</td>\n",
       "      <td>4.00%</td>\n",
       "      <td>90</td>\n",
       "      <td>2</td>\n",
       "      <td>Germany</td>\n",
       "      <td>0</td>\n",
       "      <td>3</td>\n",
       "      <td>1</td>\n",
       "      <td>1</td>\n",
       "      <td>1</td>\n",
       "    </tr>\n",
       "    <tr>\n",
       "      <th>9</th>\n",
       "      <td>Alex Iwobi</td>\n",
       "      <td>Arsenal</td>\n",
       "      <td>21</td>\n",
       "      <td>LW</td>\n",
       "      <td>1</td>\n",
       "      <td>10.0</td>\n",
       "      <td>1812</td>\n",
       "      <td>5.5</td>\n",
       "      <td>1.00%</td>\n",
       "      <td>89</td>\n",
       "      <td>4</td>\n",
       "      <td>Nigeria</td>\n",
       "      <td>0</td>\n",
       "      <td>1</td>\n",
       "      <td>1</td>\n",
       "      <td>1</td>\n",
       "      <td>0</td>\n",
       "    </tr>\n",
       "    <tr>\n",
       "      <th>10</th>\n",
       "      <td>Granit Xhaka</td>\n",
       "      <td>Arsenal</td>\n",
       "      <td>24</td>\n",
       "      <td>DM</td>\n",
       "      <td>2</td>\n",
       "      <td>35.0</td>\n",
       "      <td>1815</td>\n",
       "      <td>5.5</td>\n",
       "      <td>2.00%</td>\n",
       "      <td>85</td>\n",
       "      <td>2</td>\n",
       "      <td>Switzerland</td>\n",
       "      <td>0</td>\n",
       "      <td>2</td>\n",
       "      <td>1</td>\n",
       "      <td>1</td>\n",
       "      <td>0</td>\n",
       "    </tr>\n",
       "    <tr>\n",
       "      <th>11</th>\n",
       "      <td>Granit Xhaka</td>\n",
       "      <td>Arsenal</td>\n",
       "      <td>24</td>\n",
       "      <td>DM</td>\n",
       "      <td>2</td>\n",
       "      <td>35.0</td>\n",
       "      <td>1815</td>\n",
       "      <td>5.5</td>\n",
       "      <td>2.00%</td>\n",
       "      <td>85</td>\n",
       "      <td>2</td>\n",
       "      <td>Switzerland</td>\n",
       "      <td>0</td>\n",
       "      <td>2</td>\n",
       "      <td>1</td>\n",
       "      <td>1</td>\n",
       "      <td>0</td>\n",
       "    </tr>\n",
       "    <tr>\n",
       "      <th>...</th>\n",
       "      <td>...</td>\n",
       "      <td>...</td>\n",
       "      <td>...</td>\n",
       "      <td>...</td>\n",
       "      <td>...</td>\n",
       "      <td>...</td>\n",
       "      <td>...</td>\n",
       "      <td>...</td>\n",
       "      <td>...</td>\n",
       "      <td>...</td>\n",
       "      <td>...</td>\n",
       "      <td>...</td>\n",
       "      <td>...</td>\n",
       "      <td>...</td>\n",
       "      <td>...</td>\n",
       "      <td>...</td>\n",
       "      <td>...</td>\n",
       "    </tr>\n",
       "    <tr>\n",
       "      <th>456</th>\n",
       "      <td>Pedro Obiang</td>\n",
       "      <td>West+Ham</td>\n",
       "      <td>25</td>\n",
       "      <td>CM</td>\n",
       "      <td>2</td>\n",
       "      <td>9.0</td>\n",
       "      <td>286</td>\n",
       "      <td>4.5</td>\n",
       "      <td>0.30%</td>\n",
       "      <td>55</td>\n",
       "      <td>2</td>\n",
       "      <td>Spain</td>\n",
       "      <td>0</td>\n",
       "      <td>3</td>\n",
       "      <td>20</td>\n",
       "      <td>0</td>\n",
       "      <td>0</td>\n",
       "    </tr>\n",
       "    <tr>\n",
       "      <th>460</th>\n",
       "      <td>Edimilson Fernandes</td>\n",
       "      <td>West+Ham</td>\n",
       "      <td>21</td>\n",
       "      <td>CM</td>\n",
       "      <td>2</td>\n",
       "      <td>5.0</td>\n",
       "      <td>288</td>\n",
       "      <td>4.5</td>\n",
       "      <td>0.40%</td>\n",
       "      <td>38</td>\n",
       "      <td>2</td>\n",
       "      <td>Switzerland</td>\n",
       "      <td>0</td>\n",
       "      <td>1</td>\n",
       "      <td>20</td>\n",
       "      <td>0</td>\n",
       "      <td>1</td>\n",
       "    </tr>\n",
       "    <tr>\n",
       "      <th>461</th>\n",
       "      <td>Arthur Masuaku</td>\n",
       "      <td>West+Ham</td>\n",
       "      <td>23</td>\n",
       "      <td>LB</td>\n",
       "      <td>3</td>\n",
       "      <td>7.0</td>\n",
       "      <td>199</td>\n",
       "      <td>4.5</td>\n",
       "      <td>0.20%</td>\n",
       "      <td>34</td>\n",
       "      <td>4</td>\n",
       "      <td>Congo DR</td>\n",
       "      <td>0</td>\n",
       "      <td>2</td>\n",
       "      <td>20</td>\n",
       "      <td>0</td>\n",
       "      <td>1</td>\n",
       "    </tr>\n",
       "    <tr>\n",
       "      <th>462</th>\n",
       "      <td>Sam Byram</td>\n",
       "      <td>West+Ham</td>\n",
       "      <td>23</td>\n",
       "      <td>RB</td>\n",
       "      <td>3</td>\n",
       "      <td>4.5</td>\n",
       "      <td>198</td>\n",
       "      <td>4.5</td>\n",
       "      <td>0.30%</td>\n",
       "      <td>29</td>\n",
       "      <td>1</td>\n",
       "      <td>England</td>\n",
       "      <td>0</td>\n",
       "      <td>2</td>\n",
       "      <td>20</td>\n",
       "      <td>0</td>\n",
       "      <td>0</td>\n",
       "    </tr>\n",
       "    <tr>\n",
       "      <th>463</th>\n",
       "      <td>Ashley Fletcher</td>\n",
       "      <td>West+Ham</td>\n",
       "      <td>21</td>\n",
       "      <td>CF</td>\n",
       "      <td>1</td>\n",
       "      <td>1.0</td>\n",
       "      <td>412</td>\n",
       "      <td>4.5</td>\n",
       "      <td>5.90%</td>\n",
       "      <td>16</td>\n",
       "      <td>1</td>\n",
       "      <td>England</td>\n",
       "      <td>0</td>\n",
       "      <td>1</td>\n",
       "      <td>20</td>\n",
       "      <td>0</td>\n",
       "      <td>1</td>\n",
       "    </tr>\n",
       "  </tbody>\n",
       "</table>\n",
       "<p>172 rows × 17 columns</p>\n",
       "</div>"
      ],
      "text/plain": [
       "                    name      club  age  ... club_id  big_club  new_signing\n",
       "5        Hector Bellerin   Arsenal   22  ...       1         1            0\n",
       "8       Shkodran Mustafi   Arsenal   25  ...       1         1            1\n",
       "9             Alex Iwobi   Arsenal   21  ...       1         1            0\n",
       "10          Granit Xhaka   Arsenal   24  ...       1         1            0\n",
       "11          Granit Xhaka   Arsenal   24  ...       1         1            0\n",
       "..                   ...       ...  ...  ...     ...       ...          ...\n",
       "456         Pedro Obiang  West+Ham   25  ...      20         0            0\n",
       "460  Edimilson Fernandes  West+Ham   21  ...      20         0            1\n",
       "461       Arthur Masuaku  West+Ham   23  ...      20         0            1\n",
       "462            Sam Byram  West+Ham   23  ...      20         0            0\n",
       "463      Ashley Fletcher  West+Ham   21  ...      20         0            1\n",
       "\n",
       "[172 rows x 17 columns]"
      ]
     },
     "execution_count": 24,
     "metadata": {
      "tags": []
     },
     "output_type": "execute_result"
    }
   ],
   "source": [
    "players.loc[players.age.le(25)]"
   ]
  },
  {
   "cell_type": "code",
   "execution_count": 25,
   "metadata": {
    "colab": {
     "base_uri": "https://localhost:8080/",
     "height": 0
    },
    "colab_type": "code",
    "id": "Ti53xq7QjerV",
    "outputId": "02997e87-2b0a-4be0-e4a7-a44bf6eec2aa"
   },
   "outputs": [
    {
     "data": {
      "text/plain": [
       "True"
      ]
     },
     "execution_count": 25,
     "metadata": {
      "tags": []
     },
     "output_type": "execute_result"
    }
   ],
   "source": [
    "players.age.le(25).equals(players.age <= 25)"
   ]
  },
  {
   "cell_type": "markdown",
   "metadata": {
    "colab_type": "text",
    "id": "C7nzP7BQjspS"
   },
   "source": [
    "#### Binary Operators With Booleans"
   ]
  },
  {
   "cell_type": "code",
   "execution_count": 0,
   "metadata": {
    "colab": {},
    "colab_type": "code",
    "id": "OZ1HJFPfqg47"
   },
   "outputs": [],
   "source": [
    "# Binary OR -> |"
   ]
  },
  {
   "cell_type": "code",
   "execution_count": 27,
   "metadata": {
    "colab": {
     "base_uri": "https://localhost:8080/",
     "height": 0
    },
    "colab_type": "code",
    "id": "XOZAVoPlqtKV",
    "outputId": "2e3ac2b2-da02-4c62-ce01-bc97973c6a88"
   },
   "outputs": [
    {
     "data": {
      "text/plain": [
       "True"
      ]
     },
     "execution_count": 27,
     "metadata": {
      "tags": []
     },
     "output_type": "execute_result"
    }
   ],
   "source": [
    "True | False"
   ]
  },
  {
   "cell_type": "code",
   "execution_count": 28,
   "metadata": {
    "colab": {
     "base_uri": "https://localhost:8080/",
     "height": 0
    },
    "colab_type": "code",
    "id": "CX5n602Vqs7T",
    "outputId": "638b5feb-4841-4252-c349-5330829c6e33"
   },
   "outputs": [
    {
     "data": {
      "text/plain": [
       "False"
      ]
     },
     "execution_count": 28,
     "metadata": {
      "tags": []
     },
     "output_type": "execute_result"
    }
   ],
   "source": [
    "False | False"
   ]
  },
  {
   "cell_type": "code",
   "execution_count": 29,
   "metadata": {
    "colab": {
     "base_uri": "https://localhost:8080/",
     "height": 0
    },
    "colab_type": "code",
    "id": "vEYS4ljGqsyd",
    "outputId": "67c53535-b4fa-457d-d62b-86fc39d3496d"
   },
   "outputs": [
    {
     "data": {
      "text/plain": [
       "True"
      ]
     },
     "execution_count": 29,
     "metadata": {
      "tags": []
     },
     "output_type": "execute_result"
    }
   ],
   "source": [
    "False | True"
   ]
  },
  {
   "cell_type": "code",
   "execution_count": 30,
   "metadata": {
    "colab": {
     "base_uri": "https://localhost:8080/",
     "height": 0
    },
    "colab_type": "code",
    "id": "N5CMuPOhqspp",
    "outputId": "7a17c3df-3f83-4a92-effa-57285bb952d1"
   },
   "outputs": [
    {
     "data": {
      "text/plain": [
       "True"
      ]
     },
     "execution_count": 30,
     "metadata": {
      "tags": []
     },
     "output_type": "execute_result"
    }
   ],
   "source": [
    "True | True"
   ]
  },
  {
   "cell_type": "code",
   "execution_count": 0,
   "metadata": {
    "colab": {},
    "colab_type": "code",
    "id": "cB7tTYrFqhBB"
   },
   "outputs": [],
   "source": [
    "# Binary AND -> &"
   ]
  },
  {
   "cell_type": "code",
   "execution_count": 32,
   "metadata": {
    "colab": {
     "base_uri": "https://localhost:8080/",
     "height": 0
    },
    "colab_type": "code",
    "id": "cx2qXNqUrVaY",
    "outputId": "4163a2b8-e1c0-4961-aa6f-971adea421dd"
   },
   "outputs": [
    {
     "data": {
      "text/plain": [
       "False"
      ]
     },
     "execution_count": 32,
     "metadata": {
      "tags": []
     },
     "output_type": "execute_result"
    }
   ],
   "source": [
    "True & False"
   ]
  },
  {
   "cell_type": "code",
   "execution_count": 33,
   "metadata": {
    "colab": {
     "base_uri": "https://localhost:8080/",
     "height": 0
    },
    "colab_type": "code",
    "id": "wNECgKuXrWlj",
    "outputId": "18d613c8-1299-4ce0-efd6-6f306e5c4a5b"
   },
   "outputs": [
    {
     "data": {
      "text/plain": [
       "False"
      ]
     },
     "execution_count": 33,
     "metadata": {
      "tags": []
     },
     "output_type": "execute_result"
    }
   ],
   "source": [
    "False & True"
   ]
  },
  {
   "cell_type": "code",
   "execution_count": 34,
   "metadata": {
    "colab": {
     "base_uri": "https://localhost:8080/",
     "height": 0
    },
    "colab_type": "code",
    "id": "plwStN-brXqg",
    "outputId": "28bb25ee-e898-4984-f980-edfc231593f0"
   },
   "outputs": [
    {
     "data": {
      "text/plain": [
       "False"
      ]
     },
     "execution_count": 34,
     "metadata": {
      "tags": []
     },
     "output_type": "execute_result"
    }
   ],
   "source": [
    "False & False"
   ]
  },
  {
   "cell_type": "code",
   "execution_count": 35,
   "metadata": {
    "colab": {
     "base_uri": "https://localhost:8080/",
     "height": 0
    },
    "colab_type": "code",
    "id": "7x1UjiL7rY2M",
    "outputId": "fcfebde6-fa17-42f3-9fac-41779df3de83"
   },
   "outputs": [
    {
     "data": {
      "text/plain": [
       "True"
      ]
     },
     "execution_count": 35,
     "metadata": {
      "tags": []
     },
     "output_type": "execute_result"
    }
   ],
   "source": [
    "True & True"
   ]
  },
  {
   "cell_type": "code",
   "execution_count": 0,
   "metadata": {
    "colab": {},
    "colab_type": "code",
    "id": "6YxPHHr3ra7k"
   },
   "outputs": [],
   "source": [
    "# a single false is enough!"
   ]
  },
  {
   "cell_type": "code",
   "execution_count": 37,
   "metadata": {
    "colab": {
     "base_uri": "https://localhost:8080/",
     "height": 0
    },
    "colab_type": "code",
    "id": "up6HvPZirhnH",
    "outputId": "1fb0b740-866b-427b-e28d-2219d9195879"
   },
   "outputs": [
    {
     "data": {
      "text/plain": [
       "False"
      ]
     },
     "execution_count": 37,
     "metadata": {
      "tags": []
     },
     "output_type": "execute_result"
    }
   ],
   "source": [
    "True & True & False & True & True"
   ]
  },
  {
   "cell_type": "code",
   "execution_count": 0,
   "metadata": {
    "colab": {},
    "colab_type": "code",
    "id": "37AuMviarjn0"
   },
   "outputs": [],
   "source": [
    "f = pd.Series(False)"
   ]
  },
  {
   "cell_type": "code",
   "execution_count": 39,
   "metadata": {
    "colab": {
     "base_uri": "https://localhost:8080/",
     "height": 0
    },
    "colab_type": "code",
    "id": "cVIp69mfrv-N",
    "outputId": "f00be314-ade6-4329-8043-9b078c7ea8b3"
   },
   "outputs": [
    {
     "data": {
      "text/plain": [
       "0    False\n",
       "dtype: bool"
      ]
     },
     "execution_count": 39,
     "metadata": {
      "tags": []
     },
     "output_type": "execute_result"
    }
   ],
   "source": [
    "f"
   ]
  },
  {
   "cell_type": "code",
   "execution_count": 0,
   "metadata": {
    "colab": {},
    "colab_type": "code",
    "id": "_vek-699rw2Z"
   },
   "outputs": [],
   "source": [
    "t = pd.Series(True)"
   ]
  },
  {
   "cell_type": "code",
   "execution_count": 41,
   "metadata": {
    "colab": {
     "base_uri": "https://localhost:8080/",
     "height": 0
    },
    "colab_type": "code",
    "id": "CFfHrVccryPf",
    "outputId": "a393aefe-92b1-4e5c-8b83-5458a5b11918"
   },
   "outputs": [
    {
     "data": {
      "text/plain": [
       "0    True\n",
       "dtype: bool"
      ]
     },
     "execution_count": 41,
     "metadata": {
      "tags": []
     },
     "output_type": "execute_result"
    }
   ],
   "source": [
    "t\n"
   ]
  },
  {
   "cell_type": "code",
   "execution_count": 42,
   "metadata": {
    "colab": {
     "base_uri": "https://localhost:8080/",
     "height": 0
    },
    "colab_type": "code",
    "id": "lFKXJxADryuE",
    "outputId": "6d88117e-eed2-45e2-bbda-4b1b46443cff"
   },
   "outputs": [
    {
     "data": {
      "text/plain": [
       "0    False\n",
       "dtype: bool"
      ]
     },
     "execution_count": 42,
     "metadata": {
      "tags": []
     },
     "output_type": "execute_result"
    }
   ],
   "source": [
    "t & f"
   ]
  },
  {
   "cell_type": "code",
   "execution_count": 43,
   "metadata": {
    "colab": {
     "base_uri": "https://localhost:8080/",
     "height": 0
    },
    "colab_type": "code",
    "id": "iy5Tojwir1ZE",
    "outputId": "193f4ac2-9205-43d5-8a22-0e80c7f15911"
   },
   "outputs": [
    {
     "data": {
      "text/plain": [
       "0    True\n",
       "dtype: bool"
      ]
     },
     "execution_count": 43,
     "metadata": {
      "tags": []
     },
     "output_type": "execute_result"
    }
   ],
   "source": [
    "t | f"
   ]
  },
  {
   "cell_type": "code",
   "execution_count": 0,
   "metadata": {
    "colab": {},
    "colab_type": "code",
    "id": "-hcFr-tAr5_m"
   },
   "outputs": [],
   "source": [
    "t = pd.Series([True if i%2 ==0 else False for i in range(10)])"
   ]
  },
  {
   "cell_type": "code",
   "execution_count": 45,
   "metadata": {
    "colab": {
     "base_uri": "https://localhost:8080/",
     "height": 0
    },
    "colab_type": "code",
    "id": "ejKz-TTwsF-n",
    "outputId": "827293a4-20bd-4b0b-8c86-9e752350fc96"
   },
   "outputs": [
    {
     "data": {
      "text/plain": [
       "0     True\n",
       "1    False\n",
       "2     True\n",
       "3    False\n",
       "4     True\n",
       "5    False\n",
       "6     True\n",
       "7    False\n",
       "8     True\n",
       "9    False\n",
       "dtype: bool"
      ]
     },
     "execution_count": 45,
     "metadata": {
      "tags": []
     },
     "output_type": "execute_result"
    }
   ],
   "source": [
    "t"
   ]
  },
  {
   "cell_type": "code",
   "execution_count": 0,
   "metadata": {
    "colab": {},
    "colab_type": "code",
    "id": "Cf-P8I43sGgz"
   },
   "outputs": [],
   "source": [
    "f = pd.Series([False for i in range(10)])"
   ]
  },
  {
   "cell_type": "code",
   "execution_count": 47,
   "metadata": {
    "colab": {
     "base_uri": "https://localhost:8080/",
     "height": 0
    },
    "colab_type": "code",
    "id": "qEEVCv-BsJ-O",
    "outputId": "470620fb-7538-4284-b984-e5743e504b96"
   },
   "outputs": [
    {
     "data": {
      "text/plain": [
       "0    False\n",
       "1    False\n",
       "2    False\n",
       "3    False\n",
       "4    False\n",
       "5    False\n",
       "6    False\n",
       "7    False\n",
       "8    False\n",
       "9    False\n",
       "dtype: bool"
      ]
     },
     "execution_count": 47,
     "metadata": {
      "tags": []
     },
     "output_type": "execute_result"
    }
   ],
   "source": [
    "f"
   ]
  },
  {
   "cell_type": "code",
   "execution_count": 48,
   "metadata": {
    "colab": {
     "base_uri": "https://localhost:8080/",
     "height": 0
    },
    "colab_type": "code",
    "id": "0hCu3gsisKbW",
    "outputId": "ec44c4a0-fe22-4984-9edb-bf65eba3a5f7"
   },
   "outputs": [
    {
     "data": {
      "text/plain": [
       "0    False\n",
       "1    False\n",
       "2    False\n",
       "3    False\n",
       "4    False\n",
       "5    False\n",
       "6    False\n",
       "7    False\n",
       "8    False\n",
       "9    False\n",
       "dtype: bool"
      ]
     },
     "execution_count": 48,
     "metadata": {
      "tags": []
     },
     "output_type": "execute_result"
    }
   ],
   "source": [
    "t & f"
   ]
  },
  {
   "cell_type": "code",
   "execution_count": 49,
   "metadata": {
    "colab": {
     "base_uri": "https://localhost:8080/",
     "height": 0
    },
    "colab_type": "code",
    "id": "VasLckXgsTJy",
    "outputId": "140800ef-bd18-4502-f661-86dd5457eb3f"
   },
   "outputs": [
    {
     "data": {
      "text/plain": [
       "0     True\n",
       "1    False\n",
       "2     True\n",
       "3    False\n",
       "4     True\n",
       "5    False\n",
       "6     True\n",
       "7    False\n",
       "8     True\n",
       "9    False\n",
       "dtype: bool"
      ]
     },
     "execution_count": 49,
     "metadata": {
      "tags": []
     },
     "output_type": "execute_result"
    }
   ],
   "source": [
    "t | f"
   ]
  },
  {
   "cell_type": "code",
   "execution_count": 0,
   "metadata": {
    "colab": {},
    "colab_type": "code",
    "id": "GIL2hUtXsUfn"
   },
   "outputs": [],
   "source": [
    "f = pd.Series(data=[False, True, True], index=['c','b', 'a'])\n",
    "t = pd.Series(data=[True, False, False], index=['a', 'b', 'c'])"
   ]
  },
  {
   "cell_type": "code",
   "execution_count": 51,
   "metadata": {
    "colab": {
     "base_uri": "https://localhost:8080/",
     "height": 0
    },
    "colab_type": "code",
    "id": "0DD9UHzSsj_m",
    "outputId": "1f7e1d1c-b086-479a-8352-f593a108813d"
   },
   "outputs": [
    {
     "data": {
      "text/plain": [
       "c    False\n",
       "b     True\n",
       "a     True\n",
       "dtype: bool"
      ]
     },
     "execution_count": 51,
     "metadata": {
      "tags": []
     },
     "output_type": "execute_result"
    }
   ],
   "source": [
    "f"
   ]
  },
  {
   "cell_type": "code",
   "execution_count": 52,
   "metadata": {
    "colab": {
     "base_uri": "https://localhost:8080/",
     "height": 0
    },
    "colab_type": "code",
    "id": "AP7bx6_tskTh",
    "outputId": "a8ce43e5-e872-43cf-fc87-a562fbb6165d"
   },
   "outputs": [
    {
     "data": {
      "text/plain": [
       "a     True\n",
       "b    False\n",
       "c    False\n",
       "dtype: bool"
      ]
     },
     "execution_count": 52,
     "metadata": {
      "tags": []
     },
     "output_type": "execute_result"
    }
   ],
   "source": [
    "t"
   ]
  },
  {
   "cell_type": "code",
   "execution_count": 53,
   "metadata": {
    "colab": {
     "base_uri": "https://localhost:8080/",
     "height": 0
    },
    "colab_type": "code",
    "id": "U_y6IRfRsrYv",
    "outputId": "f4ec9a9e-67df-4d53-eb75-fbf7bbe594c3"
   },
   "outputs": [
    {
     "data": {
      "text/plain": [
       "a     True\n",
       "b    False\n",
       "c    False\n",
       "dtype: bool"
      ]
     },
     "execution_count": 53,
     "metadata": {
      "tags": []
     },
     "output_type": "execute_result"
    }
   ],
   "source": [
    "f & t"
   ]
  },
  {
   "cell_type": "markdown",
   "metadata": {
    "colab_type": "text",
    "id": "BHO3p8hesxk3"
   },
   "source": [
    "#### BONUS - XOR And Complement Binary Ops"
   ]
  },
  {
   "cell_type": "code",
   "execution_count": 0,
   "metadata": {
    "colab": {},
    "colab_type": "code",
    "id": "NdL83PCTwGw5"
   },
   "outputs": [],
   "source": [
    "# Binary XOR -> ^"
   ]
  },
  {
   "cell_type": "code",
   "execution_count": 55,
   "metadata": {
    "colab": {
     "base_uri": "https://localhost:8080/",
     "height": 0
    },
    "colab_type": "code",
    "id": "PT87czi4KCJw",
    "outputId": "fbb72469-825f-4d87-a2c3-2c1c290a5f7c"
   },
   "outputs": [
    {
     "data": {
      "text/plain": [
       "True"
      ]
     },
     "execution_count": 55,
     "metadata": {
      "tags": []
     },
     "output_type": "execute_result"
    }
   ],
   "source": [
    "True ^ False"
   ]
  },
  {
   "cell_type": "code",
   "execution_count": 56,
   "metadata": {
    "colab": {
     "base_uri": "https://localhost:8080/",
     "height": 0
    },
    "colab_type": "code",
    "id": "PzpDbFAK6BI8",
    "outputId": "e2186baa-109c-4c70-c2c6-022fe7ac08cb"
   },
   "outputs": [
    {
     "data": {
      "text/plain": [
       "False"
      ]
     },
     "execution_count": 56,
     "metadata": {
      "tags": []
     },
     "output_type": "execute_result"
    }
   ],
   "source": [
    "False ^ False"
   ]
  },
  {
   "cell_type": "code",
   "execution_count": 57,
   "metadata": {
    "colab": {
     "base_uri": "https://localhost:8080/",
     "height": 0
    },
    "colab_type": "code",
    "id": "lYlZkSpJ6BNF",
    "outputId": "6466d6ba-e0d3-4460-ca44-620e419f26bd"
   },
   "outputs": [
    {
     "data": {
      "text/plain": [
       "False"
      ]
     },
     "execution_count": 57,
     "metadata": {
      "tags": []
     },
     "output_type": "execute_result"
    }
   ],
   "source": [
    "True ^ True"
   ]
  },
  {
   "cell_type": "code",
   "execution_count": 58,
   "metadata": {
    "colab": {
     "base_uri": "https://localhost:8080/",
     "height": 0
    },
    "colab_type": "code",
    "id": "mRnoI0RXKgp1",
    "outputId": "f17dcd65-93d5-48e7-a932-cc8eeb168a7c"
   },
   "outputs": [
    {
     "data": {
      "text/plain": [
       "True"
      ]
     },
     "execution_count": 58,
     "metadata": {
      "tags": []
     },
     "output_type": "execute_result"
    }
   ],
   "source": [
    "True ^ (False | False & True) | False"
   ]
  },
  {
   "cell_type": "code",
   "execution_count": 0,
   "metadata": {
    "colab": {},
    "colab_type": "code",
    "id": "yC3JMKiv6BRl"
   },
   "outputs": [],
   "source": [
    "# (Two's) Complement -> ~"
   ]
  },
  {
   "cell_type": "code",
   "execution_count": 0,
   "metadata": {
    "colab": {},
    "colab_type": "code",
    "id": "F12Yn-qNL48E"
   },
   "outputs": [],
   "source": [
    "# tilde (~) negates"
   ]
  },
  {
   "cell_type": "code",
   "execution_count": 61,
   "metadata": {
    "colab": {
     "base_uri": "https://localhost:8080/",
     "height": 0
    },
    "colab_type": "code",
    "id": "ToZIC_dmDClI",
    "outputId": "f7f24662-b0b9-43de-c3a3-d95b7075ba4e"
   },
   "outputs": [
    {
     "data": {
      "text/plain": [
       "-1"
      ]
     },
     "execution_count": 61,
     "metadata": {
      "tags": []
     },
     "output_type": "execute_result"
    }
   ],
   "source": [
    "~False"
   ]
  },
  {
   "cell_type": "code",
   "execution_count": 62,
   "metadata": {
    "colab": {
     "base_uri": "https://localhost:8080/",
     "height": 0
    },
    "colab_type": "code",
    "id": "bNOmWkwRMSdD",
    "outputId": "05a27464-4ba6-480c-b2bb-774f1073e186"
   },
   "outputs": [
    {
     "data": {
      "text/plain": [
       "-1"
      ]
     },
     "execution_count": 62,
     "metadata": {
      "tags": []
     },
     "output_type": "execute_result"
    }
   ],
   "source": [
    "~0"
   ]
  },
  {
   "cell_type": "code",
   "execution_count": 63,
   "metadata": {
    "colab": {
     "base_uri": "https://localhost:8080/",
     "height": 0
    },
    "colab_type": "code",
    "id": "HyOBZfBYLBFk",
    "outputId": "57f3dfcd-b8f0-4085-c95c-0436f3a9c6de"
   },
   "outputs": [
    {
     "data": {
      "text/plain": [
       "-2"
      ]
     },
     "execution_count": 63,
     "metadata": {
      "tags": []
     },
     "output_type": "execute_result"
    }
   ],
   "source": [
    "~True"
   ]
  },
  {
   "cell_type": "code",
   "execution_count": 64,
   "metadata": {
    "colab": {
     "base_uri": "https://localhost:8080/",
     "height": 0
    },
    "colab_type": "code",
    "id": "KE5w1RcXLDTu",
    "outputId": "f8bbc561-ab8e-41b1-f1d0-1070d3529273"
   },
   "outputs": [
    {
     "data": {
      "text/plain": [
       "-2"
      ]
     },
     "execution_count": 64,
     "metadata": {
      "tags": []
     },
     "output_type": "execute_result"
    }
   ],
   "source": [
    "~1"
   ]
  },
  {
   "cell_type": "code",
   "execution_count": 0,
   "metadata": {
    "colab": {},
    "colab_type": "code",
    "id": "JY51oBJfMBD1"
   },
   "outputs": [],
   "source": [
    "t = pd.Series([True, True, False])"
   ]
  },
  {
   "cell_type": "code",
   "execution_count": 66,
   "metadata": {
    "colab": {
     "base_uri": "https://localhost:8080/",
     "height": 0
    },
    "colab_type": "code",
    "id": "n3welexoMlgO",
    "outputId": "220a39fe-a2eb-4dbf-ab92-a55e72e4728c"
   },
   "outputs": [
    {
     "data": {
      "text/plain": [
       "0     True\n",
       "1     True\n",
       "2    False\n",
       "dtype: bool"
      ]
     },
     "execution_count": 66,
     "metadata": {
      "tags": []
     },
     "output_type": "execute_result"
    }
   ],
   "source": [
    "t"
   ]
  },
  {
   "cell_type": "code",
   "execution_count": 67,
   "metadata": {
    "colab": {
     "base_uri": "https://localhost:8080/",
     "height": 0
    },
    "colab_type": "code",
    "id": "x7Nv4WV5MmDm",
    "outputId": "989d61f6-226f-4c0d-aa4d-1a1debb338fe"
   },
   "outputs": [
    {
     "data": {
      "text/plain": [
       "0    False\n",
       "1    False\n",
       "2     True\n",
       "dtype: bool"
      ]
     },
     "execution_count": 67,
     "metadata": {
      "tags": []
     },
     "output_type": "execute_result"
    }
   ],
   "source": [
    "~t"
   ]
  },
  {
   "cell_type": "markdown",
   "metadata": {
    "colab_type": "text",
    "id": "zK13WRKRMo3F"
   },
   "source": [
    "#### Combining Conditions"
   ]
  },
  {
   "cell_type": "code",
   "execution_count": 0,
   "metadata": {
    "colab": {},
    "colab_type": "code",
    "id": "X0rC0I36skWa"
   },
   "outputs": [],
   "source": [
    "# select all the left backs -> LB"
   ]
  },
  {
   "cell_type": "code",
   "execution_count": 69,
   "metadata": {
    "colab": {
     "base_uri": "https://localhost:8080/",
     "height": 0
    },
    "colab_type": "code",
    "id": "yfhv89KrskS7",
    "outputId": "62e77d6d-cfb1-4955-9eb5-76e5b4d16c51"
   },
   "outputs": [
    {
     "data": {
      "text/html": [
       "<div>\n",
       "<style scoped>\n",
       "    .dataframe tbody tr th:only-of-type {\n",
       "        vertical-align: middle;\n",
       "    }\n",
       "\n",
       "    .dataframe tbody tr th {\n",
       "        vertical-align: top;\n",
       "    }\n",
       "\n",
       "    .dataframe thead th {\n",
       "        text-align: right;\n",
       "    }\n",
       "</style>\n",
       "<table border=\"1\" class=\"dataframe\">\n",
       "  <thead>\n",
       "    <tr style=\"text-align: right;\">\n",
       "      <th></th>\n",
       "      <th>name</th>\n",
       "      <th>club</th>\n",
       "      <th>age</th>\n",
       "      <th>position</th>\n",
       "      <th>position_cat</th>\n",
       "      <th>market_value</th>\n",
       "      <th>page_views</th>\n",
       "      <th>fpl_value</th>\n",
       "      <th>fpl_sel</th>\n",
       "      <th>fpl_points</th>\n",
       "      <th>region</th>\n",
       "      <th>nationality</th>\n",
       "      <th>new_foreign</th>\n",
       "      <th>age_cat</th>\n",
       "      <th>club_id</th>\n",
       "      <th>big_club</th>\n",
       "      <th>new_signing</th>\n",
       "    </tr>\n",
       "  </thead>\n",
       "  <tbody>\n",
       "    <tr>\n",
       "      <th>0</th>\n",
       "      <td>Alexis Sanchez</td>\n",
       "      <td>Arsenal</td>\n",
       "      <td>28</td>\n",
       "      <td>LW</td>\n",
       "      <td>1</td>\n",
       "      <td>65.0</td>\n",
       "      <td>4329</td>\n",
       "      <td>12.0</td>\n",
       "      <td>17.10%</td>\n",
       "      <td>264</td>\n",
       "      <td>3</td>\n",
       "      <td>Chile</td>\n",
       "      <td>0</td>\n",
       "      <td>4</td>\n",
       "      <td>1</td>\n",
       "      <td>1</td>\n",
       "      <td>0</td>\n",
       "    </tr>\n",
       "    <tr>\n",
       "      <th>1</th>\n",
       "      <td>Mesut Ozil</td>\n",
       "      <td>Arsenal</td>\n",
       "      <td>28</td>\n",
       "      <td>AM</td>\n",
       "      <td>1</td>\n",
       "      <td>50.0</td>\n",
       "      <td>4395</td>\n",
       "      <td>9.5</td>\n",
       "      <td>5.60%</td>\n",
       "      <td>167</td>\n",
       "      <td>2</td>\n",
       "      <td>Germany</td>\n",
       "      <td>0</td>\n",
       "      <td>4</td>\n",
       "      <td>1</td>\n",
       "      <td>1</td>\n",
       "      <td>0</td>\n",
       "    </tr>\n",
       "    <tr>\n",
       "      <th>2</th>\n",
       "      <td>Petr Cech</td>\n",
       "      <td>Arsenal</td>\n",
       "      <td>35</td>\n",
       "      <td>GK</td>\n",
       "      <td>4</td>\n",
       "      <td>7.0</td>\n",
       "      <td>1529</td>\n",
       "      <td>5.5</td>\n",
       "      <td>5.90%</td>\n",
       "      <td>134</td>\n",
       "      <td>2</td>\n",
       "      <td>Czech Republic</td>\n",
       "      <td>0</td>\n",
       "      <td>6</td>\n",
       "      <td>1</td>\n",
       "      <td>1</td>\n",
       "      <td>0</td>\n",
       "    </tr>\n",
       "    <tr>\n",
       "      <th>3</th>\n",
       "      <td>Theo Walcott</td>\n",
       "      <td>Arsenal</td>\n",
       "      <td>28</td>\n",
       "      <td>RW</td>\n",
       "      <td>1</td>\n",
       "      <td>20.0</td>\n",
       "      <td>2393</td>\n",
       "      <td>7.5</td>\n",
       "      <td>1.50%</td>\n",
       "      <td>122</td>\n",
       "      <td>1</td>\n",
       "      <td>England</td>\n",
       "      <td>0</td>\n",
       "      <td>4</td>\n",
       "      <td>1</td>\n",
       "      <td>1</td>\n",
       "      <td>0</td>\n",
       "    </tr>\n",
       "    <tr>\n",
       "      <th>4</th>\n",
       "      <td>Laurent Koscielny</td>\n",
       "      <td>Arsenal</td>\n",
       "      <td>31</td>\n",
       "      <td>CB</td>\n",
       "      <td>3</td>\n",
       "      <td>22.0</td>\n",
       "      <td>912</td>\n",
       "      <td>6.0</td>\n",
       "      <td>0.70%</td>\n",
       "      <td>121</td>\n",
       "      <td>2</td>\n",
       "      <td>France</td>\n",
       "      <td>0</td>\n",
       "      <td>4</td>\n",
       "      <td>1</td>\n",
       "      <td>1</td>\n",
       "      <td>0</td>\n",
       "    </tr>\n",
       "  </tbody>\n",
       "</table>\n",
       "</div>"
      ],
      "text/plain": [
       "                name     club  age  ... club_id  big_club  new_signing\n",
       "0     Alexis Sanchez  Arsenal   28  ...       1         1            0\n",
       "1         Mesut Ozil  Arsenal   28  ...       1         1            0\n",
       "2          Petr Cech  Arsenal   35  ...       1         1            0\n",
       "3       Theo Walcott  Arsenal   28  ...       1         1            0\n",
       "4  Laurent Koscielny  Arsenal   31  ...       1         1            0\n",
       "\n",
       "[5 rows x 17 columns]"
      ]
     },
     "execution_count": 69,
     "metadata": {
      "tags": []
     },
     "output_type": "execute_result"
    }
   ],
   "source": [
    "players.head()"
   ]
  },
  {
   "cell_type": "code",
   "execution_count": 0,
   "metadata": {
    "colab": {},
    "colab_type": "code",
    "id": "LTjMQ2NbtEOn"
   },
   "outputs": [],
   "source": [
    "# all left backs who are 25 or younger"
   ]
  },
  {
   "cell_type": "code",
   "execution_count": 71,
   "metadata": {
    "colab": {
     "base_uri": "https://localhost:8080/",
     "height": 0
    },
    "colab_type": "code",
    "id": "L8xpzcVScmjl",
    "outputId": "b7994aff-802a-4b7e-dc54-ea4ce984bc73"
   },
   "outputs": [
    {
     "data": {
      "text/html": [
       "<div>\n",
       "<style scoped>\n",
       "    .dataframe tbody tr th:only-of-type {\n",
       "        vertical-align: middle;\n",
       "    }\n",
       "\n",
       "    .dataframe tbody tr th {\n",
       "        vertical-align: top;\n",
       "    }\n",
       "\n",
       "    .dataframe thead th {\n",
       "        text-align: right;\n",
       "    }\n",
       "</style>\n",
       "<table border=\"1\" class=\"dataframe\">\n",
       "  <thead>\n",
       "    <tr style=\"text-align: right;\">\n",
       "      <th></th>\n",
       "      <th>name</th>\n",
       "      <th>club</th>\n",
       "      <th>age</th>\n",
       "      <th>position</th>\n",
       "      <th>position_cat</th>\n",
       "      <th>market_value</th>\n",
       "      <th>page_views</th>\n",
       "      <th>fpl_value</th>\n",
       "      <th>fpl_sel</th>\n",
       "      <th>fpl_points</th>\n",
       "      <th>region</th>\n",
       "      <th>nationality</th>\n",
       "      <th>new_foreign</th>\n",
       "      <th>age_cat</th>\n",
       "      <th>club_id</th>\n",
       "      <th>big_club</th>\n",
       "      <th>new_signing</th>\n",
       "    </tr>\n",
       "  </thead>\n",
       "  <tbody>\n",
       "    <tr>\n",
       "      <th>29</th>\n",
       "      <td>Sead Kolasinac</td>\n",
       "      <td>Arsenal</td>\n",
       "      <td>24</td>\n",
       "      <td>LB</td>\n",
       "      <td>3</td>\n",
       "      <td>15.00</td>\n",
       "      <td>618</td>\n",
       "      <td>6.0</td>\n",
       "      <td>6.90%</td>\n",
       "      <td>0</td>\n",
       "      <td>2</td>\n",
       "      <td>Bosnia</td>\n",
       "      <td>1</td>\n",
       "      <td>2</td>\n",
       "      <td>1</td>\n",
       "      <td>1</td>\n",
       "      <td>0</td>\n",
       "    </tr>\n",
       "    <tr>\n",
       "      <th>54</th>\n",
       "      <td>Brad Smith</td>\n",
       "      <td>Bournemouth</td>\n",
       "      <td>23</td>\n",
       "      <td>LB</td>\n",
       "      <td>3</td>\n",
       "      <td>2.00</td>\n",
       "      <td>297</td>\n",
       "      <td>4.0</td>\n",
       "      <td>3.30%</td>\n",
       "      <td>4</td>\n",
       "      <td>4</td>\n",
       "      <td>Australia</td>\n",
       "      <td>0</td>\n",
       "      <td>2</td>\n",
       "      <td>2</td>\n",
       "      <td>0</td>\n",
       "      <td>0</td>\n",
       "    </tr>\n",
       "    <tr>\n",
       "      <th>112</th>\n",
       "      <td>Kenedy</td>\n",
       "      <td>Chelsea</td>\n",
       "      <td>21</td>\n",
       "      <td>LB</td>\n",
       "      <td>3</td>\n",
       "      <td>7.00</td>\n",
       "      <td>566</td>\n",
       "      <td>5.0</td>\n",
       "      <td>0.10%</td>\n",
       "      <td>3</td>\n",
       "      <td>3</td>\n",
       "      <td>Brazil</td>\n",
       "      <td>0</td>\n",
       "      <td>1</td>\n",
       "      <td>5</td>\n",
       "      <td>1</td>\n",
       "      <td>0</td>\n",
       "    </tr>\n",
       "    <tr>\n",
       "      <th>128</th>\n",
       "      <td>Jeffrey Schlupp</td>\n",
       "      <td>Crystal+Palace</td>\n",
       "      <td>24</td>\n",
       "      <td>LB</td>\n",
       "      <td>3</td>\n",
       "      <td>8.00</td>\n",
       "      <td>385</td>\n",
       "      <td>5.0</td>\n",
       "      <td>0.30%</td>\n",
       "      <td>47</td>\n",
       "      <td>4</td>\n",
       "      <td>Ghana</td>\n",
       "      <td>0</td>\n",
       "      <td>2</td>\n",
       "      <td>6</td>\n",
       "      <td>0</td>\n",
       "      <td>0</td>\n",
       "    </tr>\n",
       "    <tr>\n",
       "      <th>212</th>\n",
       "      <td>Ben Chilwell</td>\n",
       "      <td>Leicester+City</td>\n",
       "      <td>20</td>\n",
       "      <td>LB</td>\n",
       "      <td>3</td>\n",
       "      <td>2.50</td>\n",
       "      <td>288</td>\n",
       "      <td>4.5</td>\n",
       "      <td>0.80%</td>\n",
       "      <td>19</td>\n",
       "      <td>1</td>\n",
       "      <td>England</td>\n",
       "      <td>0</td>\n",
       "      <td>1</td>\n",
       "      <td>9</td>\n",
       "      <td>0</td>\n",
       "      <td>0</td>\n",
       "    </tr>\n",
       "    <tr>\n",
       "      <th>236</th>\n",
       "      <td>Alberto Moreno</td>\n",
       "      <td>Liverpool</td>\n",
       "      <td>25</td>\n",
       "      <td>LB</td>\n",
       "      <td>3</td>\n",
       "      <td>10.00</td>\n",
       "      <td>397</td>\n",
       "      <td>4.5</td>\n",
       "      <td>0.30%</td>\n",
       "      <td>8</td>\n",
       "      <td>2</td>\n",
       "      <td>Spain</td>\n",
       "      <td>0</td>\n",
       "      <td>3</td>\n",
       "      <td>10</td>\n",
       "      <td>1</td>\n",
       "      <td>0</td>\n",
       "    </tr>\n",
       "    <tr>\n",
       "      <th>281</th>\n",
       "      <td>Luke Shaw</td>\n",
       "      <td>Manchester+United</td>\n",
       "      <td>22</td>\n",
       "      <td>LB</td>\n",
       "      <td>3</td>\n",
       "      <td>20.00</td>\n",
       "      <td>947</td>\n",
       "      <td>5.0</td>\n",
       "      <td>0.40%</td>\n",
       "      <td>45</td>\n",
       "      <td>1</td>\n",
       "      <td>England</td>\n",
       "      <td>0</td>\n",
       "      <td>2</td>\n",
       "      <td>12</td>\n",
       "      <td>1</td>\n",
       "      <td>0</td>\n",
       "    </tr>\n",
       "    <tr>\n",
       "      <th>294</th>\n",
       "      <td>Paul Dummett</td>\n",
       "      <td>Newcastle+United</td>\n",
       "      <td>25</td>\n",
       "      <td>LB</td>\n",
       "      <td>3</td>\n",
       "      <td>3.50</td>\n",
       "      <td>177</td>\n",
       "      <td>4.5</td>\n",
       "      <td>1.00%</td>\n",
       "      <td>0</td>\n",
       "      <td>2</td>\n",
       "      <td>Wales</td>\n",
       "      <td>0</td>\n",
       "      <td>3</td>\n",
       "      <td>13</td>\n",
       "      <td>0</td>\n",
       "      <td>0</td>\n",
       "    </tr>\n",
       "    <tr>\n",
       "      <th>298</th>\n",
       "      <td>Massadio Haidara</td>\n",
       "      <td>Newcastle+United</td>\n",
       "      <td>24</td>\n",
       "      <td>LB</td>\n",
       "      <td>3</td>\n",
       "      <td>1.50</td>\n",
       "      <td>114</td>\n",
       "      <td>4.0</td>\n",
       "      <td>0.50%</td>\n",
       "      <td>0</td>\n",
       "      <td>2</td>\n",
       "      <td>France</td>\n",
       "      <td>0</td>\n",
       "      <td>2</td>\n",
       "      <td>13</td>\n",
       "      <td>0</td>\n",
       "      <td>0</td>\n",
       "    </tr>\n",
       "    <tr>\n",
       "      <th>328</th>\n",
       "      <td>Matt Targett</td>\n",
       "      <td>Southampton</td>\n",
       "      <td>21</td>\n",
       "      <td>LB</td>\n",
       "      <td>3</td>\n",
       "      <td>3.00</td>\n",
       "      <td>110</td>\n",
       "      <td>4.5</td>\n",
       "      <td>0.20%</td>\n",
       "      <td>12</td>\n",
       "      <td>1</td>\n",
       "      <td>England</td>\n",
       "      <td>0</td>\n",
       "      <td>1</td>\n",
       "      <td>14</td>\n",
       "      <td>0</td>\n",
       "      <td>0</td>\n",
       "    </tr>\n",
       "    <tr>\n",
       "      <th>354</th>\n",
       "      <td>Josh Tymon</td>\n",
       "      <td>Stoke+City</td>\n",
       "      <td>18</td>\n",
       "      <td>LB</td>\n",
       "      <td>3</td>\n",
       "      <td>1.00</td>\n",
       "      <td>120</td>\n",
       "      <td>4.5</td>\n",
       "      <td>0.10%</td>\n",
       "      <td>9</td>\n",
       "      <td>1</td>\n",
       "      <td>England</td>\n",
       "      <td>0</td>\n",
       "      <td>1</td>\n",
       "      <td>15</td>\n",
       "      <td>0</td>\n",
       "      <td>0</td>\n",
       "    </tr>\n",
       "    <tr>\n",
       "      <th>369</th>\n",
       "      <td>Stephen Kingsley</td>\n",
       "      <td>Swansea</td>\n",
       "      <td>22</td>\n",
       "      <td>LB</td>\n",
       "      <td>3</td>\n",
       "      <td>0.75</td>\n",
       "      <td>168</td>\n",
       "      <td>4.5</td>\n",
       "      <td>0.20%</td>\n",
       "      <td>29</td>\n",
       "      <td>2</td>\n",
       "      <td>Scotland</td>\n",
       "      <td>0</td>\n",
       "      <td>2</td>\n",
       "      <td>16</td>\n",
       "      <td>0</td>\n",
       "      <td>0</td>\n",
       "    </tr>\n",
       "    <tr>\n",
       "      <th>389</th>\n",
       "      <td>Ben Davies</td>\n",
       "      <td>Tottenham</td>\n",
       "      <td>24</td>\n",
       "      <td>LB</td>\n",
       "      <td>3</td>\n",
       "      <td>12.00</td>\n",
       "      <td>396</td>\n",
       "      <td>5.5</td>\n",
       "      <td>1.80%</td>\n",
       "      <td>90</td>\n",
       "      <td>2</td>\n",
       "      <td>Wales</td>\n",
       "      <td>0</td>\n",
       "      <td>2</td>\n",
       "      <td>17</td>\n",
       "      <td>1</td>\n",
       "      <td>0</td>\n",
       "    </tr>\n",
       "    <tr>\n",
       "      <th>461</th>\n",
       "      <td>Arthur Masuaku</td>\n",
       "      <td>West+Ham</td>\n",
       "      <td>23</td>\n",
       "      <td>LB</td>\n",
       "      <td>3</td>\n",
       "      <td>7.00</td>\n",
       "      <td>199</td>\n",
       "      <td>4.5</td>\n",
       "      <td>0.20%</td>\n",
       "      <td>34</td>\n",
       "      <td>4</td>\n",
       "      <td>Congo DR</td>\n",
       "      <td>0</td>\n",
       "      <td>2</td>\n",
       "      <td>20</td>\n",
       "      <td>0</td>\n",
       "      <td>1</td>\n",
       "    </tr>\n",
       "  </tbody>\n",
       "</table>\n",
       "</div>"
      ],
      "text/plain": [
       "                 name               club  age  ... club_id  big_club  new_signing\n",
       "29     Sead Kolasinac            Arsenal   24  ...       1         1            0\n",
       "54         Brad Smith        Bournemouth   23  ...       2         0            0\n",
       "112            Kenedy            Chelsea   21  ...       5         1            0\n",
       "128   Jeffrey Schlupp     Crystal+Palace   24  ...       6         0            0\n",
       "212      Ben Chilwell     Leicester+City   20  ...       9         0            0\n",
       "236    Alberto Moreno          Liverpool   25  ...      10         1            0\n",
       "281         Luke Shaw  Manchester+United   22  ...      12         1            0\n",
       "294      Paul Dummett   Newcastle+United   25  ...      13         0            0\n",
       "298  Massadio Haidara   Newcastle+United   24  ...      13         0            0\n",
       "328      Matt Targett        Southampton   21  ...      14         0            0\n",
       "354        Josh Tymon         Stoke+City   18  ...      15         0            0\n",
       "369  Stephen Kingsley            Swansea   22  ...      16         0            0\n",
       "389        Ben Davies          Tottenham   24  ...      17         1            0\n",
       "461    Arthur Masuaku           West+Ham   23  ...      20         0            1\n",
       "\n",
       "[14 rows x 17 columns]"
      ]
     },
     "execution_count": 71,
     "metadata": {
      "tags": []
     },
     "output_type": "execute_result"
    }
   ],
   "source": [
    "players[\n",
    "        (players.position == 'LB') & \n",
    "        (players.age <= 25)\n",
    "        ]"
   ]
  },
  {
   "cell_type": "code",
   "execution_count": 0,
   "metadata": {
    "colab": {},
    "colab_type": "code",
    "id": "IbD3ooCXsz6E"
   },
   "outputs": [],
   "source": [
    "# 3 conditions: left backs, 25 or younger, market value 10+"
   ]
  },
  {
   "cell_type": "code",
   "execution_count": 73,
   "metadata": {
    "colab": {
     "base_uri": "https://localhost:8080/",
     "height": 0
    },
    "colab_type": "code",
    "id": "I9NbSG6etq66",
    "outputId": "f3eafb5e-5679-44ea-97ad-312bb7130d63"
   },
   "outputs": [
    {
     "data": {
      "text/html": [
       "<div>\n",
       "<style scoped>\n",
       "    .dataframe tbody tr th:only-of-type {\n",
       "        vertical-align: middle;\n",
       "    }\n",
       "\n",
       "    .dataframe tbody tr th {\n",
       "        vertical-align: top;\n",
       "    }\n",
       "\n",
       "    .dataframe thead th {\n",
       "        text-align: right;\n",
       "    }\n",
       "</style>\n",
       "<table border=\"1\" class=\"dataframe\">\n",
       "  <thead>\n",
       "    <tr style=\"text-align: right;\">\n",
       "      <th></th>\n",
       "      <th>name</th>\n",
       "      <th>club</th>\n",
       "      <th>age</th>\n",
       "      <th>position</th>\n",
       "      <th>position_cat</th>\n",
       "      <th>market_value</th>\n",
       "      <th>page_views</th>\n",
       "      <th>fpl_value</th>\n",
       "      <th>fpl_sel</th>\n",
       "      <th>fpl_points</th>\n",
       "      <th>region</th>\n",
       "      <th>nationality</th>\n",
       "      <th>new_foreign</th>\n",
       "      <th>age_cat</th>\n",
       "      <th>club_id</th>\n",
       "      <th>big_club</th>\n",
       "      <th>new_signing</th>\n",
       "    </tr>\n",
       "  </thead>\n",
       "  <tbody>\n",
       "    <tr>\n",
       "      <th>29</th>\n",
       "      <td>Sead Kolasinac</td>\n",
       "      <td>Arsenal</td>\n",
       "      <td>24</td>\n",
       "      <td>LB</td>\n",
       "      <td>3</td>\n",
       "      <td>15.0</td>\n",
       "      <td>618</td>\n",
       "      <td>6.0</td>\n",
       "      <td>6.90%</td>\n",
       "      <td>0</td>\n",
       "      <td>2</td>\n",
       "      <td>Bosnia</td>\n",
       "      <td>1</td>\n",
       "      <td>2</td>\n",
       "      <td>1</td>\n",
       "      <td>1</td>\n",
       "      <td>0</td>\n",
       "    </tr>\n",
       "    <tr>\n",
       "      <th>236</th>\n",
       "      <td>Alberto Moreno</td>\n",
       "      <td>Liverpool</td>\n",
       "      <td>25</td>\n",
       "      <td>LB</td>\n",
       "      <td>3</td>\n",
       "      <td>10.0</td>\n",
       "      <td>397</td>\n",
       "      <td>4.5</td>\n",
       "      <td>0.30%</td>\n",
       "      <td>8</td>\n",
       "      <td>2</td>\n",
       "      <td>Spain</td>\n",
       "      <td>0</td>\n",
       "      <td>3</td>\n",
       "      <td>10</td>\n",
       "      <td>1</td>\n",
       "      <td>0</td>\n",
       "    </tr>\n",
       "    <tr>\n",
       "      <th>281</th>\n",
       "      <td>Luke Shaw</td>\n",
       "      <td>Manchester+United</td>\n",
       "      <td>22</td>\n",
       "      <td>LB</td>\n",
       "      <td>3</td>\n",
       "      <td>20.0</td>\n",
       "      <td>947</td>\n",
       "      <td>5.0</td>\n",
       "      <td>0.40%</td>\n",
       "      <td>45</td>\n",
       "      <td>1</td>\n",
       "      <td>England</td>\n",
       "      <td>0</td>\n",
       "      <td>2</td>\n",
       "      <td>12</td>\n",
       "      <td>1</td>\n",
       "      <td>0</td>\n",
       "    </tr>\n",
       "    <tr>\n",
       "      <th>389</th>\n",
       "      <td>Ben Davies</td>\n",
       "      <td>Tottenham</td>\n",
       "      <td>24</td>\n",
       "      <td>LB</td>\n",
       "      <td>3</td>\n",
       "      <td>12.0</td>\n",
       "      <td>396</td>\n",
       "      <td>5.5</td>\n",
       "      <td>1.80%</td>\n",
       "      <td>90</td>\n",
       "      <td>2</td>\n",
       "      <td>Wales</td>\n",
       "      <td>0</td>\n",
       "      <td>2</td>\n",
       "      <td>17</td>\n",
       "      <td>1</td>\n",
       "      <td>0</td>\n",
       "    </tr>\n",
       "  </tbody>\n",
       "</table>\n",
       "</div>"
      ],
      "text/plain": [
       "               name               club  age  ... club_id  big_club  new_signing\n",
       "29   Sead Kolasinac            Arsenal   24  ...       1         1            0\n",
       "236  Alberto Moreno          Liverpool   25  ...      10         1            0\n",
       "281       Luke Shaw  Manchester+United   22  ...      12         1            0\n",
       "389      Ben Davies          Tottenham   24  ...      17         1            0\n",
       "\n",
       "[4 rows x 17 columns]"
      ]
     },
     "execution_count": 73,
     "metadata": {
      "tags": []
     },
     "output_type": "execute_result"
    }
   ],
   "source": [
    "players[\n",
    "        (players.position == 'LB') & \n",
    "        (players.age <= 25) & \n",
    "        (players.market_value >= 10)\n",
    "        ]"
   ]
  },
  {
   "cell_type": "code",
   "execution_count": 0,
   "metadata": {
    "colab": {},
    "colab_type": "code",
    "id": "EACnZO1_tv0P"
   },
   "outputs": [],
   "source": [
    "# 4 conditions: left backs, 25 or younger, market value 10+, and NOT from Arsenal or Tottenham clubs"
   ]
  },
  {
   "cell_type": "code",
   "execution_count": 75,
   "metadata": {
    "colab": {
     "base_uri": "https://localhost:8080/",
     "height": 0
    },
    "colab_type": "code",
    "id": "XtLEFM1XuARy",
    "outputId": "910de8d1-47f3-4278-8710-e8d4e10186e4"
   },
   "outputs": [
    {
     "data": {
      "text/html": [
       "<div>\n",
       "<style scoped>\n",
       "    .dataframe tbody tr th:only-of-type {\n",
       "        vertical-align: middle;\n",
       "    }\n",
       "\n",
       "    .dataframe tbody tr th {\n",
       "        vertical-align: top;\n",
       "    }\n",
       "\n",
       "    .dataframe thead th {\n",
       "        text-align: right;\n",
       "    }\n",
       "</style>\n",
       "<table border=\"1\" class=\"dataframe\">\n",
       "  <thead>\n",
       "    <tr style=\"text-align: right;\">\n",
       "      <th></th>\n",
       "      <th>name</th>\n",
       "      <th>club</th>\n",
       "      <th>age</th>\n",
       "      <th>position</th>\n",
       "      <th>position_cat</th>\n",
       "      <th>market_value</th>\n",
       "      <th>page_views</th>\n",
       "      <th>fpl_value</th>\n",
       "      <th>fpl_sel</th>\n",
       "      <th>fpl_points</th>\n",
       "      <th>region</th>\n",
       "      <th>nationality</th>\n",
       "      <th>new_foreign</th>\n",
       "      <th>age_cat</th>\n",
       "      <th>club_id</th>\n",
       "      <th>big_club</th>\n",
       "      <th>new_signing</th>\n",
       "    </tr>\n",
       "  </thead>\n",
       "  <tbody>\n",
       "    <tr>\n",
       "      <th>236</th>\n",
       "      <td>Alberto Moreno</td>\n",
       "      <td>Liverpool</td>\n",
       "      <td>25</td>\n",
       "      <td>LB</td>\n",
       "      <td>3</td>\n",
       "      <td>10.0</td>\n",
       "      <td>397</td>\n",
       "      <td>4.5</td>\n",
       "      <td>0.30%</td>\n",
       "      <td>8</td>\n",
       "      <td>2</td>\n",
       "      <td>Spain</td>\n",
       "      <td>0</td>\n",
       "      <td>3</td>\n",
       "      <td>10</td>\n",
       "      <td>1</td>\n",
       "      <td>0</td>\n",
       "    </tr>\n",
       "    <tr>\n",
       "      <th>281</th>\n",
       "      <td>Luke Shaw</td>\n",
       "      <td>Manchester+United</td>\n",
       "      <td>22</td>\n",
       "      <td>LB</td>\n",
       "      <td>3</td>\n",
       "      <td>20.0</td>\n",
       "      <td>947</td>\n",
       "      <td>5.0</td>\n",
       "      <td>0.40%</td>\n",
       "      <td>45</td>\n",
       "      <td>1</td>\n",
       "      <td>England</td>\n",
       "      <td>0</td>\n",
       "      <td>2</td>\n",
       "      <td>12</td>\n",
       "      <td>1</td>\n",
       "      <td>0</td>\n",
       "    </tr>\n",
       "  </tbody>\n",
       "</table>\n",
       "</div>"
      ],
      "text/plain": [
       "               name               club  age  ... club_id  big_club  new_signing\n",
       "236  Alberto Moreno          Liverpool   25  ...      10         1            0\n",
       "281       Luke Shaw  Manchester+United   22  ...      12         1            0\n",
       "\n",
       "[2 rows x 17 columns]"
      ]
     },
     "execution_count": 75,
     "metadata": {
      "tags": []
     },
     "output_type": "execute_result"
    }
   ],
   "source": [
    "players[\n",
    "        (players.position == 'LB') &\n",
    "        (players.age <= 25) &\n",
    "        (players.market_value >= 10) &\n",
    "        ~(players.club.isin(['Tottenham', 'Arsenal']))\n",
    "        ]"
   ]
  },
  {
   "cell_type": "markdown",
   "metadata": {
    "colab_type": "text",
    "id": "EevHhOEIuPA8"
   },
   "source": [
    "#### Conditions As Variables"
   ]
  },
  {
   "cell_type": "code",
   "execution_count": 76,
   "metadata": {
    "colab": {
     "base_uri": "https://localhost:8080/",
     "height": 0
    },
    "colab_type": "code",
    "id": "9xFiibl9vC7f",
    "outputId": "c2134929-3eda-46a8-e2dc-1f54deee9c11"
   },
   "outputs": [
    {
     "data": {
      "text/html": [
       "<div>\n",
       "<style scoped>\n",
       "    .dataframe tbody tr th:only-of-type {\n",
       "        vertical-align: middle;\n",
       "    }\n",
       "\n",
       "    .dataframe tbody tr th {\n",
       "        vertical-align: top;\n",
       "    }\n",
       "\n",
       "    .dataframe thead th {\n",
       "        text-align: right;\n",
       "    }\n",
       "</style>\n",
       "<table border=\"1\" class=\"dataframe\">\n",
       "  <thead>\n",
       "    <tr style=\"text-align: right;\">\n",
       "      <th></th>\n",
       "      <th>name</th>\n",
       "      <th>club</th>\n",
       "      <th>age</th>\n",
       "      <th>position</th>\n",
       "      <th>position_cat</th>\n",
       "      <th>market_value</th>\n",
       "      <th>page_views</th>\n",
       "      <th>fpl_value</th>\n",
       "      <th>fpl_sel</th>\n",
       "      <th>fpl_points</th>\n",
       "      <th>region</th>\n",
       "      <th>nationality</th>\n",
       "      <th>new_foreign</th>\n",
       "      <th>age_cat</th>\n",
       "      <th>club_id</th>\n",
       "      <th>big_club</th>\n",
       "      <th>new_signing</th>\n",
       "    </tr>\n",
       "  </thead>\n",
       "  <tbody>\n",
       "    <tr>\n",
       "      <th>236</th>\n",
       "      <td>Alberto Moreno</td>\n",
       "      <td>Liverpool</td>\n",
       "      <td>25</td>\n",
       "      <td>LB</td>\n",
       "      <td>3</td>\n",
       "      <td>10.0</td>\n",
       "      <td>397</td>\n",
       "      <td>4.5</td>\n",
       "      <td>0.30%</td>\n",
       "      <td>8</td>\n",
       "      <td>2</td>\n",
       "      <td>Spain</td>\n",
       "      <td>0</td>\n",
       "      <td>3</td>\n",
       "      <td>10</td>\n",
       "      <td>1</td>\n",
       "      <td>0</td>\n",
       "    </tr>\n",
       "    <tr>\n",
       "      <th>281</th>\n",
       "      <td>Luke Shaw</td>\n",
       "      <td>Manchester+United</td>\n",
       "      <td>22</td>\n",
       "      <td>LB</td>\n",
       "      <td>3</td>\n",
       "      <td>20.0</td>\n",
       "      <td>947</td>\n",
       "      <td>5.0</td>\n",
       "      <td>0.40%</td>\n",
       "      <td>45</td>\n",
       "      <td>1</td>\n",
       "      <td>England</td>\n",
       "      <td>0</td>\n",
       "      <td>2</td>\n",
       "      <td>12</td>\n",
       "      <td>1</td>\n",
       "      <td>0</td>\n",
       "    </tr>\n",
       "  </tbody>\n",
       "</table>\n",
       "</div>"
      ],
      "text/plain": [
       "               name               club  age  ... club_id  big_club  new_signing\n",
       "236  Alberto Moreno          Liverpool   25  ...      10         1            0\n",
       "281       Luke Shaw  Manchester+United   22  ...      12         1            0\n",
       "\n",
       "[2 rows x 17 columns]"
      ]
     },
     "execution_count": 76,
     "metadata": {
      "tags": []
     },
     "output_type": "execute_result"
    }
   ],
   "source": [
    "players[\n",
    "        (players.position == 'LB') &\n",
    "        (players.age <= 25) &\n",
    "        (players.market_value >= 10) &\n",
    "        ~(players.club.isin(['Tottenham', 'Arsenal']))\n",
    "        ]"
   ]
  },
  {
   "cell_type": "code",
   "execution_count": 0,
   "metadata": {
    "colab": {},
    "colab_type": "code",
    "id": "KDfB9GqyvkYO"
   },
   "outputs": [],
   "source": [
    "# new target: Arsenal right backs and Chelsea goalkeepers"
   ]
  },
  {
   "cell_type": "code",
   "execution_count": 0,
   "metadata": {
    "colab": {},
    "colab_type": "code",
    "id": "UfvFZKaYw6BU"
   },
   "outputs": [],
   "source": [
    "arsenal_player = players.club == 'Arsenal'"
   ]
  },
  {
   "cell_type": "code",
   "execution_count": 79,
   "metadata": {
    "colab": {
     "base_uri": "https://localhost:8080/",
     "height": 0
    },
    "colab_type": "code",
    "id": "RS3I82Mgw937",
    "outputId": "ea6ea4b2-da5a-4472-cfa0-303bfcf85c70"
   },
   "outputs": [
    {
     "data": {
      "text/plain": [
       "0       True\n",
       "1       True\n",
       "2       True\n",
       "3       True\n",
       "4       True\n",
       "       ...  \n",
       "460    False\n",
       "461    False\n",
       "462    False\n",
       "463    False\n",
       "464    False\n",
       "Name: club, Length: 465, dtype: bool"
      ]
     },
     "execution_count": 79,
     "metadata": {
      "tags": []
     },
     "output_type": "execute_result"
    }
   ],
   "source": [
    "arsenal_player"
   ]
  },
  {
   "cell_type": "code",
   "execution_count": 0,
   "metadata": {
    "colab": {},
    "colab_type": "code",
    "id": "cumDpIWixDDi"
   },
   "outputs": [],
   "source": [
    "right_back = players.position == 'RB'"
   ]
  },
  {
   "cell_type": "code",
   "execution_count": 81,
   "metadata": {
    "colab": {
     "base_uri": "https://localhost:8080/",
     "height": 0
    },
    "colab_type": "code",
    "id": "0fFuCVETxTLA",
    "outputId": "53387e94-99cb-4184-d4ba-c620c19d699d"
   },
   "outputs": [
    {
     "data": {
      "text/plain": [
       "0      False\n",
       "1      False\n",
       "2      False\n",
       "3      False\n",
       "4      False\n",
       "       ...  \n",
       "460    False\n",
       "461    False\n",
       "462     True\n",
       "463    False\n",
       "464    False\n",
       "Name: position, Length: 465, dtype: bool"
      ]
     },
     "execution_count": 81,
     "metadata": {
      "tags": []
     },
     "output_type": "execute_result"
    }
   ],
   "source": [
    "right_back"
   ]
  },
  {
   "cell_type": "code",
   "execution_count": 0,
   "metadata": {
    "colab": {},
    "colab_type": "code",
    "id": "hqhFOaM3xT37"
   },
   "outputs": [],
   "source": [
    "chelsea_and_GK = (players.club == 'Chelsea') & (players.position == 'GK')"
   ]
  },
  {
   "cell_type": "code",
   "execution_count": 83,
   "metadata": {
    "colab": {
     "base_uri": "https://localhost:8080/",
     "height": 0
    },
    "colab_type": "code",
    "id": "b5bGw6OgxhLQ",
    "outputId": "78cca3da-6968-4a3f-afcf-f52b431e10b8"
   },
   "outputs": [
    {
     "data": {
      "text/plain": [
       "0      False\n",
       "1      False\n",
       "2      False\n",
       "3      False\n",
       "4      False\n",
       "       ...  \n",
       "460    False\n",
       "461    False\n",
       "462    False\n",
       "463    False\n",
       "464    False\n",
       "Length: 465, dtype: bool"
      ]
     },
     "execution_count": 83,
     "metadata": {
      "tags": []
     },
     "output_type": "execute_result"
    }
   ],
   "source": [
    "chelsea_and_GK"
   ]
  },
  {
   "cell_type": "code",
   "execution_count": 84,
   "metadata": {
    "colab": {
     "base_uri": "https://localhost:8080/",
     "height": 0
    },
    "colab_type": "code",
    "id": "jH6nfaP2xh5N",
    "outputId": "ba92fed9-2923-4cf5-c837-d79663ef9fa7"
   },
   "outputs": [
    {
     "data": {
      "text/html": [
       "<div>\n",
       "<style scoped>\n",
       "    .dataframe tbody tr th:only-of-type {\n",
       "        vertical-align: middle;\n",
       "    }\n",
       "\n",
       "    .dataframe tbody tr th {\n",
       "        vertical-align: top;\n",
       "    }\n",
       "\n",
       "    .dataframe thead th {\n",
       "        text-align: right;\n",
       "    }\n",
       "</style>\n",
       "<table border=\"1\" class=\"dataframe\">\n",
       "  <thead>\n",
       "    <tr style=\"text-align: right;\">\n",
       "      <th></th>\n",
       "      <th>name</th>\n",
       "      <th>club</th>\n",
       "      <th>age</th>\n",
       "      <th>position</th>\n",
       "      <th>position_cat</th>\n",
       "      <th>market_value</th>\n",
       "      <th>page_views</th>\n",
       "      <th>fpl_value</th>\n",
       "      <th>fpl_sel</th>\n",
       "      <th>fpl_points</th>\n",
       "      <th>region</th>\n",
       "      <th>nationality</th>\n",
       "      <th>new_foreign</th>\n",
       "      <th>age_cat</th>\n",
       "      <th>club_id</th>\n",
       "      <th>big_club</th>\n",
       "      <th>new_signing</th>\n",
       "    </tr>\n",
       "  </thead>\n",
       "  <tbody>\n",
       "    <tr>\n",
       "      <th>5</th>\n",
       "      <td>Hector Bellerin</td>\n",
       "      <td>Arsenal</td>\n",
       "      <td>22</td>\n",
       "      <td>RB</td>\n",
       "      <td>3</td>\n",
       "      <td>30.0</td>\n",
       "      <td>1675</td>\n",
       "      <td>6.0</td>\n",
       "      <td>13.70%</td>\n",
       "      <td>119</td>\n",
       "      <td>2</td>\n",
       "      <td>Spain</td>\n",
       "      <td>0</td>\n",
       "      <td>2</td>\n",
       "      <td>1</td>\n",
       "      <td>1</td>\n",
       "      <td>0</td>\n",
       "    </tr>\n",
       "    <tr>\n",
       "      <th>27</th>\n",
       "      <td>Carl Jenkinson</td>\n",
       "      <td>Arsenal</td>\n",
       "      <td>25</td>\n",
       "      <td>RB</td>\n",
       "      <td>3</td>\n",
       "      <td>5.0</td>\n",
       "      <td>561</td>\n",
       "      <td>4.5</td>\n",
       "      <td>0.40%</td>\n",
       "      <td>2</td>\n",
       "      <td>1</td>\n",
       "      <td>England</td>\n",
       "      <td>0</td>\n",
       "      <td>3</td>\n",
       "      <td>1</td>\n",
       "      <td>1</td>\n",
       "      <td>0</td>\n",
       "    </tr>\n",
       "    <tr>\n",
       "      <th>102</th>\n",
       "      <td>Thibaut Courtois</td>\n",
       "      <td>Chelsea</td>\n",
       "      <td>25</td>\n",
       "      <td>GK</td>\n",
       "      <td>4</td>\n",
       "      <td>40.0</td>\n",
       "      <td>1260</td>\n",
       "      <td>5.5</td>\n",
       "      <td>18.50%</td>\n",
       "      <td>141</td>\n",
       "      <td>2</td>\n",
       "      <td>Belgium</td>\n",
       "      <td>0</td>\n",
       "      <td>3</td>\n",
       "      <td>5</td>\n",
       "      <td>1</td>\n",
       "      <td>0</td>\n",
       "    </tr>\n",
       "    <tr>\n",
       "      <th>109</th>\n",
       "      <td>Willy Caballero</td>\n",
       "      <td>Chelsea</td>\n",
       "      <td>35</td>\n",
       "      <td>GK</td>\n",
       "      <td>4</td>\n",
       "      <td>1.5</td>\n",
       "      <td>542</td>\n",
       "      <td>5.0</td>\n",
       "      <td>0.20%</td>\n",
       "      <td>64</td>\n",
       "      <td>3</td>\n",
       "      <td>Argentina</td>\n",
       "      <td>0</td>\n",
       "      <td>6</td>\n",
       "      <td>5</td>\n",
       "      <td>1</td>\n",
       "      <td>0</td>\n",
       "    </tr>\n",
       "  </tbody>\n",
       "</table>\n",
       "</div>"
      ],
      "text/plain": [
       "                 name     club  age  ... club_id  big_club  new_signing\n",
       "5     Hector Bellerin  Arsenal   22  ...       1         1            0\n",
       "27     Carl Jenkinson  Arsenal   25  ...       1         1            0\n",
       "102  Thibaut Courtois  Chelsea   25  ...       5         1            0\n",
       "109   Willy Caballero  Chelsea   35  ...       5         1            0\n",
       "\n",
       "[4 rows x 17 columns]"
      ]
     },
     "execution_count": 84,
     "metadata": {
      "tags": []
     },
     "output_type": "execute_result"
    }
   ],
   "source": [
    "players.loc[arsenal_player & right_back | chelsea_and_GK]"
   ]
  },
  {
   "cell_type": "markdown",
   "metadata": {
    "colab_type": "text",
    "id": "EAK3ZQ__xo7g"
   },
   "source": [
    "#### Skill Challenge"
   ]
  },
  {
   "cell_type": "markdown",
   "metadata": {
    "colab_type": "text",
    "id": "uaMWs7rRynX_"
   },
   "source": [
    "######Find the players in our dataset that meet these criteria\n",
    "\n",
    "1.   they're English (*nationality*), and\n",
    "2.   their market value is more than twice the average market value in the league (*market_value*), and\n",
    "3. they either have more than 4,000 views (*page_views*) or are a new signing (*new_signing*) but not both"
   ]
  },
  {
   "cell_type": "markdown",
   "metadata": {
    "colab_type": "text",
    "id": "psAdcETH1EHF"
   },
   "source": [
    "#### Solution"
   ]
  },
  {
   "cell_type": "code",
   "execution_count": 85,
   "metadata": {
    "colab": {
     "base_uri": "https://localhost:8080/",
     "height": 0
    },
    "colab_type": "code",
    "id": "tso5UPez1Fhm",
    "outputId": "89d07e8a-4b71-46cb-d79c-1e78f9241b32"
   },
   "outputs": [
    {
     "data": {
      "text/html": [
       "<div>\n",
       "<style scoped>\n",
       "    .dataframe tbody tr th:only-of-type {\n",
       "        vertical-align: middle;\n",
       "    }\n",
       "\n",
       "    .dataframe tbody tr th {\n",
       "        vertical-align: top;\n",
       "    }\n",
       "\n",
       "    .dataframe thead th {\n",
       "        text-align: right;\n",
       "    }\n",
       "</style>\n",
       "<table border=\"1\" class=\"dataframe\">\n",
       "  <thead>\n",
       "    <tr style=\"text-align: right;\">\n",
       "      <th></th>\n",
       "      <th>name</th>\n",
       "      <th>club</th>\n",
       "      <th>age</th>\n",
       "      <th>position</th>\n",
       "      <th>position_cat</th>\n",
       "      <th>market_value</th>\n",
       "      <th>page_views</th>\n",
       "      <th>fpl_value</th>\n",
       "      <th>fpl_sel</th>\n",
       "      <th>fpl_points</th>\n",
       "      <th>region</th>\n",
       "      <th>nationality</th>\n",
       "      <th>new_foreign</th>\n",
       "      <th>age_cat</th>\n",
       "      <th>club_id</th>\n",
       "      <th>big_club</th>\n",
       "      <th>new_signing</th>\n",
       "    </tr>\n",
       "  </thead>\n",
       "  <tbody>\n",
       "    <tr>\n",
       "      <th>0</th>\n",
       "      <td>Alexis Sanchez</td>\n",
       "      <td>Arsenal</td>\n",
       "      <td>28</td>\n",
       "      <td>LW</td>\n",
       "      <td>1</td>\n",
       "      <td>65.0</td>\n",
       "      <td>4329</td>\n",
       "      <td>12.0</td>\n",
       "      <td>17.10%</td>\n",
       "      <td>264</td>\n",
       "      <td>3</td>\n",
       "      <td>Chile</td>\n",
       "      <td>0</td>\n",
       "      <td>4</td>\n",
       "      <td>1</td>\n",
       "      <td>1</td>\n",
       "      <td>0</td>\n",
       "    </tr>\n",
       "    <tr>\n",
       "      <th>1</th>\n",
       "      <td>Mesut Ozil</td>\n",
       "      <td>Arsenal</td>\n",
       "      <td>28</td>\n",
       "      <td>AM</td>\n",
       "      <td>1</td>\n",
       "      <td>50.0</td>\n",
       "      <td>4395</td>\n",
       "      <td>9.5</td>\n",
       "      <td>5.60%</td>\n",
       "      <td>167</td>\n",
       "      <td>2</td>\n",
       "      <td>Germany</td>\n",
       "      <td>0</td>\n",
       "      <td>4</td>\n",
       "      <td>1</td>\n",
       "      <td>1</td>\n",
       "      <td>0</td>\n",
       "    </tr>\n",
       "    <tr>\n",
       "      <th>2</th>\n",
       "      <td>Petr Cech</td>\n",
       "      <td>Arsenal</td>\n",
       "      <td>35</td>\n",
       "      <td>GK</td>\n",
       "      <td>4</td>\n",
       "      <td>7.0</td>\n",
       "      <td>1529</td>\n",
       "      <td>5.5</td>\n",
       "      <td>5.90%</td>\n",
       "      <td>134</td>\n",
       "      <td>2</td>\n",
       "      <td>Czech Republic</td>\n",
       "      <td>0</td>\n",
       "      <td>6</td>\n",
       "      <td>1</td>\n",
       "      <td>1</td>\n",
       "      <td>0</td>\n",
       "    </tr>\n",
       "    <tr>\n",
       "      <th>3</th>\n",
       "      <td>Theo Walcott</td>\n",
       "      <td>Arsenal</td>\n",
       "      <td>28</td>\n",
       "      <td>RW</td>\n",
       "      <td>1</td>\n",
       "      <td>20.0</td>\n",
       "      <td>2393</td>\n",
       "      <td>7.5</td>\n",
       "      <td>1.50%</td>\n",
       "      <td>122</td>\n",
       "      <td>1</td>\n",
       "      <td>England</td>\n",
       "      <td>0</td>\n",
       "      <td>4</td>\n",
       "      <td>1</td>\n",
       "      <td>1</td>\n",
       "      <td>0</td>\n",
       "    </tr>\n",
       "    <tr>\n",
       "      <th>4</th>\n",
       "      <td>Laurent Koscielny</td>\n",
       "      <td>Arsenal</td>\n",
       "      <td>31</td>\n",
       "      <td>CB</td>\n",
       "      <td>3</td>\n",
       "      <td>22.0</td>\n",
       "      <td>912</td>\n",
       "      <td>6.0</td>\n",
       "      <td>0.70%</td>\n",
       "      <td>121</td>\n",
       "      <td>2</td>\n",
       "      <td>France</td>\n",
       "      <td>0</td>\n",
       "      <td>4</td>\n",
       "      <td>1</td>\n",
       "      <td>1</td>\n",
       "      <td>0</td>\n",
       "    </tr>\n",
       "  </tbody>\n",
       "</table>\n",
       "</div>"
      ],
      "text/plain": [
       "                name     club  age  ... club_id  big_club  new_signing\n",
       "0     Alexis Sanchez  Arsenal   28  ...       1         1            0\n",
       "1         Mesut Ozil  Arsenal   28  ...       1         1            0\n",
       "2          Petr Cech  Arsenal   35  ...       1         1            0\n",
       "3       Theo Walcott  Arsenal   28  ...       1         1            0\n",
       "4  Laurent Koscielny  Arsenal   31  ...       1         1            0\n",
       "\n",
       "[5 rows x 17 columns]"
      ]
     },
     "execution_count": 85,
     "metadata": {
      "tags": []
     },
     "output_type": "execute_result"
    }
   ],
   "source": [
    "players.head()"
   ]
  },
  {
   "cell_type": "code",
   "execution_count": 0,
   "metadata": {
    "colab": {},
    "colab_type": "code",
    "id": "Pl9o-vZx1LVJ"
   },
   "outputs": [],
   "source": [
    "# first condition"
   ]
  },
  {
   "cell_type": "code",
   "execution_count": 0,
   "metadata": {
    "colab": {},
    "colab_type": "code",
    "id": "3stESeQ31Rp1"
   },
   "outputs": [],
   "source": [
    "english = players.nationality == 'England'"
   ]
  },
  {
   "cell_type": "code",
   "execution_count": 88,
   "metadata": {
    "colab": {
     "base_uri": "https://localhost:8080/",
     "height": 0
    },
    "colab_type": "code",
    "id": "k3FfTmKk1UFI",
    "outputId": "a1b9b19a-0e8d-4981-ccf6-f0427b4f6b63"
   },
   "outputs": [
    {
     "data": {
      "text/plain": [
       "0    False\n",
       "1    False\n",
       "2    False\n",
       "3     True\n",
       "4    False\n",
       "Name: nationality, dtype: bool"
      ]
     },
     "execution_count": 88,
     "metadata": {
      "tags": []
     },
     "output_type": "execute_result"
    }
   ],
   "source": [
    "english.head()"
   ]
  },
  {
   "cell_type": "code",
   "execution_count": 0,
   "metadata": {
    "colab": {},
    "colab_type": "code",
    "id": "ieDel2OR1VQD"
   },
   "outputs": [],
   "source": [
    "# second condtion"
   ]
  },
  {
   "cell_type": "code",
   "execution_count": 90,
   "metadata": {
    "colab": {
     "base_uri": "https://localhost:8080/",
     "height": 0
    },
    "colab_type": "code",
    "id": "J1Ck1XEW1i5Q",
    "outputId": "e3ed1dc6-a80d-4011-eaa7-c70ba602df5f"
   },
   "outputs": [
    {
     "data": {
      "text/plain": [
       "11.125649350649349"
      ]
     },
     "execution_count": 90,
     "metadata": {
      "tags": []
     },
     "output_type": "execute_result"
    }
   ],
   "source": [
    "players.market_value.mean()"
   ]
  },
  {
   "cell_type": "code",
   "execution_count": 0,
   "metadata": {
    "colab": {},
    "colab_type": "code",
    "id": "H3nck5DN1g-R"
   },
   "outputs": [],
   "source": [
    "above_average = players.market_value > players.market_value.mean() * 2"
   ]
  },
  {
   "cell_type": "code",
   "execution_count": 92,
   "metadata": {
    "colab": {
     "base_uri": "https://localhost:8080/",
     "height": 0
    },
    "colab_type": "code",
    "id": "mpS-AS311rK-",
    "outputId": "0e27bac7-b86b-44c7-e6e6-43175a30836a"
   },
   "outputs": [
    {
     "data": {
      "text/plain": [
       "0     True\n",
       "1     True\n",
       "2    False\n",
       "3    False\n",
       "4    False\n",
       "Name: market_value, dtype: bool"
      ]
     },
     "execution_count": 92,
     "metadata": {
      "tags": []
     },
     "output_type": "execute_result"
    }
   ],
   "source": [
    "above_average.head()"
   ]
  },
  {
   "cell_type": "code",
   "execution_count": 0,
   "metadata": {
    "colab": {},
    "colab_type": "code",
    "id": "-uR37h6a1r-U"
   },
   "outputs": [],
   "source": [
    "# third condition"
   ]
  },
  {
   "cell_type": "code",
   "execution_count": 0,
   "metadata": {
    "colab": {},
    "colab_type": "code",
    "id": "udki5NkC13Yq"
   },
   "outputs": [],
   "source": [
    "popular_xor_new = (players.page_views > 4000) ^ (players.new_signing == 1)"
   ]
  },
  {
   "cell_type": "code",
   "execution_count": 95,
   "metadata": {
    "colab": {
     "base_uri": "https://localhost:8080/",
     "height": 0
    },
    "colab_type": "code",
    "id": "IMvDgJ1I2Dpx",
    "outputId": "5f0bb865-59aa-4adc-8dd5-7b4d27ff046d"
   },
   "outputs": [
    {
     "data": {
      "text/plain": [
       "0     True\n",
       "1     True\n",
       "2    False\n",
       "3    False\n",
       "4    False\n",
       "dtype: bool"
      ]
     },
     "execution_count": 95,
     "metadata": {
      "tags": []
     },
     "output_type": "execute_result"
    }
   ],
   "source": [
    "popular_xor_new.head()"
   ]
  },
  {
   "cell_type": "code",
   "execution_count": 96,
   "metadata": {
    "colab": {
     "base_uri": "https://localhost:8080/",
     "height": 0
    },
    "colab_type": "code",
    "id": "TZnkRUbn2PPg",
    "outputId": "c41aadc2-ffda-4a4c-a3d2-d9c6d3a9b658"
   },
   "outputs": [
    {
     "name": "stdout",
     "output_type": "stream",
     "text": [
      "(465,)\n"
     ]
    }
   ],
   "source": [
    "print(english.shape)"
   ]
  },
  {
   "cell_type": "code",
   "execution_count": 97,
   "metadata": {
    "colab": {
     "base_uri": "https://localhost:8080/",
     "height": 0
    },
    "colab_type": "code",
    "id": "xGqPXyTG2T0M",
    "outputId": "4032fa89-79cd-48a2-8a3a-315ba22001e7"
   },
   "outputs": [
    {
     "name": "stdout",
     "output_type": "stream",
     "text": [
      "(465,)\n",
      "(465,)\n",
      "(465, 17)\n"
     ]
    }
   ],
   "source": [
    "print(above_average.shape)\n",
    "print(popular_xor_new.shape)\n",
    "print(players.shape)"
   ]
  },
  {
   "cell_type": "code",
   "execution_count": 98,
   "metadata": {
    "colab": {
     "base_uri": "https://localhost:8080/",
     "height": 0
    },
    "colab_type": "code",
    "id": "HEXVEjFW2aug",
    "outputId": "1ff51351-87f8-42e4-ca18-15ee455e17cd"
   },
   "outputs": [
    {
     "data": {
      "text/html": [
       "<div>\n",
       "<style scoped>\n",
       "    .dataframe tbody tr th:only-of-type {\n",
       "        vertical-align: middle;\n",
       "    }\n",
       "\n",
       "    .dataframe tbody tr th {\n",
       "        vertical-align: top;\n",
       "    }\n",
       "\n",
       "    .dataframe thead th {\n",
       "        text-align: right;\n",
       "    }\n",
       "</style>\n",
       "<table border=\"1\" class=\"dataframe\">\n",
       "  <thead>\n",
       "    <tr style=\"text-align: right;\">\n",
       "      <th></th>\n",
       "      <th>name</th>\n",
       "      <th>club</th>\n",
       "      <th>age</th>\n",
       "      <th>position</th>\n",
       "      <th>position_cat</th>\n",
       "      <th>market_value</th>\n",
       "      <th>page_views</th>\n",
       "      <th>fpl_value</th>\n",
       "      <th>fpl_sel</th>\n",
       "      <th>fpl_points</th>\n",
       "      <th>region</th>\n",
       "      <th>nationality</th>\n",
       "      <th>new_foreign</th>\n",
       "      <th>age_cat</th>\n",
       "      <th>club_id</th>\n",
       "      <th>big_club</th>\n",
       "      <th>new_signing</th>\n",
       "    </tr>\n",
       "  </thead>\n",
       "  <tbody>\n",
       "    <tr>\n",
       "      <th>256</th>\n",
       "      <td>John Stones</td>\n",
       "      <td>Manchester+City</td>\n",
       "      <td>23</td>\n",
       "      <td>CB</td>\n",
       "      <td>3</td>\n",
       "      <td>35.0</td>\n",
       "      <td>1078</td>\n",
       "      <td>5.5</td>\n",
       "      <td>2.30%</td>\n",
       "      <td>59</td>\n",
       "      <td>1</td>\n",
       "      <td>England</td>\n",
       "      <td>0</td>\n",
       "      <td>2</td>\n",
       "      <td>11</td>\n",
       "      <td>1</td>\n",
       "      <td>1</td>\n",
       "    </tr>\n",
       "    <tr>\n",
       "      <th>380</th>\n",
       "      <td>Dele Alli</td>\n",
       "      <td>Tottenham</td>\n",
       "      <td>21</td>\n",
       "      <td>CM</td>\n",
       "      <td>2</td>\n",
       "      <td>45.0</td>\n",
       "      <td>4626</td>\n",
       "      <td>9.5</td>\n",
       "      <td>38.60%</td>\n",
       "      <td>225</td>\n",
       "      <td>1</td>\n",
       "      <td>England</td>\n",
       "      <td>0</td>\n",
       "      <td>1</td>\n",
       "      <td>17</td>\n",
       "      <td>1</td>\n",
       "      <td>0</td>\n",
       "    </tr>\n",
       "    <tr>\n",
       "      <th>381</th>\n",
       "      <td>Harry Kane</td>\n",
       "      <td>Tottenham</td>\n",
       "      <td>23</td>\n",
       "      <td>CF</td>\n",
       "      <td>1</td>\n",
       "      <td>60.0</td>\n",
       "      <td>4161</td>\n",
       "      <td>12.5</td>\n",
       "      <td>35.10%</td>\n",
       "      <td>224</td>\n",
       "      <td>1</td>\n",
       "      <td>England</td>\n",
       "      <td>0</td>\n",
       "      <td>2</td>\n",
       "      <td>17</td>\n",
       "      <td>1</td>\n",
       "      <td>0</td>\n",
       "    </tr>\n",
       "  </tbody>\n",
       "</table>\n",
       "</div>"
      ],
      "text/plain": [
       "            name             club  age  ... club_id  big_club  new_signing\n",
       "256  John Stones  Manchester+City   23  ...      11         1            1\n",
       "380    Dele Alli        Tottenham   21  ...      17         1            0\n",
       "381   Harry Kane        Tottenham   23  ...      17         1            0\n",
       "\n",
       "[3 rows x 17 columns]"
      ]
     },
     "execution_count": 98,
     "metadata": {
      "tags": []
     },
     "output_type": "execute_result"
    }
   ],
   "source": [
    "players.loc[english & above_average & popular_xor_new]"
   ]
  },
  {
   "cell_type": "markdown",
   "metadata": {
    "colab_type": "text",
    "id": "fXdfYpRj2qAF"
   },
   "source": [
    "#### 2d Indexing"
   ]
  },
  {
   "cell_type": "code",
   "execution_count": 99,
   "metadata": {
    "colab": {
     "base_uri": "https://localhost:8080/",
     "height": 0
    },
    "colab_type": "code",
    "id": "r_q8B2eH3NGF",
    "outputId": "014301e2-c72e-4ea1-e90e-fd95e3040108"
   },
   "outputs": [
    {
     "data": {
      "text/html": [
       "<div>\n",
       "<style scoped>\n",
       "    .dataframe tbody tr th:only-of-type {\n",
       "        vertical-align: middle;\n",
       "    }\n",
       "\n",
       "    .dataframe tbody tr th {\n",
       "        vertical-align: top;\n",
       "    }\n",
       "\n",
       "    .dataframe thead th {\n",
       "        text-align: right;\n",
       "    }\n",
       "</style>\n",
       "<table border=\"1\" class=\"dataframe\">\n",
       "  <thead>\n",
       "    <tr style=\"text-align: right;\">\n",
       "      <th></th>\n",
       "      <th>name</th>\n",
       "      <th>club</th>\n",
       "      <th>age</th>\n",
       "      <th>position</th>\n",
       "      <th>position_cat</th>\n",
       "      <th>market_value</th>\n",
       "      <th>page_views</th>\n",
       "      <th>fpl_value</th>\n",
       "      <th>fpl_sel</th>\n",
       "      <th>fpl_points</th>\n",
       "      <th>region</th>\n",
       "      <th>nationality</th>\n",
       "      <th>new_foreign</th>\n",
       "      <th>age_cat</th>\n",
       "      <th>club_id</th>\n",
       "      <th>big_club</th>\n",
       "      <th>new_signing</th>\n",
       "    </tr>\n",
       "  </thead>\n",
       "  <tbody>\n",
       "    <tr>\n",
       "      <th>0</th>\n",
       "      <td>Alexis Sanchez</td>\n",
       "      <td>Arsenal</td>\n",
       "      <td>28</td>\n",
       "      <td>LW</td>\n",
       "      <td>1</td>\n",
       "      <td>65.0</td>\n",
       "      <td>4329</td>\n",
       "      <td>12.0</td>\n",
       "      <td>17.10%</td>\n",
       "      <td>264</td>\n",
       "      <td>3</td>\n",
       "      <td>Chile</td>\n",
       "      <td>0</td>\n",
       "      <td>4</td>\n",
       "      <td>1</td>\n",
       "      <td>1</td>\n",
       "      <td>0</td>\n",
       "    </tr>\n",
       "    <tr>\n",
       "      <th>1</th>\n",
       "      <td>Mesut Ozil</td>\n",
       "      <td>Arsenal</td>\n",
       "      <td>28</td>\n",
       "      <td>AM</td>\n",
       "      <td>1</td>\n",
       "      <td>50.0</td>\n",
       "      <td>4395</td>\n",
       "      <td>9.5</td>\n",
       "      <td>5.60%</td>\n",
       "      <td>167</td>\n",
       "      <td>2</td>\n",
       "      <td>Germany</td>\n",
       "      <td>0</td>\n",
       "      <td>4</td>\n",
       "      <td>1</td>\n",
       "      <td>1</td>\n",
       "      <td>0</td>\n",
       "    </tr>\n",
       "    <tr>\n",
       "      <th>2</th>\n",
       "      <td>Petr Cech</td>\n",
       "      <td>Arsenal</td>\n",
       "      <td>35</td>\n",
       "      <td>GK</td>\n",
       "      <td>4</td>\n",
       "      <td>7.0</td>\n",
       "      <td>1529</td>\n",
       "      <td>5.5</td>\n",
       "      <td>5.90%</td>\n",
       "      <td>134</td>\n",
       "      <td>2</td>\n",
       "      <td>Czech Republic</td>\n",
       "      <td>0</td>\n",
       "      <td>6</td>\n",
       "      <td>1</td>\n",
       "      <td>1</td>\n",
       "      <td>0</td>\n",
       "    </tr>\n",
       "    <tr>\n",
       "      <th>3</th>\n",
       "      <td>Theo Walcott</td>\n",
       "      <td>Arsenal</td>\n",
       "      <td>28</td>\n",
       "      <td>RW</td>\n",
       "      <td>1</td>\n",
       "      <td>20.0</td>\n",
       "      <td>2393</td>\n",
       "      <td>7.5</td>\n",
       "      <td>1.50%</td>\n",
       "      <td>122</td>\n",
       "      <td>1</td>\n",
       "      <td>England</td>\n",
       "      <td>0</td>\n",
       "      <td>4</td>\n",
       "      <td>1</td>\n",
       "      <td>1</td>\n",
       "      <td>0</td>\n",
       "    </tr>\n",
       "    <tr>\n",
       "      <th>4</th>\n",
       "      <td>Laurent Koscielny</td>\n",
       "      <td>Arsenal</td>\n",
       "      <td>31</td>\n",
       "      <td>CB</td>\n",
       "      <td>3</td>\n",
       "      <td>22.0</td>\n",
       "      <td>912</td>\n",
       "      <td>6.0</td>\n",
       "      <td>0.70%</td>\n",
       "      <td>121</td>\n",
       "      <td>2</td>\n",
       "      <td>France</td>\n",
       "      <td>0</td>\n",
       "      <td>4</td>\n",
       "      <td>1</td>\n",
       "      <td>1</td>\n",
       "      <td>0</td>\n",
       "    </tr>\n",
       "  </tbody>\n",
       "</table>\n",
       "</div>"
      ],
      "text/plain": [
       "                name     club  age  ... club_id  big_club  new_signing\n",
       "0     Alexis Sanchez  Arsenal   28  ...       1         1            0\n",
       "1         Mesut Ozil  Arsenal   28  ...       1         1            0\n",
       "2          Petr Cech  Arsenal   35  ...       1         1            0\n",
       "3       Theo Walcott  Arsenal   28  ...       1         1            0\n",
       "4  Laurent Koscielny  Arsenal   31  ...       1         1            0\n",
       "\n",
       "[5 rows x 17 columns]"
      ]
     },
     "execution_count": 99,
     "metadata": {
      "tags": []
     },
     "output_type": "execute_result"
    }
   ],
   "source": [
    "players.head()"
   ]
  },
  {
   "cell_type": "code",
   "execution_count": 0,
   "metadata": {
    "colab": {},
    "colab_type": "code",
    "id": "2ELozA4M9319"
   },
   "outputs": [],
   "source": [
    "# chelsea players and 23 years old or younger"
   ]
  },
  {
   "cell_type": "code",
   "execution_count": 0,
   "metadata": {
    "colab": {},
    "colab_type": "code",
    "id": "c1mmbsrj96wX"
   },
   "outputs": [],
   "source": [
    "chelsea_23under = (players.club == 'Chelsea') & (players.age.le(23))"
   ]
  },
  {
   "cell_type": "code",
   "execution_count": 102,
   "metadata": {
    "colab": {
     "base_uri": "https://localhost:8080/",
     "height": 0
    },
    "colab_type": "code",
    "id": "BdA7-UVM-Gh8",
    "outputId": "fe84a6d7-be3f-431c-c364-3ee7d5b50b15"
   },
   "outputs": [
    {
     "data": {
      "text/plain": [
       "0    False\n",
       "1    False\n",
       "2    False\n",
       "3    False\n",
       "4    False\n",
       "dtype: bool"
      ]
     },
     "execution_count": 102,
     "metadata": {
      "tags": []
     },
     "output_type": "execute_result"
    }
   ],
   "source": [
    "chelsea_23under.head()"
   ]
  },
  {
   "cell_type": "code",
   "execution_count": 103,
   "metadata": {
    "colab": {
     "base_uri": "https://localhost:8080/",
     "height": 0
    },
    "colab_type": "code",
    "id": "DC8897_n-Hkm",
    "outputId": "fb4abc2b-6217-4a99-f134-7a2bc357cba8"
   },
   "outputs": [
    {
     "data": {
      "text/html": [
       "<div>\n",
       "<style scoped>\n",
       "    .dataframe tbody tr th:only-of-type {\n",
       "        vertical-align: middle;\n",
       "    }\n",
       "\n",
       "    .dataframe tbody tr th {\n",
       "        vertical-align: top;\n",
       "    }\n",
       "\n",
       "    .dataframe thead th {\n",
       "        text-align: right;\n",
       "    }\n",
       "</style>\n",
       "<table border=\"1\" class=\"dataframe\">\n",
       "  <thead>\n",
       "    <tr style=\"text-align: right;\">\n",
       "      <th></th>\n",
       "      <th>position</th>\n",
       "      <th>market_value</th>\n",
       "    </tr>\n",
       "  </thead>\n",
       "  <tbody>\n",
       "    <tr>\n",
       "      <th>110</th>\n",
       "      <td>CF</td>\n",
       "      <td>25.0</td>\n",
       "    </tr>\n",
       "    <tr>\n",
       "      <th>111</th>\n",
       "      <td>CB</td>\n",
       "      <td>15.0</td>\n",
       "    </tr>\n",
       "    <tr>\n",
       "      <th>112</th>\n",
       "      <td>LB</td>\n",
       "      <td>7.0</td>\n",
       "    </tr>\n",
       "    <tr>\n",
       "      <th>115</th>\n",
       "      <td>DM</td>\n",
       "      <td>16.0</td>\n",
       "    </tr>\n",
       "  </tbody>\n",
       "</table>\n",
       "</div>"
      ],
      "text/plain": [
       "    position  market_value\n",
       "110       CF          25.0\n",
       "111       CB          15.0\n",
       "112       LB           7.0\n",
       "115       DM          16.0"
      ]
     },
     "execution_count": 103,
     "metadata": {
      "tags": []
     },
     "output_type": "execute_result"
    }
   ],
   "source": [
    "players.loc[chelsea_23under, ['position', 'market_value']]"
   ]
  },
  {
   "cell_type": "code",
   "execution_count": 0,
   "metadata": {
    "colab": {},
    "colab_type": "code",
    "id": "EbezrwLo-KIJ"
   },
   "outputs": [],
   "source": [
    "# ...select all column that begin with 'p'"
   ]
  },
  {
   "cell_type": "code",
   "execution_count": 0,
   "metadata": {
    "colab": {},
    "colab_type": "code",
    "id": "vIM_qob1-sOX"
   },
   "outputs": [],
   "source": [
    "# startwith"
   ]
  },
  {
   "cell_type": "code",
   "execution_count": 0,
   "metadata": {
    "colab": {},
    "colab_type": "code",
    "id": "dbC1doYM-zvP"
   },
   "outputs": [],
   "source": [
    "p_cols = players.columns.str.startswith('p')"
   ]
  },
  {
   "cell_type": "code",
   "execution_count": 107,
   "metadata": {
    "colab": {
     "base_uri": "https://localhost:8080/",
     "height": 0
    },
    "colab_type": "code",
    "id": "p1sFS2Ob-0qx",
    "outputId": "5d4ea440-f787-4627-fe72-8c66269fe73f"
   },
   "outputs": [
    {
     "data": {
      "text/html": [
       "<div>\n",
       "<style scoped>\n",
       "    .dataframe tbody tr th:only-of-type {\n",
       "        vertical-align: middle;\n",
       "    }\n",
       "\n",
       "    .dataframe tbody tr th {\n",
       "        vertical-align: top;\n",
       "    }\n",
       "\n",
       "    .dataframe thead th {\n",
       "        text-align: right;\n",
       "    }\n",
       "</style>\n",
       "<table border=\"1\" class=\"dataframe\">\n",
       "  <thead>\n",
       "    <tr style=\"text-align: right;\">\n",
       "      <th></th>\n",
       "      <th>position</th>\n",
       "      <th>position_cat</th>\n",
       "      <th>page_views</th>\n",
       "    </tr>\n",
       "  </thead>\n",
       "  <tbody>\n",
       "    <tr>\n",
       "      <th>110</th>\n",
       "      <td>CF</td>\n",
       "      <td>1</td>\n",
       "      <td>1162</td>\n",
       "    </tr>\n",
       "    <tr>\n",
       "      <th>111</th>\n",
       "      <td>CB</td>\n",
       "      <td>3</td>\n",
       "      <td>723</td>\n",
       "    </tr>\n",
       "    <tr>\n",
       "      <th>112</th>\n",
       "      <td>LB</td>\n",
       "      <td>3</td>\n",
       "      <td>566</td>\n",
       "    </tr>\n",
       "    <tr>\n",
       "      <th>115</th>\n",
       "      <td>DM</td>\n",
       "      <td>2</td>\n",
       "      <td>1011</td>\n",
       "    </tr>\n",
       "  </tbody>\n",
       "</table>\n",
       "</div>"
      ],
      "text/plain": [
       "    position  position_cat  page_views\n",
       "110       CF             1        1162\n",
       "111       CB             3         723\n",
       "112       LB             3         566\n",
       "115       DM             2        1011"
      ]
     },
     "execution_count": 107,
     "metadata": {
      "tags": []
     },
     "output_type": "execute_result"
    }
   ],
   "source": [
    "players.loc[chelsea_23under, p_cols]"
   ]
  },
  {
   "cell_type": "code",
   "execution_count": 108,
   "metadata": {
    "colab": {
     "base_uri": "https://localhost:8080/",
     "height": 0
    },
    "colab_type": "code",
    "id": "51IXybz-_BMC",
    "outputId": "86b5f643-363c-4720-94a4-49d457d8092e"
   },
   "outputs": [
    {
     "name": "stdout",
     "output_type": "stream",
     "text": [
      "(465,)\n"
     ]
    }
   ],
   "source": [
    "print(chelsea_23under.shape)"
   ]
  },
  {
   "cell_type": "code",
   "execution_count": 109,
   "metadata": {
    "colab": {
     "base_uri": "https://localhost:8080/",
     "height": 0
    },
    "colab_type": "code",
    "id": "EsCohfig_KT4",
    "outputId": "8713b563-d7a9-4b4d-faa9-9058100b8c7c"
   },
   "outputs": [
    {
     "name": "stdout",
     "output_type": "stream",
     "text": [
      "(465, 17)\n"
     ]
    }
   ],
   "source": [
    "print(players.shape)"
   ]
  },
  {
   "cell_type": "code",
   "execution_count": 110,
   "metadata": {
    "colab": {
     "base_uri": "https://localhost:8080/",
     "height": 0
    },
    "colab_type": "code",
    "id": "DhBQ--Cg_MuL",
    "outputId": "44f49716-492e-4579-efaa-0f0a767e91f8"
   },
   "outputs": [
    {
     "name": "stdout",
     "output_type": "stream",
     "text": [
      "(17,)\n"
     ]
    }
   ],
   "source": [
    "print(p_cols.shape)"
   ]
  },
  {
   "cell_type": "code",
   "execution_count": 0,
   "metadata": {
    "colab": {},
    "colab_type": "code",
    "id": "m0GUZpfO_Y1P"
   },
   "outputs": [],
   "source": [
    "# [] chaining"
   ]
  },
  {
   "cell_type": "code",
   "execution_count": 112,
   "metadata": {
    "colab": {
     "base_uri": "https://localhost:8080/",
     "height": 0
    },
    "colab_type": "code",
    "id": "JVu0K-_m_oxB",
    "outputId": "dcd162e1-7f2c-42f5-d714-a18f9789e45d"
   },
   "outputs": [
    {
     "data": {
      "text/plain": [
       "110    CF\n",
       "111    CB\n",
       "112    LB\n",
       "115    DM\n",
       "Name: position, dtype: object"
      ]
     },
     "execution_count": 112,
     "metadata": {
      "tags": []
     },
     "output_type": "execute_result"
    }
   ],
   "source": [
    "players[chelsea_23under]['position']"
   ]
  },
  {
   "cell_type": "code",
   "execution_count": 113,
   "metadata": {
    "colab": {
     "base_uri": "https://localhost:8080/",
     "height": 0
    },
    "colab_type": "code",
    "id": "S-UpfVEf_re1",
    "outputId": "e2a05728-52d2-409a-cd1c-0ec220cfcefb"
   },
   "outputs": [
    {
     "data": {
      "text/plain": [
       "110    CF\n",
       "111    CB\n",
       "112    LB\n",
       "115    DM\n",
       "Name: position, dtype: object"
      ]
     },
     "execution_count": 113,
     "metadata": {
      "tags": []
     },
     "output_type": "execute_result"
    }
   ],
   "source": [
    "players.loc[chelsea_23under, 'position']"
   ]
  },
  {
   "cell_type": "markdown",
   "metadata": {
    "colab_type": "text",
    "id": "-4YiHimJ_zpx"
   },
   "source": [
    "#### Fancy Indexing With lookup()"
   ]
  },
  {
   "cell_type": "code",
   "execution_count": 114,
   "metadata": {
    "colab": {
     "base_uri": "https://localhost:8080/",
     "height": 0
    },
    "colab_type": "code",
    "id": "hxdSX6IJh9vJ",
    "outputId": "b44fa387-d9ac-4774-9641-3c4afd3839af"
   },
   "outputs": [
    {
     "data": {
      "text/html": [
       "<div>\n",
       "<style scoped>\n",
       "    .dataframe tbody tr th:only-of-type {\n",
       "        vertical-align: middle;\n",
       "    }\n",
       "\n",
       "    .dataframe tbody tr th {\n",
       "        vertical-align: top;\n",
       "    }\n",
       "\n",
       "    .dataframe thead th {\n",
       "        text-align: right;\n",
       "    }\n",
       "</style>\n",
       "<table border=\"1\" class=\"dataframe\">\n",
       "  <thead>\n",
       "    <tr style=\"text-align: right;\">\n",
       "      <th></th>\n",
       "      <th>name</th>\n",
       "      <th>club</th>\n",
       "      <th>age</th>\n",
       "      <th>position</th>\n",
       "      <th>position_cat</th>\n",
       "      <th>market_value</th>\n",
       "      <th>page_views</th>\n",
       "      <th>fpl_value</th>\n",
       "      <th>fpl_sel</th>\n",
       "      <th>fpl_points</th>\n",
       "      <th>region</th>\n",
       "      <th>nationality</th>\n",
       "      <th>new_foreign</th>\n",
       "      <th>age_cat</th>\n",
       "      <th>club_id</th>\n",
       "      <th>big_club</th>\n",
       "      <th>new_signing</th>\n",
       "    </tr>\n",
       "  </thead>\n",
       "  <tbody>\n",
       "    <tr>\n",
       "      <th>0</th>\n",
       "      <td>Alexis Sanchez</td>\n",
       "      <td>Arsenal</td>\n",
       "      <td>28</td>\n",
       "      <td>LW</td>\n",
       "      <td>1</td>\n",
       "      <td>65.0</td>\n",
       "      <td>4329</td>\n",
       "      <td>12.0</td>\n",
       "      <td>17.10%</td>\n",
       "      <td>264</td>\n",
       "      <td>3</td>\n",
       "      <td>Chile</td>\n",
       "      <td>0</td>\n",
       "      <td>4</td>\n",
       "      <td>1</td>\n",
       "      <td>1</td>\n",
       "      <td>0</td>\n",
       "    </tr>\n",
       "    <tr>\n",
       "      <th>1</th>\n",
       "      <td>Mesut Ozil</td>\n",
       "      <td>Arsenal</td>\n",
       "      <td>28</td>\n",
       "      <td>AM</td>\n",
       "      <td>1</td>\n",
       "      <td>50.0</td>\n",
       "      <td>4395</td>\n",
       "      <td>9.5</td>\n",
       "      <td>5.60%</td>\n",
       "      <td>167</td>\n",
       "      <td>2</td>\n",
       "      <td>Germany</td>\n",
       "      <td>0</td>\n",
       "      <td>4</td>\n",
       "      <td>1</td>\n",
       "      <td>1</td>\n",
       "      <td>0</td>\n",
       "    </tr>\n",
       "    <tr>\n",
       "      <th>2</th>\n",
       "      <td>Petr Cech</td>\n",
       "      <td>Arsenal</td>\n",
       "      <td>35</td>\n",
       "      <td>GK</td>\n",
       "      <td>4</td>\n",
       "      <td>7.0</td>\n",
       "      <td>1529</td>\n",
       "      <td>5.5</td>\n",
       "      <td>5.90%</td>\n",
       "      <td>134</td>\n",
       "      <td>2</td>\n",
       "      <td>Czech Republic</td>\n",
       "      <td>0</td>\n",
       "      <td>6</td>\n",
       "      <td>1</td>\n",
       "      <td>1</td>\n",
       "      <td>0</td>\n",
       "    </tr>\n",
       "    <tr>\n",
       "      <th>3</th>\n",
       "      <td>Theo Walcott</td>\n",
       "      <td>Arsenal</td>\n",
       "      <td>28</td>\n",
       "      <td>RW</td>\n",
       "      <td>1</td>\n",
       "      <td>20.0</td>\n",
       "      <td>2393</td>\n",
       "      <td>7.5</td>\n",
       "      <td>1.50%</td>\n",
       "      <td>122</td>\n",
       "      <td>1</td>\n",
       "      <td>England</td>\n",
       "      <td>0</td>\n",
       "      <td>4</td>\n",
       "      <td>1</td>\n",
       "      <td>1</td>\n",
       "      <td>0</td>\n",
       "    </tr>\n",
       "    <tr>\n",
       "      <th>4</th>\n",
       "      <td>Laurent Koscielny</td>\n",
       "      <td>Arsenal</td>\n",
       "      <td>31</td>\n",
       "      <td>CB</td>\n",
       "      <td>3</td>\n",
       "      <td>22.0</td>\n",
       "      <td>912</td>\n",
       "      <td>6.0</td>\n",
       "      <td>0.70%</td>\n",
       "      <td>121</td>\n",
       "      <td>2</td>\n",
       "      <td>France</td>\n",
       "      <td>0</td>\n",
       "      <td>4</td>\n",
       "      <td>1</td>\n",
       "      <td>1</td>\n",
       "      <td>0</td>\n",
       "    </tr>\n",
       "  </tbody>\n",
       "</table>\n",
       "</div>"
      ],
      "text/plain": [
       "                name     club  age  ... club_id  big_club  new_signing\n",
       "0     Alexis Sanchez  Arsenal   28  ...       1         1            0\n",
       "1         Mesut Ozil  Arsenal   28  ...       1         1            0\n",
       "2          Petr Cech  Arsenal   35  ...       1         1            0\n",
       "3       Theo Walcott  Arsenal   28  ...       1         1            0\n",
       "4  Laurent Koscielny  Arsenal   31  ...       1         1            0\n",
       "\n",
       "[5 rows x 17 columns]"
      ]
     },
     "execution_count": 114,
     "metadata": {
      "tags": []
     },
     "output_type": "execute_result"
    }
   ],
   "source": [
    "players.head()"
   ]
  },
  {
   "cell_type": "code",
   "execution_count": 115,
   "metadata": {
    "colab": {
     "base_uri": "https://localhost:8080/",
     "height": 0
    },
    "colab_type": "code",
    "id": "Wm30F1pOoEaq",
    "outputId": "6d6030a8-4be8-4670-eaaa-df0c786c314b"
   },
   "outputs": [
    {
     "data": {
      "text/html": [
       "<div>\n",
       "<style scoped>\n",
       "    .dataframe tbody tr th:only-of-type {\n",
       "        vertical-align: middle;\n",
       "    }\n",
       "\n",
       "    .dataframe tbody tr th {\n",
       "        vertical-align: top;\n",
       "    }\n",
       "\n",
       "    .dataframe thead th {\n",
       "        text-align: right;\n",
       "    }\n",
       "</style>\n",
       "<table border=\"1\" class=\"dataframe\">\n",
       "  <thead>\n",
       "    <tr style=\"text-align: right;\">\n",
       "      <th></th>\n",
       "      <th>name</th>\n",
       "      <th>market_value</th>\n",
       "    </tr>\n",
       "  </thead>\n",
       "  <tbody>\n",
       "    <tr>\n",
       "      <th>0</th>\n",
       "      <td>Alexis Sanchez</td>\n",
       "      <td>65.0</td>\n",
       "    </tr>\n",
       "    <tr>\n",
       "      <th>132</th>\n",
       "      <td>Connor Wickham</td>\n",
       "      <td>6.0</td>\n",
       "    </tr>\n",
       "  </tbody>\n",
       "</table>\n",
       "</div>"
      ],
      "text/plain": [
       "               name  market_value\n",
       "0    Alexis Sanchez          65.0\n",
       "132  Connor Wickham           6.0"
      ]
     },
     "execution_count": 115,
     "metadata": {
      "tags": []
     },
     "output_type": "execute_result"
    }
   ],
   "source": [
    "players.loc[[0, 132], ('name', 'market_value')] # fancy"
   ]
  },
  {
   "cell_type": "code",
   "execution_count": 116,
   "metadata": {
    "colab": {
     "base_uri": "https://localhost:8080/",
     "height": 0
    },
    "colab_type": "code",
    "id": "MsF8hTT7tFjT",
    "outputId": "334bd42a-ebae-4c6d-9316-b16fd781b4ba"
   },
   "outputs": [
    {
     "data": {
      "text/plain": [
       "array(['Alexis Sanchez', 6.0], dtype=object)"
      ]
     },
     "execution_count": 116,
     "metadata": {
      "tags": []
     },
     "output_type": "execute_result"
    }
   ],
   "source": [
    "players.lookup([0, 132], ['name', 'market_value'])"
   ]
  },
  {
   "cell_type": "code",
   "execution_count": 117,
   "metadata": {
    "colab": {
     "base_uri": "https://localhost:8080/",
     "height": 0
    },
    "colab_type": "code",
    "id": "6-0FpeDyyC_0",
    "outputId": "19f5225d-696c-4612-ae3a-b040b3e87c78"
   },
   "outputs": [
    {
     "data": {
      "text/plain": [
       "array([65.0, 'Connor Wickham'], dtype=object)"
      ]
     },
     "execution_count": 117,
     "metadata": {
      "tags": []
     },
     "output_type": "execute_result"
    }
   ],
   "source": [
    "players.lookup([0, 132], ['market_value', 'name'])"
   ]
  },
  {
   "cell_type": "code",
   "execution_count": 0,
   "metadata": {
    "colab": {},
    "colab_type": "code",
    "id": "FwLDq6s9yVp5"
   },
   "outputs": [],
   "source": [
    "names = ['Petr Cech', 'Mesut Ozil', 'Alexis Sanchez']"
   ]
  },
  {
   "cell_type": "code",
   "execution_count": 0,
   "metadata": {
    "colab": {},
    "colab_type": "code",
    "id": "fNyYT274yisP"
   },
   "outputs": [],
   "source": [
    "attributes = ['age', 'market_value', 'page_views']"
   ]
  },
  {
   "cell_type": "code",
   "execution_count": 120,
   "metadata": {
    "colab": {
     "base_uri": "https://localhost:8080/",
     "height": 0
    },
    "colab_type": "code",
    "id": "RckFJGgYyoVG",
    "outputId": "f649e4f7-b179-4a42-c440-8f955ae0e4c8"
   },
   "outputs": [
    {
     "data": {
      "text/plain": [
       "array([  35.,   50., 4329.])"
      ]
     },
     "execution_count": 120,
     "metadata": {
      "tags": []
     },
     "output_type": "execute_result"
    }
   ],
   "source": [
    "players.set_index('name').lookup(names, attributes)"
   ]
  },
  {
   "cell_type": "markdown",
   "metadata": {
    "colab_type": "text",
    "id": "dBWGsSLiy_4I"
   },
   "source": [
    "#### Sorting By Index Or Column"
   ]
  },
  {
   "cell_type": "code",
   "execution_count": 121,
   "metadata": {
    "colab": {
     "base_uri": "https://localhost:8080/",
     "height": 0
    },
    "colab_type": "code",
    "id": "dF_Ztq9U0mIr",
    "outputId": "14456bbd-8987-488d-ddea-5e235a3829e4"
   },
   "outputs": [
    {
     "data": {
      "text/html": [
       "<div>\n",
       "<style scoped>\n",
       "    .dataframe tbody tr th:only-of-type {\n",
       "        vertical-align: middle;\n",
       "    }\n",
       "\n",
       "    .dataframe tbody tr th {\n",
       "        vertical-align: top;\n",
       "    }\n",
       "\n",
       "    .dataframe thead th {\n",
       "        text-align: right;\n",
       "    }\n",
       "</style>\n",
       "<table border=\"1\" class=\"dataframe\">\n",
       "  <thead>\n",
       "    <tr style=\"text-align: right;\">\n",
       "      <th></th>\n",
       "      <th>name</th>\n",
       "      <th>club</th>\n",
       "      <th>age</th>\n",
       "      <th>position</th>\n",
       "      <th>position_cat</th>\n",
       "      <th>market_value</th>\n",
       "      <th>page_views</th>\n",
       "      <th>fpl_value</th>\n",
       "      <th>fpl_sel</th>\n",
       "      <th>fpl_points</th>\n",
       "      <th>region</th>\n",
       "      <th>nationality</th>\n",
       "      <th>new_foreign</th>\n",
       "      <th>age_cat</th>\n",
       "      <th>club_id</th>\n",
       "      <th>big_club</th>\n",
       "      <th>new_signing</th>\n",
       "    </tr>\n",
       "  </thead>\n",
       "  <tbody>\n",
       "    <tr>\n",
       "      <th>0</th>\n",
       "      <td>Alexis Sanchez</td>\n",
       "      <td>Arsenal</td>\n",
       "      <td>28</td>\n",
       "      <td>LW</td>\n",
       "      <td>1</td>\n",
       "      <td>65.0</td>\n",
       "      <td>4329</td>\n",
       "      <td>12.0</td>\n",
       "      <td>17.10%</td>\n",
       "      <td>264</td>\n",
       "      <td>3</td>\n",
       "      <td>Chile</td>\n",
       "      <td>0</td>\n",
       "      <td>4</td>\n",
       "      <td>1</td>\n",
       "      <td>1</td>\n",
       "      <td>0</td>\n",
       "    </tr>\n",
       "    <tr>\n",
       "      <th>1</th>\n",
       "      <td>Mesut Ozil</td>\n",
       "      <td>Arsenal</td>\n",
       "      <td>28</td>\n",
       "      <td>AM</td>\n",
       "      <td>1</td>\n",
       "      <td>50.0</td>\n",
       "      <td>4395</td>\n",
       "      <td>9.5</td>\n",
       "      <td>5.60%</td>\n",
       "      <td>167</td>\n",
       "      <td>2</td>\n",
       "      <td>Germany</td>\n",
       "      <td>0</td>\n",
       "      <td>4</td>\n",
       "      <td>1</td>\n",
       "      <td>1</td>\n",
       "      <td>0</td>\n",
       "    </tr>\n",
       "    <tr>\n",
       "      <th>2</th>\n",
       "      <td>Petr Cech</td>\n",
       "      <td>Arsenal</td>\n",
       "      <td>35</td>\n",
       "      <td>GK</td>\n",
       "      <td>4</td>\n",
       "      <td>7.0</td>\n",
       "      <td>1529</td>\n",
       "      <td>5.5</td>\n",
       "      <td>5.90%</td>\n",
       "      <td>134</td>\n",
       "      <td>2</td>\n",
       "      <td>Czech Republic</td>\n",
       "      <td>0</td>\n",
       "      <td>6</td>\n",
       "      <td>1</td>\n",
       "      <td>1</td>\n",
       "      <td>0</td>\n",
       "    </tr>\n",
       "    <tr>\n",
       "      <th>3</th>\n",
       "      <td>Theo Walcott</td>\n",
       "      <td>Arsenal</td>\n",
       "      <td>28</td>\n",
       "      <td>RW</td>\n",
       "      <td>1</td>\n",
       "      <td>20.0</td>\n",
       "      <td>2393</td>\n",
       "      <td>7.5</td>\n",
       "      <td>1.50%</td>\n",
       "      <td>122</td>\n",
       "      <td>1</td>\n",
       "      <td>England</td>\n",
       "      <td>0</td>\n",
       "      <td>4</td>\n",
       "      <td>1</td>\n",
       "      <td>1</td>\n",
       "      <td>0</td>\n",
       "    </tr>\n",
       "    <tr>\n",
       "      <th>4</th>\n",
       "      <td>Laurent Koscielny</td>\n",
       "      <td>Arsenal</td>\n",
       "      <td>31</td>\n",
       "      <td>CB</td>\n",
       "      <td>3</td>\n",
       "      <td>22.0</td>\n",
       "      <td>912</td>\n",
       "      <td>6.0</td>\n",
       "      <td>0.70%</td>\n",
       "      <td>121</td>\n",
       "      <td>2</td>\n",
       "      <td>France</td>\n",
       "      <td>0</td>\n",
       "      <td>4</td>\n",
       "      <td>1</td>\n",
       "      <td>1</td>\n",
       "      <td>0</td>\n",
       "    </tr>\n",
       "  </tbody>\n",
       "</table>\n",
       "</div>"
      ],
      "text/plain": [
       "                name     club  age  ... club_id  big_club  new_signing\n",
       "0     Alexis Sanchez  Arsenal   28  ...       1         1            0\n",
       "1         Mesut Ozil  Arsenal   28  ...       1         1            0\n",
       "2          Petr Cech  Arsenal   35  ...       1         1            0\n",
       "3       Theo Walcott  Arsenal   28  ...       1         1            0\n",
       "4  Laurent Koscielny  Arsenal   31  ...       1         1            0\n",
       "\n",
       "[5 rows x 17 columns]"
      ]
     },
     "execution_count": 121,
     "metadata": {
      "tags": []
     },
     "output_type": "execute_result"
    }
   ],
   "source": [
    "players.head()"
   ]
  },
  {
   "cell_type": "code",
   "execution_count": 122,
   "metadata": {
    "colab": {
     "base_uri": "https://localhost:8080/",
     "height": 0
    },
    "colab_type": "code",
    "id": "aZzKAGo53yZT",
    "outputId": "ac90e9e7-c85e-4bb5-8601-fbd56235041b"
   },
   "outputs": [
    {
     "data": {
      "text/html": [
       "<div>\n",
       "<style scoped>\n",
       "    .dataframe tbody tr th:only-of-type {\n",
       "        vertical-align: middle;\n",
       "    }\n",
       "\n",
       "    .dataframe tbody tr th {\n",
       "        vertical-align: top;\n",
       "    }\n",
       "\n",
       "    .dataframe thead th {\n",
       "        text-align: right;\n",
       "    }\n",
       "</style>\n",
       "<table border=\"1\" class=\"dataframe\">\n",
       "  <thead>\n",
       "    <tr style=\"text-align: right;\">\n",
       "      <th></th>\n",
       "      <th>name</th>\n",
       "      <th>club</th>\n",
       "      <th>age</th>\n",
       "      <th>position</th>\n",
       "      <th>position_cat</th>\n",
       "      <th>market_value</th>\n",
       "      <th>page_views</th>\n",
       "      <th>fpl_value</th>\n",
       "      <th>fpl_sel</th>\n",
       "      <th>fpl_points</th>\n",
       "      <th>region</th>\n",
       "      <th>nationality</th>\n",
       "      <th>new_foreign</th>\n",
       "      <th>age_cat</th>\n",
       "      <th>club_id</th>\n",
       "      <th>big_club</th>\n",
       "      <th>new_signing</th>\n",
       "    </tr>\n",
       "  </thead>\n",
       "  <tbody>\n",
       "    <tr>\n",
       "      <th>96</th>\n",
       "      <td>Eden Hazard</td>\n",
       "      <td>Chelsea</td>\n",
       "      <td>26</td>\n",
       "      <td>LW</td>\n",
       "      <td>1</td>\n",
       "      <td>75.00</td>\n",
       "      <td>4220</td>\n",
       "      <td>10.5</td>\n",
       "      <td>2.30%</td>\n",
       "      <td>224</td>\n",
       "      <td>2</td>\n",
       "      <td>Belgium</td>\n",
       "      <td>0</td>\n",
       "      <td>3</td>\n",
       "      <td>5</td>\n",
       "      <td>1</td>\n",
       "      <td>0</td>\n",
       "    </tr>\n",
       "    <tr>\n",
       "      <th>267</th>\n",
       "      <td>Paul Pogba</td>\n",
       "      <td>Manchester+United</td>\n",
       "      <td>24</td>\n",
       "      <td>CM</td>\n",
       "      <td>2</td>\n",
       "      <td>75.00</td>\n",
       "      <td>7435</td>\n",
       "      <td>8.0</td>\n",
       "      <td>19.50%</td>\n",
       "      <td>115</td>\n",
       "      <td>2</td>\n",
       "      <td>France</td>\n",
       "      <td>0</td>\n",
       "      <td>2</td>\n",
       "      <td>12</td>\n",
       "      <td>1</td>\n",
       "      <td>1</td>\n",
       "    </tr>\n",
       "    <tr>\n",
       "      <th>0</th>\n",
       "      <td>Alexis Sanchez</td>\n",
       "      <td>Arsenal</td>\n",
       "      <td>28</td>\n",
       "      <td>LW</td>\n",
       "      <td>1</td>\n",
       "      <td>65.00</td>\n",
       "      <td>4329</td>\n",
       "      <td>12.0</td>\n",
       "      <td>17.10%</td>\n",
       "      <td>264</td>\n",
       "      <td>3</td>\n",
       "      <td>Chile</td>\n",
       "      <td>0</td>\n",
       "      <td>4</td>\n",
       "      <td>1</td>\n",
       "      <td>1</td>\n",
       "      <td>0</td>\n",
       "    </tr>\n",
       "    <tr>\n",
       "      <th>244</th>\n",
       "      <td>Kevin De Bruyne</td>\n",
       "      <td>Manchester+City</td>\n",
       "      <td>26</td>\n",
       "      <td>AM</td>\n",
       "      <td>1</td>\n",
       "      <td>65.00</td>\n",
       "      <td>2252</td>\n",
       "      <td>10.0</td>\n",
       "      <td>17.50%</td>\n",
       "      <td>199</td>\n",
       "      <td>2</td>\n",
       "      <td>Belgium</td>\n",
       "      <td>0</td>\n",
       "      <td>3</td>\n",
       "      <td>11</td>\n",
       "      <td>1</td>\n",
       "      <td>0</td>\n",
       "    </tr>\n",
       "    <tr>\n",
       "      <th>245</th>\n",
       "      <td>Sergio Aguero</td>\n",
       "      <td>Manchester+City</td>\n",
       "      <td>29</td>\n",
       "      <td>CF</td>\n",
       "      <td>1</td>\n",
       "      <td>65.00</td>\n",
       "      <td>4046</td>\n",
       "      <td>11.5</td>\n",
       "      <td>9.70%</td>\n",
       "      <td>175</td>\n",
       "      <td>3</td>\n",
       "      <td>Argentina</td>\n",
       "      <td>0</td>\n",
       "      <td>4</td>\n",
       "      <td>11</td>\n",
       "      <td>1</td>\n",
       "      <td>0</td>\n",
       "    </tr>\n",
       "    <tr>\n",
       "      <th>...</th>\n",
       "      <td>...</td>\n",
       "      <td>...</td>\n",
       "      <td>...</td>\n",
       "      <td>...</td>\n",
       "      <td>...</td>\n",
       "      <td>...</td>\n",
       "      <td>...</td>\n",
       "      <td>...</td>\n",
       "      <td>...</td>\n",
       "      <td>...</td>\n",
       "      <td>...</td>\n",
       "      <td>...</td>\n",
       "      <td>...</td>\n",
       "      <td>...</td>\n",
       "      <td>...</td>\n",
       "      <td>...</td>\n",
       "      <td>...</td>\n",
       "    </tr>\n",
       "    <tr>\n",
       "      <th>287</th>\n",
       "      <td>Joel Castro Pereira</td>\n",
       "      <td>Manchester+United</td>\n",
       "      <td>21</td>\n",
       "      <td>GK</td>\n",
       "      <td>4</td>\n",
       "      <td>0.10</td>\n",
       "      <td>395</td>\n",
       "      <td>4.0</td>\n",
       "      <td>1.00%</td>\n",
       "      <td>6</td>\n",
       "      <td>2</td>\n",
       "      <td>Portugal</td>\n",
       "      <td>0</td>\n",
       "      <td>1</td>\n",
       "      <td>12</td>\n",
       "      <td>1</td>\n",
       "      <td>0</td>\n",
       "    </tr>\n",
       "    <tr>\n",
       "      <th>113</th>\n",
       "      <td>Eduardo Carvalho</td>\n",
       "      <td>Chelsea</td>\n",
       "      <td>34</td>\n",
       "      <td>LW</td>\n",
       "      <td>1</td>\n",
       "      <td>0.05</td>\n",
       "      <td>467</td>\n",
       "      <td>5.0</td>\n",
       "      <td>0.10%</td>\n",
       "      <td>0</td>\n",
       "      <td>2</td>\n",
       "      <td>Portugal</td>\n",
       "      <td>0</td>\n",
       "      <td>6</td>\n",
       "      <td>5</td>\n",
       "      <td>1</td>\n",
       "      <td>1</td>\n",
       "    </tr>\n",
       "    <tr>\n",
       "      <th>30</th>\n",
       "      <td>Granit Xhaka</td>\n",
       "      <td>Arsenal</td>\n",
       "      <td>24</td>\n",
       "      <td>NaN</td>\n",
       "      <td>2</td>\n",
       "      <td>NaN</td>\n",
       "      <td>1815</td>\n",
       "      <td>5.5</td>\n",
       "      <td>2.00%</td>\n",
       "      <td>85</td>\n",
       "      <td>2</td>\n",
       "      <td>Switzerland</td>\n",
       "      <td>0</td>\n",
       "      <td>2</td>\n",
       "      <td>1</td>\n",
       "      <td>1</td>\n",
       "      <td>0</td>\n",
       "    </tr>\n",
       "    <tr>\n",
       "      <th>192</th>\n",
       "      <td>Steve Mounie</td>\n",
       "      <td>Huddersfield</td>\n",
       "      <td>22</td>\n",
       "      <td>CF</td>\n",
       "      <td>1</td>\n",
       "      <td>NaN</td>\n",
       "      <td>56</td>\n",
       "      <td>6.0</td>\n",
       "      <td>0.60%</td>\n",
       "      <td>0</td>\n",
       "      <td>2</td>\n",
       "      <td>Benin</td>\n",
       "      <td>0</td>\n",
       "      <td>2</td>\n",
       "      <td>8</td>\n",
       "      <td>0</td>\n",
       "      <td>0</td>\n",
       "    </tr>\n",
       "    <tr>\n",
       "      <th>195</th>\n",
       "      <td>Kasper Schmeichel</td>\n",
       "      <td>Leicester+City</td>\n",
       "      <td>30</td>\n",
       "      <td>GK</td>\n",
       "      <td>4</td>\n",
       "      <td>NaN</td>\n",
       "      <td>1601</td>\n",
       "      <td>5.0</td>\n",
       "      <td>2.40%</td>\n",
       "      <td>109</td>\n",
       "      <td>2</td>\n",
       "      <td>Denmark</td>\n",
       "      <td>0</td>\n",
       "      <td>4</td>\n",
       "      <td>9</td>\n",
       "      <td>0</td>\n",
       "      <td>0</td>\n",
       "    </tr>\n",
       "  </tbody>\n",
       "</table>\n",
       "<p>465 rows × 17 columns</p>\n",
       "</div>"
      ],
      "text/plain": [
       "                    name               club  ...  big_club new_signing\n",
       "96           Eden Hazard            Chelsea  ...         1           0\n",
       "267           Paul Pogba  Manchester+United  ...         1           1\n",
       "0         Alexis Sanchez            Arsenal  ...         1           0\n",
       "244      Kevin De Bruyne    Manchester+City  ...         1           0\n",
       "245        Sergio Aguero    Manchester+City  ...         1           0\n",
       "..                   ...                ...  ...       ...         ...\n",
       "287  Joel Castro Pereira  Manchester+United  ...         1           0\n",
       "113     Eduardo Carvalho            Chelsea  ...         1           1\n",
       "30          Granit Xhaka            Arsenal  ...         1           0\n",
       "192         Steve Mounie       Huddersfield  ...         0           0\n",
       "195    Kasper Schmeichel     Leicester+City  ...         0           0\n",
       "\n",
       "[465 rows x 17 columns]"
      ]
     },
     "execution_count": 122,
     "metadata": {
      "tags": []
     },
     "output_type": "execute_result"
    }
   ],
   "source": [
    "players.sort_values(by='market_value', ascending=False)"
   ]
  },
  {
   "cell_type": "code",
   "execution_count": 123,
   "metadata": {
    "colab": {
     "base_uri": "https://localhost:8080/",
     "height": 0
    },
    "colab_type": "code",
    "id": "F53X1_Oe4NBd",
    "outputId": "6f45a320-d422-4dcd-db8c-d822cbece09f"
   },
   "outputs": [
    {
     "data": {
      "text/plain": [
       "RangeIndex(start=0, stop=465, step=1)"
      ]
     },
     "execution_count": 123,
     "metadata": {
      "tags": []
     },
     "output_type": "execute_result"
    }
   ],
   "source": [
    "players.index"
   ]
  },
  {
   "cell_type": "code",
   "execution_count": 0,
   "metadata": {
    "colab": {},
    "colab_type": "code",
    "id": "-Gt_xV9T4VZ3"
   },
   "outputs": [],
   "source": [
    "players.set_index('name', inplace=True)"
   ]
  },
  {
   "cell_type": "code",
   "execution_count": 125,
   "metadata": {
    "colab": {
     "base_uri": "https://localhost:8080/",
     "height": 0
    },
    "colab_type": "code",
    "id": "KKrNqyW-4fZZ",
    "outputId": "ffef303d-3f67-4f29-a21a-9922e62860d0"
   },
   "outputs": [
    {
     "data": {
      "text/html": [
       "<div>\n",
       "<style scoped>\n",
       "    .dataframe tbody tr th:only-of-type {\n",
       "        vertical-align: middle;\n",
       "    }\n",
       "\n",
       "    .dataframe tbody tr th {\n",
       "        vertical-align: top;\n",
       "    }\n",
       "\n",
       "    .dataframe thead th {\n",
       "        text-align: right;\n",
       "    }\n",
       "</style>\n",
       "<table border=\"1\" class=\"dataframe\">\n",
       "  <thead>\n",
       "    <tr style=\"text-align: right;\">\n",
       "      <th></th>\n",
       "      <th>club</th>\n",
       "      <th>age</th>\n",
       "      <th>position</th>\n",
       "      <th>position_cat</th>\n",
       "      <th>market_value</th>\n",
       "      <th>page_views</th>\n",
       "      <th>fpl_value</th>\n",
       "      <th>fpl_sel</th>\n",
       "      <th>fpl_points</th>\n",
       "      <th>region</th>\n",
       "      <th>nationality</th>\n",
       "      <th>new_foreign</th>\n",
       "      <th>age_cat</th>\n",
       "      <th>club_id</th>\n",
       "      <th>big_club</th>\n",
       "      <th>new_signing</th>\n",
       "    </tr>\n",
       "    <tr>\n",
       "      <th>name</th>\n",
       "      <th></th>\n",
       "      <th></th>\n",
       "      <th></th>\n",
       "      <th></th>\n",
       "      <th></th>\n",
       "      <th></th>\n",
       "      <th></th>\n",
       "      <th></th>\n",
       "      <th></th>\n",
       "      <th></th>\n",
       "      <th></th>\n",
       "      <th></th>\n",
       "      <th></th>\n",
       "      <th></th>\n",
       "      <th></th>\n",
       "      <th></th>\n",
       "    </tr>\n",
       "  </thead>\n",
       "  <tbody>\n",
       "    <tr>\n",
       "      <th>Alexis Sanchez</th>\n",
       "      <td>Arsenal</td>\n",
       "      <td>28</td>\n",
       "      <td>LW</td>\n",
       "      <td>1</td>\n",
       "      <td>65.0</td>\n",
       "      <td>4329</td>\n",
       "      <td>12.0</td>\n",
       "      <td>17.10%</td>\n",
       "      <td>264</td>\n",
       "      <td>3</td>\n",
       "      <td>Chile</td>\n",
       "      <td>0</td>\n",
       "      <td>4</td>\n",
       "      <td>1</td>\n",
       "      <td>1</td>\n",
       "      <td>0</td>\n",
       "    </tr>\n",
       "    <tr>\n",
       "      <th>Mesut Ozil</th>\n",
       "      <td>Arsenal</td>\n",
       "      <td>28</td>\n",
       "      <td>AM</td>\n",
       "      <td>1</td>\n",
       "      <td>50.0</td>\n",
       "      <td>4395</td>\n",
       "      <td>9.5</td>\n",
       "      <td>5.60%</td>\n",
       "      <td>167</td>\n",
       "      <td>2</td>\n",
       "      <td>Germany</td>\n",
       "      <td>0</td>\n",
       "      <td>4</td>\n",
       "      <td>1</td>\n",
       "      <td>1</td>\n",
       "      <td>0</td>\n",
       "    </tr>\n",
       "    <tr>\n",
       "      <th>Petr Cech</th>\n",
       "      <td>Arsenal</td>\n",
       "      <td>35</td>\n",
       "      <td>GK</td>\n",
       "      <td>4</td>\n",
       "      <td>7.0</td>\n",
       "      <td>1529</td>\n",
       "      <td>5.5</td>\n",
       "      <td>5.90%</td>\n",
       "      <td>134</td>\n",
       "      <td>2</td>\n",
       "      <td>Czech Republic</td>\n",
       "      <td>0</td>\n",
       "      <td>6</td>\n",
       "      <td>1</td>\n",
       "      <td>1</td>\n",
       "      <td>0</td>\n",
       "    </tr>\n",
       "    <tr>\n",
       "      <th>Theo Walcott</th>\n",
       "      <td>Arsenal</td>\n",
       "      <td>28</td>\n",
       "      <td>RW</td>\n",
       "      <td>1</td>\n",
       "      <td>20.0</td>\n",
       "      <td>2393</td>\n",
       "      <td>7.5</td>\n",
       "      <td>1.50%</td>\n",
       "      <td>122</td>\n",
       "      <td>1</td>\n",
       "      <td>England</td>\n",
       "      <td>0</td>\n",
       "      <td>4</td>\n",
       "      <td>1</td>\n",
       "      <td>1</td>\n",
       "      <td>0</td>\n",
       "    </tr>\n",
       "    <tr>\n",
       "      <th>Laurent Koscielny</th>\n",
       "      <td>Arsenal</td>\n",
       "      <td>31</td>\n",
       "      <td>CB</td>\n",
       "      <td>3</td>\n",
       "      <td>22.0</td>\n",
       "      <td>912</td>\n",
       "      <td>6.0</td>\n",
       "      <td>0.70%</td>\n",
       "      <td>121</td>\n",
       "      <td>2</td>\n",
       "      <td>France</td>\n",
       "      <td>0</td>\n",
       "      <td>4</td>\n",
       "      <td>1</td>\n",
       "      <td>1</td>\n",
       "      <td>0</td>\n",
       "    </tr>\n",
       "    <tr>\n",
       "      <th>Hector Bellerin</th>\n",
       "      <td>Arsenal</td>\n",
       "      <td>22</td>\n",
       "      <td>RB</td>\n",
       "      <td>3</td>\n",
       "      <td>30.0</td>\n",
       "      <td>1675</td>\n",
       "      <td>6.0</td>\n",
       "      <td>13.70%</td>\n",
       "      <td>119</td>\n",
       "      <td>2</td>\n",
       "      <td>Spain</td>\n",
       "      <td>0</td>\n",
       "      <td>2</td>\n",
       "      <td>1</td>\n",
       "      <td>1</td>\n",
       "      <td>0</td>\n",
       "    </tr>\n",
       "    <tr>\n",
       "      <th>Olivier Giroud</th>\n",
       "      <td>Arsenal</td>\n",
       "      <td>30</td>\n",
       "      <td>CF</td>\n",
       "      <td>1</td>\n",
       "      <td>22.0</td>\n",
       "      <td>2230</td>\n",
       "      <td>8.5</td>\n",
       "      <td>2.50%</td>\n",
       "      <td>116</td>\n",
       "      <td>2</td>\n",
       "      <td>France</td>\n",
       "      <td>0</td>\n",
       "      <td>4</td>\n",
       "      <td>1</td>\n",
       "      <td>1</td>\n",
       "      <td>0</td>\n",
       "    </tr>\n",
       "    <tr>\n",
       "      <th>Nacho Monreal</th>\n",
       "      <td>Arsenal</td>\n",
       "      <td>31</td>\n",
       "      <td>LB</td>\n",
       "      <td>3</td>\n",
       "      <td>13.0</td>\n",
       "      <td>555</td>\n",
       "      <td>5.5</td>\n",
       "      <td>4.70%</td>\n",
       "      <td>115</td>\n",
       "      <td>2</td>\n",
       "      <td>Spain</td>\n",
       "      <td>0</td>\n",
       "      <td>4</td>\n",
       "      <td>1</td>\n",
       "      <td>1</td>\n",
       "      <td>0</td>\n",
       "    </tr>\n",
       "    <tr>\n",
       "      <th>Shkodran Mustafi</th>\n",
       "      <td>Arsenal</td>\n",
       "      <td>25</td>\n",
       "      <td>CB</td>\n",
       "      <td>3</td>\n",
       "      <td>30.0</td>\n",
       "      <td>1877</td>\n",
       "      <td>5.5</td>\n",
       "      <td>4.00%</td>\n",
       "      <td>90</td>\n",
       "      <td>2</td>\n",
       "      <td>Germany</td>\n",
       "      <td>0</td>\n",
       "      <td>3</td>\n",
       "      <td>1</td>\n",
       "      <td>1</td>\n",
       "      <td>1</td>\n",
       "    </tr>\n",
       "    <tr>\n",
       "      <th>Alex Iwobi</th>\n",
       "      <td>Arsenal</td>\n",
       "      <td>21</td>\n",
       "      <td>LW</td>\n",
       "      <td>1</td>\n",
       "      <td>10.0</td>\n",
       "      <td>1812</td>\n",
       "      <td>5.5</td>\n",
       "      <td>1.00%</td>\n",
       "      <td>89</td>\n",
       "      <td>4</td>\n",
       "      <td>Nigeria</td>\n",
       "      <td>0</td>\n",
       "      <td>1</td>\n",
       "      <td>1</td>\n",
       "      <td>1</td>\n",
       "      <td>0</td>\n",
       "    </tr>\n",
       "  </tbody>\n",
       "</table>\n",
       "</div>"
      ],
      "text/plain": [
       "                      club  age position  ...  club_id  big_club  new_signing\n",
       "name                                      ...                                \n",
       "Alexis Sanchez     Arsenal   28       LW  ...        1         1            0\n",
       "Mesut Ozil         Arsenal   28       AM  ...        1         1            0\n",
       "Petr Cech          Arsenal   35       GK  ...        1         1            0\n",
       "Theo Walcott       Arsenal   28       RW  ...        1         1            0\n",
       "Laurent Koscielny  Arsenal   31       CB  ...        1         1            0\n",
       "Hector Bellerin    Arsenal   22       RB  ...        1         1            0\n",
       "Olivier Giroud     Arsenal   30       CF  ...        1         1            0\n",
       "Nacho Monreal      Arsenal   31       LB  ...        1         1            0\n",
       "Shkodran Mustafi   Arsenal   25       CB  ...        1         1            1\n",
       "Alex Iwobi         Arsenal   21       LW  ...        1         1            0\n",
       "\n",
       "[10 rows x 16 columns]"
      ]
     },
     "execution_count": 125,
     "metadata": {
      "tags": []
     },
     "output_type": "execute_result"
    }
   ],
   "source": [
    "players.head(10)"
   ]
  },
  {
   "cell_type": "code",
   "execution_count": 126,
   "metadata": {
    "colab": {
     "base_uri": "https://localhost:8080/",
     "height": 0
    },
    "colab_type": "code",
    "id": "xFb4My0F4gRn",
    "outputId": "da4235fc-f915-438b-8199-9d32d3c84b64"
   },
   "outputs": [
    {
     "data": {
      "text/plain": [
       "Index(['Alexis Sanchez', 'Mesut Ozil', 'Petr Cech', 'Theo Walcott',\n",
       "       'Laurent Koscielny', 'Hector Bellerin', 'Olivier Giroud',\n",
       "       'Nacho Monreal', 'Shkodran Mustafi', 'Alex Iwobi',\n",
       "       ...\n",
       "       'Aaron Cresswell', 'Pedro Obiang', 'Sofiane Feghouli', 'Angelo Ogbonna',\n",
       "       'Pablo Zabaleta', 'Edimilson Fernandes', 'Arthur Masuaku', 'Sam Byram',\n",
       "       'Ashley Fletcher', 'Diafra Sakho'],\n",
       "      dtype='object', name='name', length=465)"
      ]
     },
     "execution_count": 126,
     "metadata": {
      "tags": []
     },
     "output_type": "execute_result"
    }
   ],
   "source": [
    "players.index"
   ]
  },
  {
   "cell_type": "code",
   "execution_count": 0,
   "metadata": {
    "colab": {},
    "colab_type": "code",
    "id": "-q3DhLAt4jF7"
   },
   "outputs": [],
   "source": [
    "players.sort_index(inplace=True)"
   ]
  },
  {
   "cell_type": "code",
   "execution_count": 128,
   "metadata": {
    "colab": {
     "base_uri": "https://localhost:8080/",
     "height": 0
    },
    "colab_type": "code",
    "id": "IYfsi07T4vkb",
    "outputId": "ddf4e49d-9dd7-4a47-a336-5ca31929b896"
   },
   "outputs": [
    {
     "data": {
      "text/html": [
       "<div>\n",
       "<style scoped>\n",
       "    .dataframe tbody tr th:only-of-type {\n",
       "        vertical-align: middle;\n",
       "    }\n",
       "\n",
       "    .dataframe tbody tr th {\n",
       "        vertical-align: top;\n",
       "    }\n",
       "\n",
       "    .dataframe thead th {\n",
       "        text-align: right;\n",
       "    }\n",
       "</style>\n",
       "<table border=\"1\" class=\"dataframe\">\n",
       "  <thead>\n",
       "    <tr style=\"text-align: right;\">\n",
       "      <th></th>\n",
       "      <th>club</th>\n",
       "      <th>age</th>\n",
       "      <th>position</th>\n",
       "      <th>position_cat</th>\n",
       "      <th>market_value</th>\n",
       "      <th>page_views</th>\n",
       "      <th>fpl_value</th>\n",
       "      <th>fpl_sel</th>\n",
       "      <th>fpl_points</th>\n",
       "      <th>region</th>\n",
       "      <th>nationality</th>\n",
       "      <th>new_foreign</th>\n",
       "      <th>age_cat</th>\n",
       "      <th>club_id</th>\n",
       "      <th>big_club</th>\n",
       "      <th>new_signing</th>\n",
       "    </tr>\n",
       "    <tr>\n",
       "      <th>name</th>\n",
       "      <th></th>\n",
       "      <th></th>\n",
       "      <th></th>\n",
       "      <th></th>\n",
       "      <th></th>\n",
       "      <th></th>\n",
       "      <th></th>\n",
       "      <th></th>\n",
       "      <th></th>\n",
       "      <th></th>\n",
       "      <th></th>\n",
       "      <th></th>\n",
       "      <th></th>\n",
       "      <th></th>\n",
       "      <th></th>\n",
       "      <th></th>\n",
       "    </tr>\n",
       "  </thead>\n",
       "  <tbody>\n",
       "    <tr>\n",
       "      <th>Aaron Cresswell</th>\n",
       "      <td>West+Ham</td>\n",
       "      <td>27</td>\n",
       "      <td>LB</td>\n",
       "      <td>3</td>\n",
       "      <td>12.0</td>\n",
       "      <td>380</td>\n",
       "      <td>5.0</td>\n",
       "      <td>1.30%</td>\n",
       "      <td>60</td>\n",
       "      <td>1</td>\n",
       "      <td>England</td>\n",
       "      <td>0</td>\n",
       "      <td>3</td>\n",
       "      <td>20</td>\n",
       "      <td>0</td>\n",
       "      <td>0</td>\n",
       "    </tr>\n",
       "    <tr>\n",
       "      <th>Aaron Lennon</th>\n",
       "      <td>Everton</td>\n",
       "      <td>30</td>\n",
       "      <td>RW</td>\n",
       "      <td>1</td>\n",
       "      <td>5.0</td>\n",
       "      <td>504</td>\n",
       "      <td>5.5</td>\n",
       "      <td>0.20%</td>\n",
       "      <td>22</td>\n",
       "      <td>1</td>\n",
       "      <td>England</td>\n",
       "      <td>0</td>\n",
       "      <td>4</td>\n",
       "      <td>7</td>\n",
       "      <td>0</td>\n",
       "      <td>0</td>\n",
       "    </tr>\n",
       "    <tr>\n",
       "      <th>Aaron Mooy</th>\n",
       "      <td>Huddersfield</td>\n",
       "      <td>26</td>\n",
       "      <td>CM</td>\n",
       "      <td>2</td>\n",
       "      <td>5.0</td>\n",
       "      <td>588</td>\n",
       "      <td>5.5</td>\n",
       "      <td>2.50%</td>\n",
       "      <td>0</td>\n",
       "      <td>4</td>\n",
       "      <td>Australia</td>\n",
       "      <td>0</td>\n",
       "      <td>3</td>\n",
       "      <td>8</td>\n",
       "      <td>0</td>\n",
       "      <td>0</td>\n",
       "    </tr>\n",
       "    <tr>\n",
       "      <th>Aaron Ramsey</th>\n",
       "      <td>Arsenal</td>\n",
       "      <td>26</td>\n",
       "      <td>CM</td>\n",
       "      <td>2</td>\n",
       "      <td>35.0</td>\n",
       "      <td>1040</td>\n",
       "      <td>7.0</td>\n",
       "      <td>5.10%</td>\n",
       "      <td>56</td>\n",
       "      <td>1</td>\n",
       "      <td>Wales</td>\n",
       "      <td>0</td>\n",
       "      <td>3</td>\n",
       "      <td>1</td>\n",
       "      <td>1</td>\n",
       "      <td>0</td>\n",
       "    </tr>\n",
       "    <tr>\n",
       "      <th>Abdoulaye Doucoure</th>\n",
       "      <td>Watford</td>\n",
       "      <td>24</td>\n",
       "      <td>CM</td>\n",
       "      <td>2</td>\n",
       "      <td>6.0</td>\n",
       "      <td>124</td>\n",
       "      <td>5.0</td>\n",
       "      <td>0.00%</td>\n",
       "      <td>38</td>\n",
       "      <td>2</td>\n",
       "      <td>France</td>\n",
       "      <td>0</td>\n",
       "      <td>2</td>\n",
       "      <td>18</td>\n",
       "      <td>0</td>\n",
       "      <td>0</td>\n",
       "    </tr>\n",
       "    <tr>\n",
       "      <th>Adam Federici</th>\n",
       "      <td>Bournemouth</td>\n",
       "      <td>32</td>\n",
       "      <td>GK</td>\n",
       "      <td>4</td>\n",
       "      <td>1.0</td>\n",
       "      <td>126</td>\n",
       "      <td>4.0</td>\n",
       "      <td>1.50%</td>\n",
       "      <td>8</td>\n",
       "      <td>4</td>\n",
       "      <td>Australia</td>\n",
       "      <td>0</td>\n",
       "      <td>5</td>\n",
       "      <td>2</td>\n",
       "      <td>0</td>\n",
       "      <td>0</td>\n",
       "    </tr>\n",
       "    <tr>\n",
       "      <th>Adam Lallana</th>\n",
       "      <td>Liverpool</td>\n",
       "      <td>29</td>\n",
       "      <td>AM</td>\n",
       "      <td>1</td>\n",
       "      <td>25.0</td>\n",
       "      <td>1808</td>\n",
       "      <td>7.5</td>\n",
       "      <td>6.40%</td>\n",
       "      <td>139</td>\n",
       "      <td>1</td>\n",
       "      <td>England</td>\n",
       "      <td>0</td>\n",
       "      <td>4</td>\n",
       "      <td>10</td>\n",
       "      <td>1</td>\n",
       "      <td>0</td>\n",
       "    </tr>\n",
       "    <tr>\n",
       "      <th>Adam Smith</th>\n",
       "      <td>Bournemouth</td>\n",
       "      <td>26</td>\n",
       "      <td>RB</td>\n",
       "      <td>3</td>\n",
       "      <td>5.0</td>\n",
       "      <td>200</td>\n",
       "      <td>5.0</td>\n",
       "      <td>0.90%</td>\n",
       "      <td>104</td>\n",
       "      <td>1</td>\n",
       "      <td>England</td>\n",
       "      <td>0</td>\n",
       "      <td>3</td>\n",
       "      <td>2</td>\n",
       "      <td>0</td>\n",
       "      <td>0</td>\n",
       "    </tr>\n",
       "    <tr>\n",
       "      <th>Ademola Lookman</th>\n",
       "      <td>Everton</td>\n",
       "      <td>19</td>\n",
       "      <td>LW</td>\n",
       "      <td>1</td>\n",
       "      <td>5.0</td>\n",
       "      <td>1387</td>\n",
       "      <td>5.5</td>\n",
       "      <td>0.30%</td>\n",
       "      <td>16</td>\n",
       "      <td>1</td>\n",
       "      <td>England</td>\n",
       "      <td>0</td>\n",
       "      <td>1</td>\n",
       "      <td>7</td>\n",
       "      <td>0</td>\n",
       "      <td>0</td>\n",
       "    </tr>\n",
       "    <tr>\n",
       "      <th>Adrian</th>\n",
       "      <td>West+Ham</td>\n",
       "      <td>30</td>\n",
       "      <td>GK</td>\n",
       "      <td>4</td>\n",
       "      <td>8.0</td>\n",
       "      <td>266</td>\n",
       "      <td>4.5</td>\n",
       "      <td>0.80%</td>\n",
       "      <td>64</td>\n",
       "      <td>2</td>\n",
       "      <td>Spain</td>\n",
       "      <td>0</td>\n",
       "      <td>4</td>\n",
       "      <td>20</td>\n",
       "      <td>0</td>\n",
       "      <td>0</td>\n",
       "    </tr>\n",
       "  </tbody>\n",
       "</table>\n",
       "</div>"
      ],
      "text/plain": [
       "                            club  age position  ...  club_id  big_club  new_signing\n",
       "name                                            ...                                \n",
       "Aaron Cresswell         West+Ham   27       LB  ...       20         0            0\n",
       "Aaron Lennon             Everton   30       RW  ...        7         0            0\n",
       "Aaron Mooy          Huddersfield   26       CM  ...        8         0            0\n",
       "Aaron Ramsey             Arsenal   26       CM  ...        1         1            0\n",
       "Abdoulaye Doucoure       Watford   24       CM  ...       18         0            0\n",
       "Adam Federici        Bournemouth   32       GK  ...        2         0            0\n",
       "Adam Lallana           Liverpool   29       AM  ...       10         1            0\n",
       "Adam Smith           Bournemouth   26       RB  ...        2         0            0\n",
       "Ademola Lookman          Everton   19       LW  ...        7         0            0\n",
       "Adrian                  West+Ham   30       GK  ...       20         0            0\n",
       "\n",
       "[10 rows x 16 columns]"
      ]
     },
     "execution_count": 128,
     "metadata": {
      "tags": []
     },
     "output_type": "execute_result"
    }
   ],
   "source": [
    "players.head(10)"
   ]
  },
  {
   "cell_type": "code",
   "execution_count": 129,
   "metadata": {
    "colab": {
     "base_uri": "https://localhost:8080/",
     "height": 0
    },
    "colab_type": "code",
    "id": "-e-pBtqE48RX",
    "outputId": "6f6f47b2-4136-48de-ffec-899309bd53dc"
   },
   "outputs": [
    {
     "data": {
      "text/html": [
       "<div>\n",
       "<style scoped>\n",
       "    .dataframe tbody tr th:only-of-type {\n",
       "        vertical-align: middle;\n",
       "    }\n",
       "\n",
       "    .dataframe tbody tr th {\n",
       "        vertical-align: top;\n",
       "    }\n",
       "\n",
       "    .dataframe thead th {\n",
       "        text-align: right;\n",
       "    }\n",
       "</style>\n",
       "<table border=\"1\" class=\"dataframe\">\n",
       "  <thead>\n",
       "    <tr style=\"text-align: right;\">\n",
       "      <th></th>\n",
       "      <th>age</th>\n",
       "      <th>age_cat</th>\n",
       "      <th>big_club</th>\n",
       "      <th>club</th>\n",
       "      <th>club_id</th>\n",
       "      <th>fpl_points</th>\n",
       "      <th>fpl_sel</th>\n",
       "      <th>fpl_value</th>\n",
       "      <th>market_value</th>\n",
       "      <th>nationality</th>\n",
       "      <th>new_foreign</th>\n",
       "      <th>new_signing</th>\n",
       "      <th>page_views</th>\n",
       "      <th>position</th>\n",
       "      <th>position_cat</th>\n",
       "      <th>region</th>\n",
       "    </tr>\n",
       "    <tr>\n",
       "      <th>name</th>\n",
       "      <th></th>\n",
       "      <th></th>\n",
       "      <th></th>\n",
       "      <th></th>\n",
       "      <th></th>\n",
       "      <th></th>\n",
       "      <th></th>\n",
       "      <th></th>\n",
       "      <th></th>\n",
       "      <th></th>\n",
       "      <th></th>\n",
       "      <th></th>\n",
       "      <th></th>\n",
       "      <th></th>\n",
       "      <th></th>\n",
       "      <th></th>\n",
       "    </tr>\n",
       "  </thead>\n",
       "  <tbody>\n",
       "    <tr>\n",
       "      <th>Aaron Cresswell</th>\n",
       "      <td>27</td>\n",
       "      <td>3</td>\n",
       "      <td>0</td>\n",
       "      <td>West+Ham</td>\n",
       "      <td>20</td>\n",
       "      <td>60</td>\n",
       "      <td>1.30%</td>\n",
       "      <td>5.0</td>\n",
       "      <td>12.0</td>\n",
       "      <td>England</td>\n",
       "      <td>0</td>\n",
       "      <td>0</td>\n",
       "      <td>380</td>\n",
       "      <td>LB</td>\n",
       "      <td>3</td>\n",
       "      <td>1</td>\n",
       "    </tr>\n",
       "    <tr>\n",
       "      <th>Aaron Lennon</th>\n",
       "      <td>30</td>\n",
       "      <td>4</td>\n",
       "      <td>0</td>\n",
       "      <td>Everton</td>\n",
       "      <td>7</td>\n",
       "      <td>22</td>\n",
       "      <td>0.20%</td>\n",
       "      <td>5.5</td>\n",
       "      <td>5.0</td>\n",
       "      <td>England</td>\n",
       "      <td>0</td>\n",
       "      <td>0</td>\n",
       "      <td>504</td>\n",
       "      <td>RW</td>\n",
       "      <td>1</td>\n",
       "      <td>1</td>\n",
       "    </tr>\n",
       "    <tr>\n",
       "      <th>Aaron Mooy</th>\n",
       "      <td>26</td>\n",
       "      <td>3</td>\n",
       "      <td>0</td>\n",
       "      <td>Huddersfield</td>\n",
       "      <td>8</td>\n",
       "      <td>0</td>\n",
       "      <td>2.50%</td>\n",
       "      <td>5.5</td>\n",
       "      <td>5.0</td>\n",
       "      <td>Australia</td>\n",
       "      <td>0</td>\n",
       "      <td>0</td>\n",
       "      <td>588</td>\n",
       "      <td>CM</td>\n",
       "      <td>2</td>\n",
       "      <td>4</td>\n",
       "    </tr>\n",
       "    <tr>\n",
       "      <th>Aaron Ramsey</th>\n",
       "      <td>26</td>\n",
       "      <td>3</td>\n",
       "      <td>1</td>\n",
       "      <td>Arsenal</td>\n",
       "      <td>1</td>\n",
       "      <td>56</td>\n",
       "      <td>5.10%</td>\n",
       "      <td>7.0</td>\n",
       "      <td>35.0</td>\n",
       "      <td>Wales</td>\n",
       "      <td>0</td>\n",
       "      <td>0</td>\n",
       "      <td>1040</td>\n",
       "      <td>CM</td>\n",
       "      <td>2</td>\n",
       "      <td>1</td>\n",
       "    </tr>\n",
       "    <tr>\n",
       "      <th>Abdoulaye Doucoure</th>\n",
       "      <td>24</td>\n",
       "      <td>2</td>\n",
       "      <td>0</td>\n",
       "      <td>Watford</td>\n",
       "      <td>18</td>\n",
       "      <td>38</td>\n",
       "      <td>0.00%</td>\n",
       "      <td>5.0</td>\n",
       "      <td>6.0</td>\n",
       "      <td>France</td>\n",
       "      <td>0</td>\n",
       "      <td>0</td>\n",
       "      <td>124</td>\n",
       "      <td>CM</td>\n",
       "      <td>2</td>\n",
       "      <td>2</td>\n",
       "    </tr>\n",
       "    <tr>\n",
       "      <th>...</th>\n",
       "      <td>...</td>\n",
       "      <td>...</td>\n",
       "      <td>...</td>\n",
       "      <td>...</td>\n",
       "      <td>...</td>\n",
       "      <td>...</td>\n",
       "      <td>...</td>\n",
       "      <td>...</td>\n",
       "      <td>...</td>\n",
       "      <td>...</td>\n",
       "      <td>...</td>\n",
       "      <td>...</td>\n",
       "      <td>...</td>\n",
       "      <td>...</td>\n",
       "      <td>...</td>\n",
       "      <td>...</td>\n",
       "    </tr>\n",
       "    <tr>\n",
       "      <th>Yohan Cabaye</th>\n",
       "      <td>31</td>\n",
       "      <td>4</td>\n",
       "      <td>0</td>\n",
       "      <td>Crystal+Palace</td>\n",
       "      <td>6</td>\n",
       "      <td>91</td>\n",
       "      <td>1.40%</td>\n",
       "      <td>5.5</td>\n",
       "      <td>15.0</td>\n",
       "      <td>France</td>\n",
       "      <td>0</td>\n",
       "      <td>0</td>\n",
       "      <td>456</td>\n",
       "      <td>CM</td>\n",
       "      <td>2</td>\n",
       "      <td>2</td>\n",
       "    </tr>\n",
       "    <tr>\n",
       "      <th>YounÃ¨s Kaboul</th>\n",
       "      <td>31</td>\n",
       "      <td>4</td>\n",
       "      <td>0</td>\n",
       "      <td>Watford</td>\n",
       "      <td>18</td>\n",
       "      <td>57</td>\n",
       "      <td>0.10%</td>\n",
       "      <td>4.5</td>\n",
       "      <td>2.5</td>\n",
       "      <td>France</td>\n",
       "      <td>0</td>\n",
       "      <td>1</td>\n",
       "      <td>263</td>\n",
       "      <td>CB</td>\n",
       "      <td>3</td>\n",
       "      <td>2</td>\n",
       "    </tr>\n",
       "    <tr>\n",
       "      <th>Ã‰tienne Capoue</th>\n",
       "      <td>29</td>\n",
       "      <td>4</td>\n",
       "      <td>0</td>\n",
       "      <td>Watford</td>\n",
       "      <td>18</td>\n",
       "      <td>131</td>\n",
       "      <td>8.00%</td>\n",
       "      <td>5.5</td>\n",
       "      <td>9.0</td>\n",
       "      <td>France</td>\n",
       "      <td>0</td>\n",
       "      <td>0</td>\n",
       "      <td>412</td>\n",
       "      <td>DM</td>\n",
       "      <td>2</td>\n",
       "      <td>2</td>\n",
       "    </tr>\n",
       "    <tr>\n",
       "      <th>Ã€ngel Rangel</th>\n",
       "      <td>34</td>\n",
       "      <td>6</td>\n",
       "      <td>0</td>\n",
       "      <td>Swansea</td>\n",
       "      <td>16</td>\n",
       "      <td>26</td>\n",
       "      <td>18.80%</td>\n",
       "      <td>4.0</td>\n",
       "      <td>1.0</td>\n",
       "      <td>Spain</td>\n",
       "      <td>0</td>\n",
       "      <td>0</td>\n",
       "      <td>137</td>\n",
       "      <td>RB</td>\n",
       "      <td>3</td>\n",
       "      <td>2</td>\n",
       "    </tr>\n",
       "    <tr>\n",
       "      <th>Åukasz FabiaÅ„ski</th>\n",
       "      <td>32</td>\n",
       "      <td>5</td>\n",
       "      <td>0</td>\n",
       "      <td>Swansea</td>\n",
       "      <td>16</td>\n",
       "      <td>116</td>\n",
       "      <td>6.20%</td>\n",
       "      <td>4.5</td>\n",
       "      <td>9.0</td>\n",
       "      <td>Poland</td>\n",
       "      <td>0</td>\n",
       "      <td>0</td>\n",
       "      <td>285</td>\n",
       "      <td>GK</td>\n",
       "      <td>4</td>\n",
       "      <td>2</td>\n",
       "    </tr>\n",
       "  </tbody>\n",
       "</table>\n",
       "<p>465 rows × 16 columns</p>\n",
       "</div>"
      ],
      "text/plain": [
       "                    age  age_cat  big_club  ... position  position_cat  region\n",
       "name                                        ...                               \n",
       "Aaron Cresswell      27        3         0  ...       LB             3       1\n",
       "Aaron Lennon         30        4         0  ...       RW             1       1\n",
       "Aaron Mooy           26        3         0  ...       CM             2       4\n",
       "Aaron Ramsey         26        3         1  ...       CM             2       1\n",
       "Abdoulaye Doucoure   24        2         0  ...       CM             2       2\n",
       "...                 ...      ...       ...  ...      ...           ...     ...\n",
       "Yohan Cabaye         31        4         0  ...       CM             2       2\n",
       "YounÃ¨s Kaboul       31        4         0  ...       CB             3       2\n",
       "Ã‰tienne Capoue      29        4         0  ...       DM             2       2\n",
       "Ã€ngel Rangel        34        6         0  ...       RB             3       2\n",
       "Åukasz FabiaÅ„ski   32        5         0  ...       GK             4       2\n",
       "\n",
       "[465 rows x 16 columns]"
      ]
     },
     "execution_count": 129,
     "metadata": {
      "tags": []
     },
     "output_type": "execute_result"
    }
   ],
   "source": [
    "players.sort_index(axis=1)"
   ]
  },
  {
   "cell_type": "code",
   "execution_count": 130,
   "metadata": {
    "colab": {
     "base_uri": "https://localhost:8080/",
     "height": 0
    },
    "colab_type": "code",
    "id": "we8w-Y135EoE",
    "outputId": "cbd99e9d-2ced-4dd9-c64c-10a6608ed8ee"
   },
   "outputs": [
    {
     "data": {
      "text/html": [
       "<div>\n",
       "<style scoped>\n",
       "    .dataframe tbody tr th:only-of-type {\n",
       "        vertical-align: middle;\n",
       "    }\n",
       "\n",
       "    .dataframe tbody tr th {\n",
       "        vertical-align: top;\n",
       "    }\n",
       "\n",
       "    .dataframe thead th {\n",
       "        text-align: right;\n",
       "    }\n",
       "</style>\n",
       "<table border=\"1\" class=\"dataframe\">\n",
       "  <thead>\n",
       "    <tr style=\"text-align: right;\">\n",
       "      <th></th>\n",
       "      <th>name</th>\n",
       "      <th>club</th>\n",
       "      <th>age</th>\n",
       "      <th>position</th>\n",
       "      <th>position_cat</th>\n",
       "      <th>market_value</th>\n",
       "      <th>page_views</th>\n",
       "      <th>fpl_value</th>\n",
       "      <th>fpl_sel</th>\n",
       "      <th>fpl_points</th>\n",
       "      <th>region</th>\n",
       "      <th>nationality</th>\n",
       "      <th>new_foreign</th>\n",
       "      <th>age_cat</th>\n",
       "      <th>club_id</th>\n",
       "      <th>big_club</th>\n",
       "      <th>new_signing</th>\n",
       "    </tr>\n",
       "  </thead>\n",
       "  <tbody>\n",
       "    <tr>\n",
       "      <th>0</th>\n",
       "      <td>Aaron Cresswell</td>\n",
       "      <td>West+Ham</td>\n",
       "      <td>27</td>\n",
       "      <td>LB</td>\n",
       "      <td>3</td>\n",
       "      <td>12.0</td>\n",
       "      <td>380</td>\n",
       "      <td>5.0</td>\n",
       "      <td>1.30%</td>\n",
       "      <td>60</td>\n",
       "      <td>1</td>\n",
       "      <td>England</td>\n",
       "      <td>0</td>\n",
       "      <td>3</td>\n",
       "      <td>20</td>\n",
       "      <td>0</td>\n",
       "      <td>0</td>\n",
       "    </tr>\n",
       "    <tr>\n",
       "      <th>1</th>\n",
       "      <td>Aaron Lennon</td>\n",
       "      <td>Everton</td>\n",
       "      <td>30</td>\n",
       "      <td>RW</td>\n",
       "      <td>1</td>\n",
       "      <td>5.0</td>\n",
       "      <td>504</td>\n",
       "      <td>5.5</td>\n",
       "      <td>0.20%</td>\n",
       "      <td>22</td>\n",
       "      <td>1</td>\n",
       "      <td>England</td>\n",
       "      <td>0</td>\n",
       "      <td>4</td>\n",
       "      <td>7</td>\n",
       "      <td>0</td>\n",
       "      <td>0</td>\n",
       "    </tr>\n",
       "    <tr>\n",
       "      <th>2</th>\n",
       "      <td>Aaron Mooy</td>\n",
       "      <td>Huddersfield</td>\n",
       "      <td>26</td>\n",
       "      <td>CM</td>\n",
       "      <td>2</td>\n",
       "      <td>5.0</td>\n",
       "      <td>588</td>\n",
       "      <td>5.5</td>\n",
       "      <td>2.50%</td>\n",
       "      <td>0</td>\n",
       "      <td>4</td>\n",
       "      <td>Australia</td>\n",
       "      <td>0</td>\n",
       "      <td>3</td>\n",
       "      <td>8</td>\n",
       "      <td>0</td>\n",
       "      <td>0</td>\n",
       "    </tr>\n",
       "    <tr>\n",
       "      <th>3</th>\n",
       "      <td>Aaron Ramsey</td>\n",
       "      <td>Arsenal</td>\n",
       "      <td>26</td>\n",
       "      <td>CM</td>\n",
       "      <td>2</td>\n",
       "      <td>35.0</td>\n",
       "      <td>1040</td>\n",
       "      <td>7.0</td>\n",
       "      <td>5.10%</td>\n",
       "      <td>56</td>\n",
       "      <td>1</td>\n",
       "      <td>Wales</td>\n",
       "      <td>0</td>\n",
       "      <td>3</td>\n",
       "      <td>1</td>\n",
       "      <td>1</td>\n",
       "      <td>0</td>\n",
       "    </tr>\n",
       "    <tr>\n",
       "      <th>4</th>\n",
       "      <td>Abdoulaye Doucoure</td>\n",
       "      <td>Watford</td>\n",
       "      <td>24</td>\n",
       "      <td>CM</td>\n",
       "      <td>2</td>\n",
       "      <td>6.0</td>\n",
       "      <td>124</td>\n",
       "      <td>5.0</td>\n",
       "      <td>0.00%</td>\n",
       "      <td>38</td>\n",
       "      <td>2</td>\n",
       "      <td>France</td>\n",
       "      <td>0</td>\n",
       "      <td>2</td>\n",
       "      <td>18</td>\n",
       "      <td>0</td>\n",
       "      <td>0</td>\n",
       "    </tr>\n",
       "    <tr>\n",
       "      <th>...</th>\n",
       "      <td>...</td>\n",
       "      <td>...</td>\n",
       "      <td>...</td>\n",
       "      <td>...</td>\n",
       "      <td>...</td>\n",
       "      <td>...</td>\n",
       "      <td>...</td>\n",
       "      <td>...</td>\n",
       "      <td>...</td>\n",
       "      <td>...</td>\n",
       "      <td>...</td>\n",
       "      <td>...</td>\n",
       "      <td>...</td>\n",
       "      <td>...</td>\n",
       "      <td>...</td>\n",
       "      <td>...</td>\n",
       "      <td>...</td>\n",
       "    </tr>\n",
       "    <tr>\n",
       "      <th>460</th>\n",
       "      <td>Yohan Cabaye</td>\n",
       "      <td>Crystal+Palace</td>\n",
       "      <td>31</td>\n",
       "      <td>CM</td>\n",
       "      <td>2</td>\n",
       "      <td>15.0</td>\n",
       "      <td>456</td>\n",
       "      <td>5.5</td>\n",
       "      <td>1.40%</td>\n",
       "      <td>91</td>\n",
       "      <td>2</td>\n",
       "      <td>France</td>\n",
       "      <td>0</td>\n",
       "      <td>4</td>\n",
       "      <td>6</td>\n",
       "      <td>0</td>\n",
       "      <td>0</td>\n",
       "    </tr>\n",
       "    <tr>\n",
       "      <th>461</th>\n",
       "      <td>YounÃ¨s Kaboul</td>\n",
       "      <td>Watford</td>\n",
       "      <td>31</td>\n",
       "      <td>CB</td>\n",
       "      <td>3</td>\n",
       "      <td>2.5</td>\n",
       "      <td>263</td>\n",
       "      <td>4.5</td>\n",
       "      <td>0.10%</td>\n",
       "      <td>57</td>\n",
       "      <td>2</td>\n",
       "      <td>France</td>\n",
       "      <td>0</td>\n",
       "      <td>4</td>\n",
       "      <td>18</td>\n",
       "      <td>0</td>\n",
       "      <td>1</td>\n",
       "    </tr>\n",
       "    <tr>\n",
       "      <th>462</th>\n",
       "      <td>Ã‰tienne Capoue</td>\n",
       "      <td>Watford</td>\n",
       "      <td>29</td>\n",
       "      <td>DM</td>\n",
       "      <td>2</td>\n",
       "      <td>9.0</td>\n",
       "      <td>412</td>\n",
       "      <td>5.5</td>\n",
       "      <td>8.00%</td>\n",
       "      <td>131</td>\n",
       "      <td>2</td>\n",
       "      <td>France</td>\n",
       "      <td>0</td>\n",
       "      <td>4</td>\n",
       "      <td>18</td>\n",
       "      <td>0</td>\n",
       "      <td>0</td>\n",
       "    </tr>\n",
       "    <tr>\n",
       "      <th>463</th>\n",
       "      <td>Ã€ngel Rangel</td>\n",
       "      <td>Swansea</td>\n",
       "      <td>34</td>\n",
       "      <td>RB</td>\n",
       "      <td>3</td>\n",
       "      <td>1.0</td>\n",
       "      <td>137</td>\n",
       "      <td>4.0</td>\n",
       "      <td>18.80%</td>\n",
       "      <td>26</td>\n",
       "      <td>2</td>\n",
       "      <td>Spain</td>\n",
       "      <td>0</td>\n",
       "      <td>6</td>\n",
       "      <td>16</td>\n",
       "      <td>0</td>\n",
       "      <td>0</td>\n",
       "    </tr>\n",
       "    <tr>\n",
       "      <th>464</th>\n",
       "      <td>Åukasz FabiaÅ„ski</td>\n",
       "      <td>Swansea</td>\n",
       "      <td>32</td>\n",
       "      <td>GK</td>\n",
       "      <td>4</td>\n",
       "      <td>9.0</td>\n",
       "      <td>285</td>\n",
       "      <td>4.5</td>\n",
       "      <td>6.20%</td>\n",
       "      <td>116</td>\n",
       "      <td>2</td>\n",
       "      <td>Poland</td>\n",
       "      <td>0</td>\n",
       "      <td>5</td>\n",
       "      <td>16</td>\n",
       "      <td>0</td>\n",
       "      <td>0</td>\n",
       "    </tr>\n",
       "  </tbody>\n",
       "</table>\n",
       "<p>465 rows × 17 columns</p>\n",
       "</div>"
      ],
      "text/plain": [
       "                   name            club  age  ... club_id  big_club  new_signing\n",
       "0       Aaron Cresswell        West+Ham   27  ...      20         0            0\n",
       "1          Aaron Lennon         Everton   30  ...       7         0            0\n",
       "2            Aaron Mooy    Huddersfield   26  ...       8         0            0\n",
       "3          Aaron Ramsey         Arsenal   26  ...       1         1            0\n",
       "4    Abdoulaye Doucoure         Watford   24  ...      18         0            0\n",
       "..                  ...             ...  ...  ...     ...       ...          ...\n",
       "460        Yohan Cabaye  Crystal+Palace   31  ...       6         0            0\n",
       "461      YounÃ¨s Kaboul         Watford   31  ...      18         0            1\n",
       "462     Ã‰tienne Capoue         Watford   29  ...      18         0            0\n",
       "463       Ã€ngel Rangel         Swansea   34  ...      16         0            0\n",
       "464  Åukasz FabiaÅ„ski         Swansea   32  ...      16         0            0\n",
       "\n",
       "[465 rows x 17 columns]"
      ]
     },
     "execution_count": 130,
     "metadata": {
      "tags": []
     },
     "output_type": "execute_result"
    }
   ],
   "source": [
    "players.reset_index()"
   ]
  },
  {
   "cell_type": "code",
   "execution_count": 131,
   "metadata": {
    "colab": {
     "base_uri": "https://localhost:8080/",
     "height": 0
    },
    "colab_type": "code",
    "id": "8Va2J50e5Rr7",
    "outputId": "253a11a7-8348-46e5-f8f9-40179e2a5370"
   },
   "outputs": [
    {
     "data": {
      "text/html": [
       "<div>\n",
       "<style scoped>\n",
       "    .dataframe tbody tr th:only-of-type {\n",
       "        vertical-align: middle;\n",
       "    }\n",
       "\n",
       "    .dataframe tbody tr th {\n",
       "        vertical-align: top;\n",
       "    }\n",
       "\n",
       "    .dataframe thead th {\n",
       "        text-align: right;\n",
       "    }\n",
       "</style>\n",
       "<table border=\"1\" class=\"dataframe\">\n",
       "  <thead>\n",
       "    <tr style=\"text-align: right;\">\n",
       "      <th></th>\n",
       "      <th>level_0</th>\n",
       "      <th>index</th>\n",
       "      <th>name</th>\n",
       "      <th>club</th>\n",
       "      <th>age</th>\n",
       "      <th>position</th>\n",
       "      <th>position_cat</th>\n",
       "      <th>market_value</th>\n",
       "      <th>page_views</th>\n",
       "      <th>fpl_value</th>\n",
       "      <th>fpl_sel</th>\n",
       "      <th>fpl_points</th>\n",
       "      <th>region</th>\n",
       "      <th>nationality</th>\n",
       "      <th>new_foreign</th>\n",
       "      <th>age_cat</th>\n",
       "      <th>club_id</th>\n",
       "      <th>big_club</th>\n",
       "      <th>new_signing</th>\n",
       "    </tr>\n",
       "  </thead>\n",
       "  <tbody>\n",
       "    <tr>\n",
       "      <th>0</th>\n",
       "      <td>0</td>\n",
       "      <td>0</td>\n",
       "      <td>Aaron Cresswell</td>\n",
       "      <td>West+Ham</td>\n",
       "      <td>27</td>\n",
       "      <td>LB</td>\n",
       "      <td>3</td>\n",
       "      <td>12.0</td>\n",
       "      <td>380</td>\n",
       "      <td>5.0</td>\n",
       "      <td>1.30%</td>\n",
       "      <td>60</td>\n",
       "      <td>1</td>\n",
       "      <td>England</td>\n",
       "      <td>0</td>\n",
       "      <td>3</td>\n",
       "      <td>20</td>\n",
       "      <td>0</td>\n",
       "      <td>0</td>\n",
       "    </tr>\n",
       "    <tr>\n",
       "      <th>1</th>\n",
       "      <td>1</td>\n",
       "      <td>1</td>\n",
       "      <td>Aaron Lennon</td>\n",
       "      <td>Everton</td>\n",
       "      <td>30</td>\n",
       "      <td>RW</td>\n",
       "      <td>1</td>\n",
       "      <td>5.0</td>\n",
       "      <td>504</td>\n",
       "      <td>5.5</td>\n",
       "      <td>0.20%</td>\n",
       "      <td>22</td>\n",
       "      <td>1</td>\n",
       "      <td>England</td>\n",
       "      <td>0</td>\n",
       "      <td>4</td>\n",
       "      <td>7</td>\n",
       "      <td>0</td>\n",
       "      <td>0</td>\n",
       "    </tr>\n",
       "    <tr>\n",
       "      <th>2</th>\n",
       "      <td>2</td>\n",
       "      <td>2</td>\n",
       "      <td>Aaron Mooy</td>\n",
       "      <td>Huddersfield</td>\n",
       "      <td>26</td>\n",
       "      <td>CM</td>\n",
       "      <td>2</td>\n",
       "      <td>5.0</td>\n",
       "      <td>588</td>\n",
       "      <td>5.5</td>\n",
       "      <td>2.50%</td>\n",
       "      <td>0</td>\n",
       "      <td>4</td>\n",
       "      <td>Australia</td>\n",
       "      <td>0</td>\n",
       "      <td>3</td>\n",
       "      <td>8</td>\n",
       "      <td>0</td>\n",
       "      <td>0</td>\n",
       "    </tr>\n",
       "    <tr>\n",
       "      <th>3</th>\n",
       "      <td>3</td>\n",
       "      <td>3</td>\n",
       "      <td>Aaron Ramsey</td>\n",
       "      <td>Arsenal</td>\n",
       "      <td>26</td>\n",
       "      <td>CM</td>\n",
       "      <td>2</td>\n",
       "      <td>35.0</td>\n",
       "      <td>1040</td>\n",
       "      <td>7.0</td>\n",
       "      <td>5.10%</td>\n",
       "      <td>56</td>\n",
       "      <td>1</td>\n",
       "      <td>Wales</td>\n",
       "      <td>0</td>\n",
       "      <td>3</td>\n",
       "      <td>1</td>\n",
       "      <td>1</td>\n",
       "      <td>0</td>\n",
       "    </tr>\n",
       "    <tr>\n",
       "      <th>4</th>\n",
       "      <td>4</td>\n",
       "      <td>4</td>\n",
       "      <td>Abdoulaye Doucoure</td>\n",
       "      <td>Watford</td>\n",
       "      <td>24</td>\n",
       "      <td>CM</td>\n",
       "      <td>2</td>\n",
       "      <td>6.0</td>\n",
       "      <td>124</td>\n",
       "      <td>5.0</td>\n",
       "      <td>0.00%</td>\n",
       "      <td>38</td>\n",
       "      <td>2</td>\n",
       "      <td>France</td>\n",
       "      <td>0</td>\n",
       "      <td>2</td>\n",
       "      <td>18</td>\n",
       "      <td>0</td>\n",
       "      <td>0</td>\n",
       "    </tr>\n",
       "    <tr>\n",
       "      <th>...</th>\n",
       "      <td>...</td>\n",
       "      <td>...</td>\n",
       "      <td>...</td>\n",
       "      <td>...</td>\n",
       "      <td>...</td>\n",
       "      <td>...</td>\n",
       "      <td>...</td>\n",
       "      <td>...</td>\n",
       "      <td>...</td>\n",
       "      <td>...</td>\n",
       "      <td>...</td>\n",
       "      <td>...</td>\n",
       "      <td>...</td>\n",
       "      <td>...</td>\n",
       "      <td>...</td>\n",
       "      <td>...</td>\n",
       "      <td>...</td>\n",
       "      <td>...</td>\n",
       "      <td>...</td>\n",
       "    </tr>\n",
       "    <tr>\n",
       "      <th>460</th>\n",
       "      <td>460</td>\n",
       "      <td>460</td>\n",
       "      <td>Yohan Cabaye</td>\n",
       "      <td>Crystal+Palace</td>\n",
       "      <td>31</td>\n",
       "      <td>CM</td>\n",
       "      <td>2</td>\n",
       "      <td>15.0</td>\n",
       "      <td>456</td>\n",
       "      <td>5.5</td>\n",
       "      <td>1.40%</td>\n",
       "      <td>91</td>\n",
       "      <td>2</td>\n",
       "      <td>France</td>\n",
       "      <td>0</td>\n",
       "      <td>4</td>\n",
       "      <td>6</td>\n",
       "      <td>0</td>\n",
       "      <td>0</td>\n",
       "    </tr>\n",
       "    <tr>\n",
       "      <th>461</th>\n",
       "      <td>461</td>\n",
       "      <td>461</td>\n",
       "      <td>YounÃ¨s Kaboul</td>\n",
       "      <td>Watford</td>\n",
       "      <td>31</td>\n",
       "      <td>CB</td>\n",
       "      <td>3</td>\n",
       "      <td>2.5</td>\n",
       "      <td>263</td>\n",
       "      <td>4.5</td>\n",
       "      <td>0.10%</td>\n",
       "      <td>57</td>\n",
       "      <td>2</td>\n",
       "      <td>France</td>\n",
       "      <td>0</td>\n",
       "      <td>4</td>\n",
       "      <td>18</td>\n",
       "      <td>0</td>\n",
       "      <td>1</td>\n",
       "    </tr>\n",
       "    <tr>\n",
       "      <th>462</th>\n",
       "      <td>462</td>\n",
       "      <td>462</td>\n",
       "      <td>Ã‰tienne Capoue</td>\n",
       "      <td>Watford</td>\n",
       "      <td>29</td>\n",
       "      <td>DM</td>\n",
       "      <td>2</td>\n",
       "      <td>9.0</td>\n",
       "      <td>412</td>\n",
       "      <td>5.5</td>\n",
       "      <td>8.00%</td>\n",
       "      <td>131</td>\n",
       "      <td>2</td>\n",
       "      <td>France</td>\n",
       "      <td>0</td>\n",
       "      <td>4</td>\n",
       "      <td>18</td>\n",
       "      <td>0</td>\n",
       "      <td>0</td>\n",
       "    </tr>\n",
       "    <tr>\n",
       "      <th>463</th>\n",
       "      <td>463</td>\n",
       "      <td>463</td>\n",
       "      <td>Ã€ngel Rangel</td>\n",
       "      <td>Swansea</td>\n",
       "      <td>34</td>\n",
       "      <td>RB</td>\n",
       "      <td>3</td>\n",
       "      <td>1.0</td>\n",
       "      <td>137</td>\n",
       "      <td>4.0</td>\n",
       "      <td>18.80%</td>\n",
       "      <td>26</td>\n",
       "      <td>2</td>\n",
       "      <td>Spain</td>\n",
       "      <td>0</td>\n",
       "      <td>6</td>\n",
       "      <td>16</td>\n",
       "      <td>0</td>\n",
       "      <td>0</td>\n",
       "    </tr>\n",
       "    <tr>\n",
       "      <th>464</th>\n",
       "      <td>464</td>\n",
       "      <td>464</td>\n",
       "      <td>Åukasz FabiaÅ„ski</td>\n",
       "      <td>Swansea</td>\n",
       "      <td>32</td>\n",
       "      <td>GK</td>\n",
       "      <td>4</td>\n",
       "      <td>9.0</td>\n",
       "      <td>285</td>\n",
       "      <td>4.5</td>\n",
       "      <td>6.20%</td>\n",
       "      <td>116</td>\n",
       "      <td>2</td>\n",
       "      <td>Poland</td>\n",
       "      <td>0</td>\n",
       "      <td>5</td>\n",
       "      <td>16</td>\n",
       "      <td>0</td>\n",
       "      <td>0</td>\n",
       "    </tr>\n",
       "  </tbody>\n",
       "</table>\n",
       "<p>465 rows × 19 columns</p>\n",
       "</div>"
      ],
      "text/plain": [
       "     level_0  index                name  ... club_id  big_club new_signing\n",
       "0          0      0     Aaron Cresswell  ...      20         0           0\n",
       "1          1      1        Aaron Lennon  ...       7         0           0\n",
       "2          2      2          Aaron Mooy  ...       8         0           0\n",
       "3          3      3        Aaron Ramsey  ...       1         1           0\n",
       "4          4      4  Abdoulaye Doucoure  ...      18         0           0\n",
       "..       ...    ...                 ...  ...     ...       ...         ...\n",
       "460      460    460        Yohan Cabaye  ...       6         0           0\n",
       "461      461    461      YounÃ¨s Kaboul  ...      18         0           1\n",
       "462      462    462     Ã‰tienne Capoue  ...      18         0           0\n",
       "463      463    463       Ã€ngel Rangel  ...      16         0           0\n",
       "464      464    464  Åukasz FabiaÅ„ski  ...      16         0           0\n",
       "\n",
       "[465 rows x 19 columns]"
      ]
     },
     "execution_count": 131,
     "metadata": {
      "tags": []
     },
     "output_type": "execute_result"
    }
   ],
   "source": [
    "players.reset_index().reset_index().reset_index()"
   ]
  },
  {
   "cell_type": "code",
   "execution_count": 0,
   "metadata": {
    "colab": {},
    "colab_type": "code",
    "id": "VlgwuEbu5XuQ"
   },
   "outputs": [],
   "source": [
    "players.reset_index(inplace=True)"
   ]
  },
  {
   "cell_type": "code",
   "execution_count": 133,
   "metadata": {
    "colab": {
     "base_uri": "https://localhost:8080/",
     "height": 0
    },
    "colab_type": "code",
    "id": "zrK_iHe05jdu",
    "outputId": "e5407a3e-042e-4cbe-c7bc-79af33ed4c4a"
   },
   "outputs": [
    {
     "data": {
      "text/html": [
       "<div>\n",
       "<style scoped>\n",
       "    .dataframe tbody tr th:only-of-type {\n",
       "        vertical-align: middle;\n",
       "    }\n",
       "\n",
       "    .dataframe tbody tr th {\n",
       "        vertical-align: top;\n",
       "    }\n",
       "\n",
       "    .dataframe thead th {\n",
       "        text-align: right;\n",
       "    }\n",
       "</style>\n",
       "<table border=\"1\" class=\"dataframe\">\n",
       "  <thead>\n",
       "    <tr style=\"text-align: right;\">\n",
       "      <th></th>\n",
       "      <th>name</th>\n",
       "      <th>club</th>\n",
       "      <th>age</th>\n",
       "      <th>position</th>\n",
       "      <th>position_cat</th>\n",
       "      <th>market_value</th>\n",
       "      <th>page_views</th>\n",
       "      <th>fpl_value</th>\n",
       "      <th>fpl_sel</th>\n",
       "      <th>fpl_points</th>\n",
       "      <th>region</th>\n",
       "      <th>nationality</th>\n",
       "      <th>new_foreign</th>\n",
       "      <th>age_cat</th>\n",
       "      <th>club_id</th>\n",
       "      <th>big_club</th>\n",
       "      <th>new_signing</th>\n",
       "    </tr>\n",
       "  </thead>\n",
       "  <tbody>\n",
       "    <tr>\n",
       "      <th>0</th>\n",
       "      <td>Aaron Cresswell</td>\n",
       "      <td>West+Ham</td>\n",
       "      <td>27</td>\n",
       "      <td>LB</td>\n",
       "      <td>3</td>\n",
       "      <td>12.0</td>\n",
       "      <td>380</td>\n",
       "      <td>5.0</td>\n",
       "      <td>1.30%</td>\n",
       "      <td>60</td>\n",
       "      <td>1</td>\n",
       "      <td>England</td>\n",
       "      <td>0</td>\n",
       "      <td>3</td>\n",
       "      <td>20</td>\n",
       "      <td>0</td>\n",
       "      <td>0</td>\n",
       "    </tr>\n",
       "    <tr>\n",
       "      <th>1</th>\n",
       "      <td>Aaron Lennon</td>\n",
       "      <td>Everton</td>\n",
       "      <td>30</td>\n",
       "      <td>RW</td>\n",
       "      <td>1</td>\n",
       "      <td>5.0</td>\n",
       "      <td>504</td>\n",
       "      <td>5.5</td>\n",
       "      <td>0.20%</td>\n",
       "      <td>22</td>\n",
       "      <td>1</td>\n",
       "      <td>England</td>\n",
       "      <td>0</td>\n",
       "      <td>4</td>\n",
       "      <td>7</td>\n",
       "      <td>0</td>\n",
       "      <td>0</td>\n",
       "    </tr>\n",
       "    <tr>\n",
       "      <th>2</th>\n",
       "      <td>Aaron Mooy</td>\n",
       "      <td>Huddersfield</td>\n",
       "      <td>26</td>\n",
       "      <td>CM</td>\n",
       "      <td>2</td>\n",
       "      <td>5.0</td>\n",
       "      <td>588</td>\n",
       "      <td>5.5</td>\n",
       "      <td>2.50%</td>\n",
       "      <td>0</td>\n",
       "      <td>4</td>\n",
       "      <td>Australia</td>\n",
       "      <td>0</td>\n",
       "      <td>3</td>\n",
       "      <td>8</td>\n",
       "      <td>0</td>\n",
       "      <td>0</td>\n",
       "    </tr>\n",
       "    <tr>\n",
       "      <th>3</th>\n",
       "      <td>Aaron Ramsey</td>\n",
       "      <td>Arsenal</td>\n",
       "      <td>26</td>\n",
       "      <td>CM</td>\n",
       "      <td>2</td>\n",
       "      <td>35.0</td>\n",
       "      <td>1040</td>\n",
       "      <td>7.0</td>\n",
       "      <td>5.10%</td>\n",
       "      <td>56</td>\n",
       "      <td>1</td>\n",
       "      <td>Wales</td>\n",
       "      <td>0</td>\n",
       "      <td>3</td>\n",
       "      <td>1</td>\n",
       "      <td>1</td>\n",
       "      <td>0</td>\n",
       "    </tr>\n",
       "    <tr>\n",
       "      <th>4</th>\n",
       "      <td>Abdoulaye Doucoure</td>\n",
       "      <td>Watford</td>\n",
       "      <td>24</td>\n",
       "      <td>CM</td>\n",
       "      <td>2</td>\n",
       "      <td>6.0</td>\n",
       "      <td>124</td>\n",
       "      <td>5.0</td>\n",
       "      <td>0.00%</td>\n",
       "      <td>38</td>\n",
       "      <td>2</td>\n",
       "      <td>France</td>\n",
       "      <td>0</td>\n",
       "      <td>2</td>\n",
       "      <td>18</td>\n",
       "      <td>0</td>\n",
       "      <td>0</td>\n",
       "    </tr>\n",
       "  </tbody>\n",
       "</table>\n",
       "</div>"
      ],
      "text/plain": [
       "                 name          club  age  ... club_id  big_club  new_signing\n",
       "0     Aaron Cresswell      West+Ham   27  ...      20         0            0\n",
       "1        Aaron Lennon       Everton   30  ...       7         0            0\n",
       "2          Aaron Mooy  Huddersfield   26  ...       8         0            0\n",
       "3        Aaron Ramsey       Arsenal   26  ...       1         1            0\n",
       "4  Abdoulaye Doucoure       Watford   24  ...      18         0            0\n",
       "\n",
       "[5 rows x 17 columns]"
      ]
     },
     "execution_count": 133,
     "metadata": {
      "tags": []
     },
     "output_type": "execute_result"
    }
   ],
   "source": [
    "players.head()"
   ]
  },
  {
   "cell_type": "markdown",
   "metadata": {
    "colab_type": "text",
    "id": "FciCOxOT5o0c"
   },
   "source": [
    "#### Sorting vs. Reordering"
   ]
  },
  {
   "cell_type": "code",
   "execution_count": 0,
   "metadata": {
    "colab": {},
    "colab_type": "code",
    "id": "2nAL9P6D6X1R"
   },
   "outputs": [],
   "source": [
    "# reindex()"
   ]
  },
  {
   "cell_type": "code",
   "execution_count": 0,
   "metadata": {
    "colab": {},
    "colab_type": "code",
    "id": "RC0hv8bADnLR"
   },
   "outputs": [],
   "source": [
    "players_lite = players.iloc[:4, :4]"
   ]
  },
  {
   "cell_type": "code",
   "execution_count": 136,
   "metadata": {
    "colab": {
     "base_uri": "https://localhost:8080/",
     "height": 0
    },
    "colab_type": "code",
    "id": "B3z_Rj-iDrkR",
    "outputId": "bc445ef0-0565-4b43-9da4-d21dcf7d6a9e"
   },
   "outputs": [
    {
     "data": {
      "text/html": [
       "<div>\n",
       "<style scoped>\n",
       "    .dataframe tbody tr th:only-of-type {\n",
       "        vertical-align: middle;\n",
       "    }\n",
       "\n",
       "    .dataframe tbody tr th {\n",
       "        vertical-align: top;\n",
       "    }\n",
       "\n",
       "    .dataframe thead th {\n",
       "        text-align: right;\n",
       "    }\n",
       "</style>\n",
       "<table border=\"1\" class=\"dataframe\">\n",
       "  <thead>\n",
       "    <tr style=\"text-align: right;\">\n",
       "      <th></th>\n",
       "      <th>name</th>\n",
       "      <th>club</th>\n",
       "      <th>age</th>\n",
       "      <th>position</th>\n",
       "    </tr>\n",
       "  </thead>\n",
       "  <tbody>\n",
       "    <tr>\n",
       "      <th>0</th>\n",
       "      <td>Aaron Cresswell</td>\n",
       "      <td>West+Ham</td>\n",
       "      <td>27</td>\n",
       "      <td>LB</td>\n",
       "    </tr>\n",
       "    <tr>\n",
       "      <th>1</th>\n",
       "      <td>Aaron Lennon</td>\n",
       "      <td>Everton</td>\n",
       "      <td>30</td>\n",
       "      <td>RW</td>\n",
       "    </tr>\n",
       "    <tr>\n",
       "      <th>2</th>\n",
       "      <td>Aaron Mooy</td>\n",
       "      <td>Huddersfield</td>\n",
       "      <td>26</td>\n",
       "      <td>CM</td>\n",
       "    </tr>\n",
       "    <tr>\n",
       "      <th>3</th>\n",
       "      <td>Aaron Ramsey</td>\n",
       "      <td>Arsenal</td>\n",
       "      <td>26</td>\n",
       "      <td>CM</td>\n",
       "    </tr>\n",
       "  </tbody>\n",
       "</table>\n",
       "</div>"
      ],
      "text/plain": [
       "              name          club  age position\n",
       "0  Aaron Cresswell      West+Ham   27       LB\n",
       "1     Aaron Lennon       Everton   30       RW\n",
       "2       Aaron Mooy  Huddersfield   26       CM\n",
       "3     Aaron Ramsey       Arsenal   26       CM"
      ]
     },
     "execution_count": 136,
     "metadata": {
      "tags": []
     },
     "output_type": "execute_result"
    }
   ],
   "source": [
    "players_lite"
   ]
  },
  {
   "cell_type": "code",
   "execution_count": 0,
   "metadata": {
    "colab": {},
    "colab_type": "code",
    "id": "kaaanK-wDvFm"
   },
   "outputs": [],
   "source": [
    "# row order: 2, 1, 3, 0\n",
    "# column order: age, name, position, club"
   ]
  },
  {
   "cell_type": "code",
   "execution_count": 138,
   "metadata": {
    "colab": {
     "base_uri": "https://localhost:8080/",
     "height": 0
    },
    "colab_type": "code",
    "id": "ku31_SQeD5fL",
    "outputId": "2a6b1679-fbb1-4eae-ea35-2d5dc3ff15dc"
   },
   "outputs": [
    {
     "data": {
      "text/html": [
       "<div>\n",
       "<style scoped>\n",
       "    .dataframe tbody tr th:only-of-type {\n",
       "        vertical-align: middle;\n",
       "    }\n",
       "\n",
       "    .dataframe tbody tr th {\n",
       "        vertical-align: top;\n",
       "    }\n",
       "\n",
       "    .dataframe thead th {\n",
       "        text-align: right;\n",
       "    }\n",
       "</style>\n",
       "<table border=\"1\" class=\"dataframe\">\n",
       "  <thead>\n",
       "    <tr style=\"text-align: right;\">\n",
       "      <th></th>\n",
       "      <th>age</th>\n",
       "      <th>name</th>\n",
       "      <th>position</th>\n",
       "      <th>club</th>\n",
       "    </tr>\n",
       "  </thead>\n",
       "  <tbody>\n",
       "    <tr>\n",
       "      <th>2</th>\n",
       "      <td>26</td>\n",
       "      <td>Aaron Mooy</td>\n",
       "      <td>CM</td>\n",
       "      <td>Huddersfield</td>\n",
       "    </tr>\n",
       "    <tr>\n",
       "      <th>1</th>\n",
       "      <td>30</td>\n",
       "      <td>Aaron Lennon</td>\n",
       "      <td>RW</td>\n",
       "      <td>Everton</td>\n",
       "    </tr>\n",
       "    <tr>\n",
       "      <th>3</th>\n",
       "      <td>26</td>\n",
       "      <td>Aaron Ramsey</td>\n",
       "      <td>CM</td>\n",
       "      <td>Arsenal</td>\n",
       "    </tr>\n",
       "    <tr>\n",
       "      <th>0</th>\n",
       "      <td>27</td>\n",
       "      <td>Aaron Cresswell</td>\n",
       "      <td>LB</td>\n",
       "      <td>West+Ham</td>\n",
       "    </tr>\n",
       "  </tbody>\n",
       "</table>\n",
       "</div>"
      ],
      "text/plain": [
       "   age             name position          club\n",
       "2   26       Aaron Mooy       CM  Huddersfield\n",
       "1   30     Aaron Lennon       RW       Everton\n",
       "3   26     Aaron Ramsey       CM       Arsenal\n",
       "0   27  Aaron Cresswell       LB      West+Ham"
      ]
     },
     "execution_count": 138,
     "metadata": {
      "tags": []
     },
     "output_type": "execute_result"
    }
   ],
   "source": [
    "players_lite.reindex(index=[2,1,3,0], columns=['age', 'name', 'position', 'club'])"
   ]
  },
  {
   "cell_type": "code",
   "execution_count": 139,
   "metadata": {
    "colab": {
     "base_uri": "https://localhost:8080/",
     "height": 0
    },
    "colab_type": "code",
    "id": "tN5ahaSXEEjh",
    "outputId": "c4093766-627b-4003-9041-d32111845970"
   },
   "outputs": [
    {
     "data": {
      "text/html": [
       "<div>\n",
       "<style scoped>\n",
       "    .dataframe tbody tr th:only-of-type {\n",
       "        vertical-align: middle;\n",
       "    }\n",
       "\n",
       "    .dataframe tbody tr th {\n",
       "        vertical-align: top;\n",
       "    }\n",
       "\n",
       "    .dataframe thead th {\n",
       "        text-align: right;\n",
       "    }\n",
       "</style>\n",
       "<table border=\"1\" class=\"dataframe\">\n",
       "  <thead>\n",
       "    <tr style=\"text-align: right;\">\n",
       "      <th></th>\n",
       "      <th>name</th>\n",
       "      <th>club</th>\n",
       "      <th>age</th>\n",
       "      <th>position</th>\n",
       "      <th>position_cat</th>\n",
       "      <th>market_value</th>\n",
       "      <th>page_views</th>\n",
       "      <th>fpl_value</th>\n",
       "      <th>fpl_sel</th>\n",
       "      <th>fpl_points</th>\n",
       "      <th>region</th>\n",
       "      <th>nationality</th>\n",
       "      <th>new_foreign</th>\n",
       "      <th>age_cat</th>\n",
       "      <th>club_id</th>\n",
       "      <th>big_club</th>\n",
       "      <th>new_signing</th>\n",
       "    </tr>\n",
       "  </thead>\n",
       "  <tbody>\n",
       "    <tr>\n",
       "      <th>2</th>\n",
       "      <td>Aaron Mooy</td>\n",
       "      <td>Huddersfield</td>\n",
       "      <td>26</td>\n",
       "      <td>CM</td>\n",
       "      <td>2</td>\n",
       "      <td>5.0</td>\n",
       "      <td>588</td>\n",
       "      <td>5.5</td>\n",
       "      <td>2.50%</td>\n",
       "      <td>0</td>\n",
       "      <td>4</td>\n",
       "      <td>Australia</td>\n",
       "      <td>0</td>\n",
       "      <td>3</td>\n",
       "      <td>8</td>\n",
       "      <td>0</td>\n",
       "      <td>0</td>\n",
       "    </tr>\n",
       "    <tr>\n",
       "      <th>1</th>\n",
       "      <td>Aaron Lennon</td>\n",
       "      <td>Everton</td>\n",
       "      <td>30</td>\n",
       "      <td>RW</td>\n",
       "      <td>1</td>\n",
       "      <td>5.0</td>\n",
       "      <td>504</td>\n",
       "      <td>5.5</td>\n",
       "      <td>0.20%</td>\n",
       "      <td>22</td>\n",
       "      <td>1</td>\n",
       "      <td>England</td>\n",
       "      <td>0</td>\n",
       "      <td>4</td>\n",
       "      <td>7</td>\n",
       "      <td>0</td>\n",
       "      <td>0</td>\n",
       "    </tr>\n",
       "    <tr>\n",
       "      <th>3</th>\n",
       "      <td>Aaron Ramsey</td>\n",
       "      <td>Arsenal</td>\n",
       "      <td>26</td>\n",
       "      <td>CM</td>\n",
       "      <td>2</td>\n",
       "      <td>35.0</td>\n",
       "      <td>1040</td>\n",
       "      <td>7.0</td>\n",
       "      <td>5.10%</td>\n",
       "      <td>56</td>\n",
       "      <td>1</td>\n",
       "      <td>Wales</td>\n",
       "      <td>0</td>\n",
       "      <td>3</td>\n",
       "      <td>1</td>\n",
       "      <td>1</td>\n",
       "      <td>0</td>\n",
       "    </tr>\n",
       "    <tr>\n",
       "      <th>0</th>\n",
       "      <td>Aaron Cresswell</td>\n",
       "      <td>West+Ham</td>\n",
       "      <td>27</td>\n",
       "      <td>LB</td>\n",
       "      <td>3</td>\n",
       "      <td>12.0</td>\n",
       "      <td>380</td>\n",
       "      <td>5.0</td>\n",
       "      <td>1.30%</td>\n",
       "      <td>60</td>\n",
       "      <td>1</td>\n",
       "      <td>England</td>\n",
       "      <td>0</td>\n",
       "      <td>3</td>\n",
       "      <td>20</td>\n",
       "      <td>0</td>\n",
       "      <td>0</td>\n",
       "    </tr>\n",
       "  </tbody>\n",
       "</table>\n",
       "</div>"
      ],
      "text/plain": [
       "              name          club  age  ... club_id  big_club  new_signing\n",
       "2       Aaron Mooy  Huddersfield   26  ...       8         0            0\n",
       "1     Aaron Lennon       Everton   30  ...       7         0            0\n",
       "3     Aaron Ramsey       Arsenal   26  ...       1         1            0\n",
       "0  Aaron Cresswell      West+Ham   27  ...      20         0            0\n",
       "\n",
       "[4 rows x 17 columns]"
      ]
     },
     "execution_count": 139,
     "metadata": {
      "tags": []
     },
     "output_type": "execute_result"
    }
   ],
   "source": [
    "players.reindex(index=[2,1,3,0])"
   ]
  },
  {
   "cell_type": "code",
   "execution_count": 0,
   "metadata": {
    "colab": {},
    "colab_type": "code",
    "id": "gpYyV8m-EbzO"
   },
   "outputs": [],
   "source": [
    "# ...get all the columns, and have them alphabetically ordered"
   ]
  },
  {
   "cell_type": "code",
   "execution_count": 141,
   "metadata": {
    "colab": {
     "base_uri": "https://localhost:8080/",
     "height": 0
    },
    "colab_type": "code",
    "id": "Ah5bVJeIEul_",
    "outputId": "875c6d68-eefb-482b-e77c-193c61cc43d4"
   },
   "outputs": [
    {
     "data": {
      "text/html": [
       "<div>\n",
       "<style scoped>\n",
       "    .dataframe tbody tr th:only-of-type {\n",
       "        vertical-align: middle;\n",
       "    }\n",
       "\n",
       "    .dataframe tbody tr th {\n",
       "        vertical-align: top;\n",
       "    }\n",
       "\n",
       "    .dataframe thead th {\n",
       "        text-align: right;\n",
       "    }\n",
       "</style>\n",
       "<table border=\"1\" class=\"dataframe\">\n",
       "  <thead>\n",
       "    <tr style=\"text-align: right;\">\n",
       "      <th></th>\n",
       "      <th>age</th>\n",
       "      <th>age_cat</th>\n",
       "      <th>big_club</th>\n",
       "      <th>club</th>\n",
       "      <th>club_id</th>\n",
       "      <th>fpl_points</th>\n",
       "      <th>fpl_sel</th>\n",
       "      <th>fpl_value</th>\n",
       "      <th>market_value</th>\n",
       "      <th>name</th>\n",
       "      <th>nationality</th>\n",
       "      <th>new_foreign</th>\n",
       "      <th>new_signing</th>\n",
       "      <th>page_views</th>\n",
       "      <th>position</th>\n",
       "      <th>position_cat</th>\n",
       "      <th>region</th>\n",
       "    </tr>\n",
       "  </thead>\n",
       "  <tbody>\n",
       "    <tr>\n",
       "      <th>2</th>\n",
       "      <td>26</td>\n",
       "      <td>3</td>\n",
       "      <td>0</td>\n",
       "      <td>Huddersfield</td>\n",
       "      <td>8</td>\n",
       "      <td>0</td>\n",
       "      <td>2.50%</td>\n",
       "      <td>5.5</td>\n",
       "      <td>5.0</td>\n",
       "      <td>Aaron Mooy</td>\n",
       "      <td>Australia</td>\n",
       "      <td>0</td>\n",
       "      <td>0</td>\n",
       "      <td>588</td>\n",
       "      <td>CM</td>\n",
       "      <td>2</td>\n",
       "      <td>4</td>\n",
       "    </tr>\n",
       "    <tr>\n",
       "      <th>1</th>\n",
       "      <td>30</td>\n",
       "      <td>4</td>\n",
       "      <td>0</td>\n",
       "      <td>Everton</td>\n",
       "      <td>7</td>\n",
       "      <td>22</td>\n",
       "      <td>0.20%</td>\n",
       "      <td>5.5</td>\n",
       "      <td>5.0</td>\n",
       "      <td>Aaron Lennon</td>\n",
       "      <td>England</td>\n",
       "      <td>0</td>\n",
       "      <td>0</td>\n",
       "      <td>504</td>\n",
       "      <td>RW</td>\n",
       "      <td>1</td>\n",
       "      <td>1</td>\n",
       "    </tr>\n",
       "    <tr>\n",
       "      <th>3</th>\n",
       "      <td>26</td>\n",
       "      <td>3</td>\n",
       "      <td>1</td>\n",
       "      <td>Arsenal</td>\n",
       "      <td>1</td>\n",
       "      <td>56</td>\n",
       "      <td>5.10%</td>\n",
       "      <td>7.0</td>\n",
       "      <td>35.0</td>\n",
       "      <td>Aaron Ramsey</td>\n",
       "      <td>Wales</td>\n",
       "      <td>0</td>\n",
       "      <td>0</td>\n",
       "      <td>1040</td>\n",
       "      <td>CM</td>\n",
       "      <td>2</td>\n",
       "      <td>1</td>\n",
       "    </tr>\n",
       "    <tr>\n",
       "      <th>0</th>\n",
       "      <td>27</td>\n",
       "      <td>3</td>\n",
       "      <td>0</td>\n",
       "      <td>West+Ham</td>\n",
       "      <td>20</td>\n",
       "      <td>60</td>\n",
       "      <td>1.30%</td>\n",
       "      <td>5.0</td>\n",
       "      <td>12.0</td>\n",
       "      <td>Aaron Cresswell</td>\n",
       "      <td>England</td>\n",
       "      <td>0</td>\n",
       "      <td>0</td>\n",
       "      <td>380</td>\n",
       "      <td>LB</td>\n",
       "      <td>3</td>\n",
       "      <td>1</td>\n",
       "    </tr>\n",
       "  </tbody>\n",
       "</table>\n",
       "</div>"
      ],
      "text/plain": [
       "   age  age_cat  big_club  ... position  position_cat  region\n",
       "2   26        3         0  ...       CM             2       4\n",
       "1   30        4         0  ...       RW             1       1\n",
       "3   26        3         1  ...       CM             2       1\n",
       "0   27        3         0  ...       LB             3       1\n",
       "\n",
       "[4 rows x 17 columns]"
      ]
     },
     "execution_count": 141,
     "metadata": {
      "tags": []
     },
     "output_type": "execute_result"
    }
   ],
   "source": [
    "players.reindex(index=[2,1,3,0]).sort_index(axis=1)"
   ]
  },
  {
   "cell_type": "code",
   "execution_count": 142,
   "metadata": {
    "colab": {
     "base_uri": "https://localhost:8080/",
     "height": 0
    },
    "colab_type": "code",
    "id": "MTT334HEEy15",
    "outputId": "00a4021a-c155-43ca-dfab-5801e0174d07"
   },
   "outputs": [
    {
     "data": {
      "text/html": [
       "<div>\n",
       "<style scoped>\n",
       "    .dataframe tbody tr th:only-of-type {\n",
       "        vertical-align: middle;\n",
       "    }\n",
       "\n",
       "    .dataframe tbody tr th {\n",
       "        vertical-align: top;\n",
       "    }\n",
       "\n",
       "    .dataframe thead th {\n",
       "        text-align: right;\n",
       "    }\n",
       "</style>\n",
       "<table border=\"1\" class=\"dataframe\">\n",
       "  <thead>\n",
       "    <tr style=\"text-align: right;\">\n",
       "      <th></th>\n",
       "    </tr>\n",
       "  </thead>\n",
       "  <tbody>\n",
       "    <tr>\n",
       "      <th>2</th>\n",
       "    </tr>\n",
       "    <tr>\n",
       "      <th>1</th>\n",
       "    </tr>\n",
       "    <tr>\n",
       "      <th>3</th>\n",
       "    </tr>\n",
       "    <tr>\n",
       "      <th>0</th>\n",
       "    </tr>\n",
       "  </tbody>\n",
       "</table>\n",
       "</div>"
      ],
      "text/plain": [
       "Empty DataFrame\n",
       "Columns: []\n",
       "Index: [2, 1, 3, 0]"
      ]
     },
     "execution_count": 142,
     "metadata": {
      "tags": []
     },
     "output_type": "execute_result"
    }
   ],
   "source": [
    "players.reindex(index=[2,1,3,0], columns=[])"
   ]
  },
  {
   "cell_type": "code",
   "execution_count": 0,
   "metadata": {
    "colab": {},
    "colab_type": "code",
    "id": "0BKe-UhhFErD"
   },
   "outputs": [],
   "source": [
    "# how do we get a sorted list of column labels?"
   ]
  },
  {
   "cell_type": "code",
   "execution_count": 0,
   "metadata": {
    "colab": {},
    "colab_type": "code",
    "id": "LI229YrVFHzv"
   },
   "outputs": [],
   "source": [
    "# ===ASIDE==="
   ]
  },
  {
   "cell_type": "code",
   "execution_count": 145,
   "metadata": {
    "colab": {
     "base_uri": "https://localhost:8080/",
     "height": 0
    },
    "colab_type": "code",
    "id": "SGnDVacmFJcX",
    "outputId": "99ff614c-ab7b-4210-cad3-5b3558510e5b"
   },
   "outputs": [
    {
     "data": {
      "text/plain": [
       "Index(['name', 'club', 'age', 'position', 'position_cat', 'market_value',\n",
       "       'page_views', 'fpl_value', 'fpl_sel', 'fpl_points', 'region',\n",
       "       'nationality', 'new_foreign', 'age_cat', 'club_id', 'big_club',\n",
       "       'new_signing'],\n",
       "      dtype='object')"
      ]
     },
     "execution_count": 145,
     "metadata": {
      "tags": []
     },
     "output_type": "execute_result"
    }
   ],
   "source": [
    "players.columns"
   ]
  },
  {
   "cell_type": "code",
   "execution_count": 146,
   "metadata": {
    "colab": {
     "base_uri": "https://localhost:8080/",
     "height": 0
    },
    "colab_type": "code",
    "id": "VkClofnpFLKo",
    "outputId": "e8748593-f30e-4543-9569-d7965bcda38a"
   },
   "outputs": [
    {
     "data": {
      "text/plain": [
       "<map at 0x7f9f668e4f60>"
      ]
     },
     "execution_count": 146,
     "metadata": {
      "tags": []
     },
     "output_type": "execute_result"
    }
   ],
   "source": [
    "iter(players.columns)"
   ]
  },
  {
   "cell_type": "code",
   "execution_count": 0,
   "metadata": {
    "colab": {},
    "colab_type": "code",
    "id": "HGuJPY1jFPKQ"
   },
   "outputs": [],
   "source": [
    "# iter(True)"
   ]
  },
  {
   "cell_type": "code",
   "execution_count": 148,
   "metadata": {
    "colab": {
     "base_uri": "https://localhost:8080/",
     "height": 0
    },
    "colab_type": "code",
    "id": "KhHYBR2TFTjq",
    "outputId": "d45843c5-e202-4762-8bf4-1cb2c5fa1e7a"
   },
   "outputs": [
    {
     "data": {
      "text/plain": [
       "['age',\n",
       " 'age_cat',\n",
       " 'big_club',\n",
       " 'club',\n",
       " 'club_id',\n",
       " 'fpl_points',\n",
       " 'fpl_sel',\n",
       " 'fpl_value',\n",
       " 'market_value',\n",
       " 'name',\n",
       " 'nationality',\n",
       " 'new_foreign',\n",
       " 'new_signing',\n",
       " 'page_views',\n",
       " 'position',\n",
       " 'position_cat',\n",
       " 'region']"
      ]
     },
     "execution_count": 148,
     "metadata": {
      "tags": []
     },
     "output_type": "execute_result"
    }
   ],
   "source": [
    "sorted(players.columns)"
   ]
  },
  {
   "cell_type": "code",
   "execution_count": 0,
   "metadata": {
    "colab": {},
    "colab_type": "code",
    "id": "4935I21-FdlA"
   },
   "outputs": [],
   "source": [
    "# ===END ASIDE==="
   ]
  },
  {
   "cell_type": "code",
   "execution_count": 150,
   "metadata": {
    "colab": {
     "base_uri": "https://localhost:8080/",
     "height": 0
    },
    "colab_type": "code",
    "id": "ou7B31BCFjZ7",
    "outputId": "c51f41f8-4f86-4cf3-a55e-2fed4894dbec"
   },
   "outputs": [
    {
     "data": {
      "text/html": [
       "<div>\n",
       "<style scoped>\n",
       "    .dataframe tbody tr th:only-of-type {\n",
       "        vertical-align: middle;\n",
       "    }\n",
       "\n",
       "    .dataframe tbody tr th {\n",
       "        vertical-align: top;\n",
       "    }\n",
       "\n",
       "    .dataframe thead th {\n",
       "        text-align: right;\n",
       "    }\n",
       "</style>\n",
       "<table border=\"1\" class=\"dataframe\">\n",
       "  <thead>\n",
       "    <tr style=\"text-align: right;\">\n",
       "      <th></th>\n",
       "      <th>age</th>\n",
       "      <th>age_cat</th>\n",
       "      <th>big_club</th>\n",
       "      <th>club</th>\n",
       "      <th>club_id</th>\n",
       "      <th>fpl_points</th>\n",
       "    </tr>\n",
       "  </thead>\n",
       "  <tbody>\n",
       "    <tr>\n",
       "      <th>2</th>\n",
       "      <td>26</td>\n",
       "      <td>3</td>\n",
       "      <td>0</td>\n",
       "      <td>Huddersfield</td>\n",
       "      <td>8</td>\n",
       "      <td>0</td>\n",
       "    </tr>\n",
       "    <tr>\n",
       "      <th>1</th>\n",
       "      <td>30</td>\n",
       "      <td>4</td>\n",
       "      <td>0</td>\n",
       "      <td>Everton</td>\n",
       "      <td>7</td>\n",
       "      <td>22</td>\n",
       "    </tr>\n",
       "    <tr>\n",
       "      <th>3</th>\n",
       "      <td>26</td>\n",
       "      <td>3</td>\n",
       "      <td>1</td>\n",
       "      <td>Arsenal</td>\n",
       "      <td>1</td>\n",
       "      <td>56</td>\n",
       "    </tr>\n",
       "    <tr>\n",
       "      <th>0</th>\n",
       "      <td>27</td>\n",
       "      <td>3</td>\n",
       "      <td>0</td>\n",
       "      <td>West+Ham</td>\n",
       "      <td>20</td>\n",
       "      <td>60</td>\n",
       "    </tr>\n",
       "  </tbody>\n",
       "</table>\n",
       "</div>"
      ],
      "text/plain": [
       "   age  age_cat  big_club          club  club_id  fpl_points\n",
       "2   26        3         0  Huddersfield        8           0\n",
       "1   30        4         0       Everton        7          22\n",
       "3   26        3         1       Arsenal        1          56\n",
       "0   27        3         0      West+Ham       20          60"
      ]
     },
     "execution_count": 150,
     "metadata": {
      "tags": []
     },
     "output_type": "execute_result"
    }
   ],
   "source": [
    "players.reindex(index=[2,1,3,0], columns=sorted(players.columns)[:6])"
   ]
  },
  {
   "cell_type": "markdown",
   "metadata": {
    "colab_type": "text",
    "id": "la2y75JmG953"
   },
   "source": [
    "#### BONUS - Another Way"
   ]
  },
  {
   "cell_type": "code",
   "execution_count": 151,
   "metadata": {
    "colab": {
     "base_uri": "https://localhost:8080/",
     "height": 0
    },
    "colab_type": "code",
    "id": "4DiTVvzuHquN",
    "outputId": "f0f2446c-5b14-44e7-efbc-356ce9282ed2"
   },
   "outputs": [
    {
     "data": {
      "text/html": [
       "<div>\n",
       "<style scoped>\n",
       "    .dataframe tbody tr th:only-of-type {\n",
       "        vertical-align: middle;\n",
       "    }\n",
       "\n",
       "    .dataframe tbody tr th {\n",
       "        vertical-align: top;\n",
       "    }\n",
       "\n",
       "    .dataframe thead th {\n",
       "        text-align: right;\n",
       "    }\n",
       "</style>\n",
       "<table border=\"1\" class=\"dataframe\">\n",
       "  <thead>\n",
       "    <tr style=\"text-align: right;\">\n",
       "      <th></th>\n",
       "      <th>age</th>\n",
       "      <th>age_cat</th>\n",
       "      <th>big_club</th>\n",
       "      <th>club</th>\n",
       "      <th>club_id</th>\n",
       "      <th>fpl_points</th>\n",
       "      <th>fpl_sel</th>\n",
       "      <th>fpl_value</th>\n",
       "      <th>market_value</th>\n",
       "      <th>name</th>\n",
       "      <th>nationality</th>\n",
       "      <th>new_foreign</th>\n",
       "      <th>new_signing</th>\n",
       "      <th>page_views</th>\n",
       "      <th>position</th>\n",
       "      <th>position_cat</th>\n",
       "      <th>region</th>\n",
       "    </tr>\n",
       "  </thead>\n",
       "  <tbody>\n",
       "    <tr>\n",
       "      <th>2</th>\n",
       "      <td>26</td>\n",
       "      <td>3</td>\n",
       "      <td>0</td>\n",
       "      <td>Huddersfield</td>\n",
       "      <td>8</td>\n",
       "      <td>0</td>\n",
       "      <td>2.50%</td>\n",
       "      <td>5.5</td>\n",
       "      <td>5.0</td>\n",
       "      <td>Aaron Mooy</td>\n",
       "      <td>Australia</td>\n",
       "      <td>0</td>\n",
       "      <td>0</td>\n",
       "      <td>588</td>\n",
       "      <td>CM</td>\n",
       "      <td>2</td>\n",
       "      <td>4</td>\n",
       "    </tr>\n",
       "    <tr>\n",
       "      <th>1</th>\n",
       "      <td>30</td>\n",
       "      <td>4</td>\n",
       "      <td>0</td>\n",
       "      <td>Everton</td>\n",
       "      <td>7</td>\n",
       "      <td>22</td>\n",
       "      <td>0.20%</td>\n",
       "      <td>5.5</td>\n",
       "      <td>5.0</td>\n",
       "      <td>Aaron Lennon</td>\n",
       "      <td>England</td>\n",
       "      <td>0</td>\n",
       "      <td>0</td>\n",
       "      <td>504</td>\n",
       "      <td>RW</td>\n",
       "      <td>1</td>\n",
       "      <td>1</td>\n",
       "    </tr>\n",
       "    <tr>\n",
       "      <th>3</th>\n",
       "      <td>26</td>\n",
       "      <td>3</td>\n",
       "      <td>1</td>\n",
       "      <td>Arsenal</td>\n",
       "      <td>1</td>\n",
       "      <td>56</td>\n",
       "      <td>5.10%</td>\n",
       "      <td>7.0</td>\n",
       "      <td>35.0</td>\n",
       "      <td>Aaron Ramsey</td>\n",
       "      <td>Wales</td>\n",
       "      <td>0</td>\n",
       "      <td>0</td>\n",
       "      <td>1040</td>\n",
       "      <td>CM</td>\n",
       "      <td>2</td>\n",
       "      <td>1</td>\n",
       "    </tr>\n",
       "    <tr>\n",
       "      <th>0</th>\n",
       "      <td>27</td>\n",
       "      <td>3</td>\n",
       "      <td>0</td>\n",
       "      <td>West+Ham</td>\n",
       "      <td>20</td>\n",
       "      <td>60</td>\n",
       "      <td>1.30%</td>\n",
       "      <td>5.0</td>\n",
       "      <td>12.0</td>\n",
       "      <td>Aaron Cresswell</td>\n",
       "      <td>England</td>\n",
       "      <td>0</td>\n",
       "      <td>0</td>\n",
       "      <td>380</td>\n",
       "      <td>LB</td>\n",
       "      <td>3</td>\n",
       "      <td>1</td>\n",
       "    </tr>\n",
       "  </tbody>\n",
       "</table>\n",
       "</div>"
      ],
      "text/plain": [
       "   age  age_cat  big_club  ... position  position_cat  region\n",
       "2   26        3         0  ...       CM             2       4\n",
       "1   30        4         0  ...       RW             1       1\n",
       "3   26        3         1  ...       CM             2       1\n",
       "0   27        3         0  ...       LB             3       1\n",
       "\n",
       "[4 rows x 17 columns]"
      ]
     },
     "execution_count": 151,
     "metadata": {
      "tags": []
     },
     "output_type": "execute_result"
    }
   ],
   "source": [
    "players.reindex(index=[2,1,3,0], columns=sorted(players.columns))"
   ]
  },
  {
   "cell_type": "code",
   "execution_count": 152,
   "metadata": {
    "colab": {
     "base_uri": "https://localhost:8080/",
     "height": 0
    },
    "colab_type": "code",
    "id": "dP-huwW9IiYg",
    "outputId": "3e667f65-c65d-4056-903d-f62a2d4b1c58"
   },
   "outputs": [
    {
     "data": {
      "text/plain": [
       "['age',\n",
       " 'age_cat',\n",
       " 'big_club',\n",
       " 'club',\n",
       " 'club_id',\n",
       " 'fpl_points',\n",
       " 'fpl_sel',\n",
       " 'fpl_value',\n",
       " 'market_value',\n",
       " 'name',\n",
       " 'nationality',\n",
       " 'new_foreign',\n",
       " 'new_signing',\n",
       " 'page_views',\n",
       " 'position',\n",
       " 'position_cat',\n",
       " 'region']"
      ]
     },
     "execution_count": 152,
     "metadata": {
      "tags": []
     },
     "output_type": "execute_result"
    }
   ],
   "source": [
    "sorted(players.columns)"
   ]
  },
  {
   "cell_type": "code",
   "execution_count": 153,
   "metadata": {
    "colab": {
     "base_uri": "https://localhost:8080/",
     "height": 0
    },
    "colab_type": "code",
    "id": "S6RIG3elI74c",
    "outputId": "04a811f1-36ba-4be6-eb7b-8eedb5cf899e"
   },
   "outputs": [
    {
     "data": {
      "text/plain": [
       "Index(['age', 'age_cat', 'big_club', 'club', 'club_id', 'fpl_points',\n",
       "       'fpl_sel', 'fpl_value', 'market_value', 'name', 'nationality',\n",
       "       'new_foreign', 'new_signing', 'page_views', 'position', 'position_cat',\n",
       "       'region'],\n",
       "      dtype='object')"
      ]
     },
     "execution_count": 153,
     "metadata": {
      "tags": []
     },
     "output_type": "execute_result"
    }
   ],
   "source": [
    "players.columns.sort_values()"
   ]
  },
  {
   "cell_type": "code",
   "execution_count": 154,
   "metadata": {
    "colab": {
     "base_uri": "https://localhost:8080/",
     "height": 0
    },
    "colab_type": "code",
    "id": "T2mMZ-SXIu5T",
    "outputId": "37b89184-5301-4e66-cf3c-1d9f725b6250"
   },
   "outputs": [
    {
     "data": {
      "text/html": [
       "<div>\n",
       "<style scoped>\n",
       "    .dataframe tbody tr th:only-of-type {\n",
       "        vertical-align: middle;\n",
       "    }\n",
       "\n",
       "    .dataframe tbody tr th {\n",
       "        vertical-align: top;\n",
       "    }\n",
       "\n",
       "    .dataframe thead th {\n",
       "        text-align: right;\n",
       "    }\n",
       "</style>\n",
       "<table border=\"1\" class=\"dataframe\">\n",
       "  <thead>\n",
       "    <tr style=\"text-align: right;\">\n",
       "      <th></th>\n",
       "      <th>age</th>\n",
       "      <th>age_cat</th>\n",
       "      <th>big_club</th>\n",
       "      <th>club</th>\n",
       "      <th>club_id</th>\n",
       "      <th>fpl_points</th>\n",
       "      <th>fpl_sel</th>\n",
       "      <th>fpl_value</th>\n",
       "      <th>market_value</th>\n",
       "      <th>name</th>\n",
       "      <th>nationality</th>\n",
       "      <th>new_foreign</th>\n",
       "      <th>new_signing</th>\n",
       "      <th>page_views</th>\n",
       "      <th>position</th>\n",
       "      <th>position_cat</th>\n",
       "      <th>region</th>\n",
       "    </tr>\n",
       "  </thead>\n",
       "  <tbody>\n",
       "    <tr>\n",
       "      <th>2</th>\n",
       "      <td>26</td>\n",
       "      <td>3</td>\n",
       "      <td>0</td>\n",
       "      <td>Huddersfield</td>\n",
       "      <td>8</td>\n",
       "      <td>0</td>\n",
       "      <td>2.50%</td>\n",
       "      <td>5.5</td>\n",
       "      <td>5.0</td>\n",
       "      <td>Aaron Mooy</td>\n",
       "      <td>Australia</td>\n",
       "      <td>0</td>\n",
       "      <td>0</td>\n",
       "      <td>588</td>\n",
       "      <td>CM</td>\n",
       "      <td>2</td>\n",
       "      <td>4</td>\n",
       "    </tr>\n",
       "    <tr>\n",
       "      <th>1</th>\n",
       "      <td>30</td>\n",
       "      <td>4</td>\n",
       "      <td>0</td>\n",
       "      <td>Everton</td>\n",
       "      <td>7</td>\n",
       "      <td>22</td>\n",
       "      <td>0.20%</td>\n",
       "      <td>5.5</td>\n",
       "      <td>5.0</td>\n",
       "      <td>Aaron Lennon</td>\n",
       "      <td>England</td>\n",
       "      <td>0</td>\n",
       "      <td>0</td>\n",
       "      <td>504</td>\n",
       "      <td>RW</td>\n",
       "      <td>1</td>\n",
       "      <td>1</td>\n",
       "    </tr>\n",
       "    <tr>\n",
       "      <th>3</th>\n",
       "      <td>26</td>\n",
       "      <td>3</td>\n",
       "      <td>1</td>\n",
       "      <td>Arsenal</td>\n",
       "      <td>1</td>\n",
       "      <td>56</td>\n",
       "      <td>5.10%</td>\n",
       "      <td>7.0</td>\n",
       "      <td>35.0</td>\n",
       "      <td>Aaron Ramsey</td>\n",
       "      <td>Wales</td>\n",
       "      <td>0</td>\n",
       "      <td>0</td>\n",
       "      <td>1040</td>\n",
       "      <td>CM</td>\n",
       "      <td>2</td>\n",
       "      <td>1</td>\n",
       "    </tr>\n",
       "    <tr>\n",
       "      <th>0</th>\n",
       "      <td>27</td>\n",
       "      <td>3</td>\n",
       "      <td>0</td>\n",
       "      <td>West+Ham</td>\n",
       "      <td>20</td>\n",
       "      <td>60</td>\n",
       "      <td>1.30%</td>\n",
       "      <td>5.0</td>\n",
       "      <td>12.0</td>\n",
       "      <td>Aaron Cresswell</td>\n",
       "      <td>England</td>\n",
       "      <td>0</td>\n",
       "      <td>0</td>\n",
       "      <td>380</td>\n",
       "      <td>LB</td>\n",
       "      <td>3</td>\n",
       "      <td>1</td>\n",
       "    </tr>\n",
       "  </tbody>\n",
       "</table>\n",
       "</div>"
      ],
      "text/plain": [
       "   age  age_cat  big_club  ... position  position_cat  region\n",
       "2   26        3         0  ...       CM             2       4\n",
       "1   30        4         0  ...       RW             1       1\n",
       "3   26        3         1  ...       CM             2       1\n",
       "0   27        3         0  ...       LB             3       1\n",
       "\n",
       "[4 rows x 17 columns]"
      ]
     },
     "execution_count": 154,
     "metadata": {
      "tags": []
     },
     "output_type": "execute_result"
    }
   ],
   "source": [
    "players.reindex(index=[2,1,3,0], columns=players.columns.sort_values())"
   ]
  },
  {
   "cell_type": "markdown",
   "metadata": {
    "colab_type": "text",
    "id": "vf1oAmZ6JEHe"
   },
   "source": [
    "#### BONUS: Please Avoid Sorting Like This"
   ]
  },
  {
   "cell_type": "code",
   "execution_count": 0,
   "metadata": {
    "colab": {},
    "colab_type": "code",
    "id": "59CgeqCVJohs"
   },
   "outputs": [],
   "source": [
    "# anti-pattern - please do not do this!!!"
   ]
  },
  {
   "cell_type": "code",
   "execution_count": 0,
   "metadata": {
    "colab": {},
    "colab_type": "code",
    "id": "kMyby3KQJozR"
   },
   "outputs": [],
   "source": [
    "df = players.iloc[:6, :6]"
   ]
  },
  {
   "cell_type": "code",
   "execution_count": 157,
   "metadata": {
    "colab": {
     "base_uri": "https://localhost:8080/",
     "height": 0
    },
    "colab_type": "code",
    "id": "EWYSLLcpM0Hv",
    "outputId": "aa6e8c02-b9e0-49c6-d4c8-9c06c2fc6dd7"
   },
   "outputs": [
    {
     "data": {
      "text/html": [
       "<div>\n",
       "<style scoped>\n",
       "    .dataframe tbody tr th:only-of-type {\n",
       "        vertical-align: middle;\n",
       "    }\n",
       "\n",
       "    .dataframe tbody tr th {\n",
       "        vertical-align: top;\n",
       "    }\n",
       "\n",
       "    .dataframe thead th {\n",
       "        text-align: right;\n",
       "    }\n",
       "</style>\n",
       "<table border=\"1\" class=\"dataframe\">\n",
       "  <thead>\n",
       "    <tr style=\"text-align: right;\">\n",
       "      <th></th>\n",
       "      <th>name</th>\n",
       "      <th>club</th>\n",
       "      <th>age</th>\n",
       "      <th>position</th>\n",
       "      <th>position_cat</th>\n",
       "      <th>market_value</th>\n",
       "    </tr>\n",
       "  </thead>\n",
       "  <tbody>\n",
       "    <tr>\n",
       "      <th>0</th>\n",
       "      <td>Aaron Cresswell</td>\n",
       "      <td>West+Ham</td>\n",
       "      <td>27</td>\n",
       "      <td>LB</td>\n",
       "      <td>3</td>\n",
       "      <td>12.0</td>\n",
       "    </tr>\n",
       "    <tr>\n",
       "      <th>1</th>\n",
       "      <td>Aaron Lennon</td>\n",
       "      <td>Everton</td>\n",
       "      <td>30</td>\n",
       "      <td>RW</td>\n",
       "      <td>1</td>\n",
       "      <td>5.0</td>\n",
       "    </tr>\n",
       "    <tr>\n",
       "      <th>2</th>\n",
       "      <td>Aaron Mooy</td>\n",
       "      <td>Huddersfield</td>\n",
       "      <td>26</td>\n",
       "      <td>CM</td>\n",
       "      <td>2</td>\n",
       "      <td>5.0</td>\n",
       "    </tr>\n",
       "    <tr>\n",
       "      <th>3</th>\n",
       "      <td>Aaron Ramsey</td>\n",
       "      <td>Arsenal</td>\n",
       "      <td>26</td>\n",
       "      <td>CM</td>\n",
       "      <td>2</td>\n",
       "      <td>35.0</td>\n",
       "    </tr>\n",
       "    <tr>\n",
       "      <th>4</th>\n",
       "      <td>Abdoulaye Doucoure</td>\n",
       "      <td>Watford</td>\n",
       "      <td>24</td>\n",
       "      <td>CM</td>\n",
       "      <td>2</td>\n",
       "      <td>6.0</td>\n",
       "    </tr>\n",
       "    <tr>\n",
       "      <th>5</th>\n",
       "      <td>Adam Federici</td>\n",
       "      <td>Bournemouth</td>\n",
       "      <td>32</td>\n",
       "      <td>GK</td>\n",
       "      <td>4</td>\n",
       "      <td>1.0</td>\n",
       "    </tr>\n",
       "  </tbody>\n",
       "</table>\n",
       "</div>"
      ],
      "text/plain": [
       "                 name          club  age position  position_cat  market_value\n",
       "0     Aaron Cresswell      West+Ham   27       LB             3          12.0\n",
       "1        Aaron Lennon       Everton   30       RW             1           5.0\n",
       "2          Aaron Mooy  Huddersfield   26       CM             2           5.0\n",
       "3        Aaron Ramsey       Arsenal   26       CM             2          35.0\n",
       "4  Abdoulaye Doucoure       Watford   24       CM             2           6.0\n",
       "5       Adam Federici   Bournemouth   32       GK             4           1.0"
      ]
     },
     "execution_count": 157,
     "metadata": {
      "tags": []
     },
     "output_type": "execute_result"
    }
   ],
   "source": [
    "df"
   ]
  },
  {
   "cell_type": "code",
   "execution_count": 158,
   "metadata": {
    "colab": {
     "base_uri": "https://localhost:8080/",
     "height": 0
    },
    "colab_type": "code",
    "id": "pxkTwuHEM0qR",
    "outputId": "ecd1f071-ca3a-4bb2-baac-3022cafe619c"
   },
   "outputs": [
    {
     "data": {
      "text/html": [
       "<div>\n",
       "<style scoped>\n",
       "    .dataframe tbody tr th:only-of-type {\n",
       "        vertical-align: middle;\n",
       "    }\n",
       "\n",
       "    .dataframe tbody tr th {\n",
       "        vertical-align: top;\n",
       "    }\n",
       "\n",
       "    .dataframe thead th {\n",
       "        text-align: right;\n",
       "    }\n",
       "</style>\n",
       "<table border=\"1\" class=\"dataframe\">\n",
       "  <thead>\n",
       "    <tr style=\"text-align: right;\">\n",
       "      <th></th>\n",
       "      <th>0</th>\n",
       "      <th>1</th>\n",
       "      <th>2</th>\n",
       "      <th>3</th>\n",
       "      <th>4</th>\n",
       "      <th>5</th>\n",
       "    </tr>\n",
       "  </thead>\n",
       "  <tbody>\n",
       "    <tr>\n",
       "      <th>name</th>\n",
       "      <td>Aaron Cresswell</td>\n",
       "      <td>Aaron Lennon</td>\n",
       "      <td>Aaron Mooy</td>\n",
       "      <td>Aaron Ramsey</td>\n",
       "      <td>Abdoulaye Doucoure</td>\n",
       "      <td>Adam Federici</td>\n",
       "    </tr>\n",
       "    <tr>\n",
       "      <th>club</th>\n",
       "      <td>West+Ham</td>\n",
       "      <td>Everton</td>\n",
       "      <td>Huddersfield</td>\n",
       "      <td>Arsenal</td>\n",
       "      <td>Watford</td>\n",
       "      <td>Bournemouth</td>\n",
       "    </tr>\n",
       "    <tr>\n",
       "      <th>age</th>\n",
       "      <td>27</td>\n",
       "      <td>30</td>\n",
       "      <td>26</td>\n",
       "      <td>26</td>\n",
       "      <td>24</td>\n",
       "      <td>32</td>\n",
       "    </tr>\n",
       "    <tr>\n",
       "      <th>position</th>\n",
       "      <td>LB</td>\n",
       "      <td>RW</td>\n",
       "      <td>CM</td>\n",
       "      <td>CM</td>\n",
       "      <td>CM</td>\n",
       "      <td>GK</td>\n",
       "    </tr>\n",
       "    <tr>\n",
       "      <th>position_cat</th>\n",
       "      <td>3</td>\n",
       "      <td>1</td>\n",
       "      <td>2</td>\n",
       "      <td>2</td>\n",
       "      <td>2</td>\n",
       "      <td>4</td>\n",
       "    </tr>\n",
       "    <tr>\n",
       "      <th>market_value</th>\n",
       "      <td>12</td>\n",
       "      <td>5</td>\n",
       "      <td>5</td>\n",
       "      <td>35</td>\n",
       "      <td>6</td>\n",
       "      <td>1</td>\n",
       "    </tr>\n",
       "  </tbody>\n",
       "</table>\n",
       "</div>"
      ],
      "text/plain": [
       "                            0             1  ...                   4              5\n",
       "name          Aaron Cresswell  Aaron Lennon  ...  Abdoulaye Doucoure  Adam Federici\n",
       "club                 West+Ham       Everton  ...             Watford    Bournemouth\n",
       "age                        27            30  ...                  24             32\n",
       "position                   LB            RW  ...                  CM             GK\n",
       "position_cat                3             1  ...                   2              4\n",
       "market_value               12             5  ...                   6              1\n",
       "\n",
       "[6 rows x 6 columns]"
      ]
     },
     "execution_count": 158,
     "metadata": {
      "tags": []
     },
     "output_type": "execute_result"
    }
   ],
   "source": [
    "df.swapaxes(1, 0)"
   ]
  },
  {
   "cell_type": "code",
   "execution_count": 159,
   "metadata": {
    "colab": {
     "base_uri": "https://localhost:8080/",
     "height": 0
    },
    "colab_type": "code",
    "id": "xR1e_7JOM7Pz",
    "outputId": "620a3bd7-e5c5-405c-9bf2-8aea1946f04d"
   },
   "outputs": [
    {
     "data": {
      "text/html": [
       "<div>\n",
       "<style scoped>\n",
       "    .dataframe tbody tr th:only-of-type {\n",
       "        vertical-align: middle;\n",
       "    }\n",
       "\n",
       "    .dataframe tbody tr th {\n",
       "        vertical-align: top;\n",
       "    }\n",
       "\n",
       "    .dataframe thead th {\n",
       "        text-align: right;\n",
       "    }\n",
       "</style>\n",
       "<table border=\"1\" class=\"dataframe\">\n",
       "  <thead>\n",
       "    <tr style=\"text-align: right;\">\n",
       "      <th></th>\n",
       "      <th>age</th>\n",
       "      <th>club</th>\n",
       "      <th>market_value</th>\n",
       "      <th>name</th>\n",
       "      <th>position</th>\n",
       "      <th>position_cat</th>\n",
       "    </tr>\n",
       "  </thead>\n",
       "  <tbody>\n",
       "    <tr>\n",
       "      <th>0</th>\n",
       "      <td>27</td>\n",
       "      <td>West+Ham</td>\n",
       "      <td>12</td>\n",
       "      <td>Aaron Cresswell</td>\n",
       "      <td>LB</td>\n",
       "      <td>3</td>\n",
       "    </tr>\n",
       "    <tr>\n",
       "      <th>1</th>\n",
       "      <td>30</td>\n",
       "      <td>Everton</td>\n",
       "      <td>5</td>\n",
       "      <td>Aaron Lennon</td>\n",
       "      <td>RW</td>\n",
       "      <td>1</td>\n",
       "    </tr>\n",
       "    <tr>\n",
       "      <th>2</th>\n",
       "      <td>26</td>\n",
       "      <td>Huddersfield</td>\n",
       "      <td>5</td>\n",
       "      <td>Aaron Mooy</td>\n",
       "      <td>CM</td>\n",
       "      <td>2</td>\n",
       "    </tr>\n",
       "    <tr>\n",
       "      <th>3</th>\n",
       "      <td>26</td>\n",
       "      <td>Arsenal</td>\n",
       "      <td>35</td>\n",
       "      <td>Aaron Ramsey</td>\n",
       "      <td>CM</td>\n",
       "      <td>2</td>\n",
       "    </tr>\n",
       "    <tr>\n",
       "      <th>4</th>\n",
       "      <td>24</td>\n",
       "      <td>Watford</td>\n",
       "      <td>6</td>\n",
       "      <td>Abdoulaye Doucoure</td>\n",
       "      <td>CM</td>\n",
       "      <td>2</td>\n",
       "    </tr>\n",
       "    <tr>\n",
       "      <th>5</th>\n",
       "      <td>32</td>\n",
       "      <td>Bournemouth</td>\n",
       "      <td>1</td>\n",
       "      <td>Adam Federici</td>\n",
       "      <td>GK</td>\n",
       "      <td>4</td>\n",
       "    </tr>\n",
       "  </tbody>\n",
       "</table>\n",
       "</div>"
      ],
      "text/plain": [
       "  age          club market_value                name position position_cat\n",
       "0  27      West+Ham           12     Aaron Cresswell       LB            3\n",
       "1  30       Everton            5        Aaron Lennon       RW            1\n",
       "2  26  Huddersfield            5          Aaron Mooy       CM            2\n",
       "3  26       Arsenal           35        Aaron Ramsey       CM            2\n",
       "4  24       Watford            6  Abdoulaye Doucoure       CM            2\n",
       "5  32   Bournemouth            1       Adam Federici       GK            4"
      ]
     },
     "execution_count": 159,
     "metadata": {
      "tags": []
     },
     "output_type": "execute_result"
    }
   ],
   "source": [
    "df.T.sort_index().T"
   ]
  },
  {
   "cell_type": "code",
   "execution_count": 160,
   "metadata": {
    "colab": {
     "base_uri": "https://localhost:8080/",
     "height": 0
    },
    "colab_type": "code",
    "id": "7pTtqlSiM_kk",
    "outputId": "d7bcfe0c-edb4-464c-d75b-2b2e537dfaf2"
   },
   "outputs": [
    {
     "data": {
      "text/html": [
       "<div>\n",
       "<style scoped>\n",
       "    .dataframe tbody tr th:only-of-type {\n",
       "        vertical-align: middle;\n",
       "    }\n",
       "\n",
       "    .dataframe tbody tr th {\n",
       "        vertical-align: top;\n",
       "    }\n",
       "\n",
       "    .dataframe thead th {\n",
       "        text-align: right;\n",
       "    }\n",
       "</style>\n",
       "<table border=\"1\" class=\"dataframe\">\n",
       "  <thead>\n",
       "    <tr style=\"text-align: right;\">\n",
       "      <th></th>\n",
       "      <th>age</th>\n",
       "      <th>club</th>\n",
       "      <th>market_value</th>\n",
       "      <th>name</th>\n",
       "      <th>position</th>\n",
       "      <th>position_cat</th>\n",
       "    </tr>\n",
       "  </thead>\n",
       "  <tbody>\n",
       "    <tr>\n",
       "      <th>0</th>\n",
       "      <td>27</td>\n",
       "      <td>West+Ham</td>\n",
       "      <td>12.0</td>\n",
       "      <td>Aaron Cresswell</td>\n",
       "      <td>LB</td>\n",
       "      <td>3</td>\n",
       "    </tr>\n",
       "    <tr>\n",
       "      <th>1</th>\n",
       "      <td>30</td>\n",
       "      <td>Everton</td>\n",
       "      <td>5.0</td>\n",
       "      <td>Aaron Lennon</td>\n",
       "      <td>RW</td>\n",
       "      <td>1</td>\n",
       "    </tr>\n",
       "    <tr>\n",
       "      <th>2</th>\n",
       "      <td>26</td>\n",
       "      <td>Huddersfield</td>\n",
       "      <td>5.0</td>\n",
       "      <td>Aaron Mooy</td>\n",
       "      <td>CM</td>\n",
       "      <td>2</td>\n",
       "    </tr>\n",
       "    <tr>\n",
       "      <th>3</th>\n",
       "      <td>26</td>\n",
       "      <td>Arsenal</td>\n",
       "      <td>35.0</td>\n",
       "      <td>Aaron Ramsey</td>\n",
       "      <td>CM</td>\n",
       "      <td>2</td>\n",
       "    </tr>\n",
       "    <tr>\n",
       "      <th>4</th>\n",
       "      <td>24</td>\n",
       "      <td>Watford</td>\n",
       "      <td>6.0</td>\n",
       "      <td>Abdoulaye Doucoure</td>\n",
       "      <td>CM</td>\n",
       "      <td>2</td>\n",
       "    </tr>\n",
       "    <tr>\n",
       "      <th>5</th>\n",
       "      <td>32</td>\n",
       "      <td>Bournemouth</td>\n",
       "      <td>1.0</td>\n",
       "      <td>Adam Federici</td>\n",
       "      <td>GK</td>\n",
       "      <td>4</td>\n",
       "    </tr>\n",
       "  </tbody>\n",
       "</table>\n",
       "</div>"
      ],
      "text/plain": [
       "   age          club  market_value                name position  position_cat\n",
       "0   27      West+Ham          12.0     Aaron Cresswell       LB             3\n",
       "1   30       Everton           5.0        Aaron Lennon       RW             1\n",
       "2   26  Huddersfield           5.0          Aaron Mooy       CM             2\n",
       "3   26       Arsenal          35.0        Aaron Ramsey       CM             2\n",
       "4   24       Watford           6.0  Abdoulaye Doucoure       CM             2\n",
       "5   32   Bournemouth           1.0       Adam Federici       GK             4"
      ]
     },
     "execution_count": 160,
     "metadata": {
      "tags": []
     },
     "output_type": "execute_result"
    }
   ],
   "source": [
    "df.sort_index(axis=1)"
   ]
  },
  {
   "cell_type": "markdown",
   "metadata": {
    "colab_type": "text",
    "id": "YuAT5K33NTfj"
   },
   "source": [
    "#### Skill Challenge"
   ]
  },
  {
   "cell_type": "markdown",
   "metadata": {
    "colab_type": "text",
    "id": "MkvQmkjjP82F"
   },
   "source": [
    "###### **1.**"
   ]
  },
  {
   "cell_type": "markdown",
   "metadata": {
    "colab_type": "text",
    "id": "Qq3Vq1hNQRHB"
   },
   "source": [
    "Sort the players in the **players** dataframe by age in ascending order. Who is the youngest footballer in the EPL?"
   ]
  },
  {
   "cell_type": "markdown",
   "metadata": {
    "colab_type": "text",
    "id": "iLXxoAaRQTm3"
   },
   "source": [
    "###### **2**. "
   ]
  },
  {
   "cell_type": "markdown",
   "metadata": {
    "colab_type": "text",
    "id": "r8hGAkohQYsz"
   },
   "source": [
    "Set the *club* column as the index of the dataframe. Then sort the dataframe index in alphabetical order. Make sure these changes are applied to the underlying dataframe and carry over to the next question. "
   ]
  },
  {
   "cell_type": "markdown",
   "metadata": {
    "colab_type": "text",
    "id": "bwn4T9pKQbdA"
   },
   "source": [
    "###### **3**."
   ]
  },
  {
   "cell_type": "markdown",
   "metadata": {
    "colab_type": "text",
    "id": "eZCVCayTQeQn"
   },
   "source": [
    "Sort the dataframe values by *club* and *market_value* where the club is alphabetical (Arsenal first) and the market value is in descending order (within each team, the most valuable players first)."
   ]
  },
  {
   "cell_type": "markdown",
   "metadata": {
    "colab_type": "text",
    "id": "gn5prJiTRrqm"
   },
   "source": [
    "#### Solution"
   ]
  },
  {
   "cell_type": "code",
   "execution_count": 0,
   "metadata": {
    "colab": {},
    "colab_type": "code",
    "id": "zqMPqH7hSgSs"
   },
   "outputs": [],
   "source": [
    "# 1"
   ]
  },
  {
   "cell_type": "code",
   "execution_count": 162,
   "metadata": {
    "colab": {
     "base_uri": "https://localhost:8080/",
     "height": 0
    },
    "colab_type": "code",
    "id": "q0qtMasrT1NQ",
    "outputId": "b5b20b18-68a5-43c7-f556-ab2329db3bed"
   },
   "outputs": [
    {
     "data": {
      "text/html": [
       "<div>\n",
       "<style scoped>\n",
       "    .dataframe tbody tr th:only-of-type {\n",
       "        vertical-align: middle;\n",
       "    }\n",
       "\n",
       "    .dataframe tbody tr th {\n",
       "        vertical-align: top;\n",
       "    }\n",
       "\n",
       "    .dataframe thead th {\n",
       "        text-align: right;\n",
       "    }\n",
       "</style>\n",
       "<table border=\"1\" class=\"dataframe\">\n",
       "  <thead>\n",
       "    <tr style=\"text-align: right;\">\n",
       "      <th></th>\n",
       "      <th>name</th>\n",
       "      <th>club</th>\n",
       "      <th>age</th>\n",
       "      <th>position</th>\n",
       "      <th>position_cat</th>\n",
       "      <th>market_value</th>\n",
       "      <th>page_views</th>\n",
       "      <th>fpl_value</th>\n",
       "      <th>fpl_sel</th>\n",
       "      <th>fpl_points</th>\n",
       "      <th>region</th>\n",
       "      <th>nationality</th>\n",
       "      <th>new_foreign</th>\n",
       "      <th>age_cat</th>\n",
       "      <th>club_id</th>\n",
       "      <th>big_club</th>\n",
       "      <th>new_signing</th>\n",
       "    </tr>\n",
       "  </thead>\n",
       "  <tbody>\n",
       "    <tr>\n",
       "      <th>53</th>\n",
       "      <td>Ben Woodburn</td>\n",
       "      <td>Liverpool</td>\n",
       "      <td>17</td>\n",
       "      <td>LW</td>\n",
       "      <td>1</td>\n",
       "      <td>1.50</td>\n",
       "      <td>1241</td>\n",
       "      <td>4.5</td>\n",
       "      <td>0.10%</td>\n",
       "      <td>5</td>\n",
       "      <td>1</td>\n",
       "      <td>Wales</td>\n",
       "      <td>0</td>\n",
       "      <td>1</td>\n",
       "      <td>10</td>\n",
       "      <td>1</td>\n",
       "      <td>0</td>\n",
       "    </tr>\n",
       "    <tr>\n",
       "      <th>217</th>\n",
       "      <td>Jonathan Leko</td>\n",
       "      <td>West+Brom</td>\n",
       "      <td>18</td>\n",
       "      <td>RW</td>\n",
       "      <td>1</td>\n",
       "      <td>1.50</td>\n",
       "      <td>169</td>\n",
       "      <td>4.5</td>\n",
       "      <td>0.20%</td>\n",
       "      <td>12</td>\n",
       "      <td>1</td>\n",
       "      <td>England</td>\n",
       "      <td>0</td>\n",
       "      <td>1</td>\n",
       "      <td>19</td>\n",
       "      <td>0</td>\n",
       "      <td>0</td>\n",
       "    </tr>\n",
       "    <tr>\n",
       "      <th>434</th>\n",
       "      <td>Trent Alexander-Arnold</td>\n",
       "      <td>Liverpool</td>\n",
       "      <td>18</td>\n",
       "      <td>RB</td>\n",
       "      <td>3</td>\n",
       "      <td>1.50</td>\n",
       "      <td>327</td>\n",
       "      <td>4.5</td>\n",
       "      <td>0.30%</td>\n",
       "      <td>15</td>\n",
       "      <td>2</td>\n",
       "      <td>England</td>\n",
       "      <td>0</td>\n",
       "      <td>1</td>\n",
       "      <td>10</td>\n",
       "      <td>1</td>\n",
       "      <td>0</td>\n",
       "    </tr>\n",
       "    <tr>\n",
       "      <th>229</th>\n",
       "      <td>Josh Tymon</td>\n",
       "      <td>Stoke+City</td>\n",
       "      <td>18</td>\n",
       "      <td>LB</td>\n",
       "      <td>3</td>\n",
       "      <td>1.00</td>\n",
       "      <td>120</td>\n",
       "      <td>4.5</td>\n",
       "      <td>0.10%</td>\n",
       "      <td>9</td>\n",
       "      <td>1</td>\n",
       "      <td>England</td>\n",
       "      <td>0</td>\n",
       "      <td>1</td>\n",
       "      <td>15</td>\n",
       "      <td>0</td>\n",
       "      <td>0</td>\n",
       "    </tr>\n",
       "    <tr>\n",
       "      <th>45</th>\n",
       "      <td>Axel Tuanzebe</td>\n",
       "      <td>Manchester+United</td>\n",
       "      <td>19</td>\n",
       "      <td>CB</td>\n",
       "      <td>3</td>\n",
       "      <td>1.00</td>\n",
       "      <td>279</td>\n",
       "      <td>4.0</td>\n",
       "      <td>1.70%</td>\n",
       "      <td>14</td>\n",
       "      <td>1</td>\n",
       "      <td>England</td>\n",
       "      <td>0</td>\n",
       "      <td>1</td>\n",
       "      <td>12</td>\n",
       "      <td>1</td>\n",
       "      <td>0</td>\n",
       "    </tr>\n",
       "    <tr>\n",
       "      <th>...</th>\n",
       "      <td>...</td>\n",
       "      <td>...</td>\n",
       "      <td>...</td>\n",
       "      <td>...</td>\n",
       "      <td>...</td>\n",
       "      <td>...</td>\n",
       "      <td>...</td>\n",
       "      <td>...</td>\n",
       "      <td>...</td>\n",
       "      <td>...</td>\n",
       "      <td>...</td>\n",
       "      <td>...</td>\n",
       "      <td>...</td>\n",
       "      <td>...</td>\n",
       "      <td>...</td>\n",
       "      <td>...</td>\n",
       "      <td>...</td>\n",
       "    </tr>\n",
       "    <tr>\n",
       "      <th>142</th>\n",
       "      <td>Gareth Barry</td>\n",
       "      <td>Everton</td>\n",
       "      <td>36</td>\n",
       "      <td>DM</td>\n",
       "      <td>2</td>\n",
       "      <td>1.50</td>\n",
       "      <td>1331</td>\n",
       "      <td>4.5</td>\n",
       "      <td>1.70%</td>\n",
       "      <td>68</td>\n",
       "      <td>1</td>\n",
       "      <td>England</td>\n",
       "      <td>0</td>\n",
       "      <td>6</td>\n",
       "      <td>7</td>\n",
       "      <td>0</td>\n",
       "      <td>0</td>\n",
       "    </tr>\n",
       "    <tr>\n",
       "      <th>90</th>\n",
       "      <td>Damien Delaney</td>\n",
       "      <td>Crystal+Palace</td>\n",
       "      <td>36</td>\n",
       "      <td>CB</td>\n",
       "      <td>3</td>\n",
       "      <td>1.00</td>\n",
       "      <td>195</td>\n",
       "      <td>4.5</td>\n",
       "      <td>0.60%</td>\n",
       "      <td>51</td>\n",
       "      <td>2</td>\n",
       "      <td>Ireland</td>\n",
       "      <td>0</td>\n",
       "      <td>6</td>\n",
       "      <td>6</td>\n",
       "      <td>0</td>\n",
       "      <td>0</td>\n",
       "    </tr>\n",
       "    <tr>\n",
       "      <th>38</th>\n",
       "      <td>Artur Boruc</td>\n",
       "      <td>Bournemouth</td>\n",
       "      <td>37</td>\n",
       "      <td>GK</td>\n",
       "      <td>4</td>\n",
       "      <td>1.00</td>\n",
       "      <td>436</td>\n",
       "      <td>4.5</td>\n",
       "      <td>6.90%</td>\n",
       "      <td>120</td>\n",
       "      <td>2</td>\n",
       "      <td>Poland</td>\n",
       "      <td>0</td>\n",
       "      <td>6</td>\n",
       "      <td>2</td>\n",
       "      <td>0</td>\n",
       "      <td>0</td>\n",
       "    </tr>\n",
       "    <tr>\n",
       "      <th>143</th>\n",
       "      <td>Gareth McAuley</td>\n",
       "      <td>West+Brom</td>\n",
       "      <td>37</td>\n",
       "      <td>CB</td>\n",
       "      <td>3</td>\n",
       "      <td>1.00</td>\n",
       "      <td>458</td>\n",
       "      <td>5.0</td>\n",
       "      <td>11.80%</td>\n",
       "      <td>131</td>\n",
       "      <td>2</td>\n",
       "      <td>Northern Ireland</td>\n",
       "      <td>0</td>\n",
       "      <td>6</td>\n",
       "      <td>19</td>\n",
       "      <td>0</td>\n",
       "      <td>0</td>\n",
       "    </tr>\n",
       "    <tr>\n",
       "      <th>232</th>\n",
       "      <td>Julian Speroni</td>\n",
       "      <td>Crystal+Palace</td>\n",
       "      <td>38</td>\n",
       "      <td>GK</td>\n",
       "      <td>4</td>\n",
       "      <td>0.25</td>\n",
       "      <td>188</td>\n",
       "      <td>4.0</td>\n",
       "      <td>2.00%</td>\n",
       "      <td>0</td>\n",
       "      <td>3</td>\n",
       "      <td>Argentina</td>\n",
       "      <td>0</td>\n",
       "      <td>6</td>\n",
       "      <td>6</td>\n",
       "      <td>0</td>\n",
       "      <td>0</td>\n",
       "    </tr>\n",
       "  </tbody>\n",
       "</table>\n",
       "<p>465 rows × 17 columns</p>\n",
       "</div>"
      ],
      "text/plain": [
       "                       name               club  ...  big_club new_signing\n",
       "53             Ben Woodburn          Liverpool  ...         1           0\n",
       "217           Jonathan Leko          West+Brom  ...         0           0\n",
       "434  Trent Alexander-Arnold          Liverpool  ...         1           0\n",
       "229              Josh Tymon         Stoke+City  ...         0           0\n",
       "45            Axel Tuanzebe  Manchester+United  ...         1           0\n",
       "..                      ...                ...  ...       ...         ...\n",
       "142            Gareth Barry            Everton  ...         0           0\n",
       "90           Damien Delaney     Crystal+Palace  ...         0           0\n",
       "38              Artur Boruc        Bournemouth  ...         0           0\n",
       "143          Gareth McAuley          West+Brom  ...         0           0\n",
       "232          Julian Speroni     Crystal+Palace  ...         0           0\n",
       "\n",
       "[465 rows x 17 columns]"
      ]
     },
     "execution_count": 162,
     "metadata": {
      "tags": []
     },
     "output_type": "execute_result"
    }
   ],
   "source": [
    "players.sort_values(by='age', ascending=True)"
   ]
  },
  {
   "cell_type": "code",
   "execution_count": 0,
   "metadata": {
    "colab": {},
    "colab_type": "code",
    "id": "kDTw1_EdUINw"
   },
   "outputs": [],
   "source": [
    "# idxmin()!"
   ]
  },
  {
   "cell_type": "code",
   "execution_count": 164,
   "metadata": {
    "colab": {
     "base_uri": "https://localhost:8080/",
     "height": 0
    },
    "colab_type": "code",
    "id": "5UC3KWXSUONq",
    "outputId": "c593dcc0-fb22-4e4c-c022-bcba5df82e51"
   },
   "outputs": [
    {
     "data": {
      "text/plain": [
       "name            Ben Woodburn\n",
       "club               Liverpool\n",
       "age                       17\n",
       "position                  LW\n",
       "position_cat               1\n",
       "market_value             1.5\n",
       "page_views              1241\n",
       "fpl_value                4.5\n",
       "fpl_sel                0.10%\n",
       "fpl_points                 5\n",
       "region                     1\n",
       "nationality            Wales\n",
       "new_foreign                0\n",
       "age_cat                    1\n",
       "club_id                   10\n",
       "big_club                   1\n",
       "new_signing                0\n",
       "Name: 53, dtype: object"
      ]
     },
     "execution_count": 164,
     "metadata": {
      "tags": []
     },
     "output_type": "execute_result"
    }
   ],
   "source": [
    "players.iloc[players.age.idxmin()]"
   ]
  },
  {
   "cell_type": "code",
   "execution_count": 0,
   "metadata": {
    "colab": {},
    "colab_type": "code",
    "id": "K1_f9yNxURMe"
   },
   "outputs": [],
   "source": [
    "# 2"
   ]
  },
  {
   "cell_type": "code",
   "execution_count": 0,
   "metadata": {
    "colab": {},
    "colab_type": "code",
    "id": "niL_9Xt1USuh"
   },
   "outputs": [],
   "source": [
    "players.set_index('club').sort_index(inplace=True)"
   ]
  },
  {
   "cell_type": "code",
   "execution_count": 167,
   "metadata": {
    "colab": {
     "base_uri": "https://localhost:8080/",
     "height": 0
    },
    "colab_type": "code",
    "id": "avWJFxkWUaje",
    "outputId": "b952002c-94d2-46c7-8c84-43dc43b26760"
   },
   "outputs": [
    {
     "data": {
      "text/html": [
       "<div>\n",
       "<style scoped>\n",
       "    .dataframe tbody tr th:only-of-type {\n",
       "        vertical-align: middle;\n",
       "    }\n",
       "\n",
       "    .dataframe tbody tr th {\n",
       "        vertical-align: top;\n",
       "    }\n",
       "\n",
       "    .dataframe thead th {\n",
       "        text-align: right;\n",
       "    }\n",
       "</style>\n",
       "<table border=\"1\" class=\"dataframe\">\n",
       "  <thead>\n",
       "    <tr style=\"text-align: right;\">\n",
       "      <th></th>\n",
       "      <th>name</th>\n",
       "      <th>club</th>\n",
       "      <th>age</th>\n",
       "      <th>position</th>\n",
       "      <th>position_cat</th>\n",
       "      <th>market_value</th>\n",
       "      <th>page_views</th>\n",
       "      <th>fpl_value</th>\n",
       "      <th>fpl_sel</th>\n",
       "      <th>fpl_points</th>\n",
       "      <th>region</th>\n",
       "      <th>nationality</th>\n",
       "      <th>new_foreign</th>\n",
       "      <th>age_cat</th>\n",
       "      <th>club_id</th>\n",
       "      <th>big_club</th>\n",
       "      <th>new_signing</th>\n",
       "    </tr>\n",
       "  </thead>\n",
       "  <tbody>\n",
       "    <tr>\n",
       "      <th>0</th>\n",
       "      <td>Aaron Cresswell</td>\n",
       "      <td>West+Ham</td>\n",
       "      <td>27</td>\n",
       "      <td>LB</td>\n",
       "      <td>3</td>\n",
       "      <td>12.0</td>\n",
       "      <td>380</td>\n",
       "      <td>5.0</td>\n",
       "      <td>1.30%</td>\n",
       "      <td>60</td>\n",
       "      <td>1</td>\n",
       "      <td>England</td>\n",
       "      <td>0</td>\n",
       "      <td>3</td>\n",
       "      <td>20</td>\n",
       "      <td>0</td>\n",
       "      <td>0</td>\n",
       "    </tr>\n",
       "    <tr>\n",
       "      <th>1</th>\n",
       "      <td>Aaron Lennon</td>\n",
       "      <td>Everton</td>\n",
       "      <td>30</td>\n",
       "      <td>RW</td>\n",
       "      <td>1</td>\n",
       "      <td>5.0</td>\n",
       "      <td>504</td>\n",
       "      <td>5.5</td>\n",
       "      <td>0.20%</td>\n",
       "      <td>22</td>\n",
       "      <td>1</td>\n",
       "      <td>England</td>\n",
       "      <td>0</td>\n",
       "      <td>4</td>\n",
       "      <td>7</td>\n",
       "      <td>0</td>\n",
       "      <td>0</td>\n",
       "    </tr>\n",
       "    <tr>\n",
       "      <th>2</th>\n",
       "      <td>Aaron Mooy</td>\n",
       "      <td>Huddersfield</td>\n",
       "      <td>26</td>\n",
       "      <td>CM</td>\n",
       "      <td>2</td>\n",
       "      <td>5.0</td>\n",
       "      <td>588</td>\n",
       "      <td>5.5</td>\n",
       "      <td>2.50%</td>\n",
       "      <td>0</td>\n",
       "      <td>4</td>\n",
       "      <td>Australia</td>\n",
       "      <td>0</td>\n",
       "      <td>3</td>\n",
       "      <td>8</td>\n",
       "      <td>0</td>\n",
       "      <td>0</td>\n",
       "    </tr>\n",
       "    <tr>\n",
       "      <th>3</th>\n",
       "      <td>Aaron Ramsey</td>\n",
       "      <td>Arsenal</td>\n",
       "      <td>26</td>\n",
       "      <td>CM</td>\n",
       "      <td>2</td>\n",
       "      <td>35.0</td>\n",
       "      <td>1040</td>\n",
       "      <td>7.0</td>\n",
       "      <td>5.10%</td>\n",
       "      <td>56</td>\n",
       "      <td>1</td>\n",
       "      <td>Wales</td>\n",
       "      <td>0</td>\n",
       "      <td>3</td>\n",
       "      <td>1</td>\n",
       "      <td>1</td>\n",
       "      <td>0</td>\n",
       "    </tr>\n",
       "    <tr>\n",
       "      <th>4</th>\n",
       "      <td>Abdoulaye Doucoure</td>\n",
       "      <td>Watford</td>\n",
       "      <td>24</td>\n",
       "      <td>CM</td>\n",
       "      <td>2</td>\n",
       "      <td>6.0</td>\n",
       "      <td>124</td>\n",
       "      <td>5.0</td>\n",
       "      <td>0.00%</td>\n",
       "      <td>38</td>\n",
       "      <td>2</td>\n",
       "      <td>France</td>\n",
       "      <td>0</td>\n",
       "      <td>2</td>\n",
       "      <td>18</td>\n",
       "      <td>0</td>\n",
       "      <td>0</td>\n",
       "    </tr>\n",
       "  </tbody>\n",
       "</table>\n",
       "</div>"
      ],
      "text/plain": [
       "                 name          club  age  ... club_id  big_club  new_signing\n",
       "0     Aaron Cresswell      West+Ham   27  ...      20         0            0\n",
       "1        Aaron Lennon       Everton   30  ...       7         0            0\n",
       "2          Aaron Mooy  Huddersfield   26  ...       8         0            0\n",
       "3        Aaron Ramsey       Arsenal   26  ...       1         1            0\n",
       "4  Abdoulaye Doucoure       Watford   24  ...      18         0            0\n",
       "\n",
       "[5 rows x 17 columns]"
      ]
     },
     "execution_count": 167,
     "metadata": {
      "tags": []
     },
     "output_type": "execute_result"
    }
   ],
   "source": [
    "players.head()"
   ]
  },
  {
   "cell_type": "code",
   "execution_count": 0,
   "metadata": {
    "colab": {},
    "colab_type": "code",
    "id": "6t2UAiyDUeiG"
   },
   "outputs": [],
   "source": [
    "# 3"
   ]
  },
  {
   "cell_type": "code",
   "execution_count": 169,
   "metadata": {
    "colab": {
     "base_uri": "https://localhost:8080/",
     "height": 0
    },
    "colab_type": "code",
    "id": "4JqUWxVvUii_",
    "outputId": "39a466ec-f08f-4470-d89c-36a36f9582cc"
   },
   "outputs": [
    {
     "data": {
      "text/html": [
       "<div>\n",
       "<style scoped>\n",
       "    .dataframe tbody tr th:only-of-type {\n",
       "        vertical-align: middle;\n",
       "    }\n",
       "\n",
       "    .dataframe tbody tr th {\n",
       "        vertical-align: top;\n",
       "    }\n",
       "\n",
       "    .dataframe thead th {\n",
       "        text-align: right;\n",
       "    }\n",
       "</style>\n",
       "<table border=\"1\" class=\"dataframe\">\n",
       "  <thead>\n",
       "    <tr style=\"text-align: right;\">\n",
       "      <th></th>\n",
       "      <th>name</th>\n",
       "      <th>club</th>\n",
       "      <th>age</th>\n",
       "      <th>position</th>\n",
       "      <th>position_cat</th>\n",
       "      <th>market_value</th>\n",
       "      <th>page_views</th>\n",
       "      <th>fpl_value</th>\n",
       "      <th>fpl_sel</th>\n",
       "      <th>fpl_points</th>\n",
       "      <th>region</th>\n",
       "      <th>nationality</th>\n",
       "      <th>new_foreign</th>\n",
       "      <th>age_cat</th>\n",
       "      <th>club_id</th>\n",
       "      <th>big_club</th>\n",
       "      <th>new_signing</th>\n",
       "    </tr>\n",
       "  </thead>\n",
       "  <tbody>\n",
       "    <tr>\n",
       "      <th>21</th>\n",
       "      <td>Alexis Sanchez</td>\n",
       "      <td>Arsenal</td>\n",
       "      <td>28</td>\n",
       "      <td>LW</td>\n",
       "      <td>1</td>\n",
       "      <td>65.0</td>\n",
       "      <td>4329</td>\n",
       "      <td>12.0</td>\n",
       "      <td>17.10%</td>\n",
       "      <td>264</td>\n",
       "      <td>3</td>\n",
       "      <td>Chile</td>\n",
       "      <td>0</td>\n",
       "      <td>4</td>\n",
       "      <td>1</td>\n",
       "      <td>1</td>\n",
       "      <td>0</td>\n",
       "    </tr>\n",
       "    <tr>\n",
       "      <th>306</th>\n",
       "      <td>Mesut Ozil</td>\n",
       "      <td>Arsenal</td>\n",
       "      <td>28</td>\n",
       "      <td>AM</td>\n",
       "      <td>1</td>\n",
       "      <td>50.0</td>\n",
       "      <td>4395</td>\n",
       "      <td>9.5</td>\n",
       "      <td>5.60%</td>\n",
       "      <td>167</td>\n",
       "      <td>2</td>\n",
       "      <td>Germany</td>\n",
       "      <td>0</td>\n",
       "      <td>4</td>\n",
       "      <td>1</td>\n",
       "      <td>1</td>\n",
       "      <td>0</td>\n",
       "    </tr>\n",
       "    <tr>\n",
       "      <th>20</th>\n",
       "      <td>Alexandre Lacazette</td>\n",
       "      <td>Arsenal</td>\n",
       "      <td>26</td>\n",
       "      <td>CF</td>\n",
       "      <td>1</td>\n",
       "      <td>40.0</td>\n",
       "      <td>1183</td>\n",
       "      <td>10.5</td>\n",
       "      <td>26.50%</td>\n",
       "      <td>0</td>\n",
       "      <td>2</td>\n",
       "      <td>France</td>\n",
       "      <td>1</td>\n",
       "      <td>3</td>\n",
       "      <td>1</td>\n",
       "      <td>1</td>\n",
       "      <td>0</td>\n",
       "    </tr>\n",
       "    <tr>\n",
       "      <th>3</th>\n",
       "      <td>Aaron Ramsey</td>\n",
       "      <td>Arsenal</td>\n",
       "      <td>26</td>\n",
       "      <td>CM</td>\n",
       "      <td>2</td>\n",
       "      <td>35.0</td>\n",
       "      <td>1040</td>\n",
       "      <td>7.0</td>\n",
       "      <td>5.10%</td>\n",
       "      <td>56</td>\n",
       "      <td>1</td>\n",
       "      <td>Wales</td>\n",
       "      <td>0</td>\n",
       "      <td>3</td>\n",
       "      <td>1</td>\n",
       "      <td>1</td>\n",
       "      <td>0</td>\n",
       "    </tr>\n",
       "    <tr>\n",
       "      <th>152</th>\n",
       "      <td>Granit Xhaka</td>\n",
       "      <td>Arsenal</td>\n",
       "      <td>24</td>\n",
       "      <td>DM</td>\n",
       "      <td>2</td>\n",
       "      <td>35.0</td>\n",
       "      <td>1815</td>\n",
       "      <td>5.5</td>\n",
       "      <td>2.00%</td>\n",
       "      <td>85</td>\n",
       "      <td>2</td>\n",
       "      <td>Switzerland</td>\n",
       "      <td>0</td>\n",
       "      <td>2</td>\n",
       "      <td>1</td>\n",
       "      <td>1</td>\n",
       "      <td>0</td>\n",
       "    </tr>\n",
       "    <tr>\n",
       "      <th>...</th>\n",
       "      <td>...</td>\n",
       "      <td>...</td>\n",
       "      <td>...</td>\n",
       "      <td>...</td>\n",
       "      <td>...</td>\n",
       "      <td>...</td>\n",
       "      <td>...</td>\n",
       "      <td>...</td>\n",
       "      <td>...</td>\n",
       "      <td>...</td>\n",
       "      <td>...</td>\n",
       "      <td>...</td>\n",
       "      <td>...</td>\n",
       "      <td>...</td>\n",
       "      <td>...</td>\n",
       "      <td>...</td>\n",
       "      <td>...</td>\n",
       "    </tr>\n",
       "    <tr>\n",
       "      <th>122</th>\n",
       "      <td>Edimilson Fernandes</td>\n",
       "      <td>West+Ham</td>\n",
       "      <td>21</td>\n",
       "      <td>CM</td>\n",
       "      <td>2</td>\n",
       "      <td>5.0</td>\n",
       "      <td>288</td>\n",
       "      <td>4.5</td>\n",
       "      <td>0.40%</td>\n",
       "      <td>38</td>\n",
       "      <td>2</td>\n",
       "      <td>Switzerland</td>\n",
       "      <td>0</td>\n",
       "      <td>1</td>\n",
       "      <td>20</td>\n",
       "      <td>0</td>\n",
       "      <td>1</td>\n",
       "    </tr>\n",
       "    <tr>\n",
       "      <th>384</th>\n",
       "      <td>Sam Byram</td>\n",
       "      <td>West+Ham</td>\n",
       "      <td>23</td>\n",
       "      <td>RB</td>\n",
       "      <td>3</td>\n",
       "      <td>4.5</td>\n",
       "      <td>198</td>\n",
       "      <td>4.5</td>\n",
       "      <td>0.30%</td>\n",
       "      <td>29</td>\n",
       "      <td>1</td>\n",
       "      <td>England</td>\n",
       "      <td>0</td>\n",
       "      <td>2</td>\n",
       "      <td>20</td>\n",
       "      <td>0</td>\n",
       "      <td>0</td>\n",
       "    </tr>\n",
       "    <tr>\n",
       "      <th>99</th>\n",
       "      <td>Darren Randolph</td>\n",
       "      <td>West+Ham</td>\n",
       "      <td>30</td>\n",
       "      <td>GK</td>\n",
       "      <td>4</td>\n",
       "      <td>2.5</td>\n",
       "      <td>459</td>\n",
       "      <td>4.5</td>\n",
       "      <td>0.40%</td>\n",
       "      <td>69</td>\n",
       "      <td>2</td>\n",
       "      <td>Ireland</td>\n",
       "      <td>0</td>\n",
       "      <td>4</td>\n",
       "      <td>20</td>\n",
       "      <td>0</td>\n",
       "      <td>0</td>\n",
       "    </tr>\n",
       "    <tr>\n",
       "      <th>179</th>\n",
       "      <td>James Collins</td>\n",
       "      <td>West+Ham</td>\n",
       "      <td>33</td>\n",
       "      <td>CB</td>\n",
       "      <td>3</td>\n",
       "      <td>2.0</td>\n",
       "      <td>187</td>\n",
       "      <td>4.5</td>\n",
       "      <td>0.90%</td>\n",
       "      <td>69</td>\n",
       "      <td>2</td>\n",
       "      <td>Wales</td>\n",
       "      <td>0</td>\n",
       "      <td>5</td>\n",
       "      <td>20</td>\n",
       "      <td>0</td>\n",
       "      <td>0</td>\n",
       "    </tr>\n",
       "    <tr>\n",
       "      <th>40</th>\n",
       "      <td>Ashley Fletcher</td>\n",
       "      <td>West+Ham</td>\n",
       "      <td>21</td>\n",
       "      <td>CF</td>\n",
       "      <td>1</td>\n",
       "      <td>1.0</td>\n",
       "      <td>412</td>\n",
       "      <td>4.5</td>\n",
       "      <td>5.90%</td>\n",
       "      <td>16</td>\n",
       "      <td>1</td>\n",
       "      <td>England</td>\n",
       "      <td>0</td>\n",
       "      <td>1</td>\n",
       "      <td>20</td>\n",
       "      <td>0</td>\n",
       "      <td>1</td>\n",
       "    </tr>\n",
       "  </tbody>\n",
       "</table>\n",
       "<p>465 rows × 17 columns</p>\n",
       "</div>"
      ],
      "text/plain": [
       "                    name      club  age  ... club_id  big_club  new_signing\n",
       "21        Alexis Sanchez   Arsenal   28  ...       1         1            0\n",
       "306           Mesut Ozil   Arsenal   28  ...       1         1            0\n",
       "20   Alexandre Lacazette   Arsenal   26  ...       1         1            0\n",
       "3           Aaron Ramsey   Arsenal   26  ...       1         1            0\n",
       "152         Granit Xhaka   Arsenal   24  ...       1         1            0\n",
       "..                   ...       ...  ...  ...     ...       ...          ...\n",
       "122  Edimilson Fernandes  West+Ham   21  ...      20         0            1\n",
       "384            Sam Byram  West+Ham   23  ...      20         0            0\n",
       "99       Darren Randolph  West+Ham   30  ...      20         0            0\n",
       "179        James Collins  West+Ham   33  ...      20         0            0\n",
       "40       Ashley Fletcher  West+Ham   21  ...      20         0            1\n",
       "\n",
       "[465 rows x 17 columns]"
      ]
     },
     "execution_count": 169,
     "metadata": {
      "tags": []
     },
     "output_type": "execute_result"
    }
   ],
   "source": [
    "players.sort_values(by=['club', 'market_value'], ascending=[True, False])"
   ]
  },
  {
   "cell_type": "markdown",
   "metadata": {
    "colab_type": "text",
    "id": "ZMbH7JDwU37N"
   },
   "source": [
    "#### Identifying Dupes"
   ]
  },
  {
   "cell_type": "code",
   "execution_count": 170,
   "metadata": {
    "colab": {
     "base_uri": "https://localhost:8080/",
     "height": 0
    },
    "colab_type": "code",
    "id": "mjBP6dsxVTYq",
    "outputId": "f11ee5d5-4cde-4566-a6b8-7aca7375df8a"
   },
   "outputs": [
    {
     "data": {
      "text/html": [
       "<div>\n",
       "<style scoped>\n",
       "    .dataframe tbody tr th:only-of-type {\n",
       "        vertical-align: middle;\n",
       "    }\n",
       "\n",
       "    .dataframe tbody tr th {\n",
       "        vertical-align: top;\n",
       "    }\n",
       "\n",
       "    .dataframe thead th {\n",
       "        text-align: right;\n",
       "    }\n",
       "</style>\n",
       "<table border=\"1\" class=\"dataframe\">\n",
       "  <thead>\n",
       "    <tr style=\"text-align: right;\">\n",
       "      <th></th>\n",
       "      <th>name</th>\n",
       "      <th>club</th>\n",
       "      <th>age</th>\n",
       "      <th>position</th>\n",
       "      <th>position_cat</th>\n",
       "      <th>market_value</th>\n",
       "      <th>page_views</th>\n",
       "      <th>fpl_value</th>\n",
       "      <th>fpl_sel</th>\n",
       "      <th>fpl_points</th>\n",
       "      <th>region</th>\n",
       "      <th>nationality</th>\n",
       "      <th>new_foreign</th>\n",
       "      <th>age_cat</th>\n",
       "      <th>club_id</th>\n",
       "      <th>big_club</th>\n",
       "      <th>new_signing</th>\n",
       "    </tr>\n",
       "  </thead>\n",
       "  <tbody>\n",
       "    <tr>\n",
       "      <th>0</th>\n",
       "      <td>Aaron Cresswell</td>\n",
       "      <td>West+Ham</td>\n",
       "      <td>27</td>\n",
       "      <td>LB</td>\n",
       "      <td>3</td>\n",
       "      <td>12.0</td>\n",
       "      <td>380</td>\n",
       "      <td>5.0</td>\n",
       "      <td>1.30%</td>\n",
       "      <td>60</td>\n",
       "      <td>1</td>\n",
       "      <td>England</td>\n",
       "      <td>0</td>\n",
       "      <td>3</td>\n",
       "      <td>20</td>\n",
       "      <td>0</td>\n",
       "      <td>0</td>\n",
       "    </tr>\n",
       "    <tr>\n",
       "      <th>1</th>\n",
       "      <td>Aaron Lennon</td>\n",
       "      <td>Everton</td>\n",
       "      <td>30</td>\n",
       "      <td>RW</td>\n",
       "      <td>1</td>\n",
       "      <td>5.0</td>\n",
       "      <td>504</td>\n",
       "      <td>5.5</td>\n",
       "      <td>0.20%</td>\n",
       "      <td>22</td>\n",
       "      <td>1</td>\n",
       "      <td>England</td>\n",
       "      <td>0</td>\n",
       "      <td>4</td>\n",
       "      <td>7</td>\n",
       "      <td>0</td>\n",
       "      <td>0</td>\n",
       "    </tr>\n",
       "    <tr>\n",
       "      <th>2</th>\n",
       "      <td>Aaron Mooy</td>\n",
       "      <td>Huddersfield</td>\n",
       "      <td>26</td>\n",
       "      <td>CM</td>\n",
       "      <td>2</td>\n",
       "      <td>5.0</td>\n",
       "      <td>588</td>\n",
       "      <td>5.5</td>\n",
       "      <td>2.50%</td>\n",
       "      <td>0</td>\n",
       "      <td>4</td>\n",
       "      <td>Australia</td>\n",
       "      <td>0</td>\n",
       "      <td>3</td>\n",
       "      <td>8</td>\n",
       "      <td>0</td>\n",
       "      <td>0</td>\n",
       "    </tr>\n",
       "    <tr>\n",
       "      <th>3</th>\n",
       "      <td>Aaron Ramsey</td>\n",
       "      <td>Arsenal</td>\n",
       "      <td>26</td>\n",
       "      <td>CM</td>\n",
       "      <td>2</td>\n",
       "      <td>35.0</td>\n",
       "      <td>1040</td>\n",
       "      <td>7.0</td>\n",
       "      <td>5.10%</td>\n",
       "      <td>56</td>\n",
       "      <td>1</td>\n",
       "      <td>Wales</td>\n",
       "      <td>0</td>\n",
       "      <td>3</td>\n",
       "      <td>1</td>\n",
       "      <td>1</td>\n",
       "      <td>0</td>\n",
       "    </tr>\n",
       "    <tr>\n",
       "      <th>4</th>\n",
       "      <td>Abdoulaye Doucoure</td>\n",
       "      <td>Watford</td>\n",
       "      <td>24</td>\n",
       "      <td>CM</td>\n",
       "      <td>2</td>\n",
       "      <td>6.0</td>\n",
       "      <td>124</td>\n",
       "      <td>5.0</td>\n",
       "      <td>0.00%</td>\n",
       "      <td>38</td>\n",
       "      <td>2</td>\n",
       "      <td>France</td>\n",
       "      <td>0</td>\n",
       "      <td>2</td>\n",
       "      <td>18</td>\n",
       "      <td>0</td>\n",
       "      <td>0</td>\n",
       "    </tr>\n",
       "  </tbody>\n",
       "</table>\n",
       "</div>"
      ],
      "text/plain": [
       "                 name          club  age  ... club_id  big_club  new_signing\n",
       "0     Aaron Cresswell      West+Ham   27  ...      20         0            0\n",
       "1        Aaron Lennon       Everton   30  ...       7         0            0\n",
       "2          Aaron Mooy  Huddersfield   26  ...       8         0            0\n",
       "3        Aaron Ramsey       Arsenal   26  ...       1         1            0\n",
       "4  Abdoulaye Doucoure       Watford   24  ...      18         0            0\n",
       "\n",
       "[5 rows x 17 columns]"
      ]
     },
     "execution_count": 170,
     "metadata": {
      "tags": []
     },
     "output_type": "execute_result"
    }
   ],
   "source": [
    "players.head()"
   ]
  },
  {
   "cell_type": "code",
   "execution_count": 171,
   "metadata": {
    "colab": {
     "base_uri": "https://localhost:8080/",
     "height": 0
    },
    "colab_type": "code",
    "id": "S_gmGOt-jQZp",
    "outputId": "ceb79552-f91c-47c3-b28a-4d9a1d55ebca"
   },
   "outputs": [
    {
     "data": {
      "text/plain": [
       "0      False\n",
       "1      False\n",
       "2      False\n",
       "3      False\n",
       "4      False\n",
       "       ...  \n",
       "460    False\n",
       "461    False\n",
       "462    False\n",
       "463    False\n",
       "464    False\n",
       "Length: 465, dtype: bool"
      ]
     },
     "execution_count": 171,
     "metadata": {
      "tags": []
     },
     "output_type": "execute_result"
    }
   ],
   "source": [
    "players.duplicated()"
   ]
  },
  {
   "cell_type": "code",
   "execution_count": 172,
   "metadata": {
    "colab": {
     "base_uri": "https://localhost:8080/",
     "height": 0
    },
    "colab_type": "code",
    "id": "rZ8GcAudj4h7",
    "outputId": "f031447b-c3be-4da7-eb7f-c6d3274ef724"
   },
   "outputs": [
    {
     "data": {
      "text/html": [
       "<div>\n",
       "<style scoped>\n",
       "    .dataframe tbody tr th:only-of-type {\n",
       "        vertical-align: middle;\n",
       "    }\n",
       "\n",
       "    .dataframe tbody tr th {\n",
       "        vertical-align: top;\n",
       "    }\n",
       "\n",
       "    .dataframe thead th {\n",
       "        text-align: right;\n",
       "    }\n",
       "</style>\n",
       "<table border=\"1\" class=\"dataframe\">\n",
       "  <thead>\n",
       "    <tr style=\"text-align: right;\">\n",
       "      <th></th>\n",
       "      <th>name</th>\n",
       "      <th>club</th>\n",
       "      <th>age</th>\n",
       "      <th>position</th>\n",
       "      <th>position_cat</th>\n",
       "      <th>market_value</th>\n",
       "      <th>page_views</th>\n",
       "      <th>fpl_value</th>\n",
       "      <th>fpl_sel</th>\n",
       "      <th>fpl_points</th>\n",
       "      <th>region</th>\n",
       "      <th>nationality</th>\n",
       "      <th>new_foreign</th>\n",
       "      <th>age_cat</th>\n",
       "      <th>club_id</th>\n",
       "      <th>big_club</th>\n",
       "      <th>new_signing</th>\n",
       "    </tr>\n",
       "  </thead>\n",
       "  <tbody>\n",
       "    <tr>\n",
       "      <th>18</th>\n",
       "      <td>Alex Oxlade-Chamberlain</td>\n",
       "      <td>Arsenal</td>\n",
       "      <td>23</td>\n",
       "      <td>RM</td>\n",
       "      <td>2</td>\n",
       "      <td>22.0</td>\n",
       "      <td>1519</td>\n",
       "      <td>6.0</td>\n",
       "      <td>1.80%</td>\n",
       "      <td>83</td>\n",
       "      <td>1</td>\n",
       "      <td>England</td>\n",
       "      <td>0</td>\n",
       "      <td>2</td>\n",
       "      <td>1</td>\n",
       "      <td>1</td>\n",
       "      <td>0</td>\n",
       "    </tr>\n",
       "    <tr>\n",
       "      <th>19</th>\n",
       "      <td>Alex Oxlade-Chamberlain</td>\n",
       "      <td>Arsenal</td>\n",
       "      <td>23</td>\n",
       "      <td>RM</td>\n",
       "      <td>2</td>\n",
       "      <td>22.0</td>\n",
       "      <td>1519</td>\n",
       "      <td>6.0</td>\n",
       "      <td>1.80%</td>\n",
       "      <td>83</td>\n",
       "      <td>1</td>\n",
       "      <td>England</td>\n",
       "      <td>0</td>\n",
       "      <td>2</td>\n",
       "      <td>1</td>\n",
       "      <td>1</td>\n",
       "      <td>0</td>\n",
       "    </tr>\n",
       "    <tr>\n",
       "      <th>154</th>\n",
       "      <td>Granit Xhaka</td>\n",
       "      <td>Arsenal</td>\n",
       "      <td>24</td>\n",
       "      <td>DM</td>\n",
       "      <td>2</td>\n",
       "      <td>35.0</td>\n",
       "      <td>1815</td>\n",
       "      <td>5.5</td>\n",
       "      <td>2.00%</td>\n",
       "      <td>85</td>\n",
       "      <td>2</td>\n",
       "      <td>Switzerland</td>\n",
       "      <td>0</td>\n",
       "      <td>2</td>\n",
       "      <td>1</td>\n",
       "      <td>1</td>\n",
       "      <td>0</td>\n",
       "    </tr>\n",
       "  </tbody>\n",
       "</table>\n",
       "</div>"
      ],
      "text/plain": [
       "                        name     club  age  ... club_id  big_club  new_signing\n",
       "18   Alex Oxlade-Chamberlain  Arsenal   23  ...       1         1            0\n",
       "19   Alex Oxlade-Chamberlain  Arsenal   23  ...       1         1            0\n",
       "154             Granit Xhaka  Arsenal   24  ...       1         1            0\n",
       "\n",
       "[3 rows x 17 columns]"
      ]
     },
     "execution_count": 172,
     "metadata": {
      "tags": []
     },
     "output_type": "execute_result"
    }
   ],
   "source": [
    "players[players.duplicated()]"
   ]
  },
  {
   "cell_type": "code",
   "execution_count": 0,
   "metadata": {
    "colab": {},
    "colab_type": "code",
    "id": "yCUqK-6ij75T"
   },
   "outputs": [],
   "source": [
    "# the subset param"
   ]
  },
  {
   "cell_type": "code",
   "execution_count": 0,
   "metadata": {
    "colab": {},
    "colab_type": "code",
    "id": "lan11FDykVTv"
   },
   "outputs": [],
   "source": [
    "# unique -> club, age, position, market_value"
   ]
  },
  {
   "cell_type": "code",
   "execution_count": 175,
   "metadata": {
    "colab": {
     "base_uri": "https://localhost:8080/",
     "height": 0
    },
    "colab_type": "code",
    "id": "DodSqUZJkYuk",
    "outputId": "35ce480c-5259-4c39-d85a-f9fedcef3984"
   },
   "outputs": [
    {
     "data": {
      "text/html": [
       "<div>\n",
       "<style scoped>\n",
       "    .dataframe tbody tr th:only-of-type {\n",
       "        vertical-align: middle;\n",
       "    }\n",
       "\n",
       "    .dataframe tbody tr th {\n",
       "        vertical-align: top;\n",
       "    }\n",
       "\n",
       "    .dataframe thead th {\n",
       "        text-align: right;\n",
       "    }\n",
       "</style>\n",
       "<table border=\"1\" class=\"dataframe\">\n",
       "  <thead>\n",
       "    <tr style=\"text-align: right;\">\n",
       "      <th></th>\n",
       "      <th>name</th>\n",
       "      <th>club</th>\n",
       "      <th>age</th>\n",
       "      <th>position</th>\n",
       "      <th>position_cat</th>\n",
       "      <th>market_value</th>\n",
       "      <th>page_views</th>\n",
       "      <th>fpl_value</th>\n",
       "      <th>fpl_sel</th>\n",
       "      <th>fpl_points</th>\n",
       "      <th>region</th>\n",
       "      <th>nationality</th>\n",
       "      <th>new_foreign</th>\n",
       "      <th>age_cat</th>\n",
       "      <th>club_id</th>\n",
       "      <th>big_club</th>\n",
       "      <th>new_signing</th>\n",
       "    </tr>\n",
       "  </thead>\n",
       "  <tbody>\n",
       "    <tr>\n",
       "      <th>18</th>\n",
       "      <td>Alex Oxlade-Chamberlain</td>\n",
       "      <td>Arsenal</td>\n",
       "      <td>23</td>\n",
       "      <td>RM</td>\n",
       "      <td>2</td>\n",
       "      <td>22.0</td>\n",
       "      <td>1519</td>\n",
       "      <td>6.0</td>\n",
       "      <td>1.80%</td>\n",
       "      <td>83</td>\n",
       "      <td>1</td>\n",
       "      <td>England</td>\n",
       "      <td>0</td>\n",
       "      <td>2</td>\n",
       "      <td>1</td>\n",
       "      <td>1</td>\n",
       "      <td>0</td>\n",
       "    </tr>\n",
       "    <tr>\n",
       "      <th>19</th>\n",
       "      <td>Alex Oxlade-Chamberlain</td>\n",
       "      <td>Arsenal</td>\n",
       "      <td>23</td>\n",
       "      <td>RM</td>\n",
       "      <td>2</td>\n",
       "      <td>22.0</td>\n",
       "      <td>1519</td>\n",
       "      <td>6.0</td>\n",
       "      <td>1.80%</td>\n",
       "      <td>83</td>\n",
       "      <td>1</td>\n",
       "      <td>England</td>\n",
       "      <td>0</td>\n",
       "      <td>2</td>\n",
       "      <td>1</td>\n",
       "      <td>1</td>\n",
       "      <td>0</td>\n",
       "    </tr>\n",
       "    <tr>\n",
       "      <th>134</th>\n",
       "      <td>Fernando</td>\n",
       "      <td>Manchester+City</td>\n",
       "      <td>32</td>\n",
       "      <td>DM</td>\n",
       "      <td>2</td>\n",
       "      <td>18.0</td>\n",
       "      <td>338</td>\n",
       "      <td>4.5</td>\n",
       "      <td>0.40%</td>\n",
       "      <td>18</td>\n",
       "      <td>3</td>\n",
       "      <td>Brazil</td>\n",
       "      <td>0</td>\n",
       "      <td>5</td>\n",
       "      <td>11</td>\n",
       "      <td>1</td>\n",
       "      <td>0</td>\n",
       "    </tr>\n",
       "    <tr>\n",
       "      <th>154</th>\n",
       "      <td>Granit Xhaka</td>\n",
       "      <td>Arsenal</td>\n",
       "      <td>24</td>\n",
       "      <td>DM</td>\n",
       "      <td>2</td>\n",
       "      <td>35.0</td>\n",
       "      <td>1815</td>\n",
       "      <td>5.5</td>\n",
       "      <td>2.00%</td>\n",
       "      <td>85</td>\n",
       "      <td>2</td>\n",
       "      <td>Switzerland</td>\n",
       "      <td>0</td>\n",
       "      <td>2</td>\n",
       "      <td>1</td>\n",
       "      <td>1</td>\n",
       "      <td>0</td>\n",
       "    </tr>\n",
       "    <tr>\n",
       "      <th>252</th>\n",
       "      <td>Lascelles</td>\n",
       "      <td>Newcastle+United</td>\n",
       "      <td>27</td>\n",
       "      <td>CB</td>\n",
       "      <td>3</td>\n",
       "      <td>5.0</td>\n",
       "      <td>400</td>\n",
       "      <td>4.5</td>\n",
       "      <td>3.60%</td>\n",
       "      <td>0</td>\n",
       "      <td>1</td>\n",
       "      <td>England</td>\n",
       "      <td>0</td>\n",
       "      <td>3</td>\n",
       "      <td>13</td>\n",
       "      <td>0</td>\n",
       "      <td>0</td>\n",
       "    </tr>\n",
       "    <tr>\n",
       "      <th>281</th>\n",
       "      <td>Marcos Rojo</td>\n",
       "      <td>Manchester+United</td>\n",
       "      <td>27</td>\n",
       "      <td>CB</td>\n",
       "      <td>3</td>\n",
       "      <td>18.0</td>\n",
       "      <td>1063</td>\n",
       "      <td>5.5</td>\n",
       "      <td>0.10%</td>\n",
       "      <td>77</td>\n",
       "      <td>3</td>\n",
       "      <td>Argentina</td>\n",
       "      <td>0</td>\n",
       "      <td>3</td>\n",
       "      <td>12</td>\n",
       "      <td>1</td>\n",
       "      <td>0</td>\n",
       "    </tr>\n",
       "    <tr>\n",
       "      <th>399</th>\n",
       "      <td>Shane Duffy</td>\n",
       "      <td>Brighton+and+Hove</td>\n",
       "      <td>25</td>\n",
       "      <td>CB</td>\n",
       "      <td>3</td>\n",
       "      <td>5.0</td>\n",
       "      <td>243</td>\n",
       "      <td>4.5</td>\n",
       "      <td>0.60%</td>\n",
       "      <td>0</td>\n",
       "      <td>2</td>\n",
       "      <td>Ireland</td>\n",
       "      <td>0</td>\n",
       "      <td>3</td>\n",
       "      <td>3</td>\n",
       "      <td>0</td>\n",
       "      <td>0</td>\n",
       "    </tr>\n",
       "  </tbody>\n",
       "</table>\n",
       "</div>"
      ],
      "text/plain": [
       "                        name               club  ...  big_club new_signing\n",
       "18   Alex Oxlade-Chamberlain            Arsenal  ...         1           0\n",
       "19   Alex Oxlade-Chamberlain            Arsenal  ...         1           0\n",
       "134                 Fernando    Manchester+City  ...         1           0\n",
       "154             Granit Xhaka            Arsenal  ...         1           0\n",
       "252                Lascelles   Newcastle+United  ...         0           0\n",
       "281              Marcos Rojo  Manchester+United  ...         1           0\n",
       "399              Shane Duffy  Brighton+and+Hove  ...         0           0\n",
       "\n",
       "[7 rows x 17 columns]"
      ]
     },
     "execution_count": 175,
     "metadata": {
      "tags": []
     },
     "output_type": "execute_result"
    }
   ],
   "source": [
    "players.loc[players.duplicated(subset=['club', 'age', 'position', 'market_value'])]"
   ]
  },
  {
   "cell_type": "code",
   "execution_count": 176,
   "metadata": {
    "colab": {
     "base_uri": "https://localhost:8080/",
     "height": 0
    },
    "colab_type": "code",
    "id": "jm2DXl4-kilq",
    "outputId": "5f8bc310-3a9d-4d78-aa65-fb4560b02577"
   },
   "outputs": [
    {
     "data": {
      "text/plain": [
       "(7, 17)"
      ]
     },
     "execution_count": 176,
     "metadata": {
      "tags": []
     },
     "output_type": "execute_result"
    }
   ],
   "source": [
    "players.loc[players.duplicated(subset=['club', 'age', 'position', 'market_value'])].shape"
   ]
  },
  {
   "cell_type": "code",
   "execution_count": 0,
   "metadata": {
    "colab": {},
    "colab_type": "code",
    "id": "Ixx3M2mHkrUn"
   },
   "outputs": [],
   "source": [
    "# A - first -> original\n",
    "# A\n",
    "# A - last -> original"
   ]
  },
  {
   "cell_type": "code",
   "execution_count": 178,
   "metadata": {
    "colab": {
     "base_uri": "https://localhost:8080/",
     "height": 0
    },
    "colab_type": "code",
    "id": "469w204Jk6_8",
    "outputId": "e004e426-fc68-4724-8f72-0024c76c55d5"
   },
   "outputs": [
    {
     "data": {
      "text/html": [
       "<div>\n",
       "<style scoped>\n",
       "    .dataframe tbody tr th:only-of-type {\n",
       "        vertical-align: middle;\n",
       "    }\n",
       "\n",
       "    .dataframe tbody tr th {\n",
       "        vertical-align: top;\n",
       "    }\n",
       "\n",
       "    .dataframe thead th {\n",
       "        text-align: right;\n",
       "    }\n",
       "</style>\n",
       "<table border=\"1\" class=\"dataframe\">\n",
       "  <thead>\n",
       "    <tr style=\"text-align: right;\">\n",
       "      <th></th>\n",
       "      <th>name</th>\n",
       "      <th>club</th>\n",
       "      <th>age</th>\n",
       "      <th>position</th>\n",
       "      <th>position_cat</th>\n",
       "      <th>market_value</th>\n",
       "      <th>page_views</th>\n",
       "      <th>fpl_value</th>\n",
       "      <th>fpl_sel</th>\n",
       "      <th>fpl_points</th>\n",
       "      <th>region</th>\n",
       "      <th>nationality</th>\n",
       "      <th>new_foreign</th>\n",
       "      <th>age_cat</th>\n",
       "      <th>club_id</th>\n",
       "      <th>big_club</th>\n",
       "      <th>new_signing</th>\n",
       "    </tr>\n",
       "  </thead>\n",
       "  <tbody>\n",
       "    <tr>\n",
       "      <th>17</th>\n",
       "      <td>Alex Oxlade-Chamberlain</td>\n",
       "      <td>Arsenal</td>\n",
       "      <td>23</td>\n",
       "      <td>RM</td>\n",
       "      <td>2</td>\n",
       "      <td>22.0</td>\n",
       "      <td>1519</td>\n",
       "      <td>6.0</td>\n",
       "      <td>1.80%</td>\n",
       "      <td>83</td>\n",
       "      <td>1</td>\n",
       "      <td>England</td>\n",
       "      <td>0</td>\n",
       "      <td>2</td>\n",
       "      <td>1</td>\n",
       "      <td>1</td>\n",
       "      <td>0</td>\n",
       "    </tr>\n",
       "    <tr>\n",
       "      <th>18</th>\n",
       "      <td>Alex Oxlade-Chamberlain</td>\n",
       "      <td>Arsenal</td>\n",
       "      <td>23</td>\n",
       "      <td>RM</td>\n",
       "      <td>2</td>\n",
       "      <td>22.0</td>\n",
       "      <td>1519</td>\n",
       "      <td>6.0</td>\n",
       "      <td>1.80%</td>\n",
       "      <td>83</td>\n",
       "      <td>1</td>\n",
       "      <td>England</td>\n",
       "      <td>0</td>\n",
       "      <td>2</td>\n",
       "      <td>1</td>\n",
       "      <td>1</td>\n",
       "      <td>0</td>\n",
       "    </tr>\n",
       "    <tr>\n",
       "      <th>72</th>\n",
       "      <td>Chris Smalling</td>\n",
       "      <td>Manchester+United</td>\n",
       "      <td>27</td>\n",
       "      <td>CB</td>\n",
       "      <td>3</td>\n",
       "      <td>18.0</td>\n",
       "      <td>834</td>\n",
       "      <td>5.5</td>\n",
       "      <td>1.30%</td>\n",
       "      <td>52</td>\n",
       "      <td>1</td>\n",
       "      <td>England</td>\n",
       "      <td>0</td>\n",
       "      <td>3</td>\n",
       "      <td>12</td>\n",
       "      <td>1</td>\n",
       "      <td>0</td>\n",
       "    </tr>\n",
       "    <tr>\n",
       "      <th>78</th>\n",
       "      <td>Ciaran Clark</td>\n",
       "      <td>Newcastle+United</td>\n",
       "      <td>27</td>\n",
       "      <td>CB</td>\n",
       "      <td>3</td>\n",
       "      <td>5.0</td>\n",
       "      <td>273</td>\n",
       "      <td>4.5</td>\n",
       "      <td>0.90%</td>\n",
       "      <td>0</td>\n",
       "      <td>2</td>\n",
       "      <td>Ireland</td>\n",
       "      <td>0</td>\n",
       "      <td>3</td>\n",
       "      <td>13</td>\n",
       "      <td>0</td>\n",
       "      <td>0</td>\n",
       "    </tr>\n",
       "    <tr>\n",
       "      <th>133</th>\n",
       "      <td>Fernandinho</td>\n",
       "      <td>Manchester+City</td>\n",
       "      <td>32</td>\n",
       "      <td>DM</td>\n",
       "      <td>2</td>\n",
       "      <td>18.0</td>\n",
       "      <td>595</td>\n",
       "      <td>5.0</td>\n",
       "      <td>0.80%</td>\n",
       "      <td>78</td>\n",
       "      <td>3</td>\n",
       "      <td>Brazil</td>\n",
       "      <td>0</td>\n",
       "      <td>5</td>\n",
       "      <td>11</td>\n",
       "      <td>1</td>\n",
       "      <td>0</td>\n",
       "    </tr>\n",
       "    <tr>\n",
       "      <th>152</th>\n",
       "      <td>Granit Xhaka</td>\n",
       "      <td>Arsenal</td>\n",
       "      <td>24</td>\n",
       "      <td>DM</td>\n",
       "      <td>2</td>\n",
       "      <td>35.0</td>\n",
       "      <td>1815</td>\n",
       "      <td>5.5</td>\n",
       "      <td>2.00%</td>\n",
       "      <td>85</td>\n",
       "      <td>2</td>\n",
       "      <td>Switzerland</td>\n",
       "      <td>0</td>\n",
       "      <td>2</td>\n",
       "      <td>1</td>\n",
       "      <td>1</td>\n",
       "      <td>0</td>\n",
       "    </tr>\n",
       "    <tr>\n",
       "      <th>263</th>\n",
       "      <td>Lewis Dunk</td>\n",
       "      <td>Brighton+and+Hove</td>\n",
       "      <td>25</td>\n",
       "      <td>CB</td>\n",
       "      <td>3</td>\n",
       "      <td>5.0</td>\n",
       "      <td>140</td>\n",
       "      <td>4.5</td>\n",
       "      <td>4.10%</td>\n",
       "      <td>0</td>\n",
       "      <td>1</td>\n",
       "      <td>England</td>\n",
       "      <td>0</td>\n",
       "      <td>3</td>\n",
       "      <td>3</td>\n",
       "      <td>0</td>\n",
       "      <td>0</td>\n",
       "    </tr>\n",
       "  </tbody>\n",
       "</table>\n",
       "</div>"
      ],
      "text/plain": [
       "                        name               club  ...  big_club new_signing\n",
       "17   Alex Oxlade-Chamberlain            Arsenal  ...         1           0\n",
       "18   Alex Oxlade-Chamberlain            Arsenal  ...         1           0\n",
       "72            Chris Smalling  Manchester+United  ...         1           0\n",
       "78              Ciaran Clark   Newcastle+United  ...         0           0\n",
       "133              Fernandinho    Manchester+City  ...         1           0\n",
       "152             Granit Xhaka            Arsenal  ...         1           0\n",
       "263               Lewis Dunk  Brighton+and+Hove  ...         0           0\n",
       "\n",
       "[7 rows x 17 columns]"
      ]
     },
     "execution_count": 178,
     "metadata": {
      "tags": []
     },
     "output_type": "execute_result"
    }
   ],
   "source": [
    "players.loc[players.duplicated(subset=['club', 'age', 'position', 'market_value'], keep='last')]"
   ]
  },
  {
   "cell_type": "code",
   "execution_count": 179,
   "metadata": {
    "colab": {
     "base_uri": "https://localhost:8080/",
     "height": 0
    },
    "colab_type": "code",
    "id": "hKPbJlYAlBIi",
    "outputId": "000eb758-656b-4364-f83a-71eb69505bdc"
   },
   "outputs": [
    {
     "data": {
      "text/plain": [
       "(7, 17)"
      ]
     },
     "execution_count": 179,
     "metadata": {
      "tags": []
     },
     "output_type": "execute_result"
    }
   ],
   "source": [
    "players.loc[players.duplicated(subset=['club', 'age', 'position', 'market_value'], keep='last')].shape"
   ]
  },
  {
   "cell_type": "code",
   "execution_count": 180,
   "metadata": {
    "colab": {
     "base_uri": "https://localhost:8080/",
     "height": 0
    },
    "colab_type": "code",
    "id": "XMKSUuwAlJrl",
    "outputId": "b55851ba-78fc-4b99-ce7c-a81f24eb997c"
   },
   "outputs": [
    {
     "data": {
      "text/html": [
       "<div>\n",
       "<style scoped>\n",
       "    .dataframe tbody tr th:only-of-type {\n",
       "        vertical-align: middle;\n",
       "    }\n",
       "\n",
       "    .dataframe tbody tr th {\n",
       "        vertical-align: top;\n",
       "    }\n",
       "\n",
       "    .dataframe thead th {\n",
       "        text-align: right;\n",
       "    }\n",
       "</style>\n",
       "<table border=\"1\" class=\"dataframe\">\n",
       "  <thead>\n",
       "    <tr style=\"text-align: right;\">\n",
       "      <th></th>\n",
       "      <th>name</th>\n",
       "      <th>club</th>\n",
       "      <th>age</th>\n",
       "      <th>position</th>\n",
       "      <th>position_cat</th>\n",
       "      <th>market_value</th>\n",
       "      <th>page_views</th>\n",
       "      <th>fpl_value</th>\n",
       "      <th>fpl_sel</th>\n",
       "      <th>fpl_points</th>\n",
       "      <th>region</th>\n",
       "      <th>nationality</th>\n",
       "      <th>new_foreign</th>\n",
       "      <th>age_cat</th>\n",
       "      <th>club_id</th>\n",
       "      <th>big_club</th>\n",
       "      <th>new_signing</th>\n",
       "    </tr>\n",
       "  </thead>\n",
       "  <tbody>\n",
       "    <tr>\n",
       "      <th>17</th>\n",
       "      <td>Alex Oxlade-Chamberlain</td>\n",
       "      <td>Arsenal</td>\n",
       "      <td>23</td>\n",
       "      <td>RM</td>\n",
       "      <td>2</td>\n",
       "      <td>22.0</td>\n",
       "      <td>1519</td>\n",
       "      <td>6.0</td>\n",
       "      <td>1.80%</td>\n",
       "      <td>83</td>\n",
       "      <td>1</td>\n",
       "      <td>England</td>\n",
       "      <td>0</td>\n",
       "      <td>2</td>\n",
       "      <td>1</td>\n",
       "      <td>1</td>\n",
       "      <td>0</td>\n",
       "    </tr>\n",
       "    <tr>\n",
       "      <th>18</th>\n",
       "      <td>Alex Oxlade-Chamberlain</td>\n",
       "      <td>Arsenal</td>\n",
       "      <td>23</td>\n",
       "      <td>RM</td>\n",
       "      <td>2</td>\n",
       "      <td>22.0</td>\n",
       "      <td>1519</td>\n",
       "      <td>6.0</td>\n",
       "      <td>1.80%</td>\n",
       "      <td>83</td>\n",
       "      <td>1</td>\n",
       "      <td>England</td>\n",
       "      <td>0</td>\n",
       "      <td>2</td>\n",
       "      <td>1</td>\n",
       "      <td>1</td>\n",
       "      <td>0</td>\n",
       "    </tr>\n",
       "    <tr>\n",
       "      <th>19</th>\n",
       "      <td>Alex Oxlade-Chamberlain</td>\n",
       "      <td>Arsenal</td>\n",
       "      <td>23</td>\n",
       "      <td>RM</td>\n",
       "      <td>2</td>\n",
       "      <td>22.0</td>\n",
       "      <td>1519</td>\n",
       "      <td>6.0</td>\n",
       "      <td>1.80%</td>\n",
       "      <td>83</td>\n",
       "      <td>1</td>\n",
       "      <td>England</td>\n",
       "      <td>0</td>\n",
       "      <td>2</td>\n",
       "      <td>1</td>\n",
       "      <td>1</td>\n",
       "      <td>0</td>\n",
       "    </tr>\n",
       "    <tr>\n",
       "      <th>72</th>\n",
       "      <td>Chris Smalling</td>\n",
       "      <td>Manchester+United</td>\n",
       "      <td>27</td>\n",
       "      <td>CB</td>\n",
       "      <td>3</td>\n",
       "      <td>18.0</td>\n",
       "      <td>834</td>\n",
       "      <td>5.5</td>\n",
       "      <td>1.30%</td>\n",
       "      <td>52</td>\n",
       "      <td>1</td>\n",
       "      <td>England</td>\n",
       "      <td>0</td>\n",
       "      <td>3</td>\n",
       "      <td>12</td>\n",
       "      <td>1</td>\n",
       "      <td>0</td>\n",
       "    </tr>\n",
       "    <tr>\n",
       "      <th>78</th>\n",
       "      <td>Ciaran Clark</td>\n",
       "      <td>Newcastle+United</td>\n",
       "      <td>27</td>\n",
       "      <td>CB</td>\n",
       "      <td>3</td>\n",
       "      <td>5.0</td>\n",
       "      <td>273</td>\n",
       "      <td>4.5</td>\n",
       "      <td>0.90%</td>\n",
       "      <td>0</td>\n",
       "      <td>2</td>\n",
       "      <td>Ireland</td>\n",
       "      <td>0</td>\n",
       "      <td>3</td>\n",
       "      <td>13</td>\n",
       "      <td>0</td>\n",
       "      <td>0</td>\n",
       "    </tr>\n",
       "    <tr>\n",
       "      <th>133</th>\n",
       "      <td>Fernandinho</td>\n",
       "      <td>Manchester+City</td>\n",
       "      <td>32</td>\n",
       "      <td>DM</td>\n",
       "      <td>2</td>\n",
       "      <td>18.0</td>\n",
       "      <td>595</td>\n",
       "      <td>5.0</td>\n",
       "      <td>0.80%</td>\n",
       "      <td>78</td>\n",
       "      <td>3</td>\n",
       "      <td>Brazil</td>\n",
       "      <td>0</td>\n",
       "      <td>5</td>\n",
       "      <td>11</td>\n",
       "      <td>1</td>\n",
       "      <td>0</td>\n",
       "    </tr>\n",
       "    <tr>\n",
       "      <th>134</th>\n",
       "      <td>Fernando</td>\n",
       "      <td>Manchester+City</td>\n",
       "      <td>32</td>\n",
       "      <td>DM</td>\n",
       "      <td>2</td>\n",
       "      <td>18.0</td>\n",
       "      <td>338</td>\n",
       "      <td>4.5</td>\n",
       "      <td>0.40%</td>\n",
       "      <td>18</td>\n",
       "      <td>3</td>\n",
       "      <td>Brazil</td>\n",
       "      <td>0</td>\n",
       "      <td>5</td>\n",
       "      <td>11</td>\n",
       "      <td>1</td>\n",
       "      <td>0</td>\n",
       "    </tr>\n",
       "    <tr>\n",
       "      <th>152</th>\n",
       "      <td>Granit Xhaka</td>\n",
       "      <td>Arsenal</td>\n",
       "      <td>24</td>\n",
       "      <td>DM</td>\n",
       "      <td>2</td>\n",
       "      <td>35.0</td>\n",
       "      <td>1815</td>\n",
       "      <td>5.5</td>\n",
       "      <td>2.00%</td>\n",
       "      <td>85</td>\n",
       "      <td>2</td>\n",
       "      <td>Switzerland</td>\n",
       "      <td>0</td>\n",
       "      <td>2</td>\n",
       "      <td>1</td>\n",
       "      <td>1</td>\n",
       "      <td>0</td>\n",
       "    </tr>\n",
       "    <tr>\n",
       "      <th>154</th>\n",
       "      <td>Granit Xhaka</td>\n",
       "      <td>Arsenal</td>\n",
       "      <td>24</td>\n",
       "      <td>DM</td>\n",
       "      <td>2</td>\n",
       "      <td>35.0</td>\n",
       "      <td>1815</td>\n",
       "      <td>5.5</td>\n",
       "      <td>2.00%</td>\n",
       "      <td>85</td>\n",
       "      <td>2</td>\n",
       "      <td>Switzerland</td>\n",
       "      <td>0</td>\n",
       "      <td>2</td>\n",
       "      <td>1</td>\n",
       "      <td>1</td>\n",
       "      <td>0</td>\n",
       "    </tr>\n",
       "    <tr>\n",
       "      <th>252</th>\n",
       "      <td>Lascelles</td>\n",
       "      <td>Newcastle+United</td>\n",
       "      <td>27</td>\n",
       "      <td>CB</td>\n",
       "      <td>3</td>\n",
       "      <td>5.0</td>\n",
       "      <td>400</td>\n",
       "      <td>4.5</td>\n",
       "      <td>3.60%</td>\n",
       "      <td>0</td>\n",
       "      <td>1</td>\n",
       "      <td>England</td>\n",
       "      <td>0</td>\n",
       "      <td>3</td>\n",
       "      <td>13</td>\n",
       "      <td>0</td>\n",
       "      <td>0</td>\n",
       "    </tr>\n",
       "    <tr>\n",
       "      <th>263</th>\n",
       "      <td>Lewis Dunk</td>\n",
       "      <td>Brighton+and+Hove</td>\n",
       "      <td>25</td>\n",
       "      <td>CB</td>\n",
       "      <td>3</td>\n",
       "      <td>5.0</td>\n",
       "      <td>140</td>\n",
       "      <td>4.5</td>\n",
       "      <td>4.10%</td>\n",
       "      <td>0</td>\n",
       "      <td>1</td>\n",
       "      <td>England</td>\n",
       "      <td>0</td>\n",
       "      <td>3</td>\n",
       "      <td>3</td>\n",
       "      <td>0</td>\n",
       "      <td>0</td>\n",
       "    </tr>\n",
       "    <tr>\n",
       "      <th>281</th>\n",
       "      <td>Marcos Rojo</td>\n",
       "      <td>Manchester+United</td>\n",
       "      <td>27</td>\n",
       "      <td>CB</td>\n",
       "      <td>3</td>\n",
       "      <td>18.0</td>\n",
       "      <td>1063</td>\n",
       "      <td>5.5</td>\n",
       "      <td>0.10%</td>\n",
       "      <td>77</td>\n",
       "      <td>3</td>\n",
       "      <td>Argentina</td>\n",
       "      <td>0</td>\n",
       "      <td>3</td>\n",
       "      <td>12</td>\n",
       "      <td>1</td>\n",
       "      <td>0</td>\n",
       "    </tr>\n",
       "    <tr>\n",
       "      <th>399</th>\n",
       "      <td>Shane Duffy</td>\n",
       "      <td>Brighton+and+Hove</td>\n",
       "      <td>25</td>\n",
       "      <td>CB</td>\n",
       "      <td>3</td>\n",
       "      <td>5.0</td>\n",
       "      <td>243</td>\n",
       "      <td>4.5</td>\n",
       "      <td>0.60%</td>\n",
       "      <td>0</td>\n",
       "      <td>2</td>\n",
       "      <td>Ireland</td>\n",
       "      <td>0</td>\n",
       "      <td>3</td>\n",
       "      <td>3</td>\n",
       "      <td>0</td>\n",
       "      <td>0</td>\n",
       "    </tr>\n",
       "  </tbody>\n",
       "</table>\n",
       "</div>"
      ],
      "text/plain": [
       "                        name               club  ...  big_club new_signing\n",
       "17   Alex Oxlade-Chamberlain            Arsenal  ...         1           0\n",
       "18   Alex Oxlade-Chamberlain            Arsenal  ...         1           0\n",
       "19   Alex Oxlade-Chamberlain            Arsenal  ...         1           0\n",
       "72            Chris Smalling  Manchester+United  ...         1           0\n",
       "78              Ciaran Clark   Newcastle+United  ...         0           0\n",
       "133              Fernandinho    Manchester+City  ...         1           0\n",
       "134                 Fernando    Manchester+City  ...         1           0\n",
       "152             Granit Xhaka            Arsenal  ...         1           0\n",
       "154             Granit Xhaka            Arsenal  ...         1           0\n",
       "252                Lascelles   Newcastle+United  ...         0           0\n",
       "263               Lewis Dunk  Brighton+and+Hove  ...         0           0\n",
       "281              Marcos Rojo  Manchester+United  ...         1           0\n",
       "399              Shane Duffy  Brighton+and+Hove  ...         0           0\n",
       "\n",
       "[13 rows x 17 columns]"
      ]
     },
     "execution_count": 180,
     "metadata": {
      "tags": []
     },
     "output_type": "execute_result"
    }
   ],
   "source": [
    "players.loc[players.duplicated(subset=['club', 'age', 'position', 'market_value'], keep=False)]"
   ]
  },
  {
   "cell_type": "code",
   "execution_count": 181,
   "metadata": {
    "colab": {
     "base_uri": "https://localhost:8080/",
     "height": 0
    },
    "colab_type": "code",
    "id": "i665a_YKlQtx",
    "outputId": "36d7ab28-d458-45fb-c136-70e95b46d241"
   },
   "outputs": [
    {
     "data": {
      "text/plain": [
       "(13, 17)"
      ]
     },
     "execution_count": 181,
     "metadata": {
      "tags": []
     },
     "output_type": "execute_result"
    }
   ],
   "source": [
    "players.loc[players.duplicated(subset=['club', 'age', 'position', 'market_value'], keep=False)].shape"
   ]
  },
  {
   "cell_type": "markdown",
   "metadata": {
    "colab_type": "text",
    "id": "ViiO_59qlUXR"
   },
   "source": [
    "#### Removing Duplicates"
   ]
  },
  {
   "cell_type": "code",
   "execution_count": 182,
   "metadata": {
    "colab": {
     "base_uri": "https://localhost:8080/",
     "height": 0
    },
    "colab_type": "code",
    "id": "TT-T5Xh8usQu",
    "outputId": "518ea024-6290-4f46-f9eb-74a9f9e8dab9"
   },
   "outputs": [
    {
     "data": {
      "text/html": [
       "<div>\n",
       "<style scoped>\n",
       "    .dataframe tbody tr th:only-of-type {\n",
       "        vertical-align: middle;\n",
       "    }\n",
       "\n",
       "    .dataframe tbody tr th {\n",
       "        vertical-align: top;\n",
       "    }\n",
       "\n",
       "    .dataframe thead th {\n",
       "        text-align: right;\n",
       "    }\n",
       "</style>\n",
       "<table border=\"1\" class=\"dataframe\">\n",
       "  <thead>\n",
       "    <tr style=\"text-align: right;\">\n",
       "      <th></th>\n",
       "      <th>name</th>\n",
       "      <th>club</th>\n",
       "      <th>age</th>\n",
       "      <th>position</th>\n",
       "      <th>position_cat</th>\n",
       "      <th>market_value</th>\n",
       "      <th>page_views</th>\n",
       "      <th>fpl_value</th>\n",
       "      <th>fpl_sel</th>\n",
       "      <th>fpl_points</th>\n",
       "      <th>region</th>\n",
       "      <th>nationality</th>\n",
       "      <th>new_foreign</th>\n",
       "      <th>age_cat</th>\n",
       "      <th>club_id</th>\n",
       "      <th>big_club</th>\n",
       "      <th>new_signing</th>\n",
       "    </tr>\n",
       "  </thead>\n",
       "  <tbody>\n",
       "    <tr>\n",
       "      <th>18</th>\n",
       "      <td>Alex Oxlade-Chamberlain</td>\n",
       "      <td>Arsenal</td>\n",
       "      <td>23</td>\n",
       "      <td>RM</td>\n",
       "      <td>2</td>\n",
       "      <td>22.0</td>\n",
       "      <td>1519</td>\n",
       "      <td>6.0</td>\n",
       "      <td>1.80%</td>\n",
       "      <td>83</td>\n",
       "      <td>1</td>\n",
       "      <td>England</td>\n",
       "      <td>0</td>\n",
       "      <td>2</td>\n",
       "      <td>1</td>\n",
       "      <td>1</td>\n",
       "      <td>0</td>\n",
       "    </tr>\n",
       "    <tr>\n",
       "      <th>19</th>\n",
       "      <td>Alex Oxlade-Chamberlain</td>\n",
       "      <td>Arsenal</td>\n",
       "      <td>23</td>\n",
       "      <td>RM</td>\n",
       "      <td>2</td>\n",
       "      <td>22.0</td>\n",
       "      <td>1519</td>\n",
       "      <td>6.0</td>\n",
       "      <td>1.80%</td>\n",
       "      <td>83</td>\n",
       "      <td>1</td>\n",
       "      <td>England</td>\n",
       "      <td>0</td>\n",
       "      <td>2</td>\n",
       "      <td>1</td>\n",
       "      <td>1</td>\n",
       "      <td>0</td>\n",
       "    </tr>\n",
       "    <tr>\n",
       "      <th>154</th>\n",
       "      <td>Granit Xhaka</td>\n",
       "      <td>Arsenal</td>\n",
       "      <td>24</td>\n",
       "      <td>DM</td>\n",
       "      <td>2</td>\n",
       "      <td>35.0</td>\n",
       "      <td>1815</td>\n",
       "      <td>5.5</td>\n",
       "      <td>2.00%</td>\n",
       "      <td>85</td>\n",
       "      <td>2</td>\n",
       "      <td>Switzerland</td>\n",
       "      <td>0</td>\n",
       "      <td>2</td>\n",
       "      <td>1</td>\n",
       "      <td>1</td>\n",
       "      <td>0</td>\n",
       "    </tr>\n",
       "  </tbody>\n",
       "</table>\n",
       "</div>"
      ],
      "text/plain": [
       "                        name     club  age  ... club_id  big_club  new_signing\n",
       "18   Alex Oxlade-Chamberlain  Arsenal   23  ...       1         1            0\n",
       "19   Alex Oxlade-Chamberlain  Arsenal   23  ...       1         1            0\n",
       "154             Granit Xhaka  Arsenal   24  ...       1         1            0\n",
       "\n",
       "[3 rows x 17 columns]"
      ]
     },
     "execution_count": 182,
     "metadata": {
      "tags": []
     },
     "output_type": "execute_result"
    }
   ],
   "source": [
    "players[players.duplicated(subset=None, keep='first')]"
   ]
  },
  {
   "cell_type": "code",
   "execution_count": 183,
   "metadata": {
    "colab": {
     "base_uri": "https://localhost:8080/",
     "height": 0
    },
    "colab_type": "code",
    "id": "VJBxtizQw45p",
    "outputId": "f898594f-f096-4d5f-ca11-5baadc50e4e9"
   },
   "outputs": [
    {
     "data": {
      "text/plain": [
       "11.125649350649349"
      ]
     },
     "execution_count": 183,
     "metadata": {
      "tags": []
     },
     "output_type": "execute_result"
    }
   ],
   "source": [
    "players.market_value.mean()"
   ]
  },
  {
   "cell_type": "code",
   "execution_count": 184,
   "metadata": {
    "colab": {
     "base_uri": "https://localhost:8080/",
     "height": 0
    },
    "colab_type": "code",
    "id": "23CMApk-xFjh",
    "outputId": "0725c1a6-a936-413e-9b5b-125b6fb2a0d6"
   },
   "outputs": [
    {
     "data": {
      "text/plain": [
       "11.026252723311545"
      ]
     },
     "execution_count": 184,
     "metadata": {
      "tags": []
     },
     "output_type": "execute_result"
    }
   ],
   "source": [
    "players.drop_duplicates(keep='first').market_value.mean()"
   ]
  },
  {
   "cell_type": "code",
   "execution_count": 0,
   "metadata": {
    "colab": {},
    "colab_type": "code",
    "id": "4N_IJOlfxi_i"
   },
   "outputs": [],
   "source": [
    "# duplicates are not necessarily bad!"
   ]
  },
  {
   "cell_type": "markdown",
   "metadata": {
    "colab_type": "text",
    "id": "4xbp33eOyPrL"
   },
   "source": [
    "#### Removing DataFrame Rows"
   ]
  },
  {
   "cell_type": "code",
   "execution_count": 186,
   "metadata": {
    "colab": {
     "base_uri": "https://localhost:8080/",
     "height": 0
    },
    "colab_type": "code",
    "id": "VL5696qmytRN",
    "outputId": "74fa9a72-e498-47df-cdfa-7af2427c02f0"
   },
   "outputs": [
    {
     "data": {
      "text/html": [
       "<div>\n",
       "<style scoped>\n",
       "    .dataframe tbody tr th:only-of-type {\n",
       "        vertical-align: middle;\n",
       "    }\n",
       "\n",
       "    .dataframe tbody tr th {\n",
       "        vertical-align: top;\n",
       "    }\n",
       "\n",
       "    .dataframe thead th {\n",
       "        text-align: right;\n",
       "    }\n",
       "</style>\n",
       "<table border=\"1\" class=\"dataframe\">\n",
       "  <thead>\n",
       "    <tr style=\"text-align: right;\">\n",
       "      <th></th>\n",
       "      <th>name</th>\n",
       "      <th>club</th>\n",
       "      <th>age</th>\n",
       "      <th>position</th>\n",
       "      <th>position_cat</th>\n",
       "      <th>market_value</th>\n",
       "      <th>page_views</th>\n",
       "      <th>fpl_value</th>\n",
       "      <th>fpl_sel</th>\n",
       "      <th>fpl_points</th>\n",
       "      <th>region</th>\n",
       "      <th>nationality</th>\n",
       "      <th>new_foreign</th>\n",
       "      <th>age_cat</th>\n",
       "      <th>club_id</th>\n",
       "      <th>big_club</th>\n",
       "      <th>new_signing</th>\n",
       "    </tr>\n",
       "  </thead>\n",
       "  <tbody>\n",
       "    <tr>\n",
       "      <th>18</th>\n",
       "      <td>Alex Oxlade-Chamberlain</td>\n",
       "      <td>Arsenal</td>\n",
       "      <td>23</td>\n",
       "      <td>RM</td>\n",
       "      <td>2</td>\n",
       "      <td>22.0</td>\n",
       "      <td>1519</td>\n",
       "      <td>6.0</td>\n",
       "      <td>1.80%</td>\n",
       "      <td>83</td>\n",
       "      <td>1</td>\n",
       "      <td>England</td>\n",
       "      <td>0</td>\n",
       "      <td>2</td>\n",
       "      <td>1</td>\n",
       "      <td>1</td>\n",
       "      <td>0</td>\n",
       "    </tr>\n",
       "    <tr>\n",
       "      <th>19</th>\n",
       "      <td>Alex Oxlade-Chamberlain</td>\n",
       "      <td>Arsenal</td>\n",
       "      <td>23</td>\n",
       "      <td>RM</td>\n",
       "      <td>2</td>\n",
       "      <td>22.0</td>\n",
       "      <td>1519</td>\n",
       "      <td>6.0</td>\n",
       "      <td>1.80%</td>\n",
       "      <td>83</td>\n",
       "      <td>1</td>\n",
       "      <td>England</td>\n",
       "      <td>0</td>\n",
       "      <td>2</td>\n",
       "      <td>1</td>\n",
       "      <td>1</td>\n",
       "      <td>0</td>\n",
       "    </tr>\n",
       "    <tr>\n",
       "      <th>154</th>\n",
       "      <td>Granit Xhaka</td>\n",
       "      <td>Arsenal</td>\n",
       "      <td>24</td>\n",
       "      <td>DM</td>\n",
       "      <td>2</td>\n",
       "      <td>35.0</td>\n",
       "      <td>1815</td>\n",
       "      <td>5.5</td>\n",
       "      <td>2.00%</td>\n",
       "      <td>85</td>\n",
       "      <td>2</td>\n",
       "      <td>Switzerland</td>\n",
       "      <td>0</td>\n",
       "      <td>2</td>\n",
       "      <td>1</td>\n",
       "      <td>1</td>\n",
       "      <td>0</td>\n",
       "    </tr>\n",
       "  </tbody>\n",
       "</table>\n",
       "</div>"
      ],
      "text/plain": [
       "                        name     club  age  ... club_id  big_club  new_signing\n",
       "18   Alex Oxlade-Chamberlain  Arsenal   23  ...       1         1            0\n",
       "19   Alex Oxlade-Chamberlain  Arsenal   23  ...       1         1            0\n",
       "154             Granit Xhaka  Arsenal   24  ...       1         1            0\n",
       "\n",
       "[3 rows x 17 columns]"
      ]
     },
     "execution_count": 186,
     "metadata": {
      "tags": []
     },
     "output_type": "execute_result"
    }
   ],
   "source": [
    "players[players.duplicated()]"
   ]
  },
  {
   "cell_type": "code",
   "execution_count": 187,
   "metadata": {
    "colab": {
     "base_uri": "https://localhost:8080/",
     "height": 0
    },
    "colab_type": "code",
    "id": "qjPc5gsHkYMt",
    "outputId": "eaacdbf0-4e0b-45f5-b561-d19cb0feb401"
   },
   "outputs": [
    {
     "data": {
      "text/html": [
       "<div>\n",
       "<style scoped>\n",
       "    .dataframe tbody tr th:only-of-type {\n",
       "        vertical-align: middle;\n",
       "    }\n",
       "\n",
       "    .dataframe tbody tr th {\n",
       "        vertical-align: top;\n",
       "    }\n",
       "\n",
       "    .dataframe thead th {\n",
       "        text-align: right;\n",
       "    }\n",
       "</style>\n",
       "<table border=\"1\" class=\"dataframe\">\n",
       "  <thead>\n",
       "    <tr style=\"text-align: right;\">\n",
       "      <th></th>\n",
       "      <th>name</th>\n",
       "      <th>club</th>\n",
       "      <th>age</th>\n",
       "      <th>position</th>\n",
       "      <th>position_cat</th>\n",
       "      <th>market_value</th>\n",
       "      <th>page_views</th>\n",
       "      <th>fpl_value</th>\n",
       "      <th>fpl_sel</th>\n",
       "      <th>fpl_points</th>\n",
       "      <th>region</th>\n",
       "      <th>nationality</th>\n",
       "      <th>new_foreign</th>\n",
       "      <th>age_cat</th>\n",
       "      <th>club_id</th>\n",
       "      <th>big_club</th>\n",
       "      <th>new_signing</th>\n",
       "    </tr>\n",
       "  </thead>\n",
       "  <tbody>\n",
       "    <tr>\n",
       "      <th>0</th>\n",
       "      <td>Aaron Cresswell</td>\n",
       "      <td>West+Ham</td>\n",
       "      <td>27</td>\n",
       "      <td>LB</td>\n",
       "      <td>3</td>\n",
       "      <td>12.0</td>\n",
       "      <td>380</td>\n",
       "      <td>5.0</td>\n",
       "      <td>1.30%</td>\n",
       "      <td>60</td>\n",
       "      <td>1</td>\n",
       "      <td>England</td>\n",
       "      <td>0</td>\n",
       "      <td>3</td>\n",
       "      <td>20</td>\n",
       "      <td>0</td>\n",
       "      <td>0</td>\n",
       "    </tr>\n",
       "    <tr>\n",
       "      <th>1</th>\n",
       "      <td>Aaron Lennon</td>\n",
       "      <td>Everton</td>\n",
       "      <td>30</td>\n",
       "      <td>RW</td>\n",
       "      <td>1</td>\n",
       "      <td>5.0</td>\n",
       "      <td>504</td>\n",
       "      <td>5.5</td>\n",
       "      <td>0.20%</td>\n",
       "      <td>22</td>\n",
       "      <td>1</td>\n",
       "      <td>England</td>\n",
       "      <td>0</td>\n",
       "      <td>4</td>\n",
       "      <td>7</td>\n",
       "      <td>0</td>\n",
       "      <td>0</td>\n",
       "    </tr>\n",
       "    <tr>\n",
       "      <th>2</th>\n",
       "      <td>Aaron Mooy</td>\n",
       "      <td>Huddersfield</td>\n",
       "      <td>26</td>\n",
       "      <td>CM</td>\n",
       "      <td>2</td>\n",
       "      <td>5.0</td>\n",
       "      <td>588</td>\n",
       "      <td>5.5</td>\n",
       "      <td>2.50%</td>\n",
       "      <td>0</td>\n",
       "      <td>4</td>\n",
       "      <td>Australia</td>\n",
       "      <td>0</td>\n",
       "      <td>3</td>\n",
       "      <td>8</td>\n",
       "      <td>0</td>\n",
       "      <td>0</td>\n",
       "    </tr>\n",
       "    <tr>\n",
       "      <th>3</th>\n",
       "      <td>Aaron Ramsey</td>\n",
       "      <td>Arsenal</td>\n",
       "      <td>26</td>\n",
       "      <td>CM</td>\n",
       "      <td>2</td>\n",
       "      <td>35.0</td>\n",
       "      <td>1040</td>\n",
       "      <td>7.0</td>\n",
       "      <td>5.10%</td>\n",
       "      <td>56</td>\n",
       "      <td>1</td>\n",
       "      <td>Wales</td>\n",
       "      <td>0</td>\n",
       "      <td>3</td>\n",
       "      <td>1</td>\n",
       "      <td>1</td>\n",
       "      <td>0</td>\n",
       "    </tr>\n",
       "    <tr>\n",
       "      <th>4</th>\n",
       "      <td>Abdoulaye Doucoure</td>\n",
       "      <td>Watford</td>\n",
       "      <td>24</td>\n",
       "      <td>CM</td>\n",
       "      <td>2</td>\n",
       "      <td>6.0</td>\n",
       "      <td>124</td>\n",
       "      <td>5.0</td>\n",
       "      <td>0.00%</td>\n",
       "      <td>38</td>\n",
       "      <td>2</td>\n",
       "      <td>France</td>\n",
       "      <td>0</td>\n",
       "      <td>2</td>\n",
       "      <td>18</td>\n",
       "      <td>0</td>\n",
       "      <td>0</td>\n",
       "    </tr>\n",
       "    <tr>\n",
       "      <th>...</th>\n",
       "      <td>...</td>\n",
       "      <td>...</td>\n",
       "      <td>...</td>\n",
       "      <td>...</td>\n",
       "      <td>...</td>\n",
       "      <td>...</td>\n",
       "      <td>...</td>\n",
       "      <td>...</td>\n",
       "      <td>...</td>\n",
       "      <td>...</td>\n",
       "      <td>...</td>\n",
       "      <td>...</td>\n",
       "      <td>...</td>\n",
       "      <td>...</td>\n",
       "      <td>...</td>\n",
       "      <td>...</td>\n",
       "      <td>...</td>\n",
       "    </tr>\n",
       "    <tr>\n",
       "      <th>460</th>\n",
       "      <td>Yohan Cabaye</td>\n",
       "      <td>Crystal+Palace</td>\n",
       "      <td>31</td>\n",
       "      <td>CM</td>\n",
       "      <td>2</td>\n",
       "      <td>15.0</td>\n",
       "      <td>456</td>\n",
       "      <td>5.5</td>\n",
       "      <td>1.40%</td>\n",
       "      <td>91</td>\n",
       "      <td>2</td>\n",
       "      <td>France</td>\n",
       "      <td>0</td>\n",
       "      <td>4</td>\n",
       "      <td>6</td>\n",
       "      <td>0</td>\n",
       "      <td>0</td>\n",
       "    </tr>\n",
       "    <tr>\n",
       "      <th>461</th>\n",
       "      <td>YounÃ¨s Kaboul</td>\n",
       "      <td>Watford</td>\n",
       "      <td>31</td>\n",
       "      <td>CB</td>\n",
       "      <td>3</td>\n",
       "      <td>2.5</td>\n",
       "      <td>263</td>\n",
       "      <td>4.5</td>\n",
       "      <td>0.10%</td>\n",
       "      <td>57</td>\n",
       "      <td>2</td>\n",
       "      <td>France</td>\n",
       "      <td>0</td>\n",
       "      <td>4</td>\n",
       "      <td>18</td>\n",
       "      <td>0</td>\n",
       "      <td>1</td>\n",
       "    </tr>\n",
       "    <tr>\n",
       "      <th>462</th>\n",
       "      <td>Ã‰tienne Capoue</td>\n",
       "      <td>Watford</td>\n",
       "      <td>29</td>\n",
       "      <td>DM</td>\n",
       "      <td>2</td>\n",
       "      <td>9.0</td>\n",
       "      <td>412</td>\n",
       "      <td>5.5</td>\n",
       "      <td>8.00%</td>\n",
       "      <td>131</td>\n",
       "      <td>2</td>\n",
       "      <td>France</td>\n",
       "      <td>0</td>\n",
       "      <td>4</td>\n",
       "      <td>18</td>\n",
       "      <td>0</td>\n",
       "      <td>0</td>\n",
       "    </tr>\n",
       "    <tr>\n",
       "      <th>463</th>\n",
       "      <td>Ã€ngel Rangel</td>\n",
       "      <td>Swansea</td>\n",
       "      <td>34</td>\n",
       "      <td>RB</td>\n",
       "      <td>3</td>\n",
       "      <td>1.0</td>\n",
       "      <td>137</td>\n",
       "      <td>4.0</td>\n",
       "      <td>18.80%</td>\n",
       "      <td>26</td>\n",
       "      <td>2</td>\n",
       "      <td>Spain</td>\n",
       "      <td>0</td>\n",
       "      <td>6</td>\n",
       "      <td>16</td>\n",
       "      <td>0</td>\n",
       "      <td>0</td>\n",
       "    </tr>\n",
       "    <tr>\n",
       "      <th>464</th>\n",
       "      <td>Åukasz FabiaÅ„ski</td>\n",
       "      <td>Swansea</td>\n",
       "      <td>32</td>\n",
       "      <td>GK</td>\n",
       "      <td>4</td>\n",
       "      <td>9.0</td>\n",
       "      <td>285</td>\n",
       "      <td>4.5</td>\n",
       "      <td>6.20%</td>\n",
       "      <td>116</td>\n",
       "      <td>2</td>\n",
       "      <td>Poland</td>\n",
       "      <td>0</td>\n",
       "      <td>5</td>\n",
       "      <td>16</td>\n",
       "      <td>0</td>\n",
       "      <td>0</td>\n",
       "    </tr>\n",
       "  </tbody>\n",
       "</table>\n",
       "<p>464 rows × 17 columns</p>\n",
       "</div>"
      ],
      "text/plain": [
       "                   name            club  age  ... club_id  big_club  new_signing\n",
       "0       Aaron Cresswell        West+Ham   27  ...      20         0            0\n",
       "1          Aaron Lennon         Everton   30  ...       7         0            0\n",
       "2            Aaron Mooy    Huddersfield   26  ...       8         0            0\n",
       "3          Aaron Ramsey         Arsenal   26  ...       1         1            0\n",
       "4    Abdoulaye Doucoure         Watford   24  ...      18         0            0\n",
       "..                  ...             ...  ...  ...     ...       ...          ...\n",
       "460        Yohan Cabaye  Crystal+Palace   31  ...       6         0            0\n",
       "461      YounÃ¨s Kaboul         Watford   31  ...      18         0            1\n",
       "462     Ã‰tienne Capoue         Watford   29  ...      18         0            0\n",
       "463       Ã€ngel Rangel         Swansea   34  ...      16         0            0\n",
       "464  Åukasz FabiaÅ„ski         Swansea   32  ...      16         0            0\n",
       "\n",
       "[464 rows x 17 columns]"
      ]
     },
     "execution_count": 187,
     "metadata": {
      "tags": []
     },
     "output_type": "execute_result"
    }
   ],
   "source": [
    "players.drop(labels=19, axis=0)"
   ]
  },
  {
   "cell_type": "code",
   "execution_count": 188,
   "metadata": {
    "colab": {
     "base_uri": "https://localhost:8080/",
     "height": 0
    },
    "colab_type": "code",
    "id": "ubrrPvaLkych",
    "outputId": "3839d48b-cb02-46d4-9c91-c669b13c3dc5"
   },
   "outputs": [
    {
     "data": {
      "text/html": [
       "<div>\n",
       "<style scoped>\n",
       "    .dataframe tbody tr th:only-of-type {\n",
       "        vertical-align: middle;\n",
       "    }\n",
       "\n",
       "    .dataframe tbody tr th {\n",
       "        vertical-align: top;\n",
       "    }\n",
       "\n",
       "    .dataframe thead th {\n",
       "        text-align: right;\n",
       "    }\n",
       "</style>\n",
       "<table border=\"1\" class=\"dataframe\">\n",
       "  <thead>\n",
       "    <tr style=\"text-align: right;\">\n",
       "      <th></th>\n",
       "      <th>name</th>\n",
       "      <th>club</th>\n",
       "      <th>age</th>\n",
       "      <th>position</th>\n",
       "      <th>position_cat</th>\n",
       "      <th>market_value</th>\n",
       "      <th>page_views</th>\n",
       "      <th>fpl_value</th>\n",
       "      <th>fpl_sel</th>\n",
       "      <th>fpl_points</th>\n",
       "      <th>region</th>\n",
       "      <th>nationality</th>\n",
       "      <th>new_foreign</th>\n",
       "      <th>age_cat</th>\n",
       "      <th>club_id</th>\n",
       "      <th>big_club</th>\n",
       "      <th>new_signing</th>\n",
       "    </tr>\n",
       "  </thead>\n",
       "  <tbody>\n",
       "    <tr>\n",
       "      <th>0</th>\n",
       "      <td>Aaron Cresswell</td>\n",
       "      <td>West+Ham</td>\n",
       "      <td>27</td>\n",
       "      <td>LB</td>\n",
       "      <td>3</td>\n",
       "      <td>12.0</td>\n",
       "      <td>380</td>\n",
       "      <td>5.0</td>\n",
       "      <td>1.30%</td>\n",
       "      <td>60</td>\n",
       "      <td>1</td>\n",
       "      <td>England</td>\n",
       "      <td>0</td>\n",
       "      <td>3</td>\n",
       "      <td>20</td>\n",
       "      <td>0</td>\n",
       "      <td>0</td>\n",
       "    </tr>\n",
       "    <tr>\n",
       "      <th>1</th>\n",
       "      <td>Aaron Lennon</td>\n",
       "      <td>Everton</td>\n",
       "      <td>30</td>\n",
       "      <td>RW</td>\n",
       "      <td>1</td>\n",
       "      <td>5.0</td>\n",
       "      <td>504</td>\n",
       "      <td>5.5</td>\n",
       "      <td>0.20%</td>\n",
       "      <td>22</td>\n",
       "      <td>1</td>\n",
       "      <td>England</td>\n",
       "      <td>0</td>\n",
       "      <td>4</td>\n",
       "      <td>7</td>\n",
       "      <td>0</td>\n",
       "      <td>0</td>\n",
       "    </tr>\n",
       "    <tr>\n",
       "      <th>2</th>\n",
       "      <td>Aaron Mooy</td>\n",
       "      <td>Huddersfield</td>\n",
       "      <td>26</td>\n",
       "      <td>CM</td>\n",
       "      <td>2</td>\n",
       "      <td>5.0</td>\n",
       "      <td>588</td>\n",
       "      <td>5.5</td>\n",
       "      <td>2.50%</td>\n",
       "      <td>0</td>\n",
       "      <td>4</td>\n",
       "      <td>Australia</td>\n",
       "      <td>0</td>\n",
       "      <td>3</td>\n",
       "      <td>8</td>\n",
       "      <td>0</td>\n",
       "      <td>0</td>\n",
       "    </tr>\n",
       "    <tr>\n",
       "      <th>3</th>\n",
       "      <td>Aaron Ramsey</td>\n",
       "      <td>Arsenal</td>\n",
       "      <td>26</td>\n",
       "      <td>CM</td>\n",
       "      <td>2</td>\n",
       "      <td>35.0</td>\n",
       "      <td>1040</td>\n",
       "      <td>7.0</td>\n",
       "      <td>5.10%</td>\n",
       "      <td>56</td>\n",
       "      <td>1</td>\n",
       "      <td>Wales</td>\n",
       "      <td>0</td>\n",
       "      <td>3</td>\n",
       "      <td>1</td>\n",
       "      <td>1</td>\n",
       "      <td>0</td>\n",
       "    </tr>\n",
       "    <tr>\n",
       "      <th>4</th>\n",
       "      <td>Abdoulaye Doucoure</td>\n",
       "      <td>Watford</td>\n",
       "      <td>24</td>\n",
       "      <td>CM</td>\n",
       "      <td>2</td>\n",
       "      <td>6.0</td>\n",
       "      <td>124</td>\n",
       "      <td>5.0</td>\n",
       "      <td>0.00%</td>\n",
       "      <td>38</td>\n",
       "      <td>2</td>\n",
       "      <td>France</td>\n",
       "      <td>0</td>\n",
       "      <td>2</td>\n",
       "      <td>18</td>\n",
       "      <td>0</td>\n",
       "      <td>0</td>\n",
       "    </tr>\n",
       "    <tr>\n",
       "      <th>...</th>\n",
       "      <td>...</td>\n",
       "      <td>...</td>\n",
       "      <td>...</td>\n",
       "      <td>...</td>\n",
       "      <td>...</td>\n",
       "      <td>...</td>\n",
       "      <td>...</td>\n",
       "      <td>...</td>\n",
       "      <td>...</td>\n",
       "      <td>...</td>\n",
       "      <td>...</td>\n",
       "      <td>...</td>\n",
       "      <td>...</td>\n",
       "      <td>...</td>\n",
       "      <td>...</td>\n",
       "      <td>...</td>\n",
       "      <td>...</td>\n",
       "    </tr>\n",
       "    <tr>\n",
       "      <th>460</th>\n",
       "      <td>Yohan Cabaye</td>\n",
       "      <td>Crystal+Palace</td>\n",
       "      <td>31</td>\n",
       "      <td>CM</td>\n",
       "      <td>2</td>\n",
       "      <td>15.0</td>\n",
       "      <td>456</td>\n",
       "      <td>5.5</td>\n",
       "      <td>1.40%</td>\n",
       "      <td>91</td>\n",
       "      <td>2</td>\n",
       "      <td>France</td>\n",
       "      <td>0</td>\n",
       "      <td>4</td>\n",
       "      <td>6</td>\n",
       "      <td>0</td>\n",
       "      <td>0</td>\n",
       "    </tr>\n",
       "    <tr>\n",
       "      <th>461</th>\n",
       "      <td>YounÃ¨s Kaboul</td>\n",
       "      <td>Watford</td>\n",
       "      <td>31</td>\n",
       "      <td>CB</td>\n",
       "      <td>3</td>\n",
       "      <td>2.5</td>\n",
       "      <td>263</td>\n",
       "      <td>4.5</td>\n",
       "      <td>0.10%</td>\n",
       "      <td>57</td>\n",
       "      <td>2</td>\n",
       "      <td>France</td>\n",
       "      <td>0</td>\n",
       "      <td>4</td>\n",
       "      <td>18</td>\n",
       "      <td>0</td>\n",
       "      <td>1</td>\n",
       "    </tr>\n",
       "    <tr>\n",
       "      <th>462</th>\n",
       "      <td>Ã‰tienne Capoue</td>\n",
       "      <td>Watford</td>\n",
       "      <td>29</td>\n",
       "      <td>DM</td>\n",
       "      <td>2</td>\n",
       "      <td>9.0</td>\n",
       "      <td>412</td>\n",
       "      <td>5.5</td>\n",
       "      <td>8.00%</td>\n",
       "      <td>131</td>\n",
       "      <td>2</td>\n",
       "      <td>France</td>\n",
       "      <td>0</td>\n",
       "      <td>4</td>\n",
       "      <td>18</td>\n",
       "      <td>0</td>\n",
       "      <td>0</td>\n",
       "    </tr>\n",
       "    <tr>\n",
       "      <th>463</th>\n",
       "      <td>Ã€ngel Rangel</td>\n",
       "      <td>Swansea</td>\n",
       "      <td>34</td>\n",
       "      <td>RB</td>\n",
       "      <td>3</td>\n",
       "      <td>1.0</td>\n",
       "      <td>137</td>\n",
       "      <td>4.0</td>\n",
       "      <td>18.80%</td>\n",
       "      <td>26</td>\n",
       "      <td>2</td>\n",
       "      <td>Spain</td>\n",
       "      <td>0</td>\n",
       "      <td>6</td>\n",
       "      <td>16</td>\n",
       "      <td>0</td>\n",
       "      <td>0</td>\n",
       "    </tr>\n",
       "    <tr>\n",
       "      <th>464</th>\n",
       "      <td>Åukasz FabiaÅ„ski</td>\n",
       "      <td>Swansea</td>\n",
       "      <td>32</td>\n",
       "      <td>GK</td>\n",
       "      <td>4</td>\n",
       "      <td>9.0</td>\n",
       "      <td>285</td>\n",
       "      <td>4.5</td>\n",
       "      <td>6.20%</td>\n",
       "      <td>116</td>\n",
       "      <td>2</td>\n",
       "      <td>Poland</td>\n",
       "      <td>0</td>\n",
       "      <td>5</td>\n",
       "      <td>16</td>\n",
       "      <td>0</td>\n",
       "      <td>0</td>\n",
       "    </tr>\n",
       "  </tbody>\n",
       "</table>\n",
       "<p>464 rows × 17 columns</p>\n",
       "</div>"
      ],
      "text/plain": [
       "                   name            club  age  ... club_id  big_club  new_signing\n",
       "0       Aaron Cresswell        West+Ham   27  ...      20         0            0\n",
       "1          Aaron Lennon         Everton   30  ...       7         0            0\n",
       "2            Aaron Mooy    Huddersfield   26  ...       8         0            0\n",
       "3          Aaron Ramsey         Arsenal   26  ...       1         1            0\n",
       "4    Abdoulaye Doucoure         Watford   24  ...      18         0            0\n",
       "..                  ...             ...  ...  ...     ...       ...          ...\n",
       "460        Yohan Cabaye  Crystal+Palace   31  ...       6         0            0\n",
       "461      YounÃ¨s Kaboul         Watford   31  ...      18         0            1\n",
       "462     Ã‰tienne Capoue         Watford   29  ...      18         0            0\n",
       "463       Ã€ngel Rangel         Swansea   34  ...      16         0            0\n",
       "464  Åukasz FabiaÅ„ski         Swansea   32  ...      16         0            0\n",
       "\n",
       "[464 rows x 17 columns]"
      ]
     },
     "execution_count": 188,
     "metadata": {
      "tags": []
     },
     "output_type": "execute_result"
    }
   ],
   "source": [
    "players.drop(index=19)"
   ]
  },
  {
   "cell_type": "code",
   "execution_count": 189,
   "metadata": {
    "colab": {
     "base_uri": "https://localhost:8080/",
     "height": 0
    },
    "colab_type": "code",
    "id": "IU-HWBgyk6F1",
    "outputId": "78898eb9-88d7-4d81-f649-808bc1effa80"
   },
   "outputs": [
    {
     "data": {
      "text/html": [
       "<div>\n",
       "<style scoped>\n",
       "    .dataframe tbody tr th:only-of-type {\n",
       "        vertical-align: middle;\n",
       "    }\n",
       "\n",
       "    .dataframe tbody tr th {\n",
       "        vertical-align: top;\n",
       "    }\n",
       "\n",
       "    .dataframe thead th {\n",
       "        text-align: right;\n",
       "    }\n",
       "</style>\n",
       "<table border=\"1\" class=\"dataframe\">\n",
       "  <thead>\n",
       "    <tr style=\"text-align: right;\">\n",
       "      <th></th>\n",
       "      <th>name</th>\n",
       "      <th>club</th>\n",
       "      <th>age</th>\n",
       "      <th>position</th>\n",
       "      <th>position_cat</th>\n",
       "      <th>market_value</th>\n",
       "      <th>page_views</th>\n",
       "      <th>fpl_value</th>\n",
       "      <th>fpl_sel</th>\n",
       "      <th>fpl_points</th>\n",
       "      <th>region</th>\n",
       "      <th>nationality</th>\n",
       "      <th>new_foreign</th>\n",
       "      <th>age_cat</th>\n",
       "      <th>club_id</th>\n",
       "      <th>big_club</th>\n",
       "      <th>new_signing</th>\n",
       "    </tr>\n",
       "  </thead>\n",
       "  <tbody>\n",
       "    <tr>\n",
       "      <th>0</th>\n",
       "      <td>Aaron Cresswell</td>\n",
       "      <td>West+Ham</td>\n",
       "      <td>27</td>\n",
       "      <td>LB</td>\n",
       "      <td>3</td>\n",
       "      <td>12.0</td>\n",
       "      <td>380</td>\n",
       "      <td>5.0</td>\n",
       "      <td>1.30%</td>\n",
       "      <td>60</td>\n",
       "      <td>1</td>\n",
       "      <td>England</td>\n",
       "      <td>0</td>\n",
       "      <td>3</td>\n",
       "      <td>20</td>\n",
       "      <td>0</td>\n",
       "      <td>0</td>\n",
       "    </tr>\n",
       "    <tr>\n",
       "      <th>1</th>\n",
       "      <td>Aaron Lennon</td>\n",
       "      <td>Everton</td>\n",
       "      <td>30</td>\n",
       "      <td>RW</td>\n",
       "      <td>1</td>\n",
       "      <td>5.0</td>\n",
       "      <td>504</td>\n",
       "      <td>5.5</td>\n",
       "      <td>0.20%</td>\n",
       "      <td>22</td>\n",
       "      <td>1</td>\n",
       "      <td>England</td>\n",
       "      <td>0</td>\n",
       "      <td>4</td>\n",
       "      <td>7</td>\n",
       "      <td>0</td>\n",
       "      <td>0</td>\n",
       "    </tr>\n",
       "    <tr>\n",
       "      <th>2</th>\n",
       "      <td>Aaron Mooy</td>\n",
       "      <td>Huddersfield</td>\n",
       "      <td>26</td>\n",
       "      <td>CM</td>\n",
       "      <td>2</td>\n",
       "      <td>5.0</td>\n",
       "      <td>588</td>\n",
       "      <td>5.5</td>\n",
       "      <td>2.50%</td>\n",
       "      <td>0</td>\n",
       "      <td>4</td>\n",
       "      <td>Australia</td>\n",
       "      <td>0</td>\n",
       "      <td>3</td>\n",
       "      <td>8</td>\n",
       "      <td>0</td>\n",
       "      <td>0</td>\n",
       "    </tr>\n",
       "    <tr>\n",
       "      <th>3</th>\n",
       "      <td>Aaron Ramsey</td>\n",
       "      <td>Arsenal</td>\n",
       "      <td>26</td>\n",
       "      <td>CM</td>\n",
       "      <td>2</td>\n",
       "      <td>35.0</td>\n",
       "      <td>1040</td>\n",
       "      <td>7.0</td>\n",
       "      <td>5.10%</td>\n",
       "      <td>56</td>\n",
       "      <td>1</td>\n",
       "      <td>Wales</td>\n",
       "      <td>0</td>\n",
       "      <td>3</td>\n",
       "      <td>1</td>\n",
       "      <td>1</td>\n",
       "      <td>0</td>\n",
       "    </tr>\n",
       "    <tr>\n",
       "      <th>4</th>\n",
       "      <td>Abdoulaye Doucoure</td>\n",
       "      <td>Watford</td>\n",
       "      <td>24</td>\n",
       "      <td>CM</td>\n",
       "      <td>2</td>\n",
       "      <td>6.0</td>\n",
       "      <td>124</td>\n",
       "      <td>5.0</td>\n",
       "      <td>0.00%</td>\n",
       "      <td>38</td>\n",
       "      <td>2</td>\n",
       "      <td>France</td>\n",
       "      <td>0</td>\n",
       "      <td>2</td>\n",
       "      <td>18</td>\n",
       "      <td>0</td>\n",
       "      <td>0</td>\n",
       "    </tr>\n",
       "    <tr>\n",
       "      <th>...</th>\n",
       "      <td>...</td>\n",
       "      <td>...</td>\n",
       "      <td>...</td>\n",
       "      <td>...</td>\n",
       "      <td>...</td>\n",
       "      <td>...</td>\n",
       "      <td>...</td>\n",
       "      <td>...</td>\n",
       "      <td>...</td>\n",
       "      <td>...</td>\n",
       "      <td>...</td>\n",
       "      <td>...</td>\n",
       "      <td>...</td>\n",
       "      <td>...</td>\n",
       "      <td>...</td>\n",
       "      <td>...</td>\n",
       "      <td>...</td>\n",
       "    </tr>\n",
       "    <tr>\n",
       "      <th>460</th>\n",
       "      <td>Yohan Cabaye</td>\n",
       "      <td>Crystal+Palace</td>\n",
       "      <td>31</td>\n",
       "      <td>CM</td>\n",
       "      <td>2</td>\n",
       "      <td>15.0</td>\n",
       "      <td>456</td>\n",
       "      <td>5.5</td>\n",
       "      <td>1.40%</td>\n",
       "      <td>91</td>\n",
       "      <td>2</td>\n",
       "      <td>France</td>\n",
       "      <td>0</td>\n",
       "      <td>4</td>\n",
       "      <td>6</td>\n",
       "      <td>0</td>\n",
       "      <td>0</td>\n",
       "    </tr>\n",
       "    <tr>\n",
       "      <th>461</th>\n",
       "      <td>YounÃ¨s Kaboul</td>\n",
       "      <td>Watford</td>\n",
       "      <td>31</td>\n",
       "      <td>CB</td>\n",
       "      <td>3</td>\n",
       "      <td>2.5</td>\n",
       "      <td>263</td>\n",
       "      <td>4.5</td>\n",
       "      <td>0.10%</td>\n",
       "      <td>57</td>\n",
       "      <td>2</td>\n",
       "      <td>France</td>\n",
       "      <td>0</td>\n",
       "      <td>4</td>\n",
       "      <td>18</td>\n",
       "      <td>0</td>\n",
       "      <td>1</td>\n",
       "    </tr>\n",
       "    <tr>\n",
       "      <th>462</th>\n",
       "      <td>Ã‰tienne Capoue</td>\n",
       "      <td>Watford</td>\n",
       "      <td>29</td>\n",
       "      <td>DM</td>\n",
       "      <td>2</td>\n",
       "      <td>9.0</td>\n",
       "      <td>412</td>\n",
       "      <td>5.5</td>\n",
       "      <td>8.00%</td>\n",
       "      <td>131</td>\n",
       "      <td>2</td>\n",
       "      <td>France</td>\n",
       "      <td>0</td>\n",
       "      <td>4</td>\n",
       "      <td>18</td>\n",
       "      <td>0</td>\n",
       "      <td>0</td>\n",
       "    </tr>\n",
       "    <tr>\n",
       "      <th>463</th>\n",
       "      <td>Ã€ngel Rangel</td>\n",
       "      <td>Swansea</td>\n",
       "      <td>34</td>\n",
       "      <td>RB</td>\n",
       "      <td>3</td>\n",
       "      <td>1.0</td>\n",
       "      <td>137</td>\n",
       "      <td>4.0</td>\n",
       "      <td>18.80%</td>\n",
       "      <td>26</td>\n",
       "      <td>2</td>\n",
       "      <td>Spain</td>\n",
       "      <td>0</td>\n",
       "      <td>6</td>\n",
       "      <td>16</td>\n",
       "      <td>0</td>\n",
       "      <td>0</td>\n",
       "    </tr>\n",
       "    <tr>\n",
       "      <th>464</th>\n",
       "      <td>Åukasz FabiaÅ„ski</td>\n",
       "      <td>Swansea</td>\n",
       "      <td>32</td>\n",
       "      <td>GK</td>\n",
       "      <td>4</td>\n",
       "      <td>9.0</td>\n",
       "      <td>285</td>\n",
       "      <td>4.5</td>\n",
       "      <td>6.20%</td>\n",
       "      <td>116</td>\n",
       "      <td>2</td>\n",
       "      <td>Poland</td>\n",
       "      <td>0</td>\n",
       "      <td>5</td>\n",
       "      <td>16</td>\n",
       "      <td>0</td>\n",
       "      <td>0</td>\n",
       "    </tr>\n",
       "  </tbody>\n",
       "</table>\n",
       "<p>460 rows × 17 columns</p>\n",
       "</div>"
      ],
      "text/plain": [
       "                   name            club  age  ... club_id  big_club  new_signing\n",
       "0       Aaron Cresswell        West+Ham   27  ...      20         0            0\n",
       "1          Aaron Lennon         Everton   30  ...       7         0            0\n",
       "2            Aaron Mooy    Huddersfield   26  ...       8         0            0\n",
       "3          Aaron Ramsey         Arsenal   26  ...       1         1            0\n",
       "4    Abdoulaye Doucoure         Watford   24  ...      18         0            0\n",
       "..                  ...             ...  ...  ...     ...       ...          ...\n",
       "460        Yohan Cabaye  Crystal+Palace   31  ...       6         0            0\n",
       "461      YounÃ¨s Kaboul         Watford   31  ...      18         0            1\n",
       "462     Ã‰tienne Capoue         Watford   29  ...      18         0            0\n",
       "463       Ã€ngel Rangel         Swansea   34  ...      16         0            0\n",
       "464  Åukasz FabiaÅ„ski         Swansea   32  ...      16         0            0\n",
       "\n",
       "[460 rows x 17 columns]"
      ]
     },
     "execution_count": 189,
     "metadata": {
      "tags": []
     },
     "output_type": "execute_result"
    }
   ],
   "source": [
    "players.drop(index=[19, 20, 21, 231, 10])"
   ]
  },
  {
   "cell_type": "code",
   "execution_count": 190,
   "metadata": {
    "colab": {
     "base_uri": "https://localhost:8080/",
     "height": 0
    },
    "colab_type": "code",
    "id": "N7PIuvJKlIYp",
    "outputId": "2caa9124-71b4-4202-b335-c22a57d765ba"
   },
   "outputs": [
    {
     "data": {
      "text/plain": [
       "(465, 17)"
      ]
     },
     "execution_count": 190,
     "metadata": {
      "tags": []
     },
     "output_type": "execute_result"
    }
   ],
   "source": [
    "players.shape"
   ]
  },
  {
   "cell_type": "markdown",
   "metadata": {
    "colab_type": "text",
    "id": "z6cafdW2lKqa"
   },
   "source": [
    "#### BONUS - Removing Columns"
   ]
  },
  {
   "cell_type": "code",
   "execution_count": 0,
   "metadata": {
    "colab": {},
    "colab_type": "code",
    "id": "uzFRkbkMmjQE"
   },
   "outputs": [],
   "source": [
    "# \"remove rows\" -> df.drop(labels=[19, 20], axis=0) or df.drop(index=[19, 20])"
   ]
  },
  {
   "cell_type": "code",
   "execution_count": 0,
   "metadata": {
    "colab": {},
    "colab_type": "code",
    "id": "GxSHEyN2m0mn"
   },
   "outputs": [],
   "source": [
    "# \"remove columns\" -> ???"
   ]
  },
  {
   "cell_type": "code",
   "execution_count": 193,
   "metadata": {
    "colab": {
     "base_uri": "https://localhost:8080/",
     "height": 0
    },
    "colab_type": "code",
    "id": "636q-ym3m4o9",
    "outputId": "8aa4912f-a776-4c9b-fcd2-1af1e5b4e07e"
   },
   "outputs": [
    {
     "data": {
      "text/html": [
       "<div>\n",
       "<style scoped>\n",
       "    .dataframe tbody tr th:only-of-type {\n",
       "        vertical-align: middle;\n",
       "    }\n",
       "\n",
       "    .dataframe tbody tr th {\n",
       "        vertical-align: top;\n",
       "    }\n",
       "\n",
       "    .dataframe thead th {\n",
       "        text-align: right;\n",
       "    }\n",
       "</style>\n",
       "<table border=\"1\" class=\"dataframe\">\n",
       "  <thead>\n",
       "    <tr style=\"text-align: right;\">\n",
       "      <th></th>\n",
       "      <th>name</th>\n",
       "      <th>club</th>\n",
       "      <th>position</th>\n",
       "      <th>position_cat</th>\n",
       "      <th>page_views</th>\n",
       "      <th>fpl_value</th>\n",
       "      <th>fpl_sel</th>\n",
       "      <th>fpl_points</th>\n",
       "      <th>region</th>\n",
       "      <th>nationality</th>\n",
       "      <th>new_foreign</th>\n",
       "      <th>age_cat</th>\n",
       "      <th>club_id</th>\n",
       "      <th>big_club</th>\n",
       "      <th>new_signing</th>\n",
       "    </tr>\n",
       "  </thead>\n",
       "  <tbody>\n",
       "    <tr>\n",
       "      <th>0</th>\n",
       "      <td>Aaron Cresswell</td>\n",
       "      <td>West+Ham</td>\n",
       "      <td>LB</td>\n",
       "      <td>3</td>\n",
       "      <td>380</td>\n",
       "      <td>5.0</td>\n",
       "      <td>1.30%</td>\n",
       "      <td>60</td>\n",
       "      <td>1</td>\n",
       "      <td>England</td>\n",
       "      <td>0</td>\n",
       "      <td>3</td>\n",
       "      <td>20</td>\n",
       "      <td>0</td>\n",
       "      <td>0</td>\n",
       "    </tr>\n",
       "    <tr>\n",
       "      <th>1</th>\n",
       "      <td>Aaron Lennon</td>\n",
       "      <td>Everton</td>\n",
       "      <td>RW</td>\n",
       "      <td>1</td>\n",
       "      <td>504</td>\n",
       "      <td>5.5</td>\n",
       "      <td>0.20%</td>\n",
       "      <td>22</td>\n",
       "      <td>1</td>\n",
       "      <td>England</td>\n",
       "      <td>0</td>\n",
       "      <td>4</td>\n",
       "      <td>7</td>\n",
       "      <td>0</td>\n",
       "      <td>0</td>\n",
       "    </tr>\n",
       "    <tr>\n",
       "      <th>2</th>\n",
       "      <td>Aaron Mooy</td>\n",
       "      <td>Huddersfield</td>\n",
       "      <td>CM</td>\n",
       "      <td>2</td>\n",
       "      <td>588</td>\n",
       "      <td>5.5</td>\n",
       "      <td>2.50%</td>\n",
       "      <td>0</td>\n",
       "      <td>4</td>\n",
       "      <td>Australia</td>\n",
       "      <td>0</td>\n",
       "      <td>3</td>\n",
       "      <td>8</td>\n",
       "      <td>0</td>\n",
       "      <td>0</td>\n",
       "    </tr>\n",
       "    <tr>\n",
       "      <th>3</th>\n",
       "      <td>Aaron Ramsey</td>\n",
       "      <td>Arsenal</td>\n",
       "      <td>CM</td>\n",
       "      <td>2</td>\n",
       "      <td>1040</td>\n",
       "      <td>7.0</td>\n",
       "      <td>5.10%</td>\n",
       "      <td>56</td>\n",
       "      <td>1</td>\n",
       "      <td>Wales</td>\n",
       "      <td>0</td>\n",
       "      <td>3</td>\n",
       "      <td>1</td>\n",
       "      <td>1</td>\n",
       "      <td>0</td>\n",
       "    </tr>\n",
       "    <tr>\n",
       "      <th>4</th>\n",
       "      <td>Abdoulaye Doucoure</td>\n",
       "      <td>Watford</td>\n",
       "      <td>CM</td>\n",
       "      <td>2</td>\n",
       "      <td>124</td>\n",
       "      <td>5.0</td>\n",
       "      <td>0.00%</td>\n",
       "      <td>38</td>\n",
       "      <td>2</td>\n",
       "      <td>France</td>\n",
       "      <td>0</td>\n",
       "      <td>2</td>\n",
       "      <td>18</td>\n",
       "      <td>0</td>\n",
       "      <td>0</td>\n",
       "    </tr>\n",
       "    <tr>\n",
       "      <th>...</th>\n",
       "      <td>...</td>\n",
       "      <td>...</td>\n",
       "      <td>...</td>\n",
       "      <td>...</td>\n",
       "      <td>...</td>\n",
       "      <td>...</td>\n",
       "      <td>...</td>\n",
       "      <td>...</td>\n",
       "      <td>...</td>\n",
       "      <td>...</td>\n",
       "      <td>...</td>\n",
       "      <td>...</td>\n",
       "      <td>...</td>\n",
       "      <td>...</td>\n",
       "      <td>...</td>\n",
       "    </tr>\n",
       "    <tr>\n",
       "      <th>460</th>\n",
       "      <td>Yohan Cabaye</td>\n",
       "      <td>Crystal+Palace</td>\n",
       "      <td>CM</td>\n",
       "      <td>2</td>\n",
       "      <td>456</td>\n",
       "      <td>5.5</td>\n",
       "      <td>1.40%</td>\n",
       "      <td>91</td>\n",
       "      <td>2</td>\n",
       "      <td>France</td>\n",
       "      <td>0</td>\n",
       "      <td>4</td>\n",
       "      <td>6</td>\n",
       "      <td>0</td>\n",
       "      <td>0</td>\n",
       "    </tr>\n",
       "    <tr>\n",
       "      <th>461</th>\n",
       "      <td>YounÃ¨s Kaboul</td>\n",
       "      <td>Watford</td>\n",
       "      <td>CB</td>\n",
       "      <td>3</td>\n",
       "      <td>263</td>\n",
       "      <td>4.5</td>\n",
       "      <td>0.10%</td>\n",
       "      <td>57</td>\n",
       "      <td>2</td>\n",
       "      <td>France</td>\n",
       "      <td>0</td>\n",
       "      <td>4</td>\n",
       "      <td>18</td>\n",
       "      <td>0</td>\n",
       "      <td>1</td>\n",
       "    </tr>\n",
       "    <tr>\n",
       "      <th>462</th>\n",
       "      <td>Ã‰tienne Capoue</td>\n",
       "      <td>Watford</td>\n",
       "      <td>DM</td>\n",
       "      <td>2</td>\n",
       "      <td>412</td>\n",
       "      <td>5.5</td>\n",
       "      <td>8.00%</td>\n",
       "      <td>131</td>\n",
       "      <td>2</td>\n",
       "      <td>France</td>\n",
       "      <td>0</td>\n",
       "      <td>4</td>\n",
       "      <td>18</td>\n",
       "      <td>0</td>\n",
       "      <td>0</td>\n",
       "    </tr>\n",
       "    <tr>\n",
       "      <th>463</th>\n",
       "      <td>Ã€ngel Rangel</td>\n",
       "      <td>Swansea</td>\n",
       "      <td>RB</td>\n",
       "      <td>3</td>\n",
       "      <td>137</td>\n",
       "      <td>4.0</td>\n",
       "      <td>18.80%</td>\n",
       "      <td>26</td>\n",
       "      <td>2</td>\n",
       "      <td>Spain</td>\n",
       "      <td>0</td>\n",
       "      <td>6</td>\n",
       "      <td>16</td>\n",
       "      <td>0</td>\n",
       "      <td>0</td>\n",
       "    </tr>\n",
       "    <tr>\n",
       "      <th>464</th>\n",
       "      <td>Åukasz FabiaÅ„ski</td>\n",
       "      <td>Swansea</td>\n",
       "      <td>GK</td>\n",
       "      <td>4</td>\n",
       "      <td>285</td>\n",
       "      <td>4.5</td>\n",
       "      <td>6.20%</td>\n",
       "      <td>116</td>\n",
       "      <td>2</td>\n",
       "      <td>Poland</td>\n",
       "      <td>0</td>\n",
       "      <td>5</td>\n",
       "      <td>16</td>\n",
       "      <td>0</td>\n",
       "      <td>0</td>\n",
       "    </tr>\n",
       "  </tbody>\n",
       "</table>\n",
       "<p>465 rows × 15 columns</p>\n",
       "</div>"
      ],
      "text/plain": [
       "                   name            club  ... big_club  new_signing\n",
       "0       Aaron Cresswell        West+Ham  ...        0            0\n",
       "1          Aaron Lennon         Everton  ...        0            0\n",
       "2            Aaron Mooy    Huddersfield  ...        0            0\n",
       "3          Aaron Ramsey         Arsenal  ...        1            0\n",
       "4    Abdoulaye Doucoure         Watford  ...        0            0\n",
       "..                  ...             ...  ...      ...          ...\n",
       "460        Yohan Cabaye  Crystal+Palace  ...        0            0\n",
       "461      YounÃ¨s Kaboul         Watford  ...        0            1\n",
       "462     Ã‰tienne Capoue         Watford  ...        0            0\n",
       "463       Ã€ngel Rangel         Swansea  ...        0            0\n",
       "464  Åukasz FabiaÅ„ski         Swansea  ...        0            0\n",
       "\n",
       "[465 rows x 15 columns]"
      ]
     },
     "execution_count": 193,
     "metadata": {
      "tags": []
     },
     "output_type": "execute_result"
    }
   ],
   "source": [
    "players.drop(labels=['age', 'market_value'], axis='columns')"
   ]
  },
  {
   "cell_type": "code",
   "execution_count": 194,
   "metadata": {
    "colab": {
     "base_uri": "https://localhost:8080/",
     "height": 0
    },
    "colab_type": "code",
    "id": "nY73vO7roVju",
    "outputId": "b1d5f179-f62a-47e7-ddd2-f9163a075b9f"
   },
   "outputs": [
    {
     "data": {
      "text/plain": [
       "Index(['name', 'club', 'age', 'position', 'position_cat', 'market_value',\n",
       "       'page_views', 'fpl_value', 'fpl_sel', 'fpl_points', 'region',\n",
       "       'nationality', 'new_foreign', 'age_cat', 'club_id', 'big_club',\n",
       "       'new_signing'],\n",
       "      dtype='object')"
      ]
     },
     "execution_count": 194,
     "metadata": {
      "tags": []
     },
     "output_type": "execute_result"
    }
   ],
   "source": [
    "players.columns"
   ]
  },
  {
   "cell_type": "code",
   "execution_count": 195,
   "metadata": {
    "colab": {
     "base_uri": "https://localhost:8080/",
     "height": 0
    },
    "colab_type": "code",
    "id": "xbvo7io-oYYq",
    "outputId": "907db5e5-7f2e-492c-e8f5-ed3b08a4e803"
   },
   "outputs": [
    {
     "data": {
      "text/html": [
       "<div>\n",
       "<style scoped>\n",
       "    .dataframe tbody tr th:only-of-type {\n",
       "        vertical-align: middle;\n",
       "    }\n",
       "\n",
       "    .dataframe tbody tr th {\n",
       "        vertical-align: top;\n",
       "    }\n",
       "\n",
       "    .dataframe thead th {\n",
       "        text-align: right;\n",
       "    }\n",
       "</style>\n",
       "<table border=\"1\" class=\"dataframe\">\n",
       "  <thead>\n",
       "    <tr style=\"text-align: right;\">\n",
       "      <th></th>\n",
       "      <th>club</th>\n",
       "      <th>position</th>\n",
       "      <th>position_cat</th>\n",
       "      <th>page_views</th>\n",
       "      <th>fpl_value</th>\n",
       "      <th>fpl_sel</th>\n",
       "      <th>fpl_points</th>\n",
       "      <th>region</th>\n",
       "      <th>nationality</th>\n",
       "      <th>new_foreign</th>\n",
       "      <th>age_cat</th>\n",
       "      <th>club_id</th>\n",
       "      <th>big_club</th>\n",
       "      <th>new_signing</th>\n",
       "    </tr>\n",
       "  </thead>\n",
       "  <tbody>\n",
       "    <tr>\n",
       "      <th>0</th>\n",
       "      <td>West+Ham</td>\n",
       "      <td>LB</td>\n",
       "      <td>3</td>\n",
       "      <td>380</td>\n",
       "      <td>5.0</td>\n",
       "      <td>1.30%</td>\n",
       "      <td>60</td>\n",
       "      <td>1</td>\n",
       "      <td>England</td>\n",
       "      <td>0</td>\n",
       "      <td>3</td>\n",
       "      <td>20</td>\n",
       "      <td>0</td>\n",
       "      <td>0</td>\n",
       "    </tr>\n",
       "    <tr>\n",
       "      <th>1</th>\n",
       "      <td>Everton</td>\n",
       "      <td>RW</td>\n",
       "      <td>1</td>\n",
       "      <td>504</td>\n",
       "      <td>5.5</td>\n",
       "      <td>0.20%</td>\n",
       "      <td>22</td>\n",
       "      <td>1</td>\n",
       "      <td>England</td>\n",
       "      <td>0</td>\n",
       "      <td>4</td>\n",
       "      <td>7</td>\n",
       "      <td>0</td>\n",
       "      <td>0</td>\n",
       "    </tr>\n",
       "    <tr>\n",
       "      <th>2</th>\n",
       "      <td>Huddersfield</td>\n",
       "      <td>CM</td>\n",
       "      <td>2</td>\n",
       "      <td>588</td>\n",
       "      <td>5.5</td>\n",
       "      <td>2.50%</td>\n",
       "      <td>0</td>\n",
       "      <td>4</td>\n",
       "      <td>Australia</td>\n",
       "      <td>0</td>\n",
       "      <td>3</td>\n",
       "      <td>8</td>\n",
       "      <td>0</td>\n",
       "      <td>0</td>\n",
       "    </tr>\n",
       "    <tr>\n",
       "      <th>3</th>\n",
       "      <td>Arsenal</td>\n",
       "      <td>CM</td>\n",
       "      <td>2</td>\n",
       "      <td>1040</td>\n",
       "      <td>7.0</td>\n",
       "      <td>5.10%</td>\n",
       "      <td>56</td>\n",
       "      <td>1</td>\n",
       "      <td>Wales</td>\n",
       "      <td>0</td>\n",
       "      <td>3</td>\n",
       "      <td>1</td>\n",
       "      <td>1</td>\n",
       "      <td>0</td>\n",
       "    </tr>\n",
       "    <tr>\n",
       "      <th>4</th>\n",
       "      <td>Watford</td>\n",
       "      <td>CM</td>\n",
       "      <td>2</td>\n",
       "      <td>124</td>\n",
       "      <td>5.0</td>\n",
       "      <td>0.00%</td>\n",
       "      <td>38</td>\n",
       "      <td>2</td>\n",
       "      <td>France</td>\n",
       "      <td>0</td>\n",
       "      <td>2</td>\n",
       "      <td>18</td>\n",
       "      <td>0</td>\n",
       "      <td>0</td>\n",
       "    </tr>\n",
       "    <tr>\n",
       "      <th>...</th>\n",
       "      <td>...</td>\n",
       "      <td>...</td>\n",
       "      <td>...</td>\n",
       "      <td>...</td>\n",
       "      <td>...</td>\n",
       "      <td>...</td>\n",
       "      <td>...</td>\n",
       "      <td>...</td>\n",
       "      <td>...</td>\n",
       "      <td>...</td>\n",
       "      <td>...</td>\n",
       "      <td>...</td>\n",
       "      <td>...</td>\n",
       "      <td>...</td>\n",
       "    </tr>\n",
       "    <tr>\n",
       "      <th>460</th>\n",
       "      <td>Crystal+Palace</td>\n",
       "      <td>CM</td>\n",
       "      <td>2</td>\n",
       "      <td>456</td>\n",
       "      <td>5.5</td>\n",
       "      <td>1.40%</td>\n",
       "      <td>91</td>\n",
       "      <td>2</td>\n",
       "      <td>France</td>\n",
       "      <td>0</td>\n",
       "      <td>4</td>\n",
       "      <td>6</td>\n",
       "      <td>0</td>\n",
       "      <td>0</td>\n",
       "    </tr>\n",
       "    <tr>\n",
       "      <th>461</th>\n",
       "      <td>Watford</td>\n",
       "      <td>CB</td>\n",
       "      <td>3</td>\n",
       "      <td>263</td>\n",
       "      <td>4.5</td>\n",
       "      <td>0.10%</td>\n",
       "      <td>57</td>\n",
       "      <td>2</td>\n",
       "      <td>France</td>\n",
       "      <td>0</td>\n",
       "      <td>4</td>\n",
       "      <td>18</td>\n",
       "      <td>0</td>\n",
       "      <td>1</td>\n",
       "    </tr>\n",
       "    <tr>\n",
       "      <th>462</th>\n",
       "      <td>Watford</td>\n",
       "      <td>DM</td>\n",
       "      <td>2</td>\n",
       "      <td>412</td>\n",
       "      <td>5.5</td>\n",
       "      <td>8.00%</td>\n",
       "      <td>131</td>\n",
       "      <td>2</td>\n",
       "      <td>France</td>\n",
       "      <td>0</td>\n",
       "      <td>4</td>\n",
       "      <td>18</td>\n",
       "      <td>0</td>\n",
       "      <td>0</td>\n",
       "    </tr>\n",
       "    <tr>\n",
       "      <th>463</th>\n",
       "      <td>Swansea</td>\n",
       "      <td>RB</td>\n",
       "      <td>3</td>\n",
       "      <td>137</td>\n",
       "      <td>4.0</td>\n",
       "      <td>18.80%</td>\n",
       "      <td>26</td>\n",
       "      <td>2</td>\n",
       "      <td>Spain</td>\n",
       "      <td>0</td>\n",
       "      <td>6</td>\n",
       "      <td>16</td>\n",
       "      <td>0</td>\n",
       "      <td>0</td>\n",
       "    </tr>\n",
       "    <tr>\n",
       "      <th>464</th>\n",
       "      <td>Swansea</td>\n",
       "      <td>GK</td>\n",
       "      <td>4</td>\n",
       "      <td>285</td>\n",
       "      <td>4.5</td>\n",
       "      <td>6.20%</td>\n",
       "      <td>116</td>\n",
       "      <td>2</td>\n",
       "      <td>Poland</td>\n",
       "      <td>0</td>\n",
       "      <td>5</td>\n",
       "      <td>16</td>\n",
       "      <td>0</td>\n",
       "      <td>0</td>\n",
       "    </tr>\n",
       "  </tbody>\n",
       "</table>\n",
       "<p>465 rows × 14 columns</p>\n",
       "</div>"
      ],
      "text/plain": [
       "               club position  position_cat  ...  club_id  big_club new_signing\n",
       "0          West+Ham       LB             3  ...       20         0           0\n",
       "1           Everton       RW             1  ...        7         0           0\n",
       "2      Huddersfield       CM             2  ...        8         0           0\n",
       "3           Arsenal       CM             2  ...        1         1           0\n",
       "4           Watford       CM             2  ...       18         0           0\n",
       "..              ...      ...           ...  ...      ...       ...         ...\n",
       "460  Crystal+Palace       CM             2  ...        6         0           0\n",
       "461         Watford       CB             3  ...       18         0           1\n",
       "462         Watford       DM             2  ...       18         0           0\n",
       "463         Swansea       RB             3  ...       16         0           0\n",
       "464         Swansea       GK             4  ...       16         0           0\n",
       "\n",
       "[465 rows x 14 columns]"
      ]
     },
     "execution_count": 195,
     "metadata": {
      "tags": []
     },
     "output_type": "execute_result"
    }
   ],
   "source": [
    "players.drop(columns=['age', 'market_value', 'name'])"
   ]
  },
  {
   "cell_type": "markdown",
   "metadata": {
    "colab_type": "text",
    "id": "aVIroY6zor74"
   },
   "source": [
    "#### BONUS - Another Way: pop()"
   ]
  },
  {
   "cell_type": "code",
   "execution_count": 196,
   "metadata": {
    "colab": {
     "base_uri": "https://localhost:8080/",
     "height": 0
    },
    "colab_type": "code",
    "id": "KyvVeIXjupf1",
    "outputId": "8e4cc6b6-bf5a-4ae9-d1b0-70426a4aeb83"
   },
   "outputs": [
    {
     "data": {
      "text/plain": [
       "0      27\n",
       "1      30\n",
       "2      26\n",
       "3      26\n",
       "4      24\n",
       "       ..\n",
       "460    31\n",
       "461    31\n",
       "462    29\n",
       "463    34\n",
       "464    32\n",
       "Name: age, Length: 465, dtype: int64"
      ]
     },
     "execution_count": 196,
     "metadata": {
      "tags": []
     },
     "output_type": "execute_result"
    }
   ],
   "source": [
    "players.pop('age')"
   ]
  },
  {
   "cell_type": "code",
   "execution_count": 0,
   "metadata": {
    "colab": {},
    "colab_type": "code",
    "id": "dVzD88VZvV2U"
   },
   "outputs": [],
   "source": [
    "# players.pop(['club', 'age']) "
   ]
  },
  {
   "cell_type": "code",
   "execution_count": 0,
   "metadata": {
    "colab": {},
    "colab_type": "code",
    "id": "3Nv9reG-vjfG"
   },
   "outputs": [],
   "source": [
    "# players.pop('club') and then players.pop('age')"
   ]
  },
  {
   "cell_type": "code",
   "execution_count": 199,
   "metadata": {
    "colab": {
     "base_uri": "https://localhost:8080/",
     "height": 0
    },
    "colab_type": "code",
    "id": "ANZUtuCmvnxw",
    "outputId": "16755eb0-2ae8-4f14-b2c4-957a2db83923"
   },
   "outputs": [
    {
     "data": {
      "text/plain": [
       "Index(['name', 'club', 'position', 'position_cat', 'market_value',\n",
       "       'page_views', 'fpl_value', 'fpl_sel', 'fpl_points', 'region',\n",
       "       'nationality', 'new_foreign', 'age_cat', 'club_id', 'big_club',\n",
       "       'new_signing'],\n",
       "      dtype='object')"
      ]
     },
     "execution_count": 199,
     "metadata": {
      "tags": []
     },
     "output_type": "execute_result"
    }
   ],
   "source": [
    "players.columns"
   ]
  },
  {
   "cell_type": "code",
   "execution_count": 200,
   "metadata": {
    "colab": {
     "base_uri": "https://localhost:8080/",
     "height": 0
    },
    "colab_type": "code",
    "id": "ivqbjLrQv0Q7",
    "outputId": "16ecc20f-2edb-4a3d-cb5c-3013527e2d1e"
   },
   "outputs": [
    {
     "data": {
      "text/html": [
       "<div>\n",
       "<style scoped>\n",
       "    .dataframe tbody tr th:only-of-type {\n",
       "        vertical-align: middle;\n",
       "    }\n",
       "\n",
       "    .dataframe tbody tr th {\n",
       "        vertical-align: top;\n",
       "    }\n",
       "\n",
       "    .dataframe thead th {\n",
       "        text-align: right;\n",
       "    }\n",
       "</style>\n",
       "<table border=\"1\" class=\"dataframe\">\n",
       "  <thead>\n",
       "    <tr style=\"text-align: right;\">\n",
       "      <th></th>\n",
       "      <th>name</th>\n",
       "      <th>club</th>\n",
       "      <th>position</th>\n",
       "      <th>position_cat</th>\n",
       "      <th>market_value</th>\n",
       "      <th>page_views</th>\n",
       "      <th>fpl_value</th>\n",
       "      <th>fpl_sel</th>\n",
       "      <th>fpl_points</th>\n",
       "      <th>region</th>\n",
       "      <th>nationality</th>\n",
       "      <th>new_foreign</th>\n",
       "      <th>age_cat</th>\n",
       "      <th>club_id</th>\n",
       "      <th>big_club</th>\n",
       "      <th>new_signing</th>\n",
       "    </tr>\n",
       "  </thead>\n",
       "  <tbody>\n",
       "    <tr>\n",
       "      <th>0</th>\n",
       "      <td>Aaron Cresswell</td>\n",
       "      <td>West+Ham</td>\n",
       "      <td>LB</td>\n",
       "      <td>3</td>\n",
       "      <td>12.0</td>\n",
       "      <td>380</td>\n",
       "      <td>5.0</td>\n",
       "      <td>1.30%</td>\n",
       "      <td>60</td>\n",
       "      <td>1</td>\n",
       "      <td>England</td>\n",
       "      <td>0</td>\n",
       "      <td>3</td>\n",
       "      <td>20</td>\n",
       "      <td>0</td>\n",
       "      <td>0</td>\n",
       "    </tr>\n",
       "    <tr>\n",
       "      <th>1</th>\n",
       "      <td>Aaron Lennon</td>\n",
       "      <td>Everton</td>\n",
       "      <td>RW</td>\n",
       "      <td>1</td>\n",
       "      <td>5.0</td>\n",
       "      <td>504</td>\n",
       "      <td>5.5</td>\n",
       "      <td>0.20%</td>\n",
       "      <td>22</td>\n",
       "      <td>1</td>\n",
       "      <td>England</td>\n",
       "      <td>0</td>\n",
       "      <td>4</td>\n",
       "      <td>7</td>\n",
       "      <td>0</td>\n",
       "      <td>0</td>\n",
       "    </tr>\n",
       "    <tr>\n",
       "      <th>2</th>\n",
       "      <td>Aaron Mooy</td>\n",
       "      <td>Huddersfield</td>\n",
       "      <td>CM</td>\n",
       "      <td>2</td>\n",
       "      <td>5.0</td>\n",
       "      <td>588</td>\n",
       "      <td>5.5</td>\n",
       "      <td>2.50%</td>\n",
       "      <td>0</td>\n",
       "      <td>4</td>\n",
       "      <td>Australia</td>\n",
       "      <td>0</td>\n",
       "      <td>3</td>\n",
       "      <td>8</td>\n",
       "      <td>0</td>\n",
       "      <td>0</td>\n",
       "    </tr>\n",
       "    <tr>\n",
       "      <th>3</th>\n",
       "      <td>Aaron Ramsey</td>\n",
       "      <td>Arsenal</td>\n",
       "      <td>CM</td>\n",
       "      <td>2</td>\n",
       "      <td>35.0</td>\n",
       "      <td>1040</td>\n",
       "      <td>7.0</td>\n",
       "      <td>5.10%</td>\n",
       "      <td>56</td>\n",
       "      <td>1</td>\n",
       "      <td>Wales</td>\n",
       "      <td>0</td>\n",
       "      <td>3</td>\n",
       "      <td>1</td>\n",
       "      <td>1</td>\n",
       "      <td>0</td>\n",
       "    </tr>\n",
       "  </tbody>\n",
       "</table>\n",
       "</div>"
      ],
      "text/plain": [
       "              name          club position  ...  club_id  big_club  new_signing\n",
       "0  Aaron Cresswell      West+Ham       LB  ...       20         0            0\n",
       "1     Aaron Lennon       Everton       RW  ...        7         0            0\n",
       "2       Aaron Mooy  Huddersfield       CM  ...        8         0            0\n",
       "3     Aaron Ramsey       Arsenal       CM  ...        1         1            0\n",
       "\n",
       "[4 rows x 16 columns]"
      ]
     },
     "execution_count": 200,
     "metadata": {
      "tags": []
     },
     "output_type": "execute_result"
    }
   ],
   "source": [
    "players.head(4)"
   ]
  },
  {
   "cell_type": "markdown",
   "metadata": {
    "colab_type": "text",
    "id": "SCkDIt98v2QT"
   },
   "source": [
    "#### BONUS - A Sophisticated Alternative"
   ]
  },
  {
   "cell_type": "code",
   "execution_count": 0,
   "metadata": {
    "colab": {},
    "colab_type": "code",
    "id": "DDsjfECV79kb"
   },
   "outputs": [],
   "source": [
    "# reindex to remove rows/columns"
   ]
  },
  {
   "cell_type": "code",
   "execution_count": 202,
   "metadata": {
    "colab": {
     "base_uri": "https://localhost:8080/",
     "height": 0
    },
    "colab_type": "code",
    "id": "u7HIGsgZ79gl",
    "outputId": "7ad20769-1b1a-4185-8521-1ac2fa8f6d14"
   },
   "outputs": [
    {
     "data": {
      "text/html": [
       "<div>\n",
       "<style scoped>\n",
       "    .dataframe tbody tr th:only-of-type {\n",
       "        vertical-align: middle;\n",
       "    }\n",
       "\n",
       "    .dataframe tbody tr th {\n",
       "        vertical-align: top;\n",
       "    }\n",
       "\n",
       "    .dataframe thead th {\n",
       "        text-align: right;\n",
       "    }\n",
       "</style>\n",
       "<table border=\"1\" class=\"dataframe\">\n",
       "  <thead>\n",
       "    <tr style=\"text-align: right;\">\n",
       "      <th></th>\n",
       "      <th>name</th>\n",
       "      <th>club</th>\n",
       "      <th>position</th>\n",
       "      <th>position_cat</th>\n",
       "      <th>market_value</th>\n",
       "      <th>page_views</th>\n",
       "      <th>fpl_value</th>\n",
       "      <th>fpl_sel</th>\n",
       "      <th>fpl_points</th>\n",
       "      <th>region</th>\n",
       "      <th>nationality</th>\n",
       "      <th>new_foreign</th>\n",
       "      <th>age_cat</th>\n",
       "      <th>club_id</th>\n",
       "      <th>big_club</th>\n",
       "      <th>new_signing</th>\n",
       "    </tr>\n",
       "  </thead>\n",
       "  <tbody>\n",
       "    <tr>\n",
       "      <th>0</th>\n",
       "      <td>Aaron Cresswell</td>\n",
       "      <td>West+Ham</td>\n",
       "      <td>LB</td>\n",
       "      <td>3</td>\n",
       "      <td>12.0</td>\n",
       "      <td>380</td>\n",
       "      <td>5.0</td>\n",
       "      <td>1.30%</td>\n",
       "      <td>60</td>\n",
       "      <td>1</td>\n",
       "      <td>England</td>\n",
       "      <td>0</td>\n",
       "      <td>3</td>\n",
       "      <td>20</td>\n",
       "      <td>0</td>\n",
       "      <td>0</td>\n",
       "    </tr>\n",
       "    <tr>\n",
       "      <th>1</th>\n",
       "      <td>Aaron Lennon</td>\n",
       "      <td>Everton</td>\n",
       "      <td>RW</td>\n",
       "      <td>1</td>\n",
       "      <td>5.0</td>\n",
       "      <td>504</td>\n",
       "      <td>5.5</td>\n",
       "      <td>0.20%</td>\n",
       "      <td>22</td>\n",
       "      <td>1</td>\n",
       "      <td>England</td>\n",
       "      <td>0</td>\n",
       "      <td>4</td>\n",
       "      <td>7</td>\n",
       "      <td>0</td>\n",
       "      <td>0</td>\n",
       "    </tr>\n",
       "    <tr>\n",
       "      <th>2</th>\n",
       "      <td>Aaron Mooy</td>\n",
       "      <td>Huddersfield</td>\n",
       "      <td>CM</td>\n",
       "      <td>2</td>\n",
       "      <td>5.0</td>\n",
       "      <td>588</td>\n",
       "      <td>5.5</td>\n",
       "      <td>2.50%</td>\n",
       "      <td>0</td>\n",
       "      <td>4</td>\n",
       "      <td>Australia</td>\n",
       "      <td>0</td>\n",
       "      <td>3</td>\n",
       "      <td>8</td>\n",
       "      <td>0</td>\n",
       "      <td>0</td>\n",
       "    </tr>\n",
       "    <tr>\n",
       "      <th>3</th>\n",
       "      <td>Aaron Ramsey</td>\n",
       "      <td>Arsenal</td>\n",
       "      <td>CM</td>\n",
       "      <td>2</td>\n",
       "      <td>35.0</td>\n",
       "      <td>1040</td>\n",
       "      <td>7.0</td>\n",
       "      <td>5.10%</td>\n",
       "      <td>56</td>\n",
       "      <td>1</td>\n",
       "      <td>Wales</td>\n",
       "      <td>0</td>\n",
       "      <td>3</td>\n",
       "      <td>1</td>\n",
       "      <td>1</td>\n",
       "      <td>0</td>\n",
       "    </tr>\n",
       "    <tr>\n",
       "      <th>4</th>\n",
       "      <td>Abdoulaye Doucoure</td>\n",
       "      <td>Watford</td>\n",
       "      <td>CM</td>\n",
       "      <td>2</td>\n",
       "      <td>6.0</td>\n",
       "      <td>124</td>\n",
       "      <td>5.0</td>\n",
       "      <td>0.00%</td>\n",
       "      <td>38</td>\n",
       "      <td>2</td>\n",
       "      <td>France</td>\n",
       "      <td>0</td>\n",
       "      <td>2</td>\n",
       "      <td>18</td>\n",
       "      <td>0</td>\n",
       "      <td>0</td>\n",
       "    </tr>\n",
       "    <tr>\n",
       "      <th>...</th>\n",
       "      <td>...</td>\n",
       "      <td>...</td>\n",
       "      <td>...</td>\n",
       "      <td>...</td>\n",
       "      <td>...</td>\n",
       "      <td>...</td>\n",
       "      <td>...</td>\n",
       "      <td>...</td>\n",
       "      <td>...</td>\n",
       "      <td>...</td>\n",
       "      <td>...</td>\n",
       "      <td>...</td>\n",
       "      <td>...</td>\n",
       "      <td>...</td>\n",
       "      <td>...</td>\n",
       "      <td>...</td>\n",
       "    </tr>\n",
       "    <tr>\n",
       "      <th>460</th>\n",
       "      <td>Yohan Cabaye</td>\n",
       "      <td>Crystal+Palace</td>\n",
       "      <td>CM</td>\n",
       "      <td>2</td>\n",
       "      <td>15.0</td>\n",
       "      <td>456</td>\n",
       "      <td>5.5</td>\n",
       "      <td>1.40%</td>\n",
       "      <td>91</td>\n",
       "      <td>2</td>\n",
       "      <td>France</td>\n",
       "      <td>0</td>\n",
       "      <td>4</td>\n",
       "      <td>6</td>\n",
       "      <td>0</td>\n",
       "      <td>0</td>\n",
       "    </tr>\n",
       "    <tr>\n",
       "      <th>461</th>\n",
       "      <td>YounÃ¨s Kaboul</td>\n",
       "      <td>Watford</td>\n",
       "      <td>CB</td>\n",
       "      <td>3</td>\n",
       "      <td>2.5</td>\n",
       "      <td>263</td>\n",
       "      <td>4.5</td>\n",
       "      <td>0.10%</td>\n",
       "      <td>57</td>\n",
       "      <td>2</td>\n",
       "      <td>France</td>\n",
       "      <td>0</td>\n",
       "      <td>4</td>\n",
       "      <td>18</td>\n",
       "      <td>0</td>\n",
       "      <td>1</td>\n",
       "    </tr>\n",
       "    <tr>\n",
       "      <th>462</th>\n",
       "      <td>Ã‰tienne Capoue</td>\n",
       "      <td>Watford</td>\n",
       "      <td>DM</td>\n",
       "      <td>2</td>\n",
       "      <td>9.0</td>\n",
       "      <td>412</td>\n",
       "      <td>5.5</td>\n",
       "      <td>8.00%</td>\n",
       "      <td>131</td>\n",
       "      <td>2</td>\n",
       "      <td>France</td>\n",
       "      <td>0</td>\n",
       "      <td>4</td>\n",
       "      <td>18</td>\n",
       "      <td>0</td>\n",
       "      <td>0</td>\n",
       "    </tr>\n",
       "    <tr>\n",
       "      <th>463</th>\n",
       "      <td>Ã€ngel Rangel</td>\n",
       "      <td>Swansea</td>\n",
       "      <td>RB</td>\n",
       "      <td>3</td>\n",
       "      <td>1.0</td>\n",
       "      <td>137</td>\n",
       "      <td>4.0</td>\n",
       "      <td>18.80%</td>\n",
       "      <td>26</td>\n",
       "      <td>2</td>\n",
       "      <td>Spain</td>\n",
       "      <td>0</td>\n",
       "      <td>6</td>\n",
       "      <td>16</td>\n",
       "      <td>0</td>\n",
       "      <td>0</td>\n",
       "    </tr>\n",
       "    <tr>\n",
       "      <th>464</th>\n",
       "      <td>Åukasz FabiaÅ„ski</td>\n",
       "      <td>Swansea</td>\n",
       "      <td>GK</td>\n",
       "      <td>4</td>\n",
       "      <td>9.0</td>\n",
       "      <td>285</td>\n",
       "      <td>4.5</td>\n",
       "      <td>6.20%</td>\n",
       "      <td>116</td>\n",
       "      <td>2</td>\n",
       "      <td>Poland</td>\n",
       "      <td>0</td>\n",
       "      <td>5</td>\n",
       "      <td>16</td>\n",
       "      <td>0</td>\n",
       "      <td>0</td>\n",
       "    </tr>\n",
       "  </tbody>\n",
       "</table>\n",
       "<p>465 rows × 16 columns</p>\n",
       "</div>"
      ],
      "text/plain": [
       "                   name            club  ... big_club  new_signing\n",
       "0       Aaron Cresswell        West+Ham  ...        0            0\n",
       "1          Aaron Lennon         Everton  ...        0            0\n",
       "2            Aaron Mooy    Huddersfield  ...        0            0\n",
       "3          Aaron Ramsey         Arsenal  ...        1            0\n",
       "4    Abdoulaye Doucoure         Watford  ...        0            0\n",
       "..                  ...             ...  ...      ...          ...\n",
       "460        Yohan Cabaye  Crystal+Palace  ...        0            0\n",
       "461      YounÃ¨s Kaboul         Watford  ...        0            1\n",
       "462     Ã‰tienne Capoue         Watford  ...        0            0\n",
       "463       Ã€ngel Rangel         Swansea  ...        0            0\n",
       "464  Åukasz FabiaÅ„ski         Swansea  ...        0            0\n",
       "\n",
       "[465 rows x 16 columns]"
      ]
     },
     "execution_count": 202,
     "metadata": {
      "tags": []
     },
     "output_type": "execute_result"
    }
   ],
   "source": [
    "players.reindex()"
   ]
  },
  {
   "cell_type": "code",
   "execution_count": 203,
   "metadata": {
    "colab": {
     "base_uri": "https://localhost:8080/",
     "height": 0
    },
    "colab_type": "code",
    "id": "RQI7iwsn78ic",
    "outputId": "94b4dbd6-9e83-4852-bc7f-1acfc80960b5"
   },
   "outputs": [
    {
     "data": {
      "text/html": [
       "<div>\n",
       "<style scoped>\n",
       "    .dataframe tbody tr th:only-of-type {\n",
       "        vertical-align: middle;\n",
       "    }\n",
       "\n",
       "    .dataframe tbody tr th {\n",
       "        vertical-align: top;\n",
       "    }\n",
       "\n",
       "    .dataframe thead th {\n",
       "        text-align: right;\n",
       "    }\n",
       "</style>\n",
       "<table border=\"1\" class=\"dataframe\">\n",
       "  <thead>\n",
       "    <tr style=\"text-align: right;\">\n",
       "      <th></th>\n",
       "      <th>name</th>\n",
       "      <th>club</th>\n",
       "      <th>position</th>\n",
       "      <th>position_cat</th>\n",
       "      <th>market_value</th>\n",
       "      <th>page_views</th>\n",
       "      <th>fpl_value</th>\n",
       "      <th>fpl_sel</th>\n",
       "      <th>fpl_points</th>\n",
       "      <th>region</th>\n",
       "      <th>nationality</th>\n",
       "      <th>new_foreign</th>\n",
       "      <th>age_cat</th>\n",
       "      <th>club_id</th>\n",
       "      <th>big_club</th>\n",
       "      <th>new_signing</th>\n",
       "    </tr>\n",
       "  </thead>\n",
       "  <tbody>\n",
       "    <tr>\n",
       "      <th>0</th>\n",
       "      <td>Aaron Cresswell</td>\n",
       "      <td>West+Ham</td>\n",
       "      <td>LB</td>\n",
       "      <td>3</td>\n",
       "      <td>12.0</td>\n",
       "      <td>380</td>\n",
       "      <td>5.0</td>\n",
       "      <td>1.30%</td>\n",
       "      <td>60</td>\n",
       "      <td>1</td>\n",
       "      <td>England</td>\n",
       "      <td>0</td>\n",
       "      <td>3</td>\n",
       "      <td>20</td>\n",
       "      <td>0</td>\n",
       "      <td>0</td>\n",
       "    </tr>\n",
       "    <tr>\n",
       "      <th>3</th>\n",
       "      <td>Aaron Ramsey</td>\n",
       "      <td>Arsenal</td>\n",
       "      <td>CM</td>\n",
       "      <td>2</td>\n",
       "      <td>35.0</td>\n",
       "      <td>1040</td>\n",
       "      <td>7.0</td>\n",
       "      <td>5.10%</td>\n",
       "      <td>56</td>\n",
       "      <td>1</td>\n",
       "      <td>Wales</td>\n",
       "      <td>0</td>\n",
       "      <td>3</td>\n",
       "      <td>1</td>\n",
       "      <td>1</td>\n",
       "      <td>0</td>\n",
       "    </tr>\n",
       "    <tr>\n",
       "      <th>9</th>\n",
       "      <td>Adrian</td>\n",
       "      <td>West+Ham</td>\n",
       "      <td>GK</td>\n",
       "      <td>4</td>\n",
       "      <td>8.0</td>\n",
       "      <td>266</td>\n",
       "      <td>4.5</td>\n",
       "      <td>0.80%</td>\n",
       "      <td>64</td>\n",
       "      <td>2</td>\n",
       "      <td>Spain</td>\n",
       "      <td>0</td>\n",
       "      <td>4</td>\n",
       "      <td>20</td>\n",
       "      <td>0</td>\n",
       "      <td>0</td>\n",
       "    </tr>\n",
       "  </tbody>\n",
       "</table>\n",
       "</div>"
      ],
      "text/plain": [
       "              name      club position  ...  club_id  big_club  new_signing\n",
       "0  Aaron Cresswell  West+Ham       LB  ...       20         0            0\n",
       "3     Aaron Ramsey   Arsenal       CM  ...        1         1            0\n",
       "9           Adrian  West+Ham       GK  ...       20         0            0\n",
       "\n",
       "[3 rows x 16 columns]"
      ]
     },
     "execution_count": 203,
     "metadata": {
      "tags": []
     },
     "output_type": "execute_result"
    }
   ],
   "source": [
    "players.reindex(index=[0,3,9])"
   ]
  },
  {
   "cell_type": "code",
   "execution_count": 0,
   "metadata": {
    "colab": {},
    "colab_type": "code",
    "id": "aXoEd36U78Ll"
   },
   "outputs": [],
   "source": [
    "unwanted_rows = [1,2,3,4]\n",
    "unwanted_columns = ['name', 'position', 'position_cat']"
   ]
  },
  {
   "cell_type": "code",
   "execution_count": 205,
   "metadata": {
    "colab": {
     "base_uri": "https://localhost:8080/",
     "height": 0
    },
    "colab_type": "code",
    "id": "xXacNkdU78G5",
    "outputId": "60eb7a8e-1f92-4416-ef21-c84dcdec783d"
   },
   "outputs": [
    {
     "data": {
      "text/html": [
       "<div>\n",
       "<style scoped>\n",
       "    .dataframe tbody tr th:only-of-type {\n",
       "        vertical-align: middle;\n",
       "    }\n",
       "\n",
       "    .dataframe tbody tr th {\n",
       "        vertical-align: top;\n",
       "    }\n",
       "\n",
       "    .dataframe thead th {\n",
       "        text-align: right;\n",
       "    }\n",
       "</style>\n",
       "<table border=\"1\" class=\"dataframe\">\n",
       "  <thead>\n",
       "    <tr style=\"text-align: right;\">\n",
       "      <th></th>\n",
       "      <th>new_signing</th>\n",
       "      <th>new_foreign</th>\n",
       "      <th>region</th>\n",
       "      <th>nationality</th>\n",
       "      <th>market_value</th>\n",
       "      <th>big_club</th>\n",
       "      <th>fpl_points</th>\n",
       "      <th>age_cat</th>\n",
       "      <th>fpl_sel</th>\n",
       "      <th>club_id</th>\n",
       "      <th>fpl_value</th>\n",
       "      <th>club</th>\n",
       "      <th>page_views</th>\n",
       "    </tr>\n",
       "  </thead>\n",
       "  <tbody>\n",
       "    <tr>\n",
       "      <th>0</th>\n",
       "      <td>0</td>\n",
       "      <td>0</td>\n",
       "      <td>1</td>\n",
       "      <td>England</td>\n",
       "      <td>12.0</td>\n",
       "      <td>0</td>\n",
       "      <td>60</td>\n",
       "      <td>3</td>\n",
       "      <td>1.30%</td>\n",
       "      <td>20</td>\n",
       "      <td>5.0</td>\n",
       "      <td>West+Ham</td>\n",
       "      <td>380</td>\n",
       "    </tr>\n",
       "    <tr>\n",
       "      <th>5</th>\n",
       "      <td>0</td>\n",
       "      <td>0</td>\n",
       "      <td>4</td>\n",
       "      <td>Australia</td>\n",
       "      <td>1.0</td>\n",
       "      <td>0</td>\n",
       "      <td>8</td>\n",
       "      <td>5</td>\n",
       "      <td>1.50%</td>\n",
       "      <td>2</td>\n",
       "      <td>4.0</td>\n",
       "      <td>Bournemouth</td>\n",
       "      <td>126</td>\n",
       "    </tr>\n",
       "    <tr>\n",
       "      <th>6</th>\n",
       "      <td>0</td>\n",
       "      <td>0</td>\n",
       "      <td>1</td>\n",
       "      <td>England</td>\n",
       "      <td>25.0</td>\n",
       "      <td>1</td>\n",
       "      <td>139</td>\n",
       "      <td>4</td>\n",
       "      <td>6.40%</td>\n",
       "      <td>10</td>\n",
       "      <td>7.5</td>\n",
       "      <td>Liverpool</td>\n",
       "      <td>1808</td>\n",
       "    </tr>\n",
       "    <tr>\n",
       "      <th>7</th>\n",
       "      <td>0</td>\n",
       "      <td>0</td>\n",
       "      <td>1</td>\n",
       "      <td>England</td>\n",
       "      <td>5.0</td>\n",
       "      <td>0</td>\n",
       "      <td>104</td>\n",
       "      <td>3</td>\n",
       "      <td>0.90%</td>\n",
       "      <td>2</td>\n",
       "      <td>5.0</td>\n",
       "      <td>Bournemouth</td>\n",
       "      <td>200</td>\n",
       "    </tr>\n",
       "    <tr>\n",
       "      <th>8</th>\n",
       "      <td>0</td>\n",
       "      <td>0</td>\n",
       "      <td>1</td>\n",
       "      <td>England</td>\n",
       "      <td>5.0</td>\n",
       "      <td>0</td>\n",
       "      <td>16</td>\n",
       "      <td>1</td>\n",
       "      <td>0.30%</td>\n",
       "      <td>7</td>\n",
       "      <td>5.5</td>\n",
       "      <td>Everton</td>\n",
       "      <td>1387</td>\n",
       "    </tr>\n",
       "    <tr>\n",
       "      <th>...</th>\n",
       "      <td>...</td>\n",
       "      <td>...</td>\n",
       "      <td>...</td>\n",
       "      <td>...</td>\n",
       "      <td>...</td>\n",
       "      <td>...</td>\n",
       "      <td>...</td>\n",
       "      <td>...</td>\n",
       "      <td>...</td>\n",
       "      <td>...</td>\n",
       "      <td>...</td>\n",
       "      <td>...</td>\n",
       "      <td>...</td>\n",
       "    </tr>\n",
       "    <tr>\n",
       "      <th>460</th>\n",
       "      <td>0</td>\n",
       "      <td>0</td>\n",
       "      <td>2</td>\n",
       "      <td>France</td>\n",
       "      <td>15.0</td>\n",
       "      <td>0</td>\n",
       "      <td>91</td>\n",
       "      <td>4</td>\n",
       "      <td>1.40%</td>\n",
       "      <td>6</td>\n",
       "      <td>5.5</td>\n",
       "      <td>Crystal+Palace</td>\n",
       "      <td>456</td>\n",
       "    </tr>\n",
       "    <tr>\n",
       "      <th>461</th>\n",
       "      <td>1</td>\n",
       "      <td>0</td>\n",
       "      <td>2</td>\n",
       "      <td>France</td>\n",
       "      <td>2.5</td>\n",
       "      <td>0</td>\n",
       "      <td>57</td>\n",
       "      <td>4</td>\n",
       "      <td>0.10%</td>\n",
       "      <td>18</td>\n",
       "      <td>4.5</td>\n",
       "      <td>Watford</td>\n",
       "      <td>263</td>\n",
       "    </tr>\n",
       "    <tr>\n",
       "      <th>462</th>\n",
       "      <td>0</td>\n",
       "      <td>0</td>\n",
       "      <td>2</td>\n",
       "      <td>France</td>\n",
       "      <td>9.0</td>\n",
       "      <td>0</td>\n",
       "      <td>131</td>\n",
       "      <td>4</td>\n",
       "      <td>8.00%</td>\n",
       "      <td>18</td>\n",
       "      <td>5.5</td>\n",
       "      <td>Watford</td>\n",
       "      <td>412</td>\n",
       "    </tr>\n",
       "    <tr>\n",
       "      <th>463</th>\n",
       "      <td>0</td>\n",
       "      <td>0</td>\n",
       "      <td>2</td>\n",
       "      <td>Spain</td>\n",
       "      <td>1.0</td>\n",
       "      <td>0</td>\n",
       "      <td>26</td>\n",
       "      <td>6</td>\n",
       "      <td>18.80%</td>\n",
       "      <td>16</td>\n",
       "      <td>4.0</td>\n",
       "      <td>Swansea</td>\n",
       "      <td>137</td>\n",
       "    </tr>\n",
       "    <tr>\n",
       "      <th>464</th>\n",
       "      <td>0</td>\n",
       "      <td>0</td>\n",
       "      <td>2</td>\n",
       "      <td>Poland</td>\n",
       "      <td>9.0</td>\n",
       "      <td>0</td>\n",
       "      <td>116</td>\n",
       "      <td>5</td>\n",
       "      <td>6.20%</td>\n",
       "      <td>16</td>\n",
       "      <td>4.5</td>\n",
       "      <td>Swansea</td>\n",
       "      <td>285</td>\n",
       "    </tr>\n",
       "  </tbody>\n",
       "</table>\n",
       "<p>461 rows × 13 columns</p>\n",
       "</div>"
      ],
      "text/plain": [
       "     new_signing  new_foreign  region  ... fpl_value            club  page_views\n",
       "0              0            0       1  ...       5.0        West+Ham         380\n",
       "5              0            0       4  ...       4.0     Bournemouth         126\n",
       "6              0            0       1  ...       7.5       Liverpool        1808\n",
       "7              0            0       1  ...       5.0     Bournemouth         200\n",
       "8              0            0       1  ...       5.5         Everton        1387\n",
       "..           ...          ...     ...  ...       ...             ...         ...\n",
       "460            0            0       2  ...       5.5  Crystal+Palace         456\n",
       "461            1            0       2  ...       4.5         Watford         263\n",
       "462            0            0       2  ...       5.5         Watford         412\n",
       "463            0            0       2  ...       4.0         Swansea         137\n",
       "464            0            0       2  ...       4.5         Swansea         285\n",
       "\n",
       "[461 rows x 13 columns]"
      ]
     },
     "execution_count": 205,
     "metadata": {
      "tags": []
     },
     "output_type": "execute_result"
    }
   ],
   "source": [
    "players.reindex(\n",
    "    index=set(players.index).difference(unwanted_rows),\n",
    "    columns=set(players.columns).difference(unwanted_columns)\n",
    "    )"
   ]
  },
  {
   "cell_type": "markdown",
   "metadata": {
    "colab_type": "text",
    "id": "C2M5A5GQ72M7"
   },
   "source": [
    "#### Null Values In DataFrames"
   ]
  },
  {
   "cell_type": "code",
   "execution_count": 0,
   "metadata": {
    "colab": {},
    "colab_type": "code",
    "id": "VK7yt9sURjyo"
   },
   "outputs": [],
   "source": [
    "players = pd.read_csv('https://andybek.com/pandas-soccer')"
   ]
  },
  {
   "cell_type": "code",
   "execution_count": 207,
   "metadata": {
    "colab": {
     "base_uri": "https://localhost:8080/",
     "height": 0
    },
    "colab_type": "code",
    "id": "q9eaolRpR1FW",
    "outputId": "3a8ea5dd-b50b-4a09-d0a6-ab55ea9388cd"
   },
   "outputs": [
    {
     "data": {
      "text/html": [
       "<div>\n",
       "<style scoped>\n",
       "    .dataframe tbody tr th:only-of-type {\n",
       "        vertical-align: middle;\n",
       "    }\n",
       "\n",
       "    .dataframe tbody tr th {\n",
       "        vertical-align: top;\n",
       "    }\n",
       "\n",
       "    .dataframe thead th {\n",
       "        text-align: right;\n",
       "    }\n",
       "</style>\n",
       "<table border=\"1\" class=\"dataframe\">\n",
       "  <thead>\n",
       "    <tr style=\"text-align: right;\">\n",
       "      <th></th>\n",
       "      <th>name</th>\n",
       "      <th>club</th>\n",
       "      <th>age</th>\n",
       "      <th>position</th>\n",
       "      <th>position_cat</th>\n",
       "      <th>market_value</th>\n",
       "      <th>page_views</th>\n",
       "      <th>fpl_value</th>\n",
       "      <th>fpl_sel</th>\n",
       "      <th>fpl_points</th>\n",
       "      <th>region</th>\n",
       "      <th>nationality</th>\n",
       "      <th>new_foreign</th>\n",
       "      <th>age_cat</th>\n",
       "      <th>club_id</th>\n",
       "      <th>big_club</th>\n",
       "      <th>new_signing</th>\n",
       "    </tr>\n",
       "  </thead>\n",
       "  <tbody>\n",
       "    <tr>\n",
       "      <th>0</th>\n",
       "      <td>Alexis Sanchez</td>\n",
       "      <td>Arsenal</td>\n",
       "      <td>28</td>\n",
       "      <td>LW</td>\n",
       "      <td>1</td>\n",
       "      <td>65.0</td>\n",
       "      <td>4329</td>\n",
       "      <td>12.0</td>\n",
       "      <td>17.10%</td>\n",
       "      <td>264</td>\n",
       "      <td>3</td>\n",
       "      <td>Chile</td>\n",
       "      <td>0</td>\n",
       "      <td>4</td>\n",
       "      <td>1</td>\n",
       "      <td>1</td>\n",
       "      <td>0</td>\n",
       "    </tr>\n",
       "    <tr>\n",
       "      <th>1</th>\n",
       "      <td>Mesut Ozil</td>\n",
       "      <td>Arsenal</td>\n",
       "      <td>28</td>\n",
       "      <td>AM</td>\n",
       "      <td>1</td>\n",
       "      <td>50.0</td>\n",
       "      <td>4395</td>\n",
       "      <td>9.5</td>\n",
       "      <td>5.60%</td>\n",
       "      <td>167</td>\n",
       "      <td>2</td>\n",
       "      <td>Germany</td>\n",
       "      <td>0</td>\n",
       "      <td>4</td>\n",
       "      <td>1</td>\n",
       "      <td>1</td>\n",
       "      <td>0</td>\n",
       "    </tr>\n",
       "    <tr>\n",
       "      <th>2</th>\n",
       "      <td>Petr Cech</td>\n",
       "      <td>Arsenal</td>\n",
       "      <td>35</td>\n",
       "      <td>GK</td>\n",
       "      <td>4</td>\n",
       "      <td>7.0</td>\n",
       "      <td>1529</td>\n",
       "      <td>5.5</td>\n",
       "      <td>5.90%</td>\n",
       "      <td>134</td>\n",
       "      <td>2</td>\n",
       "      <td>Czech Republic</td>\n",
       "      <td>0</td>\n",
       "      <td>6</td>\n",
       "      <td>1</td>\n",
       "      <td>1</td>\n",
       "      <td>0</td>\n",
       "    </tr>\n",
       "    <tr>\n",
       "      <th>3</th>\n",
       "      <td>Theo Walcott</td>\n",
       "      <td>Arsenal</td>\n",
       "      <td>28</td>\n",
       "      <td>RW</td>\n",
       "      <td>1</td>\n",
       "      <td>20.0</td>\n",
       "      <td>2393</td>\n",
       "      <td>7.5</td>\n",
       "      <td>1.50%</td>\n",
       "      <td>122</td>\n",
       "      <td>1</td>\n",
       "      <td>England</td>\n",
       "      <td>0</td>\n",
       "      <td>4</td>\n",
       "      <td>1</td>\n",
       "      <td>1</td>\n",
       "      <td>0</td>\n",
       "    </tr>\n",
       "    <tr>\n",
       "      <th>4</th>\n",
       "      <td>Laurent Koscielny</td>\n",
       "      <td>Arsenal</td>\n",
       "      <td>31</td>\n",
       "      <td>CB</td>\n",
       "      <td>3</td>\n",
       "      <td>22.0</td>\n",
       "      <td>912</td>\n",
       "      <td>6.0</td>\n",
       "      <td>0.70%</td>\n",
       "      <td>121</td>\n",
       "      <td>2</td>\n",
       "      <td>France</td>\n",
       "      <td>0</td>\n",
       "      <td>4</td>\n",
       "      <td>1</td>\n",
       "      <td>1</td>\n",
       "      <td>0</td>\n",
       "    </tr>\n",
       "  </tbody>\n",
       "</table>\n",
       "</div>"
      ],
      "text/plain": [
       "                name     club  age  ... club_id  big_club  new_signing\n",
       "0     Alexis Sanchez  Arsenal   28  ...       1         1            0\n",
       "1         Mesut Ozil  Arsenal   28  ...       1         1            0\n",
       "2          Petr Cech  Arsenal   35  ...       1         1            0\n",
       "3       Theo Walcott  Arsenal   28  ...       1         1            0\n",
       "4  Laurent Koscielny  Arsenal   31  ...       1         1            0\n",
       "\n",
       "[5 rows x 17 columns]"
      ]
     },
     "execution_count": 207,
     "metadata": {
      "tags": []
     },
     "output_type": "execute_result"
    }
   ],
   "source": [
    "players.head()"
   ]
  },
  {
   "cell_type": "code",
   "execution_count": 208,
   "metadata": {
    "colab": {
     "base_uri": "https://localhost:8080/",
     "height": 0
    },
    "colab_type": "code",
    "id": "8imr4NRJYcNG",
    "outputId": "132fde7a-6b13-41f6-faeb-ab57997728d7"
   },
   "outputs": [
    {
     "data": {
      "text/plain": [
       "(465, 17)"
      ]
     },
     "execution_count": 208,
     "metadata": {
      "tags": []
     },
     "output_type": "execute_result"
    }
   ],
   "source": [
    "players.shape"
   ]
  },
  {
   "cell_type": "code",
   "execution_count": 0,
   "metadata": {
    "colab": {},
    "colab_type": "code",
    "id": "TBOhLY64Yc-6"
   },
   "outputs": [],
   "source": [
    "# series refresher"
   ]
  },
  {
   "cell_type": "code",
   "execution_count": 0,
   "metadata": {
    "colab": {},
    "colab_type": "code",
    "id": "IK7pLtNYY2s5"
   },
   "outputs": [],
   "source": [
    "ages = players.age"
   ]
  },
  {
   "cell_type": "code",
   "execution_count": 211,
   "metadata": {
    "colab": {
     "base_uri": "https://localhost:8080/",
     "height": 0
    },
    "colab_type": "code",
    "id": "0h_KNgyAY4G2",
    "outputId": "ea135f1a-35c1-4155-f653-5dc19d1aad36"
   },
   "outputs": [
    {
     "data": {
      "text/plain": [
       "pandas.core.series.Series"
      ]
     },
     "execution_count": 211,
     "metadata": {
      "tags": []
     },
     "output_type": "execute_result"
    }
   ],
   "source": [
    "type(players.age)"
   ]
  },
  {
   "cell_type": "code",
   "execution_count": 212,
   "metadata": {
    "colab": {
     "base_uri": "https://localhost:8080/",
     "height": 0
    },
    "colab_type": "code",
    "id": "Wqa8g1iIY56N",
    "outputId": "855d2a68-0e99-4818-e113-c7f854e75d5b"
   },
   "outputs": [
    {
     "data": {
      "text/plain": [
       "0      False\n",
       "1      False\n",
       "2      False\n",
       "3      False\n",
       "4      False\n",
       "       ...  \n",
       "460    False\n",
       "461    False\n",
       "462    False\n",
       "463    False\n",
       "464    False\n",
       "Name: age, Length: 465, dtype: bool"
      ]
     },
     "execution_count": 212,
     "metadata": {
      "tags": []
     },
     "output_type": "execute_result"
    }
   ],
   "source": [
    "ages.isna()"
   ]
  },
  {
   "cell_type": "code",
   "execution_count": 213,
   "metadata": {
    "colab": {
     "base_uri": "https://localhost:8080/",
     "height": 0
    },
    "colab_type": "code",
    "id": "C_u_b5IhZAhw",
    "outputId": "ed925848-89a1-4578-f493-b2cf952f67c0"
   },
   "outputs": [
    {
     "data": {
      "text/plain": [
       "Series([], Name: age, dtype: int64)"
      ]
     },
     "execution_count": 213,
     "metadata": {
      "tags": []
     },
     "output_type": "execute_result"
    }
   ],
   "source": [
    "ages[ages.isna()]"
   ]
  },
  {
   "cell_type": "code",
   "execution_count": 0,
   "metadata": {
    "colab": {},
    "colab_type": "code",
    "id": "ylZ-kgu5ZFOE"
   },
   "outputs": [],
   "source": [
    "# dataframes"
   ]
  },
  {
   "cell_type": "code",
   "execution_count": 215,
   "metadata": {
    "colab": {
     "base_uri": "https://localhost:8080/",
     "height": 0
    },
    "colab_type": "code",
    "id": "bMsbg4XNZTpL",
    "outputId": "ea71f853-d736-4d23-c460-1e620fc8f869"
   },
   "outputs": [
    {
     "data": {
      "text/html": [
       "<div>\n",
       "<style scoped>\n",
       "    .dataframe tbody tr th:only-of-type {\n",
       "        vertical-align: middle;\n",
       "    }\n",
       "\n",
       "    .dataframe tbody tr th {\n",
       "        vertical-align: top;\n",
       "    }\n",
       "\n",
       "    .dataframe thead th {\n",
       "        text-align: right;\n",
       "    }\n",
       "</style>\n",
       "<table border=\"1\" class=\"dataframe\">\n",
       "  <thead>\n",
       "    <tr style=\"text-align: right;\">\n",
       "      <th></th>\n",
       "      <th>name</th>\n",
       "      <th>club</th>\n",
       "      <th>age</th>\n",
       "      <th>position</th>\n",
       "      <th>position_cat</th>\n",
       "      <th>market_value</th>\n",
       "      <th>page_views</th>\n",
       "      <th>fpl_value</th>\n",
       "      <th>fpl_sel</th>\n",
       "      <th>fpl_points</th>\n",
       "      <th>region</th>\n",
       "      <th>nationality</th>\n",
       "      <th>new_foreign</th>\n",
       "      <th>age_cat</th>\n",
       "      <th>club_id</th>\n",
       "      <th>big_club</th>\n",
       "      <th>new_signing</th>\n",
       "    </tr>\n",
       "  </thead>\n",
       "  <tbody>\n",
       "    <tr>\n",
       "      <th>0</th>\n",
       "      <td>False</td>\n",
       "      <td>False</td>\n",
       "      <td>False</td>\n",
       "      <td>False</td>\n",
       "      <td>False</td>\n",
       "      <td>False</td>\n",
       "      <td>False</td>\n",
       "      <td>False</td>\n",
       "      <td>False</td>\n",
       "      <td>False</td>\n",
       "      <td>False</td>\n",
       "      <td>False</td>\n",
       "      <td>False</td>\n",
       "      <td>False</td>\n",
       "      <td>False</td>\n",
       "      <td>False</td>\n",
       "      <td>False</td>\n",
       "    </tr>\n",
       "    <tr>\n",
       "      <th>1</th>\n",
       "      <td>False</td>\n",
       "      <td>False</td>\n",
       "      <td>False</td>\n",
       "      <td>False</td>\n",
       "      <td>False</td>\n",
       "      <td>False</td>\n",
       "      <td>False</td>\n",
       "      <td>False</td>\n",
       "      <td>False</td>\n",
       "      <td>False</td>\n",
       "      <td>False</td>\n",
       "      <td>False</td>\n",
       "      <td>False</td>\n",
       "      <td>False</td>\n",
       "      <td>False</td>\n",
       "      <td>False</td>\n",
       "      <td>False</td>\n",
       "    </tr>\n",
       "    <tr>\n",
       "      <th>2</th>\n",
       "      <td>False</td>\n",
       "      <td>False</td>\n",
       "      <td>False</td>\n",
       "      <td>False</td>\n",
       "      <td>False</td>\n",
       "      <td>False</td>\n",
       "      <td>False</td>\n",
       "      <td>False</td>\n",
       "      <td>False</td>\n",
       "      <td>False</td>\n",
       "      <td>False</td>\n",
       "      <td>False</td>\n",
       "      <td>False</td>\n",
       "      <td>False</td>\n",
       "      <td>False</td>\n",
       "      <td>False</td>\n",
       "      <td>False</td>\n",
       "    </tr>\n",
       "    <tr>\n",
       "      <th>3</th>\n",
       "      <td>False</td>\n",
       "      <td>False</td>\n",
       "      <td>False</td>\n",
       "      <td>False</td>\n",
       "      <td>False</td>\n",
       "      <td>False</td>\n",
       "      <td>False</td>\n",
       "      <td>False</td>\n",
       "      <td>False</td>\n",
       "      <td>False</td>\n",
       "      <td>False</td>\n",
       "      <td>False</td>\n",
       "      <td>False</td>\n",
       "      <td>False</td>\n",
       "      <td>False</td>\n",
       "      <td>False</td>\n",
       "      <td>False</td>\n",
       "    </tr>\n",
       "    <tr>\n",
       "      <th>4</th>\n",
       "      <td>False</td>\n",
       "      <td>False</td>\n",
       "      <td>False</td>\n",
       "      <td>False</td>\n",
       "      <td>False</td>\n",
       "      <td>False</td>\n",
       "      <td>False</td>\n",
       "      <td>False</td>\n",
       "      <td>False</td>\n",
       "      <td>False</td>\n",
       "      <td>False</td>\n",
       "      <td>False</td>\n",
       "      <td>False</td>\n",
       "      <td>False</td>\n",
       "      <td>False</td>\n",
       "      <td>False</td>\n",
       "      <td>False</td>\n",
       "    </tr>\n",
       "    <tr>\n",
       "      <th>...</th>\n",
       "      <td>...</td>\n",
       "      <td>...</td>\n",
       "      <td>...</td>\n",
       "      <td>...</td>\n",
       "      <td>...</td>\n",
       "      <td>...</td>\n",
       "      <td>...</td>\n",
       "      <td>...</td>\n",
       "      <td>...</td>\n",
       "      <td>...</td>\n",
       "      <td>...</td>\n",
       "      <td>...</td>\n",
       "      <td>...</td>\n",
       "      <td>...</td>\n",
       "      <td>...</td>\n",
       "      <td>...</td>\n",
       "      <td>...</td>\n",
       "    </tr>\n",
       "    <tr>\n",
       "      <th>460</th>\n",
       "      <td>False</td>\n",
       "      <td>False</td>\n",
       "      <td>False</td>\n",
       "      <td>False</td>\n",
       "      <td>False</td>\n",
       "      <td>False</td>\n",
       "      <td>False</td>\n",
       "      <td>False</td>\n",
       "      <td>False</td>\n",
       "      <td>False</td>\n",
       "      <td>False</td>\n",
       "      <td>False</td>\n",
       "      <td>False</td>\n",
       "      <td>False</td>\n",
       "      <td>False</td>\n",
       "      <td>False</td>\n",
       "      <td>False</td>\n",
       "    </tr>\n",
       "    <tr>\n",
       "      <th>461</th>\n",
       "      <td>False</td>\n",
       "      <td>False</td>\n",
       "      <td>False</td>\n",
       "      <td>False</td>\n",
       "      <td>False</td>\n",
       "      <td>False</td>\n",
       "      <td>False</td>\n",
       "      <td>False</td>\n",
       "      <td>False</td>\n",
       "      <td>False</td>\n",
       "      <td>False</td>\n",
       "      <td>False</td>\n",
       "      <td>False</td>\n",
       "      <td>False</td>\n",
       "      <td>False</td>\n",
       "      <td>False</td>\n",
       "      <td>False</td>\n",
       "    </tr>\n",
       "    <tr>\n",
       "      <th>462</th>\n",
       "      <td>False</td>\n",
       "      <td>False</td>\n",
       "      <td>False</td>\n",
       "      <td>False</td>\n",
       "      <td>False</td>\n",
       "      <td>False</td>\n",
       "      <td>False</td>\n",
       "      <td>False</td>\n",
       "      <td>False</td>\n",
       "      <td>False</td>\n",
       "      <td>False</td>\n",
       "      <td>False</td>\n",
       "      <td>False</td>\n",
       "      <td>False</td>\n",
       "      <td>False</td>\n",
       "      <td>False</td>\n",
       "      <td>False</td>\n",
       "    </tr>\n",
       "    <tr>\n",
       "      <th>463</th>\n",
       "      <td>False</td>\n",
       "      <td>False</td>\n",
       "      <td>False</td>\n",
       "      <td>False</td>\n",
       "      <td>False</td>\n",
       "      <td>False</td>\n",
       "      <td>False</td>\n",
       "      <td>False</td>\n",
       "      <td>False</td>\n",
       "      <td>False</td>\n",
       "      <td>False</td>\n",
       "      <td>False</td>\n",
       "      <td>False</td>\n",
       "      <td>False</td>\n",
       "      <td>False</td>\n",
       "      <td>False</td>\n",
       "      <td>False</td>\n",
       "    </tr>\n",
       "    <tr>\n",
       "      <th>464</th>\n",
       "      <td>False</td>\n",
       "      <td>False</td>\n",
       "      <td>False</td>\n",
       "      <td>False</td>\n",
       "      <td>False</td>\n",
       "      <td>False</td>\n",
       "      <td>False</td>\n",
       "      <td>False</td>\n",
       "      <td>False</td>\n",
       "      <td>False</td>\n",
       "      <td>False</td>\n",
       "      <td>False</td>\n",
       "      <td>False</td>\n",
       "      <td>False</td>\n",
       "      <td>False</td>\n",
       "      <td>False</td>\n",
       "      <td>False</td>\n",
       "    </tr>\n",
       "  </tbody>\n",
       "</table>\n",
       "<p>465 rows × 17 columns</p>\n",
       "</div>"
      ],
      "text/plain": [
       "      name   club    age  position  ...  age_cat  club_id  big_club  new_signing\n",
       "0    False  False  False     False  ...    False    False     False        False\n",
       "1    False  False  False     False  ...    False    False     False        False\n",
       "2    False  False  False     False  ...    False    False     False        False\n",
       "3    False  False  False     False  ...    False    False     False        False\n",
       "4    False  False  False     False  ...    False    False     False        False\n",
       "..     ...    ...    ...       ...  ...      ...      ...       ...          ...\n",
       "460  False  False  False     False  ...    False    False     False        False\n",
       "461  False  False  False     False  ...    False    False     False        False\n",
       "462  False  False  False     False  ...    False    False     False        False\n",
       "463  False  False  False     False  ...    False    False     False        False\n",
       "464  False  False  False     False  ...    False    False     False        False\n",
       "\n",
       "[465 rows x 17 columns]"
      ]
     },
     "execution_count": 215,
     "metadata": {
      "tags": []
     },
     "output_type": "execute_result"
    }
   ],
   "source": [
    "players.isna()"
   ]
  },
  {
   "cell_type": "code",
   "execution_count": 0,
   "metadata": {
    "colab": {},
    "colab_type": "code",
    "id": "5RmlpevGZVkD"
   },
   "outputs": [],
   "source": [
    "# how many NAs are there in this dataframe?"
   ]
  },
  {
   "cell_type": "code",
   "execution_count": 217,
   "metadata": {
    "colab": {
     "base_uri": "https://localhost:8080/",
     "height": 0
    },
    "colab_type": "code",
    "id": "9xhaaVsZZebl",
    "outputId": "3aef1739-5d34-4d69-8ec8-88f8e246f0fd"
   },
   "outputs": [
    {
     "data": {
      "text/plain": [
       "4"
      ]
     },
     "execution_count": 217,
     "metadata": {
      "tags": []
     },
     "output_type": "execute_result"
    }
   ],
   "source": [
    "np.count_nonzero(players.isna())"
   ]
  },
  {
   "cell_type": "code",
   "execution_count": 0,
   "metadata": {
    "colab": {},
    "colab_type": "code",
    "id": "GK74dqCjZgnO"
   },
   "outputs": [],
   "source": [
    "# which records have NAs in this dataframe?"
   ]
  },
  {
   "cell_type": "code",
   "execution_count": 219,
   "metadata": {
    "colab": {
     "base_uri": "https://localhost:8080/",
     "height": 0
    },
    "colab_type": "code",
    "id": "hTn5JVENZpuO",
    "outputId": "e976b943-f78a-4234-bcb5-7b8ab8ef1c64"
   },
   "outputs": [
    {
     "data": {
      "text/html": [
       "<div>\n",
       "<style scoped>\n",
       "    .dataframe tbody tr th:only-of-type {\n",
       "        vertical-align: middle;\n",
       "    }\n",
       "\n",
       "    .dataframe tbody tr th {\n",
       "        vertical-align: top;\n",
       "    }\n",
       "\n",
       "    .dataframe thead th {\n",
       "        text-align: right;\n",
       "    }\n",
       "</style>\n",
       "<table border=\"1\" class=\"dataframe\">\n",
       "  <thead>\n",
       "    <tr style=\"text-align: right;\">\n",
       "      <th></th>\n",
       "      <th>name</th>\n",
       "      <th>club</th>\n",
       "      <th>age</th>\n",
       "      <th>position</th>\n",
       "      <th>position_cat</th>\n",
       "      <th>market_value</th>\n",
       "      <th>page_views</th>\n",
       "      <th>fpl_value</th>\n",
       "      <th>fpl_sel</th>\n",
       "      <th>fpl_points</th>\n",
       "      <th>region</th>\n",
       "      <th>nationality</th>\n",
       "      <th>new_foreign</th>\n",
       "      <th>age_cat</th>\n",
       "      <th>club_id</th>\n",
       "      <th>big_club</th>\n",
       "      <th>new_signing</th>\n",
       "    </tr>\n",
       "  </thead>\n",
       "  <tbody>\n",
       "    <tr>\n",
       "      <th>30</th>\n",
       "      <td>Granit Xhaka</td>\n",
       "      <td>Arsenal</td>\n",
       "      <td>24</td>\n",
       "      <td>NaN</td>\n",
       "      <td>2</td>\n",
       "      <td>NaN</td>\n",
       "      <td>1815</td>\n",
       "      <td>5.5</td>\n",
       "      <td>2.00%</td>\n",
       "      <td>85</td>\n",
       "      <td>2</td>\n",
       "      <td>Switzerland</td>\n",
       "      <td>0</td>\n",
       "      <td>2</td>\n",
       "      <td>1</td>\n",
       "      <td>1</td>\n",
       "      <td>0</td>\n",
       "    </tr>\n",
       "    <tr>\n",
       "      <th>192</th>\n",
       "      <td>Steve Mounie</td>\n",
       "      <td>Huddersfield</td>\n",
       "      <td>22</td>\n",
       "      <td>CF</td>\n",
       "      <td>1</td>\n",
       "      <td>NaN</td>\n",
       "      <td>56</td>\n",
       "      <td>6.0</td>\n",
       "      <td>0.60%</td>\n",
       "      <td>0</td>\n",
       "      <td>2</td>\n",
       "      <td>Benin</td>\n",
       "      <td>0</td>\n",
       "      <td>2</td>\n",
       "      <td>8</td>\n",
       "      <td>0</td>\n",
       "      <td>0</td>\n",
       "    </tr>\n",
       "    <tr>\n",
       "      <th>195</th>\n",
       "      <td>Kasper Schmeichel</td>\n",
       "      <td>Leicester+City</td>\n",
       "      <td>30</td>\n",
       "      <td>GK</td>\n",
       "      <td>4</td>\n",
       "      <td>NaN</td>\n",
       "      <td>1601</td>\n",
       "      <td>5.0</td>\n",
       "      <td>2.40%</td>\n",
       "      <td>109</td>\n",
       "      <td>2</td>\n",
       "      <td>Denmark</td>\n",
       "      <td>0</td>\n",
       "      <td>4</td>\n",
       "      <td>9</td>\n",
       "      <td>0</td>\n",
       "      <td>0</td>\n",
       "    </tr>\n",
       "  </tbody>\n",
       "</table>\n",
       "</div>"
      ],
      "text/plain": [
       "                  name            club  age  ... club_id  big_club  new_signing\n",
       "30        Granit Xhaka         Arsenal   24  ...       1         1            0\n",
       "192       Steve Mounie    Huddersfield   22  ...       8         0            0\n",
       "195  Kasper Schmeichel  Leicester+City   30  ...       9         0            0\n",
       "\n",
       "[3 rows x 17 columns]"
      ]
     },
     "execution_count": 219,
     "metadata": {
      "tags": []
     },
     "output_type": "execute_result"
    }
   ],
   "source": [
    "players[players.isna().values].drop_duplicates()"
   ]
  },
  {
   "cell_type": "markdown",
   "metadata": {
    "colab_type": "text",
    "id": "qW9xrpfgZ0l0"
   },
   "source": [
    "#### Dropping And Filling DataFrame NAs"
   ]
  },
  {
   "cell_type": "code",
   "execution_count": 220,
   "metadata": {
    "colab": {
     "base_uri": "https://localhost:8080/",
     "height": 0
    },
    "colab_type": "code",
    "id": "UodHIfCMfbIy",
    "outputId": "aa121ce3-763a-4f9a-9d05-8b3d7cb71229"
   },
   "outputs": [
    {
     "data": {
      "text/html": [
       "<div>\n",
       "<style scoped>\n",
       "    .dataframe tbody tr th:only-of-type {\n",
       "        vertical-align: middle;\n",
       "    }\n",
       "\n",
       "    .dataframe tbody tr th {\n",
       "        vertical-align: top;\n",
       "    }\n",
       "\n",
       "    .dataframe thead th {\n",
       "        text-align: right;\n",
       "    }\n",
       "</style>\n",
       "<table border=\"1\" class=\"dataframe\">\n",
       "  <thead>\n",
       "    <tr style=\"text-align: right;\">\n",
       "      <th></th>\n",
       "      <th>name</th>\n",
       "      <th>club</th>\n",
       "      <th>age</th>\n",
       "      <th>position</th>\n",
       "      <th>position_cat</th>\n",
       "      <th>market_value</th>\n",
       "      <th>page_views</th>\n",
       "      <th>fpl_value</th>\n",
       "      <th>fpl_sel</th>\n",
       "      <th>fpl_points</th>\n",
       "      <th>region</th>\n",
       "      <th>nationality</th>\n",
       "      <th>new_foreign</th>\n",
       "      <th>age_cat</th>\n",
       "      <th>club_id</th>\n",
       "      <th>big_club</th>\n",
       "      <th>new_signing</th>\n",
       "    </tr>\n",
       "  </thead>\n",
       "  <tbody>\n",
       "    <tr>\n",
       "      <th>30</th>\n",
       "      <td>Granit Xhaka</td>\n",
       "      <td>Arsenal</td>\n",
       "      <td>24</td>\n",
       "      <td>some meaningful replacement value</td>\n",
       "      <td>2</td>\n",
       "      <td>some meaningful replacement value</td>\n",
       "      <td>1815</td>\n",
       "      <td>5.5</td>\n",
       "      <td>2.00%</td>\n",
       "      <td>85</td>\n",
       "      <td>2</td>\n",
       "      <td>Switzerland</td>\n",
       "      <td>0</td>\n",
       "      <td>2</td>\n",
       "      <td>1</td>\n",
       "      <td>1</td>\n",
       "      <td>0</td>\n",
       "    </tr>\n",
       "    <tr>\n",
       "      <th>192</th>\n",
       "      <td>Steve Mounie</td>\n",
       "      <td>Huddersfield</td>\n",
       "      <td>22</td>\n",
       "      <td>CF</td>\n",
       "      <td>1</td>\n",
       "      <td>some meaningful replacement value</td>\n",
       "      <td>56</td>\n",
       "      <td>6.0</td>\n",
       "      <td>0.60%</td>\n",
       "      <td>0</td>\n",
       "      <td>2</td>\n",
       "      <td>Benin</td>\n",
       "      <td>0</td>\n",
       "      <td>2</td>\n",
       "      <td>8</td>\n",
       "      <td>0</td>\n",
       "      <td>0</td>\n",
       "    </tr>\n",
       "    <tr>\n",
       "      <th>195</th>\n",
       "      <td>Kasper Schmeichel</td>\n",
       "      <td>Leicester+City</td>\n",
       "      <td>30</td>\n",
       "      <td>GK</td>\n",
       "      <td>4</td>\n",
       "      <td>some meaningful replacement value</td>\n",
       "      <td>1601</td>\n",
       "      <td>5.0</td>\n",
       "      <td>2.40%</td>\n",
       "      <td>109</td>\n",
       "      <td>2</td>\n",
       "      <td>Denmark</td>\n",
       "      <td>0</td>\n",
       "      <td>4</td>\n",
       "      <td>9</td>\n",
       "      <td>0</td>\n",
       "      <td>0</td>\n",
       "    </tr>\n",
       "  </tbody>\n",
       "</table>\n",
       "</div>"
      ],
      "text/plain": [
       "                  name            club  age  ... club_id  big_club new_signing\n",
       "30        Granit Xhaka         Arsenal   24  ...       1         1           0\n",
       "192       Steve Mounie    Huddersfield   22  ...       8         0           0\n",
       "195  Kasper Schmeichel  Leicester+City   30  ...       9         0           0\n",
       "\n",
       "[3 rows x 17 columns]"
      ]
     },
     "execution_count": 220,
     "metadata": {
      "tags": []
     },
     "output_type": "execute_result"
    }
   ],
   "source": [
    "players.fillna('some meaningful replacement value').loc[[30, 192, 195]]"
   ]
  },
  {
   "cell_type": "code",
   "execution_count": 221,
   "metadata": {
    "colab": {
     "base_uri": "https://localhost:8080/",
     "height": 0
    },
    "colab_type": "code",
    "id": "lQJipNt0erVf",
    "outputId": "4f0611e7-588a-4f52-a5ef-83897d9a6d3b"
   },
   "outputs": [
    {
     "data": {
      "text/html": [
       "<div>\n",
       "<style scoped>\n",
       "    .dataframe tbody tr th:only-of-type {\n",
       "        vertical-align: middle;\n",
       "    }\n",
       "\n",
       "    .dataframe tbody tr th {\n",
       "        vertical-align: top;\n",
       "    }\n",
       "\n",
       "    .dataframe thead th {\n",
       "        text-align: right;\n",
       "    }\n",
       "</style>\n",
       "<table border=\"1\" class=\"dataframe\">\n",
       "  <thead>\n",
       "    <tr style=\"text-align: right;\">\n",
       "      <th></th>\n",
       "      <th>name</th>\n",
       "      <th>club</th>\n",
       "      <th>age</th>\n",
       "      <th>position</th>\n",
       "      <th>position_cat</th>\n",
       "      <th>market_value</th>\n",
       "      <th>page_views</th>\n",
       "      <th>fpl_value</th>\n",
       "      <th>fpl_sel</th>\n",
       "      <th>fpl_points</th>\n",
       "      <th>region</th>\n",
       "      <th>nationality</th>\n",
       "      <th>new_foreign</th>\n",
       "      <th>age_cat</th>\n",
       "      <th>club_id</th>\n",
       "      <th>big_club</th>\n",
       "      <th>new_signing</th>\n",
       "    </tr>\n",
       "  </thead>\n",
       "  <tbody>\n",
       "    <tr>\n",
       "      <th>30</th>\n",
       "      <td>Granit Xhaka</td>\n",
       "      <td>Arsenal</td>\n",
       "      <td>24</td>\n",
       "      <td>RM</td>\n",
       "      <td>2</td>\n",
       "      <td>100.0</td>\n",
       "      <td>1815</td>\n",
       "      <td>5.5</td>\n",
       "      <td>2.00%</td>\n",
       "      <td>85</td>\n",
       "      <td>2</td>\n",
       "      <td>Switzerland</td>\n",
       "      <td>0</td>\n",
       "      <td>2</td>\n",
       "      <td>1</td>\n",
       "      <td>1</td>\n",
       "      <td>0</td>\n",
       "    </tr>\n",
       "    <tr>\n",
       "      <th>192</th>\n",
       "      <td>Steve Mounie</td>\n",
       "      <td>Huddersfield</td>\n",
       "      <td>22</td>\n",
       "      <td>CF</td>\n",
       "      <td>1</td>\n",
       "      <td>100.0</td>\n",
       "      <td>56</td>\n",
       "      <td>6.0</td>\n",
       "      <td>0.60%</td>\n",
       "      <td>0</td>\n",
       "      <td>2</td>\n",
       "      <td>Benin</td>\n",
       "      <td>0</td>\n",
       "      <td>2</td>\n",
       "      <td>8</td>\n",
       "      <td>0</td>\n",
       "      <td>0</td>\n",
       "    </tr>\n",
       "    <tr>\n",
       "      <th>195</th>\n",
       "      <td>Kasper Schmeichel</td>\n",
       "      <td>Leicester+City</td>\n",
       "      <td>30</td>\n",
       "      <td>GK</td>\n",
       "      <td>4</td>\n",
       "      <td>100.0</td>\n",
       "      <td>1601</td>\n",
       "      <td>5.0</td>\n",
       "      <td>2.40%</td>\n",
       "      <td>109</td>\n",
       "      <td>2</td>\n",
       "      <td>Denmark</td>\n",
       "      <td>0</td>\n",
       "      <td>4</td>\n",
       "      <td>9</td>\n",
       "      <td>0</td>\n",
       "      <td>0</td>\n",
       "    </tr>\n",
       "  </tbody>\n",
       "</table>\n",
       "</div>"
      ],
      "text/plain": [
       "                  name            club  age  ... club_id  big_club  new_signing\n",
       "30        Granit Xhaka         Arsenal   24  ...       1         1            0\n",
       "192       Steve Mounie    Huddersfield   22  ...       8         0            0\n",
       "195  Kasper Schmeichel  Leicester+City   30  ...       9         0            0\n",
       "\n",
       "[3 rows x 17 columns]"
      ]
     },
     "execution_count": 221,
     "metadata": {
      "tags": []
     },
     "output_type": "execute_result"
    }
   ],
   "source": [
    "players.fillna({\n",
    "    'market_value': 100,\n",
    "    'position': 'RM'\n",
    "}).loc[[30, 192, 195]]"
   ]
  },
  {
   "cell_type": "code",
   "execution_count": 222,
   "metadata": {
    "colab": {
     "base_uri": "https://localhost:8080/",
     "height": 0
    },
    "colab_type": "code",
    "id": "3wzh7_ZmerCf",
    "outputId": "ee3d3d73-b397-4ff0-ab92-8d28c8de58db"
   },
   "outputs": [
    {
     "data": {
      "text/plain": [
       "array(['LW', 'AM', 'GK', 'RW', 'CB', 'RB', 'CF', 'LB', 'DM', 'RM', 'CM',\n",
       "       nan, 'SS', 'LM'], dtype=object)"
      ]
     },
     "execution_count": 222,
     "metadata": {
      "tags": []
     },
     "output_type": "execute_result"
    }
   ],
   "source": [
    "players.position.unique()"
   ]
  },
  {
   "cell_type": "code",
   "execution_count": 223,
   "metadata": {
    "colab": {
     "base_uri": "https://localhost:8080/",
     "height": 0
    },
    "colab_type": "code",
    "id": "reyNS0pgeqsW",
    "outputId": "6ac5843f-3bed-43fa-e12b-8ae9cb5cd94a"
   },
   "outputs": [
    {
     "data": {
      "text/html": [
       "<div>\n",
       "<style scoped>\n",
       "    .dataframe tbody tr th:only-of-type {\n",
       "        vertical-align: middle;\n",
       "    }\n",
       "\n",
       "    .dataframe tbody tr th {\n",
       "        vertical-align: top;\n",
       "    }\n",
       "\n",
       "    .dataframe thead th {\n",
       "        text-align: right;\n",
       "    }\n",
       "</style>\n",
       "<table border=\"1\" class=\"dataframe\">\n",
       "  <thead>\n",
       "    <tr style=\"text-align: right;\">\n",
       "      <th></th>\n",
       "      <th>name</th>\n",
       "      <th>club</th>\n",
       "      <th>age</th>\n",
       "      <th>position</th>\n",
       "      <th>position_cat</th>\n",
       "      <th>market_value</th>\n",
       "      <th>page_views</th>\n",
       "      <th>fpl_value</th>\n",
       "      <th>fpl_sel</th>\n",
       "      <th>fpl_points</th>\n",
       "      <th>region</th>\n",
       "      <th>nationality</th>\n",
       "      <th>new_foreign</th>\n",
       "      <th>age_cat</th>\n",
       "      <th>club_id</th>\n",
       "      <th>big_club</th>\n",
       "      <th>new_signing</th>\n",
       "    </tr>\n",
       "  </thead>\n",
       "  <tbody>\n",
       "    <tr>\n",
       "      <th>30</th>\n",
       "      <td>Granit Xhaka</td>\n",
       "      <td>Arsenal</td>\n",
       "      <td>24</td>\n",
       "      <td>RM</td>\n",
       "      <td>2</td>\n",
       "      <td>11.125649</td>\n",
       "      <td>1815</td>\n",
       "      <td>5.5</td>\n",
       "      <td>2.00%</td>\n",
       "      <td>85</td>\n",
       "      <td>2</td>\n",
       "      <td>Switzerland</td>\n",
       "      <td>0</td>\n",
       "      <td>2</td>\n",
       "      <td>1</td>\n",
       "      <td>1</td>\n",
       "      <td>0</td>\n",
       "    </tr>\n",
       "    <tr>\n",
       "      <th>192</th>\n",
       "      <td>Steve Mounie</td>\n",
       "      <td>Huddersfield</td>\n",
       "      <td>22</td>\n",
       "      <td>CF</td>\n",
       "      <td>1</td>\n",
       "      <td>11.125649</td>\n",
       "      <td>56</td>\n",
       "      <td>6.0</td>\n",
       "      <td>0.60%</td>\n",
       "      <td>0</td>\n",
       "      <td>2</td>\n",
       "      <td>Benin</td>\n",
       "      <td>0</td>\n",
       "      <td>2</td>\n",
       "      <td>8</td>\n",
       "      <td>0</td>\n",
       "      <td>0</td>\n",
       "    </tr>\n",
       "    <tr>\n",
       "      <th>195</th>\n",
       "      <td>Kasper Schmeichel</td>\n",
       "      <td>Leicester+City</td>\n",
       "      <td>30</td>\n",
       "      <td>GK</td>\n",
       "      <td>4</td>\n",
       "      <td>11.125649</td>\n",
       "      <td>1601</td>\n",
       "      <td>5.0</td>\n",
       "      <td>2.40%</td>\n",
       "      <td>109</td>\n",
       "      <td>2</td>\n",
       "      <td>Denmark</td>\n",
       "      <td>0</td>\n",
       "      <td>4</td>\n",
       "      <td>9</td>\n",
       "      <td>0</td>\n",
       "      <td>0</td>\n",
       "    </tr>\n",
       "  </tbody>\n",
       "</table>\n",
       "</div>"
      ],
      "text/plain": [
       "                  name            club  age  ... club_id  big_club  new_signing\n",
       "30        Granit Xhaka         Arsenal   24  ...       1         1            0\n",
       "192       Steve Mounie    Huddersfield   22  ...       8         0            0\n",
       "195  Kasper Schmeichel  Leicester+City   30  ...       9         0            0\n",
       "\n",
       "[3 rows x 17 columns]"
      ]
     },
     "execution_count": 223,
     "metadata": {
      "tags": []
     },
     "output_type": "execute_result"
    }
   ],
   "source": [
    "players.fillna({\n",
    "    'market_value': players.market_value.mean(),\n",
    "    'position': 'RM'\n",
    "}).loc[[30, 192, 195]]"
   ]
  },
  {
   "cell_type": "code",
   "execution_count": 0,
   "metadata": {
    "colab": {},
    "colab_type": "code",
    "id": "1yDEUeaxeqA3"
   },
   "outputs": [],
   "source": [
    "# how about dropping nulls?"
   ]
  },
  {
   "cell_type": "code",
   "execution_count": 225,
   "metadata": {
    "colab": {
     "base_uri": "https://localhost:8080/",
     "height": 0
    },
    "colab_type": "code",
    "id": "xlINqFD4dp7h",
    "outputId": "204a045f-48de-4b90-8237-15552b8a10e0"
   },
   "outputs": [
    {
     "data": {
      "text/html": [
       "<div>\n",
       "<style scoped>\n",
       "    .dataframe tbody tr th:only-of-type {\n",
       "        vertical-align: middle;\n",
       "    }\n",
       "\n",
       "    .dataframe tbody tr th {\n",
       "        vertical-align: top;\n",
       "    }\n",
       "\n",
       "    .dataframe thead th {\n",
       "        text-align: right;\n",
       "    }\n",
       "</style>\n",
       "<table border=\"1\" class=\"dataframe\">\n",
       "  <thead>\n",
       "    <tr style=\"text-align: right;\">\n",
       "      <th></th>\n",
       "      <th>name</th>\n",
       "      <th>club</th>\n",
       "      <th>age</th>\n",
       "      <th>position</th>\n",
       "      <th>position_cat</th>\n",
       "      <th>market_value</th>\n",
       "      <th>page_views</th>\n",
       "      <th>fpl_value</th>\n",
       "      <th>fpl_sel</th>\n",
       "      <th>fpl_points</th>\n",
       "      <th>region</th>\n",
       "      <th>nationality</th>\n",
       "      <th>new_foreign</th>\n",
       "      <th>age_cat</th>\n",
       "      <th>club_id</th>\n",
       "      <th>big_club</th>\n",
       "      <th>new_signing</th>\n",
       "    </tr>\n",
       "  </thead>\n",
       "  <tbody>\n",
       "    <tr>\n",
       "      <th>30</th>\n",
       "      <td>Granit Xhaka</td>\n",
       "      <td>Arsenal</td>\n",
       "      <td>24</td>\n",
       "      <td>NaN</td>\n",
       "      <td>2</td>\n",
       "      <td>NaN</td>\n",
       "      <td>1815</td>\n",
       "      <td>5.5</td>\n",
       "      <td>2.00%</td>\n",
       "      <td>85</td>\n",
       "      <td>2</td>\n",
       "      <td>Switzerland</td>\n",
       "      <td>0</td>\n",
       "      <td>2</td>\n",
       "      <td>1</td>\n",
       "      <td>1</td>\n",
       "      <td>0</td>\n",
       "    </tr>\n",
       "    <tr>\n",
       "      <th>192</th>\n",
       "      <td>Steve Mounie</td>\n",
       "      <td>Huddersfield</td>\n",
       "      <td>22</td>\n",
       "      <td>CF</td>\n",
       "      <td>1</td>\n",
       "      <td>NaN</td>\n",
       "      <td>56</td>\n",
       "      <td>6.0</td>\n",
       "      <td>0.60%</td>\n",
       "      <td>0</td>\n",
       "      <td>2</td>\n",
       "      <td>Benin</td>\n",
       "      <td>0</td>\n",
       "      <td>2</td>\n",
       "      <td>8</td>\n",
       "      <td>0</td>\n",
       "      <td>0</td>\n",
       "    </tr>\n",
       "    <tr>\n",
       "      <th>195</th>\n",
       "      <td>Kasper Schmeichel</td>\n",
       "      <td>Leicester+City</td>\n",
       "      <td>30</td>\n",
       "      <td>GK</td>\n",
       "      <td>4</td>\n",
       "      <td>NaN</td>\n",
       "      <td>1601</td>\n",
       "      <td>5.0</td>\n",
       "      <td>2.40%</td>\n",
       "      <td>109</td>\n",
       "      <td>2</td>\n",
       "      <td>Denmark</td>\n",
       "      <td>0</td>\n",
       "      <td>4</td>\n",
       "      <td>9</td>\n",
       "      <td>0</td>\n",
       "      <td>0</td>\n",
       "    </tr>\n",
       "  </tbody>\n",
       "</table>\n",
       "</div>"
      ],
      "text/plain": [
       "                  name            club  age  ... club_id  big_club  new_signing\n",
       "30        Granit Xhaka         Arsenal   24  ...       1         1            0\n",
       "192       Steve Mounie    Huddersfield   22  ...       8         0            0\n",
       "195  Kasper Schmeichel  Leicester+City   30  ...       9         0            0\n",
       "\n",
       "[3 rows x 17 columns]"
      ]
     },
     "execution_count": 225,
     "metadata": {
      "tags": []
     },
     "output_type": "execute_result"
    }
   ],
   "source": [
    "players.dropna(axis=1, how='all').loc[[30, 192, 195]]"
   ]
  },
  {
   "cell_type": "markdown",
   "metadata": {
    "colab_type": "text",
    "id": "bKCFbFIEgpgA"
   },
   "source": [
    "#### BONUS - Method And Axes With fillna()"
   ]
  },
  {
   "cell_type": "code",
   "execution_count": 226,
   "metadata": {
    "colab": {
     "base_uri": "https://localhost:8080/",
     "height": 0
    },
    "colab_type": "code",
    "id": "ftFa7ttmh5YO",
    "outputId": "e1f022a5-e8b2-44bc-840e-172f1c355c23"
   },
   "outputs": [
    {
     "data": {
      "text/html": [
       "<div>\n",
       "<style scoped>\n",
       "    .dataframe tbody tr th:only-of-type {\n",
       "        vertical-align: middle;\n",
       "    }\n",
       "\n",
       "    .dataframe tbody tr th {\n",
       "        vertical-align: top;\n",
       "    }\n",
       "\n",
       "    .dataframe thead th {\n",
       "        text-align: right;\n",
       "    }\n",
       "</style>\n",
       "<table border=\"1\" class=\"dataframe\">\n",
       "  <thead>\n",
       "    <tr style=\"text-align: right;\">\n",
       "      <th></th>\n",
       "      <th>name</th>\n",
       "      <th>club</th>\n",
       "      <th>age</th>\n",
       "      <th>position</th>\n",
       "      <th>position_cat</th>\n",
       "      <th>market_value</th>\n",
       "      <th>page_views</th>\n",
       "      <th>fpl_value</th>\n",
       "      <th>fpl_sel</th>\n",
       "      <th>fpl_points</th>\n",
       "      <th>region</th>\n",
       "      <th>nationality</th>\n",
       "      <th>new_foreign</th>\n",
       "      <th>age_cat</th>\n",
       "      <th>club_id</th>\n",
       "      <th>big_club</th>\n",
       "      <th>new_signing</th>\n",
       "    </tr>\n",
       "  </thead>\n",
       "  <tbody>\n",
       "    <tr>\n",
       "      <th>30</th>\n",
       "      <td>Granit Xhaka</td>\n",
       "      <td>Arsenal</td>\n",
       "      <td>24</td>\n",
       "      <td>NaN</td>\n",
       "      <td>2</td>\n",
       "      <td>NaN</td>\n",
       "      <td>1815</td>\n",
       "      <td>5.5</td>\n",
       "      <td>2.00%</td>\n",
       "      <td>85</td>\n",
       "      <td>2</td>\n",
       "      <td>Switzerland</td>\n",
       "      <td>0</td>\n",
       "      <td>2</td>\n",
       "      <td>1</td>\n",
       "      <td>1</td>\n",
       "      <td>0</td>\n",
       "    </tr>\n",
       "    <tr>\n",
       "      <th>192</th>\n",
       "      <td>Steve Mounie</td>\n",
       "      <td>Huddersfield</td>\n",
       "      <td>22</td>\n",
       "      <td>CF</td>\n",
       "      <td>1</td>\n",
       "      <td>NaN</td>\n",
       "      <td>56</td>\n",
       "      <td>6.0</td>\n",
       "      <td>0.60%</td>\n",
       "      <td>0</td>\n",
       "      <td>2</td>\n",
       "      <td>Benin</td>\n",
       "      <td>0</td>\n",
       "      <td>2</td>\n",
       "      <td>8</td>\n",
       "      <td>0</td>\n",
       "      <td>0</td>\n",
       "    </tr>\n",
       "    <tr>\n",
       "      <th>195</th>\n",
       "      <td>Kasper Schmeichel</td>\n",
       "      <td>Leicester+City</td>\n",
       "      <td>30</td>\n",
       "      <td>GK</td>\n",
       "      <td>4</td>\n",
       "      <td>NaN</td>\n",
       "      <td>1601</td>\n",
       "      <td>5.0</td>\n",
       "      <td>2.40%</td>\n",
       "      <td>109</td>\n",
       "      <td>2</td>\n",
       "      <td>Denmark</td>\n",
       "      <td>0</td>\n",
       "      <td>4</td>\n",
       "      <td>9</td>\n",
       "      <td>0</td>\n",
       "      <td>0</td>\n",
       "    </tr>\n",
       "  </tbody>\n",
       "</table>\n",
       "</div>"
      ],
      "text/plain": [
       "                  name            club  age  ... club_id  big_club  new_signing\n",
       "30        Granit Xhaka         Arsenal   24  ...       1         1            0\n",
       "192       Steve Mounie    Huddersfield   22  ...       8         0            0\n",
       "195  Kasper Schmeichel  Leicester+City   30  ...       9         0            0\n",
       "\n",
       "[3 rows x 17 columns]"
      ]
     },
     "execution_count": 226,
     "metadata": {
      "tags": []
     },
     "output_type": "execute_result"
    }
   ],
   "source": [
    "players[players.isna().values].drop_duplicates()"
   ]
  },
  {
   "cell_type": "code",
   "execution_count": 0,
   "metadata": {
    "colab": {},
    "colab_type": "code",
    "id": "Fc_i1gYPh4Nu"
   },
   "outputs": [],
   "source": [
    "# players.fillna('some meaningful replacement value').loc[[30, 192, 195]]\n",
    "\n",
    "# players.fillna({ 'market_value': 100, 'position': 'RM' }).loc[[30, 192, 195]]"
   ]
  },
  {
   "cell_type": "code",
   "execution_count": 228,
   "metadata": {
    "colab": {
     "base_uri": "https://localhost:8080/",
     "height": 0
    },
    "colab_type": "code",
    "id": "fD8T2yhZh1K_",
    "outputId": "ac4549fa-cef6-430f-c1bd-07e39a7005b3"
   },
   "outputs": [
    {
     "data": {
      "text/html": [
       "<div>\n",
       "<style scoped>\n",
       "    .dataframe tbody tr th:only-of-type {\n",
       "        vertical-align: middle;\n",
       "    }\n",
       "\n",
       "    .dataframe tbody tr th {\n",
       "        vertical-align: top;\n",
       "    }\n",
       "\n",
       "    .dataframe thead th {\n",
       "        text-align: right;\n",
       "    }\n",
       "</style>\n",
       "<table border=\"1\" class=\"dataframe\">\n",
       "  <thead>\n",
       "    <tr style=\"text-align: right;\">\n",
       "      <th></th>\n",
       "      <th>name</th>\n",
       "      <th>club</th>\n",
       "      <th>age</th>\n",
       "      <th>position</th>\n",
       "      <th>position_cat</th>\n",
       "      <th>market_value</th>\n",
       "      <th>page_views</th>\n",
       "      <th>fpl_value</th>\n",
       "      <th>fpl_sel</th>\n",
       "      <th>fpl_points</th>\n",
       "      <th>region</th>\n",
       "      <th>nationality</th>\n",
       "      <th>new_foreign</th>\n",
       "      <th>age_cat</th>\n",
       "      <th>club_id</th>\n",
       "      <th>big_club</th>\n",
       "      <th>new_signing</th>\n",
       "    </tr>\n",
       "  </thead>\n",
       "  <tbody>\n",
       "    <tr>\n",
       "      <th>29</th>\n",
       "      <td>Sead Kolasinac</td>\n",
       "      <td>Arsenal</td>\n",
       "      <td>24</td>\n",
       "      <td>LB</td>\n",
       "      <td>3</td>\n",
       "      <td>15.0</td>\n",
       "      <td>618</td>\n",
       "      <td>6.0</td>\n",
       "      <td>6.90%</td>\n",
       "      <td>0</td>\n",
       "      <td>2</td>\n",
       "      <td>Bosnia</td>\n",
       "      <td>1</td>\n",
       "      <td>2</td>\n",
       "      <td>1</td>\n",
       "      <td>1</td>\n",
       "      <td>0</td>\n",
       "    </tr>\n",
       "    <tr>\n",
       "      <th>30</th>\n",
       "      <td>Granit Xhaka</td>\n",
       "      <td>Arsenal</td>\n",
       "      <td>24</td>\n",
       "      <td>LB</td>\n",
       "      <td>2</td>\n",
       "      <td>15.0</td>\n",
       "      <td>1815</td>\n",
       "      <td>5.5</td>\n",
       "      <td>2.00%</td>\n",
       "      <td>85</td>\n",
       "      <td>2</td>\n",
       "      <td>Switzerland</td>\n",
       "      <td>0</td>\n",
       "      <td>2</td>\n",
       "      <td>1</td>\n",
       "      <td>1</td>\n",
       "      <td>0</td>\n",
       "    </tr>\n",
       "    <tr>\n",
       "      <th>191</th>\n",
       "      <td>Laurent Depoitre</td>\n",
       "      <td>Huddersfield</td>\n",
       "      <td>28</td>\n",
       "      <td>CF</td>\n",
       "      <td>1</td>\n",
       "      <td>3.0</td>\n",
       "      <td>212</td>\n",
       "      <td>5.5</td>\n",
       "      <td>0.30%</td>\n",
       "      <td>0</td>\n",
       "      <td>2</td>\n",
       "      <td>Belgium</td>\n",
       "      <td>0</td>\n",
       "      <td>4</td>\n",
       "      <td>8</td>\n",
       "      <td>0</td>\n",
       "      <td>0</td>\n",
       "    </tr>\n",
       "    <tr>\n",
       "      <th>192</th>\n",
       "      <td>Steve Mounie</td>\n",
       "      <td>Huddersfield</td>\n",
       "      <td>22</td>\n",
       "      <td>CF</td>\n",
       "      <td>1</td>\n",
       "      <td>3.0</td>\n",
       "      <td>56</td>\n",
       "      <td>6.0</td>\n",
       "      <td>0.60%</td>\n",
       "      <td>0</td>\n",
       "      <td>2</td>\n",
       "      <td>Benin</td>\n",
       "      <td>0</td>\n",
       "      <td>2</td>\n",
       "      <td>8</td>\n",
       "      <td>0</td>\n",
       "      <td>0</td>\n",
       "    </tr>\n",
       "    <tr>\n",
       "      <th>194</th>\n",
       "      <td>Riyad Mahrez</td>\n",
       "      <td>Leicester+City</td>\n",
       "      <td>26</td>\n",
       "      <td>RW</td>\n",
       "      <td>1</td>\n",
       "      <td>30.0</td>\n",
       "      <td>1753</td>\n",
       "      <td>8.5</td>\n",
       "      <td>1.70%</td>\n",
       "      <td>120</td>\n",
       "      <td>4</td>\n",
       "      <td>Algeria</td>\n",
       "      <td>0</td>\n",
       "      <td>3</td>\n",
       "      <td>9</td>\n",
       "      <td>0</td>\n",
       "      <td>0</td>\n",
       "    </tr>\n",
       "    <tr>\n",
       "      <th>195</th>\n",
       "      <td>Kasper Schmeichel</td>\n",
       "      <td>Leicester+City</td>\n",
       "      <td>30</td>\n",
       "      <td>GK</td>\n",
       "      <td>4</td>\n",
       "      <td>30.0</td>\n",
       "      <td>1601</td>\n",
       "      <td>5.0</td>\n",
       "      <td>2.40%</td>\n",
       "      <td>109</td>\n",
       "      <td>2</td>\n",
       "      <td>Denmark</td>\n",
       "      <td>0</td>\n",
       "      <td>4</td>\n",
       "      <td>9</td>\n",
       "      <td>0</td>\n",
       "      <td>0</td>\n",
       "    </tr>\n",
       "  </tbody>\n",
       "</table>\n",
       "</div>"
      ],
      "text/plain": [
       "                  name            club  age  ... club_id  big_club  new_signing\n",
       "29      Sead Kolasinac         Arsenal   24  ...       1         1            0\n",
       "30        Granit Xhaka         Arsenal   24  ...       1         1            0\n",
       "191   Laurent Depoitre    Huddersfield   28  ...       8         0            0\n",
       "192       Steve Mounie    Huddersfield   22  ...       8         0            0\n",
       "194       Riyad Mahrez  Leicester+City   26  ...       9         0            0\n",
       "195  Kasper Schmeichel  Leicester+City   30  ...       9         0            0\n",
       "\n",
       "[6 rows x 17 columns]"
      ]
     },
     "execution_count": 228,
     "metadata": {
      "tags": []
     },
     "output_type": "execute_result"
    }
   ],
   "source": [
    "players.fillna(method='ffill').loc[[29, 30, 191, 192, 194, 195]]"
   ]
  },
  {
   "cell_type": "code",
   "execution_count": 229,
   "metadata": {
    "colab": {
     "base_uri": "https://localhost:8080/",
     "height": 0
    },
    "colab_type": "code",
    "id": "3am4YHavvua7",
    "outputId": "83ac73d7-3a3f-4629-b0e4-9cf7d3151e18"
   },
   "outputs": [
    {
     "data": {
      "text/html": [
       "<div>\n",
       "<style scoped>\n",
       "    .dataframe tbody tr th:only-of-type {\n",
       "        vertical-align: middle;\n",
       "    }\n",
       "\n",
       "    .dataframe tbody tr th {\n",
       "        vertical-align: top;\n",
       "    }\n",
       "\n",
       "    .dataframe thead th {\n",
       "        text-align: right;\n",
       "    }\n",
       "</style>\n",
       "<table border=\"1\" class=\"dataframe\">\n",
       "  <thead>\n",
       "    <tr style=\"text-align: right;\">\n",
       "      <th></th>\n",
       "      <th>name</th>\n",
       "      <th>club</th>\n",
       "      <th>age</th>\n",
       "      <th>position</th>\n",
       "      <th>position_cat</th>\n",
       "      <th>market_value</th>\n",
       "      <th>page_views</th>\n",
       "      <th>fpl_value</th>\n",
       "      <th>fpl_sel</th>\n",
       "      <th>fpl_points</th>\n",
       "      <th>region</th>\n",
       "      <th>nationality</th>\n",
       "      <th>new_foreign</th>\n",
       "      <th>age_cat</th>\n",
       "      <th>club_id</th>\n",
       "      <th>big_club</th>\n",
       "      <th>new_signing</th>\n",
       "    </tr>\n",
       "  </thead>\n",
       "  <tbody>\n",
       "    <tr>\n",
       "      <th>29</th>\n",
       "      <td>Sead Kolasinac</td>\n",
       "      <td>Arsenal</td>\n",
       "      <td>24</td>\n",
       "      <td>LB</td>\n",
       "      <td>3</td>\n",
       "      <td>15.0</td>\n",
       "      <td>618</td>\n",
       "      <td>6.0</td>\n",
       "      <td>6.90%</td>\n",
       "      <td>0</td>\n",
       "      <td>2</td>\n",
       "      <td>Bosnia</td>\n",
       "      <td>1</td>\n",
       "      <td>2</td>\n",
       "      <td>1</td>\n",
       "      <td>1</td>\n",
       "      <td>0</td>\n",
       "    </tr>\n",
       "    <tr>\n",
       "      <th>30</th>\n",
       "      <td>Granit Xhaka</td>\n",
       "      <td>Arsenal</td>\n",
       "      <td>24</td>\n",
       "      <td>LB</td>\n",
       "      <td>2</td>\n",
       "      <td>15.0</td>\n",
       "      <td>1815</td>\n",
       "      <td>5.5</td>\n",
       "      <td>2.00%</td>\n",
       "      <td>85</td>\n",
       "      <td>2</td>\n",
       "      <td>Switzerland</td>\n",
       "      <td>0</td>\n",
       "      <td>2</td>\n",
       "      <td>1</td>\n",
       "      <td>1</td>\n",
       "      <td>0</td>\n",
       "    </tr>\n",
       "    <tr>\n",
       "      <th>191</th>\n",
       "      <td>Laurent Depoitre</td>\n",
       "      <td>Huddersfield</td>\n",
       "      <td>28</td>\n",
       "      <td>CF</td>\n",
       "      <td>1</td>\n",
       "      <td>3.0</td>\n",
       "      <td>212</td>\n",
       "      <td>5.5</td>\n",
       "      <td>0.30%</td>\n",
       "      <td>0</td>\n",
       "      <td>2</td>\n",
       "      <td>Belgium</td>\n",
       "      <td>0</td>\n",
       "      <td>4</td>\n",
       "      <td>8</td>\n",
       "      <td>0</td>\n",
       "      <td>0</td>\n",
       "    </tr>\n",
       "    <tr>\n",
       "      <th>192</th>\n",
       "      <td>Steve Mounie</td>\n",
       "      <td>Huddersfield</td>\n",
       "      <td>22</td>\n",
       "      <td>CF</td>\n",
       "      <td>1</td>\n",
       "      <td>3.0</td>\n",
       "      <td>56</td>\n",
       "      <td>6.0</td>\n",
       "      <td>0.60%</td>\n",
       "      <td>0</td>\n",
       "      <td>2</td>\n",
       "      <td>Benin</td>\n",
       "      <td>0</td>\n",
       "      <td>2</td>\n",
       "      <td>8</td>\n",
       "      <td>0</td>\n",
       "      <td>0</td>\n",
       "    </tr>\n",
       "    <tr>\n",
       "      <th>194</th>\n",
       "      <td>Riyad Mahrez</td>\n",
       "      <td>Leicester+City</td>\n",
       "      <td>26</td>\n",
       "      <td>RW</td>\n",
       "      <td>1</td>\n",
       "      <td>30.0</td>\n",
       "      <td>1753</td>\n",
       "      <td>8.5</td>\n",
       "      <td>1.70%</td>\n",
       "      <td>120</td>\n",
       "      <td>4</td>\n",
       "      <td>Algeria</td>\n",
       "      <td>0</td>\n",
       "      <td>3</td>\n",
       "      <td>9</td>\n",
       "      <td>0</td>\n",
       "      <td>0</td>\n",
       "    </tr>\n",
       "    <tr>\n",
       "      <th>195</th>\n",
       "      <td>Kasper Schmeichel</td>\n",
       "      <td>Leicester+City</td>\n",
       "      <td>30</td>\n",
       "      <td>GK</td>\n",
       "      <td>4</td>\n",
       "      <td>30.0</td>\n",
       "      <td>1601</td>\n",
       "      <td>5.0</td>\n",
       "      <td>2.40%</td>\n",
       "      <td>109</td>\n",
       "      <td>2</td>\n",
       "      <td>Denmark</td>\n",
       "      <td>0</td>\n",
       "      <td>4</td>\n",
       "      <td>9</td>\n",
       "      <td>0</td>\n",
       "      <td>0</td>\n",
       "    </tr>\n",
       "  </tbody>\n",
       "</table>\n",
       "</div>"
      ],
      "text/plain": [
       "                  name            club  age  ... club_id  big_club  new_signing\n",
       "29      Sead Kolasinac         Arsenal   24  ...       1         1            0\n",
       "30        Granit Xhaka         Arsenal   24  ...       1         1            0\n",
       "191   Laurent Depoitre    Huddersfield   28  ...       8         0            0\n",
       "192       Steve Mounie    Huddersfield   22  ...       8         0            0\n",
       "194       Riyad Mahrez  Leicester+City   26  ...       9         0            0\n",
       "195  Kasper Schmeichel  Leicester+City   30  ...       9         0            0\n",
       "\n",
       "[6 rows x 17 columns]"
      ]
     },
     "execution_count": 229,
     "metadata": {
      "tags": []
     },
     "output_type": "execute_result"
    }
   ],
   "source": [
    "players.fillna(method='ffill', axis=0).loc[[29, 30, 191, 192, 194, 195]]"
   ]
  },
  {
   "cell_type": "code",
   "execution_count": 230,
   "metadata": {
    "colab": {
     "base_uri": "https://localhost:8080/",
     "height": 0
    },
    "colab_type": "code",
    "id": "hWfKz51GwOlb",
    "outputId": "60e66ebc-4638-4271-bbf7-4e61fbae5304"
   },
   "outputs": [
    {
     "data": {
      "text/html": [
       "<div>\n",
       "<style scoped>\n",
       "    .dataframe tbody tr th:only-of-type {\n",
       "        vertical-align: middle;\n",
       "    }\n",
       "\n",
       "    .dataframe tbody tr th {\n",
       "        vertical-align: top;\n",
       "    }\n",
       "\n",
       "    .dataframe thead th {\n",
       "        text-align: right;\n",
       "    }\n",
       "</style>\n",
       "<table border=\"1\" class=\"dataframe\">\n",
       "  <thead>\n",
       "    <tr style=\"text-align: right;\">\n",
       "      <th></th>\n",
       "      <th>name</th>\n",
       "      <th>club</th>\n",
       "      <th>age</th>\n",
       "      <th>position</th>\n",
       "      <th>position_cat</th>\n",
       "      <th>market_value</th>\n",
       "      <th>page_views</th>\n",
       "      <th>fpl_value</th>\n",
       "      <th>fpl_sel</th>\n",
       "      <th>fpl_points</th>\n",
       "      <th>region</th>\n",
       "      <th>nationality</th>\n",
       "      <th>new_foreign</th>\n",
       "      <th>age_cat</th>\n",
       "      <th>club_id</th>\n",
       "      <th>big_club</th>\n",
       "      <th>new_signing</th>\n",
       "    </tr>\n",
       "  </thead>\n",
       "  <tbody>\n",
       "    <tr>\n",
       "      <th>30</th>\n",
       "      <td>Granit Xhaka</td>\n",
       "      <td>Arsenal</td>\n",
       "      <td>24</td>\n",
       "      <td>24</td>\n",
       "      <td>2</td>\n",
       "      <td>2</td>\n",
       "      <td>1815</td>\n",
       "      <td>5.5</td>\n",
       "      <td>2.00%</td>\n",
       "      <td>85</td>\n",
       "      <td>2</td>\n",
       "      <td>Switzerland</td>\n",
       "      <td>0</td>\n",
       "      <td>2</td>\n",
       "      <td>1</td>\n",
       "      <td>1</td>\n",
       "      <td>0</td>\n",
       "    </tr>\n",
       "    <tr>\n",
       "      <th>192</th>\n",
       "      <td>Steve Mounie</td>\n",
       "      <td>Huddersfield</td>\n",
       "      <td>22</td>\n",
       "      <td>CF</td>\n",
       "      <td>1</td>\n",
       "      <td>1</td>\n",
       "      <td>56</td>\n",
       "      <td>6</td>\n",
       "      <td>0.60%</td>\n",
       "      <td>0</td>\n",
       "      <td>2</td>\n",
       "      <td>Benin</td>\n",
       "      <td>0</td>\n",
       "      <td>2</td>\n",
       "      <td>8</td>\n",
       "      <td>0</td>\n",
       "      <td>0</td>\n",
       "    </tr>\n",
       "    <tr>\n",
       "      <th>195</th>\n",
       "      <td>Kasper Schmeichel</td>\n",
       "      <td>Leicester+City</td>\n",
       "      <td>30</td>\n",
       "      <td>GK</td>\n",
       "      <td>4</td>\n",
       "      <td>4</td>\n",
       "      <td>1601</td>\n",
       "      <td>5</td>\n",
       "      <td>2.40%</td>\n",
       "      <td>109</td>\n",
       "      <td>2</td>\n",
       "      <td>Denmark</td>\n",
       "      <td>0</td>\n",
       "      <td>4</td>\n",
       "      <td>9</td>\n",
       "      <td>0</td>\n",
       "      <td>0</td>\n",
       "    </tr>\n",
       "  </tbody>\n",
       "</table>\n",
       "</div>"
      ],
      "text/plain": [
       "                  name            club age  ... club_id big_club new_signing\n",
       "30        Granit Xhaka         Arsenal  24  ...       1        1           0\n",
       "192       Steve Mounie    Huddersfield  22  ...       8        0           0\n",
       "195  Kasper Schmeichel  Leicester+City  30  ...       9        0           0\n",
       "\n",
       "[3 rows x 17 columns]"
      ]
     },
     "execution_count": 230,
     "metadata": {
      "tags": []
     },
     "output_type": "execute_result"
    }
   ],
   "source": [
    "players.fillna(method='pad', axis=1).loc[[30, 192, 195]]"
   ]
  },
  {
   "cell_type": "code",
   "execution_count": 0,
   "metadata": {
    "colab": {},
    "colab_type": "code",
    "id": "kfBG5Lj4wng3"
   },
   "outputs": [],
   "source": [
    "# 'ffill' -> 'pad'\n",
    "# 'bfill' -> 'backfill'"
   ]
  },
  {
   "cell_type": "code",
   "execution_count": 0,
   "metadata": {
    "colab": {},
    "colab_type": "code",
    "id": "EIYGOW9ixkIs"
   },
   "outputs": [],
   "source": [
    "# word of the lecture: duo -> pair"
   ]
  },
  {
   "cell_type": "markdown",
   "metadata": {
    "colab_type": "text",
    "id": "qmRopmCExqI5"
   },
   "source": [
    "#### Skill Challenge"
   ]
  },
  {
   "cell_type": "markdown",
   "metadata": {
    "colab_type": "text",
    "id": "tzCGo5kSEUWl"
   },
   "source": [
    "###### **1**."
   ]
  },
  {
   "cell_type": "markdown",
   "metadata": {
    "colab_type": "text",
    "id": "BB_HVneJic7_"
   },
   "source": [
    "From our *players* dataframe remove the rows labeled 2, 10, 21 and the market_value columns. Do not modify the underlying dataframe. Assign the result to _df2_."
   ]
  },
  {
   "cell_type": "markdown",
   "metadata": {
    "colab_type": "text",
    "id": "VSQ4vXjwiv7R"
   },
   "source": [
    "###### **2**."
   ]
  },
  {
   "cell_type": "markdown",
   "metadata": {
    "colab_type": "text",
    "id": "j2FDIw7LizIl"
   },
   "source": [
    "Does the _nationality_ column in _df2_ contain any NA values? How many unique nationalities are there?"
   ]
  },
  {
   "cell_type": "markdown",
   "metadata": {
    "colab_type": "text",
    "id": "SYQMygByl5Zf"
   },
   "source": [
    "###### **3**."
   ]
  },
  {
   "cell_type": "markdown",
   "metadata": {
    "colab_type": "text",
    "id": "ulpUq3cjl9b3"
   },
   "source": [
    "Starting from _df2_, isolate a dataframe slice of players that contains only the unique _age_-_position_ combinations for each _club_. Do not include the _club_ column itself."
   ]
  },
  {
   "cell_type": "markdown",
   "metadata": {
    "colab_type": "text",
    "id": "u7KpZZGGqT6R"
   },
   "source": [
    "#### Solution"
   ]
  },
  {
   "cell_type": "code",
   "execution_count": 233,
   "metadata": {
    "colab": {
     "base_uri": "https://localhost:8080/",
     "height": 0
    },
    "colab_type": "code",
    "id": "RnQKgL7HsvaH",
    "outputId": "f1fb00a3-ce1b-4073-e58e-aa52a77a5ed2"
   },
   "outputs": [
    {
     "data": {
      "text/html": [
       "<div>\n",
       "<style scoped>\n",
       "    .dataframe tbody tr th:only-of-type {\n",
       "        vertical-align: middle;\n",
       "    }\n",
       "\n",
       "    .dataframe tbody tr th {\n",
       "        vertical-align: top;\n",
       "    }\n",
       "\n",
       "    .dataframe thead th {\n",
       "        text-align: right;\n",
       "    }\n",
       "</style>\n",
       "<table border=\"1\" class=\"dataframe\">\n",
       "  <thead>\n",
       "    <tr style=\"text-align: right;\">\n",
       "      <th></th>\n",
       "      <th>name</th>\n",
       "      <th>club</th>\n",
       "      <th>age</th>\n",
       "      <th>position</th>\n",
       "      <th>position_cat</th>\n",
       "      <th>market_value</th>\n",
       "      <th>page_views</th>\n",
       "      <th>fpl_value</th>\n",
       "      <th>fpl_sel</th>\n",
       "      <th>fpl_points</th>\n",
       "      <th>region</th>\n",
       "      <th>nationality</th>\n",
       "      <th>new_foreign</th>\n",
       "      <th>age_cat</th>\n",
       "      <th>club_id</th>\n",
       "      <th>big_club</th>\n",
       "      <th>new_signing</th>\n",
       "    </tr>\n",
       "  </thead>\n",
       "  <tbody>\n",
       "    <tr>\n",
       "      <th>0</th>\n",
       "      <td>Alexis Sanchez</td>\n",
       "      <td>Arsenal</td>\n",
       "      <td>28</td>\n",
       "      <td>LW</td>\n",
       "      <td>1</td>\n",
       "      <td>65.0</td>\n",
       "      <td>4329</td>\n",
       "      <td>12.0</td>\n",
       "      <td>17.10%</td>\n",
       "      <td>264</td>\n",
       "      <td>3</td>\n",
       "      <td>Chile</td>\n",
       "      <td>0</td>\n",
       "      <td>4</td>\n",
       "      <td>1</td>\n",
       "      <td>1</td>\n",
       "      <td>0</td>\n",
       "    </tr>\n",
       "    <tr>\n",
       "      <th>1</th>\n",
       "      <td>Mesut Ozil</td>\n",
       "      <td>Arsenal</td>\n",
       "      <td>28</td>\n",
       "      <td>AM</td>\n",
       "      <td>1</td>\n",
       "      <td>50.0</td>\n",
       "      <td>4395</td>\n",
       "      <td>9.5</td>\n",
       "      <td>5.60%</td>\n",
       "      <td>167</td>\n",
       "      <td>2</td>\n",
       "      <td>Germany</td>\n",
       "      <td>0</td>\n",
       "      <td>4</td>\n",
       "      <td>1</td>\n",
       "      <td>1</td>\n",
       "      <td>0</td>\n",
       "    </tr>\n",
       "    <tr>\n",
       "      <th>2</th>\n",
       "      <td>Petr Cech</td>\n",
       "      <td>Arsenal</td>\n",
       "      <td>35</td>\n",
       "      <td>GK</td>\n",
       "      <td>4</td>\n",
       "      <td>7.0</td>\n",
       "      <td>1529</td>\n",
       "      <td>5.5</td>\n",
       "      <td>5.90%</td>\n",
       "      <td>134</td>\n",
       "      <td>2</td>\n",
       "      <td>Czech Republic</td>\n",
       "      <td>0</td>\n",
       "      <td>6</td>\n",
       "      <td>1</td>\n",
       "      <td>1</td>\n",
       "      <td>0</td>\n",
       "    </tr>\n",
       "  </tbody>\n",
       "</table>\n",
       "</div>"
      ],
      "text/plain": [
       "             name     club  age  ... club_id  big_club  new_signing\n",
       "0  Alexis Sanchez  Arsenal   28  ...       1         1            0\n",
       "1      Mesut Ozil  Arsenal   28  ...       1         1            0\n",
       "2       Petr Cech  Arsenal   35  ...       1         1            0\n",
       "\n",
       "[3 rows x 17 columns]"
      ]
     },
     "execution_count": 233,
     "metadata": {
      "tags": []
     },
     "output_type": "execute_result"
    }
   ],
   "source": [
    "players.head(3)"
   ]
  },
  {
   "cell_type": "code",
   "execution_count": 0,
   "metadata": {
    "colab": {},
    "colab_type": "code",
    "id": "QbKmn8sUuOOt"
   },
   "outputs": [],
   "source": [
    "# 1"
   ]
  },
  {
   "cell_type": "code",
   "execution_count": 0,
   "metadata": {
    "colab": {},
    "colab_type": "code",
    "id": "LBkLrjLoupaQ"
   },
   "outputs": [],
   "source": [
    "df2 = players.drop(labels=[2,10,21], axis=0)\\\n",
    "       .drop(labels='market_value', axis=1)"
   ]
  },
  {
   "cell_type": "code",
   "execution_count": 236,
   "metadata": {
    "colab": {
     "base_uri": "https://localhost:8080/",
     "height": 0
    },
    "colab_type": "code",
    "id": "TSNAfIXvu5hw",
    "outputId": "1c4179a7-2ed4-449b-fc88-cea656de69e1"
   },
   "outputs": [
    {
     "data": {
      "text/html": [
       "<div>\n",
       "<style scoped>\n",
       "    .dataframe tbody tr th:only-of-type {\n",
       "        vertical-align: middle;\n",
       "    }\n",
       "\n",
       "    .dataframe tbody tr th {\n",
       "        vertical-align: top;\n",
       "    }\n",
       "\n",
       "    .dataframe thead th {\n",
       "        text-align: right;\n",
       "    }\n",
       "</style>\n",
       "<table border=\"1\" class=\"dataframe\">\n",
       "  <thead>\n",
       "    <tr style=\"text-align: right;\">\n",
       "      <th></th>\n",
       "      <th>name</th>\n",
       "      <th>club</th>\n",
       "      <th>age</th>\n",
       "      <th>position</th>\n",
       "      <th>position_cat</th>\n",
       "      <th>page_views</th>\n",
       "      <th>fpl_value</th>\n",
       "      <th>fpl_sel</th>\n",
       "      <th>fpl_points</th>\n",
       "      <th>region</th>\n",
       "      <th>nationality</th>\n",
       "      <th>new_foreign</th>\n",
       "      <th>age_cat</th>\n",
       "      <th>club_id</th>\n",
       "      <th>big_club</th>\n",
       "      <th>new_signing</th>\n",
       "    </tr>\n",
       "  </thead>\n",
       "  <tbody>\n",
       "    <tr>\n",
       "      <th>0</th>\n",
       "      <td>Alexis Sanchez</td>\n",
       "      <td>Arsenal</td>\n",
       "      <td>28</td>\n",
       "      <td>LW</td>\n",
       "      <td>1</td>\n",
       "      <td>4329</td>\n",
       "      <td>12.0</td>\n",
       "      <td>17.10%</td>\n",
       "      <td>264</td>\n",
       "      <td>3</td>\n",
       "      <td>Chile</td>\n",
       "      <td>0</td>\n",
       "      <td>4</td>\n",
       "      <td>1</td>\n",
       "      <td>1</td>\n",
       "      <td>0</td>\n",
       "    </tr>\n",
       "    <tr>\n",
       "      <th>1</th>\n",
       "      <td>Mesut Ozil</td>\n",
       "      <td>Arsenal</td>\n",
       "      <td>28</td>\n",
       "      <td>AM</td>\n",
       "      <td>1</td>\n",
       "      <td>4395</td>\n",
       "      <td>9.5</td>\n",
       "      <td>5.60%</td>\n",
       "      <td>167</td>\n",
       "      <td>2</td>\n",
       "      <td>Germany</td>\n",
       "      <td>0</td>\n",
       "      <td>4</td>\n",
       "      <td>1</td>\n",
       "      <td>1</td>\n",
       "      <td>0</td>\n",
       "    </tr>\n",
       "    <tr>\n",
       "      <th>3</th>\n",
       "      <td>Theo Walcott</td>\n",
       "      <td>Arsenal</td>\n",
       "      <td>28</td>\n",
       "      <td>RW</td>\n",
       "      <td>1</td>\n",
       "      <td>2393</td>\n",
       "      <td>7.5</td>\n",
       "      <td>1.50%</td>\n",
       "      <td>122</td>\n",
       "      <td>1</td>\n",
       "      <td>England</td>\n",
       "      <td>0</td>\n",
       "      <td>4</td>\n",
       "      <td>1</td>\n",
       "      <td>1</td>\n",
       "      <td>0</td>\n",
       "    </tr>\n",
       "    <tr>\n",
       "      <th>4</th>\n",
       "      <td>Laurent Koscielny</td>\n",
       "      <td>Arsenal</td>\n",
       "      <td>31</td>\n",
       "      <td>CB</td>\n",
       "      <td>3</td>\n",
       "      <td>912</td>\n",
       "      <td>6.0</td>\n",
       "      <td>0.70%</td>\n",
       "      <td>121</td>\n",
       "      <td>2</td>\n",
       "      <td>France</td>\n",
       "      <td>0</td>\n",
       "      <td>4</td>\n",
       "      <td>1</td>\n",
       "      <td>1</td>\n",
       "      <td>0</td>\n",
       "    </tr>\n",
       "    <tr>\n",
       "      <th>5</th>\n",
       "      <td>Hector Bellerin</td>\n",
       "      <td>Arsenal</td>\n",
       "      <td>22</td>\n",
       "      <td>RB</td>\n",
       "      <td>3</td>\n",
       "      <td>1675</td>\n",
       "      <td>6.0</td>\n",
       "      <td>13.70%</td>\n",
       "      <td>119</td>\n",
       "      <td>2</td>\n",
       "      <td>Spain</td>\n",
       "      <td>0</td>\n",
       "      <td>2</td>\n",
       "      <td>1</td>\n",
       "      <td>1</td>\n",
       "      <td>0</td>\n",
       "    </tr>\n",
       "    <tr>\n",
       "      <th>...</th>\n",
       "      <td>...</td>\n",
       "      <td>...</td>\n",
       "      <td>...</td>\n",
       "      <td>...</td>\n",
       "      <td>...</td>\n",
       "      <td>...</td>\n",
       "      <td>...</td>\n",
       "      <td>...</td>\n",
       "      <td>...</td>\n",
       "      <td>...</td>\n",
       "      <td>...</td>\n",
       "      <td>...</td>\n",
       "      <td>...</td>\n",
       "      <td>...</td>\n",
       "      <td>...</td>\n",
       "      <td>...</td>\n",
       "    </tr>\n",
       "    <tr>\n",
       "      <th>460</th>\n",
       "      <td>Edimilson Fernandes</td>\n",
       "      <td>West+Ham</td>\n",
       "      <td>21</td>\n",
       "      <td>CM</td>\n",
       "      <td>2</td>\n",
       "      <td>288</td>\n",
       "      <td>4.5</td>\n",
       "      <td>0.40%</td>\n",
       "      <td>38</td>\n",
       "      <td>2</td>\n",
       "      <td>Switzerland</td>\n",
       "      <td>0</td>\n",
       "      <td>1</td>\n",
       "      <td>20</td>\n",
       "      <td>0</td>\n",
       "      <td>1</td>\n",
       "    </tr>\n",
       "    <tr>\n",
       "      <th>461</th>\n",
       "      <td>Arthur Masuaku</td>\n",
       "      <td>West+Ham</td>\n",
       "      <td>23</td>\n",
       "      <td>LB</td>\n",
       "      <td>3</td>\n",
       "      <td>199</td>\n",
       "      <td>4.5</td>\n",
       "      <td>0.20%</td>\n",
       "      <td>34</td>\n",
       "      <td>4</td>\n",
       "      <td>Congo DR</td>\n",
       "      <td>0</td>\n",
       "      <td>2</td>\n",
       "      <td>20</td>\n",
       "      <td>0</td>\n",
       "      <td>1</td>\n",
       "    </tr>\n",
       "    <tr>\n",
       "      <th>462</th>\n",
       "      <td>Sam Byram</td>\n",
       "      <td>West+Ham</td>\n",
       "      <td>23</td>\n",
       "      <td>RB</td>\n",
       "      <td>3</td>\n",
       "      <td>198</td>\n",
       "      <td>4.5</td>\n",
       "      <td>0.30%</td>\n",
       "      <td>29</td>\n",
       "      <td>1</td>\n",
       "      <td>England</td>\n",
       "      <td>0</td>\n",
       "      <td>2</td>\n",
       "      <td>20</td>\n",
       "      <td>0</td>\n",
       "      <td>0</td>\n",
       "    </tr>\n",
       "    <tr>\n",
       "      <th>463</th>\n",
       "      <td>Ashley Fletcher</td>\n",
       "      <td>West+Ham</td>\n",
       "      <td>21</td>\n",
       "      <td>CF</td>\n",
       "      <td>1</td>\n",
       "      <td>412</td>\n",
       "      <td>4.5</td>\n",
       "      <td>5.90%</td>\n",
       "      <td>16</td>\n",
       "      <td>1</td>\n",
       "      <td>England</td>\n",
       "      <td>0</td>\n",
       "      <td>1</td>\n",
       "      <td>20</td>\n",
       "      <td>0</td>\n",
       "      <td>1</td>\n",
       "    </tr>\n",
       "    <tr>\n",
       "      <th>464</th>\n",
       "      <td>Diafra Sakho</td>\n",
       "      <td>West+Ham</td>\n",
       "      <td>27</td>\n",
       "      <td>CF</td>\n",
       "      <td>1</td>\n",
       "      <td>214</td>\n",
       "      <td>5.5</td>\n",
       "      <td>0.10%</td>\n",
       "      <td>12</td>\n",
       "      <td>4</td>\n",
       "      <td>Senegal</td>\n",
       "      <td>0</td>\n",
       "      <td>3</td>\n",
       "      <td>20</td>\n",
       "      <td>0</td>\n",
       "      <td>0</td>\n",
       "    </tr>\n",
       "  </tbody>\n",
       "</table>\n",
       "<p>462 rows × 16 columns</p>\n",
       "</div>"
      ],
      "text/plain": [
       "                    name      club  age  ... club_id  big_club  new_signing\n",
       "0         Alexis Sanchez   Arsenal   28  ...       1         1            0\n",
       "1             Mesut Ozil   Arsenal   28  ...       1         1            0\n",
       "3           Theo Walcott   Arsenal   28  ...       1         1            0\n",
       "4      Laurent Koscielny   Arsenal   31  ...       1         1            0\n",
       "5        Hector Bellerin   Arsenal   22  ...       1         1            0\n",
       "..                   ...       ...  ...  ...     ...       ...          ...\n",
       "460  Edimilson Fernandes  West+Ham   21  ...      20         0            1\n",
       "461       Arthur Masuaku  West+Ham   23  ...      20         0            1\n",
       "462            Sam Byram  West+Ham   23  ...      20         0            0\n",
       "463      Ashley Fletcher  West+Ham   21  ...      20         0            1\n",
       "464         Diafra Sakho  West+Ham   27  ...      20         0            0\n",
       "\n",
       "[462 rows x 16 columns]"
      ]
     },
     "execution_count": 236,
     "metadata": {
      "tags": []
     },
     "output_type": "execute_result"
    }
   ],
   "source": [
    "# alternative\n",
    "players.drop(index=[2, 10, 21], columns='market_value')"
   ]
  },
  {
   "cell_type": "code",
   "execution_count": 0,
   "metadata": {
    "colab": {},
    "colab_type": "code",
    "id": "1QZ8OsKZvMxE"
   },
   "outputs": [],
   "source": [
    "# 2"
   ]
  },
  {
   "cell_type": "code",
   "execution_count": 238,
   "metadata": {
    "colab": {
     "base_uri": "https://localhost:8080/",
     "height": 0
    },
    "colab_type": "code",
    "id": "FbBey4wAvSF2",
    "outputId": "b57e887f-e564-49aa-deb4-6842c3ef0bd7"
   },
   "outputs": [
    {
     "data": {
      "text/plain": [
       "0"
      ]
     },
     "execution_count": 238,
     "metadata": {
      "tags": []
     },
     "output_type": "execute_result"
    }
   ],
   "source": [
    "df2.nationality.isnull().sum()"
   ]
  },
  {
   "cell_type": "code",
   "execution_count": 239,
   "metadata": {
    "colab": {
     "base_uri": "https://localhost:8080/",
     "height": 0
    },
    "colab_type": "code",
    "id": "VvB25-j3vUyO",
    "outputId": "3fcb6c81-8be9-4e24-fafc-9fddfd0bf57c"
   },
   "outputs": [
    {
     "data": {
      "text/plain": [
       "Series([], Name: nationality, dtype: object)"
      ]
     },
     "execution_count": 239,
     "metadata": {
      "tags": []
     },
     "output_type": "execute_result"
    }
   ],
   "source": [
    "df2.nationality[df2.nationality.isnull()]"
   ]
  },
  {
   "cell_type": "code",
   "execution_count": 0,
   "metadata": {
    "colab": {},
    "colab_type": "code",
    "id": "Bd8ybRCAvfhR"
   },
   "outputs": [],
   "source": [
    "# how many uniques"
   ]
  },
  {
   "cell_type": "code",
   "execution_count": 241,
   "metadata": {
    "colab": {
     "base_uri": "https://localhost:8080/",
     "height": 0
    },
    "colab_type": "code",
    "id": "2I_WkMNhvkFw",
    "outputId": "3c824479-e8f0-4417-e31e-4bb598445665"
   },
   "outputs": [
    {
     "data": {
      "text/plain": [
       "61"
      ]
     },
     "execution_count": 241,
     "metadata": {
      "tags": []
     },
     "output_type": "execute_result"
    }
   ],
   "source": [
    "df2.nationality.drop_duplicates().size"
   ]
  },
  {
   "cell_type": "code",
   "execution_count": 0,
   "metadata": {
    "colab": {},
    "colab_type": "code",
    "id": "i58dY4OHvlL1"
   },
   "outputs": [],
   "source": [
    "# an alternative"
   ]
  },
  {
   "cell_type": "code",
   "execution_count": 243,
   "metadata": {
    "colab": {
     "base_uri": "https://localhost:8080/",
     "height": 0
    },
    "colab_type": "code",
    "id": "ISbD_t1jvtGX",
    "outputId": "7bfbf373-9f99-478e-cd89-d9d125917aab"
   },
   "outputs": [
    {
     "data": {
      "text/plain": [
       "61"
      ]
     },
     "execution_count": 243,
     "metadata": {
      "tags": []
     },
     "output_type": "execute_result"
    }
   ],
   "source": [
    "df2.nationality.nunique()"
   ]
  },
  {
   "cell_type": "code",
   "execution_count": 0,
   "metadata": {
    "colab": {},
    "colab_type": "code",
    "id": "qt1WNJP3vvMh"
   },
   "outputs": [],
   "source": [
    "# 3"
   ]
  },
  {
   "cell_type": "code",
   "execution_count": 245,
   "metadata": {
    "colab": {
     "base_uri": "https://localhost:8080/",
     "height": 0
    },
    "colab_type": "code",
    "id": "lLAtGmoSvxTS",
    "outputId": "346579c5-006e-4227-a657-9f8ca190ac5f"
   },
   "outputs": [
    {
     "data": {
      "text/html": [
       "<div>\n",
       "<style scoped>\n",
       "    .dataframe tbody tr th:only-of-type {\n",
       "        vertical-align: middle;\n",
       "    }\n",
       "\n",
       "    .dataframe tbody tr th {\n",
       "        vertical-align: top;\n",
       "    }\n",
       "\n",
       "    .dataframe thead th {\n",
       "        text-align: right;\n",
       "    }\n",
       "</style>\n",
       "<table border=\"1\" class=\"dataframe\">\n",
       "  <thead>\n",
       "    <tr style=\"text-align: right;\">\n",
       "      <th></th>\n",
       "      <th>age</th>\n",
       "      <th>position</th>\n",
       "    </tr>\n",
       "  </thead>\n",
       "  <tbody>\n",
       "    <tr>\n",
       "      <th>0</th>\n",
       "      <td>28</td>\n",
       "      <td>LW</td>\n",
       "    </tr>\n",
       "    <tr>\n",
       "      <th>1</th>\n",
       "      <td>28</td>\n",
       "      <td>AM</td>\n",
       "    </tr>\n",
       "    <tr>\n",
       "      <th>3</th>\n",
       "      <td>28</td>\n",
       "      <td>RW</td>\n",
       "    </tr>\n",
       "    <tr>\n",
       "      <th>4</th>\n",
       "      <td>31</td>\n",
       "      <td>CB</td>\n",
       "    </tr>\n",
       "    <tr>\n",
       "      <th>5</th>\n",
       "      <td>22</td>\n",
       "      <td>RB</td>\n",
       "    </tr>\n",
       "    <tr>\n",
       "      <th>...</th>\n",
       "      <td>...</td>\n",
       "      <td>...</td>\n",
       "    </tr>\n",
       "    <tr>\n",
       "      <th>460</th>\n",
       "      <td>21</td>\n",
       "      <td>CM</td>\n",
       "    </tr>\n",
       "    <tr>\n",
       "      <th>461</th>\n",
       "      <td>23</td>\n",
       "      <td>LB</td>\n",
       "    </tr>\n",
       "    <tr>\n",
       "      <th>462</th>\n",
       "      <td>23</td>\n",
       "      <td>RB</td>\n",
       "    </tr>\n",
       "    <tr>\n",
       "      <th>463</th>\n",
       "      <td>21</td>\n",
       "      <td>CF</td>\n",
       "    </tr>\n",
       "    <tr>\n",
       "      <th>464</th>\n",
       "      <td>27</td>\n",
       "      <td>CF</td>\n",
       "    </tr>\n",
       "  </tbody>\n",
       "</table>\n",
       "<p>433 rows × 2 columns</p>\n",
       "</div>"
      ],
      "text/plain": [
       "     age position\n",
       "0     28       LW\n",
       "1     28       AM\n",
       "3     28       RW\n",
       "4     31       CB\n",
       "5     22       RB\n",
       "..   ...      ...\n",
       "460   21       CM\n",
       "461   23       LB\n",
       "462   23       RB\n",
       "463   21       CF\n",
       "464   27       CF\n",
       "\n",
       "[433 rows x 2 columns]"
      ]
     },
     "execution_count": 245,
     "metadata": {
      "tags": []
     },
     "output_type": "execute_result"
    }
   ],
   "source": [
    "df2.drop_duplicates(subset=['age', 'club', 'position'], keep='first').loc[:, ['age', 'position']]"
   ]
  },
  {
   "cell_type": "code",
   "execution_count": 246,
   "metadata": {
    "colab": {
     "base_uri": "https://localhost:8080/",
     "height": 0
    },
    "colab_type": "code",
    "id": "mI-I11tgwLVZ",
    "outputId": "8d266b6c-7c81-4e74-e3c5-77a9f12da4c0"
   },
   "outputs": [
    {
     "data": {
      "text/plain": [
       "(462, 16)"
      ]
     },
     "execution_count": 246,
     "metadata": {
      "tags": []
     },
     "output_type": "execute_result"
    }
   ],
   "source": [
    "df2.shape"
   ]
  },
  {
   "cell_type": "markdown",
   "metadata": {
    "colab_type": "text",
    "id": "vzwcHciFwQFO"
   },
   "source": [
    "#### Calculating Aggregates With agg()"
   ]
  },
  {
   "cell_type": "code",
   "execution_count": 247,
   "metadata": {
    "colab": {
     "base_uri": "https://localhost:8080/",
     "height": 0
    },
    "colab_type": "code",
    "id": "J1KkA1D9tHT1",
    "outputId": "56d388e4-5e0c-46e6-d8c8-c5f5736b228f"
   },
   "outputs": [
    {
     "data": {
      "text/plain": [
       "age              26.776344\n",
       "position_cat      2.178495\n",
       "market_value     11.125649\n",
       "page_views      771.546237\n",
       "fpl_value         5.450538\n",
       "fpl_points       57.544086\n",
       "region            1.989247\n",
       "new_foreign       0.034409\n",
       "age_cat           3.195699\n",
       "club_id          10.253763\n",
       "big_club          0.309677\n",
       "new_signing       0.144086\n",
       "dtype: float64"
      ]
     },
     "execution_count": 247,
     "metadata": {
      "tags": []
     },
     "output_type": "execute_result"
    }
   ],
   "source": [
    "players.agg('mean')"
   ]
  },
  {
   "cell_type": "code",
   "execution_count": 248,
   "metadata": {
    "colab": {
     "base_uri": "https://localhost:8080/",
     "height": 0
    },
    "colab_type": "code",
    "id": "ZUAp-QHQtHKN",
    "outputId": "5e36aa57-778a-4180-ffcb-677702033f96"
   },
   "outputs": [
    {
     "data": {
      "text/plain": [
       "0.14408602150537633"
      ]
     },
     "execution_count": 248,
     "metadata": {
      "tags": []
     },
     "output_type": "execute_result"
    }
   ],
   "source": [
    "players.new_signing.mean()"
   ]
  },
  {
   "cell_type": "code",
   "execution_count": 249,
   "metadata": {
    "colab": {
     "base_uri": "https://localhost:8080/",
     "height": 0
    },
    "colab_type": "code",
    "id": "kktTPJfgtHF8",
    "outputId": "b56c3b00-5994-404a-ff85-0b516ee1e176"
   },
   "outputs": [
    {
     "data": {
      "text/plain": [
       "name            Aaron Cresswell\n",
       "club                    Arsenal\n",
       "age                          17\n",
       "position_cat                  1\n",
       "market_value               0.05\n",
       "page_views                    3\n",
       "fpl_value                     4\n",
       "fpl_sel                   0.00%\n",
       "fpl_points                    0\n",
       "region                        1\n",
       "nationality             Algeria\n",
       "new_foreign                   0\n",
       "age_cat                       1\n",
       "club_id                       1\n",
       "big_club                      0\n",
       "new_signing                   0\n",
       "dtype: object"
      ]
     },
     "execution_count": 249,
     "metadata": {
      "tags": []
     },
     "output_type": "execute_result"
    }
   ],
   "source": [
    "players.agg(np.min)"
   ]
  },
  {
   "cell_type": "code",
   "execution_count": 0,
   "metadata": {
    "colab": {},
    "colab_type": "code",
    "id": "8rqlrwvntHB7"
   },
   "outputs": [],
   "source": [
    "# ===ASIDE"
   ]
  },
  {
   "cell_type": "code",
   "execution_count": 0,
   "metadata": {
    "colab": {},
    "colab_type": "code",
    "id": "TBlLcoBL2vkN"
   },
   "outputs": [],
   "source": [
    "# >, <, <=, >= should have some meaning"
   ]
  },
  {
   "cell_type": "code",
   "execution_count": 252,
   "metadata": {
    "colab": {
     "base_uri": "https://localhost:8080/",
     "height": 0
    },
    "colab_type": "code",
    "id": "VTn-ccD2tw7F",
    "outputId": "722d5319-1449-480e-b6ea-7dd64ed9a715"
   },
   "outputs": [
    {
     "data": {
      "text/plain": [
       "True"
      ]
     },
     "execution_count": 252,
     "metadata": {
      "tags": []
     },
     "output_type": "execute_result"
    }
   ],
   "source": [
    "'a' < 'b'"
   ]
  },
  {
   "cell_type": "code",
   "execution_count": 253,
   "metadata": {
    "colab": {
     "base_uri": "https://localhost:8080/",
     "height": 0
    },
    "colab_type": "code",
    "id": "vnvRGCBBt3_U",
    "outputId": "3bebd520-25ae-4bf7-f472-1608b9ceb11a"
   },
   "outputs": [
    {
     "data": {
      "text/plain": [
       "97"
      ]
     },
     "execution_count": 253,
     "metadata": {
      "tags": []
     },
     "output_type": "execute_result"
    }
   ],
   "source": [
    "ord('a')"
   ]
  },
  {
   "cell_type": "code",
   "execution_count": 254,
   "metadata": {
    "colab": {
     "base_uri": "https://localhost:8080/",
     "height": 0
    },
    "colab_type": "code",
    "id": "TYlve60lt_MU",
    "outputId": "ae52283d-5266-4532-f519-6ae9ad540301"
   },
   "outputs": [
    {
     "data": {
      "text/plain": [
       "98"
      ]
     },
     "execution_count": 254,
     "metadata": {
      "tags": []
     },
     "output_type": "execute_result"
    }
   ],
   "source": [
    "ord('b')"
   ]
  },
  {
   "cell_type": "code",
   "execution_count": 0,
   "metadata": {
    "colab": {},
    "colab_type": "code",
    "id": "UwUhoEhPuB7B"
   },
   "outputs": [],
   "source": [
    "ls = ['a', 'b', 'c', 'day', 19]"
   ]
  },
  {
   "cell_type": "code",
   "execution_count": 0,
   "metadata": {
    "colab": {},
    "colab_type": "code",
    "id": "53Wu0A_cuK8c"
   },
   "outputs": [],
   "source": [
    "# max(ls)"
   ]
  },
  {
   "cell_type": "code",
   "execution_count": 257,
   "metadata": {
    "colab": {
     "base_uri": "https://localhost:8080/",
     "height": 0
    },
    "colab_type": "code",
    "id": "-kZWHONauOsr",
    "outputId": "370325fc-9d28-4af7-9fee-bec382930282"
   },
   "outputs": [
    {
     "data": {
      "text/plain": [
       "100"
      ]
     },
     "execution_count": 257,
     "metadata": {
      "tags": []
     },
     "output_type": "execute_result"
    }
   ],
   "source": [
    "ord('d')"
   ]
  },
  {
   "cell_type": "code",
   "execution_count": 0,
   "metadata": {
    "colab": {},
    "colab_type": "code",
    "id": "42UouWY8uSAR"
   },
   "outputs": [],
   "source": [
    "# ===END ASIDE"
   ]
  },
  {
   "cell_type": "code",
   "execution_count": 259,
   "metadata": {
    "colab": {
     "base_uri": "https://localhost:8080/",
     "height": 0
    },
    "colab_type": "code",
    "id": "7qEWiYJ6umpZ",
    "outputId": "a46a2b52-6000-4148-b576-36c93e8203fb"
   },
   "outputs": [
    {
     "data": {
      "text/plain": [
       "name            Aaron Cresswell\n",
       "club                    Arsenal\n",
       "age                          17\n",
       "position_cat                  1\n",
       "market_value               0.05\n",
       "page_views                    3\n",
       "fpl_value                     4\n",
       "fpl_sel                   0.00%\n",
       "fpl_points                    0\n",
       "region                        1\n",
       "nationality             Algeria\n",
       "new_foreign                   0\n",
       "age_cat                       1\n",
       "club_id                       1\n",
       "big_club                      0\n",
       "new_signing                   0\n",
       "dtype: object"
      ]
     },
     "execution_count": 259,
     "metadata": {
      "tags": []
     },
     "output_type": "execute_result"
    }
   ],
   "source": [
    "players.agg('min')"
   ]
  },
  {
   "cell_type": "code",
   "execution_count": 260,
   "metadata": {
    "colab": {
     "base_uri": "https://localhost:8080/",
     "height": 0
    },
    "colab_type": "code",
    "id": "7gMToid8uptJ",
    "outputId": "976b339d-d8fe-4d4c-b6d0-fa1ddc159c75"
   },
   "outputs": [
    {
     "data": {
      "text/plain": [
       "age             17.00\n",
       "position_cat     1.00\n",
       "market_value     0.05\n",
       "page_views       3.00\n",
       "fpl_value        4.00\n",
       "fpl_points       0.00\n",
       "region           1.00\n",
       "new_foreign      0.00\n",
       "age_cat          1.00\n",
       "club_id          1.00\n",
       "big_club         0.00\n",
       "new_signing      0.00\n",
       "dtype: float64"
      ]
     },
     "execution_count": 260,
     "metadata": {
      "tags": []
     },
     "output_type": "execute_result"
    }
   ],
   "source": [
    "players.select_dtypes(np.number).agg('min')"
   ]
  },
  {
   "cell_type": "code",
   "execution_count": 261,
   "metadata": {
    "colab": {
     "base_uri": "https://localhost:8080/",
     "height": 0
    },
    "colab_type": "code",
    "id": "FSIzoa4-uzGJ",
    "outputId": "3ce65b65-d62e-49da-aad5-a48add5a575f"
   },
   "outputs": [
    {
     "data": {
      "text/html": [
       "<div>\n",
       "<style scoped>\n",
       "    .dataframe tbody tr th:only-of-type {\n",
       "        vertical-align: middle;\n",
       "    }\n",
       "\n",
       "    .dataframe tbody tr th {\n",
       "        vertical-align: top;\n",
       "    }\n",
       "\n",
       "    .dataframe thead th {\n",
       "        text-align: right;\n",
       "    }\n",
       "</style>\n",
       "<table border=\"1\" class=\"dataframe\">\n",
       "  <thead>\n",
       "    <tr style=\"text-align: right;\">\n",
       "      <th></th>\n",
       "      <th>age</th>\n",
       "      <th>position_cat</th>\n",
       "      <th>market_value</th>\n",
       "      <th>page_views</th>\n",
       "      <th>fpl_value</th>\n",
       "      <th>fpl_points</th>\n",
       "      <th>region</th>\n",
       "      <th>new_foreign</th>\n",
       "      <th>age_cat</th>\n",
       "      <th>club_id</th>\n",
       "      <th>big_club</th>\n",
       "      <th>new_signing</th>\n",
       "    </tr>\n",
       "  </thead>\n",
       "  <tbody>\n",
       "    <tr>\n",
       "      <th>min</th>\n",
       "      <td>17.000000</td>\n",
       "      <td>1.000000</td>\n",
       "      <td>0.050000</td>\n",
       "      <td>3.000000</td>\n",
       "      <td>4.000000</td>\n",
       "      <td>0.000000</td>\n",
       "      <td>1.000000</td>\n",
       "      <td>0.000000</td>\n",
       "      <td>1.000000</td>\n",
       "      <td>1.000000</td>\n",
       "      <td>0.000000</td>\n",
       "      <td>0.000000</td>\n",
       "    </tr>\n",
       "    <tr>\n",
       "      <th>max</th>\n",
       "      <td>38.000000</td>\n",
       "      <td>4.000000</td>\n",
       "      <td>75.000000</td>\n",
       "      <td>7664.000000</td>\n",
       "      <td>12.500000</td>\n",
       "      <td>264.000000</td>\n",
       "      <td>4.000000</td>\n",
       "      <td>1.000000</td>\n",
       "      <td>6.000000</td>\n",
       "      <td>20.000000</td>\n",
       "      <td>1.000000</td>\n",
       "      <td>1.000000</td>\n",
       "    </tr>\n",
       "    <tr>\n",
       "      <th>mean</th>\n",
       "      <td>26.776344</td>\n",
       "      <td>2.178495</td>\n",
       "      <td>11.125649</td>\n",
       "      <td>771.546237</td>\n",
       "      <td>5.450538</td>\n",
       "      <td>57.544086</td>\n",
       "      <td>1.989247</td>\n",
       "      <td>0.034409</td>\n",
       "      <td>3.195699</td>\n",
       "      <td>10.253763</td>\n",
       "      <td>0.309677</td>\n",
       "      <td>0.144086</td>\n",
       "    </tr>\n",
       "  </tbody>\n",
       "</table>\n",
       "</div>"
      ],
      "text/plain": [
       "            age  position_cat  market_value  ...    club_id  big_club  new_signing\n",
       "min   17.000000      1.000000      0.050000  ...   1.000000  0.000000     0.000000\n",
       "max   38.000000      4.000000     75.000000  ...  20.000000  1.000000     1.000000\n",
       "mean  26.776344      2.178495     11.125649  ...  10.253763  0.309677     0.144086\n",
       "\n",
       "[3 rows x 12 columns]"
      ]
     },
     "execution_count": 261,
     "metadata": {
      "tags": []
     },
     "output_type": "execute_result"
    }
   ],
   "source": [
    "players.select_dtypes(np.number).agg(['min', 'max', 'mean'])"
   ]
  },
  {
   "cell_type": "markdown",
   "metadata": {
    "colab_type": "text",
    "id": "dyZKu1gEu62k"
   },
   "source": [
    "#### Same-shape Transforms"
   ]
  },
  {
   "cell_type": "code",
   "execution_count": 262,
   "metadata": {
    "colab": {
     "base_uri": "https://localhost:8080/",
     "height": 0
    },
    "colab_type": "code",
    "id": "OD9QFGUtv9ge",
    "outputId": "03c64724-5ca3-47a0-ac4e-21eb7fce9f8b"
   },
   "outputs": [
    {
     "data": {
      "text/html": [
       "<div>\n",
       "<style scoped>\n",
       "    .dataframe tbody tr th:only-of-type {\n",
       "        vertical-align: middle;\n",
       "    }\n",
       "\n",
       "    .dataframe tbody tr th {\n",
       "        vertical-align: top;\n",
       "    }\n",
       "\n",
       "    .dataframe thead th {\n",
       "        text-align: right;\n",
       "    }\n",
       "</style>\n",
       "<table border=\"1\" class=\"dataframe\">\n",
       "  <thead>\n",
       "    <tr style=\"text-align: right;\">\n",
       "      <th></th>\n",
       "      <th>name</th>\n",
       "      <th>club</th>\n",
       "      <th>age</th>\n",
       "      <th>position</th>\n",
       "      <th>position_cat</th>\n",
       "      <th>market_value</th>\n",
       "      <th>page_views</th>\n",
       "      <th>fpl_value</th>\n",
       "      <th>fpl_sel</th>\n",
       "      <th>fpl_points</th>\n",
       "      <th>region</th>\n",
       "      <th>nationality</th>\n",
       "      <th>new_foreign</th>\n",
       "      <th>age_cat</th>\n",
       "      <th>club_id</th>\n",
       "      <th>big_club</th>\n",
       "      <th>new_signing</th>\n",
       "    </tr>\n",
       "  </thead>\n",
       "  <tbody>\n",
       "    <tr>\n",
       "      <th>0</th>\n",
       "      <td>Alexis Sanchez</td>\n",
       "      <td>Arsenal</td>\n",
       "      <td>28</td>\n",
       "      <td>LW</td>\n",
       "      <td>1</td>\n",
       "      <td>65.0</td>\n",
       "      <td>4329</td>\n",
       "      <td>12.0</td>\n",
       "      <td>17.10%</td>\n",
       "      <td>264</td>\n",
       "      <td>3</td>\n",
       "      <td>Chile</td>\n",
       "      <td>0</td>\n",
       "      <td>4</td>\n",
       "      <td>1</td>\n",
       "      <td>1</td>\n",
       "      <td>0</td>\n",
       "    </tr>\n",
       "    <tr>\n",
       "      <th>1</th>\n",
       "      <td>Mesut Ozil</td>\n",
       "      <td>Arsenal</td>\n",
       "      <td>28</td>\n",
       "      <td>AM</td>\n",
       "      <td>1</td>\n",
       "      <td>50.0</td>\n",
       "      <td>4395</td>\n",
       "      <td>9.5</td>\n",
       "      <td>5.60%</td>\n",
       "      <td>167</td>\n",
       "      <td>2</td>\n",
       "      <td>Germany</td>\n",
       "      <td>0</td>\n",
       "      <td>4</td>\n",
       "      <td>1</td>\n",
       "      <td>1</td>\n",
       "      <td>0</td>\n",
       "    </tr>\n",
       "    <tr>\n",
       "      <th>2</th>\n",
       "      <td>Petr Cech</td>\n",
       "      <td>Arsenal</td>\n",
       "      <td>35</td>\n",
       "      <td>GK</td>\n",
       "      <td>4</td>\n",
       "      <td>7.0</td>\n",
       "      <td>1529</td>\n",
       "      <td>5.5</td>\n",
       "      <td>5.90%</td>\n",
       "      <td>134</td>\n",
       "      <td>2</td>\n",
       "      <td>Czech Republic</td>\n",
       "      <td>0</td>\n",
       "      <td>6</td>\n",
       "      <td>1</td>\n",
       "      <td>1</td>\n",
       "      <td>0</td>\n",
       "    </tr>\n",
       "  </tbody>\n",
       "</table>\n",
       "</div>"
      ],
      "text/plain": [
       "             name     club  age  ... club_id  big_club  new_signing\n",
       "0  Alexis Sanchez  Arsenal   28  ...       1         1            0\n",
       "1      Mesut Ozil  Arsenal   28  ...       1         1            0\n",
       "2       Petr Cech  Arsenal   35  ...       1         1            0\n",
       "\n",
       "[3 rows x 17 columns]"
      ]
     },
     "execution_count": 262,
     "metadata": {
      "tags": []
     },
     "output_type": "execute_result"
    }
   ],
   "source": [
    "players.head(3)"
   ]
  },
  {
   "cell_type": "code",
   "execution_count": 0,
   "metadata": {
    "colab": {},
    "colab_type": "code",
    "id": "0zHJMYRAv9UY"
   },
   "outputs": [],
   "source": [
    "# we need an fx rate"
   ]
  },
  {
   "cell_type": "code",
   "execution_count": 0,
   "metadata": {
    "colab": {},
    "colab_type": "code",
    "id": "CPxcR8XWv7cO"
   },
   "outputs": [],
   "source": [
    "# usdeur = 0.91"
   ]
  },
  {
   "cell_type": "code",
   "execution_count": 265,
   "metadata": {
    "colab": {
     "base_uri": "https://localhost:8080/",
     "height": 0
    },
    "colab_type": "code",
    "id": "wHR1js8Z1NCe",
    "outputId": "08b578b4-b195-40be-9090-f6f10cfce1de"
   },
   "outputs": [
    {
     "data": {
      "text/html": [
       "<div>\n",
       "<style scoped>\n",
       "    .dataframe tbody tr th:only-of-type {\n",
       "        vertical-align: middle;\n",
       "    }\n",
       "\n",
       "    .dataframe tbody tr th {\n",
       "        vertical-align: top;\n",
       "    }\n",
       "\n",
       "    .dataframe thead th {\n",
       "        text-align: right;\n",
       "    }\n",
       "</style>\n",
       "<table border=\"1\" class=\"dataframe\">\n",
       "  <thead>\n",
       "    <tr style=\"text-align: right;\">\n",
       "      <th></th>\n",
       "      <th>market_value</th>\n",
       "      <th>fpl_value</th>\n",
       "    </tr>\n",
       "  </thead>\n",
       "  <tbody>\n",
       "    <tr>\n",
       "      <th>0</th>\n",
       "      <td>65.0</td>\n",
       "      <td>12.0</td>\n",
       "    </tr>\n",
       "    <tr>\n",
       "      <th>1</th>\n",
       "      <td>50.0</td>\n",
       "      <td>9.5</td>\n",
       "    </tr>\n",
       "    <tr>\n",
       "      <th>2</th>\n",
       "      <td>7.0</td>\n",
       "      <td>5.5</td>\n",
       "    </tr>\n",
       "    <tr>\n",
       "      <th>3</th>\n",
       "      <td>20.0</td>\n",
       "      <td>7.5</td>\n",
       "    </tr>\n",
       "    <tr>\n",
       "      <th>4</th>\n",
       "      <td>22.0</td>\n",
       "      <td>6.0</td>\n",
       "    </tr>\n",
       "    <tr>\n",
       "      <th>...</th>\n",
       "      <td>...</td>\n",
       "      <td>...</td>\n",
       "    </tr>\n",
       "    <tr>\n",
       "      <th>460</th>\n",
       "      <td>5.0</td>\n",
       "      <td>4.5</td>\n",
       "    </tr>\n",
       "    <tr>\n",
       "      <th>461</th>\n",
       "      <td>7.0</td>\n",
       "      <td>4.5</td>\n",
       "    </tr>\n",
       "    <tr>\n",
       "      <th>462</th>\n",
       "      <td>4.5</td>\n",
       "      <td>4.5</td>\n",
       "    </tr>\n",
       "    <tr>\n",
       "      <th>463</th>\n",
       "      <td>1.0</td>\n",
       "      <td>4.5</td>\n",
       "    </tr>\n",
       "    <tr>\n",
       "      <th>464</th>\n",
       "      <td>10.0</td>\n",
       "      <td>5.5</td>\n",
       "    </tr>\n",
       "  </tbody>\n",
       "</table>\n",
       "<p>465 rows × 2 columns</p>\n",
       "</div>"
      ],
      "text/plain": [
       "     market_value  fpl_value\n",
       "0            65.0       12.0\n",
       "1            50.0        9.5\n",
       "2             7.0        5.5\n",
       "3            20.0        7.5\n",
       "4            22.0        6.0\n",
       "..            ...        ...\n",
       "460           5.0        4.5\n",
       "461           7.0        4.5\n",
       "462           4.5        4.5\n",
       "463           1.0        4.5\n",
       "464          10.0        5.5\n",
       "\n",
       "[465 rows x 2 columns]"
      ]
     },
     "execution_count": 265,
     "metadata": {
      "tags": []
     },
     "output_type": "execute_result"
    }
   ],
   "source": [
    "players.loc[:, ['market_value', 'fpl_value']]"
   ]
  },
  {
   "cell_type": "code",
   "execution_count": 266,
   "metadata": {
    "colab": {
     "base_uri": "https://localhost:8080/",
     "height": 0
    },
    "colab_type": "code",
    "id": "cO3raj_I1TcR",
    "outputId": "515843c1-9ea3-4fcb-c8c3-121bb3d36a13"
   },
   "outputs": [
    {
     "data": {
      "text/html": [
       "<div>\n",
       "<style scoped>\n",
       "    .dataframe tbody tr th:only-of-type {\n",
       "        vertical-align: middle;\n",
       "    }\n",
       "\n",
       "    .dataframe tbody tr th {\n",
       "        vertical-align: top;\n",
       "    }\n",
       "\n",
       "    .dataframe thead th {\n",
       "        text-align: right;\n",
       "    }\n",
       "</style>\n",
       "<table border=\"1\" class=\"dataframe\">\n",
       "  <thead>\n",
       "    <tr style=\"text-align: right;\">\n",
       "      <th></th>\n",
       "      <th>market_value</th>\n",
       "      <th>fpl_value</th>\n",
       "    </tr>\n",
       "  </thead>\n",
       "  <tbody>\n",
       "    <tr>\n",
       "      <th>0</th>\n",
       "      <td>59.150</td>\n",
       "      <td>10.920</td>\n",
       "    </tr>\n",
       "    <tr>\n",
       "      <th>1</th>\n",
       "      <td>45.500</td>\n",
       "      <td>8.645</td>\n",
       "    </tr>\n",
       "    <tr>\n",
       "      <th>2</th>\n",
       "      <td>6.370</td>\n",
       "      <td>5.005</td>\n",
       "    </tr>\n",
       "    <tr>\n",
       "      <th>3</th>\n",
       "      <td>18.200</td>\n",
       "      <td>6.825</td>\n",
       "    </tr>\n",
       "    <tr>\n",
       "      <th>4</th>\n",
       "      <td>20.020</td>\n",
       "      <td>5.460</td>\n",
       "    </tr>\n",
       "    <tr>\n",
       "      <th>...</th>\n",
       "      <td>...</td>\n",
       "      <td>...</td>\n",
       "    </tr>\n",
       "    <tr>\n",
       "      <th>460</th>\n",
       "      <td>4.550</td>\n",
       "      <td>4.095</td>\n",
       "    </tr>\n",
       "    <tr>\n",
       "      <th>461</th>\n",
       "      <td>6.370</td>\n",
       "      <td>4.095</td>\n",
       "    </tr>\n",
       "    <tr>\n",
       "      <th>462</th>\n",
       "      <td>4.095</td>\n",
       "      <td>4.095</td>\n",
       "    </tr>\n",
       "    <tr>\n",
       "      <th>463</th>\n",
       "      <td>0.910</td>\n",
       "      <td>4.095</td>\n",
       "    </tr>\n",
       "    <tr>\n",
       "      <th>464</th>\n",
       "      <td>9.100</td>\n",
       "      <td>5.005</td>\n",
       "    </tr>\n",
       "  </tbody>\n",
       "</table>\n",
       "<p>465 rows × 2 columns</p>\n",
       "</div>"
      ],
      "text/plain": [
       "     market_value  fpl_value\n",
       "0          59.150     10.920\n",
       "1          45.500      8.645\n",
       "2           6.370      5.005\n",
       "3          18.200      6.825\n",
       "4          20.020      5.460\n",
       "..            ...        ...\n",
       "460         4.550      4.095\n",
       "461         6.370      4.095\n",
       "462         4.095      4.095\n",
       "463         0.910      4.095\n",
       "464         9.100      5.005\n",
       "\n",
       "[465 rows x 2 columns]"
      ]
     },
     "execution_count": 266,
     "metadata": {
      "tags": []
     },
     "output_type": "execute_result"
    }
   ],
   "source": [
    "players.loc[:, ['market_value', 'fpl_value']].transform(lambda x: x * 0.91)"
   ]
  },
  {
   "cell_type": "code",
   "execution_count": 267,
   "metadata": {
    "colab": {
     "base_uri": "https://localhost:8080/",
     "height": 0
    },
    "colab_type": "code",
    "id": "lJLC8xWA1m7S",
    "outputId": "9f8352d6-4cc9-47df-bf5f-9bac82906dc1"
   },
   "outputs": [
    {
     "data": {
      "text/html": [
       "<div>\n",
       "<style scoped>\n",
       "    .dataframe tbody tr th:only-of-type {\n",
       "        vertical-align: middle;\n",
       "    }\n",
       "\n",
       "    .dataframe tbody tr th {\n",
       "        vertical-align: top;\n",
       "    }\n",
       "\n",
       "    .dataframe thead th {\n",
       "        text-align: right;\n",
       "    }\n",
       "</style>\n",
       "<table border=\"1\" class=\"dataframe\">\n",
       "  <thead>\n",
       "    <tr style=\"text-align: right;\">\n",
       "      <th></th>\n",
       "      <th>market_value</th>\n",
       "      <th>fpl_value</th>\n",
       "    </tr>\n",
       "  </thead>\n",
       "  <tbody>\n",
       "    <tr>\n",
       "      <th>0</th>\n",
       "      <td>59.150</td>\n",
       "      <td>10.920</td>\n",
       "    </tr>\n",
       "    <tr>\n",
       "      <th>1</th>\n",
       "      <td>45.500</td>\n",
       "      <td>8.645</td>\n",
       "    </tr>\n",
       "    <tr>\n",
       "      <th>2</th>\n",
       "      <td>6.370</td>\n",
       "      <td>5.005</td>\n",
       "    </tr>\n",
       "    <tr>\n",
       "      <th>3</th>\n",
       "      <td>18.200</td>\n",
       "      <td>6.825</td>\n",
       "    </tr>\n",
       "    <tr>\n",
       "      <th>4</th>\n",
       "      <td>20.020</td>\n",
       "      <td>5.460</td>\n",
       "    </tr>\n",
       "    <tr>\n",
       "      <th>...</th>\n",
       "      <td>...</td>\n",
       "      <td>...</td>\n",
       "    </tr>\n",
       "    <tr>\n",
       "      <th>460</th>\n",
       "      <td>4.550</td>\n",
       "      <td>4.095</td>\n",
       "    </tr>\n",
       "    <tr>\n",
       "      <th>461</th>\n",
       "      <td>6.370</td>\n",
       "      <td>4.095</td>\n",
       "    </tr>\n",
       "    <tr>\n",
       "      <th>462</th>\n",
       "      <td>4.095</td>\n",
       "      <td>4.095</td>\n",
       "    </tr>\n",
       "    <tr>\n",
       "      <th>463</th>\n",
       "      <td>0.910</td>\n",
       "      <td>4.095</td>\n",
       "    </tr>\n",
       "    <tr>\n",
       "      <th>464</th>\n",
       "      <td>9.100</td>\n",
       "      <td>5.005</td>\n",
       "    </tr>\n",
       "  </tbody>\n",
       "</table>\n",
       "<p>465 rows × 2 columns</p>\n",
       "</div>"
      ],
      "text/plain": [
       "     market_value  fpl_value\n",
       "0          59.150     10.920\n",
       "1          45.500      8.645\n",
       "2           6.370      5.005\n",
       "3          18.200      6.825\n",
       "4          20.020      5.460\n",
       "..            ...        ...\n",
       "460         4.550      4.095\n",
       "461         6.370      4.095\n",
       "462         4.095      4.095\n",
       "463         0.910      4.095\n",
       "464         9.100      5.005\n",
       "\n",
       "[465 rows x 2 columns]"
      ]
     },
     "execution_count": 267,
     "metadata": {
      "tags": []
     },
     "output_type": "execute_result"
    }
   ],
   "source": [
    "players.loc[:, ['market_value', 'fpl_value']] * 0.91"
   ]
  },
  {
   "cell_type": "code",
   "execution_count": 0,
   "metadata": {
    "colab": {},
    "colab_type": "code",
    "id": "BCbB612C1tZr"
   },
   "outputs": [],
   "source": [
    "# ===ASIDE"
   ]
  },
  {
   "cell_type": "code",
   "execution_count": 0,
   "metadata": {
    "colab": {},
    "colab_type": "code",
    "id": "kbKUv0os19OW"
   },
   "outputs": [],
   "source": [
    "# 1. choice"
   ]
  },
  {
   "cell_type": "code",
   "execution_count": 0,
   "metadata": {
    "colab": {},
    "colab_type": "code",
    "id": "2WEWfmf8191e"
   },
   "outputs": [],
   "source": [
    "from random import choice"
   ]
  },
  {
   "cell_type": "code",
   "execution_count": 0,
   "metadata": {
    "colab": {},
    "colab_type": "code",
    "id": "xFpgWhSs2And"
   },
   "outputs": [],
   "source": [
    "names = ['Bud', 'Brooke', 'Paleo']"
   ]
  },
  {
   "cell_type": "code",
   "execution_count": 272,
   "metadata": {
    "colab": {
     "base_uri": "https://localhost:8080/",
     "height": 0
    },
    "colab_type": "code",
    "id": "qvKLgPot2E6_",
    "outputId": "e96c8fbb-159f-4c35-a95b-336f80947c55"
   },
   "outputs": [
    {
     "data": {
      "text/plain": [
       "'Paleo'"
      ]
     },
     "execution_count": 272,
     "metadata": {
      "tags": []
     },
     "output_type": "execute_result"
    }
   ],
   "source": [
    "choice(names)"
   ]
  },
  {
   "cell_type": "code",
   "execution_count": 0,
   "metadata": {
    "colab": {},
    "colab_type": "code",
    "id": "kSl2_pKh2GJ3"
   },
   "outputs": [],
   "source": [
    "# 2. str methods"
   ]
  },
  {
   "cell_type": "code",
   "execution_count": 274,
   "metadata": {
    "colab": {
     "base_uri": "https://localhost:8080/",
     "height": 0
    },
    "colab_type": "code",
    "id": "Gw6wMX6L2Rq3",
    "outputId": "2994a5e4-913d-40f5-b618-a1b9b1c0fb62"
   },
   "outputs": [
    {
     "data": {
      "text/plain": [
       "'ANDY'"
      ]
     },
     "execution_count": 274,
     "metadata": {
      "tags": []
     },
     "output_type": "execute_result"
    }
   ],
   "source": [
    "'Andy'.upper()"
   ]
  },
  {
   "cell_type": "code",
   "execution_count": 0,
   "metadata": {
    "colab": {},
    "colab_type": "code",
    "id": "BFa0v-jt2SzO"
   },
   "outputs": [],
   "source": [
    "ser = pd.Series(['Bud CriMSon', 'Brooke', 'Paleo'])"
   ]
  },
  {
   "cell_type": "code",
   "execution_count": 276,
   "metadata": {
    "colab": {
     "base_uri": "https://localhost:8080/",
     "height": 0
    },
    "colab_type": "code",
    "id": "ohcT87dL2Wjs",
    "outputId": "eb410c80-c5ee-4e32-e7db-0c0b0289a8e1"
   },
   "outputs": [
    {
     "data": {
      "text/plain": [
       "0    BUD CRIMSON\n",
       "1         BROOKE\n",
       "2          PALEO\n",
       "dtype: object"
      ]
     },
     "execution_count": 276,
     "metadata": {
      "tags": []
     },
     "output_type": "execute_result"
    }
   ],
   "source": [
    "ser.str.upper()"
   ]
  },
  {
   "cell_type": "code",
   "execution_count": 277,
   "metadata": {
    "colab": {
     "base_uri": "https://localhost:8080/",
     "height": 0
    },
    "colab_type": "code",
    "id": "d5Rl6sOc2cYx",
    "outputId": "5bf74ace-6a63-49bc-cfb3-dea475da4cc7"
   },
   "outputs": [
    {
     "data": {
      "text/plain": [
       "0    Bud Crimson\n",
       "1         Brooke\n",
       "2          Paleo\n",
       "dtype: object"
      ]
     },
     "execution_count": 277,
     "metadata": {
      "tags": []
     },
     "output_type": "execute_result"
    }
   ],
   "source": [
    "ser.str.title()"
   ]
  },
  {
   "cell_type": "code",
   "execution_count": 278,
   "metadata": {
    "colab": {
     "base_uri": "https://localhost:8080/",
     "height": 0
    },
    "colab_type": "code",
    "id": "Wt9ywHjc2lzD",
    "outputId": "60572227-a7de-470c-866e-f13adf03103c"
   },
   "outputs": [
    {
     "data": {
      "text/plain": [
       "0    bUD cRImsON\n",
       "1         bROOKE\n",
       "2          pALEO\n",
       "dtype: object"
      ]
     },
     "execution_count": 278,
     "metadata": {
      "tags": []
     },
     "output_type": "execute_result"
    }
   ],
   "source": [
    "ser.str.swapcase()"
   ]
  },
  {
   "cell_type": "code",
   "execution_count": 0,
   "metadata": {
    "colab": {},
    "colab_type": "code",
    "id": "v0LuGdMB2sPK"
   },
   "outputs": [],
   "source": [
    "# ===END ASIDE"
   ]
  },
  {
   "cell_type": "code",
   "execution_count": 0,
   "metadata": {
    "colab": {},
    "colab_type": "code",
    "id": "-3_uzRgY2vXl"
   },
   "outputs": [],
   "source": [
    "# the function should:\n",
    "# - apply a random string capitalization method\n",
    "# - to a sequence of values, and\n",
    "# - return the transformed sequence"
   ]
  },
  {
   "cell_type": "code",
   "execution_count": 0,
   "metadata": {
    "colab": {},
    "colab_type": "code",
    "id": "F61OqT-l28FV"
   },
   "outputs": [],
   "source": [
    "def random_case(x):\n",
    "  funcs = [x.str.swapcase, x.str.lower, x.str.title, x.str.upper]\n",
    "\n",
    "  return choice(funcs)()"
   ]
  },
  {
   "cell_type": "code",
   "execution_count": 282,
   "metadata": {
    "colab": {
     "base_uri": "https://localhost:8080/",
     "height": 0
    },
    "colab_type": "code",
    "id": "Auky1TE72--l",
    "outputId": "62d1b70d-24f0-4cbb-b764-3aa79eed6dfe"
   },
   "outputs": [
    {
     "name": "stdout",
     "output_type": "stream",
     "text": [
      "                name     club position fpl_sel     nationality\n",
      "0     Alexis Sanchez  arsenal       LW  17.10%           CHILE\n",
      "1         Mesut Ozil  arsenal       AM   5.60%         GERMANY\n",
      "2          Petr Cech  arsenal       GK   5.90%  CZECH REPUBLIC\n",
      "3       Theo Walcott  arsenal       RW   1.50%         ENGLAND\n",
      "4  Laurent Koscielny  arsenal       CB   0.70%          FRANCE\n",
      "                name     club position fpl_sel     nationality\n",
      "0     alexis sanchez  Arsenal       lw  17.10%           chile\n",
      "1         mesut ozil  Arsenal       am   5.60%         germany\n",
      "2          petr cech  Arsenal       gk   5.90%  czech republic\n",
      "3       theo walcott  Arsenal       rw   1.50%         england\n",
      "4  laurent koscielny  Arsenal       cb   0.70%          france\n",
      "                name     club position fpl_sel     nationality\n",
      "0     aLEXIS sANCHEZ  ARSENAL       Lw  17.10%           Chile\n",
      "1         mESUT oZIL  ARSENAL       Am   5.60%         Germany\n",
      "2          pETR cECH  ARSENAL       Gk   5.90%  Czech Republic\n",
      "3       tHEO wALCOTT  ARSENAL       Rw   1.50%         England\n",
      "4  lAURENT kOSCIELNY  ARSENAL       Cb   0.70%          France\n",
      "                name     club position fpl_sel     nationality\n",
      "0     Alexis Sanchez  arsenal       Lw  17.10%           chile\n",
      "1         Mesut Ozil  arsenal       Am   5.60%         germany\n",
      "2          Petr Cech  arsenal       Gk   5.90%  czech republic\n",
      "3       Theo Walcott  arsenal       Rw   1.50%         england\n",
      "4  Laurent Koscielny  arsenal       Cb   0.70%          france\n"
     ]
    }
   ],
   "source": [
    "for i in range(4):\n",
    "  print(players.select_dtypes(include=object).transform(random_case).head())"
   ]
  },
  {
   "cell_type": "markdown",
   "metadata": {
    "colab_type": "text",
    "id": "GLYhDNtR3IZx"
   },
   "source": [
    "#### More Flexibility With apply()"
   ]
  },
  {
   "cell_type": "code",
   "execution_count": 283,
   "metadata": {
    "colab": {
     "base_uri": "https://localhost:8080/",
     "height": 0
    },
    "colab_type": "code",
    "id": "EaXyfeGyDFao",
    "outputId": "fec00786-5e78-43da-9192-a35418dea6b6"
   },
   "outputs": [
    {
     "data": {
      "text/html": [
       "<div>\n",
       "<style scoped>\n",
       "    .dataframe tbody tr th:only-of-type {\n",
       "        vertical-align: middle;\n",
       "    }\n",
       "\n",
       "    .dataframe tbody tr th {\n",
       "        vertical-align: top;\n",
       "    }\n",
       "\n",
       "    .dataframe thead th {\n",
       "        text-align: right;\n",
       "    }\n",
       "</style>\n",
       "<table border=\"1\" class=\"dataframe\">\n",
       "  <thead>\n",
       "    <tr style=\"text-align: right;\">\n",
       "      <th></th>\n",
       "      <th>name</th>\n",
       "      <th>club</th>\n",
       "      <th>age</th>\n",
       "      <th>position</th>\n",
       "      <th>position_cat</th>\n",
       "      <th>market_value</th>\n",
       "      <th>page_views</th>\n",
       "      <th>fpl_value</th>\n",
       "      <th>fpl_sel</th>\n",
       "      <th>fpl_points</th>\n",
       "      <th>region</th>\n",
       "      <th>nationality</th>\n",
       "      <th>new_foreign</th>\n",
       "      <th>age_cat</th>\n",
       "      <th>club_id</th>\n",
       "      <th>big_club</th>\n",
       "      <th>new_signing</th>\n",
       "    </tr>\n",
       "  </thead>\n",
       "  <tbody>\n",
       "    <tr>\n",
       "      <th>0</th>\n",
       "      <td>Alexis Sanchez</td>\n",
       "      <td>Arsenal</td>\n",
       "      <td>28</td>\n",
       "      <td>LW</td>\n",
       "      <td>1</td>\n",
       "      <td>65.0</td>\n",
       "      <td>4329</td>\n",
       "      <td>12.0</td>\n",
       "      <td>17.10%</td>\n",
       "      <td>264</td>\n",
       "      <td>3</td>\n",
       "      <td>Chile</td>\n",
       "      <td>0</td>\n",
       "      <td>4</td>\n",
       "      <td>1</td>\n",
       "      <td>1</td>\n",
       "      <td>0</td>\n",
       "    </tr>\n",
       "    <tr>\n",
       "      <th>1</th>\n",
       "      <td>Mesut Ozil</td>\n",
       "      <td>Arsenal</td>\n",
       "      <td>28</td>\n",
       "      <td>AM</td>\n",
       "      <td>1</td>\n",
       "      <td>50.0</td>\n",
       "      <td>4395</td>\n",
       "      <td>9.5</td>\n",
       "      <td>5.60%</td>\n",
       "      <td>167</td>\n",
       "      <td>2</td>\n",
       "      <td>Germany</td>\n",
       "      <td>0</td>\n",
       "      <td>4</td>\n",
       "      <td>1</td>\n",
       "      <td>1</td>\n",
       "      <td>0</td>\n",
       "    </tr>\n",
       "    <tr>\n",
       "      <th>2</th>\n",
       "      <td>Petr Cech</td>\n",
       "      <td>Arsenal</td>\n",
       "      <td>35</td>\n",
       "      <td>GK</td>\n",
       "      <td>4</td>\n",
       "      <td>7.0</td>\n",
       "      <td>1529</td>\n",
       "      <td>5.5</td>\n",
       "      <td>5.90%</td>\n",
       "      <td>134</td>\n",
       "      <td>2</td>\n",
       "      <td>Czech Republic</td>\n",
       "      <td>0</td>\n",
       "      <td>6</td>\n",
       "      <td>1</td>\n",
       "      <td>1</td>\n",
       "      <td>0</td>\n",
       "    </tr>\n",
       "    <tr>\n",
       "      <th>3</th>\n",
       "      <td>Theo Walcott</td>\n",
       "      <td>Arsenal</td>\n",
       "      <td>28</td>\n",
       "      <td>RW</td>\n",
       "      <td>1</td>\n",
       "      <td>20.0</td>\n",
       "      <td>2393</td>\n",
       "      <td>7.5</td>\n",
       "      <td>1.50%</td>\n",
       "      <td>122</td>\n",
       "      <td>1</td>\n",
       "      <td>England</td>\n",
       "      <td>0</td>\n",
       "      <td>4</td>\n",
       "      <td>1</td>\n",
       "      <td>1</td>\n",
       "      <td>0</td>\n",
       "    </tr>\n",
       "    <tr>\n",
       "      <th>4</th>\n",
       "      <td>Laurent Koscielny</td>\n",
       "      <td>Arsenal</td>\n",
       "      <td>31</td>\n",
       "      <td>CB</td>\n",
       "      <td>3</td>\n",
       "      <td>22.0</td>\n",
       "      <td>912</td>\n",
       "      <td>6.0</td>\n",
       "      <td>0.70%</td>\n",
       "      <td>121</td>\n",
       "      <td>2</td>\n",
       "      <td>France</td>\n",
       "      <td>0</td>\n",
       "      <td>4</td>\n",
       "      <td>1</td>\n",
       "      <td>1</td>\n",
       "      <td>0</td>\n",
       "    </tr>\n",
       "  </tbody>\n",
       "</table>\n",
       "</div>"
      ],
      "text/plain": [
       "                name     club  age  ... club_id  big_club  new_signing\n",
       "0     Alexis Sanchez  Arsenal   28  ...       1         1            0\n",
       "1         Mesut Ozil  Arsenal   28  ...       1         1            0\n",
       "2          Petr Cech  Arsenal   35  ...       1         1            0\n",
       "3       Theo Walcott  Arsenal   28  ...       1         1            0\n",
       "4  Laurent Koscielny  Arsenal   31  ...       1         1            0\n",
       "\n",
       "[5 rows x 17 columns]"
      ]
     },
     "execution_count": 283,
     "metadata": {
      "tags": []
     },
     "output_type": "execute_result"
    }
   ],
   "source": [
    "players.head()"
   ]
  },
  {
   "cell_type": "code",
   "execution_count": 0,
   "metadata": {
    "colab": {},
    "colab_type": "code",
    "id": "CyFhrwr_DFUN"
   },
   "outputs": [],
   "source": [
    "def round_floats(x):\n",
    "  if x.dtype == np.float64:\n",
    "    return round(x)\n",
    "\n",
    "  return x"
   ]
  },
  {
   "cell_type": "code",
   "execution_count": 285,
   "metadata": {
    "colab": {
     "base_uri": "https://localhost:8080/",
     "height": 0
    },
    "colab_type": "code",
    "id": "UtAyz_pdDFN1",
    "outputId": "aab8579d-64c3-44e3-dc74-3785688d79b3"
   },
   "outputs": [
    {
     "data": {
      "text/html": [
       "<div>\n",
       "<style scoped>\n",
       "    .dataframe tbody tr th:only-of-type {\n",
       "        vertical-align: middle;\n",
       "    }\n",
       "\n",
       "    .dataframe tbody tr th {\n",
       "        vertical-align: top;\n",
       "    }\n",
       "\n",
       "    .dataframe thead th {\n",
       "        text-align: right;\n",
       "    }\n",
       "</style>\n",
       "<table border=\"1\" class=\"dataframe\">\n",
       "  <thead>\n",
       "    <tr style=\"text-align: right;\">\n",
       "      <th></th>\n",
       "      <th>name</th>\n",
       "      <th>club</th>\n",
       "      <th>age</th>\n",
       "      <th>position</th>\n",
       "      <th>position_cat</th>\n",
       "      <th>market_value</th>\n",
       "      <th>page_views</th>\n",
       "      <th>fpl_value</th>\n",
       "      <th>fpl_sel</th>\n",
       "      <th>fpl_points</th>\n",
       "      <th>region</th>\n",
       "      <th>nationality</th>\n",
       "      <th>new_foreign</th>\n",
       "      <th>age_cat</th>\n",
       "      <th>club_id</th>\n",
       "      <th>big_club</th>\n",
       "      <th>new_signing</th>\n",
       "    </tr>\n",
       "  </thead>\n",
       "  <tbody>\n",
       "    <tr>\n",
       "      <th>0</th>\n",
       "      <td>Alexis Sanchez</td>\n",
       "      <td>Arsenal</td>\n",
       "      <td>28</td>\n",
       "      <td>LW</td>\n",
       "      <td>1</td>\n",
       "      <td>65.0</td>\n",
       "      <td>4329</td>\n",
       "      <td>12.0</td>\n",
       "      <td>17.10%</td>\n",
       "      <td>264</td>\n",
       "      <td>3</td>\n",
       "      <td>Chile</td>\n",
       "      <td>0</td>\n",
       "      <td>4</td>\n",
       "      <td>1</td>\n",
       "      <td>1</td>\n",
       "      <td>0</td>\n",
       "    </tr>\n",
       "    <tr>\n",
       "      <th>1</th>\n",
       "      <td>Mesut Ozil</td>\n",
       "      <td>Arsenal</td>\n",
       "      <td>28</td>\n",
       "      <td>AM</td>\n",
       "      <td>1</td>\n",
       "      <td>50.0</td>\n",
       "      <td>4395</td>\n",
       "      <td>10.0</td>\n",
       "      <td>5.60%</td>\n",
       "      <td>167</td>\n",
       "      <td>2</td>\n",
       "      <td>Germany</td>\n",
       "      <td>0</td>\n",
       "      <td>4</td>\n",
       "      <td>1</td>\n",
       "      <td>1</td>\n",
       "      <td>0</td>\n",
       "    </tr>\n",
       "    <tr>\n",
       "      <th>2</th>\n",
       "      <td>Petr Cech</td>\n",
       "      <td>Arsenal</td>\n",
       "      <td>35</td>\n",
       "      <td>GK</td>\n",
       "      <td>4</td>\n",
       "      <td>7.0</td>\n",
       "      <td>1529</td>\n",
       "      <td>6.0</td>\n",
       "      <td>5.90%</td>\n",
       "      <td>134</td>\n",
       "      <td>2</td>\n",
       "      <td>Czech Republic</td>\n",
       "      <td>0</td>\n",
       "      <td>6</td>\n",
       "      <td>1</td>\n",
       "      <td>1</td>\n",
       "      <td>0</td>\n",
       "    </tr>\n",
       "    <tr>\n",
       "      <th>3</th>\n",
       "      <td>Theo Walcott</td>\n",
       "      <td>Arsenal</td>\n",
       "      <td>28</td>\n",
       "      <td>RW</td>\n",
       "      <td>1</td>\n",
       "      <td>20.0</td>\n",
       "      <td>2393</td>\n",
       "      <td>8.0</td>\n",
       "      <td>1.50%</td>\n",
       "      <td>122</td>\n",
       "      <td>1</td>\n",
       "      <td>England</td>\n",
       "      <td>0</td>\n",
       "      <td>4</td>\n",
       "      <td>1</td>\n",
       "      <td>1</td>\n",
       "      <td>0</td>\n",
       "    </tr>\n",
       "    <tr>\n",
       "      <th>4</th>\n",
       "      <td>Laurent Koscielny</td>\n",
       "      <td>Arsenal</td>\n",
       "      <td>31</td>\n",
       "      <td>CB</td>\n",
       "      <td>3</td>\n",
       "      <td>22.0</td>\n",
       "      <td>912</td>\n",
       "      <td>6.0</td>\n",
       "      <td>0.70%</td>\n",
       "      <td>121</td>\n",
       "      <td>2</td>\n",
       "      <td>France</td>\n",
       "      <td>0</td>\n",
       "      <td>4</td>\n",
       "      <td>1</td>\n",
       "      <td>1</td>\n",
       "      <td>0</td>\n",
       "    </tr>\n",
       "    <tr>\n",
       "      <th>...</th>\n",
       "      <td>...</td>\n",
       "      <td>...</td>\n",
       "      <td>...</td>\n",
       "      <td>...</td>\n",
       "      <td>...</td>\n",
       "      <td>...</td>\n",
       "      <td>...</td>\n",
       "      <td>...</td>\n",
       "      <td>...</td>\n",
       "      <td>...</td>\n",
       "      <td>...</td>\n",
       "      <td>...</td>\n",
       "      <td>...</td>\n",
       "      <td>...</td>\n",
       "      <td>...</td>\n",
       "      <td>...</td>\n",
       "      <td>...</td>\n",
       "    </tr>\n",
       "    <tr>\n",
       "      <th>460</th>\n",
       "      <td>Edimilson Fernandes</td>\n",
       "      <td>West+Ham</td>\n",
       "      <td>21</td>\n",
       "      <td>CM</td>\n",
       "      <td>2</td>\n",
       "      <td>5.0</td>\n",
       "      <td>288</td>\n",
       "      <td>4.0</td>\n",
       "      <td>0.40%</td>\n",
       "      <td>38</td>\n",
       "      <td>2</td>\n",
       "      <td>Switzerland</td>\n",
       "      <td>0</td>\n",
       "      <td>1</td>\n",
       "      <td>20</td>\n",
       "      <td>0</td>\n",
       "      <td>1</td>\n",
       "    </tr>\n",
       "    <tr>\n",
       "      <th>461</th>\n",
       "      <td>Arthur Masuaku</td>\n",
       "      <td>West+Ham</td>\n",
       "      <td>23</td>\n",
       "      <td>LB</td>\n",
       "      <td>3</td>\n",
       "      <td>7.0</td>\n",
       "      <td>199</td>\n",
       "      <td>4.0</td>\n",
       "      <td>0.20%</td>\n",
       "      <td>34</td>\n",
       "      <td>4</td>\n",
       "      <td>Congo DR</td>\n",
       "      <td>0</td>\n",
       "      <td>2</td>\n",
       "      <td>20</td>\n",
       "      <td>0</td>\n",
       "      <td>1</td>\n",
       "    </tr>\n",
       "    <tr>\n",
       "      <th>462</th>\n",
       "      <td>Sam Byram</td>\n",
       "      <td>West+Ham</td>\n",
       "      <td>23</td>\n",
       "      <td>RB</td>\n",
       "      <td>3</td>\n",
       "      <td>4.0</td>\n",
       "      <td>198</td>\n",
       "      <td>4.0</td>\n",
       "      <td>0.30%</td>\n",
       "      <td>29</td>\n",
       "      <td>1</td>\n",
       "      <td>England</td>\n",
       "      <td>0</td>\n",
       "      <td>2</td>\n",
       "      <td>20</td>\n",
       "      <td>0</td>\n",
       "      <td>0</td>\n",
       "    </tr>\n",
       "    <tr>\n",
       "      <th>463</th>\n",
       "      <td>Ashley Fletcher</td>\n",
       "      <td>West+Ham</td>\n",
       "      <td>21</td>\n",
       "      <td>CF</td>\n",
       "      <td>1</td>\n",
       "      <td>1.0</td>\n",
       "      <td>412</td>\n",
       "      <td>4.0</td>\n",
       "      <td>5.90%</td>\n",
       "      <td>16</td>\n",
       "      <td>1</td>\n",
       "      <td>England</td>\n",
       "      <td>0</td>\n",
       "      <td>1</td>\n",
       "      <td>20</td>\n",
       "      <td>0</td>\n",
       "      <td>1</td>\n",
       "    </tr>\n",
       "    <tr>\n",
       "      <th>464</th>\n",
       "      <td>Diafra Sakho</td>\n",
       "      <td>West+Ham</td>\n",
       "      <td>27</td>\n",
       "      <td>CF</td>\n",
       "      <td>1</td>\n",
       "      <td>10.0</td>\n",
       "      <td>214</td>\n",
       "      <td>6.0</td>\n",
       "      <td>0.10%</td>\n",
       "      <td>12</td>\n",
       "      <td>4</td>\n",
       "      <td>Senegal</td>\n",
       "      <td>0</td>\n",
       "      <td>3</td>\n",
       "      <td>20</td>\n",
       "      <td>0</td>\n",
       "      <td>0</td>\n",
       "    </tr>\n",
       "  </tbody>\n",
       "</table>\n",
       "<p>465 rows × 17 columns</p>\n",
       "</div>"
      ],
      "text/plain": [
       "                    name      club  age  ... club_id  big_club  new_signing\n",
       "0         Alexis Sanchez   Arsenal   28  ...       1         1            0\n",
       "1             Mesut Ozil   Arsenal   28  ...       1         1            0\n",
       "2              Petr Cech   Arsenal   35  ...       1         1            0\n",
       "3           Theo Walcott   Arsenal   28  ...       1         1            0\n",
       "4      Laurent Koscielny   Arsenal   31  ...       1         1            0\n",
       "..                   ...       ...  ...  ...     ...       ...          ...\n",
       "460  Edimilson Fernandes  West+Ham   21  ...      20         0            1\n",
       "461       Arthur Masuaku  West+Ham   23  ...      20         0            1\n",
       "462            Sam Byram  West+Ham   23  ...      20         0            0\n",
       "463      Ashley Fletcher  West+Ham   21  ...      20         0            1\n",
       "464         Diafra Sakho  West+Ham   27  ...      20         0            0\n",
       "\n",
       "[465 rows x 17 columns]"
      ]
     },
     "execution_count": 285,
     "metadata": {
      "tags": []
     },
     "output_type": "execute_result"
    }
   ],
   "source": [
    "players.apply(round_floats)"
   ]
  },
  {
   "cell_type": "code",
   "execution_count": 286,
   "metadata": {
    "colab": {
     "base_uri": "https://localhost:8080/",
     "height": 0
    },
    "colab_type": "code",
    "id": "hFgq7O2MC4gj",
    "outputId": "5df43cc4-f38e-4ad1-b6be-7dace710c63a"
   },
   "outputs": [
    {
     "data": {
      "text/html": [
       "<div>\n",
       "<style scoped>\n",
       "    .dataframe tbody tr th:only-of-type {\n",
       "        vertical-align: middle;\n",
       "    }\n",
       "\n",
       "    .dataframe tbody tr th {\n",
       "        vertical-align: top;\n",
       "    }\n",
       "\n",
       "    .dataframe thead th {\n",
       "        text-align: right;\n",
       "    }\n",
       "</style>\n",
       "<table border=\"1\" class=\"dataframe\">\n",
       "  <thead>\n",
       "    <tr style=\"text-align: right;\">\n",
       "      <th></th>\n",
       "      <th>market_value</th>\n",
       "      <th>fpl_value</th>\n",
       "    </tr>\n",
       "  </thead>\n",
       "  <tbody>\n",
       "    <tr>\n",
       "      <th>0</th>\n",
       "      <td>65.0</td>\n",
       "      <td>12.0</td>\n",
       "    </tr>\n",
       "    <tr>\n",
       "      <th>1</th>\n",
       "      <td>50.0</td>\n",
       "      <td>9.5</td>\n",
       "    </tr>\n",
       "    <tr>\n",
       "      <th>2</th>\n",
       "      <td>7.0</td>\n",
       "      <td>5.5</td>\n",
       "    </tr>\n",
       "    <tr>\n",
       "      <th>3</th>\n",
       "      <td>20.0</td>\n",
       "      <td>7.5</td>\n",
       "    </tr>\n",
       "    <tr>\n",
       "      <th>4</th>\n",
       "      <td>22.0</td>\n",
       "      <td>6.0</td>\n",
       "    </tr>\n",
       "  </tbody>\n",
       "</table>\n",
       "</div>"
      ],
      "text/plain": [
       "   market_value  fpl_value\n",
       "0          65.0       12.0\n",
       "1          50.0        9.5\n",
       "2           7.0        5.5\n",
       "3          20.0        7.5\n",
       "4          22.0        6.0"
      ]
     },
     "execution_count": 286,
     "metadata": {
      "tags": []
     },
     "output_type": "execute_result"
    }
   ],
   "source": [
    "players.select_dtypes(np.float64).head()"
   ]
  },
  {
   "cell_type": "code",
   "execution_count": 287,
   "metadata": {
    "colab": {
     "base_uri": "https://localhost:8080/",
     "height": 0
    },
    "colab_type": "code",
    "id": "dexAWUaMC4b8",
    "outputId": "66d64b70-f687-4cbf-e078-cd03fff24a5c"
   },
   "outputs": [
    {
     "data": {
      "text/html": [
       "<div>\n",
       "<style scoped>\n",
       "    .dataframe tbody tr th:only-of-type {\n",
       "        vertical-align: middle;\n",
       "    }\n",
       "\n",
       "    .dataframe tbody tr th {\n",
       "        vertical-align: top;\n",
       "    }\n",
       "\n",
       "    .dataframe thead th {\n",
       "        text-align: right;\n",
       "    }\n",
       "</style>\n",
       "<table border=\"1\" class=\"dataframe\">\n",
       "  <thead>\n",
       "    <tr style=\"text-align: right;\">\n",
       "      <th></th>\n",
       "      <th>market_value</th>\n",
       "      <th>fpl_value</th>\n",
       "    </tr>\n",
       "  </thead>\n",
       "  <tbody>\n",
       "    <tr>\n",
       "      <th>0</th>\n",
       "      <td>65.0</td>\n",
       "      <td>12.0</td>\n",
       "    </tr>\n",
       "    <tr>\n",
       "      <th>1</th>\n",
       "      <td>50.0</td>\n",
       "      <td>10.0</td>\n",
       "    </tr>\n",
       "    <tr>\n",
       "      <th>2</th>\n",
       "      <td>7.0</td>\n",
       "      <td>6.0</td>\n",
       "    </tr>\n",
       "    <tr>\n",
       "      <th>3</th>\n",
       "      <td>20.0</td>\n",
       "      <td>8.0</td>\n",
       "    </tr>\n",
       "    <tr>\n",
       "      <th>4</th>\n",
       "      <td>22.0</td>\n",
       "      <td>6.0</td>\n",
       "    </tr>\n",
       "  </tbody>\n",
       "</table>\n",
       "</div>"
      ],
      "text/plain": [
       "   market_value  fpl_value\n",
       "0          65.0       12.0\n",
       "1          50.0       10.0\n",
       "2           7.0        6.0\n",
       "3          20.0        8.0\n",
       "4          22.0        6.0"
      ]
     },
     "execution_count": 287,
     "metadata": {
      "tags": []
     },
     "output_type": "execute_result"
    }
   ],
   "source": [
    "players.select_dtypes(np.float64).apply(round_floats).head()"
   ]
  },
  {
   "cell_type": "code",
   "execution_count": 0,
   "metadata": {
    "colab": {},
    "colab_type": "code",
    "id": "ykJuDzsLCqnd"
   },
   "outputs": [],
   "source": [
    "# apply() = agg() + transfroms()"
   ]
  },
  {
   "cell_type": "code",
   "execution_count": 0,
   "metadata": {
    "colab": {},
    "colab_type": "code",
    "id": "rpoeayfkCa41"
   },
   "outputs": [],
   "source": [
    "# apply as aggregate"
   ]
  },
  {
   "cell_type": "code",
   "execution_count": 290,
   "metadata": {
    "colab": {
     "base_uri": "https://localhost:8080/",
     "height": 0
    },
    "colab_type": "code",
    "id": "rbdgMZO2EF-A",
    "outputId": "66d119ba-0d50-4c4d-e589-56a17720398d"
   },
   "outputs": [
    {
     "data": {
      "text/plain": [
       "age              26.776344\n",
       "position_cat      2.178495\n",
       "market_value     11.125649\n",
       "page_views      771.546237\n",
       "fpl_value         5.450538\n",
       "fpl_points       57.544086\n",
       "region            1.989247\n",
       "new_foreign       0.034409\n",
       "age_cat           3.195699\n",
       "club_id          10.253763\n",
       "big_club          0.309677\n",
       "new_signing       0.144086\n",
       "dtype: float64"
      ]
     },
     "execution_count": 290,
     "metadata": {
      "tags": []
     },
     "output_type": "execute_result"
    }
   ],
   "source": [
    "players.agg('mean')"
   ]
  },
  {
   "cell_type": "code",
   "execution_count": 291,
   "metadata": {
    "colab": {
     "base_uri": "https://localhost:8080/",
     "height": 0
    },
    "colab_type": "code",
    "id": "PmbomnnqEJ-Z",
    "outputId": "ad032011-0cfd-41ac-8e57-6821566e312f"
   },
   "outputs": [
    {
     "data": {
      "text/plain": [
       "age              26.776344\n",
       "position_cat      2.178495\n",
       "market_value     11.125649\n",
       "page_views      771.546237\n",
       "fpl_value         5.450538\n",
       "fpl_points       57.544086\n",
       "region            1.989247\n",
       "new_foreign       0.034409\n",
       "age_cat           3.195699\n",
       "club_id          10.253763\n",
       "big_club          0.309677\n",
       "new_signing       0.144086\n",
       "dtype: float64"
      ]
     },
     "execution_count": 291,
     "metadata": {
      "tags": []
     },
     "output_type": "execute_result"
    }
   ],
   "source": [
    "players.apply('mean')"
   ]
  },
  {
   "cell_type": "code",
   "execution_count": 0,
   "metadata": {
    "colab": {},
    "colab_type": "code",
    "id": "IVyKwtAkENQj"
   },
   "outputs": [],
   "source": [
    "# players.transform('mean')"
   ]
  },
  {
   "cell_type": "code",
   "execution_count": 0,
   "metadata": {
    "colab": {},
    "colab_type": "code",
    "id": "A0zLC-yHERwj"
   },
   "outputs": [],
   "source": [
    "# flipping the axis param"
   ]
  },
  {
   "cell_type": "code",
   "execution_count": 294,
   "metadata": {
    "colab": {
     "base_uri": "https://localhost:8080/",
     "height": 0
    },
    "colab_type": "code",
    "id": "3qJZf3ZNEne-",
    "outputId": "52c50ad8-751d-4343-82ab-29583e480fce"
   },
   "outputs": [
    {
     "data": {
      "text/plain": [
       "age              26.776344\n",
       "position_cat      2.178495\n",
       "market_value     11.125649\n",
       "page_views      771.546237\n",
       "fpl_value         5.450538\n",
       "fpl_points       57.544086\n",
       "region            1.989247\n",
       "new_foreign       0.034409\n",
       "age_cat           3.195699\n",
       "club_id          10.253763\n",
       "big_club          0.309677\n",
       "new_signing       0.144086\n",
       "dtype: float64"
      ]
     },
     "execution_count": 294,
     "metadata": {
      "tags": []
     },
     "output_type": "execute_result"
    }
   ],
   "source": [
    "players.apply('mean', axis=0)"
   ]
  },
  {
   "cell_type": "code",
   "execution_count": 295,
   "metadata": {
    "colab": {
     "base_uri": "https://localhost:8080/",
     "height": 0
    },
    "colab_type": "code",
    "id": "qjUiS_poEz94",
    "outputId": "79352ff9-1a67-4e73-d3f2-5ed0ecbeabe0"
   },
   "outputs": [
    {
     "data": {
      "text/plain": [
       "26.776344086021506"
      ]
     },
     "execution_count": 295,
     "metadata": {
      "tags": []
     },
     "output_type": "execute_result"
    }
   ],
   "source": [
    "players.age.mean()"
   ]
  },
  {
   "cell_type": "code",
   "execution_count": 296,
   "metadata": {
    "colab": {
     "base_uri": "https://localhost:8080/",
     "height": 0
    },
    "colab_type": "code",
    "id": "Wzg_YVvhE6uf",
    "outputId": "9f997302-854a-4009-aba6-a13ac54e1b3f"
   },
   "outputs": [
    {
     "data": {
      "text/plain": [
       "0      392.333333\n",
       "1      388.208333\n",
       "2      143.708333\n",
       "3      214.875000\n",
       "4       91.916667\n",
       "          ...    \n",
       "460     31.875000\n",
       "461     24.791667\n",
       "462     23.750000\n",
       "463     39.875000\n",
       "464     24.708333\n",
       "Length: 465, dtype: float64"
      ]
     },
     "execution_count": 296,
     "metadata": {
      "tags": []
     },
     "output_type": "execute_result"
    }
   ],
   "source": [
    "players.apply('mean', axis=1)"
   ]
  },
  {
   "cell_type": "code",
   "execution_count": 0,
   "metadata": {
    "colab": {},
    "colab_type": "code",
    "id": "n6-wfxiKE-aY"
   },
   "outputs": [],
   "source": [
    "# players.loc[460, :].mean()"
   ]
  },
  {
   "cell_type": "code",
   "execution_count": 298,
   "metadata": {
    "colab": {
     "base_uri": "https://localhost:8080/",
     "height": 0
    },
    "colab_type": "code",
    "id": "vG27oukNFN-O",
    "outputId": "f7240bc5-4edc-4476-b4c2-d02923504704"
   },
   "outputs": [
    {
     "data": {
      "text/plain": [
       "31.875"
      ]
     },
     "execution_count": 298,
     "metadata": {
      "tags": []
     },
     "output_type": "execute_result"
    }
   ],
   "source": [
    "players.loc[460, [dtype != object for dtype in players.dtypes]].mean()"
   ]
  },
  {
   "cell_type": "markdown",
   "metadata": {
    "colab_type": "text",
    "id": "I9nuD-iOFaYe"
   },
   "source": [
    "#### Element-wise Operations With applymap()"
   ]
  },
  {
   "cell_type": "code",
   "execution_count": 0,
   "metadata": {
    "colab": {},
    "colab_type": "code",
    "id": "AmTYuLzpSSdL"
   },
   "outputs": [],
   "source": [
    "# vectorized ops: agg(), transform(), apply()"
   ]
  },
  {
   "cell_type": "code",
   "execution_count": 0,
   "metadata": {
    "colab": {},
    "colab_type": "code",
    "id": "JZJ0hZbgSSYS"
   },
   "outputs": [],
   "source": [
    "# non-vectorized: applymap()"
   ]
  },
  {
   "cell_type": "code",
   "execution_count": 301,
   "metadata": {
    "colab": {
     "base_uri": "https://localhost:8080/",
     "height": 0
    },
    "colab_type": "code",
    "id": "Sl_iShuCSRJB",
    "outputId": "2142287a-bc0d-43c8-e73f-e8ea02b09b84"
   },
   "outputs": [
    {
     "data": {
      "text/html": [
       "<div>\n",
       "<style scoped>\n",
       "    .dataframe tbody tr th:only-of-type {\n",
       "        vertical-align: middle;\n",
       "    }\n",
       "\n",
       "    .dataframe tbody tr th {\n",
       "        vertical-align: top;\n",
       "    }\n",
       "\n",
       "    .dataframe thead th {\n",
       "        text-align: right;\n",
       "    }\n",
       "</style>\n",
       "<table border=\"1\" class=\"dataframe\">\n",
       "  <thead>\n",
       "    <tr style=\"text-align: right;\">\n",
       "      <th></th>\n",
       "      <th>name</th>\n",
       "      <th>club</th>\n",
       "      <th>age</th>\n",
       "      <th>position</th>\n",
       "      <th>position_cat</th>\n",
       "      <th>market_value</th>\n",
       "      <th>page_views</th>\n",
       "      <th>fpl_value</th>\n",
       "      <th>fpl_sel</th>\n",
       "      <th>fpl_points</th>\n",
       "      <th>region</th>\n",
       "      <th>nationality</th>\n",
       "      <th>new_foreign</th>\n",
       "      <th>age_cat</th>\n",
       "      <th>club_id</th>\n",
       "      <th>big_club</th>\n",
       "      <th>new_signing</th>\n",
       "    </tr>\n",
       "  </thead>\n",
       "  <tbody>\n",
       "    <tr>\n",
       "      <th>0</th>\n",
       "      <td>Alexis Sanchez</td>\n",
       "      <td>Arsenal</td>\n",
       "      <td>28</td>\n",
       "      <td>LW</td>\n",
       "      <td>1</td>\n",
       "      <td>65.0</td>\n",
       "      <td>4329</td>\n",
       "      <td>12.0</td>\n",
       "      <td>17.10%</td>\n",
       "      <td>264</td>\n",
       "      <td>3</td>\n",
       "      <td>Chile</td>\n",
       "      <td>0</td>\n",
       "      <td>4</td>\n",
       "      <td>1</td>\n",
       "      <td>1</td>\n",
       "      <td>0</td>\n",
       "    </tr>\n",
       "    <tr>\n",
       "      <th>1</th>\n",
       "      <td>Mesut Ozil</td>\n",
       "      <td>Arsenal</td>\n",
       "      <td>28</td>\n",
       "      <td>AM</td>\n",
       "      <td>1</td>\n",
       "      <td>50.0</td>\n",
       "      <td>4395</td>\n",
       "      <td>9.5</td>\n",
       "      <td>5.60%</td>\n",
       "      <td>167</td>\n",
       "      <td>2</td>\n",
       "      <td>Germany</td>\n",
       "      <td>0</td>\n",
       "      <td>4</td>\n",
       "      <td>1</td>\n",
       "      <td>1</td>\n",
       "      <td>0</td>\n",
       "    </tr>\n",
       "    <tr>\n",
       "      <th>2</th>\n",
       "      <td>Petr Cech</td>\n",
       "      <td>Arsenal</td>\n",
       "      <td>35</td>\n",
       "      <td>GK</td>\n",
       "      <td>4</td>\n",
       "      <td>7.0</td>\n",
       "      <td>1529</td>\n",
       "      <td>5.5</td>\n",
       "      <td>5.90%</td>\n",
       "      <td>134</td>\n",
       "      <td>2</td>\n",
       "      <td>Czech Republic</td>\n",
       "      <td>0</td>\n",
       "      <td>6</td>\n",
       "      <td>1</td>\n",
       "      <td>1</td>\n",
       "      <td>0</td>\n",
       "    </tr>\n",
       "    <tr>\n",
       "      <th>3</th>\n",
       "      <td>Theo Walcott</td>\n",
       "      <td>Arsenal</td>\n",
       "      <td>28</td>\n",
       "      <td>RW</td>\n",
       "      <td>1</td>\n",
       "      <td>20.0</td>\n",
       "      <td>2393</td>\n",
       "      <td>7.5</td>\n",
       "      <td>1.50%</td>\n",
       "      <td>122</td>\n",
       "      <td>1</td>\n",
       "      <td>England</td>\n",
       "      <td>0</td>\n",
       "      <td>4</td>\n",
       "      <td>1</td>\n",
       "      <td>1</td>\n",
       "      <td>0</td>\n",
       "    </tr>\n",
       "    <tr>\n",
       "      <th>4</th>\n",
       "      <td>Laurent Koscielny</td>\n",
       "      <td>Arsenal</td>\n",
       "      <td>31</td>\n",
       "      <td>CB</td>\n",
       "      <td>3</td>\n",
       "      <td>22.0</td>\n",
       "      <td>912</td>\n",
       "      <td>6.0</td>\n",
       "      <td>0.70%</td>\n",
       "      <td>121</td>\n",
       "      <td>2</td>\n",
       "      <td>France</td>\n",
       "      <td>0</td>\n",
       "      <td>4</td>\n",
       "      <td>1</td>\n",
       "      <td>1</td>\n",
       "      <td>0</td>\n",
       "    </tr>\n",
       "  </tbody>\n",
       "</table>\n",
       "</div>"
      ],
      "text/plain": [
       "                name     club  age  ... club_id  big_club  new_signing\n",
       "0     Alexis Sanchez  Arsenal   28  ...       1         1            0\n",
       "1         Mesut Ozil  Arsenal   28  ...       1         1            0\n",
       "2          Petr Cech  Arsenal   35  ...       1         1            0\n",
       "3       Theo Walcott  Arsenal   28  ...       1         1            0\n",
       "4  Laurent Koscielny  Arsenal   31  ...       1         1            0\n",
       "\n",
       "[5 rows x 17 columns]"
      ]
     },
     "execution_count": 301,
     "metadata": {
      "tags": []
     },
     "output_type": "execute_result"
    }
   ],
   "source": [
    "players.head()"
   ]
  },
  {
   "cell_type": "code",
   "execution_count": 0,
   "metadata": {
    "colab": {},
    "colab_type": "code",
    "id": "9lOYpeShSRF3"
   },
   "outputs": [],
   "source": [
    "# ~2%/year"
   ]
  },
  {
   "cell_type": "code",
   "execution_count": 0,
   "metadata": {
    "colab": {},
    "colab_type": "code",
    "id": "yQTfovXDSRBI"
   },
   "outputs": [],
   "source": [
    "inflation = 1.02"
   ]
  },
  {
   "cell_type": "code",
   "execution_count": 0,
   "metadata": {
    "colab": {},
    "colab_type": "code",
    "id": "xvXD0T6wM_sM"
   },
   "outputs": [],
   "source": [
    "mini_df = players.loc[:, ['market_value', 'fpl_value']]"
   ]
  },
  {
   "cell_type": "code",
   "execution_count": 305,
   "metadata": {
    "colab": {
     "base_uri": "https://localhost:8080/",
     "height": 0
    },
    "colab_type": "code",
    "id": "rFcLYIJiTdFW",
    "outputId": "69050e48-37b8-42fa-a987-5aebee875ff1"
   },
   "outputs": [
    {
     "data": {
      "text/html": [
       "<div>\n",
       "<style scoped>\n",
       "    .dataframe tbody tr th:only-of-type {\n",
       "        vertical-align: middle;\n",
       "    }\n",
       "\n",
       "    .dataframe tbody tr th {\n",
       "        vertical-align: top;\n",
       "    }\n",
       "\n",
       "    .dataframe thead th {\n",
       "        text-align: right;\n",
       "    }\n",
       "</style>\n",
       "<table border=\"1\" class=\"dataframe\">\n",
       "  <thead>\n",
       "    <tr style=\"text-align: right;\">\n",
       "      <th></th>\n",
       "      <th>market_value</th>\n",
       "      <th>fpl_value</th>\n",
       "    </tr>\n",
       "  </thead>\n",
       "  <tbody>\n",
       "    <tr>\n",
       "      <th>0</th>\n",
       "      <td>66.30</td>\n",
       "      <td>12.24</td>\n",
       "    </tr>\n",
       "    <tr>\n",
       "      <th>1</th>\n",
       "      <td>51.00</td>\n",
       "      <td>9.69</td>\n",
       "    </tr>\n",
       "    <tr>\n",
       "      <th>2</th>\n",
       "      <td>7.14</td>\n",
       "      <td>5.61</td>\n",
       "    </tr>\n",
       "    <tr>\n",
       "      <th>3</th>\n",
       "      <td>20.40</td>\n",
       "      <td>7.65</td>\n",
       "    </tr>\n",
       "    <tr>\n",
       "      <th>4</th>\n",
       "      <td>22.44</td>\n",
       "      <td>6.12</td>\n",
       "    </tr>\n",
       "    <tr>\n",
       "      <th>...</th>\n",
       "      <td>...</td>\n",
       "      <td>...</td>\n",
       "    </tr>\n",
       "    <tr>\n",
       "      <th>460</th>\n",
       "      <td>5.10</td>\n",
       "      <td>4.59</td>\n",
       "    </tr>\n",
       "    <tr>\n",
       "      <th>461</th>\n",
       "      <td>7.14</td>\n",
       "      <td>4.59</td>\n",
       "    </tr>\n",
       "    <tr>\n",
       "      <th>462</th>\n",
       "      <td>4.59</td>\n",
       "      <td>4.59</td>\n",
       "    </tr>\n",
       "    <tr>\n",
       "      <th>463</th>\n",
       "      <td>1.02</td>\n",
       "      <td>4.59</td>\n",
       "    </tr>\n",
       "    <tr>\n",
       "      <th>464</th>\n",
       "      <td>10.20</td>\n",
       "      <td>5.61</td>\n",
       "    </tr>\n",
       "  </tbody>\n",
       "</table>\n",
       "<p>465 rows × 2 columns</p>\n",
       "</div>"
      ],
      "text/plain": [
       "     market_value  fpl_value\n",
       "0           66.30      12.24\n",
       "1           51.00       9.69\n",
       "2            7.14       5.61\n",
       "3           20.40       7.65\n",
       "4           22.44       6.12\n",
       "..            ...        ...\n",
       "460          5.10       4.59\n",
       "461          7.14       4.59\n",
       "462          4.59       4.59\n",
       "463          1.02       4.59\n",
       "464         10.20       5.61\n",
       "\n",
       "[465 rows x 2 columns]"
      ]
     },
     "execution_count": 305,
     "metadata": {
      "tags": []
     },
     "output_type": "execute_result"
    }
   ],
   "source": [
    "mini_df * inflation"
   ]
  },
  {
   "cell_type": "code",
   "execution_count": 0,
   "metadata": {
    "colab": {},
    "colab_type": "code",
    "id": "b51WkgZRTjry"
   },
   "outputs": [],
   "source": [
    "from datetime import datetime\n",
    "counter = 0\n",
    "\n",
    "def log_and_transform(x):\n",
    "  global counter\n",
    "  counter += 1\n",
    "  if counter % 100 == 0:\n",
    "    print(f\"It's {datetime.now()} and I just adjusted the {counter}th value.\")\n",
    "    # print(\"It's {} and I just adjusted the {}th value.\".format(datetime.now(), counter))\n",
    "  \n",
    "  return x * inflation"
   ]
  },
  {
   "cell_type": "code",
   "execution_count": 307,
   "metadata": {
    "colab": {
     "base_uri": "https://localhost:8080/",
     "height": 0
    },
    "colab_type": "code",
    "id": "6vq0hCxaUGC3",
    "outputId": "132671e4-5d69-4887-cca2-c2d4dcc1f645"
   },
   "outputs": [
    {
     "data": {
      "text/plain": [
       "'3.6.9 (default, Nov  7 2019, 10:44:02) \\n[GCC 8.3.0]'"
      ]
     },
     "execution_count": 307,
     "metadata": {
      "tags": []
     },
     "output_type": "execute_result"
    }
   ],
   "source": [
    "import sys\n",
    "sys.version"
   ]
  },
  {
   "cell_type": "code",
   "execution_count": 308,
   "metadata": {
    "colab": {
     "base_uri": "https://localhost:8080/",
     "height": 0
    },
    "colab_type": "code",
    "id": "OBY3UxfdUtUQ",
    "outputId": "217f8740-798e-49d6-b32f-604e1d3abc5a"
   },
   "outputs": [
    {
     "data": {
      "text/html": [
       "<div>\n",
       "<style scoped>\n",
       "    .dataframe tbody tr th:only-of-type {\n",
       "        vertical-align: middle;\n",
       "    }\n",
       "\n",
       "    .dataframe tbody tr th {\n",
       "        vertical-align: top;\n",
       "    }\n",
       "\n",
       "    .dataframe thead th {\n",
       "        text-align: right;\n",
       "    }\n",
       "</style>\n",
       "<table border=\"1\" class=\"dataframe\">\n",
       "  <thead>\n",
       "    <tr style=\"text-align: right;\">\n",
       "      <th></th>\n",
       "      <th>market_value</th>\n",
       "      <th>fpl_value</th>\n",
       "    </tr>\n",
       "  </thead>\n",
       "  <tbody>\n",
       "    <tr>\n",
       "      <th>0</th>\n",
       "      <td>66.30</td>\n",
       "      <td>12.24</td>\n",
       "    </tr>\n",
       "    <tr>\n",
       "      <th>1</th>\n",
       "      <td>51.00</td>\n",
       "      <td>9.69</td>\n",
       "    </tr>\n",
       "    <tr>\n",
       "      <th>2</th>\n",
       "      <td>7.14</td>\n",
       "      <td>5.61</td>\n",
       "    </tr>\n",
       "    <tr>\n",
       "      <th>3</th>\n",
       "      <td>20.40</td>\n",
       "      <td>7.65</td>\n",
       "    </tr>\n",
       "    <tr>\n",
       "      <th>4</th>\n",
       "      <td>22.44</td>\n",
       "      <td>6.12</td>\n",
       "    </tr>\n",
       "    <tr>\n",
       "      <th>...</th>\n",
       "      <td>...</td>\n",
       "      <td>...</td>\n",
       "    </tr>\n",
       "    <tr>\n",
       "      <th>460</th>\n",
       "      <td>5.10</td>\n",
       "      <td>4.59</td>\n",
       "    </tr>\n",
       "    <tr>\n",
       "      <th>461</th>\n",
       "      <td>7.14</td>\n",
       "      <td>4.59</td>\n",
       "    </tr>\n",
       "    <tr>\n",
       "      <th>462</th>\n",
       "      <td>4.59</td>\n",
       "      <td>4.59</td>\n",
       "    </tr>\n",
       "    <tr>\n",
       "      <th>463</th>\n",
       "      <td>1.02</td>\n",
       "      <td>4.59</td>\n",
       "    </tr>\n",
       "    <tr>\n",
       "      <th>464</th>\n",
       "      <td>10.20</td>\n",
       "      <td>5.61</td>\n",
       "    </tr>\n",
       "  </tbody>\n",
       "</table>\n",
       "<p>465 rows × 2 columns</p>\n",
       "</div>"
      ],
      "text/plain": [
       "     market_value  fpl_value\n",
       "0           66.30      12.24\n",
       "1           51.00       9.69\n",
       "2            7.14       5.61\n",
       "3           20.40       7.65\n",
       "4           22.44       6.12\n",
       "..            ...        ...\n",
       "460          5.10       4.59\n",
       "461          7.14       4.59\n",
       "462          4.59       4.59\n",
       "463          1.02       4.59\n",
       "464         10.20       5.61\n",
       "\n",
       "[465 rows x 2 columns]"
      ]
     },
     "execution_count": 308,
     "metadata": {
      "tags": []
     },
     "output_type": "execute_result"
    }
   ],
   "source": [
    "mini_df.apply(log_and_transform)"
   ]
  },
  {
   "cell_type": "code",
   "execution_count": 309,
   "metadata": {
    "colab": {
     "base_uri": "https://localhost:8080/",
     "height": 0
    },
    "colab_type": "code",
    "id": "YE7e2kwWUNdj",
    "outputId": "04dcfd9c-71e7-4ae1-a554-6db49bb61ff0"
   },
   "outputs": [
    {
     "name": "stdout",
     "output_type": "stream",
     "text": [
      "It's 2020-04-13 01:21:23.408745 and I just adjusted the 100th value.\n",
      "It's 2020-04-13 01:21:23.409086 and I just adjusted the 200th value.\n",
      "It's 2020-04-13 01:21:23.409250 and I just adjusted the 300th value.\n",
      "It's 2020-04-13 01:21:23.409342 and I just adjusted the 400th value.\n",
      "It's 2020-04-13 01:21:23.410245 and I just adjusted the 500th value.\n",
      "It's 2020-04-13 01:21:23.410450 and I just adjusted the 600th value.\n",
      "It's 2020-04-13 01:21:23.410582 and I just adjusted the 700th value.\n",
      "It's 2020-04-13 01:21:23.410671 and I just adjusted the 800th value.\n",
      "It's 2020-04-13 01:21:23.410751 and I just adjusted the 900th value.\n",
      "It's 2020-04-13 01:21:23.411422 and I just adjusted the 1000th value.\n",
      "It's 2020-04-13 01:21:23.411536 and I just adjusted the 1100th value.\n",
      "It's 2020-04-13 01:21:23.412311 and I just adjusted the 1200th value.\n",
      "It's 2020-04-13 01:21:23.412572 and I just adjusted the 1300th value.\n"
     ]
    },
    {
     "data": {
      "text/html": [
       "<div>\n",
       "<style scoped>\n",
       "    .dataframe tbody tr th:only-of-type {\n",
       "        vertical-align: middle;\n",
       "    }\n",
       "\n",
       "    .dataframe tbody tr th {\n",
       "        vertical-align: top;\n",
       "    }\n",
       "\n",
       "    .dataframe thead th {\n",
       "        text-align: right;\n",
       "    }\n",
       "</style>\n",
       "<table border=\"1\" class=\"dataframe\">\n",
       "  <thead>\n",
       "    <tr style=\"text-align: right;\">\n",
       "      <th></th>\n",
       "      <th>market_value</th>\n",
       "      <th>fpl_value</th>\n",
       "    </tr>\n",
       "  </thead>\n",
       "  <tbody>\n",
       "    <tr>\n",
       "      <th>0</th>\n",
       "      <td>66.30</td>\n",
       "      <td>12.24</td>\n",
       "    </tr>\n",
       "    <tr>\n",
       "      <th>1</th>\n",
       "      <td>51.00</td>\n",
       "      <td>9.69</td>\n",
       "    </tr>\n",
       "    <tr>\n",
       "      <th>2</th>\n",
       "      <td>7.14</td>\n",
       "      <td>5.61</td>\n",
       "    </tr>\n",
       "    <tr>\n",
       "      <th>3</th>\n",
       "      <td>20.40</td>\n",
       "      <td>7.65</td>\n",
       "    </tr>\n",
       "    <tr>\n",
       "      <th>4</th>\n",
       "      <td>22.44</td>\n",
       "      <td>6.12</td>\n",
       "    </tr>\n",
       "    <tr>\n",
       "      <th>...</th>\n",
       "      <td>...</td>\n",
       "      <td>...</td>\n",
       "    </tr>\n",
       "    <tr>\n",
       "      <th>460</th>\n",
       "      <td>5.10</td>\n",
       "      <td>4.59</td>\n",
       "    </tr>\n",
       "    <tr>\n",
       "      <th>461</th>\n",
       "      <td>7.14</td>\n",
       "      <td>4.59</td>\n",
       "    </tr>\n",
       "    <tr>\n",
       "      <th>462</th>\n",
       "      <td>4.59</td>\n",
       "      <td>4.59</td>\n",
       "    </tr>\n",
       "    <tr>\n",
       "      <th>463</th>\n",
       "      <td>1.02</td>\n",
       "      <td>4.59</td>\n",
       "    </tr>\n",
       "    <tr>\n",
       "      <th>464</th>\n",
       "      <td>10.20</td>\n",
       "      <td>5.61</td>\n",
       "    </tr>\n",
       "  </tbody>\n",
       "</table>\n",
       "<p>465 rows × 2 columns</p>\n",
       "</div>"
      ],
      "text/plain": [
       "     market_value  fpl_value\n",
       "0           66.30      12.24\n",
       "1           51.00       9.69\n",
       "2            7.14       5.61\n",
       "3           20.40       7.65\n",
       "4           22.44       6.12\n",
       "..            ...        ...\n",
       "460          5.10       4.59\n",
       "461          7.14       4.59\n",
       "462          4.59       4.59\n",
       "463          1.02       4.59\n",
       "464         10.20       5.61\n",
       "\n",
       "[465 rows x 2 columns]"
      ]
     },
     "execution_count": 309,
     "metadata": {
      "tags": []
     },
     "output_type": "execute_result"
    }
   ],
   "source": [
    "mini_df.applymap(log_and_transform)"
   ]
  },
  {
   "cell_type": "markdown",
   "metadata": {
    "colab_type": "text",
    "id": "sb26RS0MUdTt"
   },
   "source": [
    "#### Skill Challenge"
   ]
  },
  {
   "cell_type": "markdown",
   "metadata": {
    "colab_type": "text",
    "id": "JH1kLfCZYWbc"
   },
   "source": [
    "###### **1.**"
   ]
  },
  {
   "cell_type": "markdown",
   "metadata": {
    "colab_type": "text",
    "id": "5T-_6XE7YZS1"
   },
   "source": [
    "Create a standalone function that\n",
    "- accepts a single parameter x\n",
    "- returns the string 'relatively unknown' if x is less than 220\n",
    "- 'kind of popular' if x is between 220 and 600 (non-inclusive)\n",
    "- 'popular' if x is between 600 and 2000 (non-inclusive)\n",
    "- 'super-popular' otherwise\n",
    "\n",
    "| lower bound | upper bound (non-inclusive) | popularity label     |\n",
    "|-------------|-----------------------------|----------------------|\n",
    "| -inf        | 220                         | 'relatively unknown' |\n",
    "| 220         | 600                         | 'kind of popular'    |\n",
    "| 600         | 2000                        | 'popular'            |\n",
    "| 2000        | +inf                        | 'super-popular'      |"
   ]
  },
  {
   "cell_type": "markdown",
   "metadata": {
    "colab_type": "text",
    "id": "UZnm1N83Y7az"
   },
   "source": [
    "###### **2.**"
   ]
  },
  {
   "cell_type": "markdown",
   "metadata": {
    "colab_type": "text",
    "id": "V6bYNVSjZADb"
   },
   "source": [
    "Apply the function from the step above to the players _page_views_ column. Use a method that supports vectorized operations."
   ]
  },
  {
   "cell_type": "markdown",
   "metadata": {
    "colab_type": "text",
    "id": "l29zzjPkZJmi"
   },
   "source": [
    "###### **3.**"
   ]
  },
  {
   "cell_type": "markdown",
   "metadata": {
    "colab_type": "text",
    "id": "O2eSwrtuZLra"
   },
   "source": [
    "Add the output from the step above as a new column to the _players_ dataframe. Name the column _popularity_."
   ]
  },
  {
   "cell_type": "markdown",
   "metadata": {
    "colab_type": "text",
    "id": "L_ScHwz6ZXaA"
   },
   "source": [
    "###### **4.**"
   ]
  },
  {
   "cell_type": "markdown",
   "metadata": {
    "colab_type": "text",
    "id": "qdux3p3hZabX"
   },
   "source": [
    "How many \"super-popular\" players are there?"
   ]
  },
  {
   "cell_type": "markdown",
   "metadata": {
    "colab_type": "text",
    "id": "CCc2JyZ1aB2-"
   },
   "source": [
    "#### Solution"
   ]
  },
  {
   "cell_type": "code",
   "execution_count": 0,
   "metadata": {
    "colab": {},
    "colab_type": "code",
    "id": "wi9TeHaOaE5m"
   },
   "outputs": [],
   "source": [
    "# 1"
   ]
  },
  {
   "cell_type": "code",
   "execution_count": 0,
   "metadata": {
    "colab": {},
    "colab_type": "code",
    "id": "4Zku9yHyaGoT"
   },
   "outputs": [],
   "source": [
    "def get_popularity(x):\n",
    "  if x < 220:\n",
    "    return 'relatively unknown'\n",
    "  elif x < 600:\n",
    "    return 'kind of popular'\n",
    "  elif x < 2000:\n",
    "    return 'popular'\n",
    "  else:\n",
    "    return 'super-popular'"
   ]
  },
  {
   "cell_type": "code",
   "execution_count": 312,
   "metadata": {
    "colab": {
     "base_uri": "https://localhost:8080/",
     "height": 0
    },
    "colab_type": "code",
    "id": "A-z8mKozaGsQ",
    "outputId": "11f287cb-77b6-489e-8887-851bbb526ef3"
   },
   "outputs": [
    {
     "data": {
      "text/plain": [
       "'relatively unknown'"
      ]
     },
     "execution_count": 312,
     "metadata": {
      "tags": []
     },
     "output_type": "execute_result"
    }
   ],
   "source": [
    "get_popularity(1)"
   ]
  },
  {
   "cell_type": "code",
   "execution_count": 313,
   "metadata": {
    "colab": {
     "base_uri": "https://localhost:8080/",
     "height": 0
    },
    "colab_type": "code",
    "id": "6FRn5dLAaGwo",
    "outputId": "f4c1c390-5bc4-42ef-ffc8-b2fe576c710c"
   },
   "outputs": [
    {
     "data": {
      "text/plain": [
       "'popular'"
      ]
     },
     "execution_count": 313,
     "metadata": {
      "tags": []
     },
     "output_type": "execute_result"
    }
   ],
   "source": [
    "get_popularity(1000)"
   ]
  },
  {
   "cell_type": "code",
   "execution_count": 314,
   "metadata": {
    "colab": {
     "base_uri": "https://localhost:8080/",
     "height": 0
    },
    "colab_type": "code",
    "id": "3g3_sihtcrEd",
    "outputId": "b544681a-2d06-4739-e749-1e5eb39c5398"
   },
   "outputs": [
    {
     "data": {
      "text/plain": [
       "'super-popular'"
      ]
     },
     "execution_count": 314,
     "metadata": {
      "tags": []
     },
     "output_type": "execute_result"
    }
   ],
   "source": [
    "get_popularity(10000)"
   ]
  },
  {
   "cell_type": "code",
   "execution_count": 0,
   "metadata": {
    "colab": {},
    "colab_type": "code",
    "id": "mOdiXcjKct9r"
   },
   "outputs": [],
   "source": [
    "# 2"
   ]
  },
  {
   "cell_type": "code",
   "execution_count": 316,
   "metadata": {
    "colab": {
     "base_uri": "https://localhost:8080/",
     "height": 0
    },
    "colab_type": "code",
    "id": "1tO9-zyxc70p",
    "outputId": "568e0600-fc81-42c5-f5b4-69ee96b185b6"
   },
   "outputs": [
    {
     "data": {
      "text/plain": [
       "0    4329\n",
       "1    4395\n",
       "2    1529\n",
       "3    2393\n",
       "4     912\n",
       "Name: page_views, dtype: int64"
      ]
     },
     "execution_count": 316,
     "metadata": {
      "tags": []
     },
     "output_type": "execute_result"
    }
   ],
   "source": [
    "players.page_views.head()"
   ]
  },
  {
   "cell_type": "code",
   "execution_count": 317,
   "metadata": {
    "colab": {
     "base_uri": "https://localhost:8080/",
     "height": 0
    },
    "colab_type": "code",
    "id": "t9l7nrGncvIj",
    "outputId": "42645118-8e1e-4467-c0a2-a3274811854a"
   },
   "outputs": [
    {
     "data": {
      "text/plain": [
       "0           super-popular\n",
       "1           super-popular\n",
       "2                 popular\n",
       "3           super-popular\n",
       "4                 popular\n",
       "              ...        \n",
       "460       kind of popular\n",
       "461    relatively unknown\n",
       "462    relatively unknown\n",
       "463       kind of popular\n",
       "464    relatively unknown\n",
       "Name: page_views, Length: 465, dtype: object"
      ]
     },
     "execution_count": 317,
     "metadata": {
      "tags": []
     },
     "output_type": "execute_result"
    }
   ],
   "source": [
    "players.page_views.apply(get_popularity)"
   ]
  },
  {
   "cell_type": "code",
   "execution_count": 0,
   "metadata": {
    "colab": {},
    "colab_type": "code",
    "id": "0n78alG_c1ha"
   },
   "outputs": [],
   "source": [
    "# 3"
   ]
  },
  {
   "cell_type": "code",
   "execution_count": 0,
   "metadata": {
    "colab": {},
    "colab_type": "code",
    "id": "4sbzwGpbdCwv"
   },
   "outputs": [],
   "source": [
    "players['popularity'] = players.page_views.apply(get_popularity)"
   ]
  },
  {
   "cell_type": "code",
   "execution_count": 320,
   "metadata": {
    "colab": {
     "base_uri": "https://localhost:8080/",
     "height": 0
    },
    "colab_type": "code",
    "id": "82xX60HEdFt3",
    "outputId": "73369385-5ead-497a-8072-57cd54f2e408"
   },
   "outputs": [
    {
     "data": {
      "text/plain": [
       "0           super-popular\n",
       "1           super-popular\n",
       "2                 popular\n",
       "3           super-popular\n",
       "4                 popular\n",
       "              ...        \n",
       "460       kind of popular\n",
       "461    relatively unknown\n",
       "462    relatively unknown\n",
       "463       kind of popular\n",
       "464    relatively unknown\n",
       "Name: popularity, Length: 465, dtype: object"
      ]
     },
     "execution_count": 320,
     "metadata": {
      "tags": []
     },
     "output_type": "execute_result"
    }
   ],
   "source": [
    "players.popularity"
   ]
  },
  {
   "cell_type": "code",
   "execution_count": 0,
   "metadata": {
    "colab": {},
    "colab_type": "code",
    "id": "IxV-wjtNdHtd"
   },
   "outputs": [],
   "source": [
    "# 4"
   ]
  },
  {
   "cell_type": "code",
   "execution_count": 322,
   "metadata": {
    "colab": {
     "base_uri": "https://localhost:8080/",
     "height": 0
    },
    "colab_type": "code",
    "id": "-vqyll6FdLR7",
    "outputId": "79e1f9fc-f2e0-40e5-9662-ce3d871c51ed"
   },
   "outputs": [
    {
     "data": {
      "text/plain": [
       "kind of popular       170\n",
       "popular               143\n",
       "relatively unknown    115\n",
       "super-popular          37\n",
       "Name: popularity, dtype: int64"
      ]
     },
     "execution_count": 322,
     "metadata": {
      "tags": []
     },
     "output_type": "execute_result"
    }
   ],
   "source": [
    "players.popularity.value_counts()"
   ]
  },
  {
   "cell_type": "code",
   "execution_count": 323,
   "metadata": {
    "colab": {
     "base_uri": "https://localhost:8080/",
     "height": 0
    },
    "colab_type": "code",
    "id": "gzMaRmsgdMaj",
    "outputId": "64cb2e9d-f062-43b6-f32f-371ddd9ac1a4"
   },
   "outputs": [
    {
     "data": {
      "text/plain": [
       "37"
      ]
     },
     "execution_count": 323,
     "metadata": {
      "tags": []
     },
     "output_type": "execute_result"
    }
   ],
   "source": [
    "players[players.popularity == 'super-popular'].name.size"
   ]
  },
  {
   "cell_type": "markdown",
   "metadata": {
    "colab_type": "text",
    "id": "xTu7NVjxdUbH"
   },
   "source": [
    "#### Setting DataFrame Values"
   ]
  },
  {
   "cell_type": "code",
   "execution_count": 324,
   "metadata": {
    "colab": {
     "base_uri": "https://localhost:8080/",
     "height": 0
    },
    "colab_type": "code",
    "id": "ESIzTVY_eX0H",
    "outputId": "611e9bae-920e-40b5-f77e-c44125de921a"
   },
   "outputs": [
    {
     "data": {
      "text/html": [
       "<div>\n",
       "<style scoped>\n",
       "    .dataframe tbody tr th:only-of-type {\n",
       "        vertical-align: middle;\n",
       "    }\n",
       "\n",
       "    .dataframe tbody tr th {\n",
       "        vertical-align: top;\n",
       "    }\n",
       "\n",
       "    .dataframe thead th {\n",
       "        text-align: right;\n",
       "    }\n",
       "</style>\n",
       "<table border=\"1\" class=\"dataframe\">\n",
       "  <thead>\n",
       "    <tr style=\"text-align: right;\">\n",
       "      <th></th>\n",
       "      <th>name</th>\n",
       "      <th>club</th>\n",
       "      <th>age</th>\n",
       "      <th>position</th>\n",
       "      <th>position_cat</th>\n",
       "      <th>market_value</th>\n",
       "      <th>page_views</th>\n",
       "      <th>fpl_value</th>\n",
       "      <th>fpl_sel</th>\n",
       "      <th>fpl_points</th>\n",
       "      <th>region</th>\n",
       "      <th>nationality</th>\n",
       "      <th>new_foreign</th>\n",
       "      <th>age_cat</th>\n",
       "      <th>club_id</th>\n",
       "      <th>big_club</th>\n",
       "      <th>new_signing</th>\n",
       "      <th>popularity</th>\n",
       "    </tr>\n",
       "  </thead>\n",
       "  <tbody>\n",
       "    <tr>\n",
       "      <th>0</th>\n",
       "      <td>Alexis Sanchez</td>\n",
       "      <td>Arsenal</td>\n",
       "      <td>28</td>\n",
       "      <td>LW</td>\n",
       "      <td>1</td>\n",
       "      <td>65.0</td>\n",
       "      <td>4329</td>\n",
       "      <td>12.0</td>\n",
       "      <td>17.10%</td>\n",
       "      <td>264</td>\n",
       "      <td>3</td>\n",
       "      <td>Chile</td>\n",
       "      <td>0</td>\n",
       "      <td>4</td>\n",
       "      <td>1</td>\n",
       "      <td>1</td>\n",
       "      <td>0</td>\n",
       "      <td>super-popular</td>\n",
       "    </tr>\n",
       "    <tr>\n",
       "      <th>1</th>\n",
       "      <td>Mesut Ozil</td>\n",
       "      <td>Arsenal</td>\n",
       "      <td>28</td>\n",
       "      <td>AM</td>\n",
       "      <td>1</td>\n",
       "      <td>50.0</td>\n",
       "      <td>4395</td>\n",
       "      <td>9.5</td>\n",
       "      <td>5.60%</td>\n",
       "      <td>167</td>\n",
       "      <td>2</td>\n",
       "      <td>Germany</td>\n",
       "      <td>0</td>\n",
       "      <td>4</td>\n",
       "      <td>1</td>\n",
       "      <td>1</td>\n",
       "      <td>0</td>\n",
       "      <td>super-popular</td>\n",
       "    </tr>\n",
       "    <tr>\n",
       "      <th>2</th>\n",
       "      <td>Petr Cech</td>\n",
       "      <td>Arsenal</td>\n",
       "      <td>35</td>\n",
       "      <td>GK</td>\n",
       "      <td>4</td>\n",
       "      <td>7.0</td>\n",
       "      <td>1529</td>\n",
       "      <td>5.5</td>\n",
       "      <td>5.90%</td>\n",
       "      <td>134</td>\n",
       "      <td>2</td>\n",
       "      <td>Czech Republic</td>\n",
       "      <td>0</td>\n",
       "      <td>6</td>\n",
       "      <td>1</td>\n",
       "      <td>1</td>\n",
       "      <td>0</td>\n",
       "      <td>popular</td>\n",
       "    </tr>\n",
       "    <tr>\n",
       "      <th>3</th>\n",
       "      <td>Theo Walcott</td>\n",
       "      <td>Arsenal</td>\n",
       "      <td>28</td>\n",
       "      <td>RW</td>\n",
       "      <td>1</td>\n",
       "      <td>20.0</td>\n",
       "      <td>2393</td>\n",
       "      <td>7.5</td>\n",
       "      <td>1.50%</td>\n",
       "      <td>122</td>\n",
       "      <td>1</td>\n",
       "      <td>England</td>\n",
       "      <td>0</td>\n",
       "      <td>4</td>\n",
       "      <td>1</td>\n",
       "      <td>1</td>\n",
       "      <td>0</td>\n",
       "      <td>super-popular</td>\n",
       "    </tr>\n",
       "    <tr>\n",
       "      <th>4</th>\n",
       "      <td>Laurent Koscielny</td>\n",
       "      <td>Arsenal</td>\n",
       "      <td>31</td>\n",
       "      <td>CB</td>\n",
       "      <td>3</td>\n",
       "      <td>22.0</td>\n",
       "      <td>912</td>\n",
       "      <td>6.0</td>\n",
       "      <td>0.70%</td>\n",
       "      <td>121</td>\n",
       "      <td>2</td>\n",
       "      <td>France</td>\n",
       "      <td>0</td>\n",
       "      <td>4</td>\n",
       "      <td>1</td>\n",
       "      <td>1</td>\n",
       "      <td>0</td>\n",
       "      <td>popular</td>\n",
       "    </tr>\n",
       "    <tr>\n",
       "      <th>5</th>\n",
       "      <td>Hector Bellerin</td>\n",
       "      <td>Arsenal</td>\n",
       "      <td>22</td>\n",
       "      <td>RB</td>\n",
       "      <td>3</td>\n",
       "      <td>30.0</td>\n",
       "      <td>1675</td>\n",
       "      <td>6.0</td>\n",
       "      <td>13.70%</td>\n",
       "      <td>119</td>\n",
       "      <td>2</td>\n",
       "      <td>Spain</td>\n",
       "      <td>0</td>\n",
       "      <td>2</td>\n",
       "      <td>1</td>\n",
       "      <td>1</td>\n",
       "      <td>0</td>\n",
       "      <td>popular</td>\n",
       "    </tr>\n",
       "    <tr>\n",
       "      <th>6</th>\n",
       "      <td>Olivier Giroud</td>\n",
       "      <td>Arsenal</td>\n",
       "      <td>30</td>\n",
       "      <td>CF</td>\n",
       "      <td>1</td>\n",
       "      <td>22.0</td>\n",
       "      <td>2230</td>\n",
       "      <td>8.5</td>\n",
       "      <td>2.50%</td>\n",
       "      <td>116</td>\n",
       "      <td>2</td>\n",
       "      <td>France</td>\n",
       "      <td>0</td>\n",
       "      <td>4</td>\n",
       "      <td>1</td>\n",
       "      <td>1</td>\n",
       "      <td>0</td>\n",
       "      <td>super-popular</td>\n",
       "    </tr>\n",
       "    <tr>\n",
       "      <th>7</th>\n",
       "      <td>Nacho Monreal</td>\n",
       "      <td>Arsenal</td>\n",
       "      <td>31</td>\n",
       "      <td>LB</td>\n",
       "      <td>3</td>\n",
       "      <td>13.0</td>\n",
       "      <td>555</td>\n",
       "      <td>5.5</td>\n",
       "      <td>4.70%</td>\n",
       "      <td>115</td>\n",
       "      <td>2</td>\n",
       "      <td>Spain</td>\n",
       "      <td>0</td>\n",
       "      <td>4</td>\n",
       "      <td>1</td>\n",
       "      <td>1</td>\n",
       "      <td>0</td>\n",
       "      <td>kind of popular</td>\n",
       "    </tr>\n",
       "    <tr>\n",
       "      <th>8</th>\n",
       "      <td>Shkodran Mustafi</td>\n",
       "      <td>Arsenal</td>\n",
       "      <td>25</td>\n",
       "      <td>CB</td>\n",
       "      <td>3</td>\n",
       "      <td>30.0</td>\n",
       "      <td>1877</td>\n",
       "      <td>5.5</td>\n",
       "      <td>4.00%</td>\n",
       "      <td>90</td>\n",
       "      <td>2</td>\n",
       "      <td>Germany</td>\n",
       "      <td>0</td>\n",
       "      <td>3</td>\n",
       "      <td>1</td>\n",
       "      <td>1</td>\n",
       "      <td>1</td>\n",
       "      <td>popular</td>\n",
       "    </tr>\n",
       "    <tr>\n",
       "      <th>9</th>\n",
       "      <td>Alex Iwobi</td>\n",
       "      <td>Arsenal</td>\n",
       "      <td>21</td>\n",
       "      <td>LW</td>\n",
       "      <td>1</td>\n",
       "      <td>10.0</td>\n",
       "      <td>1812</td>\n",
       "      <td>5.5</td>\n",
       "      <td>1.00%</td>\n",
       "      <td>89</td>\n",
       "      <td>4</td>\n",
       "      <td>Nigeria</td>\n",
       "      <td>0</td>\n",
       "      <td>1</td>\n",
       "      <td>1</td>\n",
       "      <td>1</td>\n",
       "      <td>0</td>\n",
       "      <td>popular</td>\n",
       "    </tr>\n",
       "  </tbody>\n",
       "</table>\n",
       "</div>"
      ],
      "text/plain": [
       "                name     club  age  ... big_club  new_signing       popularity\n",
       "0     Alexis Sanchez  Arsenal   28  ...        1            0    super-popular\n",
       "1         Mesut Ozil  Arsenal   28  ...        1            0    super-popular\n",
       "2          Petr Cech  Arsenal   35  ...        1            0          popular\n",
       "3       Theo Walcott  Arsenal   28  ...        1            0    super-popular\n",
       "4  Laurent Koscielny  Arsenal   31  ...        1            0          popular\n",
       "5    Hector Bellerin  Arsenal   22  ...        1            0          popular\n",
       "6     Olivier Giroud  Arsenal   30  ...        1            0    super-popular\n",
       "7      Nacho Monreal  Arsenal   31  ...        1            0  kind of popular\n",
       "8   Shkodran Mustafi  Arsenal   25  ...        1            1          popular\n",
       "9         Alex Iwobi  Arsenal   21  ...        1            0          popular\n",
       "\n",
       "[10 rows x 18 columns]"
      ]
     },
     "execution_count": 324,
     "metadata": {
      "tags": []
     },
     "output_type": "execute_result"
    }
   ],
   "source": [
    "players.head(10)"
   ]
  },
  {
   "cell_type": "code",
   "execution_count": 325,
   "metadata": {
    "colab": {
     "base_uri": "https://localhost:8080/",
     "height": 0
    },
    "colab_type": "code",
    "id": "hjuY6XS8eXtc",
    "outputId": "f3c44a98-8023-48c6-def0-3503d86195a9"
   },
   "outputs": [
    {
     "name": "stdout",
     "output_type": "stream",
     "text": [
      "1000 loops, best of 3: 361 µs per loop\n"
     ]
    }
   ],
   "source": [
    "%%timeit\n",
    "players.loc[3, 'position'] = 'CM'"
   ]
  },
  {
   "cell_type": "code",
   "execution_count": 326,
   "metadata": {
    "colab": {
     "base_uri": "https://localhost:8080/",
     "height": 0
    },
    "colab_type": "code",
    "id": "9FUFjVMLvVZX",
    "outputId": "72ad09b2-01e5-4825-94cb-ffc98e1fa105"
   },
   "outputs": [
    {
     "data": {
      "text/plain": [
       "61.95462478184991"
      ]
     },
     "execution_count": 326,
     "metadata": {
      "tags": []
     },
     "output_type": "execute_result"
    }
   ],
   "source": [
    "355/5.73"
   ]
  },
  {
   "cell_type": "code",
   "execution_count": 327,
   "metadata": {
    "colab": {
     "base_uri": "https://localhost:8080/",
     "height": 0
    },
    "colab_type": "code",
    "id": "6my25rWkeVhm",
    "outputId": "8276bfbd-ddcf-4561-9622-80605689308e"
   },
   "outputs": [
    {
     "data": {
      "text/html": [
       "<div>\n",
       "<style scoped>\n",
       "    .dataframe tbody tr th:only-of-type {\n",
       "        vertical-align: middle;\n",
       "    }\n",
       "\n",
       "    .dataframe tbody tr th {\n",
       "        vertical-align: top;\n",
       "    }\n",
       "\n",
       "    .dataframe thead th {\n",
       "        text-align: right;\n",
       "    }\n",
       "</style>\n",
       "<table border=\"1\" class=\"dataframe\">\n",
       "  <thead>\n",
       "    <tr style=\"text-align: right;\">\n",
       "      <th></th>\n",
       "      <th>name</th>\n",
       "      <th>club</th>\n",
       "      <th>age</th>\n",
       "      <th>position</th>\n",
       "      <th>position_cat</th>\n",
       "      <th>market_value</th>\n",
       "      <th>page_views</th>\n",
       "      <th>fpl_value</th>\n",
       "      <th>fpl_sel</th>\n",
       "      <th>fpl_points</th>\n",
       "      <th>region</th>\n",
       "      <th>nationality</th>\n",
       "      <th>new_foreign</th>\n",
       "      <th>age_cat</th>\n",
       "      <th>club_id</th>\n",
       "      <th>big_club</th>\n",
       "      <th>new_signing</th>\n",
       "      <th>popularity</th>\n",
       "    </tr>\n",
       "  </thead>\n",
       "  <tbody>\n",
       "    <tr>\n",
       "      <th>0</th>\n",
       "      <td>Alexis Sanchez</td>\n",
       "      <td>Arsenal</td>\n",
       "      <td>28</td>\n",
       "      <td>LW</td>\n",
       "      <td>1</td>\n",
       "      <td>65.0</td>\n",
       "      <td>4329</td>\n",
       "      <td>12.0</td>\n",
       "      <td>17.10%</td>\n",
       "      <td>264</td>\n",
       "      <td>3</td>\n",
       "      <td>Chile</td>\n",
       "      <td>0</td>\n",
       "      <td>4</td>\n",
       "      <td>1</td>\n",
       "      <td>1</td>\n",
       "      <td>0</td>\n",
       "      <td>super-popular</td>\n",
       "    </tr>\n",
       "    <tr>\n",
       "      <th>1</th>\n",
       "      <td>Mesut Ozil</td>\n",
       "      <td>Arsenal</td>\n",
       "      <td>28</td>\n",
       "      <td>AM</td>\n",
       "      <td>1</td>\n",
       "      <td>50.0</td>\n",
       "      <td>4395</td>\n",
       "      <td>9.5</td>\n",
       "      <td>5.60%</td>\n",
       "      <td>167</td>\n",
       "      <td>2</td>\n",
       "      <td>Germany</td>\n",
       "      <td>0</td>\n",
       "      <td>4</td>\n",
       "      <td>1</td>\n",
       "      <td>1</td>\n",
       "      <td>0</td>\n",
       "      <td>super-popular</td>\n",
       "    </tr>\n",
       "    <tr>\n",
       "      <th>2</th>\n",
       "      <td>Petr Cech</td>\n",
       "      <td>Arsenal</td>\n",
       "      <td>35</td>\n",
       "      <td>GK</td>\n",
       "      <td>4</td>\n",
       "      <td>7.0</td>\n",
       "      <td>1529</td>\n",
       "      <td>5.5</td>\n",
       "      <td>5.90%</td>\n",
       "      <td>134</td>\n",
       "      <td>2</td>\n",
       "      <td>Czech Republic</td>\n",
       "      <td>0</td>\n",
       "      <td>6</td>\n",
       "      <td>1</td>\n",
       "      <td>1</td>\n",
       "      <td>0</td>\n",
       "      <td>popular</td>\n",
       "    </tr>\n",
       "    <tr>\n",
       "      <th>3</th>\n",
       "      <td>Theo Walcott</td>\n",
       "      <td>Arsenal</td>\n",
       "      <td>28</td>\n",
       "      <td>CM</td>\n",
       "      <td>1</td>\n",
       "      <td>20.0</td>\n",
       "      <td>2393</td>\n",
       "      <td>7.5</td>\n",
       "      <td>1.50%</td>\n",
       "      <td>122</td>\n",
       "      <td>1</td>\n",
       "      <td>England</td>\n",
       "      <td>0</td>\n",
       "      <td>4</td>\n",
       "      <td>1</td>\n",
       "      <td>1</td>\n",
       "      <td>0</td>\n",
       "      <td>super-popular</td>\n",
       "    </tr>\n",
       "    <tr>\n",
       "      <th>4</th>\n",
       "      <td>Laurent Koscielny</td>\n",
       "      <td>Arsenal</td>\n",
       "      <td>31</td>\n",
       "      <td>CB</td>\n",
       "      <td>3</td>\n",
       "      <td>22.0</td>\n",
       "      <td>912</td>\n",
       "      <td>6.0</td>\n",
       "      <td>0.70%</td>\n",
       "      <td>121</td>\n",
       "      <td>2</td>\n",
       "      <td>France</td>\n",
       "      <td>0</td>\n",
       "      <td>4</td>\n",
       "      <td>1</td>\n",
       "      <td>1</td>\n",
       "      <td>0</td>\n",
       "      <td>popular</td>\n",
       "    </tr>\n",
       "  </tbody>\n",
       "</table>\n",
       "</div>"
      ],
      "text/plain": [
       "                name     club  age  ... big_club  new_signing     popularity\n",
       "0     Alexis Sanchez  Arsenal   28  ...        1            0  super-popular\n",
       "1         Mesut Ozil  Arsenal   28  ...        1            0  super-popular\n",
       "2          Petr Cech  Arsenal   35  ...        1            0        popular\n",
       "3       Theo Walcott  Arsenal   28  ...        1            0  super-popular\n",
       "4  Laurent Koscielny  Arsenal   31  ...        1            0        popular\n",
       "\n",
       "[5 rows x 18 columns]"
      ]
     },
     "execution_count": 327,
     "metadata": {
      "tags": []
     },
     "output_type": "execute_result"
    }
   ],
   "source": [
    "players.head()"
   ]
  },
  {
   "cell_type": "code",
   "execution_count": 328,
   "metadata": {
    "colab": {
     "base_uri": "https://localhost:8080/",
     "height": 0
    },
    "colab_type": "code",
    "id": "UzJcFvSwuic5",
    "outputId": "0e4bce22-a7d4-40d7-8cf6-8f90a4bd4387"
   },
   "outputs": [
    {
     "name": "stdout",
     "output_type": "stream",
     "text": [
      "1000 loops, best of 3: 356 µs per loop\n"
     ]
    }
   ],
   "source": [
    "%%timeit\n",
    "players.iloc[3, 3] = 'RW'"
   ]
  },
  {
   "cell_type": "code",
   "execution_count": 0,
   "metadata": {
    "colab": {},
    "colab_type": "code",
    "id": "ZA3gmHwPupWU"
   },
   "outputs": [],
   "source": [
    "# at[] and iat[] should be preferred for single value assignment"
   ]
  },
  {
   "cell_type": "code",
   "execution_count": 330,
   "metadata": {
    "colab": {
     "base_uri": "https://localhost:8080/",
     "height": 0
    },
    "colab_type": "code",
    "id": "Ifl3gwxeu042",
    "outputId": "353ac3c2-e835-4c6b-f636-5b61a824fef6"
   },
   "outputs": [
    {
     "name": "stdout",
     "output_type": "stream",
     "text": [
      "The slowest run took 55.72 times longer than the fastest. This could mean that an intermediate result is being cached.\n",
      "100000 loops, best of 3: 5.98 µs per loop\n"
     ]
    }
   ],
   "source": [
    "%%timeit\n",
    "players.at[3, 'position'] = 'CM'"
   ]
  },
  {
   "cell_type": "code",
   "execution_count": 331,
   "metadata": {
    "colab": {
     "base_uri": "https://localhost:8080/",
     "height": 0
    },
    "colab_type": "code",
    "id": "BAslFhgju68P",
    "outputId": "904fb13f-7d3b-416d-d674-307ec3f4e630"
   },
   "outputs": [
    {
     "data": {
      "text/html": [
       "<div>\n",
       "<style scoped>\n",
       "    .dataframe tbody tr th:only-of-type {\n",
       "        vertical-align: middle;\n",
       "    }\n",
       "\n",
       "    .dataframe tbody tr th {\n",
       "        vertical-align: top;\n",
       "    }\n",
       "\n",
       "    .dataframe thead th {\n",
       "        text-align: right;\n",
       "    }\n",
       "</style>\n",
       "<table border=\"1\" class=\"dataframe\">\n",
       "  <thead>\n",
       "    <tr style=\"text-align: right;\">\n",
       "      <th></th>\n",
       "      <th>name</th>\n",
       "      <th>club</th>\n",
       "      <th>age</th>\n",
       "      <th>position</th>\n",
       "      <th>position_cat</th>\n",
       "      <th>market_value</th>\n",
       "      <th>page_views</th>\n",
       "      <th>fpl_value</th>\n",
       "      <th>fpl_sel</th>\n",
       "      <th>fpl_points</th>\n",
       "      <th>region</th>\n",
       "      <th>nationality</th>\n",
       "      <th>new_foreign</th>\n",
       "      <th>age_cat</th>\n",
       "      <th>club_id</th>\n",
       "      <th>big_club</th>\n",
       "      <th>new_signing</th>\n",
       "      <th>popularity</th>\n",
       "    </tr>\n",
       "  </thead>\n",
       "  <tbody>\n",
       "    <tr>\n",
       "      <th>0</th>\n",
       "      <td>Alexis Sanchez</td>\n",
       "      <td>Arsenal</td>\n",
       "      <td>28</td>\n",
       "      <td>LW</td>\n",
       "      <td>1</td>\n",
       "      <td>65.0</td>\n",
       "      <td>4329</td>\n",
       "      <td>12.0</td>\n",
       "      <td>17.10%</td>\n",
       "      <td>264</td>\n",
       "      <td>3</td>\n",
       "      <td>Chile</td>\n",
       "      <td>0</td>\n",
       "      <td>4</td>\n",
       "      <td>1</td>\n",
       "      <td>1</td>\n",
       "      <td>0</td>\n",
       "      <td>super-popular</td>\n",
       "    </tr>\n",
       "    <tr>\n",
       "      <th>1</th>\n",
       "      <td>Mesut Ozil</td>\n",
       "      <td>Arsenal</td>\n",
       "      <td>28</td>\n",
       "      <td>AM</td>\n",
       "      <td>1</td>\n",
       "      <td>50.0</td>\n",
       "      <td>4395</td>\n",
       "      <td>9.5</td>\n",
       "      <td>5.60%</td>\n",
       "      <td>167</td>\n",
       "      <td>2</td>\n",
       "      <td>Germany</td>\n",
       "      <td>0</td>\n",
       "      <td>4</td>\n",
       "      <td>1</td>\n",
       "      <td>1</td>\n",
       "      <td>0</td>\n",
       "      <td>super-popular</td>\n",
       "    </tr>\n",
       "    <tr>\n",
       "      <th>2</th>\n",
       "      <td>Petr Cech</td>\n",
       "      <td>Arsenal</td>\n",
       "      <td>35</td>\n",
       "      <td>GK</td>\n",
       "      <td>4</td>\n",
       "      <td>7.0</td>\n",
       "      <td>1529</td>\n",
       "      <td>5.5</td>\n",
       "      <td>5.90%</td>\n",
       "      <td>134</td>\n",
       "      <td>2</td>\n",
       "      <td>Czech Republic</td>\n",
       "      <td>0</td>\n",
       "      <td>6</td>\n",
       "      <td>1</td>\n",
       "      <td>1</td>\n",
       "      <td>0</td>\n",
       "      <td>popular</td>\n",
       "    </tr>\n",
       "    <tr>\n",
       "      <th>3</th>\n",
       "      <td>Theo Walcott</td>\n",
       "      <td>Arsenal</td>\n",
       "      <td>28</td>\n",
       "      <td>CM</td>\n",
       "      <td>1</td>\n",
       "      <td>20.0</td>\n",
       "      <td>2393</td>\n",
       "      <td>7.5</td>\n",
       "      <td>1.50%</td>\n",
       "      <td>122</td>\n",
       "      <td>1</td>\n",
       "      <td>England</td>\n",
       "      <td>0</td>\n",
       "      <td>4</td>\n",
       "      <td>1</td>\n",
       "      <td>1</td>\n",
       "      <td>0</td>\n",
       "      <td>super-popular</td>\n",
       "    </tr>\n",
       "    <tr>\n",
       "      <th>4</th>\n",
       "      <td>Laurent Koscielny</td>\n",
       "      <td>Arsenal</td>\n",
       "      <td>31</td>\n",
       "      <td>CB</td>\n",
       "      <td>3</td>\n",
       "      <td>22.0</td>\n",
       "      <td>912</td>\n",
       "      <td>6.0</td>\n",
       "      <td>0.70%</td>\n",
       "      <td>121</td>\n",
       "      <td>2</td>\n",
       "      <td>France</td>\n",
       "      <td>0</td>\n",
       "      <td>4</td>\n",
       "      <td>1</td>\n",
       "      <td>1</td>\n",
       "      <td>0</td>\n",
       "      <td>popular</td>\n",
       "    </tr>\n",
       "  </tbody>\n",
       "</table>\n",
       "</div>"
      ],
      "text/plain": [
       "                name     club  age  ... big_club  new_signing     popularity\n",
       "0     Alexis Sanchez  Arsenal   28  ...        1            0  super-popular\n",
       "1         Mesut Ozil  Arsenal   28  ...        1            0  super-popular\n",
       "2          Petr Cech  Arsenal   35  ...        1            0        popular\n",
       "3       Theo Walcott  Arsenal   28  ...        1            0  super-popular\n",
       "4  Laurent Koscielny  Arsenal   31  ...        1            0        popular\n",
       "\n",
       "[5 rows x 18 columns]"
      ]
     },
     "execution_count": 331,
     "metadata": {
      "tags": []
     },
     "output_type": "execute_result"
    }
   ],
   "source": [
    "players.head()"
   ]
  },
  {
   "cell_type": "code",
   "execution_count": 332,
   "metadata": {
    "colab": {
     "base_uri": "https://localhost:8080/",
     "height": 0
    },
    "colab_type": "code",
    "id": "FbCNeDvWu9I7",
    "outputId": "16516f49-d704-448f-920c-a29f2c96a9cd"
   },
   "outputs": [
    {
     "name": "stdout",
     "output_type": "stream",
     "text": [
      "The slowest run took 13.93 times longer than the fastest. This could mean that an intermediate result is being cached.\n",
      "100000 loops, best of 3: 7.1 µs per loop\n"
     ]
    }
   ],
   "source": [
    "%%timeit\n",
    "players.iat[3, 3] = 'RW'"
   ]
  },
  {
   "cell_type": "markdown",
   "metadata": {
    "colab_type": "text",
    "id": "MEX_rRtKvB0P"
   },
   "source": [
    "#### The SettingWithCopy Warning"
   ]
  },
  {
   "cell_type": "code",
   "execution_count": 333,
   "metadata": {
    "colab": {
     "base_uri": "https://localhost:8080/",
     "height": 0
    },
    "colab_type": "code",
    "id": "bOfds_LOwL1P",
    "outputId": "7b5907da-eefc-4b92-8038-0a012859bb94"
   },
   "outputs": [
    {
     "data": {
      "text/html": [
       "<div>\n",
       "<style scoped>\n",
       "    .dataframe tbody tr th:only-of-type {\n",
       "        vertical-align: middle;\n",
       "    }\n",
       "\n",
       "    .dataframe tbody tr th {\n",
       "        vertical-align: top;\n",
       "    }\n",
       "\n",
       "    .dataframe thead th {\n",
       "        text-align: right;\n",
       "    }\n",
       "</style>\n",
       "<table border=\"1\" class=\"dataframe\">\n",
       "  <thead>\n",
       "    <tr style=\"text-align: right;\">\n",
       "      <th></th>\n",
       "      <th>name</th>\n",
       "      <th>club</th>\n",
       "      <th>age</th>\n",
       "      <th>position</th>\n",
       "      <th>position_cat</th>\n",
       "      <th>market_value</th>\n",
       "      <th>page_views</th>\n",
       "      <th>fpl_value</th>\n",
       "      <th>fpl_sel</th>\n",
       "      <th>fpl_points</th>\n",
       "      <th>region</th>\n",
       "      <th>nationality</th>\n",
       "      <th>new_foreign</th>\n",
       "      <th>age_cat</th>\n",
       "      <th>club_id</th>\n",
       "      <th>big_club</th>\n",
       "      <th>new_signing</th>\n",
       "      <th>popularity</th>\n",
       "    </tr>\n",
       "  </thead>\n",
       "  <tbody>\n",
       "    <tr>\n",
       "      <th>0</th>\n",
       "      <td>Alexis Sanchez</td>\n",
       "      <td>Arsenal</td>\n",
       "      <td>28</td>\n",
       "      <td>LW</td>\n",
       "      <td>1</td>\n",
       "      <td>65.0</td>\n",
       "      <td>4329</td>\n",
       "      <td>12.0</td>\n",
       "      <td>17.10%</td>\n",
       "      <td>264</td>\n",
       "      <td>3</td>\n",
       "      <td>Chile</td>\n",
       "      <td>0</td>\n",
       "      <td>4</td>\n",
       "      <td>1</td>\n",
       "      <td>1</td>\n",
       "      <td>0</td>\n",
       "      <td>super-popular</td>\n",
       "    </tr>\n",
       "    <tr>\n",
       "      <th>1</th>\n",
       "      <td>Mesut Ozil</td>\n",
       "      <td>Arsenal</td>\n",
       "      <td>28</td>\n",
       "      <td>AM</td>\n",
       "      <td>1</td>\n",
       "      <td>50.0</td>\n",
       "      <td>4395</td>\n",
       "      <td>9.5</td>\n",
       "      <td>5.60%</td>\n",
       "      <td>167</td>\n",
       "      <td>2</td>\n",
       "      <td>Germany</td>\n",
       "      <td>0</td>\n",
       "      <td>4</td>\n",
       "      <td>1</td>\n",
       "      <td>1</td>\n",
       "      <td>0</td>\n",
       "      <td>super-popular</td>\n",
       "    </tr>\n",
       "    <tr>\n",
       "      <th>2</th>\n",
       "      <td>Petr Cech</td>\n",
       "      <td>Arsenal</td>\n",
       "      <td>35</td>\n",
       "      <td>GK</td>\n",
       "      <td>4</td>\n",
       "      <td>7.0</td>\n",
       "      <td>1529</td>\n",
       "      <td>5.5</td>\n",
       "      <td>5.90%</td>\n",
       "      <td>134</td>\n",
       "      <td>2</td>\n",
       "      <td>Czech Republic</td>\n",
       "      <td>0</td>\n",
       "      <td>6</td>\n",
       "      <td>1</td>\n",
       "      <td>1</td>\n",
       "      <td>0</td>\n",
       "      <td>popular</td>\n",
       "    </tr>\n",
       "    <tr>\n",
       "      <th>3</th>\n",
       "      <td>Theo Walcott</td>\n",
       "      <td>Arsenal</td>\n",
       "      <td>28</td>\n",
       "      <td>RW</td>\n",
       "      <td>1</td>\n",
       "      <td>20.0</td>\n",
       "      <td>2393</td>\n",
       "      <td>7.5</td>\n",
       "      <td>1.50%</td>\n",
       "      <td>122</td>\n",
       "      <td>1</td>\n",
       "      <td>England</td>\n",
       "      <td>0</td>\n",
       "      <td>4</td>\n",
       "      <td>1</td>\n",
       "      <td>1</td>\n",
       "      <td>0</td>\n",
       "      <td>super-popular</td>\n",
       "    </tr>\n",
       "    <tr>\n",
       "      <th>4</th>\n",
       "      <td>Laurent Koscielny</td>\n",
       "      <td>Arsenal</td>\n",
       "      <td>31</td>\n",
       "      <td>CB</td>\n",
       "      <td>3</td>\n",
       "      <td>22.0</td>\n",
       "      <td>912</td>\n",
       "      <td>6.0</td>\n",
       "      <td>0.70%</td>\n",
       "      <td>121</td>\n",
       "      <td>2</td>\n",
       "      <td>France</td>\n",
       "      <td>0</td>\n",
       "      <td>4</td>\n",
       "      <td>1</td>\n",
       "      <td>1</td>\n",
       "      <td>0</td>\n",
       "      <td>popular</td>\n",
       "    </tr>\n",
       "  </tbody>\n",
       "</table>\n",
       "</div>"
      ],
      "text/plain": [
       "                name     club  age  ... big_club  new_signing     popularity\n",
       "0     Alexis Sanchez  Arsenal   28  ...        1            0  super-popular\n",
       "1         Mesut Ozil  Arsenal   28  ...        1            0  super-popular\n",
       "2          Petr Cech  Arsenal   35  ...        1            0        popular\n",
       "3       Theo Walcott  Arsenal   28  ...        1            0  super-popular\n",
       "4  Laurent Koscielny  Arsenal   31  ...        1            0        popular\n",
       "\n",
       "[5 rows x 18 columns]"
      ]
     },
     "execution_count": 333,
     "metadata": {
      "tags": []
     },
     "output_type": "execute_result"
    }
   ],
   "source": [
    "players.head()"
   ]
  },
  {
   "cell_type": "code",
   "execution_count": 334,
   "metadata": {
    "colab": {
     "base_uri": "https://localhost:8080/",
     "height": 0
    },
    "colab_type": "code",
    "id": "TWoXtOc3y5oJ",
    "outputId": "ae0d57c9-d054-4b6b-c7d0-5f5a0c536a6b"
   },
   "outputs": [
    {
     "name": "stderr",
     "output_type": "stream",
     "text": [
      "/usr/local/lib/python3.6/dist-packages/ipykernel_launcher.py:1: SettingWithCopyWarning: \n",
      "A value is trying to be set on a copy of a slice from a DataFrame\n",
      "\n",
      "See the caveats in the documentation: https://pandas.pydata.org/pandas-docs/stable/user_guide/indexing.html#returning-a-view-versus-a-copy\n",
      "  \"\"\"Entry point for launching an IPython kernel.\n"
     ]
    }
   ],
   "source": [
    "players['page_views'][2] = 2001"
   ]
  },
  {
   "cell_type": "code",
   "execution_count": 335,
   "metadata": {
    "colab": {
     "base_uri": "https://localhost:8080/",
     "height": 0
    },
    "colab_type": "code",
    "id": "QzkpGsOTzwqV",
    "outputId": "94ac752c-f8be-4519-f31c-f5ce9cd98a91"
   },
   "outputs": [
    {
     "data": {
      "text/html": [
       "<div>\n",
       "<style scoped>\n",
       "    .dataframe tbody tr th:only-of-type {\n",
       "        vertical-align: middle;\n",
       "    }\n",
       "\n",
       "    .dataframe tbody tr th {\n",
       "        vertical-align: top;\n",
       "    }\n",
       "\n",
       "    .dataframe thead th {\n",
       "        text-align: right;\n",
       "    }\n",
       "</style>\n",
       "<table border=\"1\" class=\"dataframe\">\n",
       "  <thead>\n",
       "    <tr style=\"text-align: right;\">\n",
       "      <th></th>\n",
       "      <th>name</th>\n",
       "      <th>club</th>\n",
       "      <th>age</th>\n",
       "      <th>position</th>\n",
       "      <th>position_cat</th>\n",
       "      <th>market_value</th>\n",
       "      <th>page_views</th>\n",
       "      <th>fpl_value</th>\n",
       "      <th>fpl_sel</th>\n",
       "      <th>fpl_points</th>\n",
       "      <th>region</th>\n",
       "      <th>nationality</th>\n",
       "      <th>new_foreign</th>\n",
       "      <th>age_cat</th>\n",
       "      <th>club_id</th>\n",
       "      <th>big_club</th>\n",
       "      <th>new_signing</th>\n",
       "      <th>popularity</th>\n",
       "    </tr>\n",
       "  </thead>\n",
       "  <tbody>\n",
       "    <tr>\n",
       "      <th>0</th>\n",
       "      <td>Alexis Sanchez</td>\n",
       "      <td>Arsenal</td>\n",
       "      <td>28</td>\n",
       "      <td>LW</td>\n",
       "      <td>1</td>\n",
       "      <td>65.0</td>\n",
       "      <td>4329</td>\n",
       "      <td>12.0</td>\n",
       "      <td>17.10%</td>\n",
       "      <td>264</td>\n",
       "      <td>3</td>\n",
       "      <td>Chile</td>\n",
       "      <td>0</td>\n",
       "      <td>4</td>\n",
       "      <td>1</td>\n",
       "      <td>1</td>\n",
       "      <td>0</td>\n",
       "      <td>super-popular</td>\n",
       "    </tr>\n",
       "    <tr>\n",
       "      <th>1</th>\n",
       "      <td>Mesut Ozil</td>\n",
       "      <td>Arsenal</td>\n",
       "      <td>28</td>\n",
       "      <td>AM</td>\n",
       "      <td>1</td>\n",
       "      <td>50.0</td>\n",
       "      <td>4395</td>\n",
       "      <td>9.5</td>\n",
       "      <td>5.60%</td>\n",
       "      <td>167</td>\n",
       "      <td>2</td>\n",
       "      <td>Germany</td>\n",
       "      <td>0</td>\n",
       "      <td>4</td>\n",
       "      <td>1</td>\n",
       "      <td>1</td>\n",
       "      <td>0</td>\n",
       "      <td>super-popular</td>\n",
       "    </tr>\n",
       "    <tr>\n",
       "      <th>2</th>\n",
       "      <td>Petr Cech</td>\n",
       "      <td>Arsenal</td>\n",
       "      <td>35</td>\n",
       "      <td>GK</td>\n",
       "      <td>4</td>\n",
       "      <td>7.0</td>\n",
       "      <td>2001</td>\n",
       "      <td>5.5</td>\n",
       "      <td>5.90%</td>\n",
       "      <td>134</td>\n",
       "      <td>2</td>\n",
       "      <td>Czech Republic</td>\n",
       "      <td>0</td>\n",
       "      <td>6</td>\n",
       "      <td>1</td>\n",
       "      <td>1</td>\n",
       "      <td>0</td>\n",
       "      <td>popular</td>\n",
       "    </tr>\n",
       "    <tr>\n",
       "      <th>3</th>\n",
       "      <td>Theo Walcott</td>\n",
       "      <td>Arsenal</td>\n",
       "      <td>28</td>\n",
       "      <td>RW</td>\n",
       "      <td>1</td>\n",
       "      <td>20.0</td>\n",
       "      <td>2393</td>\n",
       "      <td>7.5</td>\n",
       "      <td>1.50%</td>\n",
       "      <td>122</td>\n",
       "      <td>1</td>\n",
       "      <td>England</td>\n",
       "      <td>0</td>\n",
       "      <td>4</td>\n",
       "      <td>1</td>\n",
       "      <td>1</td>\n",
       "      <td>0</td>\n",
       "      <td>super-popular</td>\n",
       "    </tr>\n",
       "    <tr>\n",
       "      <th>4</th>\n",
       "      <td>Laurent Koscielny</td>\n",
       "      <td>Arsenal</td>\n",
       "      <td>31</td>\n",
       "      <td>CB</td>\n",
       "      <td>3</td>\n",
       "      <td>22.0</td>\n",
       "      <td>912</td>\n",
       "      <td>6.0</td>\n",
       "      <td>0.70%</td>\n",
       "      <td>121</td>\n",
       "      <td>2</td>\n",
       "      <td>France</td>\n",
       "      <td>0</td>\n",
       "      <td>4</td>\n",
       "      <td>1</td>\n",
       "      <td>1</td>\n",
       "      <td>0</td>\n",
       "      <td>popular</td>\n",
       "    </tr>\n",
       "  </tbody>\n",
       "</table>\n",
       "</div>"
      ],
      "text/plain": [
       "                name     club  age  ... big_club  new_signing     popularity\n",
       "0     Alexis Sanchez  Arsenal   28  ...        1            0  super-popular\n",
       "1         Mesut Ozil  Arsenal   28  ...        1            0  super-popular\n",
       "2          Petr Cech  Arsenal   35  ...        1            0        popular\n",
       "3       Theo Walcott  Arsenal   28  ...        1            0  super-popular\n",
       "4  Laurent Koscielny  Arsenal   31  ...        1            0        popular\n",
       "\n",
       "[5 rows x 18 columns]"
      ]
     },
     "execution_count": 335,
     "metadata": {
      "tags": []
     },
     "output_type": "execute_result"
    }
   ],
   "source": [
    "players.head()"
   ]
  },
  {
   "cell_type": "code",
   "execution_count": 336,
   "metadata": {
    "colab": {
     "base_uri": "https://localhost:8080/",
     "height": 0
    },
    "colab_type": "code",
    "id": "zDss_Fr10TJF",
    "outputId": "0c4c46e5-357b-4ecc-a9a6-5c4eb5350807"
   },
   "outputs": [
    {
     "name": "stderr",
     "output_type": "stream",
     "text": [
      "/usr/local/lib/python3.6/dist-packages/IPython/core/interactiveshell.py:2882: SettingWithCopyWarning: \n",
      "A value is trying to be set on a copy of a slice from a DataFrame\n",
      "\n",
      "See the caveats in the documentation: https://pandas.pydata.org/pandas-docs/stable/user_guide/indexing.html#returning-a-view-versus-a-copy\n",
      "  exec(code_obj, self.user_global_ns, self.user_ns)\n"
     ]
    }
   ],
   "source": [
    "players.drop_duplicates()['page_views'][2] = 3000"
   ]
  },
  {
   "cell_type": "code",
   "execution_count": 337,
   "metadata": {
    "colab": {
     "base_uri": "https://localhost:8080/",
     "height": 0
    },
    "colab_type": "code",
    "id": "e9_RkYLo0cZW",
    "outputId": "aef099fa-ee5d-4bcd-f050-340b3e44e4b4"
   },
   "outputs": [
    {
     "data": {
      "text/html": [
       "<div>\n",
       "<style scoped>\n",
       "    .dataframe tbody tr th:only-of-type {\n",
       "        vertical-align: middle;\n",
       "    }\n",
       "\n",
       "    .dataframe tbody tr th {\n",
       "        vertical-align: top;\n",
       "    }\n",
       "\n",
       "    .dataframe thead th {\n",
       "        text-align: right;\n",
       "    }\n",
       "</style>\n",
       "<table border=\"1\" class=\"dataframe\">\n",
       "  <thead>\n",
       "    <tr style=\"text-align: right;\">\n",
       "      <th></th>\n",
       "      <th>name</th>\n",
       "      <th>club</th>\n",
       "      <th>age</th>\n",
       "      <th>position</th>\n",
       "      <th>position_cat</th>\n",
       "      <th>market_value</th>\n",
       "      <th>page_views</th>\n",
       "      <th>fpl_value</th>\n",
       "      <th>fpl_sel</th>\n",
       "      <th>fpl_points</th>\n",
       "      <th>region</th>\n",
       "      <th>nationality</th>\n",
       "      <th>new_foreign</th>\n",
       "      <th>age_cat</th>\n",
       "      <th>club_id</th>\n",
       "      <th>big_club</th>\n",
       "      <th>new_signing</th>\n",
       "      <th>popularity</th>\n",
       "    </tr>\n",
       "  </thead>\n",
       "  <tbody>\n",
       "    <tr>\n",
       "      <th>0</th>\n",
       "      <td>Alexis Sanchez</td>\n",
       "      <td>Arsenal</td>\n",
       "      <td>28</td>\n",
       "      <td>LW</td>\n",
       "      <td>1</td>\n",
       "      <td>65.0</td>\n",
       "      <td>4329</td>\n",
       "      <td>12.0</td>\n",
       "      <td>17.10%</td>\n",
       "      <td>264</td>\n",
       "      <td>3</td>\n",
       "      <td>Chile</td>\n",
       "      <td>0</td>\n",
       "      <td>4</td>\n",
       "      <td>1</td>\n",
       "      <td>1</td>\n",
       "      <td>0</td>\n",
       "      <td>super-popular</td>\n",
       "    </tr>\n",
       "    <tr>\n",
       "      <th>1</th>\n",
       "      <td>Mesut Ozil</td>\n",
       "      <td>Arsenal</td>\n",
       "      <td>28</td>\n",
       "      <td>AM</td>\n",
       "      <td>1</td>\n",
       "      <td>50.0</td>\n",
       "      <td>4395</td>\n",
       "      <td>9.5</td>\n",
       "      <td>5.60%</td>\n",
       "      <td>167</td>\n",
       "      <td>2</td>\n",
       "      <td>Germany</td>\n",
       "      <td>0</td>\n",
       "      <td>4</td>\n",
       "      <td>1</td>\n",
       "      <td>1</td>\n",
       "      <td>0</td>\n",
       "      <td>super-popular</td>\n",
       "    </tr>\n",
       "    <tr>\n",
       "      <th>2</th>\n",
       "      <td>Petr Cech</td>\n",
       "      <td>Arsenal</td>\n",
       "      <td>35</td>\n",
       "      <td>GK</td>\n",
       "      <td>4</td>\n",
       "      <td>7.0</td>\n",
       "      <td>2001</td>\n",
       "      <td>5.5</td>\n",
       "      <td>5.90%</td>\n",
       "      <td>134</td>\n",
       "      <td>2</td>\n",
       "      <td>Czech Republic</td>\n",
       "      <td>0</td>\n",
       "      <td>6</td>\n",
       "      <td>1</td>\n",
       "      <td>1</td>\n",
       "      <td>0</td>\n",
       "      <td>popular</td>\n",
       "    </tr>\n",
       "    <tr>\n",
       "      <th>3</th>\n",
       "      <td>Theo Walcott</td>\n",
       "      <td>Arsenal</td>\n",
       "      <td>28</td>\n",
       "      <td>RW</td>\n",
       "      <td>1</td>\n",
       "      <td>20.0</td>\n",
       "      <td>2393</td>\n",
       "      <td>7.5</td>\n",
       "      <td>1.50%</td>\n",
       "      <td>122</td>\n",
       "      <td>1</td>\n",
       "      <td>England</td>\n",
       "      <td>0</td>\n",
       "      <td>4</td>\n",
       "      <td>1</td>\n",
       "      <td>1</td>\n",
       "      <td>0</td>\n",
       "      <td>super-popular</td>\n",
       "    </tr>\n",
       "    <tr>\n",
       "      <th>4</th>\n",
       "      <td>Laurent Koscielny</td>\n",
       "      <td>Arsenal</td>\n",
       "      <td>31</td>\n",
       "      <td>CB</td>\n",
       "      <td>3</td>\n",
       "      <td>22.0</td>\n",
       "      <td>912</td>\n",
       "      <td>6.0</td>\n",
       "      <td>0.70%</td>\n",
       "      <td>121</td>\n",
       "      <td>2</td>\n",
       "      <td>France</td>\n",
       "      <td>0</td>\n",
       "      <td>4</td>\n",
       "      <td>1</td>\n",
       "      <td>1</td>\n",
       "      <td>0</td>\n",
       "      <td>popular</td>\n",
       "    </tr>\n",
       "  </tbody>\n",
       "</table>\n",
       "</div>"
      ],
      "text/plain": [
       "                name     club  age  ... big_club  new_signing     popularity\n",
       "0     Alexis Sanchez  Arsenal   28  ...        1            0  super-popular\n",
       "1         Mesut Ozil  Arsenal   28  ...        1            0  super-popular\n",
       "2          Petr Cech  Arsenal   35  ...        1            0        popular\n",
       "3       Theo Walcott  Arsenal   28  ...        1            0  super-popular\n",
       "4  Laurent Koscielny  Arsenal   31  ...        1            0        popular\n",
       "\n",
       "[5 rows x 18 columns]"
      ]
     },
     "execution_count": 337,
     "metadata": {
      "tags": []
     },
     "output_type": "execute_result"
    }
   ],
   "source": [
    "players.head()"
   ]
  },
  {
   "cell_type": "code",
   "execution_count": 0,
   "metadata": {
    "colab": {},
    "colab_type": "code",
    "id": "gY3Z2HTU0tuz"
   },
   "outputs": [],
   "source": [
    "pd.options.mode.chained_assignment = 'warn' "
   ]
  },
  {
   "cell_type": "code",
   "execution_count": 0,
   "metadata": {
    "colab": {},
    "colab_type": "code",
    "id": "9LhrTjJq03rF"
   },
   "outputs": [],
   "source": [
    "# 'None' -> turns the SettingWithCopyWarning off"
   ]
  },
  {
   "cell_type": "markdown",
   "metadata": {
    "colab_type": "text",
    "id": "xHxftePf7K2O"
   },
   "source": [
    "#### View vs Copy"
   ]
  },
  {
   "cell_type": "code",
   "execution_count": 340,
   "metadata": {
    "colab": {
     "base_uri": "https://localhost:8080/",
     "height": 0
    },
    "colab_type": "code",
    "id": "jsQni6UP8exW",
    "outputId": "cdcc6676-24ab-4900-d3c0-18a50f11510c"
   },
   "outputs": [
    {
     "data": {
      "text/html": [
       "<div>\n",
       "<style scoped>\n",
       "    .dataframe tbody tr th:only-of-type {\n",
       "        vertical-align: middle;\n",
       "    }\n",
       "\n",
       "    .dataframe tbody tr th {\n",
       "        vertical-align: top;\n",
       "    }\n",
       "\n",
       "    .dataframe thead th {\n",
       "        text-align: right;\n",
       "    }\n",
       "</style>\n",
       "<table border=\"1\" class=\"dataframe\">\n",
       "  <thead>\n",
       "    <tr style=\"text-align: right;\">\n",
       "      <th></th>\n",
       "      <th>name</th>\n",
       "      <th>club</th>\n",
       "      <th>age</th>\n",
       "      <th>position</th>\n",
       "      <th>position_cat</th>\n",
       "      <th>market_value</th>\n",
       "      <th>page_views</th>\n",
       "      <th>fpl_value</th>\n",
       "      <th>fpl_sel</th>\n",
       "      <th>fpl_points</th>\n",
       "      <th>region</th>\n",
       "      <th>nationality</th>\n",
       "      <th>new_foreign</th>\n",
       "      <th>age_cat</th>\n",
       "      <th>club_id</th>\n",
       "      <th>big_club</th>\n",
       "      <th>new_signing</th>\n",
       "      <th>popularity</th>\n",
       "    </tr>\n",
       "  </thead>\n",
       "  <tbody>\n",
       "    <tr>\n",
       "      <th>0</th>\n",
       "      <td>Alexis Sanchez</td>\n",
       "      <td>Arsenal</td>\n",
       "      <td>28</td>\n",
       "      <td>LW</td>\n",
       "      <td>1</td>\n",
       "      <td>65.0</td>\n",
       "      <td>4329</td>\n",
       "      <td>12.0</td>\n",
       "      <td>17.10%</td>\n",
       "      <td>264</td>\n",
       "      <td>3</td>\n",
       "      <td>Chile</td>\n",
       "      <td>0</td>\n",
       "      <td>4</td>\n",
       "      <td>1</td>\n",
       "      <td>1</td>\n",
       "      <td>0</td>\n",
       "      <td>super-popular</td>\n",
       "    </tr>\n",
       "    <tr>\n",
       "      <th>1</th>\n",
       "      <td>Mesut Ozil</td>\n",
       "      <td>Arsenal</td>\n",
       "      <td>28</td>\n",
       "      <td>AM</td>\n",
       "      <td>1</td>\n",
       "      <td>50.0</td>\n",
       "      <td>4395</td>\n",
       "      <td>9.5</td>\n",
       "      <td>5.60%</td>\n",
       "      <td>167</td>\n",
       "      <td>2</td>\n",
       "      <td>Germany</td>\n",
       "      <td>0</td>\n",
       "      <td>4</td>\n",
       "      <td>1</td>\n",
       "      <td>1</td>\n",
       "      <td>0</td>\n",
       "      <td>super-popular</td>\n",
       "    </tr>\n",
       "    <tr>\n",
       "      <th>2</th>\n",
       "      <td>Petr Cech</td>\n",
       "      <td>Arsenal</td>\n",
       "      <td>35</td>\n",
       "      <td>GK</td>\n",
       "      <td>4</td>\n",
       "      <td>7.0</td>\n",
       "      <td>2001</td>\n",
       "      <td>5.5</td>\n",
       "      <td>5.90%</td>\n",
       "      <td>134</td>\n",
       "      <td>2</td>\n",
       "      <td>Czech Republic</td>\n",
       "      <td>0</td>\n",
       "      <td>6</td>\n",
       "      <td>1</td>\n",
       "      <td>1</td>\n",
       "      <td>0</td>\n",
       "      <td>popular</td>\n",
       "    </tr>\n",
       "    <tr>\n",
       "      <th>3</th>\n",
       "      <td>Theo Walcott</td>\n",
       "      <td>Arsenal</td>\n",
       "      <td>28</td>\n",
       "      <td>RW</td>\n",
       "      <td>1</td>\n",
       "      <td>20.0</td>\n",
       "      <td>2393</td>\n",
       "      <td>7.5</td>\n",
       "      <td>1.50%</td>\n",
       "      <td>122</td>\n",
       "      <td>1</td>\n",
       "      <td>England</td>\n",
       "      <td>0</td>\n",
       "      <td>4</td>\n",
       "      <td>1</td>\n",
       "      <td>1</td>\n",
       "      <td>0</td>\n",
       "      <td>super-popular</td>\n",
       "    </tr>\n",
       "    <tr>\n",
       "      <th>4</th>\n",
       "      <td>Laurent Koscielny</td>\n",
       "      <td>Arsenal</td>\n",
       "      <td>31</td>\n",
       "      <td>CB</td>\n",
       "      <td>3</td>\n",
       "      <td>22.0</td>\n",
       "      <td>912</td>\n",
       "      <td>6.0</td>\n",
       "      <td>0.70%</td>\n",
       "      <td>121</td>\n",
       "      <td>2</td>\n",
       "      <td>France</td>\n",
       "      <td>0</td>\n",
       "      <td>4</td>\n",
       "      <td>1</td>\n",
       "      <td>1</td>\n",
       "      <td>0</td>\n",
       "      <td>popular</td>\n",
       "    </tr>\n",
       "  </tbody>\n",
       "</table>\n",
       "</div>"
      ],
      "text/plain": [
       "                name     club  age  ... big_club  new_signing     popularity\n",
       "0     Alexis Sanchez  Arsenal   28  ...        1            0  super-popular\n",
       "1         Mesut Ozil  Arsenal   28  ...        1            0  super-popular\n",
       "2          Petr Cech  Arsenal   35  ...        1            0        popular\n",
       "3       Theo Walcott  Arsenal   28  ...        1            0  super-popular\n",
       "4  Laurent Koscielny  Arsenal   31  ...        1            0        popular\n",
       "\n",
       "[5 rows x 18 columns]"
      ]
     },
     "execution_count": 340,
     "metadata": {
      "tags": []
     },
     "output_type": "execute_result"
    }
   ],
   "source": [
    "players.head()"
   ]
  },
  {
   "cell_type": "code",
   "execution_count": 0,
   "metadata": {
    "colab": {},
    "colab_type": "code",
    "id": "fNqCRZaA8U1l"
   },
   "outputs": [],
   "source": [
    "players.loc[0:3, 'position'] = ['CM', 'RW', 'CB', 'GK']"
   ]
  },
  {
   "cell_type": "code",
   "execution_count": 342,
   "metadata": {
    "colab": {
     "base_uri": "https://localhost:8080/",
     "height": 0
    },
    "colab_type": "code",
    "id": "y703piwp8U4t",
    "outputId": "e86b2477-38a5-4b9e-a6e9-f8bb55cbe21d"
   },
   "outputs": [
    {
     "data": {
      "text/html": [
       "<div>\n",
       "<style scoped>\n",
       "    .dataframe tbody tr th:only-of-type {\n",
       "        vertical-align: middle;\n",
       "    }\n",
       "\n",
       "    .dataframe tbody tr th {\n",
       "        vertical-align: top;\n",
       "    }\n",
       "\n",
       "    .dataframe thead th {\n",
       "        text-align: right;\n",
       "    }\n",
       "</style>\n",
       "<table border=\"1\" class=\"dataframe\">\n",
       "  <thead>\n",
       "    <tr style=\"text-align: right;\">\n",
       "      <th></th>\n",
       "      <th>name</th>\n",
       "      <th>club</th>\n",
       "      <th>age</th>\n",
       "      <th>position</th>\n",
       "      <th>position_cat</th>\n",
       "      <th>market_value</th>\n",
       "      <th>page_views</th>\n",
       "      <th>fpl_value</th>\n",
       "      <th>fpl_sel</th>\n",
       "      <th>fpl_points</th>\n",
       "      <th>region</th>\n",
       "      <th>nationality</th>\n",
       "      <th>new_foreign</th>\n",
       "      <th>age_cat</th>\n",
       "      <th>club_id</th>\n",
       "      <th>big_club</th>\n",
       "      <th>new_signing</th>\n",
       "      <th>popularity</th>\n",
       "    </tr>\n",
       "  </thead>\n",
       "  <tbody>\n",
       "    <tr>\n",
       "      <th>0</th>\n",
       "      <td>Alexis Sanchez</td>\n",
       "      <td>Arsenal</td>\n",
       "      <td>28</td>\n",
       "      <td>CM</td>\n",
       "      <td>1</td>\n",
       "      <td>65.0</td>\n",
       "      <td>4329</td>\n",
       "      <td>12.0</td>\n",
       "      <td>17.10%</td>\n",
       "      <td>264</td>\n",
       "      <td>3</td>\n",
       "      <td>Chile</td>\n",
       "      <td>0</td>\n",
       "      <td>4</td>\n",
       "      <td>1</td>\n",
       "      <td>1</td>\n",
       "      <td>0</td>\n",
       "      <td>super-popular</td>\n",
       "    </tr>\n",
       "    <tr>\n",
       "      <th>1</th>\n",
       "      <td>Mesut Ozil</td>\n",
       "      <td>Arsenal</td>\n",
       "      <td>28</td>\n",
       "      <td>RW</td>\n",
       "      <td>1</td>\n",
       "      <td>50.0</td>\n",
       "      <td>4395</td>\n",
       "      <td>9.5</td>\n",
       "      <td>5.60%</td>\n",
       "      <td>167</td>\n",
       "      <td>2</td>\n",
       "      <td>Germany</td>\n",
       "      <td>0</td>\n",
       "      <td>4</td>\n",
       "      <td>1</td>\n",
       "      <td>1</td>\n",
       "      <td>0</td>\n",
       "      <td>super-popular</td>\n",
       "    </tr>\n",
       "    <tr>\n",
       "      <th>2</th>\n",
       "      <td>Petr Cech</td>\n",
       "      <td>Arsenal</td>\n",
       "      <td>35</td>\n",
       "      <td>CB</td>\n",
       "      <td>4</td>\n",
       "      <td>7.0</td>\n",
       "      <td>2001</td>\n",
       "      <td>5.5</td>\n",
       "      <td>5.90%</td>\n",
       "      <td>134</td>\n",
       "      <td>2</td>\n",
       "      <td>Czech Republic</td>\n",
       "      <td>0</td>\n",
       "      <td>6</td>\n",
       "      <td>1</td>\n",
       "      <td>1</td>\n",
       "      <td>0</td>\n",
       "      <td>popular</td>\n",
       "    </tr>\n",
       "    <tr>\n",
       "      <th>3</th>\n",
       "      <td>Theo Walcott</td>\n",
       "      <td>Arsenal</td>\n",
       "      <td>28</td>\n",
       "      <td>GK</td>\n",
       "      <td>1</td>\n",
       "      <td>20.0</td>\n",
       "      <td>2393</td>\n",
       "      <td>7.5</td>\n",
       "      <td>1.50%</td>\n",
       "      <td>122</td>\n",
       "      <td>1</td>\n",
       "      <td>England</td>\n",
       "      <td>0</td>\n",
       "      <td>4</td>\n",
       "      <td>1</td>\n",
       "      <td>1</td>\n",
       "      <td>0</td>\n",
       "      <td>super-popular</td>\n",
       "    </tr>\n",
       "    <tr>\n",
       "      <th>4</th>\n",
       "      <td>Laurent Koscielny</td>\n",
       "      <td>Arsenal</td>\n",
       "      <td>31</td>\n",
       "      <td>CB</td>\n",
       "      <td>3</td>\n",
       "      <td>22.0</td>\n",
       "      <td>912</td>\n",
       "      <td>6.0</td>\n",
       "      <td>0.70%</td>\n",
       "      <td>121</td>\n",
       "      <td>2</td>\n",
       "      <td>France</td>\n",
       "      <td>0</td>\n",
       "      <td>4</td>\n",
       "      <td>1</td>\n",
       "      <td>1</td>\n",
       "      <td>0</td>\n",
       "      <td>popular</td>\n",
       "    </tr>\n",
       "  </tbody>\n",
       "</table>\n",
       "</div>"
      ],
      "text/plain": [
       "                name     club  age  ... big_club  new_signing     popularity\n",
       "0     Alexis Sanchez  Arsenal   28  ...        1            0  super-popular\n",
       "1         Mesut Ozil  Arsenal   28  ...        1            0  super-popular\n",
       "2          Petr Cech  Arsenal   35  ...        1            0        popular\n",
       "3       Theo Walcott  Arsenal   28  ...        1            0  super-popular\n",
       "4  Laurent Koscielny  Arsenal   31  ...        1            0        popular\n",
       "\n",
       "[5 rows x 18 columns]"
      ]
     },
     "execution_count": 342,
     "metadata": {
      "tags": []
     },
     "output_type": "execute_result"
    }
   ],
   "source": [
    "players.head()"
   ]
  },
  {
   "cell_type": "code",
   "execution_count": 0,
   "metadata": {
    "colab": {},
    "colab_type": "code",
    "id": "4DwvhK29AlcL"
   },
   "outputs": [],
   "source": [
    "# Aaron -> nickname"
   ]
  },
  {
   "cell_type": "code",
   "execution_count": 344,
   "metadata": {
    "colab": {
     "base_uri": "https://localhost:8080/",
     "height": 0
    },
    "colab_type": "code",
    "id": "KlKZsobUAr8M",
    "outputId": "52d404c9-ec04-47c6-d33e-3346bd910641"
   },
   "outputs": [
    {
     "data": {
      "text/html": [
       "<div>\n",
       "<style scoped>\n",
       "    .dataframe tbody tr th:only-of-type {\n",
       "        vertical-align: middle;\n",
       "    }\n",
       "\n",
       "    .dataframe tbody tr th {\n",
       "        vertical-align: top;\n",
       "    }\n",
       "\n",
       "    .dataframe thead th {\n",
       "        text-align: right;\n",
       "    }\n",
       "</style>\n",
       "<table border=\"1\" class=\"dataframe\">\n",
       "  <thead>\n",
       "    <tr style=\"text-align: right;\">\n",
       "      <th></th>\n",
       "      <th>name</th>\n",
       "      <th>club</th>\n",
       "      <th>age</th>\n",
       "      <th>position</th>\n",
       "      <th>position_cat</th>\n",
       "      <th>market_value</th>\n",
       "      <th>page_views</th>\n",
       "      <th>fpl_value</th>\n",
       "      <th>fpl_sel</th>\n",
       "      <th>fpl_points</th>\n",
       "      <th>region</th>\n",
       "      <th>nationality</th>\n",
       "      <th>new_foreign</th>\n",
       "      <th>age_cat</th>\n",
       "      <th>club_id</th>\n",
       "      <th>big_club</th>\n",
       "      <th>new_signing</th>\n",
       "      <th>popularity</th>\n",
       "    </tr>\n",
       "  </thead>\n",
       "  <tbody>\n",
       "    <tr>\n",
       "      <th>15</th>\n",
       "      <td>Aaron Ramsey</td>\n",
       "      <td>Arsenal</td>\n",
       "      <td>26</td>\n",
       "      <td>CM</td>\n",
       "      <td>2</td>\n",
       "      <td>35.0</td>\n",
       "      <td>1040</td>\n",
       "      <td>7.0</td>\n",
       "      <td>5.10%</td>\n",
       "      <td>56</td>\n",
       "      <td>1</td>\n",
       "      <td>Wales</td>\n",
       "      <td>0</td>\n",
       "      <td>3</td>\n",
       "      <td>1</td>\n",
       "      <td>1</td>\n",
       "      <td>0</td>\n",
       "      <td>popular</td>\n",
       "    </tr>\n",
       "    <tr>\n",
       "      <th>157</th>\n",
       "      <td>Aaron Lennon</td>\n",
       "      <td>Everton</td>\n",
       "      <td>30</td>\n",
       "      <td>RW</td>\n",
       "      <td>1</td>\n",
       "      <td>5.0</td>\n",
       "      <td>504</td>\n",
       "      <td>5.5</td>\n",
       "      <td>0.20%</td>\n",
       "      <td>22</td>\n",
       "      <td>1</td>\n",
       "      <td>England</td>\n",
       "      <td>0</td>\n",
       "      <td>4</td>\n",
       "      <td>7</td>\n",
       "      <td>0</td>\n",
       "      <td>0</td>\n",
       "      <td>kind of popular</td>\n",
       "    </tr>\n",
       "    <tr>\n",
       "      <th>176</th>\n",
       "      <td>Aaron Mooy</td>\n",
       "      <td>Huddersfield</td>\n",
       "      <td>26</td>\n",
       "      <td>CM</td>\n",
       "      <td>2</td>\n",
       "      <td>5.0</td>\n",
       "      <td>588</td>\n",
       "      <td>5.5</td>\n",
       "      <td>2.50%</td>\n",
       "      <td>0</td>\n",
       "      <td>4</td>\n",
       "      <td>Australia</td>\n",
       "      <td>0</td>\n",
       "      <td>3</td>\n",
       "      <td>8</td>\n",
       "      <td>0</td>\n",
       "      <td>0</td>\n",
       "      <td>kind of popular</td>\n",
       "    </tr>\n",
       "    <tr>\n",
       "      <th>455</th>\n",
       "      <td>Aaron Cresswell</td>\n",
       "      <td>West+Ham</td>\n",
       "      <td>27</td>\n",
       "      <td>LB</td>\n",
       "      <td>3</td>\n",
       "      <td>12.0</td>\n",
       "      <td>380</td>\n",
       "      <td>5.0</td>\n",
       "      <td>1.30%</td>\n",
       "      <td>60</td>\n",
       "      <td>1</td>\n",
       "      <td>England</td>\n",
       "      <td>0</td>\n",
       "      <td>3</td>\n",
       "      <td>20</td>\n",
       "      <td>0</td>\n",
       "      <td>0</td>\n",
       "      <td>kind of popular</td>\n",
       "    </tr>\n",
       "  </tbody>\n",
       "</table>\n",
       "</div>"
      ],
      "text/plain": [
       "                name          club  age  ... big_club  new_signing       popularity\n",
       "15      Aaron Ramsey       Arsenal   26  ...        1            0          popular\n",
       "157     Aaron Lennon       Everton   30  ...        0            0  kind of popular\n",
       "176       Aaron Mooy  Huddersfield   26  ...        0            0  kind of popular\n",
       "455  Aaron Cresswell      West+Ham   27  ...        0            0  kind of popular\n",
       "\n",
       "[4 rows x 18 columns]"
      ]
     },
     "execution_count": 344,
     "metadata": {
      "tags": []
     },
     "output_type": "execute_result"
    }
   ],
   "source": [
    "players.loc[players.name.str.startswith('Aaron')]"
   ]
  },
  {
   "cell_type": "code",
   "execution_count": 0,
   "metadata": {
    "colab": {},
    "colab_type": "code",
    "id": "SN9npw-ZAylb"
   },
   "outputs": [],
   "source": [
    "players.loc[players.name.str.startswith('Aaron'), 'name'] = 'Ronny'"
   ]
  },
  {
   "cell_type": "code",
   "execution_count": 346,
   "metadata": {
    "colab": {
     "base_uri": "https://localhost:8080/",
     "height": 0
    },
    "colab_type": "code",
    "id": "Nn3K6sBHA5r0",
    "outputId": "604bb1f7-f587-45ba-ca90-fd99c42d4ec6"
   },
   "outputs": [
    {
     "data": {
      "text/html": [
       "<div>\n",
       "<style scoped>\n",
       "    .dataframe tbody tr th:only-of-type {\n",
       "        vertical-align: middle;\n",
       "    }\n",
       "\n",
       "    .dataframe tbody tr th {\n",
       "        vertical-align: top;\n",
       "    }\n",
       "\n",
       "    .dataframe thead th {\n",
       "        text-align: right;\n",
       "    }\n",
       "</style>\n",
       "<table border=\"1\" class=\"dataframe\">\n",
       "  <thead>\n",
       "    <tr style=\"text-align: right;\">\n",
       "      <th></th>\n",
       "      <th>name</th>\n",
       "      <th>club</th>\n",
       "      <th>age</th>\n",
       "      <th>position</th>\n",
       "      <th>position_cat</th>\n",
       "      <th>market_value</th>\n",
       "      <th>page_views</th>\n",
       "      <th>fpl_value</th>\n",
       "      <th>fpl_sel</th>\n",
       "      <th>fpl_points</th>\n",
       "      <th>region</th>\n",
       "      <th>nationality</th>\n",
       "      <th>new_foreign</th>\n",
       "      <th>age_cat</th>\n",
       "      <th>club_id</th>\n",
       "      <th>big_club</th>\n",
       "      <th>new_signing</th>\n",
       "      <th>popularity</th>\n",
       "    </tr>\n",
       "  </thead>\n",
       "  <tbody>\n",
       "    <tr>\n",
       "      <th>15</th>\n",
       "      <td>Ronny</td>\n",
       "      <td>Arsenal</td>\n",
       "      <td>26</td>\n",
       "      <td>CM</td>\n",
       "      <td>2</td>\n",
       "      <td>35.0</td>\n",
       "      <td>1040</td>\n",
       "      <td>7.0</td>\n",
       "      <td>5.10%</td>\n",
       "      <td>56</td>\n",
       "      <td>1</td>\n",
       "      <td>Wales</td>\n",
       "      <td>0</td>\n",
       "      <td>3</td>\n",
       "      <td>1</td>\n",
       "      <td>1</td>\n",
       "      <td>0</td>\n",
       "      <td>popular</td>\n",
       "    </tr>\n",
       "    <tr>\n",
       "      <th>157</th>\n",
       "      <td>Ronny</td>\n",
       "      <td>Everton</td>\n",
       "      <td>30</td>\n",
       "      <td>RW</td>\n",
       "      <td>1</td>\n",
       "      <td>5.0</td>\n",
       "      <td>504</td>\n",
       "      <td>5.5</td>\n",
       "      <td>0.20%</td>\n",
       "      <td>22</td>\n",
       "      <td>1</td>\n",
       "      <td>England</td>\n",
       "      <td>0</td>\n",
       "      <td>4</td>\n",
       "      <td>7</td>\n",
       "      <td>0</td>\n",
       "      <td>0</td>\n",
       "      <td>kind of popular</td>\n",
       "    </tr>\n",
       "    <tr>\n",
       "      <th>176</th>\n",
       "      <td>Ronny</td>\n",
       "      <td>Huddersfield</td>\n",
       "      <td>26</td>\n",
       "      <td>CM</td>\n",
       "      <td>2</td>\n",
       "      <td>5.0</td>\n",
       "      <td>588</td>\n",
       "      <td>5.5</td>\n",
       "      <td>2.50%</td>\n",
       "      <td>0</td>\n",
       "      <td>4</td>\n",
       "      <td>Australia</td>\n",
       "      <td>0</td>\n",
       "      <td>3</td>\n",
       "      <td>8</td>\n",
       "      <td>0</td>\n",
       "      <td>0</td>\n",
       "      <td>kind of popular</td>\n",
       "    </tr>\n",
       "    <tr>\n",
       "      <th>455</th>\n",
       "      <td>Ronny</td>\n",
       "      <td>West+Ham</td>\n",
       "      <td>27</td>\n",
       "      <td>LB</td>\n",
       "      <td>3</td>\n",
       "      <td>12.0</td>\n",
       "      <td>380</td>\n",
       "      <td>5.0</td>\n",
       "      <td>1.30%</td>\n",
       "      <td>60</td>\n",
       "      <td>1</td>\n",
       "      <td>England</td>\n",
       "      <td>0</td>\n",
       "      <td>3</td>\n",
       "      <td>20</td>\n",
       "      <td>0</td>\n",
       "      <td>0</td>\n",
       "      <td>kind of popular</td>\n",
       "    </tr>\n",
       "  </tbody>\n",
       "</table>\n",
       "</div>"
      ],
      "text/plain": [
       "      name          club  age  ... big_club  new_signing       popularity\n",
       "15   Ronny       Arsenal   26  ...        1            0          popular\n",
       "157  Ronny       Everton   30  ...        0            0  kind of popular\n",
       "176  Ronny  Huddersfield   26  ...        0            0  kind of popular\n",
       "455  Ronny      West+Ham   27  ...        0            0  kind of popular\n",
       "\n",
       "[4 rows x 18 columns]"
      ]
     },
     "execution_count": 346,
     "metadata": {
      "tags": []
     },
     "output_type": "execute_result"
    }
   ],
   "source": [
    "players.loc[[15, 157, 176, 455]]"
   ]
  },
  {
   "cell_type": "code",
   "execution_count": 0,
   "metadata": {
    "colab": {},
    "colab_type": "code",
    "id": "Ld9Yx0i8BBic"
   },
   "outputs": [],
   "source": [
    "# do not do this!"
   ]
  },
  {
   "cell_type": "code",
   "execution_count": 348,
   "metadata": {
    "colab": {
     "base_uri": "https://localhost:8080/",
     "height": 0
    },
    "colab_type": "code",
    "id": "Ot8ZERCkBP5N",
    "outputId": "09d460fa-c19d-40e3-e401-bc3b735b9358"
   },
   "outputs": [
    {
     "name": "stderr",
     "output_type": "stream",
     "text": [
      "/usr/local/lib/python3.6/dist-packages/pandas/core/indexing.py:671: SettingWithCopyWarning: \n",
      "A value is trying to be set on a copy of a slice from a DataFrame\n",
      "\n",
      "See the caveats in the documentation: https://pandas.pydata.org/pandas-docs/stable/user_guide/indexing.html#returning-a-view-versus-a-copy\n",
      "  self._setitem_with_indexer(indexer, value)\n"
     ]
    }
   ],
   "source": [
    "players['age'].iloc[1] = '12'"
   ]
  },
  {
   "cell_type": "code",
   "execution_count": 349,
   "metadata": {
    "colab": {
     "base_uri": "https://localhost:8080/",
     "height": 0
    },
    "colab_type": "code",
    "id": "1bjV1R4TBUe_",
    "outputId": "f3ba7aa0-3444-45fa-9149-6a1f8c0d89cf"
   },
   "outputs": [
    {
     "name": "stderr",
     "output_type": "stream",
     "text": [
      "/usr/local/lib/python3.6/dist-packages/pandas/core/indexing.py:966: SettingWithCopyWarning: \n",
      "A value is trying to be set on a copy of a slice from a DataFrame.\n",
      "Try using .loc[row_indexer,col_indexer] = value instead\n",
      "\n",
      "See the caveats in the documentation: https://pandas.pydata.org/pandas-docs/stable/user_guide/indexing.html#returning-a-view-versus-a-copy\n",
      "  self.obj[item] = s\n"
     ]
    }
   ],
   "source": [
    "players.drop_duplicates().loc[3, 'position'] = 'CM'"
   ]
  },
  {
   "cell_type": "markdown",
   "metadata": {
    "colab_type": "text",
    "id": "oUlREYcsBYKl"
   },
   "source": [
    "#### Adding DataFrame Columns"
   ]
  },
  {
   "cell_type": "code",
   "execution_count": 350,
   "metadata": {
    "colab": {
     "base_uri": "https://localhost:8080/",
     "height": 0
    },
    "colab_type": "code",
    "id": "nY3l-Q_AGOgh",
    "outputId": "92476645-9d7c-4bdf-ae0d-2828dce433d5"
   },
   "outputs": [
    {
     "data": {
      "text/plain": [
       "0           super-popular\n",
       "1           super-popular\n",
       "2                 popular\n",
       "3           super-popular\n",
       "4                 popular\n",
       "              ...        \n",
       "460       kind of popular\n",
       "461    relatively unknown\n",
       "462    relatively unknown\n",
       "463       kind of popular\n",
       "464    relatively unknown\n",
       "Name: popularity, Length: 465, dtype: object"
      ]
     },
     "execution_count": 350,
     "metadata": {
      "tags": []
     },
     "output_type": "execute_result"
    }
   ],
   "source": [
    "players.popularity"
   ]
  },
  {
   "cell_type": "code",
   "execution_count": 351,
   "metadata": {
    "colab": {
     "base_uri": "https://localhost:8080/",
     "height": 0
    },
    "colab_type": "code",
    "id": "xLNkGdebGOb6",
    "outputId": "7c62643f-aada-4e6e-8ff3-24f1afd0bdd7"
   },
   "outputs": [
    {
     "data": {
      "text/plain": [
       "False"
      ]
     },
     "execution_count": 351,
     "metadata": {
      "tags": []
     },
     "output_type": "execute_result"
    }
   ],
   "source": [
    "'MVtoFPL' in players"
   ]
  },
  {
   "cell_type": "code",
   "execution_count": 352,
   "metadata": {
    "colab": {
     "base_uri": "https://localhost:8080/",
     "height": 0
    },
    "colab_type": "code",
    "id": "c7qzA677GOXz",
    "outputId": "6baba06a-56ca-49b9-8fa9-c7d16d5d1474"
   },
   "outputs": [
    {
     "data": {
      "text/plain": [
       "True"
      ]
     },
     "execution_count": 352,
     "metadata": {
      "tags": []
     },
     "output_type": "execute_result"
    }
   ],
   "source": [
    "'popularity' in players"
   ]
  },
  {
   "cell_type": "code",
   "execution_count": 0,
   "metadata": {
    "colab": {},
    "colab_type": "code",
    "id": "S9jf7tk6GOTZ"
   },
   "outputs": [],
   "source": [
    "players['MVtoFPL'] = 1.0"
   ]
  },
  {
   "cell_type": "code",
   "execution_count": 354,
   "metadata": {
    "colab": {
     "base_uri": "https://localhost:8080/",
     "height": 0
    },
    "colab_type": "code",
    "id": "Cu132QGRGq3C",
    "outputId": "a665baae-da8b-49b3-fac5-1e57ec0c4e28"
   },
   "outputs": [
    {
     "data": {
      "text/plain": [
       "True"
      ]
     },
     "execution_count": 354,
     "metadata": {
      "tags": []
     },
     "output_type": "execute_result"
    }
   ],
   "source": [
    "'MVtoFPL' in players"
   ]
  },
  {
   "cell_type": "code",
   "execution_count": 355,
   "metadata": {
    "colab": {
     "base_uri": "https://localhost:8080/",
     "height": 0
    },
    "colab_type": "code",
    "id": "lZeeayHUGOPM",
    "outputId": "30ab2e6e-b22a-4044-a7ef-fb66f62bf97b"
   },
   "outputs": [
    {
     "data": {
      "text/html": [
       "<div>\n",
       "<style scoped>\n",
       "    .dataframe tbody tr th:only-of-type {\n",
       "        vertical-align: middle;\n",
       "    }\n",
       "\n",
       "    .dataframe tbody tr th {\n",
       "        vertical-align: top;\n",
       "    }\n",
       "\n",
       "    .dataframe thead th {\n",
       "        text-align: right;\n",
       "    }\n",
       "</style>\n",
       "<table border=\"1\" class=\"dataframe\">\n",
       "  <thead>\n",
       "    <tr style=\"text-align: right;\">\n",
       "      <th></th>\n",
       "      <th>name</th>\n",
       "      <th>club</th>\n",
       "      <th>age</th>\n",
       "      <th>position</th>\n",
       "      <th>position_cat</th>\n",
       "      <th>market_value</th>\n",
       "      <th>page_views</th>\n",
       "      <th>fpl_value</th>\n",
       "      <th>fpl_sel</th>\n",
       "      <th>fpl_points</th>\n",
       "      <th>region</th>\n",
       "      <th>nationality</th>\n",
       "      <th>new_foreign</th>\n",
       "      <th>age_cat</th>\n",
       "      <th>club_id</th>\n",
       "      <th>big_club</th>\n",
       "      <th>new_signing</th>\n",
       "      <th>popularity</th>\n",
       "      <th>MVtoFPL</th>\n",
       "    </tr>\n",
       "  </thead>\n",
       "  <tbody>\n",
       "    <tr>\n",
       "      <th>0</th>\n",
       "      <td>Alexis Sanchez</td>\n",
       "      <td>Arsenal</td>\n",
       "      <td>28</td>\n",
       "      <td>CM</td>\n",
       "      <td>1</td>\n",
       "      <td>65.0</td>\n",
       "      <td>4329</td>\n",
       "      <td>12.0</td>\n",
       "      <td>17.10%</td>\n",
       "      <td>264</td>\n",
       "      <td>3</td>\n",
       "      <td>Chile</td>\n",
       "      <td>0</td>\n",
       "      <td>4</td>\n",
       "      <td>1</td>\n",
       "      <td>1</td>\n",
       "      <td>0</td>\n",
       "      <td>super-popular</td>\n",
       "      <td>1.0</td>\n",
       "    </tr>\n",
       "    <tr>\n",
       "      <th>1</th>\n",
       "      <td>Mesut Ozil</td>\n",
       "      <td>Arsenal</td>\n",
       "      <td>12</td>\n",
       "      <td>RW</td>\n",
       "      <td>1</td>\n",
       "      <td>50.0</td>\n",
       "      <td>4395</td>\n",
       "      <td>9.5</td>\n",
       "      <td>5.60%</td>\n",
       "      <td>167</td>\n",
       "      <td>2</td>\n",
       "      <td>Germany</td>\n",
       "      <td>0</td>\n",
       "      <td>4</td>\n",
       "      <td>1</td>\n",
       "      <td>1</td>\n",
       "      <td>0</td>\n",
       "      <td>super-popular</td>\n",
       "      <td>1.0</td>\n",
       "    </tr>\n",
       "    <tr>\n",
       "      <th>2</th>\n",
       "      <td>Petr Cech</td>\n",
       "      <td>Arsenal</td>\n",
       "      <td>35</td>\n",
       "      <td>CB</td>\n",
       "      <td>4</td>\n",
       "      <td>7.0</td>\n",
       "      <td>2001</td>\n",
       "      <td>5.5</td>\n",
       "      <td>5.90%</td>\n",
       "      <td>134</td>\n",
       "      <td>2</td>\n",
       "      <td>Czech Republic</td>\n",
       "      <td>0</td>\n",
       "      <td>6</td>\n",
       "      <td>1</td>\n",
       "      <td>1</td>\n",
       "      <td>0</td>\n",
       "      <td>popular</td>\n",
       "      <td>1.0</td>\n",
       "    </tr>\n",
       "    <tr>\n",
       "      <th>3</th>\n",
       "      <td>Theo Walcott</td>\n",
       "      <td>Arsenal</td>\n",
       "      <td>28</td>\n",
       "      <td>GK</td>\n",
       "      <td>1</td>\n",
       "      <td>20.0</td>\n",
       "      <td>2393</td>\n",
       "      <td>7.5</td>\n",
       "      <td>1.50%</td>\n",
       "      <td>122</td>\n",
       "      <td>1</td>\n",
       "      <td>England</td>\n",
       "      <td>0</td>\n",
       "      <td>4</td>\n",
       "      <td>1</td>\n",
       "      <td>1</td>\n",
       "      <td>0</td>\n",
       "      <td>super-popular</td>\n",
       "      <td>1.0</td>\n",
       "    </tr>\n",
       "    <tr>\n",
       "      <th>4</th>\n",
       "      <td>Laurent Koscielny</td>\n",
       "      <td>Arsenal</td>\n",
       "      <td>31</td>\n",
       "      <td>CB</td>\n",
       "      <td>3</td>\n",
       "      <td>22.0</td>\n",
       "      <td>912</td>\n",
       "      <td>6.0</td>\n",
       "      <td>0.70%</td>\n",
       "      <td>121</td>\n",
       "      <td>2</td>\n",
       "      <td>France</td>\n",
       "      <td>0</td>\n",
       "      <td>4</td>\n",
       "      <td>1</td>\n",
       "      <td>1</td>\n",
       "      <td>0</td>\n",
       "      <td>popular</td>\n",
       "      <td>1.0</td>\n",
       "    </tr>\n",
       "  </tbody>\n",
       "</table>\n",
       "</div>"
      ],
      "text/plain": [
       "                name     club age  ... new_signing     popularity  MVtoFPL\n",
       "0     Alexis Sanchez  Arsenal  28  ...           0  super-popular      1.0\n",
       "1         Mesut Ozil  Arsenal  12  ...           0  super-popular      1.0\n",
       "2          Petr Cech  Arsenal  35  ...           0        popular      1.0\n",
       "3       Theo Walcott  Arsenal  28  ...           0  super-popular      1.0\n",
       "4  Laurent Koscielny  Arsenal  31  ...           0        popular      1.0\n",
       "\n",
       "[5 rows x 19 columns]"
      ]
     },
     "execution_count": 355,
     "metadata": {
      "tags": []
     },
     "output_type": "execute_result"
    }
   ],
   "source": [
    "players.head()"
   ]
  },
  {
   "cell_type": "code",
   "execution_count": 0,
   "metadata": {
    "colab": {},
    "colab_type": "code",
    "id": "yOb8uL8KCMPO"
   },
   "outputs": [],
   "source": [
    "players['MVtoFPL'] = players['market_value'] / players['fpl_value']"
   ]
  },
  {
   "cell_type": "code",
   "execution_count": 357,
   "metadata": {
    "colab": {
     "base_uri": "https://localhost:8080/",
     "height": 0
    },
    "colab_type": "code",
    "id": "RVYNiOoqCMTq",
    "outputId": "c44c625c-917d-47ce-8630-8a44143461b0"
   },
   "outputs": [
    {
     "data": {
      "text/html": [
       "<div>\n",
       "<style scoped>\n",
       "    .dataframe tbody tr th:only-of-type {\n",
       "        vertical-align: middle;\n",
       "    }\n",
       "\n",
       "    .dataframe tbody tr th {\n",
       "        vertical-align: top;\n",
       "    }\n",
       "\n",
       "    .dataframe thead th {\n",
       "        text-align: right;\n",
       "    }\n",
       "</style>\n",
       "<table border=\"1\" class=\"dataframe\">\n",
       "  <thead>\n",
       "    <tr style=\"text-align: right;\">\n",
       "      <th></th>\n",
       "      <th>name</th>\n",
       "      <th>club</th>\n",
       "      <th>age</th>\n",
       "      <th>position</th>\n",
       "      <th>position_cat</th>\n",
       "      <th>market_value</th>\n",
       "      <th>page_views</th>\n",
       "      <th>fpl_value</th>\n",
       "      <th>fpl_sel</th>\n",
       "      <th>fpl_points</th>\n",
       "      <th>region</th>\n",
       "      <th>nationality</th>\n",
       "      <th>new_foreign</th>\n",
       "      <th>age_cat</th>\n",
       "      <th>club_id</th>\n",
       "      <th>big_club</th>\n",
       "      <th>new_signing</th>\n",
       "      <th>popularity</th>\n",
       "      <th>MVtoFPL</th>\n",
       "    </tr>\n",
       "  </thead>\n",
       "  <tbody>\n",
       "    <tr>\n",
       "      <th>0</th>\n",
       "      <td>Alexis Sanchez</td>\n",
       "      <td>Arsenal</td>\n",
       "      <td>28</td>\n",
       "      <td>CM</td>\n",
       "      <td>1</td>\n",
       "      <td>65.0</td>\n",
       "      <td>4329</td>\n",
       "      <td>12.0</td>\n",
       "      <td>17.10%</td>\n",
       "      <td>264</td>\n",
       "      <td>3</td>\n",
       "      <td>Chile</td>\n",
       "      <td>0</td>\n",
       "      <td>4</td>\n",
       "      <td>1</td>\n",
       "      <td>1</td>\n",
       "      <td>0</td>\n",
       "      <td>super-popular</td>\n",
       "      <td>5.416667</td>\n",
       "    </tr>\n",
       "    <tr>\n",
       "      <th>1</th>\n",
       "      <td>Mesut Ozil</td>\n",
       "      <td>Arsenal</td>\n",
       "      <td>12</td>\n",
       "      <td>RW</td>\n",
       "      <td>1</td>\n",
       "      <td>50.0</td>\n",
       "      <td>4395</td>\n",
       "      <td>9.5</td>\n",
       "      <td>5.60%</td>\n",
       "      <td>167</td>\n",
       "      <td>2</td>\n",
       "      <td>Germany</td>\n",
       "      <td>0</td>\n",
       "      <td>4</td>\n",
       "      <td>1</td>\n",
       "      <td>1</td>\n",
       "      <td>0</td>\n",
       "      <td>super-popular</td>\n",
       "      <td>5.263158</td>\n",
       "    </tr>\n",
       "    <tr>\n",
       "      <th>2</th>\n",
       "      <td>Petr Cech</td>\n",
       "      <td>Arsenal</td>\n",
       "      <td>35</td>\n",
       "      <td>CB</td>\n",
       "      <td>4</td>\n",
       "      <td>7.0</td>\n",
       "      <td>2001</td>\n",
       "      <td>5.5</td>\n",
       "      <td>5.90%</td>\n",
       "      <td>134</td>\n",
       "      <td>2</td>\n",
       "      <td>Czech Republic</td>\n",
       "      <td>0</td>\n",
       "      <td>6</td>\n",
       "      <td>1</td>\n",
       "      <td>1</td>\n",
       "      <td>0</td>\n",
       "      <td>popular</td>\n",
       "      <td>1.272727</td>\n",
       "    </tr>\n",
       "    <tr>\n",
       "      <th>3</th>\n",
       "      <td>Theo Walcott</td>\n",
       "      <td>Arsenal</td>\n",
       "      <td>28</td>\n",
       "      <td>GK</td>\n",
       "      <td>1</td>\n",
       "      <td>20.0</td>\n",
       "      <td>2393</td>\n",
       "      <td>7.5</td>\n",
       "      <td>1.50%</td>\n",
       "      <td>122</td>\n",
       "      <td>1</td>\n",
       "      <td>England</td>\n",
       "      <td>0</td>\n",
       "      <td>4</td>\n",
       "      <td>1</td>\n",
       "      <td>1</td>\n",
       "      <td>0</td>\n",
       "      <td>super-popular</td>\n",
       "      <td>2.666667</td>\n",
       "    </tr>\n",
       "    <tr>\n",
       "      <th>4</th>\n",
       "      <td>Laurent Koscielny</td>\n",
       "      <td>Arsenal</td>\n",
       "      <td>31</td>\n",
       "      <td>CB</td>\n",
       "      <td>3</td>\n",
       "      <td>22.0</td>\n",
       "      <td>912</td>\n",
       "      <td>6.0</td>\n",
       "      <td>0.70%</td>\n",
       "      <td>121</td>\n",
       "      <td>2</td>\n",
       "      <td>France</td>\n",
       "      <td>0</td>\n",
       "      <td>4</td>\n",
       "      <td>1</td>\n",
       "      <td>1</td>\n",
       "      <td>0</td>\n",
       "      <td>popular</td>\n",
       "      <td>3.666667</td>\n",
       "    </tr>\n",
       "  </tbody>\n",
       "</table>\n",
       "</div>"
      ],
      "text/plain": [
       "                name     club age  ... new_signing     popularity   MVtoFPL\n",
       "0     Alexis Sanchez  Arsenal  28  ...           0  super-popular  5.416667\n",
       "1         Mesut Ozil  Arsenal  12  ...           0  super-popular  5.263158\n",
       "2          Petr Cech  Arsenal  35  ...           0        popular  1.272727\n",
       "3       Theo Walcott  Arsenal  28  ...           0  super-popular  2.666667\n",
       "4  Laurent Koscielny  Arsenal  31  ...           0        popular  3.666667\n",
       "\n",
       "[5 rows x 19 columns]"
      ]
     },
     "execution_count": 357,
     "metadata": {
      "tags": []
     },
     "output_type": "execute_result"
    }
   ],
   "source": [
    "players.head()"
   ]
  },
  {
   "cell_type": "code",
   "execution_count": 0,
   "metadata": {
    "colab": {},
    "colab_type": "code",
    "id": "I_eCifKaG4N4"
   },
   "outputs": [],
   "source": [
    "df_mini = players.iloc[:4, 1:5]"
   ]
  },
  {
   "cell_type": "code",
   "execution_count": 359,
   "metadata": {
    "colab": {
     "base_uri": "https://localhost:8080/",
     "height": 0
    },
    "colab_type": "code",
    "id": "kgBuTYsOHD6O",
    "outputId": "2f3c4667-2ae0-4611-cbb8-51419c8cf34c"
   },
   "outputs": [
    {
     "data": {
      "text/html": [
       "<div>\n",
       "<style scoped>\n",
       "    .dataframe tbody tr th:only-of-type {\n",
       "        vertical-align: middle;\n",
       "    }\n",
       "\n",
       "    .dataframe tbody tr th {\n",
       "        vertical-align: top;\n",
       "    }\n",
       "\n",
       "    .dataframe thead th {\n",
       "        text-align: right;\n",
       "    }\n",
       "</style>\n",
       "<table border=\"1\" class=\"dataframe\">\n",
       "  <thead>\n",
       "    <tr style=\"text-align: right;\">\n",
       "      <th></th>\n",
       "      <th>club</th>\n",
       "      <th>age</th>\n",
       "      <th>position</th>\n",
       "      <th>position_cat</th>\n",
       "    </tr>\n",
       "  </thead>\n",
       "  <tbody>\n",
       "    <tr>\n",
       "      <th>0</th>\n",
       "      <td>Arsenal</td>\n",
       "      <td>28</td>\n",
       "      <td>CM</td>\n",
       "      <td>1</td>\n",
       "    </tr>\n",
       "    <tr>\n",
       "      <th>1</th>\n",
       "      <td>Arsenal</td>\n",
       "      <td>12</td>\n",
       "      <td>RW</td>\n",
       "      <td>1</td>\n",
       "    </tr>\n",
       "    <tr>\n",
       "      <th>2</th>\n",
       "      <td>Arsenal</td>\n",
       "      <td>35</td>\n",
       "      <td>CB</td>\n",
       "      <td>4</td>\n",
       "    </tr>\n",
       "    <tr>\n",
       "      <th>3</th>\n",
       "      <td>Arsenal</td>\n",
       "      <td>28</td>\n",
       "      <td>GK</td>\n",
       "      <td>1</td>\n",
       "    </tr>\n",
       "  </tbody>\n",
       "</table>\n",
       "</div>"
      ],
      "text/plain": [
       "      club age position  position_cat\n",
       "0  Arsenal  28       CM             1\n",
       "1  Arsenal  12       RW             1\n",
       "2  Arsenal  35       CB             4\n",
       "3  Arsenal  28       GK             1"
      ]
     },
     "execution_count": 359,
     "metadata": {
      "tags": []
     },
     "output_type": "execute_result"
    }
   ],
   "source": [
    "df_mini"
   ]
  },
  {
   "cell_type": "code",
   "execution_count": 0,
   "metadata": {
    "colab": {},
    "colab_type": "code",
    "id": "nBMci9ndHFk8"
   },
   "outputs": [],
   "source": [
    "player_names = pd.Series(['Bronson', 'Bradley', 'Ronald', 'Ronny'])"
   ]
  },
  {
   "cell_type": "code",
   "execution_count": 361,
   "metadata": {
    "colab": {
     "base_uri": "https://localhost:8080/",
     "height": 0
    },
    "colab_type": "code",
    "id": "TUGg4iI_HRI0",
    "outputId": "f2653257-4a13-497c-9a2e-3538bcc1746b"
   },
   "outputs": [
    {
     "data": {
      "text/plain": [
       "0    Bronson\n",
       "1    Bradley\n",
       "2     Ronald\n",
       "3      Ronny\n",
       "dtype: object"
      ]
     },
     "execution_count": 361,
     "metadata": {
      "tags": []
     },
     "output_type": "execute_result"
    }
   ],
   "source": [
    "player_names"
   ]
  },
  {
   "cell_type": "code",
   "execution_count": 0,
   "metadata": {
    "colab": {},
    "colab_type": "code",
    "id": "XJSY50dyHSMn"
   },
   "outputs": [],
   "source": [
    "df_mini.insert(0, 'nicknames', player_names)"
   ]
  },
  {
   "cell_type": "code",
   "execution_count": 363,
   "metadata": {
    "colab": {
     "base_uri": "https://localhost:8080/",
     "height": 0
    },
    "colab_type": "code",
    "id": "8QmHXbefHWp5",
    "outputId": "6c79cb08-fe5d-4676-8086-eec1f2c14199"
   },
   "outputs": [
    {
     "data": {
      "text/html": [
       "<div>\n",
       "<style scoped>\n",
       "    .dataframe tbody tr th:only-of-type {\n",
       "        vertical-align: middle;\n",
       "    }\n",
       "\n",
       "    .dataframe tbody tr th {\n",
       "        vertical-align: top;\n",
       "    }\n",
       "\n",
       "    .dataframe thead th {\n",
       "        text-align: right;\n",
       "    }\n",
       "</style>\n",
       "<table border=\"1\" class=\"dataframe\">\n",
       "  <thead>\n",
       "    <tr style=\"text-align: right;\">\n",
       "      <th></th>\n",
       "      <th>nicknames</th>\n",
       "      <th>club</th>\n",
       "      <th>age</th>\n",
       "      <th>position</th>\n",
       "      <th>position_cat</th>\n",
       "    </tr>\n",
       "  </thead>\n",
       "  <tbody>\n",
       "    <tr>\n",
       "      <th>0</th>\n",
       "      <td>Bronson</td>\n",
       "      <td>Arsenal</td>\n",
       "      <td>28</td>\n",
       "      <td>CM</td>\n",
       "      <td>1</td>\n",
       "    </tr>\n",
       "    <tr>\n",
       "      <th>1</th>\n",
       "      <td>Bradley</td>\n",
       "      <td>Arsenal</td>\n",
       "      <td>12</td>\n",
       "      <td>RW</td>\n",
       "      <td>1</td>\n",
       "    </tr>\n",
       "    <tr>\n",
       "      <th>2</th>\n",
       "      <td>Ronald</td>\n",
       "      <td>Arsenal</td>\n",
       "      <td>35</td>\n",
       "      <td>CB</td>\n",
       "      <td>4</td>\n",
       "    </tr>\n",
       "    <tr>\n",
       "      <th>3</th>\n",
       "      <td>Ronny</td>\n",
       "      <td>Arsenal</td>\n",
       "      <td>28</td>\n",
       "      <td>GK</td>\n",
       "      <td>1</td>\n",
       "    </tr>\n",
       "  </tbody>\n",
       "</table>\n",
       "</div>"
      ],
      "text/plain": [
       "  nicknames     club age position  position_cat\n",
       "0   Bronson  Arsenal  28       CM             1\n",
       "1   Bradley  Arsenal  12       RW             1\n",
       "2    Ronald  Arsenal  35       CB             4\n",
       "3     Ronny  Arsenal  28       GK             1"
      ]
     },
     "execution_count": 363,
     "metadata": {
      "tags": []
     },
     "output_type": "execute_result"
    }
   ],
   "source": [
    "df_mini"
   ]
  },
  {
   "cell_type": "code",
   "execution_count": 0,
   "metadata": {
    "colab": {},
    "colab_type": "code",
    "id": "ZxnnHS4QHYFv"
   },
   "outputs": [],
   "source": [
    "# the assign() approach"
   ]
  },
  {
   "cell_type": "code",
   "execution_count": 365,
   "metadata": {
    "colab": {
     "base_uri": "https://localhost:8080/",
     "height": 0
    },
    "colab_type": "code",
    "id": "N93j9ABbHqcJ",
    "outputId": "18c3aa6e-a65f-4871-8180-72b5e2a38061"
   },
   "outputs": [
    {
     "data": {
      "text/html": [
       "<div>\n",
       "<style scoped>\n",
       "    .dataframe tbody tr th:only-of-type {\n",
       "        vertical-align: middle;\n",
       "    }\n",
       "\n",
       "    .dataframe tbody tr th {\n",
       "        vertical-align: top;\n",
       "    }\n",
       "\n",
       "    .dataframe thead th {\n",
       "        text-align: right;\n",
       "    }\n",
       "</style>\n",
       "<table border=\"1\" class=\"dataframe\">\n",
       "  <thead>\n",
       "    <tr style=\"text-align: right;\">\n",
       "      <th></th>\n",
       "      <th>nicknames</th>\n",
       "      <th>club</th>\n",
       "      <th>age</th>\n",
       "      <th>position</th>\n",
       "      <th>position_cat</th>\n",
       "      <th>career_goals</th>\n",
       "      <th>nationality</th>\n",
       "    </tr>\n",
       "  </thead>\n",
       "  <tbody>\n",
       "    <tr>\n",
       "      <th>0</th>\n",
       "      <td>Bronson</td>\n",
       "      <td>Arsenal</td>\n",
       "      <td>28</td>\n",
       "      <td>CM</td>\n",
       "      <td>1</td>\n",
       "      <td>12</td>\n",
       "      <td>American</td>\n",
       "    </tr>\n",
       "    <tr>\n",
       "      <th>1</th>\n",
       "      <td>Bradley</td>\n",
       "      <td>Arsenal</td>\n",
       "      <td>12</td>\n",
       "      <td>RW</td>\n",
       "      <td>1</td>\n",
       "      <td>67</td>\n",
       "      <td>British</td>\n",
       "    </tr>\n",
       "    <tr>\n",
       "      <th>2</th>\n",
       "      <td>Ronald</td>\n",
       "      <td>Arsenal</td>\n",
       "      <td>35</td>\n",
       "      <td>CB</td>\n",
       "      <td>4</td>\n",
       "      <td>179</td>\n",
       "      <td>Turkish</td>\n",
       "    </tr>\n",
       "    <tr>\n",
       "      <th>3</th>\n",
       "      <td>Ronny</td>\n",
       "      <td>Arsenal</td>\n",
       "      <td>28</td>\n",
       "      <td>GK</td>\n",
       "      <td>1</td>\n",
       "      <td>49</td>\n",
       "      <td>Indian</td>\n",
       "    </tr>\n",
       "  </tbody>\n",
       "</table>\n",
       "</div>"
      ],
      "text/plain": [
       "  nicknames     club age position  position_cat  career_goals nationality\n",
       "0   Bronson  Arsenal  28       CM             1            12    American\n",
       "1   Bradley  Arsenal  12       RW             1            67     British\n",
       "2    Ronald  Arsenal  35       CB             4           179     Turkish\n",
       "3     Ronny  Arsenal  28       GK             1            49      Indian"
      ]
     },
     "execution_count": 365,
     "metadata": {
      "tags": []
     },
     "output_type": "execute_result"
    }
   ],
   "source": [
    "df_mini.assign(career_goals=[12 ,67, 179, 49], nationality=['American', 'British', 'Turkish', 'Indian'])"
   ]
  },
  {
   "cell_type": "code",
   "execution_count": 366,
   "metadata": {
    "colab": {
     "base_uri": "https://localhost:8080/",
     "height": 0
    },
    "colab_type": "code",
    "id": "LP-sPJcOHvDV",
    "outputId": "6234c2e4-3852-47d3-9275-fe3faac87bad"
   },
   "outputs": [
    {
     "data": {
      "text/html": [
       "<div>\n",
       "<style scoped>\n",
       "    .dataframe tbody tr th:only-of-type {\n",
       "        vertical-align: middle;\n",
       "    }\n",
       "\n",
       "    .dataframe tbody tr th {\n",
       "        vertical-align: top;\n",
       "    }\n",
       "\n",
       "    .dataframe thead th {\n",
       "        text-align: right;\n",
       "    }\n",
       "</style>\n",
       "<table border=\"1\" class=\"dataframe\">\n",
       "  <thead>\n",
       "    <tr style=\"text-align: right;\">\n",
       "      <th></th>\n",
       "      <th>nicknames</th>\n",
       "      <th>club</th>\n",
       "      <th>age</th>\n",
       "      <th>position</th>\n",
       "      <th>position_cat</th>\n",
       "    </tr>\n",
       "  </thead>\n",
       "  <tbody>\n",
       "    <tr>\n",
       "      <th>0</th>\n",
       "      <td>Bronson</td>\n",
       "      <td>Arsenal</td>\n",
       "      <td>28</td>\n",
       "      <td>CM</td>\n",
       "      <td>1</td>\n",
       "    </tr>\n",
       "    <tr>\n",
       "      <th>1</th>\n",
       "      <td>Bradley</td>\n",
       "      <td>Arsenal</td>\n",
       "      <td>12</td>\n",
       "      <td>RW</td>\n",
       "      <td>1</td>\n",
       "    </tr>\n",
       "    <tr>\n",
       "      <th>2</th>\n",
       "      <td>Ronald</td>\n",
       "      <td>Arsenal</td>\n",
       "      <td>35</td>\n",
       "      <td>CB</td>\n",
       "      <td>4</td>\n",
       "    </tr>\n",
       "    <tr>\n",
       "      <th>3</th>\n",
       "      <td>Ronny</td>\n",
       "      <td>Arsenal</td>\n",
       "      <td>28</td>\n",
       "      <td>GK</td>\n",
       "      <td>1</td>\n",
       "    </tr>\n",
       "  </tbody>\n",
       "</table>\n",
       "</div>"
      ],
      "text/plain": [
       "  nicknames     club age position  position_cat\n",
       "0   Bronson  Arsenal  28       CM             1\n",
       "1   Bradley  Arsenal  12       RW             1\n",
       "2    Ronald  Arsenal  35       CB             4\n",
       "3     Ronny  Arsenal  28       GK             1"
      ]
     },
     "execution_count": 366,
     "metadata": {
      "tags": []
     },
     "output_type": "execute_result"
    }
   ],
   "source": [
    "df_mini"
   ]
  },
  {
   "cell_type": "markdown",
   "metadata": {
    "colab_type": "text",
    "id": "ZkpeiZBhH-Sk"
   },
   "source": [
    "#### Adding Rows To DataFrames"
   ]
  },
  {
   "cell_type": "code",
   "execution_count": 367,
   "metadata": {
    "colab": {
     "base_uri": "https://localhost:8080/",
     "height": 0
    },
    "colab_type": "code",
    "id": "BY0cRzJisGx_",
    "outputId": "df1fc0d9-2e18-410d-e4cf-d15be930be49"
   },
   "outputs": [
    {
     "data": {
      "text/html": [
       "<div>\n",
       "<style scoped>\n",
       "    .dataframe tbody tr th:only-of-type {\n",
       "        vertical-align: middle;\n",
       "    }\n",
       "\n",
       "    .dataframe tbody tr th {\n",
       "        vertical-align: top;\n",
       "    }\n",
       "\n",
       "    .dataframe thead th {\n",
       "        text-align: right;\n",
       "    }\n",
       "</style>\n",
       "<table border=\"1\" class=\"dataframe\">\n",
       "  <thead>\n",
       "    <tr style=\"text-align: right;\">\n",
       "      <th></th>\n",
       "      <th>nicknames</th>\n",
       "      <th>club</th>\n",
       "      <th>age</th>\n",
       "      <th>position</th>\n",
       "      <th>position_cat</th>\n",
       "    </tr>\n",
       "  </thead>\n",
       "  <tbody>\n",
       "    <tr>\n",
       "      <th>0</th>\n",
       "      <td>Bronson</td>\n",
       "      <td>Arsenal</td>\n",
       "      <td>28</td>\n",
       "      <td>CM</td>\n",
       "      <td>1</td>\n",
       "    </tr>\n",
       "    <tr>\n",
       "      <th>1</th>\n",
       "      <td>Bradley</td>\n",
       "      <td>Arsenal</td>\n",
       "      <td>12</td>\n",
       "      <td>RW</td>\n",
       "      <td>1</td>\n",
       "    </tr>\n",
       "    <tr>\n",
       "      <th>2</th>\n",
       "      <td>Ronald</td>\n",
       "      <td>Arsenal</td>\n",
       "      <td>35</td>\n",
       "      <td>CB</td>\n",
       "      <td>4</td>\n",
       "    </tr>\n",
       "    <tr>\n",
       "      <th>3</th>\n",
       "      <td>Ronny</td>\n",
       "      <td>Arsenal</td>\n",
       "      <td>28</td>\n",
       "      <td>GK</td>\n",
       "      <td>1</td>\n",
       "    </tr>\n",
       "  </tbody>\n",
       "</table>\n",
       "</div>"
      ],
      "text/plain": [
       "  nicknames     club age position  position_cat\n",
       "0   Bronson  Arsenal  28       CM             1\n",
       "1   Bradley  Arsenal  12       RW             1\n",
       "2    Ronald  Arsenal  35       CB             4\n",
       "3     Ronny  Arsenal  28       GK             1"
      ]
     },
     "execution_count": 367,
     "metadata": {
      "tags": []
     },
     "output_type": "execute_result"
    }
   ],
   "source": [
    "df_mini"
   ]
  },
  {
   "cell_type": "code",
   "execution_count": 0,
   "metadata": {
    "colab": {},
    "colab_type": "code",
    "id": "c2Qmgvkw0_8U"
   },
   "outputs": [],
   "source": [
    "# the append() method -> series, dfs, or a collection of them"
   ]
  },
  {
   "cell_type": "code",
   "execution_count": 0,
   "metadata": {
    "colab": {},
    "colab_type": "code",
    "id": "oK8hQ-_V1Pdz"
   },
   "outputs": [],
   "source": [
    "cristiano = pd.Series({\n",
    "    'nicknames': 'Cristiano',\n",
    "    'age': 32,\n",
    "    'position': 'RW',\n",
    "    'club': 'Juventus',\n",
    "    'position_cat': 1\n",
    "}, name=4)"
   ]
  },
  {
   "cell_type": "code",
   "execution_count": 370,
   "metadata": {
    "colab": {
     "base_uri": "https://localhost:8080/",
     "height": 0
    },
    "colab_type": "code",
    "id": "Wig2Soyj1bPC",
    "outputId": "93333df0-c27c-41d4-daf9-5c4c5acd9a80"
   },
   "outputs": [
    {
     "data": {
      "text/plain": [
       "nicknames       Cristiano\n",
       "age                    32\n",
       "position               RW\n",
       "club             Juventus\n",
       "position_cat            1\n",
       "Name: 4, dtype: object"
      ]
     },
     "execution_count": 370,
     "metadata": {
      "tags": []
     },
     "output_type": "execute_result"
    }
   ],
   "source": [
    "cristiano"
   ]
  },
  {
   "cell_type": "code",
   "execution_count": 0,
   "metadata": {
    "colab": {},
    "colab_type": "code",
    "id": "ai2wP4Ng1chO"
   },
   "outputs": [],
   "source": [
    "df_mini = df_mini.append(cristiano)"
   ]
  },
  {
   "cell_type": "code",
   "execution_count": 0,
   "metadata": {
    "colab": {},
    "colab_type": "code",
    "id": "BT13fVRX1gLK"
   },
   "outputs": [],
   "source": [
    "# df_mini.append([player_1, player_2, player_3...])"
   ]
  },
  {
   "cell_type": "code",
   "execution_count": 0,
   "metadata": {
    "colab": {},
    "colab_type": "code",
    "id": "ZtjZxQDU1v0X"
   },
   "outputs": [],
   "source": [
    "other_players = pd.DataFrame({\n",
    "    'nicknames': ['Gianluigi', 'Lionel'],\n",
    "    'age': [37, 32],\n",
    "    'club': ['Juventus', 'Barcelona'],\n",
    "    'position': ['GK', 'CF'],\n",
    "    'position_cat': [4,2]\n",
    "}, index=[5,6])"
   ]
  },
  {
   "cell_type": "code",
   "execution_count": 374,
   "metadata": {
    "colab": {
     "base_uri": "https://localhost:8080/",
     "height": 0
    },
    "colab_type": "code",
    "id": "TKGlbXtF2GHV",
    "outputId": "6968e8d6-ae78-42c2-d347-b606e459b94c"
   },
   "outputs": [
    {
     "data": {
      "text/html": [
       "<div>\n",
       "<style scoped>\n",
       "    .dataframe tbody tr th:only-of-type {\n",
       "        vertical-align: middle;\n",
       "    }\n",
       "\n",
       "    .dataframe tbody tr th {\n",
       "        vertical-align: top;\n",
       "    }\n",
       "\n",
       "    .dataframe thead th {\n",
       "        text-align: right;\n",
       "    }\n",
       "</style>\n",
       "<table border=\"1\" class=\"dataframe\">\n",
       "  <thead>\n",
       "    <tr style=\"text-align: right;\">\n",
       "      <th></th>\n",
       "      <th>nicknames</th>\n",
       "      <th>age</th>\n",
       "      <th>club</th>\n",
       "      <th>position</th>\n",
       "      <th>position_cat</th>\n",
       "    </tr>\n",
       "  </thead>\n",
       "  <tbody>\n",
       "    <tr>\n",
       "      <th>5</th>\n",
       "      <td>Gianluigi</td>\n",
       "      <td>37</td>\n",
       "      <td>Juventus</td>\n",
       "      <td>GK</td>\n",
       "      <td>4</td>\n",
       "    </tr>\n",
       "    <tr>\n",
       "      <th>6</th>\n",
       "      <td>Lionel</td>\n",
       "      <td>32</td>\n",
       "      <td>Barcelona</td>\n",
       "      <td>CF</td>\n",
       "      <td>2</td>\n",
       "    </tr>\n",
       "  </tbody>\n",
       "</table>\n",
       "</div>"
      ],
      "text/plain": [
       "   nicknames  age       club position  position_cat\n",
       "5  Gianluigi   37   Juventus       GK             4\n",
       "6     Lionel   32  Barcelona       CF             2"
      ]
     },
     "execution_count": 374,
     "metadata": {
      "tags": []
     },
     "output_type": "execute_result"
    }
   ],
   "source": [
    "other_players"
   ]
  },
  {
   "cell_type": "code",
   "execution_count": 0,
   "metadata": {
    "colab": {},
    "colab_type": "code",
    "id": "stZWFvh_2Hm6"
   },
   "outputs": [],
   "source": [
    "df_mini = df_mini.append(other_players)"
   ]
  },
  {
   "cell_type": "code",
   "execution_count": 0,
   "metadata": {
    "colab": {},
    "colab_type": "code",
    "id": "539YDWTC2MDj"
   },
   "outputs": [],
   "source": [
    "# setting with enlargement"
   ]
  },
  {
   "cell_type": "code",
   "execution_count": 0,
   "metadata": {
    "colab": {},
    "colab_type": "code",
    "id": "SMpo1jDy2XPK"
   },
   "outputs": [],
   "source": [
    "# df['inexistent label'] = 'some value'"
   ]
  },
  {
   "cell_type": "code",
   "execution_count": 378,
   "metadata": {
    "colab": {
     "base_uri": "https://localhost:8080/",
     "height": 0
    },
    "colab_type": "code",
    "id": "W-NS5mGJ2ZtZ",
    "outputId": "9dba4f53-e71e-4687-9b44-6dab3011f6b0"
   },
   "outputs": [
    {
     "data": {
      "text/html": [
       "<div>\n",
       "<style scoped>\n",
       "    .dataframe tbody tr th:only-of-type {\n",
       "        vertical-align: middle;\n",
       "    }\n",
       "\n",
       "    .dataframe tbody tr th {\n",
       "        vertical-align: top;\n",
       "    }\n",
       "\n",
       "    .dataframe thead th {\n",
       "        text-align: right;\n",
       "    }\n",
       "</style>\n",
       "<table border=\"1\" class=\"dataframe\">\n",
       "  <thead>\n",
       "    <tr style=\"text-align: right;\">\n",
       "      <th></th>\n",
       "      <th>nicknames</th>\n",
       "      <th>club</th>\n",
       "      <th>age</th>\n",
       "      <th>position</th>\n",
       "      <th>position_cat</th>\n",
       "    </tr>\n",
       "  </thead>\n",
       "  <tbody>\n",
       "    <tr>\n",
       "      <th>0</th>\n",
       "      <td>Bronson</td>\n",
       "      <td>Arsenal</td>\n",
       "      <td>28</td>\n",
       "      <td>CM</td>\n",
       "      <td>1</td>\n",
       "    </tr>\n",
       "    <tr>\n",
       "      <th>1</th>\n",
       "      <td>Bradley</td>\n",
       "      <td>Arsenal</td>\n",
       "      <td>12</td>\n",
       "      <td>RW</td>\n",
       "      <td>1</td>\n",
       "    </tr>\n",
       "    <tr>\n",
       "      <th>2</th>\n",
       "      <td>Ronald</td>\n",
       "      <td>Arsenal</td>\n",
       "      <td>35</td>\n",
       "      <td>CB</td>\n",
       "      <td>4</td>\n",
       "    </tr>\n",
       "    <tr>\n",
       "      <th>3</th>\n",
       "      <td>Ronny</td>\n",
       "      <td>Arsenal</td>\n",
       "      <td>28</td>\n",
       "      <td>GK</td>\n",
       "      <td>1</td>\n",
       "    </tr>\n",
       "    <tr>\n",
       "      <th>4</th>\n",
       "      <td>Cristiano</td>\n",
       "      <td>Juventus</td>\n",
       "      <td>32</td>\n",
       "      <td>RW</td>\n",
       "      <td>1</td>\n",
       "    </tr>\n",
       "    <tr>\n",
       "      <th>5</th>\n",
       "      <td>Gianluigi</td>\n",
       "      <td>Juventus</td>\n",
       "      <td>37</td>\n",
       "      <td>GK</td>\n",
       "      <td>4</td>\n",
       "    </tr>\n",
       "    <tr>\n",
       "      <th>6</th>\n",
       "      <td>Lionel</td>\n",
       "      <td>Barcelona</td>\n",
       "      <td>32</td>\n",
       "      <td>CF</td>\n",
       "      <td>2</td>\n",
       "    </tr>\n",
       "  </tbody>\n",
       "</table>\n",
       "</div>"
      ],
      "text/plain": [
       "   nicknames       club age position  position_cat\n",
       "0    Bronson    Arsenal  28       CM             1\n",
       "1    Bradley    Arsenal  12       RW             1\n",
       "2     Ronald    Arsenal  35       CB             4\n",
       "3      Ronny    Arsenal  28       GK             1\n",
       "4  Cristiano   Juventus  32       RW             1\n",
       "5  Gianluigi   Juventus  37       GK             4\n",
       "6     Lionel  Barcelona  32       CF             2"
      ]
     },
     "execution_count": 378,
     "metadata": {
      "tags": []
     },
     "output_type": "execute_result"
    }
   ],
   "source": [
    "df_mini"
   ]
  },
  {
   "cell_type": "code",
   "execution_count": 0,
   "metadata": {
    "colab": {},
    "colab_type": "code",
    "id": "8rPFVGsS2e9R"
   },
   "outputs": [],
   "source": [
    "df_mini.loc[9] = 'some row value'"
   ]
  },
  {
   "cell_type": "code",
   "execution_count": 380,
   "metadata": {
    "colab": {
     "base_uri": "https://localhost:8080/",
     "height": 0
    },
    "colab_type": "code",
    "id": "vGy8pa3d2wFO",
    "outputId": "8334c463-edf6-49e6-c215-307f288b713d"
   },
   "outputs": [
    {
     "data": {
      "text/html": [
       "<div>\n",
       "<style scoped>\n",
       "    .dataframe tbody tr th:only-of-type {\n",
       "        vertical-align: middle;\n",
       "    }\n",
       "\n",
       "    .dataframe tbody tr th {\n",
       "        vertical-align: top;\n",
       "    }\n",
       "\n",
       "    .dataframe thead th {\n",
       "        text-align: right;\n",
       "    }\n",
       "</style>\n",
       "<table border=\"1\" class=\"dataframe\">\n",
       "  <thead>\n",
       "    <tr style=\"text-align: right;\">\n",
       "      <th></th>\n",
       "      <th>nicknames</th>\n",
       "      <th>club</th>\n",
       "      <th>age</th>\n",
       "      <th>position</th>\n",
       "      <th>position_cat</th>\n",
       "    </tr>\n",
       "  </thead>\n",
       "  <tbody>\n",
       "    <tr>\n",
       "      <th>0</th>\n",
       "      <td>Bronson</td>\n",
       "      <td>Arsenal</td>\n",
       "      <td>28</td>\n",
       "      <td>CM</td>\n",
       "      <td>1</td>\n",
       "    </tr>\n",
       "    <tr>\n",
       "      <th>1</th>\n",
       "      <td>Bradley</td>\n",
       "      <td>Arsenal</td>\n",
       "      <td>12</td>\n",
       "      <td>RW</td>\n",
       "      <td>1</td>\n",
       "    </tr>\n",
       "    <tr>\n",
       "      <th>2</th>\n",
       "      <td>Ronald</td>\n",
       "      <td>Arsenal</td>\n",
       "      <td>35</td>\n",
       "      <td>CB</td>\n",
       "      <td>4</td>\n",
       "    </tr>\n",
       "    <tr>\n",
       "      <th>3</th>\n",
       "      <td>Ronny</td>\n",
       "      <td>Arsenal</td>\n",
       "      <td>28</td>\n",
       "      <td>GK</td>\n",
       "      <td>1</td>\n",
       "    </tr>\n",
       "    <tr>\n",
       "      <th>4</th>\n",
       "      <td>Cristiano</td>\n",
       "      <td>Juventus</td>\n",
       "      <td>32</td>\n",
       "      <td>RW</td>\n",
       "      <td>1</td>\n",
       "    </tr>\n",
       "    <tr>\n",
       "      <th>5</th>\n",
       "      <td>Gianluigi</td>\n",
       "      <td>Juventus</td>\n",
       "      <td>37</td>\n",
       "      <td>GK</td>\n",
       "      <td>4</td>\n",
       "    </tr>\n",
       "    <tr>\n",
       "      <th>6</th>\n",
       "      <td>Lionel</td>\n",
       "      <td>Barcelona</td>\n",
       "      <td>32</td>\n",
       "      <td>CF</td>\n",
       "      <td>2</td>\n",
       "    </tr>\n",
       "    <tr>\n",
       "      <th>9</th>\n",
       "      <td>some row value</td>\n",
       "      <td>some row value</td>\n",
       "      <td>some row value</td>\n",
       "      <td>some row value</td>\n",
       "      <td>some row value</td>\n",
       "    </tr>\n",
       "  </tbody>\n",
       "</table>\n",
       "</div>"
      ],
      "text/plain": [
       "        nicknames            club  ...        position    position_cat\n",
       "0         Bronson         Arsenal  ...              CM               1\n",
       "1         Bradley         Arsenal  ...              RW               1\n",
       "2          Ronald         Arsenal  ...              CB               4\n",
       "3           Ronny         Arsenal  ...              GK               1\n",
       "4       Cristiano        Juventus  ...              RW               1\n",
       "5       Gianluigi        Juventus  ...              GK               4\n",
       "6          Lionel       Barcelona  ...              CF               2\n",
       "9  some row value  some row value  ...  some row value  some row value\n",
       "\n",
       "[8 rows x 5 columns]"
      ]
     },
     "execution_count": 380,
     "metadata": {
      "tags": []
     },
     "output_type": "execute_result"
    }
   ],
   "source": [
    "df_mini"
   ]
  },
  {
   "cell_type": "code",
   "execution_count": 0,
   "metadata": {
    "colab": {},
    "colab_type": "code",
    "id": "TBE8l8GM217V"
   },
   "outputs": [],
   "source": [
    "# adding rows to dataframes is inefficient (a very expensive operation)"
   ]
  },
  {
   "cell_type": "markdown",
   "metadata": {
    "colab_type": "text",
    "id": "vpETibo_3PL9"
   },
   "source": [
    "#### BONUS - How Are DataFrames Stored In Memory"
   ]
  },
  {
   "cell_type": "code",
   "execution_count": 382,
   "metadata": {
    "colab": {
     "base_uri": "https://localhost:8080/",
     "height": 0
    },
    "colab_type": "code",
    "id": "tkflyaVm4P-9",
    "outputId": "b562d3b0-bd89-4d56-a56a-9d69a6550fd9"
   },
   "outputs": [
    {
     "name": "stdout",
     "output_type": "stream",
     "text": [
      "<class 'pandas.core.frame.DataFrame'>\n",
      "RangeIndex: 465 entries, 0 to 464\n",
      "Columns: 19 entries, name to MVtoFPL\n",
      "dtypes: float64(3), int64(9), object(7)\n",
      "memory usage: 69.1+ KB\n"
     ]
    }
   ],
   "source": [
    "players.info(verbose=False)"
   ]
  },
  {
   "cell_type": "code",
   "execution_count": 383,
   "metadata": {
    "colab": {
     "base_uri": "https://localhost:8080/",
     "height": 0
    },
    "colab_type": "code",
    "id": "-eQDkxgl4kPb",
    "outputId": "147f7fec-bd7a-47c4-a81f-a93681081f8d"
   },
   "outputs": [
    {
     "data": {
      "text/html": [
       "<div>\n",
       "<style scoped>\n",
       "    .dataframe tbody tr th:only-of-type {\n",
       "        vertical-align: middle;\n",
       "    }\n",
       "\n",
       "    .dataframe tbody tr th {\n",
       "        vertical-align: top;\n",
       "    }\n",
       "\n",
       "    .dataframe thead th {\n",
       "        text-align: right;\n",
       "    }\n",
       "</style>\n",
       "<table border=\"1\" class=\"dataframe\">\n",
       "  <thead>\n",
       "    <tr style=\"text-align: right;\">\n",
       "      <th></th>\n",
       "      <th>name</th>\n",
       "      <th>club</th>\n",
       "      <th>age</th>\n",
       "      <th>position</th>\n",
       "      <th>position_cat</th>\n",
       "      <th>market_value</th>\n",
       "      <th>page_views</th>\n",
       "      <th>fpl_value</th>\n",
       "      <th>fpl_sel</th>\n",
       "      <th>fpl_points</th>\n",
       "      <th>region</th>\n",
       "      <th>nationality</th>\n",
       "      <th>new_foreign</th>\n",
       "      <th>age_cat</th>\n",
       "      <th>club_id</th>\n",
       "      <th>big_club</th>\n",
       "      <th>new_signing</th>\n",
       "      <th>popularity</th>\n",
       "      <th>MVtoFPL</th>\n",
       "    </tr>\n",
       "  </thead>\n",
       "  <tbody>\n",
       "    <tr>\n",
       "      <th>0</th>\n",
       "      <td>Alexis Sanchez</td>\n",
       "      <td>Arsenal</td>\n",
       "      <td>28</td>\n",
       "      <td>CM</td>\n",
       "      <td>1</td>\n",
       "      <td>65.0</td>\n",
       "      <td>4329</td>\n",
       "      <td>12.0</td>\n",
       "      <td>17.10%</td>\n",
       "      <td>264</td>\n",
       "      <td>3</td>\n",
       "      <td>Chile</td>\n",
       "      <td>0</td>\n",
       "      <td>4</td>\n",
       "      <td>1</td>\n",
       "      <td>1</td>\n",
       "      <td>0</td>\n",
       "      <td>super-popular</td>\n",
       "      <td>5.416667</td>\n",
       "    </tr>\n",
       "    <tr>\n",
       "      <th>1</th>\n",
       "      <td>Mesut Ozil</td>\n",
       "      <td>Arsenal</td>\n",
       "      <td>12</td>\n",
       "      <td>RW</td>\n",
       "      <td>1</td>\n",
       "      <td>50.0</td>\n",
       "      <td>4395</td>\n",
       "      <td>9.5</td>\n",
       "      <td>5.60%</td>\n",
       "      <td>167</td>\n",
       "      <td>2</td>\n",
       "      <td>Germany</td>\n",
       "      <td>0</td>\n",
       "      <td>4</td>\n",
       "      <td>1</td>\n",
       "      <td>1</td>\n",
       "      <td>0</td>\n",
       "      <td>super-popular</td>\n",
       "      <td>5.263158</td>\n",
       "    </tr>\n",
       "    <tr>\n",
       "      <th>2</th>\n",
       "      <td>Petr Cech</td>\n",
       "      <td>Arsenal</td>\n",
       "      <td>35</td>\n",
       "      <td>CB</td>\n",
       "      <td>4</td>\n",
       "      <td>7.0</td>\n",
       "      <td>2001</td>\n",
       "      <td>5.5</td>\n",
       "      <td>5.90%</td>\n",
       "      <td>134</td>\n",
       "      <td>2</td>\n",
       "      <td>Czech Republic</td>\n",
       "      <td>0</td>\n",
       "      <td>6</td>\n",
       "      <td>1</td>\n",
       "      <td>1</td>\n",
       "      <td>0</td>\n",
       "      <td>popular</td>\n",
       "      <td>1.272727</td>\n",
       "    </tr>\n",
       "    <tr>\n",
       "      <th>3</th>\n",
       "      <td>Theo Walcott</td>\n",
       "      <td>Arsenal</td>\n",
       "      <td>28</td>\n",
       "      <td>GK</td>\n",
       "      <td>1</td>\n",
       "      <td>20.0</td>\n",
       "      <td>2393</td>\n",
       "      <td>7.5</td>\n",
       "      <td>1.50%</td>\n",
       "      <td>122</td>\n",
       "      <td>1</td>\n",
       "      <td>England</td>\n",
       "      <td>0</td>\n",
       "      <td>4</td>\n",
       "      <td>1</td>\n",
       "      <td>1</td>\n",
       "      <td>0</td>\n",
       "      <td>super-popular</td>\n",
       "      <td>2.666667</td>\n",
       "    </tr>\n",
       "    <tr>\n",
       "      <th>4</th>\n",
       "      <td>Laurent Koscielny</td>\n",
       "      <td>Arsenal</td>\n",
       "      <td>31</td>\n",
       "      <td>CB</td>\n",
       "      <td>3</td>\n",
       "      <td>22.0</td>\n",
       "      <td>912</td>\n",
       "      <td>6.0</td>\n",
       "      <td>0.70%</td>\n",
       "      <td>121</td>\n",
       "      <td>2</td>\n",
       "      <td>France</td>\n",
       "      <td>0</td>\n",
       "      <td>4</td>\n",
       "      <td>1</td>\n",
       "      <td>1</td>\n",
       "      <td>0</td>\n",
       "      <td>popular</td>\n",
       "      <td>3.666667</td>\n",
       "    </tr>\n",
       "  </tbody>\n",
       "</table>\n",
       "</div>"
      ],
      "text/plain": [
       "                name     club age  ... new_signing     popularity   MVtoFPL\n",
       "0     Alexis Sanchez  Arsenal  28  ...           0  super-popular  5.416667\n",
       "1         Mesut Ozil  Arsenal  12  ...           0  super-popular  5.263158\n",
       "2          Petr Cech  Arsenal  35  ...           0        popular  1.272727\n",
       "3       Theo Walcott  Arsenal  28  ...           0  super-popular  2.666667\n",
       "4  Laurent Koscielny  Arsenal  31  ...           0        popular  3.666667\n",
       "\n",
       "[5 rows x 19 columns]"
      ]
     },
     "execution_count": 383,
     "metadata": {
      "tags": []
     },
     "output_type": "execute_result"
    }
   ],
   "source": [
    "players.head()"
   ]
  },
  {
   "cell_type": "markdown",
   "metadata": {
    "colab_type": "text",
    "id": "hdq1pv1C-V37"
   },
   "source": [
    "#### Skill Challenge"
   ]
  },
  {
   "cell_type": "markdown",
   "metadata": {
    "colab_type": "text",
    "id": "-IHFMkZoCIKQ"
   },
   "source": [
    "###### **1.**"
   ]
  },
  {
   "cell_type": "markdown",
   "metadata": {
    "colab_type": "text",
    "id": "wLCUECLPCIYU"
   },
   "source": [
    "From the _players_ dataframe select 4 columns and 4 rows, of no particular order. Assign the resulting 4x4 dataframe to _df_random_."
   ]
  },
  {
   "cell_type": "markdown",
   "metadata": {
    "colab_type": "text",
    "id": "fCLTW8DYCsA3"
   },
   "source": [
    "###### **2**."
   ]
  },
  {
   "cell_type": "markdown",
   "metadata": {
    "colab_type": "text",
    "id": "DMVNDAquCtFc"
   },
   "source": [
    "Extend _df_random_ **1**) vertically by adding a new row, and **2**) horizontally by adding a new column. Do this as two separate operations."
   ]
  },
  {
   "cell_type": "markdown",
   "metadata": {
    "colab_type": "text",
    "id": "2zy50yneDPEg"
   },
   "source": [
    "###### **3.**"
   ]
  },
  {
   "cell_type": "markdown",
   "metadata": {
    "colab_type": "text",
    "id": "IlxlB4YdDRLj"
   },
   "source": [
    "Compare the relative performance of the operations above. Is adding a row or column faster? Is there a significant difference?"
   ]
  },
  {
   "cell_type": "markdown",
   "metadata": {
    "colab_type": "text",
    "id": "GYvUBtgdCtIr"
   },
   "source": [
    "#### Solution"
   ]
  },
  {
   "cell_type": "code",
   "execution_count": 0,
   "metadata": {
    "colab": {},
    "colab_type": "code",
    "id": "kzeDCkDuEfJQ"
   },
   "outputs": [],
   "source": [
    "# 1"
   ]
  },
  {
   "cell_type": "code",
   "execution_count": 388,
   "metadata": {
    "colab": {
     "base_uri": "https://localhost:8080/",
     "height": 313
    },
    "colab_type": "code",
    "id": "qjrQbjZdIUKZ",
    "outputId": "3d2ebc3f-d7a9-47ce-d825-c2e813ff65e7"
   },
   "outputs": [
    {
     "data": {
      "text/html": [
       "<div>\n",
       "<style scoped>\n",
       "    .dataframe tbody tr th:only-of-type {\n",
       "        vertical-align: middle;\n",
       "    }\n",
       "\n",
       "    .dataframe tbody tr th {\n",
       "        vertical-align: top;\n",
       "    }\n",
       "\n",
       "    .dataframe thead th {\n",
       "        text-align: right;\n",
       "    }\n",
       "</style>\n",
       "<table border=\"1\" class=\"dataframe\">\n",
       "  <thead>\n",
       "    <tr style=\"text-align: right;\">\n",
       "      <th></th>\n",
       "      <th>name</th>\n",
       "      <th>club</th>\n",
       "      <th>age</th>\n",
       "      <th>position</th>\n",
       "      <th>position_cat</th>\n",
       "      <th>market_value</th>\n",
       "      <th>page_views</th>\n",
       "      <th>fpl_value</th>\n",
       "      <th>fpl_sel</th>\n",
       "      <th>fpl_points</th>\n",
       "      <th>region</th>\n",
       "      <th>nationality</th>\n",
       "      <th>new_foreign</th>\n",
       "      <th>age_cat</th>\n",
       "      <th>club_id</th>\n",
       "      <th>big_club</th>\n",
       "      <th>new_signing</th>\n",
       "      <th>popularity</th>\n",
       "      <th>MVtoFPL</th>\n",
       "    </tr>\n",
       "  </thead>\n",
       "  <tbody>\n",
       "    <tr>\n",
       "      <th>0</th>\n",
       "      <td>Alexis Sanchez</td>\n",
       "      <td>Arsenal</td>\n",
       "      <td>28</td>\n",
       "      <td>CM</td>\n",
       "      <td>1</td>\n",
       "      <td>65.0</td>\n",
       "      <td>4329</td>\n",
       "      <td>12.0</td>\n",
       "      <td>17.10%</td>\n",
       "      <td>264</td>\n",
       "      <td>3</td>\n",
       "      <td>Chile</td>\n",
       "      <td>0</td>\n",
       "      <td>4</td>\n",
       "      <td>1</td>\n",
       "      <td>1</td>\n",
       "      <td>0</td>\n",
       "      <td>super-popular</td>\n",
       "      <td>5.416667</td>\n",
       "    </tr>\n",
       "    <tr>\n",
       "      <th>1</th>\n",
       "      <td>Mesut Ozil</td>\n",
       "      <td>Arsenal</td>\n",
       "      <td>12</td>\n",
       "      <td>RW</td>\n",
       "      <td>1</td>\n",
       "      <td>50.0</td>\n",
       "      <td>4395</td>\n",
       "      <td>9.5</td>\n",
       "      <td>5.60%</td>\n",
       "      <td>167</td>\n",
       "      <td>2</td>\n",
       "      <td>Germany</td>\n",
       "      <td>0</td>\n",
       "      <td>4</td>\n",
       "      <td>1</td>\n",
       "      <td>1</td>\n",
       "      <td>0</td>\n",
       "      <td>super-popular</td>\n",
       "      <td>5.263158</td>\n",
       "    </tr>\n",
       "    <tr>\n",
       "      <th>2</th>\n",
       "      <td>Petr Cech</td>\n",
       "      <td>Arsenal</td>\n",
       "      <td>35</td>\n",
       "      <td>CB</td>\n",
       "      <td>4</td>\n",
       "      <td>7.0</td>\n",
       "      <td>2001</td>\n",
       "      <td>5.5</td>\n",
       "      <td>5.90%</td>\n",
       "      <td>134</td>\n",
       "      <td>2</td>\n",
       "      <td>Czech Republic</td>\n",
       "      <td>0</td>\n",
       "      <td>6</td>\n",
       "      <td>1</td>\n",
       "      <td>1</td>\n",
       "      <td>0</td>\n",
       "      <td>popular</td>\n",
       "      <td>1.272727</td>\n",
       "    </tr>\n",
       "    <tr>\n",
       "      <th>3</th>\n",
       "      <td>Theo Walcott</td>\n",
       "      <td>Arsenal</td>\n",
       "      <td>28</td>\n",
       "      <td>GK</td>\n",
       "      <td>1</td>\n",
       "      <td>20.0</td>\n",
       "      <td>2393</td>\n",
       "      <td>7.5</td>\n",
       "      <td>1.50%</td>\n",
       "      <td>122</td>\n",
       "      <td>1</td>\n",
       "      <td>England</td>\n",
       "      <td>0</td>\n",
       "      <td>4</td>\n",
       "      <td>1</td>\n",
       "      <td>1</td>\n",
       "      <td>0</td>\n",
       "      <td>super-popular</td>\n",
       "      <td>2.666667</td>\n",
       "    </tr>\n",
       "    <tr>\n",
       "      <th>4</th>\n",
       "      <td>Laurent Koscielny</td>\n",
       "      <td>Arsenal</td>\n",
       "      <td>31</td>\n",
       "      <td>CB</td>\n",
       "      <td>3</td>\n",
       "      <td>22.0</td>\n",
       "      <td>912</td>\n",
       "      <td>6.0</td>\n",
       "      <td>0.70%</td>\n",
       "      <td>121</td>\n",
       "      <td>2</td>\n",
       "      <td>France</td>\n",
       "      <td>0</td>\n",
       "      <td>4</td>\n",
       "      <td>1</td>\n",
       "      <td>1</td>\n",
       "      <td>0</td>\n",
       "      <td>popular</td>\n",
       "      <td>3.666667</td>\n",
       "    </tr>\n",
       "  </tbody>\n",
       "</table>\n",
       "</div>"
      ],
      "text/plain": [
       "                name     club age  ... new_signing     popularity   MVtoFPL\n",
       "0     Alexis Sanchez  Arsenal  28  ...           0  super-popular  5.416667\n",
       "1         Mesut Ozil  Arsenal  12  ...           0  super-popular  5.263158\n",
       "2          Petr Cech  Arsenal  35  ...           0        popular  1.272727\n",
       "3       Theo Walcott  Arsenal  28  ...           0  super-popular  2.666667\n",
       "4  Laurent Koscielny  Arsenal  31  ...           0        popular  3.666667\n",
       "\n",
       "[5 rows x 19 columns]"
      ]
     },
     "execution_count": 388,
     "metadata": {
      "tags": []
     },
     "output_type": "execute_result"
    }
   ],
   "source": [
    "players.head()"
   ]
  },
  {
   "cell_type": "code",
   "execution_count": 389,
   "metadata": {
    "colab": {
     "base_uri": "https://localhost:8080/",
     "height": 175
    },
    "colab_type": "code",
    "id": "25vDIDq_Ifug",
    "outputId": "75ac95bb-060a-4f08-c12d-f8b69a398382"
   },
   "outputs": [
    {
     "data": {
      "text/html": [
       "<div>\n",
       "<style scoped>\n",
       "    .dataframe tbody tr th:only-of-type {\n",
       "        vertical-align: middle;\n",
       "    }\n",
       "\n",
       "    .dataframe tbody tr th {\n",
       "        vertical-align: top;\n",
       "    }\n",
       "\n",
       "    .dataframe thead th {\n",
       "        text-align: right;\n",
       "    }\n",
       "</style>\n",
       "<table border=\"1\" class=\"dataframe\">\n",
       "  <thead>\n",
       "    <tr style=\"text-align: right;\">\n",
       "      <th></th>\n",
       "      <th>name</th>\n",
       "      <th>club</th>\n",
       "      <th>age</th>\n",
       "      <th>position</th>\n",
       "    </tr>\n",
       "  </thead>\n",
       "  <tbody>\n",
       "    <tr>\n",
       "      <th>0</th>\n",
       "      <td>Alexis Sanchez</td>\n",
       "      <td>Arsenal</td>\n",
       "      <td>28</td>\n",
       "      <td>CM</td>\n",
       "    </tr>\n",
       "    <tr>\n",
       "      <th>1</th>\n",
       "      <td>Mesut Ozil</td>\n",
       "      <td>Arsenal</td>\n",
       "      <td>12</td>\n",
       "      <td>RW</td>\n",
       "    </tr>\n",
       "    <tr>\n",
       "      <th>2</th>\n",
       "      <td>Petr Cech</td>\n",
       "      <td>Arsenal</td>\n",
       "      <td>35</td>\n",
       "      <td>CB</td>\n",
       "    </tr>\n",
       "    <tr>\n",
       "      <th>3</th>\n",
       "      <td>Theo Walcott</td>\n",
       "      <td>Arsenal</td>\n",
       "      <td>28</td>\n",
       "      <td>GK</td>\n",
       "    </tr>\n",
       "  </tbody>\n",
       "</table>\n",
       "</div>"
      ],
      "text/plain": [
       "             name     club age position\n",
       "0  Alexis Sanchez  Arsenal  28       CM\n",
       "1      Mesut Ozil  Arsenal  12       RW\n",
       "2       Petr Cech  Arsenal  35       CB\n",
       "3    Theo Walcott  Arsenal  28       GK"
      ]
     },
     "execution_count": 389,
     "metadata": {
      "tags": []
     },
     "output_type": "execute_result"
    }
   ],
   "source": [
    "players.loc[0:3, 'name':'position']"
   ]
  },
  {
   "cell_type": "code",
   "execution_count": 0,
   "metadata": {
    "colab": {},
    "colab_type": "code",
    "id": "Id6r8xApIjxa"
   },
   "outputs": [],
   "source": [
    "df_random = players.sample(4).sample(4, axis=1)"
   ]
  },
  {
   "cell_type": "code",
   "execution_count": 394,
   "metadata": {
    "colab": {
     "base_uri": "https://localhost:8080/",
     "height": 175
    },
    "colab_type": "code",
    "id": "7Sq0aAD-IpB3",
    "outputId": "a93b5c33-4ced-41dc-b219-84f3cd42d7d7"
   },
   "outputs": [
    {
     "data": {
      "text/html": [
       "<div>\n",
       "<style scoped>\n",
       "    .dataframe tbody tr th:only-of-type {\n",
       "        vertical-align: middle;\n",
       "    }\n",
       "\n",
       "    .dataframe tbody tr th {\n",
       "        vertical-align: top;\n",
       "    }\n",
       "\n",
       "    .dataframe thead th {\n",
       "        text-align: right;\n",
       "    }\n",
       "</style>\n",
       "<table border=\"1\" class=\"dataframe\">\n",
       "  <thead>\n",
       "    <tr style=\"text-align: right;\">\n",
       "      <th></th>\n",
       "      <th>nationality</th>\n",
       "      <th>age</th>\n",
       "      <th>position</th>\n",
       "      <th>club_id</th>\n",
       "    </tr>\n",
       "  </thead>\n",
       "  <tbody>\n",
       "    <tr>\n",
       "      <th>288</th>\n",
       "      <td>Sweden</td>\n",
       "      <td>23</td>\n",
       "      <td>CB</td>\n",
       "      <td>12</td>\n",
       "    </tr>\n",
       "    <tr>\n",
       "      <th>35</th>\n",
       "      <td>Poland</td>\n",
       "      <td>37</td>\n",
       "      <td>GK</td>\n",
       "      <td>2</td>\n",
       "    </tr>\n",
       "    <tr>\n",
       "      <th>451</th>\n",
       "      <td>Ireland</td>\n",
       "      <td>30</td>\n",
       "      <td>GK</td>\n",
       "      <td>20</td>\n",
       "    </tr>\n",
       "    <tr>\n",
       "      <th>304</th>\n",
       "      <td>Netherlands</td>\n",
       "      <td>28</td>\n",
       "      <td>AM</td>\n",
       "      <td>13</td>\n",
       "    </tr>\n",
       "  </tbody>\n",
       "</table>\n",
       "</div>"
      ],
      "text/plain": [
       "     nationality age position  club_id\n",
       "288       Sweden  23       CB       12\n",
       "35        Poland  37       GK        2\n",
       "451      Ireland  30       GK       20\n",
       "304  Netherlands  28       AM       13"
      ]
     },
     "execution_count": 394,
     "metadata": {
      "tags": []
     },
     "output_type": "execute_result"
    }
   ],
   "source": [
    "df_random"
   ]
  },
  {
   "cell_type": "code",
   "execution_count": 0,
   "metadata": {
    "colab": {},
    "colab_type": "code",
    "id": "V7rd6QGkIwFB"
   },
   "outputs": [],
   "source": [
    "# 2"
   ]
  },
  {
   "cell_type": "code",
   "execution_count": 397,
   "metadata": {
    "colab": {
     "base_uri": "https://localhost:8080/",
     "height": 175
    },
    "colab_type": "code",
    "id": "H1DIdn4mI6NJ",
    "outputId": "1ee3235b-5186-45db-f6a0-3bc21e24a255"
   },
   "outputs": [
    {
     "data": {
      "text/html": [
       "<div>\n",
       "<style scoped>\n",
       "    .dataframe tbody tr th:only-of-type {\n",
       "        vertical-align: middle;\n",
       "    }\n",
       "\n",
       "    .dataframe tbody tr th {\n",
       "        vertical-align: top;\n",
       "    }\n",
       "\n",
       "    .dataframe thead th {\n",
       "        text-align: right;\n",
       "    }\n",
       "</style>\n",
       "<table border=\"1\" class=\"dataframe\">\n",
       "  <thead>\n",
       "    <tr style=\"text-align: right;\">\n",
       "      <th></th>\n",
       "      <th>nationality</th>\n",
       "      <th>age</th>\n",
       "      <th>position</th>\n",
       "      <th>club_id</th>\n",
       "    </tr>\n",
       "  </thead>\n",
       "  <tbody>\n",
       "    <tr>\n",
       "      <th>288</th>\n",
       "      <td>Sweden</td>\n",
       "      <td>23</td>\n",
       "      <td>CB</td>\n",
       "      <td>12</td>\n",
       "    </tr>\n",
       "    <tr>\n",
       "      <th>35</th>\n",
       "      <td>Poland</td>\n",
       "      <td>37</td>\n",
       "      <td>GK</td>\n",
       "      <td>2</td>\n",
       "    </tr>\n",
       "    <tr>\n",
       "      <th>451</th>\n",
       "      <td>Ireland</td>\n",
       "      <td>30</td>\n",
       "      <td>GK</td>\n",
       "      <td>20</td>\n",
       "    </tr>\n",
       "    <tr>\n",
       "      <th>304</th>\n",
       "      <td>Netherlands</td>\n",
       "      <td>28</td>\n",
       "      <td>AM</td>\n",
       "      <td>13</td>\n",
       "    </tr>\n",
       "  </tbody>\n",
       "</table>\n",
       "</div>"
      ],
      "text/plain": [
       "     nationality age position  club_id\n",
       "288       Sweden  23       CB       12\n",
       "35        Poland  37       GK        2\n",
       "451      Ireland  30       GK       20\n",
       "304  Netherlands  28       AM       13"
      ]
     },
     "execution_count": 397,
     "metadata": {
      "tags": []
     },
     "output_type": "execute_result"
    }
   ],
   "source": [
    "df_random"
   ]
  },
  {
   "cell_type": "code",
   "execution_count": 0,
   "metadata": {
    "colab": {},
    "colab_type": "code",
    "id": "dv-50RdzIxcm"
   },
   "outputs": [],
   "source": [
    "# adding a row"
   ]
  },
  {
   "cell_type": "code",
   "execution_count": 399,
   "metadata": {
    "colab": {
     "base_uri": "https://localhost:8080/",
     "height": 206
    },
    "colab_type": "code",
    "id": "y8M1SIxMI3eT",
    "outputId": "d4dcc53c-bca2-4f91-8f2e-e3c640b9fbff"
   },
   "outputs": [
    {
     "data": {
      "text/html": [
       "<div>\n",
       "<style scoped>\n",
       "    .dataframe tbody tr th:only-of-type {\n",
       "        vertical-align: middle;\n",
       "    }\n",
       "\n",
       "    .dataframe tbody tr th {\n",
       "        vertical-align: top;\n",
       "    }\n",
       "\n",
       "    .dataframe thead th {\n",
       "        text-align: right;\n",
       "    }\n",
       "</style>\n",
       "<table border=\"1\" class=\"dataframe\">\n",
       "  <thead>\n",
       "    <tr style=\"text-align: right;\">\n",
       "      <th></th>\n",
       "      <th>nationality</th>\n",
       "      <th>age</th>\n",
       "      <th>position</th>\n",
       "      <th>club_id</th>\n",
       "    </tr>\n",
       "  </thead>\n",
       "  <tbody>\n",
       "    <tr>\n",
       "      <th>288</th>\n",
       "      <td>Sweden</td>\n",
       "      <td>23</td>\n",
       "      <td>CB</td>\n",
       "      <td>12</td>\n",
       "    </tr>\n",
       "    <tr>\n",
       "      <th>35</th>\n",
       "      <td>Poland</td>\n",
       "      <td>37</td>\n",
       "      <td>GK</td>\n",
       "      <td>2</td>\n",
       "    </tr>\n",
       "    <tr>\n",
       "      <th>451</th>\n",
       "      <td>Ireland</td>\n",
       "      <td>30</td>\n",
       "      <td>GK</td>\n",
       "      <td>20</td>\n",
       "    </tr>\n",
       "    <tr>\n",
       "      <th>304</th>\n",
       "      <td>Netherlands</td>\n",
       "      <td>28</td>\n",
       "      <td>AM</td>\n",
       "      <td>13</td>\n",
       "    </tr>\n",
       "    <tr>\n",
       "      <th>307</th>\n",
       "      <td>Norway</td>\n",
       "      <td>24</td>\n",
       "      <td>CM</td>\n",
       "      <td>20</td>\n",
       "    </tr>\n",
       "  </tbody>\n",
       "</table>\n",
       "</div>"
      ],
      "text/plain": [
       "     nationality age position  club_id\n",
       "288       Sweden  23       CB       12\n",
       "35        Poland  37       GK        2\n",
       "451      Ireland  30       GK       20\n",
       "304  Netherlands  28       AM       13\n",
       "307       Norway  24       CM       20"
      ]
     },
     "execution_count": 399,
     "metadata": {
      "tags": []
     },
     "output_type": "execute_result"
    }
   ],
   "source": [
    "df_random.append(pd.Series({'nationality': 'Norway', 'age': 24, 'position': 'CM', 'club_id': 20}, name=307))"
   ]
  },
  {
   "cell_type": "code",
   "execution_count": 0,
   "metadata": {
    "colab": {},
    "colab_type": "code",
    "id": "Na42scepJHUq"
   },
   "outputs": [],
   "source": [
    "# add a column"
   ]
  },
  {
   "cell_type": "code",
   "execution_count": 402,
   "metadata": {
    "colab": {
     "base_uri": "https://localhost:8080/",
     "height": 175
    },
    "colab_type": "code",
    "id": "4uGPQ6s-JJys",
    "outputId": "a449f34c-cacd-4459-bcb3-bd30eceda2d3"
   },
   "outputs": [
    {
     "data": {
      "text/html": [
       "<div>\n",
       "<style scoped>\n",
       "    .dataframe tbody tr th:only-of-type {\n",
       "        vertical-align: middle;\n",
       "    }\n",
       "\n",
       "    .dataframe tbody tr th {\n",
       "        vertical-align: top;\n",
       "    }\n",
       "\n",
       "    .dataframe thead th {\n",
       "        text-align: right;\n",
       "    }\n",
       "</style>\n",
       "<table border=\"1\" class=\"dataframe\">\n",
       "  <thead>\n",
       "    <tr style=\"text-align: right;\">\n",
       "      <th></th>\n",
       "      <th>nationality</th>\n",
       "      <th>age</th>\n",
       "      <th>position</th>\n",
       "      <th>club_id</th>\n",
       "      <th>years_in_league</th>\n",
       "    </tr>\n",
       "  </thead>\n",
       "  <tbody>\n",
       "    <tr>\n",
       "      <th>288</th>\n",
       "      <td>Sweden</td>\n",
       "      <td>23</td>\n",
       "      <td>CB</td>\n",
       "      <td>12</td>\n",
       "      <td>3</td>\n",
       "    </tr>\n",
       "    <tr>\n",
       "      <th>35</th>\n",
       "      <td>Poland</td>\n",
       "      <td>37</td>\n",
       "      <td>GK</td>\n",
       "      <td>2</td>\n",
       "      <td>6</td>\n",
       "    </tr>\n",
       "    <tr>\n",
       "      <th>451</th>\n",
       "      <td>Ireland</td>\n",
       "      <td>30</td>\n",
       "      <td>GK</td>\n",
       "      <td>20</td>\n",
       "      <td>1</td>\n",
       "    </tr>\n",
       "    <tr>\n",
       "      <th>304</th>\n",
       "      <td>Netherlands</td>\n",
       "      <td>28</td>\n",
       "      <td>AM</td>\n",
       "      <td>13</td>\n",
       "      <td>10</td>\n",
       "    </tr>\n",
       "  </tbody>\n",
       "</table>\n",
       "</div>"
      ],
      "text/plain": [
       "     nationality age position  club_id  years_in_league\n",
       "288       Sweden  23       CB       12                3\n",
       "35        Poland  37       GK        2                6\n",
       "451      Ireland  30       GK       20                1\n",
       "304  Netherlands  28       AM       13               10"
      ]
     },
     "execution_count": 402,
     "metadata": {
      "tags": []
     },
     "output_type": "execute_result"
    }
   ],
   "source": [
    "df_random.assign(years_in_league=[3, 6, 1, 10])"
   ]
  },
  {
   "cell_type": "code",
   "execution_count": 0,
   "metadata": {
    "colab": {},
    "colab_type": "code",
    "id": "57bdjwsUJTtF"
   },
   "outputs": [],
   "source": [
    "# 3"
   ]
  },
  {
   "cell_type": "code",
   "execution_count": 407,
   "metadata": {
    "colab": {
     "base_uri": "https://localhost:8080/",
     "height": 34
    },
    "colab_type": "code",
    "id": "fFhrIY9AJd-l",
    "outputId": "988a82ff-91de-42ba-d7c5-4d90d0472dfd"
   },
   "outputs": [
    {
     "name": "stdout",
     "output_type": "stream",
     "text": [
      "100 loops, best of 3: 4.4 ms per loop\n"
     ]
    }
   ],
   "source": [
    "%%timeit\n",
    "df_random.append(pd.Series({'nationality': 'Norway', 'age': 24, 'position': 'CM', 'club_id': 20}, name=307))"
   ]
  },
  {
   "cell_type": "code",
   "execution_count": 408,
   "metadata": {
    "colab": {
     "base_uri": "https://localhost:8080/",
     "height": 34
    },
    "colab_type": "code",
    "id": "e-UAPXR_JhPE",
    "outputId": "087acf57-fb84-49b9-dad3-3a2641f473da"
   },
   "outputs": [
    {
     "name": "stdout",
     "output_type": "stream",
     "text": [
      "1000 loops, best of 3: 623 µs per loop\n"
     ]
    }
   ],
   "source": [
    "%%timeit\n",
    "df_random.assign(years_in_league=[3, 6, 1, 10])"
   ]
  },
  {
   "cell_type": "code",
   "execution_count": 409,
   "metadata": {
    "colab": {
     "base_uri": "https://localhost:8080/",
     "height": 34
    },
    "colab_type": "code",
    "id": "cdGR5xsOJm0i",
    "outputId": "5c226a15-7108-491a-a122-4504a15249db"
   },
   "outputs": [
    {
     "data": {
      "text/plain": [
       "7.062600321027287"
      ]
     },
     "execution_count": 409,
     "metadata": {
      "tags": []
     },
     "output_type": "execute_result"
    }
   ],
   "source": [
    "4400/623"
   ]
  },
  {
   "cell_type": "code",
   "execution_count": 0,
   "metadata": {
    "colab": {},
    "colab_type": "code",
    "id": "b96KxzdzJstN"
   },
   "outputs": [],
   "source": []
  }
 ],
 "metadata": {
  "colab": {
   "collapsed_sections": [
    "kNS1MVY4UZGb",
    "A-wHK16ahqY2",
    "GzTO9Y3fQ4DF",
    "C7nzP7BQjspS",
    "BHO3p8hesxk3",
    "zK13WRKRMo3F",
    "EevHhOEIuPA8",
    "EAK3ZQ__xo7g",
    "psAdcETH1EHF",
    "fXdfYpRj2qAF",
    "-4YiHimJ_zpx",
    "dBWGsSLiy_4I",
    "FciCOxOT5o0c",
    "la2y75JmG953",
    "vf1oAmZ6JEHe",
    "YuAT5K33NTfj",
    "gn5prJiTRrqm",
    "ZMbH7JDwU37N",
    "ViiO_59qlUXR"
   ],
   "name": "DataFrames In Depth",
   "provenance": []
  },
  "kernelspec": {
   "display_name": "Python 3 (ipykernel)",
   "language": "python",
   "name": "python3"
  },
  "language_info": {
   "codemirror_mode": {
    "name": "ipython",
    "version": 3
   },
   "file_extension": ".py",
   "mimetype": "text/x-python",
   "name": "python",
   "nbconvert_exporter": "python",
   "pygments_lexer": "ipython3",
   "version": "3.10.9"
  }
 },
 "nbformat": 4,
 "nbformat_minor": 1
}
