{
 "cells": [
  {
   "cell_type": "code",
   "execution_count": 21,
   "id": "fc5a124d",
   "metadata": {},
   "outputs": [],
   "source": [
    "import pandas as pd\n",
    "import gspread  #Google Sheets unit  https://docs.gspread.org/en/latest/\n",
    "import gspread_dataframe as gd # gspread https://pypi.org/project/gspread-dataframe/\n",
    "from google.oauth2.service_account import Credentials        \n",
    "from google.auth.transport.requests import AuthorizedSession\n"
   ]
  },
  {
   "cell_type": "code",
   "execution_count": 22,
   "id": "cccb6d41",
   "metadata": {},
   "outputs": [],
   "source": [
    "    scopes =[\"https://spreadsheets.google.com/feeds\",'https://www.googleapis.com/auth/spreadsheets',\"https://www.googleapis.com/auth/drive.file\",\"https://www.googleapis.com/auth/drive\"]\n",
    "    credentials = Credentials.from_service_account_file('my_cred.json', scopes=scopes)\n",
    "    gc = gspread.Client(auth=credentials)\n",
    "    gc.session = AuthorizedSession(credentials)\n",
    "    \n",
    "    wks = gc.open('gcloud_example').worksheet('Sheet1')  #opens connection to Google Sheets"
   ]
  },
  {
   "cell_type": "code",
   "execution_count": 23,
   "id": "22840139",
   "metadata": {},
   "outputs": [
    {
     "data": {
      "text/plain": [
       "[['name', 'fruit'], ['sai', 'apple'], ['tim', 'cherry']]"
      ]
     },
     "execution_count": 23,
     "metadata": {},
     "output_type": "execute_result"
    }
   ],
   "source": [
    "#gets all values as a list of a list\n",
    "my_list = wks.get_all_values()\n",
    "my_list"
   ]
  },
  {
   "cell_type": "code",
   "execution_count": 24,
   "id": "2b9c7bf5",
   "metadata": {},
   "outputs": [
    {
     "data": {
      "text/plain": [
       "[{'name': 'sai', 'fruit': 'apple'}, {'name': 'tim', 'fruit': 'cherry'}]"
      ]
     },
     "execution_count": 24,
     "metadata": {},
     "output_type": "execute_result"
    }
   ],
   "source": [
    "#gets all values as a list of dictionarys\n",
    "my_dict = wks.get_all_records()\n",
    "my_dict"
   ]
  },
  {
   "cell_type": "code",
   "execution_count": 26,
   "id": "b92fe907",
   "metadata": {},
   "outputs": [
    {
     "data": {
      "text/plain": [
       "{'spreadsheetId': '19z5-gypPHB4vIRTiJGtb6leDumYzruPWxsHx9PPI0HE',\n",
       " 'updatedRange': 'Sheet1!A4',\n",
       " 'updatedRows': 1,\n",
       " 'updatedColumns': 1,\n",
       " 'updatedCells': 1}"
      ]
     },
     "execution_count": 26,
     "metadata": {},
     "output_type": "execute_result"
    }
   ],
   "source": [
    "wks.update_cell(4, 1, 'Sanjana') #row, column"
   ]
  },
  {
   "cell_type": "code",
   "execution_count": 27,
   "id": "c2a5faed",
   "metadata": {},
   "outputs": [
    {
     "data": {
      "text/plain": [
       "[['name', 'fruit'], ['sai', 'apple'], ['tim', 'cherry'], ['Sanjana', '']]"
      ]
     },
     "execution_count": 27,
     "metadata": {},
     "output_type": "execute_result"
    }
   ],
   "source": [
    "# Let's repull the data\n",
    "my_list = wks.get_all_values()\n",
    "my_list"
   ]
  },
  {
   "cell_type": "code",
   "execution_count": 28,
   "id": "24261e1b",
   "metadata": {},
   "outputs": [
    {
     "data": {
      "text/plain": [
       "['name', 'fruit']"
      ]
     },
     "execution_count": 28,
     "metadata": {},
     "output_type": "execute_result"
    }
   ],
   "source": [
    "# creates the column headers\n",
    "df_head = my_list[0]\n",
    "df_head"
   ]
  },
  {
   "cell_type": "code",
   "execution_count": 29,
   "id": "91231ef7",
   "metadata": {},
   "outputs": [
    {
     "data": {
      "text/html": [
       "<div>\n",
       "<style scoped>\n",
       "    .dataframe tbody tr th:only-of-type {\n",
       "        vertical-align: middle;\n",
       "    }\n",
       "\n",
       "    .dataframe tbody tr th {\n",
       "        vertical-align: top;\n",
       "    }\n",
       "\n",
       "    .dataframe thead th {\n",
       "        text-align: right;\n",
       "    }\n",
       "</style>\n",
       "<table border=\"1\" class=\"dataframe\">\n",
       "  <thead>\n",
       "    <tr style=\"text-align: right;\">\n",
       "      <th></th>\n",
       "      <th>name</th>\n",
       "      <th>fruit</th>\n",
       "    </tr>\n",
       "  </thead>\n",
       "  <tbody>\n",
       "    <tr>\n",
       "      <th>0</th>\n",
       "      <td>sai</td>\n",
       "      <td>apple</td>\n",
       "    </tr>\n",
       "    <tr>\n",
       "      <th>1</th>\n",
       "      <td>tim</td>\n",
       "      <td>cherry</td>\n",
       "    </tr>\n",
       "    <tr>\n",
       "      <th>2</th>\n",
       "      <td>Sanjana</td>\n",
       "      <td></td>\n",
       "    </tr>\n",
       "  </tbody>\n",
       "</table>\n",
       "</div>"
      ],
      "text/plain": [
       "      name   fruit\n",
       "0      sai   apple\n",
       "1      tim  cherry\n",
       "2  Sanjana        "
      ]
     },
     "execution_count": 29,
     "metadata": {},
     "output_type": "execute_result"
    }
   ],
   "source": [
    "# puts it into dataframe\n",
    "my_df = pd.DataFrame(data = my_list[1:], columns = df_head)\n",
    "my_df"
   ]
  },
  {
   "cell_type": "code",
   "execution_count": 30,
   "id": "8a07b90b",
   "metadata": {},
   "outputs": [
    {
     "data": {
      "text/html": [
       "<div>\n",
       "<style scoped>\n",
       "    .dataframe tbody tr th:only-of-type {\n",
       "        vertical-align: middle;\n",
       "    }\n",
       "\n",
       "    .dataframe tbody tr th {\n",
       "        vertical-align: top;\n",
       "    }\n",
       "\n",
       "    .dataframe thead th {\n",
       "        text-align: right;\n",
       "    }\n",
       "</style>\n",
       "<table border=\"1\" class=\"dataframe\">\n",
       "  <thead>\n",
       "    <tr style=\"text-align: right;\">\n",
       "      <th></th>\n",
       "      <th>name</th>\n",
       "      <th>fruit</th>\n",
       "      <th>qty</th>\n",
       "    </tr>\n",
       "  </thead>\n",
       "  <tbody>\n",
       "    <tr>\n",
       "      <th>0</th>\n",
       "      <td>sai</td>\n",
       "      <td>apple</td>\n",
       "      <td>1</td>\n",
       "    </tr>\n",
       "    <tr>\n",
       "      <th>1</th>\n",
       "      <td>tim</td>\n",
       "      <td>cherry</td>\n",
       "      <td>3</td>\n",
       "    </tr>\n",
       "    <tr>\n",
       "      <th>2</th>\n",
       "      <td>Sanjana</td>\n",
       "      <td></td>\n",
       "      <td>5</td>\n",
       "    </tr>\n",
       "  </tbody>\n",
       "</table>\n",
       "</div>"
      ],
      "text/plain": [
       "      name   fruit  qty\n",
       "0      sai   apple    1\n",
       "1      tim  cherry    3\n",
       "2  Sanjana            5"
      ]
     },
     "execution_count": 30,
     "metadata": {},
     "output_type": "execute_result"
    }
   ],
   "source": [
    "# let's do a data transformation\n",
    "my_df['qty'] = [1, 3, 5]\n",
    "my_df"
   ]
  },
  {
   "cell_type": "code",
   "execution_count": 31,
   "id": "aafbec2e",
   "metadata": {},
   "outputs": [],
   "source": [
    "# lets write our new dataframe to Google Sheets\n",
    "# calls the gspread-dataframe function\n",
    "gd.set_with_dataframe(wks, my_df)"
   ]
  },
  {
   "cell_type": "code",
   "execution_count": null,
   "id": "d8ed202e",
   "metadata": {},
   "outputs": [],
   "source": []
  },
  {
   "cell_type": "code",
   "execution_count": 32,
   "id": "580911a2",
   "metadata": {},
   "outputs": [],
   "source": [
    "# function takes in a datframe and adds another row at the bottom\n",
    "def my_func():\n",
    "    scopes =[\"https://spreadsheets.google.com/feeds\",'https://www.googleapis.com/auth/spreadsheets',\"https://www.googleapis.com/auth/drive.file\",\"https://www.googleapis.com/auth/drive\"]\n",
    "    credentials = Credentials.from_service_account_file('my_cred.json', scopes=scopes)\n",
    "    gc = gspread.Client(auth=credentials)\n",
    "    gc.session = AuthorizedSession(credentials)\n",
    "    wks = gc.open('gcloud_example').worksheet('Sheet2')  #opens connection to Google Sheets\n",
    "    \n",
    "    \n",
    "    my_list = wks.get_all_values()\n",
    "    df_head = my_list[0]\n",
    "    my_df = pd.DataFrame(data = my_list[1:], columns = df_head)\n",
    "    new_row={'name': 'fred', 'fruit': 'banana'}\n",
    "    my_df = my_df.append(new_row, ignore_index=True)\n",
    "    print (my_df)\n",
    "    \n",
    "    gd.set_with_dataframe(wks, my_df)\n",
    "    "
   ]
  },
  {
   "cell_type": "code",
   "execution_count": 34,
   "id": "df6c8434",
   "metadata": {},
   "outputs": [
    {
     "name": "stdout",
     "output_type": "stream",
     "text": [
      "   name   fruit\n",
      "0   sai   apple\n",
      "1   tim  cherry\n",
      "2  fred  banana\n",
      "3  fred  banana\n"
     ]
    }
   ],
   "source": [
    "my_func()"
   ]
  },
  {
   "cell_type": "code",
   "execution_count": null,
   "id": "77815fe6",
   "metadata": {},
   "outputs": [],
   "source": [
    "g"
   ]
  }
 ],
 "metadata": {
  "kernelspec": {
   "display_name": "Python 3.7.4 64-bit ('datascience': conda)",
   "language": "python",
   "name": "python37464bitdatascienceconda8f907857efa0401281872ced38723bf8"
  },
  "language_info": {
   "codemirror_mode": {
    "name": "ipython",
    "version": 3
   },
   "file_extension": ".py",
   "mimetype": "text/x-python",
   "name": "python",
   "nbconvert_exporter": "python",
   "pygments_lexer": "ipython3",
   "version": "3.7.11"
  }
 },
 "nbformat": 4,
 "nbformat_minor": 5
}
