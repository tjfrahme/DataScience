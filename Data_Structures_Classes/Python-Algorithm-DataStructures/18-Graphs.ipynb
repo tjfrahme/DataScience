{
 "cells": [
  {
   "cell_type": "code",
   "execution_count": null,
   "metadata": {},
   "outputs": [],
   "source": [
    "# Vertex - called a node\n",
    "\n",
    "# Edge - connects two vertices to show that there is a relationship b/ them\n",
    "# May be one way or two way\n",
    "\n",
    "# Path is a sequences of vertices\n",
    "\n",
    "\n",
    "# Adjecency Matrix\n",
    "# Each of the rows and columsn represent a vertex in the graph\n",
    "# Value stored in the cell at the intersection of row v and column w indicate if there is\n",
    "# and edge from vertex v to vertex w\n",
    "\n",
    "# Adjacency List\n",
    "# Keep a master list of all of the vertices in the Graph object and then each vertex object in the \n",
    "# graph maintains a list of the other vertices that it is connected to\n",
    "# Typicaly done through dictionary"
   ]
  }
 ],
 "metadata": {
  "kernelspec": {
   "display_name": "Python 3",
   "language": "python",
   "name": "python3"
  },
  "language_info": {
   "codemirror_mode": {
    "name": "ipython",
    "version": 3
   },
   "file_extension": ".py",
   "mimetype": "text/x-python",
   "name": "python",
   "nbconvert_exporter": "python",
   "pygments_lexer": "ipython3",
   "version": "3.7.0"
  }
 },
 "nbformat": 4,
 "nbformat_minor": 2
}
